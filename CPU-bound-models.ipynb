{
 "cells": [
  {
   "cell_type": "markdown",
   "id": "2c9b5fa4",
   "metadata": {},
   "source": [
    "# 寻找CPU-bound模型\n",
    "统计不同DNN模型的计算强度，以及其在指定device上的计算特性，寻找CPU-bound的DNN模型来测试FSS的加速效果"
   ]
  },
  {
   "cell_type": "code",
   "execution_count": 2,
   "id": "f0ab6548",
   "metadata": {},
   "outputs": [],
   "source": [
    "import os \n",
    "os.environ[\"CUDA_VISIBLE_DEVICES\"]=\"1\"\n",
    "import torch\n",
    "import sys\n",
    "sys.path.append(\"/workspace/packages/autoqnn\")\n",
    "import autoqnn"
   ]
  },
  {
   "cell_type": "markdown",
   "id": "bdf07de0",
   "metadata": {},
   "source": [
    "以AlexNet和ResNet18为例，测试这两个模型在RTX2080ti上的计算性能"
   ]
  },
  {
   "cell_type": "code",
   "execution_count": 3,
   "id": "b1a8455b",
   "metadata": {},
   "outputs": [],
   "source": [
    "import torchvision\n",
    "alexnet = torchvision.models.alexnet()\n",
    "resnet18 = torchvision.models.resnet18()"
   ]
  },
  {
   "cell_type": "code",
   "execution_count": 4,
   "id": "58246238",
   "metadata": {},
   "outputs": [
    {
     "name": "stdout",
     "output_type": "stream",
     "text": [
      "Flops, Params and Mems of alexnet is [0.71GFLOPs,61.10M, 237.31M]\n",
      "Flops, Params and Mems of resnet18 is [1.82GFLOPs,11.69M, 75.23M]\n"
     ]
    }
   ],
   "source": [
    "alexnet_flops,_,alexnet_mem = autoqnn.utils.get_flops_params_mems(alexnet,(2,3,224,224),32,32,\"alexnet\")\n",
    "resnet_flops,_,resnet_mem = autoqnn.utils.get_flops_params_mems(resnet18,(2,3,224,224),32,32,\"resnet18\")\n",
    "# !pip install thop"
   ]
  },
  {
   "cell_type": "code",
   "execution_count": null,
   "id": "650ef2b6",
   "metadata": {},
   "outputs": [],
   "source": [
    "计算两个模型的计算强度（flops/mem）"
   ]
  },
  {
   "cell_type": "code",
   "execution_count": 5,
   "id": "4f3a5511",
   "metadata": {},
   "outputs": [
    {
     "name": "stdout",
     "output_type": "stream",
     "text": [
      "2.872081575209959 23.060971033535996\n"
     ]
    }
   ],
   "source": [
    "alexnet_compintensity = alexnet_flops/alexnet_mem\n",
    "resnet_compintensity = resnet_flops/resnet_mem\n",
    "print(alexnet_compintensity,resnet_compintensity)"
   ]
  },
  {
   "cell_type": "markdown",
   "id": "a0c1f744",
   "metadata": {},
   "source": [
    "获取计算设备的计算强度上限"
   ]
  },
  {
   "cell_type": "code",
   "execution_count": 6,
   "id": "c44e3a75",
   "metadata": {},
   "outputs": [],
   "source": [
    "gpus={\n",
    "# device_name:[FLOPS, Bandwidth, Power]\n",
    "#      \"QS-855+\":[1.032*10**12,34.1*2**30,10],\n",
    "#      \"QS-888+\":[1.72*10**12,51.2*2**30,10],\n",
    "    \"1080ti\":[10.616*10**12,484*2**30,250],\n",
    "     \"2080ti\":[11.75*10**12,616*2**30,250],\n",
    "     \"3090\":[29.28*10**12,936.2*2**30,350],\n",
    "#      \"A6000\":[31.29*10**12,768*2**30,300]\n",
    "     }\n",
    "def get_device_roofline(devices,max_I=30):\n",
    "    devices_Is={k:v[0]/v[1] for k,v in devices.items()}\n",
    "    devices_lines={}\n",
    "    for k in devices.keys():\n",
    "        I = devices_Is[k]\n",
    "        f = devices[k][0]/10**12\n",
    "        b = devices[k][1]\n",
    "        line1=[[0,I],[0,f]]\n",
    "        line2=[[I,max_I],[f,f]]\n",
    "        devices_lines[k] = [line1,line2]\n",
    "    return devices_Is, devices_lines\n",
    "gpus_Is, gpus_lines = get_device_roofline(gpus)"
   ]
  },
  {
   "cell_type": "code",
   "execution_count": 12,
   "id": "12a0341e",
   "metadata": {},
   "outputs": [],
   "source": [
    "devices={# device_name:[FLOPS, Bandwidth, Power]\n",
    "     \"QS-855+\":[1.032*10**12,34.1*2**30,10],\n",
    "     \"QS-888+\":[1.72*10**12,51.2*2**30,10],\n",
    "     \"1080ti\":[10.616*10**12,484*2**30,250],\n",
    "     \"2080ti\":[11.75*10**12,616*2**30,250],\n",
    "     \"3090\":[29.28*10**12,936.2*2**30,350],\n",
    "     \"A6000\":[31.29*10**12,768*2**30,300],\n",
    "     \"Xeon E5-2678 v3\":[1.9/2*10**12,68*2**30,120],\n",
    "     \"Apple A14 Bionic\":[1.536*10**12,34.1*2**30,10],\n",
    "     \"Kirin 9000\":[2.332*10**12,44*2**30,10],\n",
    "     }\n",
    "\n",
    "def get_attainable_FLOPS(model,device_key,w_bit=32,a_bit=32,model_name=\"model\"):\n",
    "    '''\n",
    "    The candidate devices includes: \n",
    "    ['QS-855+', 'QS-888+', '1080ti', '2080ti', '3090', 'A6000', 'Xeon E5-2678 v3',\n",
    "    'Apple A14 Bionic', 'Kirin 9000']\n",
    "    '''\n",
    "    # get model computing intensity\n",
    "    flops,_,mems=autoqnn.utils.get_flops_params_mems(model,(2,3,224,224),32,32,model_name)\n",
    "    intensity = flops/mems\n",
    "    # get device computing intensity\n",
    "    flops,bandwidth,_ = devices.get(device_key)\n",
    "    device_intensity = flops/bandwidth\n",
    "    # get attainable performance\n",
    "    if intensity>=device_intensity:\n",
    "        attainable_flops = flops\n",
    "        print(\"%s is Compute-bound model\"%(model_name))\n",
    "    else:\n",
    "        # model_flops/model_mems * device_bandwidth\n",
    "        attainable_flops = intensity*bandwidth\n",
    "        print(\"%s is IO-bound model\"%(model_name))\n",
    "    return attainable_flops"
   ]
  },
  {
   "cell_type": "code",
   "execution_count": 16,
   "id": "8009adb9",
   "metadata": {},
   "outputs": [
    {
     "name": "stdout",
     "output_type": "stream",
     "text": [
      "Flops, Params and Mems of alexnet is [0.71GFLOPs,61.10M, 237.31M]\n",
      "alexnet is IO-bound model\n",
      "Attainable FLOPS is 1899.6665 GFLOPS\n"
     ]
    }
   ],
   "source": [
    "alexnet_af = get_attainable_FLOPS(alexnet,gpus[\"2080ti\"],model_name=\"alexnet\")\n",
    "print(\"Attainable FLOPS is %.4f GFLOPS\"%(alexnet_af/1000**3))"
   ]
  },
  {
   "cell_type": "code",
   "execution_count": 17,
   "id": "a737edb2",
   "metadata": {},
   "outputs": [
    {
     "name": "stdout",
     "output_type": "stream",
     "text": [
      "Flops, Params and Mems of resnet18 is [1.82GFLOPs,11.69M, 75.23M]\n",
      "resnet18 is Compute-bound model\n",
      "Attainable FLOPS is 11750.0000 GFLOPS\n"
     ]
    }
   ],
   "source": [
    "resnet_af = get_attainable_FLOPS(resnet18,gpus[\"2080ti\"],model_name=\"resnet18\")\n",
    "print(\"Attainable FLOPS is %.4f GFLOPS\"%(resnet_af/1000**3))"
   ]
  },
  {
   "cell_type": "code",
   "execution_count": null,
   "id": "207e5cfa",
   "metadata": {},
   "outputs": [],
   "source": []
  }
 ],
 "metadata": {
  "kernelspec": {
   "display_name": "Python 3",
   "language": "python",
   "name": "python3"
  },
  "language_info": {
   "codemirror_mode": {
    "name": "ipython",
    "version": 3
   },
   "file_extension": ".py",
   "mimetype": "text/x-python",
   "name": "python",
   "nbconvert_exporter": "python",
   "pygments_lexer": "ipython3",
   "version": "3.8.5"
  }
 },
 "nbformat": 4,
 "nbformat_minor": 5
}
