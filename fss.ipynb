{
 "cells": [
  {
   "cell_type": "code",
   "execution_count": 1,
   "id": "e95b1196",
   "metadata": {},
   "outputs": [],
   "source": [
    "import os\n",
    "os.environ[\"CUDA_VISIBLE_DEVICES\"]=\"1\"\n",
    "import sys\n",
    "sys.path.append(\"/workspace/notebooks/\")\n",
    "sys.path.append(\"/workspace/notebooks/FSS/\")\n",
    "import torch\n",
    "import numpy as np\n",
    "import matplotlib.pyplot as plt"
   ]
  },
  {
   "cell_type": "markdown",
   "id": "ad671a21",
   "metadata": {},
   "source": [
    "# ResNet18 on Cifar10 Test"
   ]
  },
  {
   "cell_type": "code",
   "execution_count": 2,
   "id": "dfd6639e",
   "metadata": {},
   "outputs": [],
   "source": [
    "from resnet import ResNetForCifar10,BasicBlock\n",
    "model = ResNetForCifar10(BasicBlock, [2, 2, 2, 2], num_classes=10)"
   ]
  },
  {
   "cell_type": "code",
   "execution_count": 3,
   "id": "34d186d3",
   "metadata": {},
   "outputs": [],
   "source": [
    "# cifar10\n",
    "import torchvision\n",
    "import torchvision.datasets as datasets\n",
    "import torchvision.transforms as transforms\n",
    "\n",
    "transform_train = transforms.Compose([\n",
    "    transforms.RandomHorizontalFlip(),\n",
    "    transforms.RandomGrayscale(),\n",
    "    transforms.ToTensor(),\n",
    "    transforms.Normalize((0.5, 0.5, 0.5), (0.5, 0.5, 0.5))])\n",
    "transform_test = transforms.Compose([     \n",
    "    transforms.ToTensor(),\n",
    "    transforms.Normalize((0.5, 0.5, 0.5), (0.5, 0.5, 0.5))])\n",
    "\n",
    "data_path = \"/workspace/dataset/cifar10\"\n",
    "train_data = datasets.CIFAR10(root=data_path, train=True,transform=transform_train,download=False)\n",
    "test_data =datasets.CIFAR10(root=data_path, train=False,transform=transform_test,download=False)"
   ]
  },
  {
   "cell_type": "code",
   "execution_count": 14,
   "id": "03566fcc",
   "metadata": {
    "collapsed": true,
    "jupyter": {
     "outputs_hidden": true
    }
   },
   "outputs": [
    {
     "data": {
      "application/vnd.jupyter.widget-view+json": {
       "model_id": "2149dd49d6b148b3b863a3e69ff41517",
       "version_major": 2,
       "version_minor": 0
      },
      "text/plain": [
       "Training epoch 1/100:   0%|          | 0/250 [00:00<?, ?it/s]"
      ]
     },
     "metadata": {},
     "output_type": "display_data"
    },
    {
     "data": {
      "application/vnd.jupyter.widget-view+json": {
       "model_id": "d1ece541b64046d398606a2704934232",
       "version_major": 2,
       "version_minor": 0
      },
      "text/plain": [
       "Test...:   0%|          | 0/50 [00:00<?, ?it/s]"
      ]
     },
     "metadata": {},
     "output_type": "display_data"
    },
    {
     "name": "stdout",
     "output_type": "stream",
     "text": [
      "Epoch 1/100: lr=1.0000, Training loss = 0.867427, test accuracy = 0.681700\n"
     ]
    },
    {
     "data": {
      "application/vnd.jupyter.widget-view+json": {
       "model_id": "f33dfdd2b0db417bb34a4d9ccf89e0aa",
       "version_major": 2,
       "version_minor": 0
      },
      "text/plain": [
       "Training epoch 2/100:   0%|          | 0/250 [00:00<?, ?it/s]"
      ]
     },
     "metadata": {},
     "output_type": "display_data"
    },
    {
     "data": {
      "application/vnd.jupyter.widget-view+json": {
       "model_id": "7a4224b911784059a10bfa78d5b0e7a2",
       "version_major": 2,
       "version_minor": 0
      },
      "text/plain": [
       "Test...:   0%|          | 0/50 [00:00<?, ?it/s]"
      ]
     },
     "metadata": {},
     "output_type": "display_data"
    },
    {
     "name": "stdout",
     "output_type": "stream",
     "text": [
      "Epoch 2/100: lr=1.0000, Training loss = 0.751694, test accuracy = 0.706600\n"
     ]
    },
    {
     "data": {
      "application/vnd.jupyter.widget-view+json": {
       "model_id": "4e1fc20f59f44923ac8ed7e78a73be73",
       "version_major": 2,
       "version_minor": 0
      },
      "text/plain": [
       "Training epoch 3/100:   0%|          | 0/250 [00:00<?, ?it/s]"
      ]
     },
     "metadata": {},
     "output_type": "display_data"
    },
    {
     "data": {
      "application/vnd.jupyter.widget-view+json": {
       "model_id": "d0e64995b1c74cffaa76eb1149e487f2",
       "version_major": 2,
       "version_minor": 0
      },
      "text/plain": [
       "Test...:   0%|          | 0/50 [00:00<?, ?it/s]"
      ]
     },
     "metadata": {},
     "output_type": "display_data"
    },
    {
     "name": "stdout",
     "output_type": "stream",
     "text": [
      "Epoch 3/100: lr=1.0000, Training loss = 0.667377, test accuracy = 0.728100\n"
     ]
    },
    {
     "data": {
      "application/vnd.jupyter.widget-view+json": {
       "model_id": "3fdba87289dd40ae96e0691739a4a48e",
       "version_major": 2,
       "version_minor": 0
      },
      "text/plain": [
       "Training epoch 4/100:   0%|          | 0/250 [00:00<?, ?it/s]"
      ]
     },
     "metadata": {},
     "output_type": "display_data"
    },
    {
     "data": {
      "application/vnd.jupyter.widget-view+json": {
       "model_id": "54faa43d2204473bba589f2221cec9ba",
       "version_major": 2,
       "version_minor": 0
      },
      "text/plain": [
       "Test...:   0%|          | 0/50 [00:00<?, ?it/s]"
      ]
     },
     "metadata": {},
     "output_type": "display_data"
    },
    {
     "name": "stdout",
     "output_type": "stream",
     "text": [
      "Epoch 4/100: lr=1.0000, Training loss = 0.587054, test accuracy = 0.735300\n"
     ]
    },
    {
     "data": {
      "application/vnd.jupyter.widget-view+json": {
       "model_id": "35ad5da766ba46bfaa62a3f2f44fb1c9",
       "version_major": 2,
       "version_minor": 0
      },
      "text/plain": [
       "Training epoch 5/100:   0%|          | 0/250 [00:00<?, ?it/s]"
      ]
     },
     "metadata": {},
     "output_type": "display_data"
    },
    {
     "data": {
      "application/vnd.jupyter.widget-view+json": {
       "model_id": "a8444d22807042408dc3abd8d1c0f76f",
       "version_major": 2,
       "version_minor": 0
      },
      "text/plain": [
       "Test...:   0%|          | 0/50 [00:00<?, ?it/s]"
      ]
     },
     "metadata": {},
     "output_type": "display_data"
    },
    {
     "name": "stdout",
     "output_type": "stream",
     "text": [
      "Epoch 5/100: lr=1.0000, Training loss = 0.516230, test accuracy = 0.760100\n"
     ]
    },
    {
     "data": {
      "application/vnd.jupyter.widget-view+json": {
       "model_id": "84266313b66040fc802a6d21abc2f450",
       "version_major": 2,
       "version_minor": 0
      },
      "text/plain": [
       "Training epoch 6/100:   0%|          | 0/250 [00:00<?, ?it/s]"
      ]
     },
     "metadata": {},
     "output_type": "display_data"
    },
    {
     "data": {
      "application/vnd.jupyter.widget-view+json": {
       "model_id": "ae1fdea36c9c4a71873bd4225f6f60ff",
       "version_major": 2,
       "version_minor": 0
      },
      "text/plain": [
       "Test...:   0%|          | 0/50 [00:00<?, ?it/s]"
      ]
     },
     "metadata": {},
     "output_type": "display_data"
    },
    {
     "name": "stdout",
     "output_type": "stream",
     "text": [
      "Epoch 6/100: lr=1.0000, Training loss = 0.450907, test accuracy = 0.776700\n"
     ]
    },
    {
     "data": {
      "application/vnd.jupyter.widget-view+json": {
       "model_id": "02f54e37e1b94d45bc30fd25b7fd49f2",
       "version_major": 2,
       "version_minor": 0
      },
      "text/plain": [
       "Training epoch 7/100:   0%|          | 0/250 [00:00<?, ?it/s]"
      ]
     },
     "metadata": {},
     "output_type": "display_data"
    },
    {
     "data": {
      "application/vnd.jupyter.widget-view+json": {
       "model_id": "c3e037233c2c4d50ae357a433b9cbd11",
       "version_major": 2,
       "version_minor": 0
      },
      "text/plain": [
       "Test...:   0%|          | 0/50 [00:00<?, ?it/s]"
      ]
     },
     "metadata": {},
     "output_type": "display_data"
    },
    {
     "name": "stdout",
     "output_type": "stream",
     "text": [
      "Epoch 7/100: lr=1.0000, Training loss = 0.401801, test accuracy = 0.759000\n"
     ]
    },
    {
     "data": {
      "application/vnd.jupyter.widget-view+json": {
       "model_id": "3826503695f94020b754290bf8be016e",
       "version_major": 2,
       "version_minor": 0
      },
      "text/plain": [
       "Training epoch 8/100:   0%|          | 0/250 [00:00<?, ?it/s]"
      ]
     },
     "metadata": {},
     "output_type": "display_data"
    },
    {
     "data": {
      "application/vnd.jupyter.widget-view+json": {
       "model_id": "634451c334c74eb88d059ec8c2cfec18",
       "version_major": 2,
       "version_minor": 0
      },
      "text/plain": [
       "Test...:   0%|          | 0/50 [00:00<?, ?it/s]"
      ]
     },
     "metadata": {},
     "output_type": "display_data"
    },
    {
     "name": "stdout",
     "output_type": "stream",
     "text": [
      "Epoch 8/100: lr=1.0000, Training loss = 0.346904, test accuracy = 0.764800\n"
     ]
    },
    {
     "data": {
      "application/vnd.jupyter.widget-view+json": {
       "model_id": "737ae392dcd4466f9ac087d1537347ac",
       "version_major": 2,
       "version_minor": 0
      },
      "text/plain": [
       "Training epoch 9/100:   0%|          | 0/250 [00:00<?, ?it/s]"
      ]
     },
     "metadata": {},
     "output_type": "display_data"
    },
    {
     "data": {
      "application/vnd.jupyter.widget-view+json": {
       "model_id": "666a2695e9904501b475ee7a1354b04e",
       "version_major": 2,
       "version_minor": 0
      },
      "text/plain": [
       "Test...:   0%|          | 0/50 [00:00<?, ?it/s]"
      ]
     },
     "metadata": {},
     "output_type": "display_data"
    },
    {
     "name": "stdout",
     "output_type": "stream",
     "text": [
      "Epoch 9/100: lr=1.0000, Training loss = 0.302841, test accuracy = 0.773400\n"
     ]
    },
    {
     "data": {
      "application/vnd.jupyter.widget-view+json": {
       "model_id": "058116fe630a435ab465fb8b009f596a",
       "version_major": 2,
       "version_minor": 0
      },
      "text/plain": [
       "Training epoch 10/100:   0%|          | 0/250 [00:00<?, ?it/s]"
      ]
     },
     "metadata": {},
     "output_type": "display_data"
    },
    {
     "data": {
      "application/vnd.jupyter.widget-view+json": {
       "model_id": "a933629d717a49c5a9720572a4398050",
       "version_major": 2,
       "version_minor": 0
      },
      "text/plain": [
       "Test...:   0%|          | 0/50 [00:00<?, ?it/s]"
      ]
     },
     "metadata": {},
     "output_type": "display_data"
    },
    {
     "name": "stdout",
     "output_type": "stream",
     "text": [
      "Epoch 10/100: lr=1.0000, Training loss = 0.262541, test accuracy = 0.779900\n"
     ]
    },
    {
     "data": {
      "application/vnd.jupyter.widget-view+json": {
       "model_id": "75a94c072200445190d896d83b7a7ec1",
       "version_major": 2,
       "version_minor": 0
      },
      "text/plain": [
       "Training epoch 11/100:   0%|          | 0/250 [00:00<?, ?it/s]"
      ]
     },
     "metadata": {},
     "output_type": "display_data"
    },
    {
     "data": {
      "application/vnd.jupyter.widget-view+json": {
       "model_id": "76bb0fe2dc504a39a84f29e86a6fe85d",
       "version_major": 2,
       "version_minor": 0
      },
      "text/plain": [
       "Test...:   0%|          | 0/50 [00:00<?, ?it/s]"
      ]
     },
     "metadata": {},
     "output_type": "display_data"
    },
    {
     "name": "stdout",
     "output_type": "stream",
     "text": [
      "Epoch 11/100: lr=1.0000, Training loss = 0.235388, test accuracy = 0.774700\n"
     ]
    },
    {
     "data": {
      "application/vnd.jupyter.widget-view+json": {
       "model_id": "045bb2a915c046ca86ce59a3eacf841d",
       "version_major": 2,
       "version_minor": 0
      },
      "text/plain": [
       "Training epoch 12/100:   0%|          | 0/250 [00:00<?, ?it/s]"
      ]
     },
     "metadata": {},
     "output_type": "display_data"
    },
    {
     "data": {
      "application/vnd.jupyter.widget-view+json": {
       "model_id": "b324b13a787c468bb169f6eac959072e",
       "version_major": 2,
       "version_minor": 0
      },
      "text/plain": [
       "Test...:   0%|          | 0/50 [00:00<?, ?it/s]"
      ]
     },
     "metadata": {},
     "output_type": "display_data"
    },
    {
     "name": "stdout",
     "output_type": "stream",
     "text": [
      "Epoch 12/100: lr=1.0000, Training loss = 0.203101, test accuracy = 0.773000\n"
     ]
    },
    {
     "data": {
      "application/vnd.jupyter.widget-view+json": {
       "model_id": "b09f50b560c7403f98699c7d15dc56a4",
       "version_major": 2,
       "version_minor": 0
      },
      "text/plain": [
       "Training epoch 13/100:   0%|          | 0/250 [00:00<?, ?it/s]"
      ]
     },
     "metadata": {},
     "output_type": "display_data"
    },
    {
     "data": {
      "application/vnd.jupyter.widget-view+json": {
       "model_id": "9f9209e38f024c63b11a409ccc3fe534",
       "version_major": 2,
       "version_minor": 0
      },
      "text/plain": [
       "Test...:   0%|          | 0/50 [00:00<?, ?it/s]"
      ]
     },
     "metadata": {},
     "output_type": "display_data"
    },
    {
     "name": "stdout",
     "output_type": "stream",
     "text": [
      "Epoch 13/100: lr=1.0000, Training loss = 0.178123, test accuracy = 0.782700\n"
     ]
    },
    {
     "data": {
      "application/vnd.jupyter.widget-view+json": {
       "model_id": "31ce037730fe4b749509ed7294866f34",
       "version_major": 2,
       "version_minor": 0
      },
      "text/plain": [
       "Training epoch 14/100:   0%|          | 0/250 [00:00<?, ?it/s]"
      ]
     },
     "metadata": {},
     "output_type": "display_data"
    },
    {
     "data": {
      "application/vnd.jupyter.widget-view+json": {
       "model_id": "30219c96ef8d4ce7915cf80325d975d5",
       "version_major": 2,
       "version_minor": 0
      },
      "text/plain": [
       "Test...:   0%|          | 0/50 [00:00<?, ?it/s]"
      ]
     },
     "metadata": {},
     "output_type": "display_data"
    },
    {
     "name": "stdout",
     "output_type": "stream",
     "text": [
      "Epoch 14/100: lr=1.0000, Training loss = 0.159622, test accuracy = 0.781400\n"
     ]
    },
    {
     "data": {
      "application/vnd.jupyter.widget-view+json": {
       "model_id": "e36d4580c2834e1db06dd34c6f3b9c0b",
       "version_major": 2,
       "version_minor": 0
      },
      "text/plain": [
       "Training epoch 15/100:   0%|          | 0/250 [00:00<?, ?it/s]"
      ]
     },
     "metadata": {},
     "output_type": "display_data"
    },
    {
     "data": {
      "application/vnd.jupyter.widget-view+json": {
       "model_id": "d12e665c0e4f4d10b681e916ce588bfb",
       "version_major": 2,
       "version_minor": 0
      },
      "text/plain": [
       "Test...:   0%|          | 0/50 [00:00<?, ?it/s]"
      ]
     },
     "metadata": {},
     "output_type": "display_data"
    },
    {
     "name": "stdout",
     "output_type": "stream",
     "text": [
      "Epoch 15/100: lr=1.0000, Training loss = 0.171245, test accuracy = 0.794900\n"
     ]
    },
    {
     "data": {
      "application/vnd.jupyter.widget-view+json": {
       "model_id": "dff30428966344e0b2598ed322001ed2",
       "version_major": 2,
       "version_minor": 0
      },
      "text/plain": [
       "Training epoch 16/100:   0%|          | 0/250 [00:00<?, ?it/s]"
      ]
     },
     "metadata": {},
     "output_type": "display_data"
    },
    {
     "data": {
      "application/vnd.jupyter.widget-view+json": {
       "model_id": "d11ac6f4ee3d42988fdeda1395f7d93b",
       "version_major": 2,
       "version_minor": 0
      },
      "text/plain": [
       "Test...:   0%|          | 0/50 [00:00<?, ?it/s]"
      ]
     },
     "metadata": {},
     "output_type": "display_data"
    },
    {
     "name": "stdout",
     "output_type": "stream",
     "text": [
      "Epoch 16/100: lr=1.0000, Training loss = 0.124024, test accuracy = 0.789000\n"
     ]
    },
    {
     "data": {
      "application/vnd.jupyter.widget-view+json": {
       "model_id": "4e2e695b5c4b4c3d863e58def5b14a36",
       "version_major": 2,
       "version_minor": 0
      },
      "text/plain": [
       "Training epoch 17/100:   0%|          | 0/250 [00:00<?, ?it/s]"
      ]
     },
     "metadata": {},
     "output_type": "display_data"
    },
    {
     "data": {
      "application/vnd.jupyter.widget-view+json": {
       "model_id": "f1d20db3ff1d4b629fc3df03f51ff55c",
       "version_major": 2,
       "version_minor": 0
      },
      "text/plain": [
       "Test...:   0%|          | 0/50 [00:00<?, ?it/s]"
      ]
     },
     "metadata": {},
     "output_type": "display_data"
    },
    {
     "name": "stdout",
     "output_type": "stream",
     "text": [
      "Epoch 17/100: lr=1.0000, Training loss = 0.112267, test accuracy = 0.788200\n"
     ]
    },
    {
     "data": {
      "application/vnd.jupyter.widget-view+json": {
       "model_id": "625806f47939484497bb2672049eb86a",
       "version_major": 2,
       "version_minor": 0
      },
      "text/plain": [
       "Training epoch 18/100:   0%|          | 0/250 [00:00<?, ?it/s]"
      ]
     },
     "metadata": {},
     "output_type": "display_data"
    },
    {
     "data": {
      "application/vnd.jupyter.widget-view+json": {
       "model_id": "442684b8eef146aeb9953f8c4112f508",
       "version_major": 2,
       "version_minor": 0
      },
      "text/plain": [
       "Test...:   0%|          | 0/50 [00:00<?, ?it/s]"
      ]
     },
     "metadata": {},
     "output_type": "display_data"
    },
    {
     "name": "stdout",
     "output_type": "stream",
     "text": [
      "Epoch 18/100: lr=1.0000, Training loss = 0.098110, test accuracy = 0.800200\n"
     ]
    },
    {
     "data": {
      "application/vnd.jupyter.widget-view+json": {
       "model_id": "fddad202b3c649faac37e90bee31943b",
       "version_major": 2,
       "version_minor": 0
      },
      "text/plain": [
       "Training epoch 19/100:   0%|          | 0/250 [00:00<?, ?it/s]"
      ]
     },
     "metadata": {},
     "output_type": "display_data"
    },
    {
     "data": {
      "application/vnd.jupyter.widget-view+json": {
       "model_id": "b0d4ea9912524de0b7baa7f4ac24d486",
       "version_major": 2,
       "version_minor": 0
      },
      "text/plain": [
       "Test...:   0%|          | 0/50 [00:00<?, ?it/s]"
      ]
     },
     "metadata": {},
     "output_type": "display_data"
    },
    {
     "name": "stdout",
     "output_type": "stream",
     "text": [
      "Epoch 19/100: lr=1.0000, Training loss = 0.087816, test accuracy = 0.801400\n"
     ]
    },
    {
     "data": {
      "application/vnd.jupyter.widget-view+json": {
       "model_id": "eff56811cbab470d8c93f2599c1eda8e",
       "version_major": 2,
       "version_minor": 0
      },
      "text/plain": [
       "Training epoch 20/100:   0%|          | 0/250 [00:00<?, ?it/s]"
      ]
     },
     "metadata": {},
     "output_type": "display_data"
    },
    {
     "data": {
      "application/vnd.jupyter.widget-view+json": {
       "model_id": "579f6398ad5b40ccb07aa9cc2f06e339",
       "version_major": 2,
       "version_minor": 0
      },
      "text/plain": [
       "Test...:   0%|          | 0/50 [00:00<?, ?it/s]"
      ]
     },
     "metadata": {},
     "output_type": "display_data"
    },
    {
     "name": "stdout",
     "output_type": "stream",
     "text": [
      "Epoch 20/100: lr=1.0000, Training loss = 0.077469, test accuracy = 0.791500\n"
     ]
    },
    {
     "data": {
      "application/vnd.jupyter.widget-view+json": {
       "model_id": "2470f5f9eacc411da49dd8c103f546a3",
       "version_major": 2,
       "version_minor": 0
      },
      "text/plain": [
       "Training epoch 21/100:   0%|          | 0/250 [00:00<?, ?it/s]"
      ]
     },
     "metadata": {},
     "output_type": "display_data"
    },
    {
     "data": {
      "application/vnd.jupyter.widget-view+json": {
       "model_id": "c7a7065ac36347b4886a336cd399fe68",
       "version_major": 2,
       "version_minor": 0
      },
      "text/plain": [
       "Test...:   0%|          | 0/50 [00:00<?, ?it/s]"
      ]
     },
     "metadata": {},
     "output_type": "display_data"
    },
    {
     "name": "stdout",
     "output_type": "stream",
     "text": [
      "Epoch 21/100: lr=1.0000, Training loss = 0.071346, test accuracy = 0.799600\n"
     ]
    },
    {
     "data": {
      "application/vnd.jupyter.widget-view+json": {
       "model_id": "716dde264b4a4c5086bdbd76a6317014",
       "version_major": 2,
       "version_minor": 0
      },
      "text/plain": [
       "Training epoch 22/100:   0%|          | 0/250 [00:00<?, ?it/s]"
      ]
     },
     "metadata": {},
     "output_type": "display_data"
    },
    {
     "data": {
      "application/vnd.jupyter.widget-view+json": {
       "model_id": "7b40829070db423981001d354a2badeb",
       "version_major": 2,
       "version_minor": 0
      },
      "text/plain": [
       "Test...:   0%|          | 0/50 [00:00<?, ?it/s]"
      ]
     },
     "metadata": {},
     "output_type": "display_data"
    },
    {
     "name": "stdout",
     "output_type": "stream",
     "text": [
      "Epoch 22/100: lr=1.0000, Training loss = 0.068008, test accuracy = 0.805800\n"
     ]
    },
    {
     "data": {
      "application/vnd.jupyter.widget-view+json": {
       "model_id": "170cbb4191fc402799394aa378612b15",
       "version_major": 2,
       "version_minor": 0
      },
      "text/plain": [
       "Training epoch 23/100:   0%|          | 0/250 [00:00<?, ?it/s]"
      ]
     },
     "metadata": {},
     "output_type": "display_data"
    },
    {
     "data": {
      "application/vnd.jupyter.widget-view+json": {
       "model_id": "a504f80e119d4a14b99efa6b86274236",
       "version_major": 2,
       "version_minor": 0
      },
      "text/plain": [
       "Test...:   0%|          | 0/50 [00:00<?, ?it/s]"
      ]
     },
     "metadata": {},
     "output_type": "display_data"
    },
    {
     "name": "stdout",
     "output_type": "stream",
     "text": [
      "Epoch 23/100: lr=1.0000, Training loss = 0.061642, test accuracy = 0.796100\n"
     ]
    },
    {
     "data": {
      "application/vnd.jupyter.widget-view+json": {
       "model_id": "beed28e081eb4adf89a73a3bd627a926",
       "version_major": 2,
       "version_minor": 0
      },
      "text/plain": [
       "Training epoch 24/100:   0%|          | 0/250 [00:00<?, ?it/s]"
      ]
     },
     "metadata": {},
     "output_type": "display_data"
    },
    {
     "data": {
      "application/vnd.jupyter.widget-view+json": {
       "model_id": "739af6781f5442c399d0c75735d39fda",
       "version_major": 2,
       "version_minor": 0
      },
      "text/plain": [
       "Test...:   0%|          | 0/50 [00:00<?, ?it/s]"
      ]
     },
     "metadata": {},
     "output_type": "display_data"
    },
    {
     "name": "stdout",
     "output_type": "stream",
     "text": [
      "Epoch 24/100: lr=1.0000, Training loss = 0.059239, test accuracy = 0.804200\n"
     ]
    },
    {
     "data": {
      "application/vnd.jupyter.widget-view+json": {
       "model_id": "429443918cbc43d294815ecd4dc0c316",
       "version_major": 2,
       "version_minor": 0
      },
      "text/plain": [
       "Training epoch 25/100:   0%|          | 0/250 [00:00<?, ?it/s]"
      ]
     },
     "metadata": {},
     "output_type": "display_data"
    },
    {
     "data": {
      "application/vnd.jupyter.widget-view+json": {
       "model_id": "b4f50c5ed1ee4f4f8e2a6c57b5d97733",
       "version_major": 2,
       "version_minor": 0
      },
      "text/plain": [
       "Test...:   0%|          | 0/50 [00:00<?, ?it/s]"
      ]
     },
     "metadata": {},
     "output_type": "display_data"
    },
    {
     "name": "stdout",
     "output_type": "stream",
     "text": [
      "Epoch 25/100: lr=1.0000, Training loss = 0.053293, test accuracy = 0.804100\n"
     ]
    },
    {
     "data": {
      "application/vnd.jupyter.widget-view+json": {
       "model_id": "db2883aae4e849ac970be4c775a04c87",
       "version_major": 2,
       "version_minor": 0
      },
      "text/plain": [
       "Training epoch 26/100:   0%|          | 0/250 [00:00<?, ?it/s]"
      ]
     },
     "metadata": {},
     "output_type": "display_data"
    },
    {
     "data": {
      "application/vnd.jupyter.widget-view+json": {
       "model_id": "95b219f215754dd5aad8bf00bf9e5558",
       "version_major": 2,
       "version_minor": 0
      },
      "text/plain": [
       "Test...:   0%|          | 0/50 [00:00<?, ?it/s]"
      ]
     },
     "metadata": {},
     "output_type": "display_data"
    },
    {
     "name": "stdout",
     "output_type": "stream",
     "text": [
      "Epoch 26/100: lr=1.0000, Training loss = 0.049596, test accuracy = 0.799100\n"
     ]
    },
    {
     "data": {
      "application/vnd.jupyter.widget-view+json": {
       "model_id": "97615a6063ad4fe5a8a89a9e96f040d4",
       "version_major": 2,
       "version_minor": 0
      },
      "text/plain": [
       "Training epoch 27/100:   0%|          | 0/250 [00:00<?, ?it/s]"
      ]
     },
     "metadata": {},
     "output_type": "display_data"
    },
    {
     "data": {
      "application/vnd.jupyter.widget-view+json": {
       "model_id": "aff120839f6a4c3dbab76bcb87de62d9",
       "version_major": 2,
       "version_minor": 0
      },
      "text/plain": [
       "Test...:   0%|          | 0/50 [00:00<?, ?it/s]"
      ]
     },
     "metadata": {},
     "output_type": "display_data"
    },
    {
     "name": "stdout",
     "output_type": "stream",
     "text": [
      "Epoch 27/100: lr=1.0000, Training loss = 0.043853, test accuracy = 0.807800\n"
     ]
    },
    {
     "data": {
      "application/vnd.jupyter.widget-view+json": {
       "model_id": "a758e919093f4d9482cec19f6f4f8f64",
       "version_major": 2,
       "version_minor": 0
      },
      "text/plain": [
       "Training epoch 28/100:   0%|          | 0/250 [00:00<?, ?it/s]"
      ]
     },
     "metadata": {},
     "output_type": "display_data"
    },
    {
     "data": {
      "application/vnd.jupyter.widget-view+json": {
       "model_id": "0630c36e7720425fbbfb608f208ecf1f",
       "version_major": 2,
       "version_minor": 0
      },
      "text/plain": [
       "Test...:   0%|          | 0/50 [00:00<?, ?it/s]"
      ]
     },
     "metadata": {},
     "output_type": "display_data"
    },
    {
     "name": "stdout",
     "output_type": "stream",
     "text": [
      "Epoch 28/100: lr=1.0000, Training loss = 0.042238, test accuracy = 0.802400\n"
     ]
    },
    {
     "data": {
      "application/vnd.jupyter.widget-view+json": {
       "model_id": "c975783830a54460985e7db5b1534cf7",
       "version_major": 2,
       "version_minor": 0
      },
      "text/plain": [
       "Training epoch 29/100:   0%|          | 0/250 [00:00<?, ?it/s]"
      ]
     },
     "metadata": {},
     "output_type": "display_data"
    },
    {
     "data": {
      "application/vnd.jupyter.widget-view+json": {
       "model_id": "d746530aad314816bed524eaffae1c27",
       "version_major": 2,
       "version_minor": 0
      },
      "text/plain": [
       "Test...:   0%|          | 0/50 [00:00<?, ?it/s]"
      ]
     },
     "metadata": {},
     "output_type": "display_data"
    },
    {
     "name": "stdout",
     "output_type": "stream",
     "text": [
      "Epoch 29/100: lr=1.0000, Training loss = 0.041327, test accuracy = 0.802600\n"
     ]
    },
    {
     "data": {
      "application/vnd.jupyter.widget-view+json": {
       "model_id": "5db803971abf403ab381ef42537c2ed4",
       "version_major": 2,
       "version_minor": 0
      },
      "text/plain": [
       "Training epoch 30/100:   0%|          | 0/250 [00:00<?, ?it/s]"
      ]
     },
     "metadata": {},
     "output_type": "display_data"
    },
    {
     "data": {
      "application/vnd.jupyter.widget-view+json": {
       "model_id": "3e864a5393e2422082af8547adca0c98",
       "version_major": 2,
       "version_minor": 0
      },
      "text/plain": [
       "Test...:   0%|          | 0/50 [00:00<?, ?it/s]"
      ]
     },
     "metadata": {},
     "output_type": "display_data"
    },
    {
     "name": "stdout",
     "output_type": "stream",
     "text": [
      "Epoch 30/100: lr=1.0000, Training loss = 0.036067, test accuracy = 0.804300\n"
     ]
    },
    {
     "data": {
      "application/vnd.jupyter.widget-view+json": {
       "model_id": "600269ed73fa4a3790ec488c85902543",
       "version_major": 2,
       "version_minor": 0
      },
      "text/plain": [
       "Training epoch 31/100:   0%|          | 0/250 [00:00<?, ?it/s]"
      ]
     },
     "metadata": {},
     "output_type": "display_data"
    },
    {
     "data": {
      "application/vnd.jupyter.widget-view+json": {
       "model_id": "d03908a992f540cf8b3b959fc7ee3fab",
       "version_major": 2,
       "version_minor": 0
      },
      "text/plain": [
       "Test...:   0%|          | 0/50 [00:00<?, ?it/s]"
      ]
     },
     "metadata": {},
     "output_type": "display_data"
    },
    {
     "name": "stdout",
     "output_type": "stream",
     "text": [
      "Epoch 31/100: lr=1.0000, Training loss = 0.040500, test accuracy = 0.812600\n"
     ]
    },
    {
     "data": {
      "application/vnd.jupyter.widget-view+json": {
       "model_id": "d5e6582cd7c7491191d610d853007484",
       "version_major": 2,
       "version_minor": 0
      },
      "text/plain": [
       "Training epoch 32/100:   0%|          | 0/250 [00:00<?, ?it/s]"
      ]
     },
     "metadata": {},
     "output_type": "display_data"
    },
    {
     "data": {
      "application/vnd.jupyter.widget-view+json": {
       "model_id": "440ee8334cbd4296874b3c89a2f69ec5",
       "version_major": 2,
       "version_minor": 0
      },
      "text/plain": [
       "Test...:   0%|          | 0/50 [00:00<?, ?it/s]"
      ]
     },
     "metadata": {},
     "output_type": "display_data"
    },
    {
     "name": "stdout",
     "output_type": "stream",
     "text": [
      "Epoch 32/100: lr=1.0000, Training loss = 0.036480, test accuracy = 0.808800\n"
     ]
    },
    {
     "data": {
      "application/vnd.jupyter.widget-view+json": {
       "model_id": "05a54bc126124d2f8868076a54164a63",
       "version_major": 2,
       "version_minor": 0
      },
      "text/plain": [
       "Training epoch 33/100:   0%|          | 0/250 [00:00<?, ?it/s]"
      ]
     },
     "metadata": {},
     "output_type": "display_data"
    },
    {
     "data": {
      "application/vnd.jupyter.widget-view+json": {
       "model_id": "a44c1026a0e94e149410a5f03acb6268",
       "version_major": 2,
       "version_minor": 0
      },
      "text/plain": [
       "Test...:   0%|          | 0/50 [00:00<?, ?it/s]"
      ]
     },
     "metadata": {},
     "output_type": "display_data"
    },
    {
     "name": "stdout",
     "output_type": "stream",
     "text": [
      "Epoch 33/100: lr=1.0000, Training loss = 0.033665, test accuracy = 0.802600\n"
     ]
    },
    {
     "data": {
      "application/vnd.jupyter.widget-view+json": {
       "model_id": "fe6134d4b63047b282a3bd7c4eff69f1",
       "version_major": 2,
       "version_minor": 0
      },
      "text/plain": [
       "Training epoch 34/100:   0%|          | 0/250 [00:00<?, ?it/s]"
      ]
     },
     "metadata": {},
     "output_type": "display_data"
    },
    {
     "data": {
      "application/vnd.jupyter.widget-view+json": {
       "model_id": "4b1c724c1441460a83405ed3c0e6a7a5",
       "version_major": 2,
       "version_minor": 0
      },
      "text/plain": [
       "Test...:   0%|          | 0/50 [00:00<?, ?it/s]"
      ]
     },
     "metadata": {},
     "output_type": "display_data"
    },
    {
     "name": "stdout",
     "output_type": "stream",
     "text": [
      "Epoch 34/100: lr=1.0000, Training loss = 0.030863, test accuracy = 0.805200\n"
     ]
    },
    {
     "data": {
      "application/vnd.jupyter.widget-view+json": {
       "model_id": "46f474a981214f2eb899d7b8b5f1aac6",
       "version_major": 2,
       "version_minor": 0
      },
      "text/plain": [
       "Training epoch 35/100:   0%|          | 0/250 [00:00<?, ?it/s]"
      ]
     },
     "metadata": {},
     "output_type": "display_data"
    },
    {
     "data": {
      "application/vnd.jupyter.widget-view+json": {
       "model_id": "2395397fc3294178974195ebc71d15ac",
       "version_major": 2,
       "version_minor": 0
      },
      "text/plain": [
       "Test...:   0%|          | 0/50 [00:00<?, ?it/s]"
      ]
     },
     "metadata": {},
     "output_type": "display_data"
    },
    {
     "name": "stdout",
     "output_type": "stream",
     "text": [
      "Epoch 35/100: lr=1.0000, Training loss = 0.028183, test accuracy = 0.807400\n"
     ]
    },
    {
     "data": {
      "application/vnd.jupyter.widget-view+json": {
       "model_id": "b1d68b2f5aa7448f86dda2d11d0b450f",
       "version_major": 2,
       "version_minor": 0
      },
      "text/plain": [
       "Training epoch 36/100:   0%|          | 0/250 [00:00<?, ?it/s]"
      ]
     },
     "metadata": {},
     "output_type": "display_data"
    },
    {
     "data": {
      "application/vnd.jupyter.widget-view+json": {
       "model_id": "4fd53b66fb0f49d996f223cd19930e39",
       "version_major": 2,
       "version_minor": 0
      },
      "text/plain": [
       "Test...:   0%|          | 0/50 [00:00<?, ?it/s]"
      ]
     },
     "metadata": {},
     "output_type": "display_data"
    },
    {
     "name": "stdout",
     "output_type": "stream",
     "text": [
      "Epoch 36/100: lr=1.0000, Training loss = 0.029440, test accuracy = 0.806000\n"
     ]
    },
    {
     "data": {
      "application/vnd.jupyter.widget-view+json": {
       "model_id": "ef461d77274346db8560e8f310e3dc97",
       "version_major": 2,
       "version_minor": 0
      },
      "text/plain": [
       "Training epoch 37/100:   0%|          | 0/250 [00:00<?, ?it/s]"
      ]
     },
     "metadata": {},
     "output_type": "display_data"
    },
    {
     "data": {
      "application/vnd.jupyter.widget-view+json": {
       "model_id": "682e49e6d2fd4bc5970e8e29d932c8d4",
       "version_major": 2,
       "version_minor": 0
      },
      "text/plain": [
       "Test...:   0%|          | 0/50 [00:00<?, ?it/s]"
      ]
     },
     "metadata": {},
     "output_type": "display_data"
    },
    {
     "name": "stdout",
     "output_type": "stream",
     "text": [
      "Epoch 37/100: lr=1.0000, Training loss = 0.030192, test accuracy = 0.803800\n"
     ]
    },
    {
     "data": {
      "application/vnd.jupyter.widget-view+json": {
       "model_id": "c6c9755cdf2c49c6b138429efe470ed5",
       "version_major": 2,
       "version_minor": 0
      },
      "text/plain": [
       "Training epoch 38/100:   0%|          | 0/250 [00:00<?, ?it/s]"
      ]
     },
     "metadata": {},
     "output_type": "display_data"
    },
    {
     "data": {
      "application/vnd.jupyter.widget-view+json": {
       "model_id": "aebf92d8663742b69ac68cf2d7b7cad2",
       "version_major": 2,
       "version_minor": 0
      },
      "text/plain": [
       "Test...:   0%|          | 0/50 [00:00<?, ?it/s]"
      ]
     },
     "metadata": {},
     "output_type": "display_data"
    },
    {
     "name": "stdout",
     "output_type": "stream",
     "text": [
      "Epoch 38/100: lr=1.0000, Training loss = 0.026336, test accuracy = 0.812100\n"
     ]
    },
    {
     "data": {
      "application/vnd.jupyter.widget-view+json": {
       "model_id": "bc3cc5217d6f4c4aac705add3d71935d",
       "version_major": 2,
       "version_minor": 0
      },
      "text/plain": [
       "Training epoch 39/100:   0%|          | 0/250 [00:00<?, ?it/s]"
      ]
     },
     "metadata": {},
     "output_type": "display_data"
    },
    {
     "data": {
      "application/vnd.jupyter.widget-view+json": {
       "model_id": "06181f9e6d6b414b9c0b8fc25164cfba",
       "version_major": 2,
       "version_minor": 0
      },
      "text/plain": [
       "Test...:   0%|          | 0/50 [00:00<?, ?it/s]"
      ]
     },
     "metadata": {},
     "output_type": "display_data"
    },
    {
     "name": "stdout",
     "output_type": "stream",
     "text": [
      "Epoch 39/100: lr=1.0000, Training loss = 0.025742, test accuracy = 0.807200\n"
     ]
    },
    {
     "data": {
      "application/vnd.jupyter.widget-view+json": {
       "model_id": "9b22b564d12b49aea560c2dfe97184dd",
       "version_major": 2,
       "version_minor": 0
      },
      "text/plain": [
       "Training epoch 40/100:   0%|          | 0/250 [00:00<?, ?it/s]"
      ]
     },
     "metadata": {},
     "output_type": "display_data"
    },
    {
     "data": {
      "application/vnd.jupyter.widget-view+json": {
       "model_id": "0369cf301f1840c8a7fbaebd7a284006",
       "version_major": 2,
       "version_minor": 0
      },
      "text/plain": [
       "Test...:   0%|          | 0/50 [00:00<?, ?it/s]"
      ]
     },
     "metadata": {},
     "output_type": "display_data"
    },
    {
     "name": "stdout",
     "output_type": "stream",
     "text": [
      "Epoch 40/100: lr=1.0000, Training loss = 0.023282, test accuracy = 0.811500\n"
     ]
    },
    {
     "data": {
      "application/vnd.jupyter.widget-view+json": {
       "model_id": "7c44b66e1edf42928e86a80d24ef1213",
       "version_major": 2,
       "version_minor": 0
      },
      "text/plain": [
       "Training epoch 41/100:   0%|          | 0/250 [00:00<?, ?it/s]"
      ]
     },
     "metadata": {},
     "output_type": "display_data"
    },
    {
     "data": {
      "application/vnd.jupyter.widget-view+json": {
       "model_id": "9b68a76c39e64a7499d5f3a5b2bf146f",
       "version_major": 2,
       "version_minor": 0
      },
      "text/plain": [
       "Test...:   0%|          | 0/50 [00:00<?, ?it/s]"
      ]
     },
     "metadata": {},
     "output_type": "display_data"
    },
    {
     "name": "stdout",
     "output_type": "stream",
     "text": [
      "Epoch 41/100: lr=1.0000, Training loss = 0.023829, test accuracy = 0.817200\n"
     ]
    },
    {
     "data": {
      "application/vnd.jupyter.widget-view+json": {
       "model_id": "b2496ae21dfc4b219264f4dc10095af4",
       "version_major": 2,
       "version_minor": 0
      },
      "text/plain": [
       "Training epoch 42/100:   0%|          | 0/250 [00:00<?, ?it/s]"
      ]
     },
     "metadata": {},
     "output_type": "display_data"
    },
    {
     "data": {
      "application/vnd.jupyter.widget-view+json": {
       "model_id": "9edeaee10d584bb2b8c140db05e96657",
       "version_major": 2,
       "version_minor": 0
      },
      "text/plain": [
       "Test...:   0%|          | 0/50 [00:00<?, ?it/s]"
      ]
     },
     "metadata": {},
     "output_type": "display_data"
    },
    {
     "name": "stdout",
     "output_type": "stream",
     "text": [
      "Epoch 42/100: lr=1.0000, Training loss = 0.023854, test accuracy = 0.813100\n"
     ]
    },
    {
     "data": {
      "application/vnd.jupyter.widget-view+json": {
       "model_id": "d3e0eb3b2cac4494bf5ee0268a1d887f",
       "version_major": 2,
       "version_minor": 0
      },
      "text/plain": [
       "Training epoch 43/100:   0%|          | 0/250 [00:00<?, ?it/s]"
      ]
     },
     "metadata": {},
     "output_type": "display_data"
    },
    {
     "data": {
      "application/vnd.jupyter.widget-view+json": {
       "model_id": "74c838fed5ec4736aa6557d6dc831780",
       "version_major": 2,
       "version_minor": 0
      },
      "text/plain": [
       "Test...:   0%|          | 0/50 [00:00<?, ?it/s]"
      ]
     },
     "metadata": {},
     "output_type": "display_data"
    },
    {
     "name": "stdout",
     "output_type": "stream",
     "text": [
      "Epoch 43/100: lr=1.0000, Training loss = 0.020851, test accuracy = 0.810400\n"
     ]
    },
    {
     "data": {
      "application/vnd.jupyter.widget-view+json": {
       "model_id": "98cd32f9af1243a0a706b370f26e3ce2",
       "version_major": 2,
       "version_minor": 0
      },
      "text/plain": [
       "Training epoch 44/100:   0%|          | 0/250 [00:00<?, ?it/s]"
      ]
     },
     "metadata": {},
     "output_type": "display_data"
    },
    {
     "data": {
      "application/vnd.jupyter.widget-view+json": {
       "model_id": "b851fccb5ff74b31a5c2edb9cc89b135",
       "version_major": 2,
       "version_minor": 0
      },
      "text/plain": [
       "Test...:   0%|          | 0/50 [00:00<?, ?it/s]"
      ]
     },
     "metadata": {},
     "output_type": "display_data"
    },
    {
     "name": "stdout",
     "output_type": "stream",
     "text": [
      "Epoch 44/100: lr=1.0000, Training loss = 0.019567, test accuracy = 0.808700\n"
     ]
    },
    {
     "data": {
      "application/vnd.jupyter.widget-view+json": {
       "model_id": "e56ad3c541fd41e59ec16729c63f86c7",
       "version_major": 2,
       "version_minor": 0
      },
      "text/plain": [
       "Training epoch 45/100:   0%|          | 0/250 [00:00<?, ?it/s]"
      ]
     },
     "metadata": {},
     "output_type": "display_data"
    },
    {
     "data": {
      "application/vnd.jupyter.widget-view+json": {
       "model_id": "9a51a7f2eb30491eb651f73dcee9b4a5",
       "version_major": 2,
       "version_minor": 0
      },
      "text/plain": [
       "Test...:   0%|          | 0/50 [00:00<?, ?it/s]"
      ]
     },
     "metadata": {},
     "output_type": "display_data"
    },
    {
     "name": "stdout",
     "output_type": "stream",
     "text": [
      "Epoch 45/100: lr=1.0000, Training loss = 0.017080, test accuracy = 0.812400\n"
     ]
    },
    {
     "data": {
      "application/vnd.jupyter.widget-view+json": {
       "model_id": "6a91bbb1e99e497ca6313001c12b3539",
       "version_major": 2,
       "version_minor": 0
      },
      "text/plain": [
       "Training epoch 46/100:   0%|          | 0/250 [00:00<?, ?it/s]"
      ]
     },
     "metadata": {},
     "output_type": "display_data"
    },
    {
     "data": {
      "application/vnd.jupyter.widget-view+json": {
       "model_id": "11fe0d8e051c4805a8fba61a876dcaa3",
       "version_major": 2,
       "version_minor": 0
      },
      "text/plain": [
       "Test...:   0%|          | 0/50 [00:00<?, ?it/s]"
      ]
     },
     "metadata": {},
     "output_type": "display_data"
    },
    {
     "name": "stdout",
     "output_type": "stream",
     "text": [
      "Epoch 46/100: lr=1.0000, Training loss = 0.015567, test accuracy = 0.814300\n"
     ]
    },
    {
     "data": {
      "application/vnd.jupyter.widget-view+json": {
       "model_id": "9ea0b1b0f47a4fd9b732ed183f6e5785",
       "version_major": 2,
       "version_minor": 0
      },
      "text/plain": [
       "Training epoch 47/100:   0%|          | 0/250 [00:00<?, ?it/s]"
      ]
     },
     "metadata": {},
     "output_type": "display_data"
    },
    {
     "data": {
      "application/vnd.jupyter.widget-view+json": {
       "model_id": "044125de70124cb681b78554cc2c1c94",
       "version_major": 2,
       "version_minor": 0
      },
      "text/plain": [
       "Test...:   0%|          | 0/50 [00:00<?, ?it/s]"
      ]
     },
     "metadata": {},
     "output_type": "display_data"
    },
    {
     "name": "stdout",
     "output_type": "stream",
     "text": [
      "Epoch 47/100: lr=1.0000, Training loss = 0.015180, test accuracy = 0.812600\n"
     ]
    },
    {
     "data": {
      "application/vnd.jupyter.widget-view+json": {
       "model_id": "dbcd49bf46b1470aa4305a44094202eb",
       "version_major": 2,
       "version_minor": 0
      },
      "text/plain": [
       "Training epoch 48/100:   0%|          | 0/250 [00:00<?, ?it/s]"
      ]
     },
     "metadata": {},
     "output_type": "display_data"
    },
    {
     "data": {
      "application/vnd.jupyter.widget-view+json": {
       "model_id": "6ab24445e2b1498d9ea624a9fb52a332",
       "version_major": 2,
       "version_minor": 0
      },
      "text/plain": [
       "Test...:   0%|          | 0/50 [00:00<?, ?it/s]"
      ]
     },
     "metadata": {},
     "output_type": "display_data"
    },
    {
     "name": "stdout",
     "output_type": "stream",
     "text": [
      "Epoch 48/100: lr=1.0000, Training loss = 0.016689, test accuracy = 0.808400\n"
     ]
    },
    {
     "data": {
      "application/vnd.jupyter.widget-view+json": {
       "model_id": "393ab24956f947a184c4784f8c3dc8d2",
       "version_major": 2,
       "version_minor": 0
      },
      "text/plain": [
       "Training epoch 49/100:   0%|          | 0/250 [00:00<?, ?it/s]"
      ]
     },
     "metadata": {},
     "output_type": "display_data"
    },
    {
     "data": {
      "application/vnd.jupyter.widget-view+json": {
       "model_id": "9a749385ce23467b9199e0981ec0581b",
       "version_major": 2,
       "version_minor": 0
      },
      "text/plain": [
       "Test...:   0%|          | 0/50 [00:00<?, ?it/s]"
      ]
     },
     "metadata": {},
     "output_type": "display_data"
    },
    {
     "name": "stdout",
     "output_type": "stream",
     "text": [
      "Epoch 49/100: lr=1.0000, Training loss = 0.017648, test accuracy = 0.806300\n"
     ]
    },
    {
     "data": {
      "application/vnd.jupyter.widget-view+json": {
       "model_id": "7bbc4f0905984b839c51f0ff8b613808",
       "version_major": 2,
       "version_minor": 0
      },
      "text/plain": [
       "Training epoch 50/100:   0%|          | 0/250 [00:00<?, ?it/s]"
      ]
     },
     "metadata": {},
     "output_type": "display_data"
    },
    {
     "data": {
      "application/vnd.jupyter.widget-view+json": {
       "model_id": "f9b997e029bb479b94583c8728bd7472",
       "version_major": 2,
       "version_minor": 0
      },
      "text/plain": [
       "Test...:   0%|          | 0/50 [00:00<?, ?it/s]"
      ]
     },
     "metadata": {},
     "output_type": "display_data"
    },
    {
     "name": "stdout",
     "output_type": "stream",
     "text": [
      "Epoch 50/100: lr=1.0000, Training loss = 0.018872, test accuracy = 0.804800\n"
     ]
    },
    {
     "data": {
      "application/vnd.jupyter.widget-view+json": {
       "model_id": "5cca5f907e184d7a96cba6c85468268d",
       "version_major": 2,
       "version_minor": 0
      },
      "text/plain": [
       "Training epoch 51/100:   0%|          | 0/250 [00:00<?, ?it/s]"
      ]
     },
     "metadata": {},
     "output_type": "display_data"
    },
    {
     "data": {
      "application/vnd.jupyter.widget-view+json": {
       "model_id": "3836ace7de3f44ab9cd0acb973487579",
       "version_major": 2,
       "version_minor": 0
      },
      "text/plain": [
       "Test...:   0%|          | 0/50 [00:00<?, ?it/s]"
      ]
     },
     "metadata": {},
     "output_type": "display_data"
    },
    {
     "name": "stdout",
     "output_type": "stream",
     "text": [
      "Epoch 51/100: lr=1.0000, Training loss = 0.012836, test accuracy = 0.811600\n"
     ]
    },
    {
     "data": {
      "application/vnd.jupyter.widget-view+json": {
       "model_id": "b884b8d0f678490c808374fbb757e59c",
       "version_major": 2,
       "version_minor": 0
      },
      "text/plain": [
       "Training epoch 52/100:   0%|          | 0/250 [00:00<?, ?it/s]"
      ]
     },
     "metadata": {},
     "output_type": "display_data"
    },
    {
     "data": {
      "application/vnd.jupyter.widget-view+json": {
       "model_id": "56aab49fc8354a36aa5a7b0bcebd5237",
       "version_major": 2,
       "version_minor": 0
      },
      "text/plain": [
       "Test...:   0%|          | 0/50 [00:00<?, ?it/s]"
      ]
     },
     "metadata": {},
     "output_type": "display_data"
    },
    {
     "name": "stdout",
     "output_type": "stream",
     "text": [
      "Epoch 52/100: lr=1.0000, Training loss = 0.015617, test accuracy = 0.811400\n"
     ]
    },
    {
     "data": {
      "application/vnd.jupyter.widget-view+json": {
       "model_id": "1944042ef35c4165ac9de8d89d6ceae7",
       "version_major": 2,
       "version_minor": 0
      },
      "text/plain": [
       "Training epoch 53/100:   0%|          | 0/250 [00:00<?, ?it/s]"
      ]
     },
     "metadata": {},
     "output_type": "display_data"
    },
    {
     "data": {
      "application/vnd.jupyter.widget-view+json": {
       "model_id": "3d82f55658cf4a528d29132110902714",
       "version_major": 2,
       "version_minor": 0
      },
      "text/plain": [
       "Test...:   0%|          | 0/50 [00:00<?, ?it/s]"
      ]
     },
     "metadata": {},
     "output_type": "display_data"
    },
    {
     "name": "stdout",
     "output_type": "stream",
     "text": [
      "Epoch 53/100: lr=1.0000, Training loss = 0.012981, test accuracy = 0.816500\n"
     ]
    },
    {
     "data": {
      "application/vnd.jupyter.widget-view+json": {
       "model_id": "ef6af2a888b94d72bc95bec076f501d8",
       "version_major": 2,
       "version_minor": 0
      },
      "text/plain": [
       "Training epoch 54/100:   0%|          | 0/250 [00:00<?, ?it/s]"
      ]
     },
     "metadata": {},
     "output_type": "display_data"
    },
    {
     "data": {
      "application/vnd.jupyter.widget-view+json": {
       "model_id": "037602ff7ebe4a12bd57b1e0983e8bb2",
       "version_major": 2,
       "version_minor": 0
      },
      "text/plain": [
       "Test...:   0%|          | 0/50 [00:00<?, ?it/s]"
      ]
     },
     "metadata": {},
     "output_type": "display_data"
    },
    {
     "name": "stdout",
     "output_type": "stream",
     "text": [
      "Epoch 54/100: lr=1.0000, Training loss = 0.014931, test accuracy = 0.808400\n"
     ]
    },
    {
     "data": {
      "application/vnd.jupyter.widget-view+json": {
       "model_id": "3f98ac11a880416da1b135b7955006a7",
       "version_major": 2,
       "version_minor": 0
      },
      "text/plain": [
       "Training epoch 55/100:   0%|          | 0/250 [00:00<?, ?it/s]"
      ]
     },
     "metadata": {},
     "output_type": "display_data"
    },
    {
     "data": {
      "application/vnd.jupyter.widget-view+json": {
       "model_id": "05849c2cc20b4ca5ab4a6009a2485e9b",
       "version_major": 2,
       "version_minor": 0
      },
      "text/plain": [
       "Test...:   0%|          | 0/50 [00:00<?, ?it/s]"
      ]
     },
     "metadata": {},
     "output_type": "display_data"
    },
    {
     "name": "stdout",
     "output_type": "stream",
     "text": [
      "Epoch 55/100: lr=1.0000, Training loss = 0.012995, test accuracy = 0.807800\n"
     ]
    },
    {
     "data": {
      "application/vnd.jupyter.widget-view+json": {
       "model_id": "ca9473584a984aeca372292496db26fb",
       "version_major": 2,
       "version_minor": 0
      },
      "text/plain": [
       "Training epoch 56/100:   0%|          | 0/250 [00:00<?, ?it/s]"
      ]
     },
     "metadata": {},
     "output_type": "display_data"
    },
    {
     "data": {
      "application/vnd.jupyter.widget-view+json": {
       "model_id": "0bcf33ea03ed4eb4b1476269e02db45f",
       "version_major": 2,
       "version_minor": 0
      },
      "text/plain": [
       "Test...:   0%|          | 0/50 [00:00<?, ?it/s]"
      ]
     },
     "metadata": {},
     "output_type": "display_data"
    },
    {
     "name": "stdout",
     "output_type": "stream",
     "text": [
      "Epoch 56/100: lr=1.0000, Training loss = 0.017419, test accuracy = 0.817100\n"
     ]
    },
    {
     "data": {
      "application/vnd.jupyter.widget-view+json": {
       "model_id": "3f545a8ba05647b7a2b8c5fd7b5a37dd",
       "version_major": 2,
       "version_minor": 0
      },
      "text/plain": [
       "Training epoch 57/100:   0%|          | 0/250 [00:00<?, ?it/s]"
      ]
     },
     "metadata": {},
     "output_type": "display_data"
    },
    {
     "data": {
      "application/vnd.jupyter.widget-view+json": {
       "model_id": "21a6b7605d7543b089e6fdd57f7f3a87",
       "version_major": 2,
       "version_minor": 0
      },
      "text/plain": [
       "Test...:   0%|          | 0/50 [00:00<?, ?it/s]"
      ]
     },
     "metadata": {},
     "output_type": "display_data"
    },
    {
     "name": "stdout",
     "output_type": "stream",
     "text": [
      "Epoch 57/100: lr=1.0000, Training loss = 0.013755, test accuracy = 0.810500\n"
     ]
    },
    {
     "data": {
      "application/vnd.jupyter.widget-view+json": {
       "model_id": "f84ca7ad88fc4603a2c9d832f9a34975",
       "version_major": 2,
       "version_minor": 0
      },
      "text/plain": [
       "Training epoch 58/100:   0%|          | 0/250 [00:00<?, ?it/s]"
      ]
     },
     "metadata": {},
     "output_type": "display_data"
    },
    {
     "data": {
      "application/vnd.jupyter.widget-view+json": {
       "model_id": "6ace94eaaee444dfa2d91cdf5db52b0f",
       "version_major": 2,
       "version_minor": 0
      },
      "text/plain": [
       "Test...:   0%|          | 0/50 [00:00<?, ?it/s]"
      ]
     },
     "metadata": {},
     "output_type": "display_data"
    },
    {
     "name": "stdout",
     "output_type": "stream",
     "text": [
      "Epoch 58/100: lr=1.0000, Training loss = 0.011302, test accuracy = 0.815100\n"
     ]
    },
    {
     "data": {
      "application/vnd.jupyter.widget-view+json": {
       "model_id": "45bc138fc06c4643afb168036c5208af",
       "version_major": 2,
       "version_minor": 0
      },
      "text/plain": [
       "Training epoch 59/100:   0%|          | 0/250 [00:00<?, ?it/s]"
      ]
     },
     "metadata": {},
     "output_type": "display_data"
    },
    {
     "data": {
      "application/vnd.jupyter.widget-view+json": {
       "model_id": "daafc46e92724bb49bdfbfe6f3155cbd",
       "version_major": 2,
       "version_minor": 0
      },
      "text/plain": [
       "Test...:   0%|          | 0/50 [00:00<?, ?it/s]"
      ]
     },
     "metadata": {},
     "output_type": "display_data"
    },
    {
     "name": "stdout",
     "output_type": "stream",
     "text": [
      "Epoch 59/100: lr=1.0000, Training loss = 0.010276, test accuracy = 0.814800\n"
     ]
    },
    {
     "data": {
      "application/vnd.jupyter.widget-view+json": {
       "model_id": "603212db86874814ae2a210664a9ef7e",
       "version_major": 2,
       "version_minor": 0
      },
      "text/plain": [
       "Training epoch 60/100:   0%|          | 0/250 [00:00<?, ?it/s]"
      ]
     },
     "metadata": {},
     "output_type": "display_data"
    },
    {
     "data": {
      "application/vnd.jupyter.widget-view+json": {
       "model_id": "55ad70bd217e4780a643bc190992da39",
       "version_major": 2,
       "version_minor": 0
      },
      "text/plain": [
       "Test...:   0%|          | 0/50 [00:00<?, ?it/s]"
      ]
     },
     "metadata": {},
     "output_type": "display_data"
    },
    {
     "name": "stdout",
     "output_type": "stream",
     "text": [
      "Epoch 60/100: lr=1.0000, Training loss = 0.011947, test accuracy = 0.819100\n"
     ]
    },
    {
     "data": {
      "application/vnd.jupyter.widget-view+json": {
       "model_id": "9ebea538e50147f79b7cff9f4e04300b",
       "version_major": 2,
       "version_minor": 0
      },
      "text/plain": [
       "Training epoch 61/100:   0%|          | 0/250 [00:00<?, ?it/s]"
      ]
     },
     "metadata": {},
     "output_type": "display_data"
    },
    {
     "data": {
      "application/vnd.jupyter.widget-view+json": {
       "model_id": "b2b3429560c04ef8943fd6bb580f7fc2",
       "version_major": 2,
       "version_minor": 0
      },
      "text/plain": [
       "Test...:   0%|          | 0/50 [00:00<?, ?it/s]"
      ]
     },
     "metadata": {},
     "output_type": "display_data"
    },
    {
     "name": "stdout",
     "output_type": "stream",
     "text": [
      "Epoch 61/100: lr=0.1000, Training loss = 0.008243, test accuracy = 0.824500\n"
     ]
    },
    {
     "data": {
      "application/vnd.jupyter.widget-view+json": {
       "model_id": "7b89a63edadd4a6cb5ab0e9cf364a214",
       "version_major": 2,
       "version_minor": 0
      },
      "text/plain": [
       "Training epoch 62/100:   0%|          | 0/250 [00:00<?, ?it/s]"
      ]
     },
     "metadata": {},
     "output_type": "display_data"
    },
    {
     "data": {
      "application/vnd.jupyter.widget-view+json": {
       "model_id": "abe1f6db19334207afac8d956c2f2d08",
       "version_major": 2,
       "version_minor": 0
      },
      "text/plain": [
       "Test...:   0%|          | 0/50 [00:00<?, ?it/s]"
      ]
     },
     "metadata": {},
     "output_type": "display_data"
    },
    {
     "name": "stdout",
     "output_type": "stream",
     "text": [
      "Epoch 62/100: lr=0.1000, Training loss = 0.005007, test accuracy = 0.824000\n"
     ]
    },
    {
     "data": {
      "application/vnd.jupyter.widget-view+json": {
       "model_id": "2605289cefab453893b3727e8f364ada",
       "version_major": 2,
       "version_minor": 0
      },
      "text/plain": [
       "Training epoch 63/100:   0%|          | 0/250 [00:00<?, ?it/s]"
      ]
     },
     "metadata": {},
     "output_type": "display_data"
    },
    {
     "data": {
      "application/vnd.jupyter.widget-view+json": {
       "model_id": "fda61eff4d5e4d9e9b7f3ec4f8c33aea",
       "version_major": 2,
       "version_minor": 0
      },
      "text/plain": [
       "Test...:   0%|          | 0/50 [00:00<?, ?it/s]"
      ]
     },
     "metadata": {},
     "output_type": "display_data"
    },
    {
     "name": "stdout",
     "output_type": "stream",
     "text": [
      "Epoch 63/100: lr=0.1000, Training loss = 0.003737, test accuracy = 0.825300\n"
     ]
    },
    {
     "data": {
      "application/vnd.jupyter.widget-view+json": {
       "model_id": "fd4610b7cfe241ee873a926a75a1c961",
       "version_major": 2,
       "version_minor": 0
      },
      "text/plain": [
       "Training epoch 64/100:   0%|          | 0/250 [00:00<?, ?it/s]"
      ]
     },
     "metadata": {},
     "output_type": "display_data"
    },
    {
     "data": {
      "application/vnd.jupyter.widget-view+json": {
       "model_id": "3b3ab84a7c2e44a49a9525817b330722",
       "version_major": 2,
       "version_minor": 0
      },
      "text/plain": [
       "Test...:   0%|          | 0/50 [00:00<?, ?it/s]"
      ]
     },
     "metadata": {},
     "output_type": "display_data"
    },
    {
     "name": "stdout",
     "output_type": "stream",
     "text": [
      "Epoch 64/100: lr=0.1000, Training loss = 0.003314, test accuracy = 0.825200\n"
     ]
    },
    {
     "data": {
      "application/vnd.jupyter.widget-view+json": {
       "model_id": "e71aea72856046faba0ed0c0f09e27ed",
       "version_major": 2,
       "version_minor": 0
      },
      "text/plain": [
       "Training epoch 65/100:   0%|          | 0/250 [00:00<?, ?it/s]"
      ]
     },
     "metadata": {},
     "output_type": "display_data"
    },
    {
     "data": {
      "application/vnd.jupyter.widget-view+json": {
       "model_id": "3fc9806ad05a47a49a766ca9941244b0",
       "version_major": 2,
       "version_minor": 0
      },
      "text/plain": [
       "Test...:   0%|          | 0/50 [00:00<?, ?it/s]"
      ]
     },
     "metadata": {},
     "output_type": "display_data"
    },
    {
     "name": "stdout",
     "output_type": "stream",
     "text": [
      "Epoch 65/100: lr=0.1000, Training loss = 0.002733, test accuracy = 0.826400\n"
     ]
    },
    {
     "data": {
      "application/vnd.jupyter.widget-view+json": {
       "model_id": "ffc6c5039dad497981f50e7b751435ed",
       "version_major": 2,
       "version_minor": 0
      },
      "text/plain": [
       "Training epoch 66/100:   0%|          | 0/250 [00:00<?, ?it/s]"
      ]
     },
     "metadata": {},
     "output_type": "display_data"
    },
    {
     "data": {
      "application/vnd.jupyter.widget-view+json": {
       "model_id": "29495c9280dc40659117d97eb32310d1",
       "version_major": 2,
       "version_minor": 0
      },
      "text/plain": [
       "Test...:   0%|          | 0/50 [00:00<?, ?it/s]"
      ]
     },
     "metadata": {},
     "output_type": "display_data"
    },
    {
     "name": "stdout",
     "output_type": "stream",
     "text": [
      "Epoch 66/100: lr=0.1000, Training loss = 0.002898, test accuracy = 0.825600\n"
     ]
    },
    {
     "data": {
      "application/vnd.jupyter.widget-view+json": {
       "model_id": "4dede3c370b04bdea2ea220269bca142",
       "version_major": 2,
       "version_minor": 0
      },
      "text/plain": [
       "Training epoch 67/100:   0%|          | 0/250 [00:00<?, ?it/s]"
      ]
     },
     "metadata": {},
     "output_type": "display_data"
    },
    {
     "data": {
      "application/vnd.jupyter.widget-view+json": {
       "model_id": "d60405af18e14db6b7fcdc6de0cc34c8",
       "version_major": 2,
       "version_minor": 0
      },
      "text/plain": [
       "Test...:   0%|          | 0/50 [00:00<?, ?it/s]"
      ]
     },
     "metadata": {},
     "output_type": "display_data"
    },
    {
     "name": "stdout",
     "output_type": "stream",
     "text": [
      "Epoch 67/100: lr=0.1000, Training loss = 0.003208, test accuracy = 0.824600\n"
     ]
    },
    {
     "data": {
      "application/vnd.jupyter.widget-view+json": {
       "model_id": "b3c73f9f9a9f4c8e9def3d44f2747d65",
       "version_major": 2,
       "version_minor": 0
      },
      "text/plain": [
       "Training epoch 68/100:   0%|          | 0/250 [00:00<?, ?it/s]"
      ]
     },
     "metadata": {},
     "output_type": "display_data"
    },
    {
     "data": {
      "application/vnd.jupyter.widget-view+json": {
       "model_id": "4dd150ad6e284a468123266df21153d7",
       "version_major": 2,
       "version_minor": 0
      },
      "text/plain": [
       "Test...:   0%|          | 0/50 [00:00<?, ?it/s]"
      ]
     },
     "metadata": {},
     "output_type": "display_data"
    },
    {
     "name": "stdout",
     "output_type": "stream",
     "text": [
      "Epoch 68/100: lr=0.1000, Training loss = 0.002672, test accuracy = 0.826500\n"
     ]
    },
    {
     "data": {
      "application/vnd.jupyter.widget-view+json": {
       "model_id": "16f879f91f38498fa619aecf68e04d43",
       "version_major": 2,
       "version_minor": 0
      },
      "text/plain": [
       "Training epoch 69/100:   0%|          | 0/250 [00:00<?, ?it/s]"
      ]
     },
     "metadata": {},
     "output_type": "display_data"
    },
    {
     "data": {
      "application/vnd.jupyter.widget-view+json": {
       "model_id": "59b5563b7fda4b88980cecf6557ececb",
       "version_major": 2,
       "version_minor": 0
      },
      "text/plain": [
       "Test...:   0%|          | 0/50 [00:00<?, ?it/s]"
      ]
     },
     "metadata": {},
     "output_type": "display_data"
    },
    {
     "name": "stdout",
     "output_type": "stream",
     "text": [
      "Epoch 69/100: lr=0.1000, Training loss = 0.002334, test accuracy = 0.824200\n"
     ]
    },
    {
     "data": {
      "application/vnd.jupyter.widget-view+json": {
       "model_id": "2a5564f372444c2380fcc785ff40cd21",
       "version_major": 2,
       "version_minor": 0
      },
      "text/plain": [
       "Training epoch 70/100:   0%|          | 0/250 [00:00<?, ?it/s]"
      ]
     },
     "metadata": {},
     "output_type": "display_data"
    },
    {
     "data": {
      "application/vnd.jupyter.widget-view+json": {
       "model_id": "5cb2c0030aaa408b89ea8c136d3c5178",
       "version_major": 2,
       "version_minor": 0
      },
      "text/plain": [
       "Test...:   0%|          | 0/50 [00:00<?, ?it/s]"
      ]
     },
     "metadata": {},
     "output_type": "display_data"
    },
    {
     "name": "stdout",
     "output_type": "stream",
     "text": [
      "Epoch 70/100: lr=0.1000, Training loss = 0.002301, test accuracy = 0.826800\n"
     ]
    },
    {
     "data": {
      "application/vnd.jupyter.widget-view+json": {
       "model_id": "9b925fc94e184656a4628495f918b0cc",
       "version_major": 2,
       "version_minor": 0
      },
      "text/plain": [
       "Training epoch 71/100:   0%|          | 0/250 [00:00<?, ?it/s]"
      ]
     },
     "metadata": {},
     "output_type": "display_data"
    },
    {
     "data": {
      "application/vnd.jupyter.widget-view+json": {
       "model_id": "700236570ae144f2959d588d5921cf68",
       "version_major": 2,
       "version_minor": 0
      },
      "text/plain": [
       "Test...:   0%|          | 0/50 [00:00<?, ?it/s]"
      ]
     },
     "metadata": {},
     "output_type": "display_data"
    },
    {
     "name": "stdout",
     "output_type": "stream",
     "text": [
      "Epoch 71/100: lr=0.1000, Training loss = 0.002599, test accuracy = 0.826100\n"
     ]
    },
    {
     "data": {
      "application/vnd.jupyter.widget-view+json": {
       "model_id": "7cdde7bb611342dbb3c62aca2924c592",
       "version_major": 2,
       "version_minor": 0
      },
      "text/plain": [
       "Training epoch 72/100:   0%|          | 0/250 [00:00<?, ?it/s]"
      ]
     },
     "metadata": {},
     "output_type": "display_data"
    },
    {
     "data": {
      "application/vnd.jupyter.widget-view+json": {
       "model_id": "f8350eeebf434d3db6ae0fba58c2f9e9",
       "version_major": 2,
       "version_minor": 0
      },
      "text/plain": [
       "Test...:   0%|          | 0/50 [00:00<?, ?it/s]"
      ]
     },
     "metadata": {},
     "output_type": "display_data"
    },
    {
     "name": "stdout",
     "output_type": "stream",
     "text": [
      "Epoch 72/100: lr=0.1000, Training loss = 0.002764, test accuracy = 0.826300\n"
     ]
    },
    {
     "data": {
      "application/vnd.jupyter.widget-view+json": {
       "model_id": "1c6f1935e45b4369978520b4445e2c54",
       "version_major": 2,
       "version_minor": 0
      },
      "text/plain": [
       "Training epoch 73/100:   0%|          | 0/250 [00:00<?, ?it/s]"
      ]
     },
     "metadata": {},
     "output_type": "display_data"
    },
    {
     "data": {
      "application/vnd.jupyter.widget-view+json": {
       "model_id": "e4ca1273e78d4e4c946904b26d5de076",
       "version_major": 2,
       "version_minor": 0
      },
      "text/plain": [
       "Test...:   0%|          | 0/50 [00:00<?, ?it/s]"
      ]
     },
     "metadata": {},
     "output_type": "display_data"
    },
    {
     "name": "stdout",
     "output_type": "stream",
     "text": [
      "Epoch 73/100: lr=0.1000, Training loss = 0.001826, test accuracy = 0.826700\n"
     ]
    },
    {
     "data": {
      "application/vnd.jupyter.widget-view+json": {
       "model_id": "6fc7b99277044456ac4f23d66e91af15",
       "version_major": 2,
       "version_minor": 0
      },
      "text/plain": [
       "Training epoch 74/100:   0%|          | 0/250 [00:00<?, ?it/s]"
      ]
     },
     "metadata": {},
     "output_type": "display_data"
    },
    {
     "data": {
      "application/vnd.jupyter.widget-view+json": {
       "model_id": "b8b025e85fca4592b5105ce925552ae3",
       "version_major": 2,
       "version_minor": 0
      },
      "text/plain": [
       "Test...:   0%|          | 0/50 [00:00<?, ?it/s]"
      ]
     },
     "metadata": {},
     "output_type": "display_data"
    },
    {
     "name": "stdout",
     "output_type": "stream",
     "text": [
      "Epoch 74/100: lr=0.1000, Training loss = 0.001611, test accuracy = 0.827200\n"
     ]
    },
    {
     "data": {
      "application/vnd.jupyter.widget-view+json": {
       "model_id": "f7fc6e584d5a46d6876fa85e62fdfe15",
       "version_major": 2,
       "version_minor": 0
      },
      "text/plain": [
       "Training epoch 75/100:   0%|          | 0/250 [00:00<?, ?it/s]"
      ]
     },
     "metadata": {},
     "output_type": "display_data"
    },
    {
     "data": {
      "application/vnd.jupyter.widget-view+json": {
       "model_id": "5e0da088c82a4ab4a50d997d7736a420",
       "version_major": 2,
       "version_minor": 0
      },
      "text/plain": [
       "Test...:   0%|          | 0/50 [00:00<?, ?it/s]"
      ]
     },
     "metadata": {},
     "output_type": "display_data"
    },
    {
     "name": "stdout",
     "output_type": "stream",
     "text": [
      "Epoch 75/100: lr=0.1000, Training loss = 0.001870, test accuracy = 0.825600\n"
     ]
    },
    {
     "data": {
      "application/vnd.jupyter.widget-view+json": {
       "model_id": "0755229fa1254329a7487e5e6ab8aad2",
       "version_major": 2,
       "version_minor": 0
      },
      "text/plain": [
       "Training epoch 76/100:   0%|          | 0/250 [00:00<?, ?it/s]"
      ]
     },
     "metadata": {},
     "output_type": "display_data"
    },
    {
     "data": {
      "application/vnd.jupyter.widget-view+json": {
       "model_id": "430e4cfc0fb5420ab432b9971024d2ca",
       "version_major": 2,
       "version_minor": 0
      },
      "text/plain": [
       "Test...:   0%|          | 0/50 [00:00<?, ?it/s]"
      ]
     },
     "metadata": {},
     "output_type": "display_data"
    },
    {
     "name": "stdout",
     "output_type": "stream",
     "text": [
      "Epoch 76/100: lr=0.1000, Training loss = 0.001771, test accuracy = 0.825100\n"
     ]
    },
    {
     "data": {
      "application/vnd.jupyter.widget-view+json": {
       "model_id": "8f72e9341b714c66bb53f56263e39d7c",
       "version_major": 2,
       "version_minor": 0
      },
      "text/plain": [
       "Training epoch 77/100:   0%|          | 0/250 [00:00<?, ?it/s]"
      ]
     },
     "metadata": {},
     "output_type": "display_data"
    },
    {
     "data": {
      "application/vnd.jupyter.widget-view+json": {
       "model_id": "d53ea199a31f4bf8884a10229d9bb8bd",
       "version_major": 2,
       "version_minor": 0
      },
      "text/plain": [
       "Test...:   0%|          | 0/50 [00:00<?, ?it/s]"
      ]
     },
     "metadata": {},
     "output_type": "display_data"
    },
    {
     "name": "stdout",
     "output_type": "stream",
     "text": [
      "Epoch 77/100: lr=0.1000, Training loss = 0.001339, test accuracy = 0.825500\n"
     ]
    },
    {
     "data": {
      "application/vnd.jupyter.widget-view+json": {
       "model_id": "6bdcc4b9cdce4de68de8f1ea679fd698",
       "version_major": 2,
       "version_minor": 0
      },
      "text/plain": [
       "Training epoch 78/100:   0%|          | 0/250 [00:00<?, ?it/s]"
      ]
     },
     "metadata": {},
     "output_type": "display_data"
    },
    {
     "data": {
      "application/vnd.jupyter.widget-view+json": {
       "model_id": "4c153fa8e50d487a83eec9264191140e",
       "version_major": 2,
       "version_minor": 0
      },
      "text/plain": [
       "Test...:   0%|          | 0/50 [00:00<?, ?it/s]"
      ]
     },
     "metadata": {},
     "output_type": "display_data"
    },
    {
     "name": "stdout",
     "output_type": "stream",
     "text": [
      "Epoch 78/100: lr=0.1000, Training loss = 0.001236, test accuracy = 0.825800\n"
     ]
    },
    {
     "data": {
      "application/vnd.jupyter.widget-view+json": {
       "model_id": "d2fbd193f0b748db893d4b94c6f70213",
       "version_major": 2,
       "version_minor": 0
      },
      "text/plain": [
       "Training epoch 79/100:   0%|          | 0/250 [00:00<?, ?it/s]"
      ]
     },
     "metadata": {},
     "output_type": "display_data"
    },
    {
     "data": {
      "application/vnd.jupyter.widget-view+json": {
       "model_id": "384b93d292b647e8a8dc92994fe2e683",
       "version_major": 2,
       "version_minor": 0
      },
      "text/plain": [
       "Test...:   0%|          | 0/50 [00:00<?, ?it/s]"
      ]
     },
     "metadata": {},
     "output_type": "display_data"
    },
    {
     "name": "stdout",
     "output_type": "stream",
     "text": [
      "Epoch 79/100: lr=0.1000, Training loss = 0.001463, test accuracy = 0.825800\n"
     ]
    },
    {
     "data": {
      "application/vnd.jupyter.widget-view+json": {
       "model_id": "bc2af47199ce4cdd96e84a79a1dce9ff",
       "version_major": 2,
       "version_minor": 0
      },
      "text/plain": [
       "Training epoch 80/100:   0%|          | 0/250 [00:00<?, ?it/s]"
      ]
     },
     "metadata": {},
     "output_type": "display_data"
    },
    {
     "data": {
      "application/vnd.jupyter.widget-view+json": {
       "model_id": "839b7663ec224ce5bd4c0bd2e7a70a8a",
       "version_major": 2,
       "version_minor": 0
      },
      "text/plain": [
       "Test...:   0%|          | 0/50 [00:00<?, ?it/s]"
      ]
     },
     "metadata": {},
     "output_type": "display_data"
    },
    {
     "name": "stdout",
     "output_type": "stream",
     "text": [
      "Epoch 80/100: lr=0.1000, Training loss = 0.002079, test accuracy = 0.825700\n"
     ]
    },
    {
     "data": {
      "application/vnd.jupyter.widget-view+json": {
       "model_id": "067bb5328f394ccbac7dbf61d260422a",
       "version_major": 2,
       "version_minor": 0
      },
      "text/plain": [
       "Training epoch 81/100:   0%|          | 0/250 [00:00<?, ?it/s]"
      ]
     },
     "metadata": {},
     "output_type": "display_data"
    },
    {
     "data": {
      "application/vnd.jupyter.widget-view+json": {
       "model_id": "a7d3c41921c94564954910f65741a510",
       "version_major": 2,
       "version_minor": 0
      },
      "text/plain": [
       "Test...:   0%|          | 0/50 [00:00<?, ?it/s]"
      ]
     },
     "metadata": {},
     "output_type": "display_data"
    },
    {
     "name": "stdout",
     "output_type": "stream",
     "text": [
      "Epoch 81/100: lr=0.0100, Training loss = 0.001546, test accuracy = 0.824900\n"
     ]
    },
    {
     "data": {
      "application/vnd.jupyter.widget-view+json": {
       "model_id": "6f77e5d02c904afea4c15d78bea851f5",
       "version_major": 2,
       "version_minor": 0
      },
      "text/plain": [
       "Training epoch 82/100:   0%|          | 0/250 [00:00<?, ?it/s]"
      ]
     },
     "metadata": {},
     "output_type": "display_data"
    },
    {
     "data": {
      "application/vnd.jupyter.widget-view+json": {
       "model_id": "ad0a6e041adf42b798095e6564eb8ed5",
       "version_major": 2,
       "version_minor": 0
      },
      "text/plain": [
       "Test...:   0%|          | 0/50 [00:00<?, ?it/s]"
      ]
     },
     "metadata": {},
     "output_type": "display_data"
    },
    {
     "name": "stdout",
     "output_type": "stream",
     "text": [
      "Epoch 82/100: lr=0.0100, Training loss = 0.001501, test accuracy = 0.825500\n"
     ]
    },
    {
     "data": {
      "application/vnd.jupyter.widget-view+json": {
       "model_id": "502afeff6d3e4410927b03440026f86b",
       "version_major": 2,
       "version_minor": 0
      },
      "text/plain": [
       "Training epoch 83/100:   0%|          | 0/250 [00:00<?, ?it/s]"
      ]
     },
     "metadata": {},
     "output_type": "display_data"
    },
    {
     "data": {
      "application/vnd.jupyter.widget-view+json": {
       "model_id": "fe6fe3003bad44a6805472317bd04960",
       "version_major": 2,
       "version_minor": 0
      },
      "text/plain": [
       "Test...:   0%|          | 0/50 [00:00<?, ?it/s]"
      ]
     },
     "metadata": {},
     "output_type": "display_data"
    },
    {
     "name": "stdout",
     "output_type": "stream",
     "text": [
      "Epoch 83/100: lr=0.0100, Training loss = 0.001048, test accuracy = 0.824400\n"
     ]
    },
    {
     "data": {
      "application/vnd.jupyter.widget-view+json": {
       "model_id": "c83fbaa25c394026a202df4988db8cc2",
       "version_major": 2,
       "version_minor": 0
      },
      "text/plain": [
       "Training epoch 84/100:   0%|          | 0/250 [00:00<?, ?it/s]"
      ]
     },
     "metadata": {},
     "output_type": "display_data"
    },
    {
     "data": {
      "application/vnd.jupyter.widget-view+json": {
       "model_id": "bb60435b02f64eb6810e371e1c3a8be0",
       "version_major": 2,
       "version_minor": 0
      },
      "text/plain": [
       "Test...:   0%|          | 0/50 [00:00<?, ?it/s]"
      ]
     },
     "metadata": {},
     "output_type": "display_data"
    },
    {
     "name": "stdout",
     "output_type": "stream",
     "text": [
      "Epoch 84/100: lr=0.0100, Training loss = 0.001112, test accuracy = 0.825500\n"
     ]
    },
    {
     "data": {
      "application/vnd.jupyter.widget-view+json": {
       "model_id": "6c534d8231984b2c870c73325801dded",
       "version_major": 2,
       "version_minor": 0
      },
      "text/plain": [
       "Training epoch 85/100:   0%|          | 0/250 [00:00<?, ?it/s]"
      ]
     },
     "metadata": {},
     "output_type": "display_data"
    },
    {
     "data": {
      "application/vnd.jupyter.widget-view+json": {
       "model_id": "a81a354037a0467d9406269968a3dcdc",
       "version_major": 2,
       "version_minor": 0
      },
      "text/plain": [
       "Test...:   0%|          | 0/50 [00:00<?, ?it/s]"
      ]
     },
     "metadata": {},
     "output_type": "display_data"
    },
    {
     "name": "stdout",
     "output_type": "stream",
     "text": [
      "Epoch 85/100: lr=0.0100, Training loss = 0.001531, test accuracy = 0.824600\n"
     ]
    },
    {
     "data": {
      "application/vnd.jupyter.widget-view+json": {
       "model_id": "0877876e380d4347b62d835c33b40835",
       "version_major": 2,
       "version_minor": 0
      },
      "text/plain": [
       "Training epoch 86/100:   0%|          | 0/250 [00:00<?, ?it/s]"
      ]
     },
     "metadata": {},
     "output_type": "display_data"
    },
    {
     "data": {
      "application/vnd.jupyter.widget-view+json": {
       "model_id": "4e013e78fd0a484d9cdf2354106331b3",
       "version_major": 2,
       "version_minor": 0
      },
      "text/plain": [
       "Test...:   0%|          | 0/50 [00:00<?, ?it/s]"
      ]
     },
     "metadata": {},
     "output_type": "display_data"
    },
    {
     "name": "stdout",
     "output_type": "stream",
     "text": [
      "Epoch 86/100: lr=0.0100, Training loss = 0.001232, test accuracy = 0.825200\n"
     ]
    },
    {
     "data": {
      "application/vnd.jupyter.widget-view+json": {
       "model_id": "93725d333c7a4efbb8092545822c4b5f",
       "version_major": 2,
       "version_minor": 0
      },
      "text/plain": [
       "Training epoch 87/100:   0%|          | 0/250 [00:00<?, ?it/s]"
      ]
     },
     "metadata": {},
     "output_type": "display_data"
    },
    {
     "data": {
      "application/vnd.jupyter.widget-view+json": {
       "model_id": "c02bc10c36f94a3a99fbe531262266d4",
       "version_major": 2,
       "version_minor": 0
      },
      "text/plain": [
       "Test...:   0%|          | 0/50 [00:00<?, ?it/s]"
      ]
     },
     "metadata": {},
     "output_type": "display_data"
    },
    {
     "name": "stdout",
     "output_type": "stream",
     "text": [
      "Epoch 87/100: lr=0.0100, Training loss = 0.001233, test accuracy = 0.825600\n"
     ]
    },
    {
     "data": {
      "application/vnd.jupyter.widget-view+json": {
       "model_id": "27a8a9c7b3964becae9009b26086da25",
       "version_major": 2,
       "version_minor": 0
      },
      "text/plain": [
       "Training epoch 88/100:   0%|          | 0/250 [00:00<?, ?it/s]"
      ]
     },
     "metadata": {},
     "output_type": "display_data"
    },
    {
     "data": {
      "application/vnd.jupyter.widget-view+json": {
       "model_id": "936d48eef44b4dcd93d5f37572415ffe",
       "version_major": 2,
       "version_minor": 0
      },
      "text/plain": [
       "Test...:   0%|          | 0/50 [00:00<?, ?it/s]"
      ]
     },
     "metadata": {},
     "output_type": "display_data"
    },
    {
     "name": "stdout",
     "output_type": "stream",
     "text": [
      "Epoch 88/100: lr=0.0100, Training loss = 0.001334, test accuracy = 0.826200\n"
     ]
    },
    {
     "data": {
      "application/vnd.jupyter.widget-view+json": {
       "model_id": "f72230e4484c49d8bc40f778e9a91501",
       "version_major": 2,
       "version_minor": 0
      },
      "text/plain": [
       "Training epoch 89/100:   0%|          | 0/250 [00:00<?, ?it/s]"
      ]
     },
     "metadata": {},
     "output_type": "display_data"
    },
    {
     "data": {
      "application/vnd.jupyter.widget-view+json": {
       "model_id": "41a1b5976f444d619c674e6d2299dec6",
       "version_major": 2,
       "version_minor": 0
      },
      "text/plain": [
       "Test...:   0%|          | 0/50 [00:00<?, ?it/s]"
      ]
     },
     "metadata": {},
     "output_type": "display_data"
    },
    {
     "name": "stdout",
     "output_type": "stream",
     "text": [
      "Epoch 89/100: lr=0.0100, Training loss = 0.001704, test accuracy = 0.825500\n"
     ]
    },
    {
     "data": {
      "application/vnd.jupyter.widget-view+json": {
       "model_id": "89a2948e74ce441fa705f6a3875c9f2c",
       "version_major": 2,
       "version_minor": 0
      },
      "text/plain": [
       "Training epoch 90/100:   0%|          | 0/250 [00:00<?, ?it/s]"
      ]
     },
     "metadata": {},
     "output_type": "display_data"
    },
    {
     "data": {
      "application/vnd.jupyter.widget-view+json": {
       "model_id": "214c2be6311f492e85fa62f8b4d21c96",
       "version_major": 2,
       "version_minor": 0
      },
      "text/plain": [
       "Test...:   0%|          | 0/50 [00:00<?, ?it/s]"
      ]
     },
     "metadata": {},
     "output_type": "display_data"
    },
    {
     "name": "stdout",
     "output_type": "stream",
     "text": [
      "Epoch 90/100: lr=0.0100, Training loss = 0.001767, test accuracy = 0.826400\n"
     ]
    },
    {
     "data": {
      "application/vnd.jupyter.widget-view+json": {
       "model_id": "70c4092e4a6c43859adfc1cf89d3153c",
       "version_major": 2,
       "version_minor": 0
      },
      "text/plain": [
       "Training epoch 91/100:   0%|          | 0/250 [00:00<?, ?it/s]"
      ]
     },
     "metadata": {},
     "output_type": "display_data"
    },
    {
     "data": {
      "application/vnd.jupyter.widget-view+json": {
       "model_id": "0b58367c4c3b48b4b2f1be1c6f651f3a",
       "version_major": 2,
       "version_minor": 0
      },
      "text/plain": [
       "Test...:   0%|          | 0/50 [00:00<?, ?it/s]"
      ]
     },
     "metadata": {},
     "output_type": "display_data"
    },
    {
     "name": "stdout",
     "output_type": "stream",
     "text": [
      "Epoch 91/100: lr=0.0010, Training loss = 0.001007, test accuracy = 0.826300\n"
     ]
    },
    {
     "data": {
      "application/vnd.jupyter.widget-view+json": {
       "model_id": "5c5f4a89512445dead6a75a83e8d4e0a",
       "version_major": 2,
       "version_minor": 0
      },
      "text/plain": [
       "Training epoch 92/100:   0%|          | 0/250 [00:00<?, ?it/s]"
      ]
     },
     "metadata": {},
     "output_type": "display_data"
    },
    {
     "data": {
      "application/vnd.jupyter.widget-view+json": {
       "model_id": "a11718a777bb4df98e679cdce94c979d",
       "version_major": 2,
       "version_minor": 0
      },
      "text/plain": [
       "Test...:   0%|          | 0/50 [00:00<?, ?it/s]"
      ]
     },
     "metadata": {},
     "output_type": "display_data"
    },
    {
     "name": "stdout",
     "output_type": "stream",
     "text": [
      "Epoch 92/100: lr=0.0010, Training loss = 0.001044, test accuracy = 0.825400\n"
     ]
    },
    {
     "data": {
      "application/vnd.jupyter.widget-view+json": {
       "model_id": "e4c03d775a3c47efb016abe0969bf65e",
       "version_major": 2,
       "version_minor": 0
      },
      "text/plain": [
       "Training epoch 93/100:   0%|          | 0/250 [00:00<?, ?it/s]"
      ]
     },
     "metadata": {},
     "output_type": "display_data"
    },
    {
     "data": {
      "application/vnd.jupyter.widget-view+json": {
       "model_id": "1194110acd444fe7808d2e8b47a5e403",
       "version_major": 2,
       "version_minor": 0
      },
      "text/plain": [
       "Test...:   0%|          | 0/50 [00:00<?, ?it/s]"
      ]
     },
     "metadata": {},
     "output_type": "display_data"
    },
    {
     "name": "stdout",
     "output_type": "stream",
     "text": [
      "Epoch 93/100: lr=0.0010, Training loss = 0.001229, test accuracy = 0.825700\n"
     ]
    },
    {
     "data": {
      "application/vnd.jupyter.widget-view+json": {
       "model_id": "a5dd71944a53439cb619924aee8c020b",
       "version_major": 2,
       "version_minor": 0
      },
      "text/plain": [
       "Training epoch 94/100:   0%|          | 0/250 [00:00<?, ?it/s]"
      ]
     },
     "metadata": {},
     "output_type": "display_data"
    },
    {
     "data": {
      "application/vnd.jupyter.widget-view+json": {
       "model_id": "cc423fa2354440d29530de20bb06c0d5",
       "version_major": 2,
       "version_minor": 0
      },
      "text/plain": [
       "Test...:   0%|          | 0/50 [00:00<?, ?it/s]"
      ]
     },
     "metadata": {},
     "output_type": "display_data"
    },
    {
     "name": "stdout",
     "output_type": "stream",
     "text": [
      "Epoch 94/100: lr=0.0010, Training loss = 0.001217, test accuracy = 0.827100\n"
     ]
    },
    {
     "data": {
      "application/vnd.jupyter.widget-view+json": {
       "model_id": "76ae8c89bcae464f8e37c474a157434b",
       "version_major": 2,
       "version_minor": 0
      },
      "text/plain": [
       "Training epoch 95/100:   0%|          | 0/250 [00:00<?, ?it/s]"
      ]
     },
     "metadata": {},
     "output_type": "display_data"
    },
    {
     "data": {
      "application/vnd.jupyter.widget-view+json": {
       "model_id": "0a6e0528c5ab46c2995045ee6d784fbe",
       "version_major": 2,
       "version_minor": 0
      },
      "text/plain": [
       "Test...:   0%|          | 0/50 [00:00<?, ?it/s]"
      ]
     },
     "metadata": {},
     "output_type": "display_data"
    },
    {
     "name": "stdout",
     "output_type": "stream",
     "text": [
      "Epoch 97/100: lr=0.0001, Training loss = 0.001018, test accuracy = 0.825600\n"
     ]
    },
    {
     "data": {
      "application/vnd.jupyter.widget-view+json": {
       "model_id": "ba3953e3dff74c7b9b5a6f3d4bb36fe1",
       "version_major": 2,
       "version_minor": 0
      },
      "text/plain": [
       "Training epoch 98/100:   0%|          | 0/250 [00:00<?, ?it/s]"
      ]
     },
     "metadata": {},
     "output_type": "display_data"
    },
    {
     "data": {
      "application/vnd.jupyter.widget-view+json": {
       "model_id": "79e4c58c9764462a88a8a95bf7e19a45",
       "version_major": 2,
       "version_minor": 0
      },
      "text/plain": [
       "Test...:   0%|          | 0/50 [00:00<?, ?it/s]"
      ]
     },
     "metadata": {},
     "output_type": "display_data"
    },
    {
     "name": "stdout",
     "output_type": "stream",
     "text": [
      "Epoch 98/100: lr=0.0001, Training loss = 0.001347, test accuracy = 0.824800\n"
     ]
    },
    {
     "data": {
      "application/vnd.jupyter.widget-view+json": {
       "model_id": "1e7e5ae588844ffe82afb8053314dae7",
       "version_major": 2,
       "version_minor": 0
      },
      "text/plain": [
       "Training epoch 99/100:   0%|          | 0/250 [00:00<?, ?it/s]"
      ]
     },
     "metadata": {},
     "output_type": "display_data"
    },
    {
     "data": {
      "application/vnd.jupyter.widget-view+json": {
       "model_id": "9fe56720934f478797a1dd4bca548b99",
       "version_major": 2,
       "version_minor": 0
      },
      "text/plain": [
       "Test...:   0%|          | 0/50 [00:00<?, ?it/s]"
      ]
     },
     "metadata": {},
     "output_type": "display_data"
    },
    {
     "name": "stdout",
     "output_type": "stream",
     "text": [
      "Epoch 99/100: lr=0.0001, Training loss = 0.001569, test accuracy = 0.825600\n"
     ]
    },
    {
     "data": {
      "application/vnd.jupyter.widget-view+json": {
       "model_id": "40871734f019420cb4251e40dbe182fc",
       "version_major": 2,
       "version_minor": 0
      },
      "text/plain": [
       "Training epoch 100/100:   0%|          | 0/250 [00:00<?, ?it/s]"
      ]
     },
     "metadata": {},
     "output_type": "display_data"
    },
    {
     "name": "stderr",
     "output_type": "stream",
     "text": [
      "IOPub message rate exceeded.\n",
      "The notebook server will temporarily stop sending output\n",
      "to the client in order to avoid crashing it.\n",
      "To change this limit, set the config variable\n",
      "`--NotebookApp.iopub_msg_rate_limit`.\n",
      "\n",
      "Current values:\n",
      "NotebookApp.iopub_msg_rate_limit=1000.0 (msgs/sec)\n",
      "NotebookApp.rate_limit_window=3.0 (secs)\n",
      "\n"
     ]
    }
   ],
   "source": [
    "# training \n",
    "#数据分批\n",
    "from torch import nn\n",
    "from train_utils import train,test,display_loss_plot\n",
    "from torch.utils.data import DataLoader\n",
    "from tqdm.notebook import tqdm\n",
    "import numpy as np\n",
    "\n",
    "num_epochs = 100\n",
    "batch_size=200\n",
    "data_loader_train = DataLoader(dataset=train_data,batch_size=batch_size,shuffle=True,num_workers=2)\n",
    "data_loader_test = DataLoader(dataset=test_data,batch_size=batch_size,shuffle=True,num_workers=2)\n",
    "\n",
    "model = model.cuda()\n",
    "criterion = nn.CrossEntropyLoss().cuda()\n",
    "optimizer = torch.optim.SGD(model.parameters(),lr=1.0)\n",
    "# lr_scheduler = torch.optim.lr_scheduler.CosineAnnealingWarmRestarts(optimizer, T_0=5, T_mult=1)\n",
    "lr_scheduler = torch.optim.lr_scheduler.MultiStepLR(optimizer,[60,80,90,95],gamma=0.1)\n",
    "\n",
    "running_loss = []\n",
    "running_test_acc = []\n",
    "\n",
    "for epoch in range(num_epochs):\n",
    "    loss_epoch = train(model, data_loader_train, optimizer, criterion,num_epochs,epoch)\n",
    "    test_acc = test(model, data_loader_test)\n",
    "    print(\"Epoch %d/%d: lr=%.4f, Training loss = %f, test accuracy = %f\" % (\n",
    "        epoch+1,num_epochs, optimizer.state_dict()['param_groups'][0]['lr'], \n",
    "        np.mean(loss_epoch), test_acc))\n",
    "    running_loss.append(loss_epoch)\n",
    "    running_test_acc.append(test_acc)\n",
    "    lr_scheduler.step()"
   ]
  },
  {
   "cell_type": "code",
   "execution_count": 16,
   "id": "4b4c1f86",
   "metadata": {},
   "outputs": [
    {
     "data": {
      "image/png": "[encoded data removed]",
      "text/plain": [
       "<Figure size 720x360 with 2 Axes>"
      ]
     },
     "metadata": {},
     "output_type": "display_data"
    }
   ],
   "source": [
    "from train_utils import display_loss_plot\n",
    "plt.style.use(\"ggplot\")\n",
    "plt.figure(figsize=(10,5))\n",
    "# Plot training loss over epochs\n",
    "loss_per_epoch = [np.mean(loss_per_epoch) for loss_per_epoch in running_loss]\n",
    "plt.subplot(1,2,1)\n",
    "display_loss_plot(loss_per_epoch)\n",
    "# Plot test accuracy over epochs\n",
    "acc_per_epoch = [np.mean(acc_per_epoch) for acc_per_epoch in running_test_acc]\n",
    "plt.subplot(1,2,2)\n",
    "display_loss_plot(acc_per_epoch, title=\"Test accuracy\", ylabel=\"Accuracy [%]\")\n",
    "plt.show()"
   ]
  },
  {
   "cell_type": "code",
   "execution_count": 15,
   "id": "d7f486ff",
   "metadata": {},
   "outputs": [
    {
     "name": "stdout",
     "output_type": "stream",
     "text": [
      "Cloning into 'BeYourOwnTeacher'...\n",
      "remote: Enumerating objects: 44, done.\u001b[K\n",
      "remote: Counting objects: 100% (44/44), done.\u001b[K\n",
      "remote: Compressing objects: 100% (30/30), done.\u001b[K\n",
      "remote: Total 44 (delta 10), reused 44 (delta 10), pack-reused 0\u001b[K\n",
      "Unpacking objects: 100% (44/44), done.\n",
      "Checking out files: 100% (12/12), done.\n"
     ]
    }
   ],
   "source": [
    "# ! git clone https://github.com/leejeongho3214/BeYourOwnTeacher.git"
   ]
  },
  {
   "cell_type": "markdown",
   "id": "057edeb3",
   "metadata": {},
   "source": [
    "# SDN on Cifar100 test\n",
    "The average traing batch time is 0.42s, average epoch training time is 0.42*250 = 105s"
   ]
  },
  {
   "cell_type": "code",
   "execution_count": 2,
   "id": "dcbcd188",
   "metadata": {},
   "outputs": [],
   "source": [
    "# model\n",
    "from SDN import multi_resnet18_kd\n",
    "\n",
    "resnet18_sdn = multi_resnet18_kd(num_classes=100)\n",
    "model = resnet18_sdn"
   ]
  },
  {
   "cell_type": "code",
   "execution_count": 4,
   "id": "8b0882f2",
   "metadata": {},
   "outputs": [
    {
     "name": "stdout",
     "output_type": "stream",
     "text": [
      "Files already downloaded and verified\n",
      "Files already downloaded and verified\n"
     ]
    }
   ],
   "source": [
    "# dataset\n",
    "from cifar100 import prepare_cifar100_train_dataset,prepare_cifar100_test_dataset\n",
    "\n",
    "cifar100_dir=\"/workspace/dataset/cifar100\"\n",
    "batch_size = 500\n",
    "train_loader = prepare_cifar100_train_dataset(data_dir=cifar100_dir, batch_size=batch_size, \n",
    "                                                        num_workers=2)\n",
    "test_loader = prepare_cifar100_test_dataset(data_dir=cifar100_dir, batch_size=batch_size, \n",
    "                                                        num_workers=2)"
   ]
  },
  {
   "cell_type": "code",
   "execution_count": 6,
   "id": "68e4fc55",
   "metadata": {},
   "outputs": [
    {
     "name": "stdout",
     "output_type": "stream",
     "text": [
      "Adjusting learning rate of group 0 to 1.0000e-02.\n"
     ]
    }
   ],
   "source": [
    "# Training hyper-parameters\n",
    "import torch\n",
    "from torch import nn\n",
    "import time\n",
    "# model = torch.nn.DataParallel(model).cuda()\n",
    "model=model.cuda()\n",
    "best_prec1 = 0\n",
    "criterion = nn.CrossEntropyLoss().cuda()\n",
    "optimizer = torch.optim.SGD(model.parameters(), \n",
    "                            lr=0.1, \n",
    "                            momentum=0.9, \n",
    "                            weight_decay = 1e-3)\n",
    "def warm_multi_step(epoch):\n",
    "    if (epoch < 1):\n",
    "        return 0.1\n",
    "    elif (1<=epoch<75):\n",
    "        return 1\n",
    "    elif 75 <= epoch < 130:\n",
    "        return 0.1\n",
    "    elif 130 <= epoch < 180:\n",
    "        return 0.01\n",
    "    elif epoch >=180:\n",
    "        return 0.001\n",
    "    else:\n",
    "        return 1\n",
    "\n",
    "lr_schedule = torch.optim.lr_scheduler.LambdaLR(optimizer,\n",
    "                                warm_multi_step,verbose=True)\n",
    "# lr_schedule = torch.optim.lr_scheduler.MultiStepLR(optimizer,[75,90,95])\n",
    "num_epoch=200\n",
    "start_epoch = 0\n",
    "temperature = 3\n",
    "alpha = 0.1\n",
    "beta = 1e-6\n",
    "\n",
    "log_path = \"./logs/log-resnetsdn-cifar100-wd0.001-epoch200.log\"\n",
    "with open(log_path,'w') as f:\n",
    "    f.write(\"Training ResNetSDN wd0.001 Epoch200\\r\\n\")"
   ]
  },
  {
   "cell_type": "code",
   "execution_count": 7,
   "id": "ddd6dfa3",
   "metadata": {
    "collapsed": true,
    "jupyter": {
     "outputs_hidden": true
    }
   },
   "outputs": [
    {
     "name": "stderr",
     "output_type": "stream",
     "text": [
      "Training : 100%|██████████| 100/100 [00:51<00:00,  1.96it/s, Msg=Time 0.510 (0.508), Data 0.231 (0.229), Loss 27.414 (28.371), Prec@1 10.60% (6.23%),]\n",
      "  0%|          | 0/20 [00:00<?, ?it/s]"
     ]
    },
    {
     "name": "stdout",
     "output_type": "stream",
     "text": [
      "Adjusting learning rate of group 0 to 1.0000e-01.\n"
     ]
    },
    {
     "name": "stderr",
     "output_type": "stream",
     "text": [
      "100%|██████████| 20/20 [00:02<00:00,  9.75it/s]\n",
      "Training :   0%|          | 0/100 [00:00<?, ?it/s]"
     ]
    },
    {
     "name": "stdout",
     "output_type": "stream",
     "text": [
      "Epoch 1/200: lr=0.1000, mean batch time = 0.51s, mean data loading time = 0.23, Training loss = 4.3274,4.3701,4.3850,4.2300, Test accuracy = 7.31%,7.41%,7.90%,9.82%,\n"
     ]
    },
    {
     "name": "stderr",
     "output_type": "stream",
     "text": [
      "Training : 100%|██████████| 100/100 [01:08<00:00,  1.47it/s, Msg=Time 0.766 (0.675), Data 0.527 (0.464), Loss 21.883 (22.625), Prec@1 34.00% (29.62%),]\n",
      "  0%|          | 0/20 [00:00<?, ?it/s]"
     ]
    },
    {
     "name": "stdout",
     "output_type": "stream",
     "text": [
      "Adjusting learning rate of group 0 to 1.0000e-01.\n"
     ]
    },
    {
     "name": "stderr",
     "output_type": "stream",
     "text": [
      "100%|██████████| 20/20 [00:03<00:00,  6.34it/s]\n",
      "Training :   0%|          | 0/100 [00:00<?, ?it/s]"
     ]
    },
    {
     "name": "stdout",
     "output_type": "stream",
     "text": [
      "Epoch 4/200: lr=0.1000, mean batch time = 0.67s, mean data loading time = 0.46, Training loss = 3.1431,2.9980,2.8551,2.7585, Test accuracy = 22.09%,24.62%,26.48%,29.48%,\n"
     ]
    },
    {
     "name": "stderr",
     "output_type": "stream",
     "text": [
      "Training : 100%|██████████| 100/100 [01:10<00:00,  1.42it/s, Msg=Time 0.725 (0.701), Data 0.492 (0.478), Loss 20.260 (21.218), Prec@1 40.40% (36.99%),]\n",
      "  0%|          | 0/20 [00:00<?, ?it/s]"
     ]
    },
    {
     "name": "stdout",
     "output_type": "stream",
     "text": [
      "Adjusting learning rate of group 0 to 1.0000e-01.\n"
     ]
    },
    {
     "name": "stderr",
     "output_type": "stream",
     "text": [
      "100%|██████████| 20/20 [00:03<00:00,  5.80it/s]\n",
      "Training :   0%|          | 0/100 [00:00<?, ?it/s]"
     ]
    },
    {
     "name": "stdout",
     "output_type": "stream",
     "text": [
      "Epoch 5/200: lr=0.1000, mean batch time = 0.70s, mean data loading time = 0.48, Training loss = 2.8685,2.6771,2.4977,2.3801, Test accuracy = 22.27%,28.35%,30.89%,34.96%,\n"
     ]
    },
    {
     "name": "stderr",
     "output_type": "stream",
     "text": [
      "Training : 100%|██████████| 100/100 [01:13<00:00,  1.37it/s, Msg=Time 0.732 (0.724), Data 0.514 (0.510), Loss 19.686 (20.098), Prec@1 44.80% (43.09%),]\n",
      "  0%|          | 0/20 [00:00<?, ?it/s]"
     ]
    },
    {
     "name": "stdout",
     "output_type": "stream",
     "text": [
      "Adjusting learning rate of group 0 to 1.0000e-01.\n"
     ]
    },
    {
     "name": "stderr",
     "output_type": "stream",
     "text": [
      "100%|██████████| 20/20 [00:03<00:00,  6.51it/s]\n",
      "Training :   0%|          | 0/100 [00:00<?, ?it/s]"
     ]
    },
    {
     "name": "stdout",
     "output_type": "stream",
     "text": [
      "Epoch 6/200: lr=0.1000, mean batch time = 0.72s, mean data loading time = 0.51, Training loss = 2.6552,2.4160,2.2097,2.0991, Test accuracy = 28.34%,29.21%,34.34%,37.19%,\n"
     ]
    },
    {
     "name": "stderr",
     "output_type": "stream",
     "text": [
      "Training : 100%|██████████| 100/100 [01:13<00:00,  1.36it/s, Msg=Time 0.671 (0.728), Data 0.460 (0.510), Loss 18.657 (19.207), Prec@1 49.60% (47.83%),]\n",
      "  0%|          | 0/20 [00:00<?, ?it/s]"
     ]
    },
    {
     "name": "stdout",
     "output_type": "stream",
     "text": [
      "Adjusting learning rate of group 0 to 1.0000e-01.\n"
     ]
    },
    {
     "name": "stderr",
     "output_type": "stream",
     "text": [
      "100%|██████████| 20/20 [00:03<00:00,  5.41it/s]\n",
      "Training :   0%|          | 0/100 [00:00<?, ?it/s]"
     ]
    },
    {
     "name": "stdout",
     "output_type": "stream",
     "text": [
      "Epoch 7/200: lr=0.1000, mean batch time = 0.73s, mean data loading time = 0.51, Training loss = 2.4813,2.2172,1.9904,1.8769, Test accuracy = 29.53%,36.41%,41.53%,43.93%,\n"
     ]
    },
    {
     "name": "stderr",
     "output_type": "stream",
     "text": [
      "Training : 100%|██████████| 100/100 [01:15<00:00,  1.33it/s, Msg=Time 0.735 (0.744), Data 0.512 (0.517), Loss 17.805 (18.421), Prec@1 56.60% (52.24%),]\n",
      "  0%|          | 0/20 [00:00<?, ?it/s]"
     ]
    },
    {
     "name": "stdout",
     "output_type": "stream",
     "text": [
      "Adjusting learning rate of group 0 to 1.0000e-01.\n"
     ]
    },
    {
     "name": "stderr",
     "output_type": "stream",
     "text": [
      "100%|██████████| 20/20 [00:03<00:00,  6.46it/s]\n",
      "Training :   0%|          | 0/100 [00:00<?, ?it/s]"
     ]
    },
    {
     "name": "stdout",
     "output_type": "stream",
     "text": [
      "Epoch 8/200: lr=0.1000, mean batch time = 0.74s, mean data loading time = 0.52, Training loss = 2.3228,2.0313,1.8102,1.6915, Test accuracy = 33.05%,37.34%,42.12%,45.27%,\n"
     ]
    },
    {
     "name": "stderr",
     "output_type": "stream",
     "text": [
      "Training : 100%|██████████| 100/100 [01:12<00:00,  1.37it/s, Msg=Time 0.750 (0.724), Data 0.516 (0.493), Loss 17.568 (17.849), Prec@1 54.80% (55.57%),]\n",
      "  0%|          | 0/20 [00:00<?, ?it/s]"
     ]
    },
    {
     "name": "stdout",
     "output_type": "stream",
     "text": [
      "Adjusting learning rate of group 0 to 1.0000e-01.\n"
     ]
    },
    {
     "name": "stderr",
     "output_type": "stream",
     "text": [
      "100%|██████████| 20/20 [00:03<00:00,  6.46it/s]\n",
      "Training :   0%|          | 0/100 [00:00<?, ?it/s]"
     ]
    },
    {
     "name": "stdout",
     "output_type": "stream",
     "text": [
      "Epoch 9/200: lr=0.1000, mean batch time = 0.72s, mean data loading time = 0.49, Training loss = 2.2211,1.8947,1.6723,1.5574, Test accuracy = 29.74%,39.99%,43.73%,47.20%,\n"
     ]
    },
    {
     "name": "stderr",
     "output_type": "stream",
     "text": [
      "Training : 100%|██████████| 100/100 [01:13<00:00,  1.36it/s, Msg=Time 0.711 (0.730), Data 0.493 (0.507), Loss 17.145 (17.383), Prec@1 59.40% (58.48%),]\n",
      "  0%|          | 0/20 [00:00<?, ?it/s]"
     ]
    },
    {
     "name": "stdout",
     "output_type": "stream",
     "text": [
      "Adjusting learning rate of group 0 to 1.0000e-01.\n"
     ]
    },
    {
     "name": "stderr",
     "output_type": "stream",
     "text": [
      "100%|██████████| 20/20 [00:03<00:00,  6.28it/s]\n",
      "Training :   0%|          | 0/100 [00:00<?, ?it/s]"
     ]
    },
    {
     "name": "stdout",
     "output_type": "stream",
     "text": [
      "Epoch 10/200: lr=0.1000, mean batch time = 0.73s, mean data loading time = 0.51, Training loss = 2.1261,1.7836,1.5505,1.4488, Test accuracy = 34.71%,40.49%,50.07%,53.24%,\n"
     ]
    },
    {
     "name": "stderr",
     "output_type": "stream",
     "text": [
      "Training : 100%|██████████| 100/100 [01:14<00:00,  1.35it/s, Msg=Time 0.712 (0.736), Data 0.494 (0.511), Loss 17.099 (17.044), Prec@1 60.60% (60.42%),]\n",
      "  0%|          | 0/20 [00:00<?, ?it/s]"
     ]
    },
    {
     "name": "stdout",
     "output_type": "stream",
     "text": [
      "Adjusting learning rate of group 0 to 1.0000e-01.\n"
     ]
    },
    {
     "name": "stderr",
     "output_type": "stream",
     "text": [
      "100%|██████████| 20/20 [00:03<00:00,  6.61it/s]\n",
      "Training :   0%|          | 0/100 [00:00<?, ?it/s]"
     ]
    },
    {
     "name": "stdout",
     "output_type": "stream",
     "text": [
      "Epoch 11/200: lr=0.1000, mean batch time = 0.74s, mean data loading time = 0.51, Training loss = 2.0627,1.7101,1.4741,1.3710, Test accuracy = 36.98%,45.98%,50.15%,51.74%,\n"
     ]
    },
    {
     "name": "stderr",
     "output_type": "stream",
     "text": [
      "Training : 100%|██████████| 100/100 [01:15<00:00,  1.33it/s, Msg=Time 0.753 (0.747), Data 0.525 (0.520), Loss 16.917 (16.725), Prec@1 59.00% (62.55%),]\n",
      "  0%|          | 0/20 [00:00<?, ?it/s]"
     ]
    },
    {
     "name": "stdout",
     "output_type": "stream",
     "text": [
      "Adjusting learning rate of group 0 to 1.0000e-01.\n"
     ]
    },
    {
     "name": "stderr",
     "output_type": "stream",
     "text": [
      "100%|██████████| 20/20 [00:03<00:00,  6.51it/s]\n",
      "Training :   0%|          | 0/100 [00:00<?, ?it/s]"
     ]
    },
    {
     "name": "stdout",
     "output_type": "stream",
     "text": [
      "Epoch 12/200: lr=0.1000, mean batch time = 0.75s, mean data loading time = 0.52, Training loss = 2.0193,1.6332,1.3880,1.2878, Test accuracy = 37.60%,47.87%,52.49%,54.59%,\n"
     ]
    },
    {
     "name": "stderr",
     "output_type": "stream",
     "text": [
      "Training : 100%|██████████| 100/100 [01:14<00:00,  1.34it/s, Msg=Time 0.899 (0.739), Data 0.648 (0.510), Loss 15.947 (16.476), Prec@1 68.60% (64.17%),]\n",
      "  0%|          | 0/20 [00:00<?, ?it/s]"
     ]
    },
    {
     "name": "stdout",
     "output_type": "stream",
     "text": [
      "Adjusting learning rate of group 0 to 1.0000e-01.\n"
     ]
    },
    {
     "name": "stderr",
     "output_type": "stream",
     "text": [
      "100%|██████████| 20/20 [00:03<00:00,  6.04it/s]\n",
      "Training :   0%|          | 0/100 [00:00<?, ?it/s]"
     ]
    },
    {
     "name": "stdout",
     "output_type": "stream",
     "text": [
      "Epoch 13/200: lr=0.1000, mean batch time = 0.74s, mean data loading time = 0.51, Training loss = 1.9754,1.5725,1.3266,1.2282, Test accuracy = 38.52%,47.10%,50.45%,52.15%,\n"
     ]
    },
    {
     "name": "stderr",
     "output_type": "stream",
     "text": [
      "Training : 100%|██████████| 100/100 [01:13<00:00,  1.35it/s, Msg=Time 0.826 (0.734), Data 0.583 (0.508), Loss 16.272 (16.281), Prec@1 65.80% (65.61%),]\n",
      "  0%|          | 0/20 [00:00<?, ?it/s]"
     ]
    },
    {
     "name": "stdout",
     "output_type": "stream",
     "text": [
      "Adjusting learning rate of group 0 to 1.0000e-01.\n"
     ]
    },
    {
     "name": "stderr",
     "output_type": "stream",
     "text": [
      "100%|██████████| 20/20 [00:02<00:00,  6.84it/s]\n",
      "Training :   0%|          | 0/100 [00:00<?, ?it/s]"
     ]
    },
    {
     "name": "stdout",
     "output_type": "stream",
     "text": [
      "Epoch 14/200: lr=0.1000, mean batch time = 0.73s, mean data loading time = 0.51, Training loss = 1.9326,1.5324,1.2789,1.1780, Test accuracy = 36.95%,45.69%,51.22%,52.55%,\n"
     ]
    },
    {
     "name": "stderr",
     "output_type": "stream",
     "text": [
      "Training : 100%|██████████| 100/100 [01:13<00:00,  1.36it/s, Msg=Time 0.744 (0.728), Data 0.513 (0.506), Loss 16.250 (16.128), Prec@1 64.60% (66.53%),]\n",
      "  0%|          | 0/20 [00:00<?, ?it/s]"
     ]
    },
    {
     "name": "stdout",
     "output_type": "stream",
     "text": [
      "Adjusting learning rate of group 0 to 1.0000e-01.\n"
     ]
    },
    {
     "name": "stderr",
     "output_type": "stream",
     "text": [
      "100%|██████████| 20/20 [00:03<00:00,  6.51it/s]\n",
      "Training :   0%|          | 0/100 [00:00<?, ?it/s]"
     ]
    },
    {
     "name": "stdout",
     "output_type": "stream",
     "text": [
      "Epoch 15/200: lr=0.1000, mean batch time = 0.73s, mean data loading time = 0.51, Training loss = 1.8976,1.4918,1.2410,1.1431, Test accuracy = 36.51%,41.72%,45.73%,47.62%,\n"
     ]
    },
    {
     "name": "stderr",
     "output_type": "stream",
     "text": [
      "Training : 100%|██████████| 100/100 [01:12<00:00,  1.38it/s, Msg=Time 0.717 (0.720), Data 0.496 (0.500), Loss 16.053 (15.911), Prec@1 68.20% (67.96%),]\n",
      "  0%|          | 0/20 [00:00<?, ?it/s]"
     ]
    },
    {
     "name": "stdout",
     "output_type": "stream",
     "text": [
      "Adjusting learning rate of group 0 to 1.0000e-01.\n"
     ]
    },
    {
     "name": "stderr",
     "output_type": "stream",
     "text": [
      "100%|██████████| 20/20 [00:03<00:00,  6.36it/s]\n",
      "Training :   0%|          | 0/100 [00:00<?, ?it/s]"
     ]
    },
    {
     "name": "stdout",
     "output_type": "stream",
     "text": [
      "Epoch 16/200: lr=0.1000, mean batch time = 0.72s, mean data loading time = 0.50, Training loss = 1.8647,1.4480,1.1878,1.0862, Test accuracy = 31.63%,39.64%,41.78%,44.37%,\n"
     ]
    },
    {
     "name": "stderr",
     "output_type": "stream",
     "text": [
      "Training :  75%|███████▌  | 75/100 [00:56<00:16,  1.49it/s, Msg=Time 0.673 (0.734), Data 0.462 (0.512), Loss 15.677 (15.718), Prec@1 65.60% (68.94%),]IOPub message rate exceeded.\n",
      "The notebook server will temporarily stop sending output\n",
      "to the client in order to avoid crashing it.\n",
      "To change this limit, set the config variable\n",
      "`--NotebookApp.iopub_msg_rate_limit`.\n",
      "\n",
      "Current values:\n",
      "NotebookApp.iopub_msg_rate_limit=1000.0 (msgs/sec)\n",
      "NotebookApp.rate_limit_window=3.0 (secs)\n",
      "\n",
      "Training : 100%|██████████| 100/100 [01:13<00:00,  1.35it/s, Msg=Time 0.838 (0.731), Data 0.597 (0.509), Loss 14.914 (14.535), Prec@1 73.20% (77.08%),]\n",
      "  0%|          | 0/20 [00:00<?, ?it/s]"
     ]
    },
    {
     "name": "stdout",
     "output_type": "stream",
     "text": [
      "Adjusting learning rate of group 0 to 1.0000e-01.\n"
     ]
    },
    {
     "name": "stderr",
     "output_type": "stream",
     "text": [
      "100%|██████████| 20/20 [00:03<00:00,  6.23it/s]\n",
      "Training :   0%|          | 0/100 [00:00<?, ?it/s]"
     ]
    },
    {
     "name": "stdout",
     "output_type": "stream",
     "text": [
      "Epoch 36/200: lr=0.1000, mean batch time = 0.73s, mean data loading time = 0.51, Training loss = 1.5939,1.1320,0.8298,0.7604, Test accuracy = 45.09%,53.57%,56.02%,57.60%,\n"
     ]
    },
    {
     "name": "stderr",
     "output_type": "stream",
     "text": [
      "Training : 100%|██████████| 100/100 [01:12<00:00,  1.39it/s, Msg=Time 0.720 (0.716), Data 0.499 (0.494), Loss 14.406 (14.534), Prec@1 77.40% (76.94%),]\n",
      "  0%|          | 0/20 [00:00<?, ?it/s]"
     ]
    },
    {
     "name": "stdout",
     "output_type": "stream",
     "text": [
      "Adjusting learning rate of group 0 to 1.0000e-01.\n"
     ]
    },
    {
     "name": "stderr",
     "output_type": "stream",
     "text": [
      "100%|██████████| 20/20 [00:03<00:00,  5.99it/s]\n",
      "Training :   0%|          | 0/100 [00:00<?, ?it/s]"
     ]
    },
    {
     "name": "stdout",
     "output_type": "stream",
     "text": [
      "Epoch 37/200: lr=0.1000, mean batch time = 0.72s, mean data loading time = 0.49, Training loss = 1.5886,1.1257,0.8292,0.7635, Test accuracy = 46.61%,51.65%,54.50%,56.76%,\n"
     ]
    },
    {
     "name": "stderr",
     "output_type": "stream",
     "text": [
      "Training : 100%|██████████| 100/100 [01:14<00:00,  1.34it/s, Msg=Time 0.736 (0.738), Data 0.513 (0.512), Loss 14.346 (14.468), Prec@1 77.80% (77.51%),]\n",
      "  0%|          | 0/20 [00:00<?, ?it/s]"
     ]
    },
    {
     "name": "stdout",
     "output_type": "stream",
     "text": [
      "Adjusting learning rate of group 0 to 1.0000e-01.\n"
     ]
    },
    {
     "name": "stderr",
     "output_type": "stream",
     "text": [
      "100%|██████████| 20/20 [00:03<00:00,  6.48it/s]\n",
      "Training :   0%|          | 0/100 [00:00<?, ?it/s]"
     ]
    },
    {
     "name": "stdout",
     "output_type": "stream",
     "text": [
      "Epoch 38/200: lr=0.1000, mean batch time = 0.74s, mean data loading time = 0.51, Training loss = 1.5801,1.1134,0.8125,0.7453, Test accuracy = 43.97%,55.24%,58.64%,60.04%,\n"
     ]
    },
    {
     "name": "stderr",
     "output_type": "stream",
     "text": [
      "Training : 100%|██████████| 100/100 [01:12<00:00,  1.37it/s, Msg=Time 0.693 (0.722), Data 0.479 (0.502), Loss 14.810 (14.486), Prec@1 73.60% (77.18%),]\n",
      "  0%|          | 0/20 [00:00<?, ?it/s]"
     ]
    },
    {
     "name": "stdout",
     "output_type": "stream",
     "text": [
      "Adjusting learning rate of group 0 to 1.0000e-01.\n"
     ]
    },
    {
     "name": "stderr",
     "output_type": "stream",
     "text": [
      "100%|██████████| 20/20 [00:02<00:00,  7.23it/s]\n",
      "Training :   0%|          | 0/100 [00:00<?, ?it/s]"
     ]
    },
    {
     "name": "stdout",
     "output_type": "stream",
     "text": [
      "Epoch 39/200: lr=0.1000, mean batch time = 0.72s, mean data loading time = 0.50, Training loss = 1.5749,1.1204,0.8164,0.7507, Test accuracy = 42.45%,46.96%,49.21%,49.51%,\n"
     ]
    },
    {
     "name": "stderr",
     "output_type": "stream",
     "text": [
      "Training : 100%|██████████| 100/100 [01:13<00:00,  1.37it/s, Msg=Time 0.725 (0.727), Data 0.503 (0.505), Loss 14.821 (14.437), Prec@1 75.00% (77.72%),]\n",
      "  0%|          | 0/20 [00:00<?, ?it/s]"
     ]
    },
    {
     "name": "stdout",
     "output_type": "stream",
     "text": [
      "Adjusting learning rate of group 0 to 1.0000e-01.\n"
     ]
    },
    {
     "name": "stderr",
     "output_type": "stream",
     "text": [
      "100%|██████████| 20/20 [00:03<00:00,  5.92it/s]\n",
      "Training :   0%|          | 0/100 [00:00<?, ?it/s]"
     ]
    },
    {
     "name": "stdout",
     "output_type": "stream",
     "text": [
      "Epoch 40/200: lr=0.1000, mean batch time = 0.73s, mean data loading time = 0.50, Training loss = 1.5683,1.1103,0.8027,0.7387, Test accuracy = 43.48%,49.52%,55.47%,57.25%,\n"
     ]
    },
    {
     "name": "stderr",
     "output_type": "stream",
     "text": [
      "Training : 100%|██████████| 100/100 [01:14<00:00,  1.35it/s, Msg=Time 0.726 (0.735), Data 0.507 (0.509), Loss 14.805 (14.394), Prec@1 75.00% (77.96%),]\n",
      "  0%|          | 0/20 [00:00<?, ?it/s]"
     ]
    },
    {
     "name": "stdout",
     "output_type": "stream",
     "text": [
      "Adjusting learning rate of group 0 to 1.0000e-01.\n"
     ]
    },
    {
     "name": "stderr",
     "output_type": "stream",
     "text": [
      "100%|██████████| 20/20 [00:03<00:00,  6.20it/s]\n",
      "Training :   0%|          | 0/100 [00:00<?, ?it/s]"
     ]
    },
    {
     "name": "stdout",
     "output_type": "stream",
     "text": [
      "Epoch 41/200: lr=0.1000, mean batch time = 0.74s, mean data loading time = 0.51, Training loss = 1.5655,1.0986,0.7975,0.7321, Test accuracy = 41.82%,46.55%,51.44%,52.42%,\n"
     ]
    },
    {
     "name": "stderr",
     "output_type": "stream",
     "text": [
      "Training : 100%|██████████| 100/100 [01:13<00:00,  1.36it/s, Msg=Time 0.734 (0.730), Data 0.508 (0.506), Loss 14.533 (14.359), Prec@1 78.20% (78.43%),]\n",
      "  0%|          | 0/20 [00:00<?, ?it/s]"
     ]
    },
    {
     "name": "stdout",
     "output_type": "stream",
     "text": [
      "Adjusting learning rate of group 0 to 1.0000e-01.\n"
     ]
    },
    {
     "name": "stderr",
     "output_type": "stream",
     "text": [
      "100%|██████████| 20/20 [00:03<00:00,  5.91it/s]\n",
      "Training :   0%|          | 0/100 [00:00<?, ?it/s]"
     ]
    },
    {
     "name": "stdout",
     "output_type": "stream",
     "text": [
      "Epoch 42/200: lr=0.1000, mean batch time = 0.73s, mean data loading time = 0.51, Training loss = 1.5654,1.0956,0.7850,0.7200, Test accuracy = 45.01%,55.82%,57.82%,59.23%,\n"
     ]
    },
    {
     "name": "stderr",
     "output_type": "stream",
     "text": [
      "Training : 100%|██████████| 100/100 [01:13<00:00,  1.36it/s, Msg=Time 0.748 (0.729), Data 0.523 (0.508), Loss 14.282 (14.312), Prec@1 78.80% (78.54%),]\n",
      "  0%|          | 0/20 [00:00<?, ?it/s]"
     ]
    },
    {
     "name": "stdout",
     "output_type": "stream",
     "text": [
      "Adjusting learning rate of group 0 to 1.0000e-01.\n"
     ]
    },
    {
     "name": "stderr",
     "output_type": "stream",
     "text": [
      "100%|██████████| 20/20 [00:03<00:00,  6.22it/s]\n",
      "Training :   0%|          | 0/100 [00:00<?, ?it/s]"
     ]
    },
    {
     "name": "stdout",
     "output_type": "stream",
     "text": [
      "Epoch 43/200: lr=0.1000, mean batch time = 0.73s, mean data loading time = 0.51, Training loss = 1.5477,1.0818,0.7747,0.7091, Test accuracy = 43.23%,50.21%,51.39%,53.18%,\n"
     ]
    },
    {
     "name": "stderr",
     "output_type": "stream",
     "text": [
      "Training : 100%|██████████| 100/100 [01:14<00:00,  1.35it/s, Msg=Time 0.760 (0.734), Data 0.535 (0.511), Loss 14.366 (14.316), Prec@1 77.60% (78.58%),]\n",
      "  0%|          | 0/20 [00:00<?, ?it/s]"
     ]
    },
    {
     "name": "stdout",
     "output_type": "stream",
     "text": [
      "Adjusting learning rate of group 0 to 1.0000e-01.\n"
     ]
    },
    {
     "name": "stderr",
     "output_type": "stream",
     "text": [
      "100%|██████████| 20/20 [00:02<00:00,  6.98it/s]\n",
      "Training :   0%|          | 0/100 [00:00<?, ?it/s]"
     ]
    },
    {
     "name": "stdout",
     "output_type": "stream",
     "text": [
      "Epoch 44/200: lr=0.1000, mean batch time = 0.73s, mean data loading time = 0.51, Training loss = 1.5453,1.0806,0.7720,0.7093, Test accuracy = 44.52%,51.57%,60.30%,61.02%,\n"
     ]
    },
    {
     "name": "stderr",
     "output_type": "stream",
     "text": [
      "Training : 100%|██████████| 100/100 [01:12<00:00,  1.37it/s, Msg=Time 0.714 (0.722), Data 0.496 (0.502), Loss 14.393 (14.270), Prec@1 77.80% (78.99%),]\n",
      "  0%|          | 0/20 [00:00<?, ?it/s]"
     ]
    },
    {
     "name": "stdout",
     "output_type": "stream",
     "text": [
      "Adjusting learning rate of group 0 to 1.0000e-01.\n"
     ]
    },
    {
     "name": "stderr",
     "output_type": "stream",
     "text": [
      "100%|██████████| 20/20 [00:03<00:00,  6.36it/s]\n",
      "Training :   0%|          | 0/100 [00:00<?, ?it/s]"
     ]
    },
    {
     "name": "stdout",
     "output_type": "stream",
     "text": [
      "Epoch 45/200: lr=0.1000, mean batch time = 0.72s, mean data loading time = 0.50, Training loss = 1.5330,1.0739,0.7581,0.6941, Test accuracy = 44.16%,51.27%,55.81%,56.52%,\n"
     ]
    },
    {
     "name": "stderr",
     "output_type": "stream",
     "text": [
      "Training : 100%|██████████| 100/100 [01:14<00:00,  1.34it/s, Msg=Time 0.782 (0.738), Data 0.552 (0.514), Loss 14.359 (14.340), Prec@1 77.60% (78.16%),]\n",
      "  0%|          | 0/20 [00:00<?, ?it/s]"
     ]
    },
    {
     "name": "stdout",
     "output_type": "stream",
     "text": [
      "Adjusting learning rate of group 0 to 1.0000e-01.\n"
     ]
    },
    {
     "name": "stderr",
     "output_type": "stream",
     "text": [
      "100%|██████████| 20/20 [00:02<00:00,  6.90it/s]\n",
      "Training :   0%|          | 0/100 [00:00<?, ?it/s]"
     ]
    },
    {
     "name": "stdout",
     "output_type": "stream",
     "text": [
      "Epoch 46/200: lr=0.1000, mean batch time = 0.74s, mean data loading time = 0.51, Training loss = 1.5421,1.0856,0.7752,0.7165, Test accuracy = 45.07%,53.25%,57.29%,58.80%,\n"
     ]
    },
    {
     "name": "stderr",
     "output_type": "stream",
     "text": [
      "Training : 100%|██████████| 100/100 [01:11<00:00,  1.39it/s, Msg=Time 0.734 (0.712), Data 0.510 (0.494), Loss 14.081 (14.279), Prec@1 80.00% (78.64%),]\n",
      "  0%|          | 0/20 [00:00<?, ?it/s]"
     ]
    },
    {
     "name": "stdout",
     "output_type": "stream",
     "text": [
      "Adjusting learning rate of group 0 to 1.0000e-01.\n"
     ]
    },
    {
     "name": "stderr",
     "output_type": "stream",
     "text": [
      "100%|██████████| 20/20 [00:03<00:00,  5.93it/s]\n",
      "Training :   0%|          | 0/100 [00:00<?, ?it/s]"
     ]
    },
    {
     "name": "stdout",
     "output_type": "stream",
     "text": [
      "Epoch 47/200: lr=0.1000, mean batch time = 0.71s, mean data loading time = 0.49, Training loss = 1.5368,1.0763,0.7629,0.7013, Test accuracy = 41.90%,50.60%,56.28%,57.48%,\n"
     ]
    },
    {
     "name": "stderr",
     "output_type": "stream",
     "text": [
      "Training : 100%|██████████| 100/100 [01:13<00:00,  1.36it/s, Msg=Time 0.715 (0.727), Data 0.494 (0.504), Loss 14.519 (14.267), Prec@1 75.60% (78.44%),]\n",
      "  0%|          | 0/20 [00:00<?, ?it/s]"
     ]
    },
    {
     "name": "stdout",
     "output_type": "stream",
     "text": [
      "Adjusting learning rate of group 0 to 1.0000e-01.\n"
     ]
    },
    {
     "name": "stderr",
     "output_type": "stream",
     "text": [
      "100%|██████████| 20/20 [00:03<00:00,  6.11it/s]\n",
      "Training :   0%|          | 0/100 [00:00<?, ?it/s]"
     ]
    },
    {
     "name": "stdout",
     "output_type": "stream",
     "text": [
      "Epoch 48/200: lr=0.1000, mean batch time = 0.73s, mean data loading time = 0.50, Training loss = 1.5342,1.0692,0.7700,0.7078, Test accuracy = 42.62%,50.47%,52.62%,53.88%,\n"
     ]
    },
    {
     "name": "stderr",
     "output_type": "stream",
     "text": [
      "Training :  71%|███████   | 71/100 [00:52<00:19,  1.45it/s, Msg=Time 0.690 (0.728), Data 0.476 (0.507), Loss 14.592 (14.095), Prec@1 75.60% (79.89%),]IOPub message rate exceeded.\n",
      "The notebook server will temporarily stop sending output\n",
      "to the client in order to avoid crashing it.\n",
      "To change this limit, set the config variable\n",
      "`--NotebookApp.iopub_msg_rate_limit`.\n",
      "\n",
      "Current values:\n",
      "NotebookApp.iopub_msg_rate_limit=1000.0 (msgs/sec)\n",
      "NotebookApp.rate_limit_window=3.0 (secs)\n",
      "\n",
      "Training : 100%|██████████| 100/100 [01:13<00:00,  1.35it/s, Msg=Time 0.718 (0.734), Data 0.495 (0.511), Loss 14.050 (14.034), Prec@1 78.60% (80.47%),]\n",
      "  0%|          | 0/20 [00:00<?, ?it/s]"
     ]
    },
    {
     "name": "stdout",
     "output_type": "stream",
     "text": [
      "Adjusting learning rate of group 0 to 1.0000e-01.\n"
     ]
    },
    {
     "name": "stderr",
     "output_type": "stream",
     "text": [
      "100%|██████████| 20/20 [00:03<00:00,  6.04it/s]\n",
      "Training :   0%|          | 0/100 [00:00<?, ?it/s]"
     ]
    },
    {
     "name": "stdout",
     "output_type": "stream",
     "text": [
      "Epoch 65/200: lr=0.1000, mean batch time = 0.73s, mean data loading time = 0.51, Training loss = 1.4873,1.0179,0.7009,0.6486, Test accuracy = 44.06%,54.92%,57.72%,59.66%,\n"
     ]
    },
    {
     "name": "stderr",
     "output_type": "stream",
     "text": [
      "Training : 100%|██████████| 100/100 [01:14<00:00,  1.34it/s, Msg=Time 0.754 (0.741), Data 0.530 (0.519), Loss 13.699 (14.026), Prec@1 83.80% (80.09%),]\n",
      "  0%|          | 0/20 [00:00<?, ?it/s]"
     ]
    },
    {
     "name": "stdout",
     "output_type": "stream",
     "text": [
      "Adjusting learning rate of group 0 to 1.0000e-01.\n"
     ]
    },
    {
     "name": "stderr",
     "output_type": "stream",
     "text": [
      "100%|██████████| 20/20 [00:03<00:00,  6.47it/s]\n",
      "Training :   0%|          | 0/100 [00:00<?, ?it/s]"
     ]
    },
    {
     "name": "stdout",
     "output_type": "stream",
     "text": [
      "Epoch 66/200: lr=0.1000, mean batch time = 0.74s, mean data loading time = 0.52, Training loss = 1.4834,1.0133,0.6992,0.6527, Test accuracy = 48.09%,57.03%,60.62%,61.67%,\n"
     ]
    },
    {
     "name": "stderr",
     "output_type": "stream",
     "text": [
      "Training : 100%|██████████| 100/100 [01:13<00:00,  1.36it/s, Msg=Time 0.749 (0.732), Data 0.522 (0.513), Loss 14.099 (13.978), Prec@1 79.80% (80.85%),]\n",
      "  0%|          | 0/20 [00:00<?, ?it/s]"
     ]
    },
    {
     "name": "stdout",
     "output_type": "stream",
     "text": [
      "Adjusting learning rate of group 0 to 1.0000e-01.\n"
     ]
    },
    {
     "name": "stderr",
     "output_type": "stream",
     "text": [
      "100%|██████████| 20/20 [00:03<00:00,  6.41it/s]\n",
      "Training :   0%|          | 0/100 [00:00<?, ?it/s]"
     ]
    },
    {
     "name": "stdout",
     "output_type": "stream",
     "text": [
      "Epoch 67/200: lr=0.1000, mean batch time = 0.73s, mean data loading time = 0.51, Training loss = 1.4722,1.0048,0.6839,0.6328, Test accuracy = 48.70%,55.22%,58.47%,59.78%,\n"
     ]
    },
    {
     "name": "stderr",
     "output_type": "stream",
     "text": [
      "Training : 100%|██████████| 100/100 [01:14<00:00,  1.35it/s, Msg=Time 0.681 (0.738), Data 0.471 (0.517), Loss 14.189 (14.033), Prec@1 80.00% (80.28%),]\n",
      "  0%|          | 0/20 [00:00<?, ?it/s]"
     ]
    },
    {
     "name": "stdout",
     "output_type": "stream",
     "text": [
      "Adjusting learning rate of group 0 to 1.0000e-01.\n"
     ]
    },
    {
     "name": "stderr",
     "output_type": "stream",
     "text": [
      "100%|██████████| 20/20 [00:03<00:00,  6.64it/s]\n",
      "Training :   0%|          | 0/100 [00:00<?, ?it/s]"
     ]
    },
    {
     "name": "stdout",
     "output_type": "stream",
     "text": [
      "Epoch 68/200: lr=0.1000, mean batch time = 0.74s, mean data loading time = 0.52, Training loss = 1.4835,1.0114,0.6996,0.6528, Test accuracy = 42.70%,48.38%,48.72%,51.92%,\n"
     ]
    },
    {
     "name": "stderr",
     "output_type": "stream",
     "text": [
      "Training : 100%|██████████| 100/100 [01:13<00:00,  1.35it/s, Msg=Time 0.652 (0.733), Data 0.450 (0.512), Loss 14.129 (13.985), Prec@1 79.20% (80.75%),]\n",
      "  0%|          | 0/20 [00:00<?, ?it/s]"
     ]
    },
    {
     "name": "stdout",
     "output_type": "stream",
     "text": [
      "Adjusting learning rate of group 0 to 1.0000e-01.\n"
     ]
    },
    {
     "name": "stderr",
     "output_type": "stream",
     "text": [
      "100%|██████████| 20/20 [00:04<00:00,  4.34it/s]\n",
      "Training :   0%|          | 0/100 [00:00<?, ?it/s]"
     ]
    },
    {
     "name": "stdout",
     "output_type": "stream",
     "text": [
      "Epoch 69/200: lr=0.1000, mean batch time = 0.73s, mean data loading time = 0.51, Training loss = 1.4806,1.0094,0.6872,0.6401, Test accuracy = 46.98%,53.88%,53.89%,53.72%,\n"
     ]
    },
    {
     "name": "stderr",
     "output_type": "stream",
     "text": [
      "Training : 100%|██████████| 100/100 [01:13<00:00,  1.35it/s, Msg=Time 0.744 (0.732), Data 0.513 (0.509), Loss 14.330 (14.042), Prec@1 78.00% (79.93%),]\n",
      "  0%|          | 0/20 [00:00<?, ?it/s]"
     ]
    },
    {
     "name": "stdout",
     "output_type": "stream",
     "text": [
      "Adjusting learning rate of group 0 to 1.0000e-01.\n"
     ]
    },
    {
     "name": "stderr",
     "output_type": "stream",
     "text": [
      "100%|██████████| 20/20 [00:03<00:00,  6.37it/s]\n",
      "Training :   0%|          | 0/100 [00:00<?, ?it/s]"
     ]
    },
    {
     "name": "stdout",
     "output_type": "stream",
     "text": [
      "Epoch 70/200: lr=0.1000, mean batch time = 0.73s, mean data loading time = 0.51, Training loss = 1.4822,1.0143,0.7043,0.6599, Test accuracy = 45.13%,56.98%,60.49%,61.13%,\n"
     ]
    },
    {
     "name": "stderr",
     "output_type": "stream",
     "text": [
      "Training : 100%|██████████| 100/100 [01:16<00:00,  1.31it/s, Msg=Time 0.756 (0.758), Data 0.532 (0.532), Loss 14.185 (13.945), Prec@1 78.60% (80.75%),]\n",
      "  0%|          | 0/20 [00:00<?, ?it/s]"
     ]
    },
    {
     "name": "stdout",
     "output_type": "stream",
     "text": [
      "Adjusting learning rate of group 0 to 1.0000e-01.\n"
     ]
    },
    {
     "name": "stderr",
     "output_type": "stream",
     "text": [
      "100%|██████████| 20/20 [00:03<00:00,  6.40it/s]\n",
      "Training :   0%|          | 0/100 [00:00<?, ?it/s]"
     ]
    },
    {
     "name": "stdout",
     "output_type": "stream",
     "text": [
      "Epoch 71/200: lr=0.1000, mean batch time = 0.76s, mean data loading time = 0.53, Training loss = 1.4728,1.0060,0.6854,0.6355, Test accuracy = 44.09%,53.93%,56.83%,57.08%,\n"
     ]
    },
    {
     "name": "stderr",
     "output_type": "stream",
     "text": [
      "Training : 100%|██████████| 100/100 [01:12<00:00,  1.39it/s, Msg=Time 0.757 (0.716), Data 0.532 (0.499), Loss 14.390 (13.971), Prec@1 76.40% (80.28%),]\n",
      "  0%|          | 0/20 [00:00<?, ?it/s]"
     ]
    },
    {
     "name": "stdout",
     "output_type": "stream",
     "text": [
      "Adjusting learning rate of group 0 to 1.0000e-01.\n"
     ]
    },
    {
     "name": "stderr",
     "output_type": "stream",
     "text": [
      "100%|██████████| 20/20 [00:03<00:00,  5.76it/s]\n",
      "Training :   0%|          | 0/100 [00:00<?, ?it/s]"
     ]
    },
    {
     "name": "stdout",
     "output_type": "stream",
     "text": [
      "Epoch 72/200: lr=0.1000, mean batch time = 0.72s, mean data loading time = 0.50, Training loss = 1.4786,1.0098,0.6962,0.6499, Test accuracy = 44.67%,48.69%,55.37%,58.04%,\n"
     ]
    },
    {
     "name": "stderr",
     "output_type": "stream",
     "text": [
      "Training : 100%|██████████| 100/100 [01:14<00:00,  1.35it/s, Msg=Time 0.764 (0.737), Data 0.536 (0.515), Loss 14.417 (13.966), Prec@1 78.60% (80.81%),]\n",
      "  0%|          | 0/20 [00:00<?, ?it/s]"
     ]
    },
    {
     "name": "stdout",
     "output_type": "stream",
     "text": [
      "Adjusting learning rate of group 0 to 1.0000e-01.\n"
     ]
    },
    {
     "name": "stderr",
     "output_type": "stream",
     "text": [
      "100%|██████████| 20/20 [00:03<00:00,  6.41it/s]\n",
      "Training :   0%|          | 0/100 [00:00<?, ?it/s]"
     ]
    },
    {
     "name": "stdout",
     "output_type": "stream",
     "text": [
      "Epoch 73/200: lr=0.1000, mean batch time = 0.74s, mean data loading time = 0.52, Training loss = 1.4734,1.0018,0.6836,0.6365, Test accuracy = 45.87%,56.11%,59.22%,60.64%,\n"
     ]
    },
    {
     "name": "stderr",
     "output_type": "stream",
     "text": [
      "Training : 100%|██████████| 100/100 [01:13<00:00,  1.37it/s, Msg=Time 0.696 (0.726), Data 0.482 (0.507), Loss 14.018 (13.985), Prec@1 79.40% (80.32%),]\n",
      "  0%|          | 0/20 [00:00<?, ?it/s]"
     ]
    },
    {
     "name": "stdout",
     "output_type": "stream",
     "text": [
      "Adjusting learning rate of group 0 to 1.0000e-01.\n"
     ]
    },
    {
     "name": "stderr",
     "output_type": "stream",
     "text": [
      "100%|██████████| 20/20 [00:03<00:00,  6.09it/s]\n",
      "Training :   0%|          | 0/100 [00:00<?, ?it/s]"
     ]
    },
    {
     "name": "stdout",
     "output_type": "stream",
     "text": [
      "Epoch 74/200: lr=0.1000, mean batch time = 0.73s, mean data loading time = 0.51, Training loss = 1.4727,0.9975,0.6938,0.6475, Test accuracy = 45.22%,52.84%,54.91%,57.13%,\n"
     ]
    },
    {
     "name": "stderr",
     "output_type": "stream",
     "text": [
      "Training : 100%|██████████| 100/100 [01:13<00:00,  1.35it/s, Msg=Time 0.716 (0.733), Data 0.496 (0.512), Loss 14.372 (13.948), Prec@1 79.80% (80.65%),]\n",
      "  0%|          | 0/20 [00:00<?, ?it/s]"
     ]
    },
    {
     "name": "stdout",
     "output_type": "stream",
     "text": [
      "Adjusting learning rate of group 0 to 1.0000e-02.\n"
     ]
    },
    {
     "name": "stderr",
     "output_type": "stream",
     "text": [
      "100%|██████████| 20/20 [00:03<00:00,  6.41it/s]\n",
      "Training :   0%|          | 0/100 [00:00<?, ?it/s]"
     ]
    },
    {
     "name": "stdout",
     "output_type": "stream",
     "text": [
      "Epoch 75/200: lr=0.0100, mean batch time = 0.73s, mean data loading time = 0.51, Training loss = 1.4679,0.9964,0.6833,0.6382, Test accuracy = 40.25%,56.09%,58.65%,60.92%,\n"
     ]
    },
    {
     "name": "stderr",
     "output_type": "stream",
     "text": [
      "Training : 100%|██████████| 100/100 [01:14<00:00,  1.35it/s, Msg=Time 0.747 (0.736), Data 0.533 (0.514), Loss 12.662 (12.733), Prec@1 92.20% (90.11%),]\n",
      "  0%|          | 0/20 [00:00<?, ?it/s]"
     ]
    },
    {
     "name": "stdout",
     "output_type": "stream",
     "text": [
      "Adjusting learning rate of group 0 to 1.0000e-02.\n"
     ]
    },
    {
     "name": "stderr",
     "output_type": "stream",
     "text": [
      "100%|██████████| 20/20 [00:03<00:00,  6.48it/s]\n",
      "Training :   0%|          | 0/100 [00:00<?, ?it/s]"
     ]
    },
    {
     "name": "stdout",
     "output_type": "stream",
     "text": [
      "Epoch 76/200: lr=0.0100, mean batch time = 0.74s, mean data loading time = 0.51, Training loss = 1.2665,0.7602,0.3872,0.3396, Test accuracy = 61.76%,70.83%,75.64%,75.91%,\n"
     ]
    },
    {
     "name": "stderr",
     "output_type": "stream",
     "text": [
      "Training : 100%|██████████| 100/100 [01:12<00:00,  1.37it/s, Msg=Time 0.774 (0.723), Data 0.558 (0.513), Loss 12.113 (12.211), Prec@1 93.60% (93.88%),]\n",
      "  0%|          | 0/20 [00:00<?, ?it/s]"
     ]
    },
    {
     "name": "stdout",
     "output_type": "stream",
     "text": [
      "Adjusting learning rate of group 0 to 1.0000e-02.\n"
     ]
    },
    {
     "name": "stderr",
     "output_type": "stream",
     "text": [
      "100%|██████████| 20/20 [00:03<00:00,  6.33it/s]\n",
      "Training :   0%|          | 0/100 [00:00<?, ?it/s]"
     ]
    },
    {
     "name": "stdout",
     "output_type": "stream",
     "text": [
      "Epoch 77/200: lr=0.0100, mean batch time = 0.72s, mean data loading time = 0.51, Training loss = 1.1891,0.6605,0.2641,0.2195, Test accuracy = 62.37%,71.25%,76.44%,76.58%,\n"
     ]
    },
    {
     "name": "stderr",
     "output_type": "stream",
     "text": [
      "Training :  91%|█████████ | 91/100 [01:07<00:06,  1.38it/s, Msg=Time 0.722 (0.733), Data 0.511 (0.519), Loss 11.993 (12.067), Prec@1 94.20% (94.93%),]IOPub message rate exceeded.\n",
      "The notebook server will temporarily stop sending output\n",
      "to the client in order to avoid crashing it.\n",
      "To change this limit, set the config variable\n",
      "`--NotebookApp.iopub_msg_rate_limit`.\n",
      "\n",
      "Current values:\n",
      "NotebookApp.iopub_msg_rate_limit=1000.0 (msgs/sec)\n",
      "NotebookApp.rate_limit_window=3.0 (secs)\n",
      "\n",
      "Training : 100%|██████████| 100/100 [01:15<00:00,  1.32it/s, Msg=Time 0.642 (0.751), Data 0.448 (0.524), Loss 11.866 (11.841), Prec@1 99.60% (99.14%),]\n",
      "  0%|          | 0/20 [00:00<?, ?it/s]"
     ]
    },
    {
     "name": "stdout",
     "output_type": "stream",
     "text": [
      "Adjusting learning rate of group 0 to 1.0000e-02.\n"
     ]
    },
    {
     "name": "stderr",
     "output_type": "stream",
     "text": [
      "100%|██████████| 20/20 [00:02<00:00,  7.13it/s]\n",
      "Training :   0%|          | 0/100 [00:00<?, ?it/s]"
     ]
    },
    {
     "name": "stdout",
     "output_type": "stream",
     "text": [
      "Epoch 95/200: lr=0.0100, mean batch time = 0.75s, mean data loading time = 0.52, Training loss = 1.0328,0.4532,0.0709,0.0450, Test accuracy = 63.44%,72.10%,76.09%,76.40%,\n"
     ]
    },
    {
     "name": "stderr",
     "output_type": "stream",
     "text": [
      "Training : 100%|██████████| 100/100 [01:12<00:00,  1.37it/s, Msg=Time 0.728 (0.722), Data 0.508 (0.502), Loss 11.682 (11.850), Prec@1 99.60% (99.15%),]\n",
      "  0%|          | 0/20 [00:00<?, ?it/s]"
     ]
    },
    {
     "name": "stdout",
     "output_type": "stream",
     "text": [
      "Adjusting learning rate of group 0 to 1.0000e-02.\n"
     ]
    },
    {
     "name": "stderr",
     "output_type": "stream",
     "text": [
      "100%|██████████| 20/20 [00:03<00:00,  6.55it/s]\n",
      "Training :   0%|          | 0/100 [00:00<?, ?it/s]"
     ]
    },
    {
     "name": "stdout",
     "output_type": "stream",
     "text": [
      "Epoch 96/200: lr=0.0100, mean batch time = 0.72s, mean data loading time = 0.50, Training loss = 1.0286,0.4464,0.0670,0.0422, Test accuracy = 64.03%,71.66%,76.14%,76.49%,\n"
     ]
    },
    {
     "name": "stderr",
     "output_type": "stream",
     "text": [
      "Training : 100%|██████████| 100/100 [01:13<00:00,  1.36it/s, Msg=Time 0.752 (0.729), Data 0.525 (0.510), Loss 11.965 (11.849), Prec@1 99.20% (99.34%),]\n",
      "  0%|          | 0/20 [00:00<?, ?it/s]"
     ]
    },
    {
     "name": "stdout",
     "output_type": "stream",
     "text": [
      "Adjusting learning rate of group 0 to 1.0000e-02.\n"
     ]
    },
    {
     "name": "stderr",
     "output_type": "stream",
     "text": [
      "100%|██████████| 20/20 [00:03<00:00,  6.44it/s]\n",
      "Training :   0%|          | 0/100 [00:00<?, ?it/s]"
     ]
    },
    {
     "name": "stdout",
     "output_type": "stream",
     "text": [
      "Epoch 97/200: lr=0.0100, mean batch time = 0.73s, mean data loading time = 0.51, Training loss = 1.0262,0.4391,0.0628,0.0386, Test accuracy = 63.67%,71.55%,75.49%,75.95%,\n"
     ]
    },
    {
     "name": "stderr",
     "output_type": "stream",
     "text": [
      "Training : 100%|██████████| 100/100 [01:14<00:00,  1.35it/s, Msg=Time 0.733 (0.735), Data 0.511 (0.510), Loss 12.074 (11.872), Prec@1 99.20% (99.28%),]\n",
      "  0%|          | 0/20 [00:00<?, ?it/s]"
     ]
    },
    {
     "name": "stdout",
     "output_type": "stream",
     "text": [
      "Adjusting learning rate of group 0 to 1.0000e-02.\n"
     ]
    },
    {
     "name": "stderr",
     "output_type": "stream",
     "text": [
      "100%|██████████| 20/20 [00:03<00:00,  6.53it/s]\n",
      "Training :   0%|          | 0/100 [00:00<?, ?it/s]"
     ]
    },
    {
     "name": "stdout",
     "output_type": "stream",
     "text": [
      "Epoch 98/200: lr=0.0100, mean batch time = 0.73s, mean data loading time = 0.51, Training loss = 1.0231,0.4350,0.0622,0.0385, Test accuracy = 63.50%,71.81%,75.76%,76.17%,\n"
     ]
    },
    {
     "name": "stderr",
     "output_type": "stream",
     "text": [
      "Training : 100%|██████████| 100/100 [01:13<00:00,  1.36it/s, Msg=Time 0.666 (0.731), Data 0.460 (0.511), Loss 11.917 (11.893), Prec@1 98.60% (99.39%),]\n",
      "  0%|          | 0/20 [00:00<?, ?it/s]"
     ]
    },
    {
     "name": "stdout",
     "output_type": "stream",
     "text": [
      "Adjusting learning rate of group 0 to 1.0000e-02.\n"
     ]
    },
    {
     "name": "stderr",
     "output_type": "stream",
     "text": [
      "100%|██████████| 20/20 [00:02<00:00,  6.69it/s]\n",
      "Training :   0%|          | 0/100 [00:00<?, ?it/s]"
     ]
    },
    {
     "name": "stdout",
     "output_type": "stream",
     "text": [
      "Epoch 99/200: lr=0.0100, mean batch time = 0.73s, mean data loading time = 0.51, Training loss = 1.0199,0.4301,0.0601,0.0369, Test accuracy = 64.12%,71.57%,75.66%,76.03%,\n"
     ]
    },
    {
     "name": "stderr",
     "output_type": "stream",
     "text": [
      "Training : 100%|██████████| 100/100 [01:13<00:00,  1.35it/s, Msg=Time 0.736 (0.734), Data 0.514 (0.511), Loss 11.849 (11.902), Prec@1 98.20% (99.35%),]\n",
      "  0%|          | 0/20 [00:00<?, ?it/s]"
     ]
    },
    {
     "name": "stdout",
     "output_type": "stream",
     "text": [
      "Adjusting learning rate of group 0 to 1.0000e-02.\n"
     ]
    },
    {
     "name": "stderr",
     "output_type": "stream",
     "text": [
      "100%|██████████| 20/20 [00:03<00:00,  6.52it/s]\n",
      "Training :   0%|          | 0/100 [00:00<?, ?it/s]"
     ]
    },
    {
     "name": "stdout",
     "output_type": "stream",
     "text": [
      "Epoch 100/200: lr=0.0100, mean batch time = 0.73s, mean data loading time = 0.51, Training loss = 1.0157,0.4250,0.0576,0.0361, Test accuracy = 63.60%,71.87%,76.42%,76.36%,\n"
     ]
    },
    {
     "name": "stderr",
     "output_type": "stream",
     "text": [
      "Training : 100%|██████████| 100/100 [01:14<00:00,  1.34it/s, Msg=Time 0.726 (0.739), Data 0.504 (0.516), Loss 11.930 (11.910), Prec@1 99.60% (99.42%),]\n",
      "  0%|          | 0/20 [00:00<?, ?it/s]"
     ]
    },
    {
     "name": "stdout",
     "output_type": "stream",
     "text": [
      "Adjusting learning rate of group 0 to 1.0000e-02.\n"
     ]
    },
    {
     "name": "stderr",
     "output_type": "stream",
     "text": [
      "100%|██████████| 20/20 [00:03<00:00,  6.54it/s]\n",
      "Training :   0%|          | 0/100 [00:00<?, ?it/s]"
     ]
    },
    {
     "name": "stdout",
     "output_type": "stream",
     "text": [
      "Epoch 101/200: lr=0.0100, mean batch time = 0.74s, mean data loading time = 0.52, Training loss = 1.0150,0.4175,0.0551,0.0338, Test accuracy = 64.52%,71.85%,76.18%,76.43%,\n"
     ]
    },
    {
     "name": "stderr",
     "output_type": "stream",
     "text": [
      "Training : 100%|██████████| 100/100 [01:12<00:00,  1.37it/s, Msg=Time 0.723 (0.723), Data 0.504 (0.500), Loss 12.261 (11.922), Prec@1 98.00% (99.48%),]\n",
      "  0%|          | 0/20 [00:00<?, ?it/s]"
     ]
    },
    {
     "name": "stdout",
     "output_type": "stream",
     "text": [
      "Adjusting learning rate of group 0 to 1.0000e-02.\n"
     ]
    },
    {
     "name": "stderr",
     "output_type": "stream",
     "text": [
      "100%|██████████| 20/20 [00:03<00:00,  6.04it/s]\n",
      "Training :   0%|          | 0/100 [00:00<?, ?it/s]"
     ]
    },
    {
     "name": "stdout",
     "output_type": "stream",
     "text": [
      "Epoch 102/200: lr=0.0100, mean batch time = 0.72s, mean data loading time = 0.50, Training loss = 1.0139,0.4135,0.0547,0.0336, Test accuracy = 63.31%,71.61%,75.12%,75.52%,\n"
     ]
    },
    {
     "name": "stderr",
     "output_type": "stream",
     "text": [
      "Training : 100%|██████████| 100/100 [01:13<00:00,  1.36it/s, Msg=Time 0.808 (0.731), Data 0.576 (0.511), Loss 12.144 (11.931), Prec@1 99.00% (99.47%),]\n",
      "  0%|          | 0/20 [00:00<?, ?it/s]"
     ]
    },
    {
     "name": "stdout",
     "output_type": "stream",
     "text": [
      "Adjusting learning rate of group 0 to 1.0000e-02.\n"
     ]
    },
    {
     "name": "stderr",
     "output_type": "stream",
     "text": [
      "100%|██████████| 20/20 [00:03<00:00,  6.20it/s]\n",
      "Training :   0%|          | 0/100 [00:00<?, ?it/s]"
     ]
    },
    {
     "name": "stdout",
     "output_type": "stream",
     "text": [
      "Epoch 103/200: lr=0.0100, mean batch time = 0.73s, mean data loading time = 0.51, Training loss = 1.0097,0.4115,0.0532,0.0323, Test accuracy = 64.30%,71.71%,75.99%,75.92%,\n"
     ]
    },
    {
     "name": "stderr",
     "output_type": "stream",
     "text": [
      "Training : 100%|██████████| 100/100 [01:13<00:00,  1.35it/s, Msg=Time 0.739 (0.734), Data 0.513 (0.511), Loss 11.965 (11.951), Prec@1 99.00% (99.44%),]\n",
      "  0%|          | 0/20 [00:00<?, ?it/s]"
     ]
    },
    {
     "name": "stdout",
     "output_type": "stream",
     "text": [
      "Adjusting learning rate of group 0 to 1.0000e-02.\n"
     ]
    },
    {
     "name": "stderr",
     "output_type": "stream",
     "text": [
      "100%|██████████| 20/20 [00:03<00:00,  6.52it/s]\n",
      "Training :   0%|          | 0/100 [00:00<?, ?it/s]"
     ]
    },
    {
     "name": "stdout",
     "output_type": "stream",
     "text": [
      "Epoch 104/200: lr=0.0100, mean batch time = 0.73s, mean data loading time = 0.51, Training loss = 1.0093,0.4065,0.0543,0.0336, Test accuracy = 63.94%,71.53%,75.79%,75.86%,\n"
     ]
    },
    {
     "name": "stderr",
     "output_type": "stream",
     "text": [
      "Training : 100%|██████████| 100/100 [01:13<00:00,  1.36it/s, Msg=Time 0.732 (0.727), Data 0.509 (0.506), Loss 12.148 (11.959), Prec@1 99.00% (99.44%),]\n",
      "  0%|          | 0/20 [00:00<?, ?it/s]"
     ]
    },
    {
     "name": "stdout",
     "output_type": "stream",
     "text": [
      "Adjusting learning rate of group 0 to 1.0000e-02.\n"
     ]
    },
    {
     "name": "stderr",
     "output_type": "stream",
     "text": [
      "100%|██████████| 20/20 [00:03<00:00,  6.28it/s]\n",
      "Training :   0%|          | 0/100 [00:00<?, ?it/s]"
     ]
    },
    {
     "name": "stdout",
     "output_type": "stream",
     "text": [
      "Epoch 105/200: lr=0.0100, mean batch time = 0.73s, mean data loading time = 0.51, Training loss = 1.0062,0.4007,0.0521,0.0323, Test accuracy = 64.25%,71.37%,75.84%,76.01%,\n"
     ]
    },
    {
     "name": "stderr",
     "output_type": "stream",
     "text": [
      "Training : 100%|██████████| 100/100 [01:15<00:00,  1.32it/s, Msg=Time 0.770 (0.751), Data 0.541 (0.526), Loss 12.194 (11.974), Prec@1 99.60% (99.48%),]\n",
      "  0%|          | 0/20 [00:00<?, ?it/s]"
     ]
    },
    {
     "name": "stdout",
     "output_type": "stream",
     "text": [
      "Adjusting learning rate of group 0 to 1.0000e-02.\n"
     ]
    },
    {
     "name": "stderr",
     "output_type": "stream",
     "text": [
      "100%|██████████| 20/20 [00:03<00:00,  6.48it/s]\n",
      "Training :   0%|          | 0/100 [00:00<?, ?it/s]"
     ]
    },
    {
     "name": "stdout",
     "output_type": "stream",
     "text": [
      "Epoch 106/200: lr=0.0100, mean batch time = 0.75s, mean data loading time = 0.53, Training loss = 1.0032,0.3971,0.0519,0.0320, Test accuracy = 63.34%,71.59%,75.69%,75.78%,\n"
     ]
    },
    {
     "name": "stderr",
     "output_type": "stream",
     "text": [
      "Training : 100%|██████████| 100/100 [01:13<00:00,  1.37it/s, Msg=Time 0.733 (0.725), Data 0.512 (0.503), Loss 12.181 (12.000), Prec@1 99.40% (99.57%),]\n",
      "  0%|          | 0/20 [00:00<?, ?it/s]"
     ]
    },
    {
     "name": "stdout",
     "output_type": "stream",
     "text": [
      "Adjusting learning rate of group 0 to 1.0000e-02.\n"
     ]
    },
    {
     "name": "stderr",
     "output_type": "stream",
     "text": [
      "100%|██████████| 20/20 [00:03<00:00,  5.89it/s]\n",
      "Training :   0%|          | 0/100 [00:00<?, ?it/s]"
     ]
    },
    {
     "name": "stdout",
     "output_type": "stream",
     "text": [
      "Epoch 107/200: lr=0.0100, mean batch time = 0.73s, mean data loading time = 0.50, Training loss = 1.0042,0.3965,0.0511,0.0307, Test accuracy = 63.83%,71.35%,75.67%,75.82%,\n"
     ]
    },
    {
     "name": "stderr",
     "output_type": "stream",
     "text": [
      "Training :  98%|█████████▊| 98/100 [01:14<00:01,  1.35it/s, Msg=Time 0.752 (0.746), Data 0.523 (0.515), Loss 12.095 (12.008), Prec@1 99.40% (99.53%),] IOPub message rate exceeded.\n",
      "The notebook server will temporarily stop sending output\n",
      "to the client in order to avoid crashing it.\n",
      "To change this limit, set the config variable\n",
      "`--NotebookApp.iopub_msg_rate_limit`.\n",
      "\n",
      "Current values:\n",
      "NotebookApp.iopub_msg_rate_limit=1000.0 (msgs/sec)\n",
      "NotebookApp.rate_limit_window=3.0 (secs)\n",
      "\n",
      "Training : 100%|██████████| 100/100 [01:12<00:00,  1.37it/s, Msg=Time 0.724 (0.722), Data 0.502 (0.502), Loss 12.473 (12.219), Prec@1 99.40% (99.40%),]\n",
      "  0%|          | 0/20 [00:00<?, ?it/s]"
     ]
    },
    {
     "name": "stdout",
     "output_type": "stream",
     "text": [
      "Adjusting learning rate of group 0 to 1.0000e-02.\n"
     ]
    },
    {
     "name": "stderr",
     "output_type": "stream",
     "text": [
      "100%|██████████| 20/20 [00:03<00:00,  6.56it/s]\n",
      "Training :   0%|          | 0/100 [00:00<?, ?it/s]"
     ]
    },
    {
     "name": "stdout",
     "output_type": "stream",
     "text": [
      "Epoch 125/200: lr=0.0100, mean batch time = 0.72s, mean data loading time = 0.50, Training loss = 0.9853,0.3546,0.0509,0.0338, Test accuracy = 63.71%,69.84%,74.81%,74.83%,\n"
     ]
    },
    {
     "name": "stderr",
     "output_type": "stream",
     "text": [
      "Training : 100%|██████████| 100/100 [01:13<00:00,  1.36it/s, Msg=Time 0.727 (0.730), Data 0.502 (0.505), Loss 12.487 (12.220), Prec@1 98.60% (99.42%),]\n",
      "  0%|          | 0/20 [00:00<?, ?it/s]"
     ]
    },
    {
     "name": "stdout",
     "output_type": "stream",
     "text": [
      "Adjusting learning rate of group 0 to 1.0000e-02.\n"
     ]
    },
    {
     "name": "stderr",
     "output_type": "stream",
     "text": [
      "100%|██████████| 20/20 [00:03<00:00,  6.54it/s]\n",
      "Training :   0%|          | 0/100 [00:00<?, ?it/s]"
     ]
    },
    {
     "name": "stdout",
     "output_type": "stream",
     "text": [
      "Epoch 126/200: lr=0.0100, mean batch time = 0.73s, mean data loading time = 0.51, Training loss = 0.9845,0.3519,0.0517,0.0338, Test accuracy = 62.28%,70.21%,74.73%,74.89%,\n"
     ]
    },
    {
     "name": "stderr",
     "output_type": "stream",
     "text": [
      "Training : 100%|██████████| 100/100 [01:14<00:00,  1.34it/s, Msg=Time 0.751 (0.741), Data 0.529 (0.518), Loss 12.349 (12.232), Prec@1 99.80% (99.35%),]\n",
      "  0%|          | 0/20 [00:00<?, ?it/s]"
     ]
    },
    {
     "name": "stdout",
     "output_type": "stream",
     "text": [
      "Adjusting learning rate of group 0 to 1.0000e-02.\n"
     ]
    },
    {
     "name": "stderr",
     "output_type": "stream",
     "text": [
      "100%|██████████| 20/20 [00:02<00:00,  6.75it/s]\n",
      "Training :   0%|          | 0/100 [00:00<?, ?it/s]"
     ]
    },
    {
     "name": "stdout",
     "output_type": "stream",
     "text": [
      "Epoch 127/200: lr=0.0100, mean batch time = 0.74s, mean data loading time = 0.52, Training loss = 0.9851,0.3480,0.0524,0.0353, Test accuracy = 64.03%,70.82%,74.54%,74.51%,\n"
     ]
    },
    {
     "name": "stderr",
     "output_type": "stream",
     "text": [
      "Training : 100%|██████████| 100/100 [01:14<00:00,  1.33it/s, Msg=Time 0.748 (0.743), Data 0.526 (0.519), Loss 12.304 (12.225), Prec@1 99.60% (99.52%),]\n",
      "  0%|          | 0/20 [00:00<?, ?it/s]"
     ]
    },
    {
     "name": "stdout",
     "output_type": "stream",
     "text": [
      "Adjusting learning rate of group 0 to 1.0000e-02.\n"
     ]
    },
    {
     "name": "stderr",
     "output_type": "stream",
     "text": [
      "100%|██████████| 20/20 [00:03<00:00,  6.51it/s]\n",
      "Training :   0%|          | 0/100 [00:00<?, ?it/s]"
     ]
    },
    {
     "name": "stdout",
     "output_type": "stream",
     "text": [
      "Epoch 128/200: lr=0.0100, mean batch time = 0.74s, mean data loading time = 0.52, Training loss = 0.9837,0.3495,0.0482,0.0306, Test accuracy = 62.98%,70.43%,74.44%,74.92%,\n"
     ]
    },
    {
     "name": "stderr",
     "output_type": "stream",
     "text": [
      "Training : 100%|██████████| 100/100 [01:12<00:00,  1.38it/s, Msg=Time 0.681 (0.718), Data 0.469 (0.501), Loss 12.218 (12.243), Prec@1 99.60% (99.36%),]\n",
      "  0%|          | 0/20 [00:00<?, ?it/s]"
     ]
    },
    {
     "name": "stdout",
     "output_type": "stream",
     "text": [
      "Adjusting learning rate of group 0 to 1.0000e-02.\n"
     ]
    },
    {
     "name": "stderr",
     "output_type": "stream",
     "text": [
      "100%|██████████| 20/20 [00:03<00:00,  6.34it/s]\n",
      "Training :   0%|          | 0/100 [00:00<?, ?it/s]"
     ]
    },
    {
     "name": "stdout",
     "output_type": "stream",
     "text": [
      "Epoch 129/200: lr=0.0100, mean batch time = 0.72s, mean data loading time = 0.50, Training loss = 0.9853,0.3451,0.0524,0.0346, Test accuracy = 63.10%,70.04%,74.22%,74.67%,\n"
     ]
    },
    {
     "name": "stderr",
     "output_type": "stream",
     "text": [
      "Training : 100%|██████████| 100/100 [01:14<00:00,  1.34it/s, Msg=Time 0.649 (0.743), Data 0.459 (0.527), Loss 12.392 (12.264), Prec@1 99.00% (99.35%),]\n",
      "  0%|          | 0/20 [00:00<?, ?it/s]"
     ]
    },
    {
     "name": "stdout",
     "output_type": "stream",
     "text": [
      "Adjusting learning rate of group 0 to 1.0000e-03.\n"
     ]
    },
    {
     "name": "stderr",
     "output_type": "stream",
     "text": [
      "100%|██████████| 20/20 [00:02<00:00,  7.19it/s]\n",
      "Training :   0%|          | 0/100 [00:00<?, ?it/s]"
     ]
    },
    {
     "name": "stdout",
     "output_type": "stream",
     "text": [
      "Epoch 130/200: lr=0.0010, mean batch time = 0.74s, mean data loading time = 0.53, Training loss = 0.9842,0.3468,0.0531,0.0350, Test accuracy = 63.44%,69.59%,74.25%,74.47%,\n"
     ]
    },
    {
     "name": "stderr",
     "output_type": "stream",
     "text": [
      "Training : 100%|██████████| 100/100 [01:13<00:00,  1.37it/s, Msg=Time 0.734 (0.726), Data 0.505 (0.508), Loss 12.052 (12.084), Prec@1 99.80% (99.78%),]\n",
      "  0%|          | 0/20 [00:00<?, ?it/s]"
     ]
    },
    {
     "name": "stdout",
     "output_type": "stream",
     "text": [
      "Adjusting learning rate of group 0 to 1.0000e-03.\n"
     ]
    },
    {
     "name": "stderr",
     "output_type": "stream",
     "text": [
      "100%|██████████| 20/20 [00:03<00:00,  6.49it/s]\n",
      "Training :   0%|          | 0/100 [00:00<?, ?it/s]"
     ]
    },
    {
     "name": "stdout",
     "output_type": "stream",
     "text": [
      "Epoch 131/200: lr=0.0010, mean batch time = 0.73s, mean data loading time = 0.51, Training loss = 0.9305,0.2884,0.0357,0.0217, Test accuracy = 65.84%,72.64%,76.52%,76.86%,\n"
     ]
    },
    {
     "name": "stderr",
     "output_type": "stream",
     "text": [
      "Training : 100%|██████████| 100/100 [01:12<00:00,  1.39it/s, Msg=Time 0.751 (0.715), Data 0.524 (0.496), Loss 11.992 (11.999), Prec@1 99.80% (99.86%),]\n",
      "  0%|          | 0/20 [00:00<?, ?it/s]"
     ]
    },
    {
     "name": "stdout",
     "output_type": "stream",
     "text": [
      "Adjusting learning rate of group 0 to 1.0000e-03.\n"
     ]
    },
    {
     "name": "stderr",
     "output_type": "stream",
     "text": [
      "100%|██████████| 20/20 [00:03<00:00,  6.44it/s]\n",
      "Training :   0%|          | 0/100 [00:00<?, ?it/s]"
     ]
    },
    {
     "name": "stdout",
     "output_type": "stream",
     "text": [
      "Epoch 132/200: lr=0.0010, mean batch time = 0.72s, mean data loading time = 0.50, Training loss = 0.9089,0.2661,0.0284,0.0166, Test accuracy = 65.77%,72.67%,76.69%,76.95%,\n"
     ]
    },
    {
     "name": "stderr",
     "output_type": "stream",
     "text": [
      "Training : 100%|██████████| 100/100 [01:12<00:00,  1.38it/s, Msg=Time 0.723 (0.721), Data 0.499 (0.500), Loss 11.970 (11.964), Prec@1 99.60% (99.92%),]\n",
      "  0%|          | 0/20 [00:00<?, ?it/s]"
     ]
    },
    {
     "name": "stdout",
     "output_type": "stream",
     "text": [
      "Adjusting learning rate of group 0 to 1.0000e-03.\n"
     ]
    },
    {
     "name": "stderr",
     "output_type": "stream",
     "text": [
      "100%|██████████| 20/20 [00:03<00:00,  6.64it/s]\n",
      "Training :   0%|          | 0/100 [00:00<?, ?it/s]"
     ]
    },
    {
     "name": "stdout",
     "output_type": "stream",
     "text": [
      "Epoch 133/200: lr=0.0010, mean batch time = 0.72s, mean data loading time = 0.50, Training loss = 0.9030,0.2568,0.0251,0.0144, Test accuracy = 65.97%,72.75%,76.75%,76.94%,\n"
     ]
    },
    {
     "name": "stderr",
     "output_type": "stream",
     "text": [
      "Training : 100%|██████████| 100/100 [01:12<00:00,  1.38it/s, Msg=Time 0.710 (0.720), Data 0.485 (0.500), Loss 11.874 (11.949), Prec@1 100.00% (99.90%),]\n",
      "  0%|          | 0/20 [00:00<?, ?it/s]"
     ]
    },
    {
     "name": "stdout",
     "output_type": "stream",
     "text": [
      "Adjusting learning rate of group 0 to 1.0000e-03.\n"
     ]
    },
    {
     "name": "stderr",
     "output_type": "stream",
     "text": [
      "100%|██████████| 20/20 [00:03<00:00,  6.05it/s]\n",
      "Training :   0%|          | 0/100 [00:00<?, ?it/s]"
     ]
    },
    {
     "name": "stdout",
     "output_type": "stream",
     "text": [
      "Epoch 134/200: lr=0.0010, mean batch time = 0.72s, mean data loading time = 0.50, Training loss = 0.8977,0.2528,0.0246,0.0142, Test accuracy = 66.04%,72.68%,76.91%,76.80%,\n"
     ]
    },
    {
     "name": "stderr",
     "output_type": "stream",
     "text": [
      "Training : 100%|██████████| 100/100 [01:13<00:00,  1.36it/s, Msg=Time 0.732 (0.731), Data 0.502 (0.501), Loss 12.019 (11.944), Prec@1 100.00% (99.89%),]\n",
      "  0%|          | 0/20 [00:00<?, ?it/s]"
     ]
    },
    {
     "name": "stdout",
     "output_type": "stream",
     "text": [
      "Adjusting learning rate of group 0 to 1.0000e-03.\n"
     ]
    },
    {
     "name": "stderr",
     "output_type": "stream",
     "text": [
      "100%|██████████| 20/20 [00:03<00:00,  6.59it/s]\n",
      "Training :   0%|          | 0/100 [00:00<?, ?it/s]"
     ]
    },
    {
     "name": "stdout",
     "output_type": "stream",
     "text": [
      "Epoch 135/200: lr=0.0010, mean batch time = 0.73s, mean data loading time = 0.50, Training loss = 0.8980,0.2488,0.0241,0.0141, Test accuracy = 65.90%,72.50%,76.54%,76.77%,\n"
     ]
    },
    {
     "name": "stderr",
     "output_type": "stream",
     "text": [
      "Training : 100%|██████████| 100/100 [01:13<00:00,  1.35it/s, Msg=Time 0.853 (0.731), Data 0.607 (0.509), Loss 11.995 (11.931), Prec@1 99.80% (99.93%),]\n",
      "  0%|          | 0/20 [00:00<?, ?it/s]"
     ]
    },
    {
     "name": "stdout",
     "output_type": "stream",
     "text": [
      "Adjusting learning rate of group 0 to 1.0000e-03.\n"
     ]
    },
    {
     "name": "stderr",
     "output_type": "stream",
     "text": [
      "100%|██████████| 20/20 [00:03<00:00,  6.53it/s]\n",
      "Training :   0%|          | 0/100 [00:00<?, ?it/s]"
     ]
    },
    {
     "name": "stdout",
     "output_type": "stream",
     "text": [
      "Epoch 136/200: lr=0.0010, mean batch time = 0.73s, mean data loading time = 0.51, Training loss = 0.8962,0.2454,0.0231,0.0129, Test accuracy = 66.00%,72.39%,76.74%,77.03%,\n"
     ]
    },
    {
     "name": "stderr",
     "output_type": "stream",
     "text": [
      "Training : 100%|██████████| 100/100 [01:13<00:00,  1.37it/s, Msg=Time 0.730 (0.726), Data 0.512 (0.506), Loss 11.966 (11.926), Prec@1 100.00% (99.93%),]\n",
      "  0%|          | 0/20 [00:00<?, ?it/s]"
     ]
    },
    {
     "name": "stdout",
     "output_type": "stream",
     "text": [
      "Adjusting learning rate of group 0 to 1.0000e-03.\n"
     ]
    },
    {
     "name": "stderr",
     "output_type": "stream",
     "text": [
      "100%|██████████| 20/20 [00:03<00:00,  5.89it/s]\n",
      "Training :   0%|          | 0/100 [00:00<?, ?it/s]"
     ]
    },
    {
     "name": "stdout",
     "output_type": "stream",
     "text": [
      "Epoch 137/200: lr=0.0010, mean batch time = 0.73s, mean data loading time = 0.51, Training loss = 0.8924,0.2420,0.0225,0.0127, Test accuracy = 65.96%,72.59%,76.78%,77.11%,\n"
     ]
    },
    {
     "name": "stderr",
     "output_type": "stream",
     "text": [
      "Training :  69%|██████▉   | 69/100 [00:51<00:22,  1.41it/s, Msg=Time 0.704 (0.723), Data 0.490 (0.504), Loss 11.991 (11.922), Prec@1 99.80% (99.96%),] IOPub message rate exceeded.\n",
      "The notebook server will temporarily stop sending output\n",
      "to the client in order to avoid crashing it.\n",
      "To change this limit, set the config variable\n",
      "`--NotebookApp.iopub_msg_rate_limit`.\n",
      "\n",
      "Current values:\n",
      "NotebookApp.iopub_msg_rate_limit=1000.0 (msgs/sec)\n",
      "NotebookApp.rate_limit_window=3.0 (secs)\n",
      "\n",
      "Training : 100%|██████████| 100/100 [01:14<00:00,  1.35it/s, Msg=Time 0.715 (0.737), Data 0.495 (0.513), Loss 12.019 (11.932), Prec@1 100.00% (99.96%),]\n",
      "  0%|          | 0/20 [00:00<?, ?it/s]"
     ]
    },
    {
     "name": "stdout",
     "output_type": "stream",
     "text": [
      "Adjusting learning rate of group 0 to 1.0000e-03.\n"
     ]
    },
    {
     "name": "stderr",
     "output_type": "stream",
     "text": [
      "100%|██████████| 20/20 [00:03<00:00,  6.64it/s]\n",
      "Training :   0%|          | 0/100 [00:00<?, ?it/s]"
     ]
    },
    {
     "name": "stdout",
     "output_type": "stream",
     "text": [
      "Epoch 156/200: lr=0.0010, mean batch time = 0.74s, mean data loading time = 0.51, Training loss = 0.8747,0.2233,0.0205,0.0117, Test accuracy = 66.09%,72.18%,76.54%,76.73%,\n"
     ]
    },
    {
     "name": "stderr",
     "output_type": "stream",
     "text": [
      "Training : 100%|██████████| 100/100 [01:11<00:00,  1.39it/s, Msg=Time 0.696 (0.713), Data 0.482 (0.495), Loss 11.853 (11.930), Prec@1 99.80% (99.94%),]\n",
      "  0%|          | 0/20 [00:00<?, ?it/s]"
     ]
    },
    {
     "name": "stdout",
     "output_type": "stream",
     "text": [
      "Adjusting learning rate of group 0 to 1.0000e-03.\n"
     ]
    },
    {
     "name": "stderr",
     "output_type": "stream",
     "text": [
      "100%|██████████| 20/20 [00:03<00:00,  6.34it/s]\n",
      "Training :   0%|          | 0/100 [00:00<?, ?it/s]"
     ]
    },
    {
     "name": "stdout",
     "output_type": "stream",
     "text": [
      "Epoch 157/200: lr=0.0010, mean batch time = 0.71s, mean data loading time = 0.50, Training loss = 0.8748,0.2213,0.0205,0.0116, Test accuracy = 65.95%,72.31%,76.66%,76.86%,\n"
     ]
    },
    {
     "name": "stderr",
     "output_type": "stream",
     "text": [
      "Training : 100%|██████████| 100/100 [01:12<00:00,  1.38it/s, Msg=Time 0.701 (0.717), Data 0.487 (0.500), Loss 11.973 (11.928), Prec@1 99.80% (99.93%),]\n",
      "  0%|          | 0/20 [00:00<?, ?it/s]"
     ]
    },
    {
     "name": "stdout",
     "output_type": "stream",
     "text": [
      "Adjusting learning rate of group 0 to 1.0000e-03.\n"
     ]
    },
    {
     "name": "stderr",
     "output_type": "stream",
     "text": [
      "100%|██████████| 20/20 [00:03<00:00,  6.19it/s]\n",
      "Training :   0%|          | 0/100 [00:00<?, ?it/s]"
     ]
    },
    {
     "name": "stdout",
     "output_type": "stream",
     "text": [
      "Epoch 158/200: lr=0.0010, mean batch time = 0.72s, mean data loading time = 0.50, Training loss = 0.8692,0.2207,0.0208,0.0120, Test accuracy = 66.24%,72.28%,76.53%,76.94%,\n"
     ]
    },
    {
     "name": "stderr",
     "output_type": "stream",
     "text": [
      "Training : 100%|██████████| 100/100 [01:12<00:00,  1.39it/s, Msg=Time 0.715 (0.716), Data 0.496 (0.496), Loss 11.891 (11.926), Prec@1 99.80% (99.95%),]\n",
      "  0%|          | 0/20 [00:00<?, ?it/s]"
     ]
    },
    {
     "name": "stdout",
     "output_type": "stream",
     "text": [
      "Adjusting learning rate of group 0 to 1.0000e-03.\n"
     ]
    },
    {
     "name": "stderr",
     "output_type": "stream",
     "text": [
      "100%|██████████| 20/20 [00:03<00:00,  6.49it/s]\n",
      "Training :   0%|          | 0/100 [00:00<?, ?it/s]"
     ]
    },
    {
     "name": "stdout",
     "output_type": "stream",
     "text": [
      "Epoch 159/200: lr=0.0010, mean batch time = 0.72s, mean data loading time = 0.50, Training loss = 0.8702,0.2181,0.0202,0.0116, Test accuracy = 66.20%,72.34%,76.47%,76.78%,\n"
     ]
    },
    {
     "name": "stderr",
     "output_type": "stream",
     "text": [
      "Training : 100%|██████████| 100/100 [01:13<00:00,  1.37it/s, Msg=Time 0.709 (0.727), Data 0.494 (0.509), Loss 11.905 (11.930), Prec@1 99.80% (99.94%),]\n",
      "  0%|          | 0/20 [00:00<?, ?it/s]"
     ]
    },
    {
     "name": "stdout",
     "output_type": "stream",
     "text": [
      "Adjusting learning rate of group 0 to 1.0000e-03.\n"
     ]
    },
    {
     "name": "stderr",
     "output_type": "stream",
     "text": [
      "100%|██████████| 20/20 [00:03<00:00,  6.64it/s]\n",
      "Training :   0%|          | 0/100 [00:00<?, ?it/s]"
     ]
    },
    {
     "name": "stdout",
     "output_type": "stream",
     "text": [
      "Epoch 160/200: lr=0.0010, mean batch time = 0.73s, mean data loading time = 0.51, Training loss = 0.8685,0.2176,0.0207,0.0118, Test accuracy = 66.18%,72.24%,76.57%,76.82%,\n"
     ]
    },
    {
     "name": "stderr",
     "output_type": "stream",
     "text": [
      "Training : 100%|██████████| 100/100 [01:11<00:00,  1.40it/s, Msg=Time 0.709 (0.706), Data 0.491 (0.489), Loss 11.953 (11.937), Prec@1 99.80% (99.95%),]\n",
      "  0%|          | 0/20 [00:00<?, ?it/s]"
     ]
    },
    {
     "name": "stdout",
     "output_type": "stream",
     "text": [
      "Adjusting learning rate of group 0 to 1.0000e-03.\n"
     ]
    },
    {
     "name": "stderr",
     "output_type": "stream",
     "text": [
      "100%|██████████| 20/20 [00:03<00:00,  6.58it/s]\n",
      "Training :   0%|          | 0/100 [00:00<?, ?it/s]"
     ]
    },
    {
     "name": "stdout",
     "output_type": "stream",
     "text": [
      "Epoch 161/200: lr=0.0010, mean batch time = 0.71s, mean data loading time = 0.49, Training loss = 0.8719,0.2174,0.0205,0.0118, Test accuracy = 66.01%,72.35%,76.49%,76.74%,\n"
     ]
    },
    {
     "name": "stderr",
     "output_type": "stream",
     "text": [
      "Training : 100%|██████████| 100/100 [01:12<00:00,  1.38it/s, Msg=Time 0.731 (0.720), Data 0.506 (0.497), Loss 11.930 (11.937), Prec@1 100.00% (99.95%),]\n",
      "  0%|          | 0/20 [00:00<?, ?it/s]"
     ]
    },
    {
     "name": "stdout",
     "output_type": "stream",
     "text": [
      "Adjusting learning rate of group 0 to 1.0000e-03.\n"
     ]
    },
    {
     "name": "stderr",
     "output_type": "stream",
     "text": [
      "100%|██████████| 20/20 [00:03<00:00,  6.55it/s]\n",
      "Training :   0%|          | 0/100 [00:00<?, ?it/s]"
     ]
    },
    {
     "name": "stdout",
     "output_type": "stream",
     "text": [
      "Epoch 162/200: lr=0.0010, mean batch time = 0.72s, mean data loading time = 0.50, Training loss = 0.8712,0.2172,0.0205,0.0118, Test accuracy = 65.86%,72.41%,76.55%,76.61%,\n"
     ]
    },
    {
     "name": "stderr",
     "output_type": "stream",
     "text": [
      "Training : 100%|██████████| 100/100 [01:11<00:00,  1.40it/s, Msg=Time 0.714 (0.708), Data 0.494 (0.490), Loss 11.897 (11.937), Prec@1 100.00% (99.96%),]\n",
      "  0%|          | 0/20 [00:00<?, ?it/s]"
     ]
    },
    {
     "name": "stdout",
     "output_type": "stream",
     "text": [
      "Adjusting learning rate of group 0 to 1.0000e-03.\n"
     ]
    },
    {
     "name": "stderr",
     "output_type": "stream",
     "text": [
      "100%|██████████| 20/20 [00:03<00:00,  6.66it/s]\n",
      "Training :   0%|          | 0/100 [00:00<?, ?it/s]"
     ]
    },
    {
     "name": "stdout",
     "output_type": "stream",
     "text": [
      "Epoch 163/200: lr=0.0010, mean batch time = 0.71s, mean data loading time = 0.49, Training loss = 0.8693,0.2157,0.0206,0.0118, Test accuracy = 66.00%,72.08%,76.60%,76.63%,\n"
     ]
    },
    {
     "name": "stderr",
     "output_type": "stream",
     "text": [
      "Training : 100%|██████████| 100/100 [01:15<00:00,  1.33it/s, Msg=Time 0.708 (0.747), Data 0.490 (0.521), Loss 11.833 (11.934), Prec@1 100.00% (99.94%),]\n",
      "  0%|          | 0/20 [00:00<?, ?it/s]"
     ]
    },
    {
     "name": "stdout",
     "output_type": "stream",
     "text": [
      "Adjusting learning rate of group 0 to 1.0000e-03.\n"
     ]
    },
    {
     "name": "stderr",
     "output_type": "stream",
     "text": [
      "100%|██████████| 20/20 [00:02<00:00,  6.69it/s]\n",
      "Training :   0%|          | 0/100 [00:00<?, ?it/s]"
     ]
    },
    {
     "name": "stdout",
     "output_type": "stream",
     "text": [
      "Epoch 164/200: lr=0.0010, mean batch time = 0.75s, mean data loading time = 0.52, Training loss = 0.8653,0.2155,0.0206,0.0118, Test accuracy = 66.06%,72.12%,76.69%,76.82%,\n"
     ]
    },
    {
     "name": "stderr",
     "output_type": "stream",
     "text": [
      "Training : 100%|██████████| 100/100 [01:13<00:00,  1.37it/s, Msg=Time 0.654 (0.727), Data 0.449 (0.507), Loss 11.915 (11.940), Prec@1 100.00% (99.96%),]\n",
      "  0%|          | 0/20 [00:00<?, ?it/s]"
     ]
    },
    {
     "name": "stdout",
     "output_type": "stream",
     "text": [
      "Adjusting learning rate of group 0 to 1.0000e-03.\n"
     ]
    },
    {
     "name": "stderr",
     "output_type": "stream",
     "text": [
      "100%|██████████| 20/20 [00:02<00:00,  6.75it/s]\n",
      "Training :   0%|          | 0/100 [00:00<?, ?it/s]"
     ]
    },
    {
     "name": "stdout",
     "output_type": "stream",
     "text": [
      "Epoch 165/200: lr=0.0010, mean batch time = 0.73s, mean data loading time = 0.51, Training loss = 0.8646,0.2164,0.0203,0.0114, Test accuracy = 66.12%,72.23%,76.65%,76.98%,\n"
     ]
    },
    {
     "name": "stderr",
     "output_type": "stream",
     "text": [
      "Training : 100%|██████████| 100/100 [01:12<00:00,  1.37it/s, Msg=Time 0.753 (0.722), Data 0.532 (0.504), Loss 11.932 (11.944), Prec@1 100.00% (99.96%),]\n",
      "  0%|          | 0/20 [00:00<?, ?it/s]"
     ]
    },
    {
     "name": "stdout",
     "output_type": "stream",
     "text": [
      "Adjusting learning rate of group 0 to 1.0000e-03.\n"
     ]
    },
    {
     "name": "stderr",
     "output_type": "stream",
     "text": [
      "100%|██████████| 20/20 [00:03<00:00,  6.43it/s]\n",
      "Training :   0%|          | 0/100 [00:00<?, ?it/s]"
     ]
    },
    {
     "name": "stdout",
     "output_type": "stream",
     "text": [
      "Epoch 166/200: lr=0.0010, mean batch time = 0.72s, mean data loading time = 0.50, Training loss = 0.8662,0.2146,0.0205,0.0116, Test accuracy = 66.27%,72.24%,76.53%,76.83%,\n"
     ]
    },
    {
     "name": "stderr",
     "output_type": "stream",
     "text": [
      "Training : 100%|██████████| 100/100 [01:12<00:00,  1.38it/s, Msg=Time 0.754 (0.720), Data 0.528 (0.500), Loss 11.966 (11.948), Prec@1 99.80% (99.94%),]\n",
      "  0%|          | 0/20 [00:00<?, ?it/s]"
     ]
    },
    {
     "name": "stdout",
     "output_type": "stream",
     "text": [
      "Adjusting learning rate of group 0 to 1.0000e-03.\n"
     ]
    },
    {
     "name": "stderr",
     "output_type": "stream",
     "text": [
      "100%|██████████| 20/20 [00:03<00:00,  5.65it/s]\n",
      "Training :   0%|          | 0/100 [00:00<?, ?it/s]"
     ]
    },
    {
     "name": "stdout",
     "output_type": "stream",
     "text": [
      "Epoch 167/200: lr=0.0010, mean batch time = 0.72s, mean data loading time = 0.50, Training loss = 0.8680,0.2160,0.0203,0.0117, Test accuracy = 66.04%,72.21%,76.37%,76.79%,\n"
     ]
    },
    {
     "name": "stderr",
     "output_type": "stream",
     "text": [
      "Training : 100%|██████████| 100/100 [01:12<00:00,  1.38it/s, Msg=Time 0.711 (0.720), Data 0.495 (0.502), Loss 11.997 (11.942), Prec@1 100.00% (99.95%),]\n",
      "  0%|          | 0/20 [00:00<?, ?it/s]"
     ]
    },
    {
     "name": "stdout",
     "output_type": "stream",
     "text": [
      "Adjusting learning rate of group 0 to 1.0000e-03.\n"
     ]
    },
    {
     "name": "stderr",
     "output_type": "stream",
     "text": [
      "100%|██████████| 20/20 [00:03<00:00,  6.56it/s]\n",
      "Training :   0%|          | 0/100 [00:00<?, ?it/s]"
     ]
    },
    {
     "name": "stdout",
     "output_type": "stream",
     "text": [
      "Epoch 168/200: lr=0.0010, mean batch time = 0.72s, mean data loading time = 0.50, Training loss = 0.8646,0.2119,0.0204,0.0117, Test accuracy = 66.28%,71.95%,76.38%,76.81%,\n"
     ]
    },
    {
     "name": "stderr",
     "output_type": "stream",
     "text": [
      "Training :  54%|█████▍    | 54/100 [00:41<00:34,  1.34it/s, Msg=Time 0.753 (0.738), Data 0.529 (0.516), Loss 11.811 (11.950), Prec@1 99.80% (99.93%),] IOPub message rate exceeded.\n",
      "The notebook server will temporarily stop sending output\n",
      "to the client in order to avoid crashing it.\n",
      "To change this limit, set the config variable\n",
      "`--NotebookApp.iopub_msg_rate_limit`.\n",
      "\n",
      "Current values:\n",
      "NotebookApp.iopub_msg_rate_limit=1000.0 (msgs/sec)\n",
      "NotebookApp.rate_limit_window=3.0 (secs)\n",
      "\n",
      "Training : 100%|██████████| 100/100 [01:13<00:00,  1.35it/s, Msg=Time 0.737 (0.733), Data 0.507 (0.511), Loss 11.973 (11.939), Prec@1 100.00% (99.96%),]\n",
      "  0%|          | 0/20 [00:00<?, ?it/s]"
     ]
    },
    {
     "name": "stdout",
     "output_type": "stream",
     "text": [
      "Adjusting learning rate of group 0 to 1.0000e-04.\n"
     ]
    },
    {
     "name": "stderr",
     "output_type": "stream",
     "text": [
      "100%|██████████| 20/20 [00:03<00:00,  6.53it/s]\n",
      "Training :   0%|          | 0/100 [00:00<?, ?it/s]"
     ]
    },
    {
     "name": "stdout",
     "output_type": "stream",
     "text": [
      "Epoch 185/200: lr=0.0001, mean batch time = 0.73s, mean data loading time = 0.51, Training loss = 0.8495,0.1983,0.0191,0.0111, Test accuracy = 66.18%,72.29%,76.55%,76.75%,\n"
     ]
    },
    {
     "name": "stderr",
     "output_type": "stream",
     "text": [
      "Training : 100%|██████████| 100/100 [01:12<00:00,  1.37it/s, Msg=Time 0.719 (0.723), Data 0.500 (0.502), Loss 11.952 (11.942), Prec@1 100.00% (99.97%),]\n",
      "  0%|          | 0/20 [00:00<?, ?it/s]"
     ]
    },
    {
     "name": "stdout",
     "output_type": "stream",
     "text": [
      "Adjusting learning rate of group 0 to 1.0000e-04.\n"
     ]
    },
    {
     "name": "stderr",
     "output_type": "stream",
     "text": [
      "100%|██████████| 20/20 [00:03<00:00,  6.57it/s]\n",
      "Training :   0%|          | 0/100 [00:00<?, ?it/s]"
     ]
    },
    {
     "name": "stdout",
     "output_type": "stream",
     "text": [
      "Epoch 186/200: lr=0.0001, mean batch time = 0.72s, mean data loading time = 0.50, Training loss = 0.8492,0.1993,0.0196,0.0113, Test accuracy = 66.22%,72.19%,76.58%,76.79%,\n"
     ]
    },
    {
     "name": "stderr",
     "output_type": "stream",
     "text": [
      "Training : 100%|██████████| 100/100 [01:13<00:00,  1.35it/s, Msg=Time 0.735 (0.734), Data 0.511 (0.509), Loss 11.870 (11.932), Prec@1 100.00% (99.97%),]\n",
      "  0%|          | 0/20 [00:00<?, ?it/s]"
     ]
    },
    {
     "name": "stdout",
     "output_type": "stream",
     "text": [
      "Adjusting learning rate of group 0 to 1.0000e-04.\n"
     ]
    },
    {
     "name": "stderr",
     "output_type": "stream",
     "text": [
      "100%|██████████| 20/20 [00:02<00:00,  7.13it/s]\n",
      "Training :   0%|          | 0/100 [00:00<?, ?it/s]"
     ]
    },
    {
     "name": "stdout",
     "output_type": "stream",
     "text": [
      "Epoch 187/200: lr=0.0001, mean batch time = 0.73s, mean data loading time = 0.51, Training loss = 0.8451,0.1978,0.0194,0.0111, Test accuracy = 66.29%,72.17%,76.40%,76.73%,\n"
     ]
    },
    {
     "name": "stderr",
     "output_type": "stream",
     "text": [
      "Training : 100%|██████████| 100/100 [01:11<00:00,  1.39it/s, Msg=Time 0.713 (0.713), Data 0.497 (0.494), Loss 11.931 (11.934), Prec@1 100.00% (99.97%),]\n",
      "  0%|          | 0/20 [00:00<?, ?it/s]"
     ]
    },
    {
     "name": "stdout",
     "output_type": "stream",
     "text": [
      "Adjusting learning rate of group 0 to 1.0000e-04.\n"
     ]
    },
    {
     "name": "stderr",
     "output_type": "stream",
     "text": [
      "100%|██████████| 20/20 [00:03<00:00,  6.49it/s]\n",
      "Training :   0%|          | 0/100 [00:00<?, ?it/s]"
     ]
    },
    {
     "name": "stdout",
     "output_type": "stream",
     "text": [
      "Epoch 188/200: lr=0.0001, mean batch time = 0.71s, mean data loading time = 0.49, Training loss = 0.8464,0.1955,0.0189,0.0108, Test accuracy = 66.26%,72.07%,76.51%,76.87%,\n"
     ]
    },
    {
     "name": "stderr",
     "output_type": "stream",
     "text": [
      "Training : 100%|██████████| 100/100 [01:12<00:00,  1.37it/s, Msg=Time 0.662 (0.724), Data 0.459 (0.504), Loss 11.911 (11.943), Prec@1 100.00% (99.98%),]\n",
      "  0%|          | 0/20 [00:00<?, ?it/s]"
     ]
    },
    {
     "name": "stdout",
     "output_type": "stream",
     "text": [
      "Adjusting learning rate of group 0 to 1.0000e-04.\n"
     ]
    },
    {
     "name": "stderr",
     "output_type": "stream",
     "text": [
      "100%|██████████| 20/20 [00:03<00:00,  6.43it/s]\n",
      "Training :   0%|          | 0/100 [00:00<?, ?it/s]"
     ]
    },
    {
     "name": "stdout",
     "output_type": "stream",
     "text": [
      "Epoch 189/200: lr=0.0001, mean batch time = 0.72s, mean data loading time = 0.50, Training loss = 0.8518,0.1989,0.0195,0.0110, Test accuracy = 66.29%,72.13%,76.48%,76.68%,\n"
     ]
    },
    {
     "name": "stderr",
     "output_type": "stream",
     "text": [
      "Training : 100%|██████████| 100/100 [01:12<00:00,  1.37it/s, Msg=Time 0.709 (0.723), Data 0.502 (0.503), Loss 11.980 (11.939), Prec@1 100.00% (99.96%),]\n",
      "  0%|          | 0/20 [00:00<?, ?it/s]"
     ]
    },
    {
     "name": "stdout",
     "output_type": "stream",
     "text": [
      "Adjusting learning rate of group 0 to 1.0000e-04.\n"
     ]
    },
    {
     "name": "stderr",
     "output_type": "stream",
     "text": [
      "100%|██████████| 20/20 [00:03<00:00,  6.62it/s]\n",
      "Training :   0%|          | 0/100 [00:00<?, ?it/s]"
     ]
    },
    {
     "name": "stdout",
     "output_type": "stream",
     "text": [
      "Epoch 190/200: lr=0.0001, mean batch time = 0.72s, mean data loading time = 0.50, Training loss = 0.8483,0.1973,0.0195,0.0113, Test accuracy = 66.21%,71.97%,76.56%,76.74%,\n"
     ]
    },
    {
     "name": "stderr",
     "output_type": "stream",
     "text": [
      "Training : 100%|██████████| 100/100 [01:13<00:00,  1.35it/s, Msg=Time 0.760 (0.733), Data 0.541 (0.521), Loss 11.939 (11.941), Prec@1 99.80% (99.96%),]\n",
      "  0%|          | 0/20 [00:00<?, ?it/s]"
     ]
    },
    {
     "name": "stdout",
     "output_type": "stream",
     "text": [
      "Adjusting learning rate of group 0 to 1.0000e-04.\n"
     ]
    },
    {
     "name": "stderr",
     "output_type": "stream",
     "text": [
      "100%|██████████| 20/20 [00:03<00:00,  6.41it/s]\n",
      "Training :   0%|          | 0/100 [00:00<?, ?it/s]"
     ]
    },
    {
     "name": "stdout",
     "output_type": "stream",
     "text": [
      "Epoch 191/200: lr=0.0001, mean batch time = 0.73s, mean data loading time = 0.52, Training loss = 0.8511,0.1976,0.0193,0.0110, Test accuracy = 66.40%,71.99%,76.51%,76.81%,\n"
     ]
    },
    {
     "name": "stderr",
     "output_type": "stream",
     "text": [
      "Training : 100%|██████████| 100/100 [01:12<00:00,  1.38it/s, Msg=Time 0.690 (0.720), Data 0.472 (0.497), Loss 11.927 (11.945), Prec@1 100.00% (99.96%),]\n",
      "  0%|          | 0/20 [00:00<?, ?it/s]"
     ]
    },
    {
     "name": "stdout",
     "output_type": "stream",
     "text": [
      "Adjusting learning rate of group 0 to 1.0000e-04.\n"
     ]
    },
    {
     "name": "stderr",
     "output_type": "stream",
     "text": [
      "100%|██████████| 20/20 [00:03<00:00,  6.52it/s]\n",
      "Training :   0%|          | 0/100 [00:00<?, ?it/s]"
     ]
    },
    {
     "name": "stdout",
     "output_type": "stream",
     "text": [
      "Epoch 192/200: lr=0.0001, mean batch time = 0.72s, mean data loading time = 0.50, Training loss = 0.8491,0.1990,0.0197,0.0113, Test accuracy = 66.32%,72.16%,76.57%,76.78%,\n"
     ]
    },
    {
     "name": "stderr",
     "output_type": "stream",
     "text": [
      "Training : 100%|██████████| 100/100 [01:14<00:00,  1.35it/s, Msg=Time 0.815 (0.737), Data 0.582 (0.511), Loss 11.995 (11.942), Prec@1 99.80% (99.96%),]\n",
      "  0%|          | 0/20 [00:00<?, ?it/s]"
     ]
    },
    {
     "name": "stdout",
     "output_type": "stream",
     "text": [
      "Adjusting learning rate of group 0 to 1.0000e-04.\n"
     ]
    },
    {
     "name": "stderr",
     "output_type": "stream",
     "text": [
      "100%|██████████| 20/20 [00:03<00:00,  6.34it/s]\n",
      "Training :   0%|          | 0/100 [00:00<?, ?it/s]"
     ]
    },
    {
     "name": "stdout",
     "output_type": "stream",
     "text": [
      "Epoch 193/200: lr=0.0001, mean batch time = 0.74s, mean data loading time = 0.51, Training loss = 0.8492,0.1993,0.0196,0.0114, Test accuracy = 66.34%,72.11%,76.53%,76.87%,\n"
     ]
    },
    {
     "name": "stderr",
     "output_type": "stream",
     "text": [
      "Training : 100%|██████████| 100/100 [01:13<00:00,  1.36it/s, Msg=Time 0.722 (0.728), Data 0.493 (0.504), Loss 11.969 (11.938), Prec@1 100.00% (99.97%),]\n",
      "  0%|          | 0/20 [00:00<?, ?it/s]"
     ]
    },
    {
     "name": "stdout",
     "output_type": "stream",
     "text": [
      "Adjusting learning rate of group 0 to 1.0000e-04.\n"
     ]
    },
    {
     "name": "stderr",
     "output_type": "stream",
     "text": [
      "100%|██████████| 20/20 [00:03<00:00,  6.58it/s]\n",
      "Training :   0%|          | 0/100 [00:00<?, ?it/s]"
     ]
    },
    {
     "name": "stdout",
     "output_type": "stream",
     "text": [
      "Epoch 194/200: lr=0.0001, mean batch time = 0.73s, mean data loading time = 0.50, Training loss = 0.8456,0.1990,0.0198,0.0114, Test accuracy = 66.31%,71.95%,76.44%,76.76%,\n"
     ]
    },
    {
     "name": "stderr",
     "output_type": "stream",
     "text": [
      "Training : 100%|██████████| 100/100 [01:12<00:00,  1.38it/s, Msg=Time 0.721 (0.721), Data 0.503 (0.499), Loss 11.879 (11.941), Prec@1 100.00% (99.97%),]\n",
      "  0%|          | 0/20 [00:00<?, ?it/s]"
     ]
    },
    {
     "name": "stdout",
     "output_type": "stream",
     "text": [
      "Adjusting learning rate of group 0 to 1.0000e-04.\n"
     ]
    },
    {
     "name": "stderr",
     "output_type": "stream",
     "text": [
      "100%|██████████| 20/20 [00:03<00:00,  6.61it/s]\n",
      "Training :   0%|          | 0/100 [00:00<?, ?it/s]"
     ]
    },
    {
     "name": "stdout",
     "output_type": "stream",
     "text": [
      "Epoch 195/200: lr=0.0001, mean batch time = 0.72s, mean data loading time = 0.50, Training loss = 0.8480,0.1990,0.0193,0.0111, Test accuracy = 66.23%,72.19%,76.43%,76.79%,\n"
     ]
    },
    {
     "name": "stderr",
     "output_type": "stream",
     "text": [
      "Training : 100%|██████████| 100/100 [01:12<00:00,  1.38it/s, Msg=Time 0.664 (0.719), Data 0.457 (0.502), Loss 11.969 (11.937), Prec@1 100.00% (99.97%),]\n",
      "  0%|          | 0/20 [00:00<?, ?it/s]"
     ]
    },
    {
     "name": "stdout",
     "output_type": "stream",
     "text": [
      "Adjusting learning rate of group 0 to 1.0000e-04.\n"
     ]
    },
    {
     "name": "stderr",
     "output_type": "stream",
     "text": [
      "100%|██████████| 20/20 [00:03<00:00,  6.39it/s]\n",
      "Training :   0%|          | 0/100 [00:00<?, ?it/s]"
     ]
    },
    {
     "name": "stdout",
     "output_type": "stream",
     "text": [
      "Epoch 196/200: lr=0.0001, mean batch time = 0.72s, mean data loading time = 0.50, Training loss = 0.8468,0.1971,0.0191,0.0108, Test accuracy = 66.23%,72.27%,76.53%,76.90%,\n"
     ]
    },
    {
     "name": "stderr",
     "output_type": "stream",
     "text": [
      "Training : 100%|██████████| 100/100 [01:12<00:00,  1.38it/s, Msg=Time 0.730 (0.719), Data 0.504 (0.499), Loss 12.050 (11.939), Prec@1 100.00% (99.96%),]\n",
      "  0%|          | 0/20 [00:00<?, ?it/s]"
     ]
    },
    {
     "name": "stdout",
     "output_type": "stream",
     "text": [
      "Adjusting learning rate of group 0 to 1.0000e-04.\n"
     ]
    },
    {
     "name": "stderr",
     "output_type": "stream",
     "text": [
      "100%|██████████| 20/20 [00:03<00:00,  6.58it/s]\n",
      "Training :   0%|          | 0/100 [00:00<?, ?it/s]"
     ]
    },
    {
     "name": "stdout",
     "output_type": "stream",
     "text": [
      "Epoch 197/200: lr=0.0001, mean batch time = 0.72s, mean data loading time = 0.50, Training loss = 0.8474,0.1980,0.0199,0.0114, Test accuracy = 66.35%,72.15%,76.53%,76.82%,\n"
     ]
    },
    {
     "name": "stderr",
     "output_type": "stream",
     "text": [
      "Training : 100%|██████████| 100/100 [01:12<00:00,  1.37it/s, Msg=Time 0.726 (0.724), Data 0.504 (0.503), Loss 11.891 (11.940), Prec@1 99.80% (99.96%),]IOPub message rate exceeded.\n",
      "The notebook server will temporarily stop sending output\n",
      "to the client in order to avoid crashing it.\n",
      "To change this limit, set the config variable\n",
      "`--NotebookApp.iopub_msg_rate_limit`.\n",
      "\n",
      "Current values:\n",
      "NotebookApp.iopub_msg_rate_limit=1000.0 (msgs/sec)\n",
      "NotebookApp.rate_limit_window=3.0 (secs)\n",
      "\n"
     ]
    }
   ],
   "source": [
    "from train_utils import AverageMeter\n",
    "from train_utils import sdn_validate, sdn_train\n",
    "from tqdm import tqdm\n",
    "\n",
    "losses = []\n",
    "acces = []\n",
    "for epoch in range(start_epoch, num_epoch):\n",
    "    # training\n",
    "    batch_time,data_time,l1,l2,l3,l4 = sdn_train(model, train_loader,\n",
    "                                             optimizer, criterion, temperature)\n",
    "    lr_schedule.step()\n",
    "    # Validation\n",
    "    t1,t2,t3,t4 = sdn_validate(model,test_loader)\n",
    "    \n",
    "    losses.append([l1,l2,l3,l4])\n",
    "    acces.append([t1,t2,t3,t4])\n",
    "    start_epoch = epoch\n",
    "    \n",
    "    log_info = \"Epoch %d/%d: lr=%.4f, \"\\\n",
    "          \"mean batch time = %.2fs, mean data loading time = %.2f, \"\\\n",
    "          \"Training loss = %.4f,%.4f,%.4f,%.4f, \"\\\n",
    "          \"Test accuracy = %.2f%%,%.2f%%,%.2f%%,%.2f%%,\" % (\n",
    "        epoch+1,num_epoch, optimizer.state_dict()['param_groups'][0]['lr'], \n",
    "        batch_time,data_time,\n",
    "        l1,l2,l3,l4, \n",
    "        t1,t2,t3,t4)\n",
    "    with open(log_path,'a') as f:\n",
    "        f.write(log_info+\"\\r\\n\")\n",
    "    print(log_info)"
   ]
  },
  {
   "cell_type": "code",
   "execution_count": 8,
   "id": "a00e6e4f",
   "metadata": {},
   "outputs": [],
   "source": [
    "# Save the trained parameters to disk\n",
    "torch.save(model.state_dict(), \n",
    "    \"/workspace/notebooks/FSS/models/resnet18-cifar100-SDN-66.14-71.95-76.54-76.82.pth\")"
   ]
  },
  {
   "cell_type": "markdown",
   "id": "a7488945",
   "metadata": {},
   "source": [
    "# DSN on Cifar100 test"
   ]
  },
  {
   "cell_type": "code",
   "execution_count": null,
   "id": "d6683a5e",
   "metadata": {},
   "outputs": [],
   "source": [
    "# model\n",
    "from resnet import ResNetDSN,ResNetFSS,BasicBlock,Bottleneck\n",
    "model = ResNetDSN(BasicBlock,layers=[2,2,2,2], num_classes=100)"
   ]
  },
  {
   "cell_type": "code",
   "execution_count": 9,
   "id": "6354c5ef",
   "metadata": {},
   "outputs": [
    {
     "name": "stdout",
     "output_type": "stream",
     "text": [
      "Files already downloaded and verified\n",
      "Files already downloaded and verified\n"
     ]
    }
   ],
   "source": [
    "# dataset\n",
    "from cifar100 import prepare_cifar100_train_dataset,prepare_cifar100_test_dataset\n",
    "\n",
    "cifar100_dir=\"/workspace/dataset/cifar100\"\n",
    "batch_size = 500\n",
    "train_loader = prepare_cifar100_train_dataset(data_dir=cifar100_dir, batch_size=batch_size, \n",
    "                                                        num_workers=2)\n",
    "test_loader = prepare_cifar100_test_dataset(data_dir=cifar100_dir, batch_size=batch_size, \n",
    "                                                        num_workers=2)"
   ]
  },
  {
   "cell_type": "code",
   "execution_count": 10,
   "id": "6b06bfe1",
   "metadata": {},
   "outputs": [
    {
     "name": "stdout",
     "output_type": "stream",
     "text": [
      "Adjusting learning rate of group 0 to 1.0000e-02.\n"
     ]
    }
   ],
   "source": [
    "# Training hyper-parameters\n",
    "import torch\n",
    "from torch import nn\n",
    "import time\n",
    "# model = torch.nn.DataParallel(model).cuda()\n",
    "model=model.cuda()\n",
    "best_prec1 = 0\n",
    "criterion = nn.CrossEntropyLoss().cuda()\n",
    "optimizer = torch.optim.SGD(model.parameters(), \n",
    "                            lr=0.1, \n",
    "                            momentum=0.9, \n",
    "                            weight_decay = 1e-3)\n",
    "def warm_multi_step(epoch):\n",
    "    if (epoch < 1):\n",
    "        return 0.1\n",
    "    elif (1<=epoch<75):\n",
    "        return 1\n",
    "    elif 75 <= epoch < 130:\n",
    "        return 0.1\n",
    "    elif 130 <= epoch < 180:\n",
    "        return 0.01\n",
    "    elif epoch >=180:\n",
    "        return 0.001\n",
    "    else:\n",
    "        return 1\n",
    "\n",
    "lr_schedule = torch.optim.lr_scheduler.LambdaLR(optimizer,\n",
    "                                warm_multi_step,verbose=True)\n",
    "# lr_schedule = torch.optim.lr_scheduler.MultiStepLR(optimizer,[75,90,95])\n",
    "num_epoch=200\n",
    "start_epoch = 0\n",
    "temperature = 3\n",
    "alpha = 0.1\n",
    "beta = 1e-6\n",
    "\n",
    "log_path = \"./logs/log-resnetdsn-cifar100-wd0.001-epoch200.log\"\n",
    "with open(log_path,'w') as f:\n",
    "    f.write(\"Training ResNetDSN wd0.001 Epoch200\\r\\n\")"
   ]
  },
  {
   "cell_type": "code",
   "execution_count": 11,
   "id": "085b736c",
   "metadata": {
    "collapsed": true,
    "jupyter": {
     "outputs_hidden": true
    }
   },
   "outputs": [
    {
     "name": "stderr",
     "output_type": "stream",
     "text": [
      "Training :   0%|          | 0/100 [00:00<?, ?it/s]\n"
     ]
    },
    {
     "ename": "ValueError",
     "evalue": "too many values to unpack (expected 4)",
     "output_type": "error",
     "traceback": [
      "\u001b[0;31m---------------------------------------------------------------------------\u001b[0m",
      "\u001b[0;31mValueError\u001b[0m                                Traceback (most recent call last)",
      "\u001b[0;32m<ipython-input-11-dd8020a6e6d0>\u001b[0m in \u001b[0;36m<module>\u001b[0;34m\u001b[0m\n\u001b[1;32m      7\u001b[0m \u001b[0;32mfor\u001b[0m \u001b[0mepoch\u001b[0m \u001b[0;32min\u001b[0m \u001b[0mrange\u001b[0m\u001b[0;34m(\u001b[0m\u001b[0mstart_epoch\u001b[0m\u001b[0;34m,\u001b[0m \u001b[0mnum_epoch\u001b[0m\u001b[0;34m)\u001b[0m\u001b[0;34m:\u001b[0m\u001b[0;34m\u001b[0m\u001b[0;34m\u001b[0m\u001b[0m\n\u001b[1;32m      8\u001b[0m     \u001b[0;31m# training\u001b[0m\u001b[0;34m\u001b[0m\u001b[0;34m\u001b[0m\u001b[0;34m\u001b[0m\u001b[0m\n\u001b[0;32m----> 9\u001b[0;31m     batch_time,data_time,l1,l2,l3,l4 = dsn_train(model, train_loader,\n\u001b[0m\u001b[1;32m     10\u001b[0m                                              optimizer, criterion, temperature)\n\u001b[1;32m     11\u001b[0m     \u001b[0;31m# Validation\u001b[0m\u001b[0;34m\u001b[0m\u001b[0;34m\u001b[0m\u001b[0;34m\u001b[0m\u001b[0m\n",
      "\u001b[0;32m/workspace/notebooks/train_utils.py\u001b[0m in \u001b[0;36mdsn_train\u001b[0;34m(model, train_loader, optimizer, criterion, total_epoch, epoch)\u001b[0m\n\u001b[1;32m    252\u001b[0m         \u001b[0minput\u001b[0m \u001b[0;34m=\u001b[0m \u001b[0minput\u001b[0m\u001b[0;34m.\u001b[0m\u001b[0mcuda\u001b[0m\u001b[0;34m(\u001b[0m\u001b[0;34m)\u001b[0m\u001b[0;34m\u001b[0m\u001b[0;34m\u001b[0m\u001b[0m\n\u001b[1;32m    253\u001b[0m \u001b[0;34m\u001b[0m\u001b[0m\n\u001b[0;32m--> 254\u001b[0;31m         \u001b[0mout1\u001b[0m\u001b[0;34m,\u001b[0m\u001b[0mout2\u001b[0m\u001b[0;34m,\u001b[0m\u001b[0mout3\u001b[0m\u001b[0;34m,\u001b[0m\u001b[0mout4\u001b[0m \u001b[0;34m=\u001b[0m \u001b[0mmodel\u001b[0m\u001b[0;34m(\u001b[0m\u001b[0minput\u001b[0m\u001b[0;34m)\u001b[0m\u001b[0;34m\u001b[0m\u001b[0;34m\u001b[0m\u001b[0m\n\u001b[0m\u001b[1;32m    255\u001b[0m \u001b[0;34m\u001b[0m\u001b[0m\n\u001b[1;32m    256\u001b[0m         \u001b[0mloss\u001b[0m \u001b[0;34m=\u001b[0m \u001b[0mcriterion\u001b[0m\u001b[0;34m(\u001b[0m\u001b[0mout4\u001b[0m\u001b[0;34m,\u001b[0m \u001b[0mtarget\u001b[0m\u001b[0;34m)\u001b[0m\u001b[0;34m\u001b[0m\u001b[0;34m\u001b[0m\u001b[0m\n",
      "\u001b[0;31mValueError\u001b[0m: too many values to unpack (expected 4)"
     ]
    }
   ],
   "source": [
    "from train_utils import AverageMeter\n",
    "from train_utils import dsn_validate, dsn_train\n",
    "from tqdm import tqdm\n",
    "\n",
    "losses = []\n",
    "acces = []\n",
    "for epoch in range(start_epoch, num_epoch):\n",
    "    # training\n",
    "    batch_time,data_time,l1,l2,l3,l4 = dsn_train(model, train_loader,\n",
    "                                             optimizer, criterion, temperature)\n",
    "    # Validation\n",
    "    t1,t2,t3,t4 = dsn_validate(model,test_loader)\n",
    "    lr_schedule.step()\n",
    "    \n",
    "    losses.append([l1,l2,l3,l4])\n",
    "    acces.append([t1,t2,t3,t4])\n",
    "    start_epoch = epoch\n",
    "    \n",
    "    log_info = \"Epoch %d/%d: lr=%.4f, \"\\\n",
    "          \"mean batch time = %.2fs, mean data loading time = %.2f, \"\\\n",
    "          \"Training loss = %.4f,%.4f,%.4f,%.4f, \"\\\n",
    "          \"Test accuracy = %.2f%%,%.2f%%,%.2f%%,%.2f%%,\" % (\n",
    "        epoch+1,num_epoch, optimizer.state_dict()['param_groups'][0]['lr'], \n",
    "        batch_time,data_time,\n",
    "        l1,l2,l3,l4, \n",
    "        t1,t2,t3,t4)\n",
    "    with open(log_path,'a') as f:\n",
    "        f.write(log_info+\"\\r\\n\")\n",
    "    print(log_info)"
   ]
  },
  {
   "cell_type": "code",
   "execution_count": null,
   "id": "acdabc25",
   "metadata": {},
   "outputs": [],
   "source": []
  },
  {
   "cell_type": "markdown",
   "id": "9f0e22e0",
   "metadata": {},
   "source": [
    "# DSN-BK on Cifar100 test"
   ]
  },
  {
   "cell_type": "code",
   "execution_count": 12,
   "id": "93dc112a",
   "metadata": {},
   "outputs": [],
   "source": [
    "# model\n",
    "from resnet import ResNetDSNBK,ResNetFSS,BasicBlock,Bottleneck\n",
    "model = ResNetDSNBK(BasicBlock,layers=[2,2,2,2], num_classes=100)"
   ]
  },
  {
   "cell_type": "code",
   "execution_count": 13,
   "id": "1d65fe2c",
   "metadata": {},
   "outputs": [
    {
     "name": "stdout",
     "output_type": "stream",
     "text": [
      "Files already downloaded and verified\n",
      "Files already downloaded and verified\n"
     ]
    }
   ],
   "source": [
    "# dataset\n",
    "from cifar100 import prepare_cifar100_train_dataset,prepare_cifar100_test_dataset\n",
    "\n",
    "cifar100_dir=\"/workspace/dataset/cifar100\"\n",
    "batch_size = 500\n",
    "train_loader = prepare_cifar100_train_dataset(data_dir=cifar100_dir, batch_size=batch_size, \n",
    "                                                        num_workers=2)\n",
    "test_loader = prepare_cifar100_test_dataset(data_dir=cifar100_dir, batch_size=batch_size, \n",
    "                                                        num_workers=2)"
   ]
  },
  {
   "cell_type": "code",
   "execution_count": 14,
   "id": "0ebdfccb",
   "metadata": {},
   "outputs": [
    {
     "name": "stdout",
     "output_type": "stream",
     "text": [
      "Adjusting learning rate of group 0 to 1.0000e-02.\n"
     ]
    }
   ],
   "source": [
    "# Training hyper-parameters\n",
    "import torch\n",
    "from torch import nn\n",
    "import time\n",
    "# model = torch.nn.DataParallel(model).cuda()\n",
    "model=model.cuda()\n",
    "best_prec1 = 0\n",
    "criterion = nn.CrossEntropyLoss().cuda()\n",
    "optimizer = torch.optim.SGD(model.parameters(), \n",
    "                            lr=0.1, \n",
    "                            momentum=0.9, \n",
    "                            weight_decay = 1e-3)\n",
    "def warm_multi_step(epoch):\n",
    "    if (epoch < 1):\n",
    "        return 0.1\n",
    "    elif (1<=epoch<75):\n",
    "        return 1\n",
    "    elif 75 <= epoch < 130:\n",
    "        return 0.1\n",
    "    elif 130 <= epoch < 180:\n",
    "        return 0.01\n",
    "    elif epoch >=180:\n",
    "        return 0.001\n",
    "    else:\n",
    "        return 1\n",
    "\n",
    "lr_schedule = torch.optim.lr_scheduler.LambdaLR(optimizer,\n",
    "                                warm_multi_step,verbose=True)\n",
    "# lr_schedule = torch.optim.lr_scheduler.MultiStepLR(optimizer,[75,90,95])\n",
    "num_epoch=200\n",
    "start_epoch = 0\n",
    "temperature = 3\n",
    "alpha = 0.1\n",
    "beta = 1e-6\n",
    "\n",
    "log_path = \"./logs/log-resnetdsnbk-cifar100-wd0.001-epoch200.log\"\n",
    "with open(log_path,'w') as f:\n",
    "    f.write(\"Training ResNetDSN-BK wd0.001 Epoch200\\r\\n\")"
   ]
  },
  {
   "cell_type": "code",
   "execution_count": 15,
   "id": "2b7c10ff",
   "metadata": {
    "collapsed": true,
    "jupyter": {
     "outputs_hidden": true
    }
   },
   "outputs": [
    {
     "name": "stderr",
     "output_type": "stream",
     "text": [
      "Training : 100%|██████████| 100/100 [00:35<00:00,  2.85it/s, Msg=Time 0.348s, Data 0.234s, Loss (4.131|4.111|4.105|4.148), Top1 (8.02%|7.90%|7.77%|7.12%|)]\n",
      "100%|██████████| 20/20 [00:01<00:00, 10.57it/s]\n",
      "Training :   0%|          | 0/100 [00:00<?, ?it/s]"
     ]
    },
    {
     "name": "stdout",
     "output_type": "stream",
     "text": [
      "Adjusting learning rate of group 0 to 1.0000e-01.\n",
      "Epoch 1/200: lr=0.1000, mean batch time = 0.35s, mean data loading time = 0.23, Training loss = 4.1310,4.1112,4.1055,4.1477, Test accuracy = 10.26%,10.50%,11.07%,10.63%,\n"
     ]
    },
    {
     "name": "stderr",
     "output_type": "stream",
     "text": [
      "Training : 100%|██████████| 100/100 [00:36<00:00,  2.74it/s, Msg=Time 0.362s, Data 0.245s, Loss (3.737|3.683|3.647|3.714), Top1 (12.50%|13.31%|13.86%|13.28%|)]\n",
      "100%|██████████| 20/20 [00:01<00:00, 10.00it/s]\n",
      "Training :   0%|          | 0/100 [00:00<?, ?it/s]"
     ]
    },
    {
     "name": "stdout",
     "output_type": "stream",
     "text": [
      "Adjusting learning rate of group 0 to 1.0000e-01.\n",
      "Epoch 2/200: lr=0.1000, mean batch time = 0.36s, mean data loading time = 0.24, Training loss = 3.7370,3.6833,3.6470,3.7143, Test accuracy = 15.73%,16.90%,17.00%,15.52%,\n"
     ]
    },
    {
     "name": "stderr",
     "output_type": "stream",
     "text": [
      "Training : 100%|██████████| 100/100 [00:51<00:00,  1.95it/s, Msg=Time 0.509s, Data 0.353s, Loss (3.317|3.187|3.072|3.092), Top1 (19.72%|21.73%|23.70%|23.13%|)]\n",
      "100%|██████████| 20/20 [00:02<00:00,  6.94it/s]\n",
      "Training :   0%|          | 0/100 [00:00<?, ?it/s]"
     ]
    },
    {
     "name": "stdout",
     "output_type": "stream",
     "text": [
      "Adjusting learning rate of group 0 to 1.0000e-01.\n",
      "Epoch 3/200: lr=0.1000, mean batch time = 0.51s, mean data loading time = 0.35, Training loss = 3.3169,3.1869,3.0724,3.0916, Test accuracy = 19.56%,20.73%,22.40%,22.26%,\n"
     ]
    },
    {
     "name": "stderr",
     "output_type": "stream",
     "text": [
      "Training : 100%|██████████| 100/100 [01:05<00:00,  1.52it/s, Msg=Time 0.654s, Data 0.453s, Loss (3.028|2.828|2.660|2.654), Top1 (24.92%|28.49%|31.50%|31.33%|)]\n",
      "100%|██████████| 20/20 [00:02<00:00,  6.92it/s]\n",
      "Training :   0%|          | 0/100 [00:00<?, ?it/s]"
     ]
    },
    {
     "name": "stdout",
     "output_type": "stream",
     "text": [
      "Adjusting learning rate of group 0 to 1.0000e-01.\n",
      "Epoch 4/200: lr=0.1000, mean batch time = 0.65s, mean data loading time = 0.45, Training loss = 3.0276,2.8276,2.6601,2.6541, Test accuracy = 21.11%,26.17%,30.13%,30.67%,\n"
     ]
    },
    {
     "name": "stderr",
     "output_type": "stream",
     "text": [
      "Training : 100%|██████████| 100/100 [01:09<00:00,  1.44it/s, Msg=Time 0.691s, Data 0.476s, Loss (2.787|2.531|2.321|2.295), Top1 (29.34%|34.42%|38.53%|38.79%|)]\n",
      "100%|██████████| 20/20 [00:03<00:00,  5.95it/s]\n",
      "Training :   0%|          | 0/100 [00:00<?, ?it/s]"
     ]
    },
    {
     "name": "stdout",
     "output_type": "stream",
     "text": [
      "Adjusting learning rate of group 0 to 1.0000e-01.\n",
      "Epoch 5/200: lr=0.1000, mean batch time = 0.69s, mean data loading time = 0.48, Training loss = 2.7866,2.5305,2.3207,2.2948, Test accuracy = 27.81%,30.64%,34.39%,35.18%,\n"
     ]
    },
    {
     "name": "stderr",
     "output_type": "stream",
     "text": [
      "Training : 100%|██████████| 100/100 [01:13<00:00,  1.37it/s, Msg=Time 0.724s, Data 0.503s, Loss (2.575|2.285|2.053|2.013), Top1 (33.73%|39.38%|44.34%|45.00%|)]\n",
      "100%|██████████| 20/20 [00:03<00:00,  6.30it/s]\n",
      "Training :   0%|          | 0/100 [00:00<?, ?it/s]"
     ]
    },
    {
     "name": "stdout",
     "output_type": "stream",
     "text": [
      "Adjusting learning rate of group 0 to 1.0000e-01.\n",
      "Epoch 6/200: lr=0.1000, mean batch time = 0.72s, mean data loading time = 0.50, Training loss = 2.5753,2.2851,2.0535,2.0132, Test accuracy = 30.71%,31.18%,37.26%,38.50%,\n"
     ]
    },
    {
     "name": "stderr",
     "output_type": "stream",
     "text": [
      "Training : 100%|██████████| 100/100 [01:14<00:00,  1.34it/s, Msg=Time 0.739s, Data 0.514s, Loss (2.418|2.100|1.851|1.808), Top1 (37.02%|43.42%|48.97%|49.75%|)]\n",
      "100%|██████████| 20/20 [00:02<00:00,  6.69it/s]\n",
      "Training :   0%|          | 0/100 [00:00<?, ?it/s]"
     ]
    },
    {
     "name": "stdout",
     "output_type": "stream",
     "text": [
      "Adjusting learning rate of group 0 to 1.0000e-01.\n",
      "Epoch 7/200: lr=0.1000, mean batch time = 0.74s, mean data loading time = 0.51, Training loss = 2.4178,2.0995,1.8514,1.8080, Test accuracy = 30.01%,35.56%,43.51%,43.71%,\n"
     ]
    },
    {
     "name": "stderr",
     "output_type": "stream",
     "text": [
      "Training : 100%|██████████| 100/100 [01:11<00:00,  1.39it/s, Msg=Time 0.714s, Data 0.496s, Loss (2.286|1.953|1.701|1.653), Top1 (39.77%|47.14%|52.73%|53.43%|)]\n",
      "100%|██████████| 20/20 [00:02<00:00,  6.99it/s]\n",
      "Training :   0%|          | 0/100 [00:00<?, ?it/s]"
     ]
    },
    {
     "name": "stdout",
     "output_type": "stream",
     "text": [
      "Adjusting learning rate of group 0 to 1.0000e-01.\n",
      "Epoch 8/200: lr=0.1000, mean batch time = 0.71s, mean data loading time = 0.50, Training loss = 2.2865,1.9534,1.7011,1.6529, Test accuracy = 33.48%,37.51%,45.47%,44.61%,\n"
     ]
    },
    {
     "name": "stderr",
     "output_type": "stream",
     "text": [
      "Training : 100%|██████████| 100/100 [01:08<00:00,  1.46it/s, Msg=Time 0.678s, Data 0.471s, Loss (2.181|1.828|1.566|1.521), Top1 (41.80%|49.85%|55.75%|56.43%|)]\n",
      "100%|██████████| 20/20 [00:02<00:00,  6.77it/s]\n",
      "Training :   0%|          | 0/100 [00:00<?, ?it/s]"
     ]
    },
    {
     "name": "stdout",
     "output_type": "stream",
     "text": [
      "Adjusting learning rate of group 0 to 1.0000e-01.\n",
      "Epoch 9/200: lr=0.1000, mean batch time = 0.68s, mean data loading time = 0.47, Training loss = 2.1806,1.8277,1.5657,1.5210, Test accuracy = 36.52%,44.27%,48.01%,49.23%,\n"
     ]
    },
    {
     "name": "stderr",
     "output_type": "stream",
     "text": [
      "Training : 100%|██████████| 100/100 [01:07<00:00,  1.48it/s, Msg=Time 0.669s, Data 0.463s, Loss (2.114|1.746|1.481|1.434), Top1 (43.72%|51.89%|57.96%|58.72%|)]\n",
      "100%|██████████| 20/20 [00:02<00:00,  6.92it/s]\n",
      "Training :   0%|          | 0/100 [00:00<?, ?it/s]"
     ]
    },
    {
     "name": "stdout",
     "output_type": "stream",
     "text": [
      "Adjusting learning rate of group 0 to 1.0000e-01.\n",
      "Epoch 10/200: lr=0.1000, mean batch time = 0.67s, mean data loading time = 0.46, Training loss = 2.1141,1.7465,1.4815,1.4341, Test accuracy = 38.81%,44.31%,49.87%,51.39%,\n"
     ]
    },
    {
     "name": "stderr",
     "output_type": "stream",
     "text": [
      "Training : 100%|██████████| 100/100 [01:05<00:00,  1.53it/s, Msg=Time 0.647s, Data 0.452s, Loss (2.060|1.668|1.398|1.350), Top1 (44.93%|53.99%|60.24%|61.14%|)]\n",
      "100%|██████████| 20/20 [00:02<00:00,  7.25it/s]\n",
      "Training :   0%|          | 0/100 [00:00<?, ?it/s]"
     ]
    },
    {
     "name": "stdout",
     "output_type": "stream",
     "text": [
      "Adjusting learning rate of group 0 to 1.0000e-01.\n",
      "Epoch 11/200: lr=0.1000, mean batch time = 0.65s, mean data loading time = 0.45, Training loss = 2.0595,1.6684,1.3977,1.3501, Test accuracy = 34.41%,40.63%,47.93%,47.16%,\n"
     ]
    },
    {
     "name": "stderr",
     "output_type": "stream",
     "text": [
      "Training : 100%|██████████| 100/100 [01:04<00:00,  1.55it/s, Msg=Time 0.641s, Data 0.447s, Loss (2.010|1.611|1.330|1.283), Top1 (45.63%|55.06%|61.89%|62.67%|)]\n",
      "100%|██████████| 20/20 [00:02<00:00,  7.11it/s]\n",
      "Training :   0%|          | 0/100 [00:00<?, ?it/s]"
     ]
    },
    {
     "name": "stdout",
     "output_type": "stream",
     "text": [
      "Adjusting learning rate of group 0 to 1.0000e-01.\n",
      "Epoch 12/200: lr=0.1000, mean batch time = 0.64s, mean data loading time = 0.45, Training loss = 2.0104,1.6110,1.3301,1.2834, Test accuracy = 39.72%,40.26%,46.91%,47.00%,\n"
     ]
    },
    {
     "name": "stderr",
     "output_type": "stream",
     "text": [
      "Training : 100%|██████████| 100/100 [01:04<00:00,  1.55it/s, Msg=Time 0.638s, Data 0.446s, Loss (1.962|1.554|1.271|1.224), Top1 (47.04%|56.64%|63.28%|64.24%|)]\n",
      "100%|██████████| 20/20 [00:02<00:00,  6.98it/s]\n",
      "Training :   0%|          | 0/100 [00:00<?, ?it/s]"
     ]
    },
    {
     "name": "stdout",
     "output_type": "stream",
     "text": [
      "Adjusting learning rate of group 0 to 1.0000e-01.\n",
      "Epoch 13/200: lr=0.1000, mean batch time = 0.64s, mean data loading time = 0.45, Training loss = 1.9623,1.5538,1.2711,1.2241, Test accuracy = 39.75%,45.34%,51.23%,50.85%,\n"
     ]
    },
    {
     "name": "stderr",
     "output_type": "stream",
     "text": [
      "Training : 100%|██████████| 100/100 [01:03<00:00,  1.57it/s, Msg=Time 0.630s, Data 0.444s, Loss (1.939|1.515|1.222|1.169), Top1 (47.58%|57.65%|64.75%|65.90%|)]\n",
      "100%|██████████| 20/20 [00:03<00:00,  6.61it/s]\n",
      "Training :   0%|          | 0/100 [00:00<?, ?it/s]"
     ]
    },
    {
     "name": "stdout",
     "output_type": "stream",
     "text": [
      "Adjusting learning rate of group 0 to 1.0000e-01.\n",
      "Epoch 14/200: lr=0.1000, mean batch time = 0.63s, mean data loading time = 0.44, Training loss = 1.9388,1.5153,1.2222,1.1689, Test accuracy = 35.46%,43.62%,45.60%,47.64%,\n"
     ]
    },
    {
     "name": "stderr",
     "output_type": "stream",
     "text": [
      "Training : 100%|██████████| 100/100 [01:04<00:00,  1.56it/s, Msg=Time 0.637s, Data 0.440s, Loss (1.898|1.470|1.174|1.127), Top1 (48.46%|58.85%|65.92%|66.80%|)]\n",
      "100%|██████████| 20/20 [00:03<00:00,  6.56it/s]\n",
      "Training :   0%|          | 0/100 [00:00<?, ?it/s]"
     ]
    },
    {
     "name": "stdout",
     "output_type": "stream",
     "text": [
      "Adjusting learning rate of group 0 to 1.0000e-01.\n",
      "Epoch 15/200: lr=0.1000, mean batch time = 0.64s, mean data loading time = 0.44, Training loss = 1.8984,1.4701,1.1743,1.1273, Test accuracy = 34.21%,42.71%,48.62%,50.38%,\n"
     ]
    },
    {
     "name": "stderr",
     "output_type": "stream",
     "text": [
      "Training : 100%|██████████| 100/100 [01:04<00:00,  1.54it/s, Msg=Time 0.643s, Data 0.448s, Loss (1.866|1.431|1.133|1.084), Top1 (49.28%|59.74%|67.06%|68.01%|)]\n",
      "100%|██████████| 20/20 [00:03<00:00,  6.51it/s]\n",
      "Training :   0%|          | 0/100 [00:00<?, ?it/s]"
     ]
    },
    {
     "name": "stdout",
     "output_type": "stream",
     "text": [
      "Adjusting learning rate of group 0 to 1.0000e-01.\n",
      "Epoch 16/200: lr=0.1000, mean batch time = 0.64s, mean data loading time = 0.45, Training loss = 1.8663,1.4315,1.1334,1.0840, Test accuracy = 43.67%,49.15%,55.87%,56.46%,\n"
     ]
    },
    {
     "name": "stderr",
     "output_type": "stream",
     "text": [
      "Training : 100%|██████████| 100/100 [01:04<00:00,  1.55it/s, Msg=Time 0.641s, Data 0.449s, Loss (1.837|1.405|1.107|1.058), Top1 (50.22%|60.41%|67.76%|68.82%|)]\n",
      "100%|██████████| 20/20 [00:02<00:00,  7.06it/s]\n",
      "Training :   0%|          | 0/100 [00:00<?, ?it/s]"
     ]
    },
    {
     "name": "stdout",
     "output_type": "stream",
     "text": [
      "Adjusting learning rate of group 0 to 1.0000e-01.\n",
      "Epoch 17/200: lr=0.1000, mean batch time = 0.64s, mean data loading time = 0.45, Training loss = 1.8375,1.4050,1.1068,1.0584, Test accuracy = 41.32%,50.72%,54.54%,56.60%,\n"
     ]
    },
    {
     "name": "stderr",
     "output_type": "stream",
     "text": [
      "Training : 100%|██████████| 100/100 [01:03<00:00,  1.57it/s, Msg=Time 0.630s, Data 0.440s, Loss (1.807|1.377|1.065|1.017), Top1 (50.75%|61.33%|68.88%|69.94%|)]\n",
      "100%|██████████| 20/20 [00:02<00:00,  6.83it/s]\n",
      "Training :   0%|          | 0/100 [00:00<?, ?it/s]"
     ]
    },
    {
     "name": "stdout",
     "output_type": "stream",
     "text": [
      "Adjusting learning rate of group 0 to 1.0000e-01.\n",
      "Epoch 18/200: lr=0.1000, mean batch time = 0.63s, mean data loading time = 0.44, Training loss = 1.8069,1.3766,1.0651,1.0167, Test accuracy = 43.07%,46.11%,53.02%,53.88%,\n"
     ]
    },
    {
     "name": "stderr",
     "output_type": "stream",
     "text": [
      "Training : 100%|██████████| 100/100 [01:04<00:00,  1.54it/s, Msg=Time 0.644s, Data 0.449s, Loss (1.795|1.354|1.045|0.991), Top1 (50.75%|61.78%|69.48%|70.57%|)]\n",
      "100%|██████████| 20/20 [00:02<00:00,  7.09it/s]\n",
      "Training :   0%|          | 0/100 [00:00<?, ?it/s]"
     ]
    },
    {
     "name": "stdout",
     "output_type": "stream",
     "text": [
      "Adjusting learning rate of group 0 to 1.0000e-01.\n",
      "Epoch 19/200: lr=0.1000, mean batch time = 0.64s, mean data loading time = 0.45, Training loss = 1.7948,1.3542,1.0448,0.9906, Test accuracy = 38.46%,48.96%,53.14%,54.00%,\n"
     ]
    },
    {
     "name": "stderr",
     "output_type": "stream",
     "text": [
      "Training : 100%|██████████| 100/100 [01:02<00:00,  1.59it/s, Msg=Time 0.622s, Data 0.434s, Loss (1.776|1.324|1.013|0.968), Top1 (51.49%|62.65%|70.44%|71.31%|)]\n",
      "100%|██████████| 20/20 [00:02<00:00,  6.82it/s]\n",
      "Training :   0%|          | 0/100 [00:00<?, ?it/s]"
     ]
    },
    {
     "name": "stdout",
     "output_type": "stream",
     "text": [
      "Adjusting learning rate of group 0 to 1.0000e-01.\n",
      "Epoch 20/200: lr=0.1000, mean batch time = 0.62s, mean data loading time = 0.43, Training loss = 1.7761,1.3236,1.0126,0.9680, Test accuracy = 41.48%,49.75%,53.15%,53.97%,\n"
     ]
    },
    {
     "name": "stderr",
     "output_type": "stream",
     "text": [
      "Training : 100%|██████████| 100/100 [01:03<00:00,  1.57it/s, Msg=Time 0.632s, Data 0.441s, Loss (1.767|1.311|0.998|0.952), Top1 (51.71%|63.00%|70.86%|71.60%|)]\n",
      "100%|██████████| 20/20 [00:02<00:00,  7.40it/s]\n",
      "Training :   0%|          | 0/100 [00:00<?, ?it/s]"
     ]
    },
    {
     "name": "stdout",
     "output_type": "stream",
     "text": [
      "Adjusting learning rate of group 0 to 1.0000e-01.\n",
      "Epoch 21/200: lr=0.1000, mean batch time = 0.63s, mean data loading time = 0.44, Training loss = 1.7666,1.3108,0.9975,0.9519, Test accuracy = 40.62%,48.62%,53.68%,55.01%,\n"
     ]
    },
    {
     "name": "stderr",
     "output_type": "stream",
     "text": [
      "Training : 100%|██████████| 100/100 [01:02<00:00,  1.60it/s, Msg=Time 0.618s, Data 0.428s, Loss (1.742|1.295|0.976|0.933), Top1 (52.43%|63.23%|71.29%|72.13%|)]\n",
      "100%|██████████| 20/20 [00:02<00:00,  6.77it/s]\n",
      "Training :   0%|          | 0/100 [00:00<?, ?it/s]"
     ]
    },
    {
     "name": "stdout",
     "output_type": "stream",
     "text": [
      "Adjusting learning rate of group 0 to 1.0000e-01.\n",
      "Epoch 22/200: lr=0.1000, mean batch time = 0.62s, mean data loading time = 0.43, Training loss = 1.7419,1.2950,0.9757,0.9326, Test accuracy = 37.76%,45.07%,50.37%,49.80%,\n"
     ]
    },
    {
     "name": "stderr",
     "output_type": "stream",
     "text": [
      "Training : 100%|██████████| 100/100 [01:02<00:00,  1.61it/s, Msg=Time 0.617s, Data 0.423s, Loss (1.723|1.270|0.953|0.903), Top1 (52.69%|64.01%|71.90%|72.81%|)]\n",
      "100%|██████████| 20/20 [00:04<00:00,  4.45it/s]\n",
      "Training :   0%|          | 0/100 [00:00<?, ?it/s]"
     ]
    },
    {
     "name": "stdout",
     "output_type": "stream",
     "text": [
      "Adjusting learning rate of group 0 to 1.0000e-01.\n",
      "Epoch 23/200: lr=0.1000, mean batch time = 0.62s, mean data loading time = 0.42, Training loss = 1.7229,1.2699,0.9526,0.9029, Test accuracy = 40.65%,49.72%,53.86%,54.33%,\n"
     ]
    },
    {
     "name": "stderr",
     "output_type": "stream",
     "text": [
      "Training : 100%|██████████| 100/100 [01:02<00:00,  1.60it/s, Msg=Time 0.622s, Data 0.434s, Loss (1.715|1.261|0.939|0.892), Top1 (53.23%|64.11%|72.20%|73.31%|)]\n",
      "100%|██████████| 20/20 [00:02<00:00,  6.89it/s]\n",
      "Training :   0%|          | 0/100 [00:00<?, ?it/s]"
     ]
    },
    {
     "name": "stdout",
     "output_type": "stream",
     "text": [
      "Adjusting learning rate of group 0 to 1.0000e-01.\n",
      "Epoch 24/200: lr=0.1000, mean batch time = 0.62s, mean data loading time = 0.43, Training loss = 1.7153,1.2615,0.9387,0.8919, Test accuracy = 43.17%,49.44%,57.12%,58.03%,\n"
     ]
    },
    {
     "name": "stderr",
     "output_type": "stream",
     "text": [
      "Training : 100%|██████████| 100/100 [01:04<00:00,  1.55it/s, Msg=Time 0.640s, Data 0.446s, Loss (1.711|1.254|0.926|0.883), Top1 (53.05%|64.47%|72.88%|73.66%|)]\n",
      "100%|██████████| 20/20 [00:02<00:00,  7.06it/s]\n",
      "Training :   0%|          | 0/100 [00:00<?, ?it/s]"
     ]
    },
    {
     "name": "stdout",
     "output_type": "stream",
     "text": [
      "Adjusting learning rate of group 0 to 1.0000e-01.\n",
      "Epoch 25/200: lr=0.1000, mean batch time = 0.64s, mean data loading time = 0.45, Training loss = 1.7114,1.2537,0.9263,0.8829, Test accuracy = 40.38%,47.49%,54.15%,55.10%,\n"
     ]
    },
    {
     "name": "stderr",
     "output_type": "stream",
     "text": [
      "Training : 100%|██████████| 100/100 [01:03<00:00,  1.59it/s, Msg=Time 0.625s, Data 0.436s, Loss (1.691|1.234|0.908|0.865), Top1 (53.57%|65.08%|73.11%|73.93%|)]\n",
      "100%|██████████| 20/20 [00:02<00:00,  6.87it/s]\n",
      "Training :   0%|          | 0/100 [00:00<?, ?it/s]"
     ]
    },
    {
     "name": "stdout",
     "output_type": "stream",
     "text": [
      "Adjusting learning rate of group 0 to 1.0000e-01.\n",
      "Epoch 26/200: lr=0.1000, mean batch time = 0.62s, mean data loading time = 0.44, Training loss = 1.6913,1.2339,0.9084,0.8646, Test accuracy = 38.90%,52.07%,54.41%,54.40%,\n"
     ]
    },
    {
     "name": "stderr",
     "output_type": "stream",
     "text": [
      "Training : 100%|██████████| 100/100 [01:03<00:00,  1.57it/s, Msg=Time 0.633s, Data 0.445s, Loss (1.686|1.221|0.888|0.844), Top1 (54.06%|65.42%|73.80%|74.65%|)]\n",
      "100%|██████████| 20/20 [00:02<00:00,  6.68it/s]\n",
      "Training :   0%|          | 0/100 [00:00<?, ?it/s]"
     ]
    },
    {
     "name": "stdout",
     "output_type": "stream",
     "text": [
      "Adjusting learning rate of group 0 to 1.0000e-01.\n",
      "Epoch 27/200: lr=0.1000, mean batch time = 0.63s, mean data loading time = 0.44, Training loss = 1.6858,1.2213,0.8884,0.8443, Test accuracy = 35.20%,47.74%,50.24%,51.88%,\n"
     ]
    },
    {
     "name": "stderr",
     "output_type": "stream",
     "text": [
      "Training : 100%|██████████| 100/100 [01:02<00:00,  1.59it/s, Msg=Time 0.622s, Data 0.435s, Loss (1.674|1.203|0.870|0.829), Top1 (54.11%|65.94%|74.34%|74.97%|)]\n",
      "100%|██████████| 20/20 [00:03<00:00,  6.11it/s]\n",
      "Training :   0%|          | 0/100 [00:00<?, ?it/s]"
     ]
    },
    {
     "name": "stdout",
     "output_type": "stream",
     "text": [
      "Adjusting learning rate of group 0 to 1.0000e-01.\n",
      "Epoch 28/200: lr=0.1000, mean batch time = 0.62s, mean data loading time = 0.43, Training loss = 1.6741,1.2026,0.8700,0.8291, Test accuracy = 41.11%,50.36%,51.30%,52.89%,\n"
     ]
    },
    {
     "name": "stderr",
     "output_type": "stream",
     "text": [
      "Training : 100%|██████████| 100/100 [01:04<00:00,  1.54it/s, Msg=Time 0.644s, Data 0.448s, Loss (1.654|1.192|0.856|0.815), Top1 (54.45%|66.00%|74.49%|75.40%|)]\n",
      "100%|██████████| 20/20 [00:02<00:00,  7.42it/s]\n",
      "Training :   0%|          | 0/100 [00:00<?, ?it/s]"
     ]
    },
    {
     "name": "stdout",
     "output_type": "stream",
     "text": [
      "Adjusting learning rate of group 0 to 1.0000e-01.\n",
      "Epoch 29/200: lr=0.1000, mean batch time = 0.64s, mean data loading time = 0.45, Training loss = 1.6542,1.1915,0.8562,0.8150, Test accuracy = 46.20%,47.75%,57.10%,56.92%,\n"
     ]
    },
    {
     "name": "stderr",
     "output_type": "stream",
     "text": [
      "Training : 100%|██████████| 100/100 [01:02<00:00,  1.60it/s, Msg=Time 0.619s, Data 0.434s, Loss (1.665|1.194|0.858|0.816), Top1 (54.41%|66.06%|74.68%|75.28%|)]\n",
      "100%|██████████| 20/20 [00:02<00:00,  7.18it/s]\n",
      "Training :   0%|          | 0/100 [00:00<?, ?it/s]"
     ]
    },
    {
     "name": "stdout",
     "output_type": "stream",
     "text": [
      "Adjusting learning rate of group 0 to 1.0000e-01.\n",
      "Epoch 30/200: lr=0.1000, mean batch time = 0.62s, mean data loading time = 0.43, Training loss = 1.6654,1.1940,0.8576,0.8165, Test accuracy = 42.42%,51.44%,56.57%,56.50%,\n"
     ]
    },
    {
     "name": "stderr",
     "output_type": "stream",
     "text": [
      "Training : 100%|██████████| 100/100 [01:04<00:00,  1.54it/s, Msg=Time 0.643s, Data 0.450s, Loss (1.640|1.166|0.827|0.786), Top1 (55.08%|66.94%|75.70%|76.63%|)]\n",
      "100%|██████████| 20/20 [00:02<00:00,  7.64it/s]\n",
      "Training :   0%|          | 0/100 [00:00<?, ?it/s]"
     ]
    },
    {
     "name": "stdout",
     "output_type": "stream",
     "text": [
      "Adjusting learning rate of group 0 to 1.0000e-01.\n",
      "Epoch 31/200: lr=0.1000, mean batch time = 0.64s, mean data loading time = 0.45, Training loss = 1.6397,1.1661,0.8270,0.7859, Test accuracy = 40.02%,50.84%,54.86%,53.30%,\n"
     ]
    },
    {
     "name": "stderr",
     "output_type": "stream",
     "text": [
      "Training : 100%|██████████| 100/100 [01:02<00:00,  1.59it/s, Msg=Time 0.623s, Data 0.432s, Loss (1.644|1.174|0.828|0.788), Top1 (54.83%|66.70%|75.54%|76.24%|)]\n",
      "100%|██████████| 20/20 [00:02<00:00,  7.06it/s]\n",
      "Training :   0%|          | 0/100 [00:00<?, ?it/s]"
     ]
    },
    {
     "name": "stdout",
     "output_type": "stream",
     "text": [
      "Adjusting learning rate of group 0 to 1.0000e-01.\n",
      "Epoch 32/200: lr=0.1000, mean batch time = 0.62s, mean data loading time = 0.43, Training loss = 1.6438,1.1738,0.8285,0.7885, Test accuracy = 38.50%,50.63%,54.90%,55.37%,\n"
     ]
    },
    {
     "name": "stderr",
     "output_type": "stream",
     "text": [
      "Training : 100%|██████████| 100/100 [01:04<00:00,  1.56it/s, Msg=Time 0.635s, Data 0.443s, Loss (1.628|1.158|0.815|0.775), Top1 (55.36%|66.99%|75.74%|76.58%|)]\n",
      "100%|██████████| 20/20 [00:02<00:00,  7.24it/s]\n",
      "Training :   0%|          | 0/100 [00:00<?, ?it/s]"
     ]
    },
    {
     "name": "stdout",
     "output_type": "stream",
     "text": [
      "Adjusting learning rate of group 0 to 1.0000e-01.\n",
      "Epoch 33/200: lr=0.1000, mean batch time = 0.64s, mean data loading time = 0.44, Training loss = 1.6278,1.1585,0.8149,0.7752, Test accuracy = 43.64%,50.83%,53.24%,51.33%,\n"
     ]
    },
    {
     "name": "stderr",
     "output_type": "stream",
     "text": [
      "Training : 100%|██████████| 100/100 [01:03<00:00,  1.58it/s, Msg=Time 0.630s, Data 0.440s, Loss (1.627|1.149|0.807|0.767), Top1 (55.58%|67.29%|76.05%|76.87%|)]\n",
      "100%|██████████| 20/20 [00:02<00:00,  7.72it/s]\n",
      "Training :   0%|          | 0/100 [00:00<?, ?it/s]"
     ]
    },
    {
     "name": "stdout",
     "output_type": "stream",
     "text": [
      "Adjusting learning rate of group 0 to 1.0000e-01.\n",
      "Epoch 34/200: lr=0.1000, mean batch time = 0.63s, mean data loading time = 0.44, Training loss = 1.6271,1.1490,0.8068,0.7667, Test accuracy = 44.50%,55.24%,57.00%,56.23%,\n"
     ]
    },
    {
     "name": "stderr",
     "output_type": "stream",
     "text": [
      "Training : 100%|██████████| 100/100 [01:01<00:00,  1.63it/s, Msg=Time 0.608s, Data 0.424s, Loss (1.613|1.145|0.802|0.763), Top1 (55.58%|67.40%|76.28%|76.99%|)]\n",
      "100%|██████████| 20/20 [00:02<00:00,  6.86it/s]\n",
      "Training :   0%|          | 0/100 [00:00<?, ?it/s]"
     ]
    },
    {
     "name": "stdout",
     "output_type": "stream",
     "text": [
      "Adjusting learning rate of group 0 to 1.0000e-01.\n",
      "Epoch 35/200: lr=0.1000, mean batch time = 0.61s, mean data loading time = 0.42, Training loss = 1.6126,1.1448,0.8018,0.7628, Test accuracy = 44.63%,53.45%,56.22%,56.03%,\n"
     ]
    },
    {
     "name": "stderr",
     "output_type": "stream",
     "text": [
      "Training : 100%|██████████| 100/100 [01:03<00:00,  1.56it/s, Msg=Time 0.634s, Data 0.438s, Loss (1.617|1.146|0.800|0.763), Top1 (55.54%|67.32%|76.15%|76.99%|)]\n",
      "100%|██████████| 20/20 [00:02<00:00,  7.51it/s]\n",
      "Training :   0%|          | 0/100 [00:00<?, ?it/s]"
     ]
    },
    {
     "name": "stdout",
     "output_type": "stream",
     "text": [
      "Adjusting learning rate of group 0 to 1.0000e-01.\n",
      "Epoch 36/200: lr=0.1000, mean batch time = 0.63s, mean data loading time = 0.44, Training loss = 1.6171,1.1459,0.7998,0.7629, Test accuracy = 40.46%,48.17%,56.07%,56.35%,\n"
     ]
    },
    {
     "name": "stderr",
     "output_type": "stream",
     "text": [
      "Training : 100%|██████████| 100/100 [01:03<00:00,  1.57it/s, Msg=Time 0.631s, Data 0.440s, Loss (1.612|1.132|0.794|0.754), Top1 (55.74%|67.72%|76.45%|77.35%|)]\n",
      "100%|██████████| 20/20 [00:02<00:00,  7.17it/s]\n",
      "Training :   0%|          | 0/100 [00:00<?, ?it/s]"
     ]
    },
    {
     "name": "stdout",
     "output_type": "stream",
     "text": [
      "Adjusting learning rate of group 0 to 1.0000e-01.\n",
      "Epoch 37/200: lr=0.1000, mean batch time = 0.63s, mean data loading time = 0.44, Training loss = 1.6117,1.1322,0.7936,0.7538, Test accuracy = 41.64%,49.42%,53.63%,53.30%,\n"
     ]
    },
    {
     "name": "stderr",
     "output_type": "stream",
     "text": [
      "Training : 100%|██████████| 100/100 [01:02<00:00,  1.59it/s, Msg=Time 0.623s, Data 0.434s, Loss (1.597|1.125|0.785|0.747), Top1 (56.07%|67.86%|76.61%|77.46%|)]\n",
      "100%|██████████| 20/20 [00:02<00:00,  7.01it/s]\n",
      "Training :   0%|          | 0/100 [00:00<?, ?it/s]"
     ]
    },
    {
     "name": "stdout",
     "output_type": "stream",
     "text": [
      "Adjusting learning rate of group 0 to 1.0000e-01.\n",
      "Epoch 38/200: lr=0.1000, mean batch time = 0.62s, mean data loading time = 0.43, Training loss = 1.5974,1.1253,0.7848,0.7469, Test accuracy = 45.31%,54.49%,59.82%,60.60%,\n"
     ]
    },
    {
     "name": "stderr",
     "output_type": "stream",
     "text": [
      "Training : 100%|██████████| 100/100 [01:01<00:00,  1.63it/s, Msg=Time 0.610s, Data 0.426s, Loss (1.596|1.115|0.761|0.722), Top1 (56.08%|68.23%|77.31%|77.95%|)]\n",
      "100%|██████████| 20/20 [00:03<00:00,  6.66it/s]\n",
      "Training :   0%|          | 0/100 [00:00<?, ?it/s]"
     ]
    },
    {
     "name": "stdout",
     "output_type": "stream",
     "text": [
      "Adjusting learning rate of group 0 to 1.0000e-01.\n",
      "Epoch 39/200: lr=0.1000, mean batch time = 0.61s, mean data loading time = 0.43, Training loss = 1.5962,1.1155,0.7613,0.7217, Test accuracy = 42.67%,51.72%,58.08%,57.56%,\n"
     ]
    },
    {
     "name": "stderr",
     "output_type": "stream",
     "text": [
      "Training : 100%|██████████| 100/100 [01:03<00:00,  1.57it/s, Msg=Time 0.631s, Data 0.441s, Loss (1.592|1.113|0.763|0.724), Top1 (56.07%|68.26%|77.49%|78.23%|)]\n",
      "100%|██████████| 20/20 [00:02<00:00,  7.36it/s]\n",
      "Training :   0%|          | 0/100 [00:00<?, ?it/s]"
     ]
    },
    {
     "name": "stdout",
     "output_type": "stream",
     "text": [
      "Adjusting learning rate of group 0 to 1.0000e-01.\n",
      "Epoch 40/200: lr=0.1000, mean batch time = 0.63s, mean data loading time = 0.44, Training loss = 1.5917,1.1126,0.7629,0.7240, Test accuracy = 47.46%,56.41%,60.76%,59.80%,\n"
     ]
    },
    {
     "name": "stderr",
     "output_type": "stream",
     "text": [
      "Training : 100%|██████████| 100/100 [01:01<00:00,  1.62it/s, Msg=Time 0.614s, Data 0.429s, Loss (1.581|1.106|0.749|0.711), Top1 (56.65%|68.62%|77.73%|78.28%|)]\n",
      "100%|██████████| 20/20 [00:02<00:00,  7.03it/s]\n",
      "Training :   0%|          | 0/100 [00:00<?, ?it/s]"
     ]
    },
    {
     "name": "stdout",
     "output_type": "stream",
     "text": [
      "Adjusting learning rate of group 0 to 1.0000e-01.\n",
      "Epoch 41/200: lr=0.1000, mean batch time = 0.61s, mean data loading time = 0.43, Training loss = 1.5810,1.1056,0.7491,0.7114, Test accuracy = 44.55%,49.56%,50.22%,50.81%,\n"
     ]
    },
    {
     "name": "stderr",
     "output_type": "stream",
     "text": [
      "Training : 100%|██████████| 100/100 [01:03<00:00,  1.57it/s, Msg=Time 0.630s, Data 0.441s, Loss (1.584|1.104|0.757|0.721), Top1 (56.37%|68.53%|77.29%|78.02%|)]\n",
      "100%|██████████| 20/20 [00:02<00:00,  7.30it/s]\n",
      "Training :   0%|          | 0/100 [00:00<?, ?it/s]"
     ]
    },
    {
     "name": "stdout",
     "output_type": "stream",
     "text": [
      "Adjusting learning rate of group 0 to 1.0000e-01.\n",
      "Epoch 42/200: lr=0.1000, mean batch time = 0.63s, mean data loading time = 0.44, Training loss = 1.5841,1.1043,0.7569,0.7213, Test accuracy = 34.11%,48.73%,55.52%,56.17%,\n"
     ]
    },
    {
     "name": "stderr",
     "output_type": "stream",
     "text": [
      "Training : 100%|██████████| 100/100 [01:01<00:00,  1.61it/s, Msg=Time 0.614s, Data 0.428s, Loss (1.589|1.106|0.750|0.714), Top1 (56.31%|68.56%|77.58%|78.28%|)]\n",
      "100%|██████████| 20/20 [00:02<00:00,  7.83it/s]\n",
      "Training :   0%|          | 0/100 [00:00<?, ?it/s]"
     ]
    },
    {
     "name": "stdout",
     "output_type": "stream",
     "text": [
      "Adjusting learning rate of group 0 to 1.0000e-01.\n",
      "Epoch 43/200: lr=0.1000, mean batch time = 0.61s, mean data loading time = 0.43, Training loss = 1.5887,1.1058,0.7504,0.7144, Test accuracy = 45.78%,55.87%,59.22%,59.67%,\n"
     ]
    },
    {
     "name": "stderr",
     "output_type": "stream",
     "text": [
      "Training : 100%|██████████| 100/100 [01:01<00:00,  1.61it/s, Msg=Time 0.614s, Data 0.427s, Loss (1.586|1.104|0.754|0.720), Top1 (56.37%|68.54%|77.61%|78.17%|)]\n",
      "100%|██████████| 20/20 [00:02<00:00,  7.37it/s]\n",
      "Training :   0%|          | 0/100 [00:00<?, ?it/s]"
     ]
    },
    {
     "name": "stdout",
     "output_type": "stream",
     "text": [
      "Adjusting learning rate of group 0 to 1.0000e-01.\n",
      "Epoch 44/200: lr=0.1000, mean batch time = 0.61s, mean data loading time = 0.43, Training loss = 1.5860,1.1039,0.7539,0.7203, Test accuracy = 47.63%,50.75%,55.30%,55.08%,\n"
     ]
    },
    {
     "name": "stderr",
     "output_type": "stream",
     "text": [
      "Training : 100%|██████████| 100/100 [01:03<00:00,  1.59it/s, Msg=Time 0.625s, Data 0.437s, Loss (1.575|1.097|0.747|0.713), Top1 (56.80%|68.89%|77.89%|78.37%|)]\n",
      "100%|██████████| 20/20 [00:02<00:00,  7.38it/s]\n",
      "Training :   0%|          | 0/100 [00:00<?, ?it/s]"
     ]
    },
    {
     "name": "stdout",
     "output_type": "stream",
     "text": [
      "Adjusting learning rate of group 0 to 1.0000e-01.\n",
      "Epoch 45/200: lr=0.1000, mean batch time = 0.63s, mean data loading time = 0.44, Training loss = 1.5746,1.0972,0.7468,0.7130, Test accuracy = 43.53%,51.75%,60.08%,60.67%,\n"
     ]
    },
    {
     "name": "stderr",
     "output_type": "stream",
     "text": [
      "Training : 100%|██████████| 100/100 [01:03<00:00,  1.58it/s, Msg=Time 0.628s, Data 0.440s, Loss (1.559|1.080|0.726|0.689), Top1 (57.00%|69.34%|78.39%|79.02%|)]\n",
      "100%|██████████| 20/20 [00:02<00:00,  7.76it/s]\n",
      "Training :   0%|          | 0/100 [00:00<?, ?it/s]"
     ]
    },
    {
     "name": "stdout",
     "output_type": "stream",
     "text": [
      "Adjusting learning rate of group 0 to 1.0000e-01.\n",
      "Epoch 46/200: lr=0.1000, mean batch time = 0.63s, mean data loading time = 0.44, Training loss = 1.5588,1.0804,0.7258,0.6890, Test accuracy = 46.37%,48.44%,55.02%,55.30%,\n"
     ]
    },
    {
     "name": "stderr",
     "output_type": "stream",
     "text": [
      "Training : 100%|██████████| 100/100 [01:02<00:00,  1.61it/s, Msg=Time 0.616s, Data 0.428s, Loss (1.564|1.080|0.730|0.695), Top1 (57.23%|69.24%|78.26%|78.89%|)]\n",
      "100%|██████████| 20/20 [00:02<00:00,  7.05it/s]\n",
      "Training :   0%|          | 0/100 [00:00<?, ?it/s]"
     ]
    },
    {
     "name": "stdout",
     "output_type": "stream",
     "text": [
      "Adjusting learning rate of group 0 to 1.0000e-01.\n",
      "Epoch 47/200: lr=0.1000, mean batch time = 0.62s, mean data loading time = 0.43, Training loss = 1.5635,1.0796,0.7300,0.6951, Test accuracy = 46.11%,51.53%,53.54%,52.85%,\n"
     ]
    },
    {
     "name": "stderr",
     "output_type": "stream",
     "text": [
      "Training : 100%|██████████| 100/100 [01:03<00:00,  1.58it/s, Msg=Time 0.627s, Data 0.436s, Loss (1.552|1.075|0.720|0.687), Top1 (57.40%|69.47%|78.83%|79.38%|)]\n",
      "100%|██████████| 20/20 [00:02<00:00,  6.89it/s]\n",
      "Training :   0%|          | 0/100 [00:00<?, ?it/s]"
     ]
    },
    {
     "name": "stdout",
     "output_type": "stream",
     "text": [
      "Adjusting learning rate of group 0 to 1.0000e-01.\n",
      "Epoch 48/200: lr=0.1000, mean batch time = 0.63s, mean data loading time = 0.44, Training loss = 1.5519,1.0750,0.7196,0.6869, Test accuracy = 41.97%,50.17%,56.04%,56.29%,\n"
     ]
    },
    {
     "name": "stderr",
     "output_type": "stream",
     "text": [
      "Training : 100%|██████████| 100/100 [01:04<00:00,  1.55it/s, Msg=Time 0.638s, Data 0.443s, Loss (1.559|1.070|0.720|0.684), Top1 (57.07%|69.49%|78.70%|79.22%|)]\n",
      "100%|██████████| 20/20 [00:02<00:00,  7.35it/s]\n",
      "Training :   0%|          | 0/100 [00:00<?, ?it/s]"
     ]
    },
    {
     "name": "stdout",
     "output_type": "stream",
     "text": [
      "Adjusting learning rate of group 0 to 1.0000e-01.\n",
      "Epoch 49/200: lr=0.1000, mean batch time = 0.64s, mean data loading time = 0.44, Training loss = 1.5587,1.0701,0.7195,0.6841, Test accuracy = 44.84%,49.20%,54.34%,55.48%,\n"
     ]
    },
    {
     "name": "stderr",
     "output_type": "stream",
     "text": [
      "Training : 100%|██████████| 100/100 [01:03<00:00,  1.58it/s, Msg=Time 0.626s, Data 0.435s, Loss (1.546|1.068|0.712|0.679), Top1 (57.75%|69.66%|78.93%|79.41%|)]\n",
      "100%|██████████| 20/20 [00:02<00:00,  7.46it/s]\n",
      "Training :   0%|          | 0/100 [00:00<?, ?it/s]"
     ]
    },
    {
     "name": "stdout",
     "output_type": "stream",
     "text": [
      "Adjusting learning rate of group 0 to 1.0000e-01.\n",
      "Epoch 50/200: lr=0.1000, mean batch time = 0.63s, mean data loading time = 0.43, Training loss = 1.5460,1.0684,0.7121,0.6786, Test accuracy = 40.90%,52.59%,56.48%,57.02%,\n"
     ]
    },
    {
     "name": "stderr",
     "output_type": "stream",
     "text": [
      "Training : 100%|██████████| 100/100 [01:02<00:00,  1.61it/s, Msg=Time 0.616s, Data 0.429s, Loss (1.559|1.072|0.720|0.686), Top1 (56.99%|69.25%|78.51%|79.35%|)]\n",
      "100%|██████████| 20/20 [00:03<00:00,  6.42it/s]\n",
      "Training :   0%|          | 0/100 [00:00<?, ?it/s]"
     ]
    },
    {
     "name": "stdout",
     "output_type": "stream",
     "text": [
      "Adjusting learning rate of group 0 to 1.0000e-01.\n",
      "Epoch 51/200: lr=0.1000, mean batch time = 0.62s, mean data loading time = 0.43, Training loss = 1.5595,1.0722,0.7203,0.6859, Test accuracy = 43.13%,52.96%,56.48%,57.12%,\n"
     ]
    },
    {
     "name": "stderr",
     "output_type": "stream",
     "text": [
      "Training : 100%|██████████| 100/100 [01:04<00:00,  1.56it/s, Msg=Time 0.636s, Data 0.444s, Loss (1.536|1.055|0.703|0.670), Top1 (57.68%|69.89%|79.01%|79.60%|)]\n",
      "100%|██████████| 20/20 [00:02<00:00,  6.92it/s]\n",
      "Training :   0%|          | 0/100 [00:00<?, ?it/s]"
     ]
    },
    {
     "name": "stdout",
     "output_type": "stream",
     "text": [
      "Adjusting learning rate of group 0 to 1.0000e-01.\n",
      "Epoch 52/200: lr=0.1000, mean batch time = 0.64s, mean data loading time = 0.44, Training loss = 1.5360,1.0553,0.7035,0.6704, Test accuracy = 46.02%,45.27%,48.38%,47.45%,\n"
     ]
    },
    {
     "name": "stderr",
     "output_type": "stream",
     "text": [
      "Training : 100%|██████████| 100/100 [01:03<00:00,  1.58it/s, Msg=Time 0.627s, Data 0.437s, Loss (1.547|1.065|0.715|0.681), Top1 (57.45%|69.81%|78.58%|79.32%|)]\n",
      "100%|██████████| 20/20 [00:02<00:00,  7.56it/s]\n",
      "Training :   0%|          | 0/100 [00:00<?, ?it/s]"
     ]
    },
    {
     "name": "stdout",
     "output_type": "stream",
     "text": [
      "Adjusting learning rate of group 0 to 1.0000e-01.\n",
      "Epoch 53/200: lr=0.1000, mean batch time = 0.63s, mean data loading time = 0.44, Training loss = 1.5468,1.0655,0.7155,0.6809, Test accuracy = 40.37%,48.88%,53.61%,53.28%,\n"
     ]
    },
    {
     "name": "stderr",
     "output_type": "stream",
     "text": [
      "Training : 100%|██████████| 100/100 [01:02<00:00,  1.59it/s, Msg=Time 0.621s, Data 0.432s, Loss (1.538|1.056|0.706|0.676), Top1 (57.60%|69.88%|78.79%|79.46%|)]\n",
      "100%|██████████| 20/20 [00:03<00:00,  6.25it/s]\n",
      "Training :   0%|          | 0/100 [00:00<?, ?it/s]"
     ]
    },
    {
     "name": "stdout",
     "output_type": "stream",
     "text": [
      "Adjusting learning rate of group 0 to 1.0000e-01.\n",
      "Epoch 54/200: lr=0.1000, mean batch time = 0.62s, mean data loading time = 0.43, Training loss = 1.5377,1.0560,0.7059,0.6758, Test accuracy = 37.89%,48.58%,57.77%,58.46%,\n"
     ]
    },
    {
     "name": "stderr",
     "output_type": "stream",
     "text": [
      "Training : 100%|██████████| 100/100 [01:02<00:00,  1.59it/s, Msg=Time 0.623s, Data 0.435s, Loss (1.537|1.048|0.693|0.664), Top1 (57.56%|70.25%|79.27%|79.81%|)]\n",
      "100%|██████████| 20/20 [00:02<00:00,  7.12it/s]\n",
      "Training :   0%|          | 0/100 [00:00<?, ?it/s]"
     ]
    },
    {
     "name": "stdout",
     "output_type": "stream",
     "text": [
      "Adjusting learning rate of group 0 to 1.0000e-01.\n",
      "Epoch 55/200: lr=0.1000, mean batch time = 0.62s, mean data loading time = 0.44, Training loss = 1.5369,1.0484,0.6932,0.6638, Test accuracy = 45.52%,51.95%,58.57%,58.43%,\n"
     ]
    },
    {
     "name": "stderr",
     "output_type": "stream",
     "text": [
      "Training : 100%|██████████| 100/100 [01:02<00:00,  1.59it/s, Msg=Time 0.623s, Data 0.436s, Loss (1.528|1.046|0.685|0.655), Top1 (57.90%|70.28%|79.45%|79.92%|)]\n",
      "100%|██████████| 20/20 [00:02<00:00,  7.59it/s]\n",
      "Training :   0%|          | 0/100 [00:00<?, ?it/s]"
     ]
    },
    {
     "name": "stdout",
     "output_type": "stream",
     "text": [
      "Adjusting learning rate of group 0 to 1.0000e-01.\n",
      "Epoch 56/200: lr=0.1000, mean batch time = 0.62s, mean data loading time = 0.44, Training loss = 1.5278,1.0462,0.6853,0.6553, Test accuracy = 45.60%,52.76%,59.56%,59.62%,\n"
     ]
    },
    {
     "name": "stderr",
     "output_type": "stream",
     "text": [
      "Training : 100%|██████████| 100/100 [01:02<00:00,  1.61it/s, Msg=Time 0.616s, Data 0.432s, Loss (1.531|1.052|0.703|0.672), Top1 (58.14%|70.15%|79.13%|79.64%|)]\n",
      "100%|██████████| 20/20 [00:03<00:00,  6.61it/s]\n",
      "Training :   0%|          | 0/100 [00:00<?, ?it/s]"
     ]
    },
    {
     "name": "stdout",
     "output_type": "stream",
     "text": [
      "Adjusting learning rate of group 0 to 1.0000e-01.\n",
      "Epoch 57/200: lr=0.1000, mean batch time = 0.62s, mean data loading time = 0.43, Training loss = 1.5306,1.0524,0.7033,0.6716, Test accuracy = 48.09%,49.95%,57.12%,58.30%,\n"
     ]
    },
    {
     "name": "stderr",
     "output_type": "stream",
     "text": [
      "Training : 100%|██████████| 100/100 [01:02<00:00,  1.61it/s, Msg=Time 0.618s, Data 0.432s, Loss (1.532|1.044|0.695|0.664), Top1 (57.67%|70.23%|79.36%|79.86%|)]\n",
      "100%|██████████| 20/20 [00:02<00:00,  6.73it/s]\n",
      "Training :   0%|          | 0/100 [00:00<?, ?it/s]"
     ]
    },
    {
     "name": "stdout",
     "output_type": "stream",
     "text": [
      "Adjusting learning rate of group 0 to 1.0000e-01.\n",
      "Epoch 58/200: lr=0.1000, mean batch time = 0.62s, mean data loading time = 0.43, Training loss = 1.5317,1.0440,0.6947,0.6643, Test accuracy = 40.73%,49.47%,56.78%,56.98%,\n"
     ]
    },
    {
     "name": "stderr",
     "output_type": "stream",
     "text": [
      "Training : 100%|██████████| 100/100 [01:03<00:00,  1.57it/s, Msg=Time 0.631s, Data 0.441s, Loss (1.525|1.041|0.684|0.651), Top1 (57.99%|70.39%|79.54%|80.13%|)]\n",
      "100%|██████████| 20/20 [00:02<00:00,  6.72it/s]\n",
      "Training :   0%|          | 0/100 [00:00<?, ?it/s]"
     ]
    },
    {
     "name": "stdout",
     "output_type": "stream",
     "text": [
      "Adjusting learning rate of group 0 to 1.0000e-01.\n",
      "Epoch 59/200: lr=0.1000, mean batch time = 0.63s, mean data loading time = 0.44, Training loss = 1.5246,1.0411,0.6836,0.6512, Test accuracy = 44.50%,55.59%,61.11%,61.21%,\n"
     ]
    },
    {
     "name": "stderr",
     "output_type": "stream",
     "text": [
      "Training : 100%|██████████| 100/100 [01:02<00:00,  1.60it/s, Msg=Time 0.622s, Data 0.435s, Loss (1.524|1.035|0.683|0.653), Top1 (57.98%|70.46%|79.44%|80.04%|)]\n",
      "100%|██████████| 20/20 [00:02<00:00,  6.81it/s]\n",
      "Training :   0%|          | 0/100 [00:00<?, ?it/s]"
     ]
    },
    {
     "name": "stdout",
     "output_type": "stream",
     "text": [
      "Adjusting learning rate of group 0 to 1.0000e-01.\n",
      "Epoch 60/200: lr=0.1000, mean batch time = 0.62s, mean data loading time = 0.43, Training loss = 1.5238,1.0354,0.6835,0.6534, Test accuracy = 42.91%,50.76%,55.57%,56.31%,\n"
     ]
    },
    {
     "name": "stderr",
     "output_type": "stream",
     "text": [
      "Training : 100%|██████████| 100/100 [01:03<00:00,  1.56it/s, Msg=Time 0.634s, Data 0.444s, Loss (1.526|1.042|0.689|0.661), Top1 (58.13%|70.37%|79.39%|79.93%|)]\n",
      "100%|██████████| 20/20 [00:02<00:00,  7.25it/s]\n",
      "Training :   0%|          | 0/100 [00:00<?, ?it/s]"
     ]
    },
    {
     "name": "stdout",
     "output_type": "stream",
     "text": [
      "Adjusting learning rate of group 0 to 1.0000e-01.\n",
      "Epoch 61/200: lr=0.1000, mean batch time = 0.63s, mean data loading time = 0.44, Training loss = 1.5256,1.0424,0.6888,0.6607, Test accuracy = 45.19%,54.32%,57.13%,58.02%,\n"
     ]
    },
    {
     "name": "stderr",
     "output_type": "stream",
     "text": [
      "Training : 100%|██████████| 100/100 [01:04<00:00,  1.55it/s, Msg=Time 0.639s, Data 0.445s, Loss (1.515|1.030|0.669|0.639), Top1 (58.06%|70.54%|79.96%|80.45%|)]\n",
      "100%|██████████| 20/20 [00:02<00:00,  7.20it/s]\n",
      "Training :   0%|          | 0/100 [00:00<?, ?it/s]"
     ]
    },
    {
     "name": "stdout",
     "output_type": "stream",
     "text": [
      "Adjusting learning rate of group 0 to 1.0000e-01.\n",
      "Epoch 62/200: lr=0.1000, mean batch time = 0.64s, mean data loading time = 0.45, Training loss = 1.5150,1.0303,0.6693,0.6394, Test accuracy = 43.09%,51.21%,53.83%,54.85%,\n"
     ]
    },
    {
     "name": "stderr",
     "output_type": "stream",
     "text": [
      "Training : 100%|██████████| 100/100 [01:02<00:00,  1.60it/s, Msg=Time 0.619s, Data 0.433s, Loss (1.512|1.031|0.678|0.651), Top1 (58.34%|70.66%|79.67%|80.14%|)]\n",
      "100%|██████████| 20/20 [00:02<00:00,  7.29it/s]\n",
      "Training :   0%|          | 0/100 [00:00<?, ?it/s]"
     ]
    },
    {
     "name": "stdout",
     "output_type": "stream",
     "text": [
      "Adjusting learning rate of group 0 to 1.0000e-01.\n",
      "Epoch 64/200: lr=0.1000, mean batch time = 0.62s, mean data loading time = 0.43, Training loss = 1.5115,1.0306,0.6780,0.6511, Test accuracy = 41.83%,50.25%,55.28%,55.29%,\n"
     ]
    },
    {
     "name": "stderr",
     "output_type": "stream",
     "text": [
      "Training : 100%|██████████| 100/100 [01:02<00:00,  1.59it/s, Msg=Time 0.625s, Data 0.434s, Loss (1.520|1.027|0.668|0.639), Top1 (58.40%|70.73%|80.05%|80.44%|)]\n",
      "100%|██████████| 20/20 [00:02<00:00,  7.51it/s]\n",
      "Training :   0%|          | 0/100 [00:00<?, ?it/s]"
     ]
    },
    {
     "name": "stdout",
     "output_type": "stream",
     "text": [
      "Adjusting learning rate of group 0 to 1.0000e-01.\n",
      "Epoch 65/200: lr=0.1000, mean batch time = 0.63s, mean data loading time = 0.43, Training loss = 1.5203,1.0270,0.6681,0.6390, Test accuracy = 47.07%,52.78%,54.77%,55.35%,\n"
     ]
    },
    {
     "name": "stderr",
     "output_type": "stream",
     "text": [
      "Training : 100%|██████████| 100/100 [01:02<00:00,  1.59it/s, Msg=Time 0.623s, Data 0.431s, Loss (1.506|1.019|0.666|0.638), Top1 (58.38%|70.72%|80.02%|80.60%|)]\n",
      "100%|██████████| 20/20 [00:02<00:00,  6.87it/s]\n",
      "Training :   0%|          | 0/100 [00:00<?, ?it/s]"
     ]
    },
    {
     "name": "stdout",
     "output_type": "stream",
     "text": [
      "Adjusting learning rate of group 0 to 1.0000e-01.\n",
      "Epoch 66/200: lr=0.1000, mean batch time = 0.62s, mean data loading time = 0.43, Training loss = 1.5060,1.0192,0.6656,0.6383, Test accuracy = 43.96%,54.29%,59.52%,59.33%,\n"
     ]
    },
    {
     "name": "stderr",
     "output_type": "stream",
     "text": [
      "Training : 100%|██████████| 100/100 [01:03<00:00,  1.58it/s, Msg=Time 0.629s, Data 0.444s, Loss (1.512|1.031|0.673|0.648), Top1 (58.13%|70.22%|79.78%|80.16%|)]\n",
      "100%|██████████| 20/20 [00:02<00:00,  7.35it/s]\n",
      "Training :   0%|          | 0/100 [00:00<?, ?it/s]"
     ]
    },
    {
     "name": "stdout",
     "output_type": "stream",
     "text": [
      "Adjusting learning rate of group 0 to 1.0000e-01.\n",
      "Epoch 67/200: lr=0.1000, mean batch time = 0.63s, mean data loading time = 0.44, Training loss = 1.5120,1.0306,0.6731,0.6484, Test accuracy = 43.18%,51.32%,52.50%,51.55%,\n"
     ]
    },
    {
     "name": "stderr",
     "output_type": "stream",
     "text": [
      "Training : 100%|██████████| 100/100 [01:01<00:00,  1.64it/s, Msg=Time 0.606s, Data 0.428s, Loss (1.503|1.024|0.663|0.635), Top1 (58.65%|70.67%|80.21%|80.69%|)]\n",
      "100%|██████████| 20/20 [00:02<00:00,  6.96it/s]\n",
      "Training :   0%|          | 0/100 [00:00<?, ?it/s]"
     ]
    },
    {
     "name": "stdout",
     "output_type": "stream",
     "text": [
      "Adjusting learning rate of group 0 to 1.0000e-01.\n",
      "Epoch 68/200: lr=0.1000, mean batch time = 0.61s, mean data loading time = 0.43, Training loss = 1.5033,1.0239,0.6630,0.6349, Test accuracy = 40.63%,45.71%,50.42%,50.56%,\n"
     ]
    },
    {
     "name": "stderr",
     "output_type": "stream",
     "text": [
      "Training : 100%|██████████| 100/100 [01:02<00:00,  1.59it/s, Msg=Time 0.622s, Data 0.436s, Loss (1.501|1.013|0.666|0.641), Top1 (58.59%|71.16%|80.20%|80.54%|)]\n",
      "100%|██████████| 20/20 [00:02<00:00,  7.35it/s]\n",
      "Training :   0%|          | 0/100 [00:00<?, ?it/s]"
     ]
    },
    {
     "name": "stdout",
     "output_type": "stream",
     "text": [
      "Adjusting learning rate of group 0 to 1.0000e-01.\n",
      "Epoch 69/200: lr=0.1000, mean batch time = 0.62s, mean data loading time = 0.44, Training loss = 1.5007,1.0128,0.6659,0.6407, Test accuracy = 41.96%,51.76%,60.59%,60.34%,\n"
     ]
    },
    {
     "name": "stderr",
     "output_type": "stream",
     "text": [
      "Training : 100%|██████████| 100/100 [01:03<00:00,  1.58it/s, Msg=Time 0.629s, Data 0.438s, Loss (1.516|1.019|0.666|0.638), Top1 (58.19%|71.04%|80.08%|80.52%|)]\n",
      "100%|██████████| 20/20 [00:02<00:00,  6.79it/s]\n",
      "Training :   0%|          | 0/100 [00:00<?, ?it/s]"
     ]
    },
    {
     "name": "stdout",
     "output_type": "stream",
     "text": [
      "Adjusting learning rate of group 0 to 1.0000e-01.\n",
      "Epoch 70/200: lr=0.1000, mean batch time = 0.63s, mean data loading time = 0.44, Training loss = 1.5163,1.0190,0.6656,0.6379, Test accuracy = 45.29%,43.82%,53.20%,51.03%,\n"
     ]
    },
    {
     "name": "stderr",
     "output_type": "stream",
     "text": [
      "Training : 100%|██████████| 100/100 [01:02<00:00,  1.60it/s, Msg=Time 0.622s, Data 0.435s, Loss (1.509|1.025|0.663|0.640), Top1 (58.17%|70.66%|80.12%|80.36%|)]\n",
      "100%|██████████| 20/20 [00:02<00:00,  7.29it/s]\n",
      "Training :   0%|          | 0/100 [00:00<?, ?it/s]"
     ]
    },
    {
     "name": "stdout",
     "output_type": "stream",
     "text": [
      "Adjusting learning rate of group 0 to 1.0000e-01.\n",
      "Epoch 71/200: lr=0.1000, mean batch time = 0.62s, mean data loading time = 0.44, Training loss = 1.5090,1.0254,0.6629,0.6396, Test accuracy = 43.60%,56.35%,59.27%,59.12%,\n"
     ]
    },
    {
     "name": "stderr",
     "output_type": "stream",
     "text": [
      "Training : 100%|██████████| 100/100 [01:03<00:00,  1.57it/s, Msg=Time 0.632s, Data 0.441s, Loss (1.501|1.005|0.643|0.618), Top1 (58.65%|71.55%|80.84%|81.08%|)]\n",
      "100%|██████████| 20/20 [00:02<00:00,  6.80it/s]\n",
      "Training :   0%|          | 0/100 [00:00<?, ?it/s]"
     ]
    },
    {
     "name": "stdout",
     "output_type": "stream",
     "text": [
      "Adjusting learning rate of group 0 to 1.0000e-01.\n",
      "Epoch 72/200: lr=0.1000, mean batch time = 0.63s, mean data loading time = 0.44, Training loss = 1.5009,1.0051,0.6431,0.6180, Test accuracy = 43.59%,50.98%,55.85%,57.66%,\n"
     ]
    },
    {
     "name": "stderr",
     "output_type": "stream",
     "text": [
      "Training : 100%|██████████| 100/100 [01:06<00:00,  1.50it/s, Msg=Time 0.663s, Data 0.461s, Loss (1.504|1.011|0.663|0.635), Top1 (58.51%|71.37%|80.32%|80.70%|)]\n",
      "100%|██████████| 20/20 [00:02<00:00,  7.02it/s]\n",
      "Training :   0%|          | 0/100 [00:00<?, ?it/s]"
     ]
    },
    {
     "name": "stdout",
     "output_type": "stream",
     "text": [
      "Adjusting learning rate of group 0 to 1.0000e-01.\n",
      "Epoch 73/200: lr=0.1000, mean batch time = 0.66s, mean data loading time = 0.46, Training loss = 1.5044,1.0108,0.6632,0.6347, Test accuracy = 43.50%,49.20%,55.69%,55.94%,\n"
     ]
    },
    {
     "name": "stderr",
     "output_type": "stream",
     "text": [
      "Training : 100%|██████████| 100/100 [01:06<00:00,  1.50it/s, Msg=Time 0.660s, Data 0.459s, Loss (1.493|1.015|0.654|0.631), Top1 (59.16%|71.26%|80.29%|80.79%|)]\n",
      "100%|██████████| 20/20 [00:02<00:00,  6.83it/s]\n",
      "Training :   0%|          | 0/100 [00:00<?, ?it/s]"
     ]
    },
    {
     "name": "stdout",
     "output_type": "stream",
     "text": [
      "Adjusting learning rate of group 0 to 1.0000e-01.\n",
      "Epoch 74/200: lr=0.1000, mean batch time = 0.66s, mean data loading time = 0.46, Training loss = 1.4935,1.0145,0.6539,0.6307, Test accuracy = 47.17%,53.95%,59.50%,59.87%,\n"
     ]
    },
    {
     "name": "stderr",
     "output_type": "stream",
     "text": [
      "Training : 100%|██████████| 100/100 [01:05<00:00,  1.53it/s, Msg=Time 0.648s, Data 0.453s, Loss (1.497|1.007|0.648|0.623), Top1 (58.59%|71.43%|80.61%|81.01%|)]\n",
      "100%|██████████| 20/20 [00:02<00:00,  7.11it/s]\n",
      "Training :   0%|          | 0/100 [00:00<?, ?it/s]"
     ]
    },
    {
     "name": "stdout",
     "output_type": "stream",
     "text": [
      "Adjusting learning rate of group 0 to 1.0000e-02.\n",
      "Epoch 75/200: lr=0.0100, mean batch time = 0.65s, mean data loading time = 0.45, Training loss = 1.4972,1.0068,0.6481,0.6227, Test accuracy = 47.59%,56.07%,59.39%,59.36%,\n"
     ]
    },
    {
     "name": "stderr",
     "output_type": "stream",
     "text": [
      "Training : 100%|██████████| 100/100 [01:04<00:00,  1.55it/s, Msg=Time 0.642s, Data 0.446s, Loss (1.301|0.767|0.354|0.315), Top1 (64.49%|78.57%|90.13%|90.72%|)]\n",
      "100%|██████████| 20/20 [00:02<00:00,  7.20it/s]\n",
      "Training :   0%|          | 0/100 [00:00<?, ?it/s]"
     ]
    },
    {
     "name": "stdout",
     "output_type": "stream",
     "text": [
      "Adjusting learning rate of group 0 to 1.0000e-02.\n",
      "Epoch 76/200: lr=0.0100, mean batch time = 0.64s, mean data loading time = 0.45, Training loss = 1.3006,0.7669,0.3543,0.3154, Test accuracy = 61.22%,70.54%,75.14%,75.58%,\n"
     ]
    },
    {
     "name": "stderr",
     "output_type": "stream",
     "text": [
      "Training : 100%|██████████| 100/100 [01:03<00:00,  1.57it/s, Msg=Time 0.632s, Data 0.439s, Loss (1.219|0.665|0.246|0.202), Top1 (66.57%|81.65%|93.42%|94.28%|)]\n",
      "100%|██████████| 20/20 [00:02<00:00,  7.17it/s]\n",
      "Training :   0%|          | 0/100 [00:00<?, ?it/s]"
     ]
    },
    {
     "name": "stdout",
     "output_type": "stream",
     "text": [
      "Adjusting learning rate of group 0 to 1.0000e-02.\n",
      "Epoch 77/200: lr=0.0100, mean batch time = 0.63s, mean data loading time = 0.44, Training loss = 1.2187,0.6652,0.2456,0.2017, Test accuracy = 61.68%,70.90%,75.64%,75.98%,\n"
     ]
    },
    {
     "name": "stderr",
     "output_type": "stream",
     "text": [
      "Training : 100%|██████████| 100/100 [01:03<00:00,  1.58it/s, Msg=Time 0.627s, Data 0.436s, Loss (1.193|0.629|0.205|0.163), Top1 (67.32%|82.57%|94.62%|95.50%|)]\n",
      "100%|██████████| 20/20 [00:02<00:00,  6.97it/s]\n",
      "Training :   0%|          | 0/100 [00:00<?, ?it/s]"
     ]
    },
    {
     "name": "stdout",
     "output_type": "stream",
     "text": [
      "Adjusting learning rate of group 0 to 1.0000e-02.\n",
      "Epoch 78/200: lr=0.0100, mean batch time = 0.63s, mean data loading time = 0.44, Training loss = 1.1934,0.6294,0.2050,0.1631, Test accuracy = 61.78%,71.26%,75.99%,76.70%,\n"
     ]
    },
    {
     "name": "stderr",
     "output_type": "stream",
     "text": [
      "Training : 100%|██████████| 100/100 [01:04<00:00,  1.56it/s, Msg=Time 0.637s, Data 0.440s, Loss (1.172|0.606|0.179|0.138), Top1 (67.85%|83.33%|95.63%|96.32%|)]\n",
      "100%|██████████| 20/20 [00:02<00:00,  7.06it/s]\n",
      "Training :   0%|          | 0/100 [00:00<?, ?it/s]"
     ]
    },
    {
     "name": "stdout",
     "output_type": "stream",
     "text": [
      "Adjusting learning rate of group 0 to 1.0000e-02.\n",
      "Epoch 79/200: lr=0.0100, mean batch time = 0.64s, mean data loading time = 0.44, Training loss = 1.1717,0.6059,0.1793,0.1379, Test accuracy = 62.29%,71.21%,75.99%,76.22%,\n"
     ]
    },
    {
     "name": "stderr",
     "output_type": "stream",
     "text": [
      "Training : 100%|██████████| 100/100 [01:02<00:00,  1.60it/s, Msg=Time 0.621s, Data 0.434s, Loss (1.159|0.585|0.162|0.122), Top1 (68.21%|83.89%|96.13%|96.82%|)]\n",
      "100%|██████████| 20/20 [00:03<00:00,  6.47it/s]\n",
      "Training :   0%|          | 0/100 [00:00<?, ?it/s]"
     ]
    },
    {
     "name": "stdout",
     "output_type": "stream",
     "text": [
      "Adjusting learning rate of group 0 to 1.0000e-02.\n",
      "Epoch 80/200: lr=0.0100, mean batch time = 0.62s, mean data loading time = 0.43, Training loss = 1.1594,0.5848,0.1616,0.1217, Test accuracy = 62.06%,71.41%,75.57%,76.01%,\n"
     ]
    },
    {
     "name": "stderr",
     "output_type": "stream",
     "text": [
      "Training : 100%|██████████| 100/100 [01:03<00:00,  1.57it/s, Msg=Time 0.632s, Data 0.442s, Loss (1.144|0.572|0.147|0.108), Top1 (68.59%|84.31%|96.63%|97.15%|)]\n",
      "100%|██████████| 20/20 [00:02<00:00,  7.24it/s]\n",
      "Training :   0%|          | 0/100 [00:00<?, ?it/s]"
     ]
    },
    {
     "name": "stdout",
     "output_type": "stream",
     "text": [
      "Adjusting learning rate of group 0 to 1.0000e-02.\n",
      "Epoch 81/200: lr=0.0100, mean batch time = 0.63s, mean data loading time = 0.44, Training loss = 1.1445,0.5724,0.1475,0.1084, Test accuracy = 62.75%,71.87%,75.89%,76.28%,\n"
     ]
    },
    {
     "name": "stderr",
     "output_type": "stream",
     "text": [
      "Training : 100%|██████████| 100/100 [01:03<00:00,  1.57it/s, Msg=Time 0.631s, Data 0.440s, Loss (1.132|0.557|0.134|0.097), Top1 (68.99%|84.92%|97.06%|97.58%|)]\n",
      "100%|██████████| 20/20 [00:03<00:00,  6.54it/s]\n",
      "Training :   0%|          | 0/100 [00:00<?, ?it/s]"
     ]
    },
    {
     "name": "stdout",
     "output_type": "stream",
     "text": [
      "Adjusting learning rate of group 0 to 1.0000e-02.\n",
      "Epoch 82/200: lr=0.0100, mean batch time = 0.63s, mean data loading time = 0.44, Training loss = 1.1319,0.5566,0.1344,0.0971, Test accuracy = 62.57%,71.88%,75.89%,76.11%,\n"
     ]
    },
    {
     "name": "stderr",
     "output_type": "stream",
     "text": [
      "Training : 100%|██████████| 100/100 [01:02<00:00,  1.61it/s, Msg=Time 0.615s, Data 0.431s, Loss (1.119|0.544|0.121|0.085), Top1 (69.20%|85.11%|97.56%|97.96%|)]\n",
      "100%|██████████| 20/20 [00:02<00:00,  6.72it/s]\n",
      "Training :   0%|          | 0/100 [00:00<?, ?it/s]"
     ]
    },
    {
     "name": "stdout",
     "output_type": "stream",
     "text": [
      "Adjusting learning rate of group 0 to 1.0000e-02.\n",
      "Epoch 83/200: lr=0.0100, mean batch time = 0.62s, mean data loading time = 0.43, Training loss = 1.1195,0.5442,0.1210,0.0853, Test accuracy = 62.84%,71.63%,75.84%,76.14%,\n"
     ]
    },
    {
     "name": "stderr",
     "output_type": "stream",
     "text": [
      "Training : 100%|██████████| 100/100 [01:04<00:00,  1.55it/s, Msg=Time 0.639s, Data 0.447s, Loss (1.114|0.533|0.115|0.080), Top1 (69.33%|85.51%|97.66%|98.13%|)]\n",
      "100%|██████████| 20/20 [00:02<00:00,  7.02it/s]\n",
      "Training :   0%|          | 0/100 [00:00<?, ?it/s]"
     ]
    },
    {
     "name": "stdout",
     "output_type": "stream",
     "text": [
      "Adjusting learning rate of group 0 to 1.0000e-02.\n",
      "Epoch 84/200: lr=0.0100, mean batch time = 0.64s, mean data loading time = 0.45, Training loss = 1.1143,0.5331,0.1149,0.0797, Test accuracy = 62.16%,71.78%,75.65%,75.91%,\n"
     ]
    },
    {
     "name": "stderr",
     "output_type": "stream",
     "text": [
      "Training : 100%|██████████| 100/100 [01:06<00:00,  1.50it/s, Msg=Time 0.663s, Data 0.461s, Loss (1.105|0.524|0.108|0.073), Top1 (69.64%|85.79%|97.77%|98.25%|)]\n",
      "100%|██████████| 20/20 [00:02<00:00,  6.85it/s]\n",
      "Training :   0%|          | 0/100 [00:00<?, ?it/s]"
     ]
    },
    {
     "name": "stdout",
     "output_type": "stream",
     "text": [
      "Adjusting learning rate of group 0 to 1.0000e-02.\n",
      "Epoch 85/200: lr=0.0100, mean batch time = 0.66s, mean data loading time = 0.46, Training loss = 1.1049,0.5243,0.1081,0.0732, Test accuracy = 62.79%,71.82%,76.00%,76.14%,\n"
     ]
    },
    {
     "name": "stderr",
     "output_type": "stream",
     "text": [
      "Training : 100%|██████████| 100/100 [01:08<00:00,  1.47it/s, Msg=Time 0.675s, Data 0.474s, Loss (1.098|0.513|0.099|0.065), Top1 (69.73%|86.06%|98.11%|98.53%|)]\n",
      "100%|██████████| 20/20 [00:02<00:00,  6.81it/s]\n",
      "Training :   0%|          | 0/100 [00:00<?, ?it/s]"
     ]
    },
    {
     "name": "stdout",
     "output_type": "stream",
     "text": [
      "Adjusting learning rate of group 0 to 1.0000e-02.\n",
      "Epoch 86/200: lr=0.0100, mean batch time = 0.68s, mean data loading time = 0.47, Training loss = 1.0982,0.5131,0.0987,0.0649, Test accuracy = 62.82%,71.62%,75.45%,75.59%,\n"
     ]
    },
    {
     "name": "stderr",
     "output_type": "stream",
     "text": [
      "Training : 100%|██████████| 100/100 [01:09<00:00,  1.43it/s, Msg=Time 0.694s, Data 0.482s, Loss (1.089|0.504|0.093|0.060), Top1 (70.09%|86.55%|98.36%|98.74%|)]\n",
      "100%|██████████| 20/20 [00:02<00:00,  6.70it/s]\n",
      "Training :   0%|          | 0/100 [00:00<?, ?it/s]"
     ]
    },
    {
     "name": "stdout",
     "output_type": "stream",
     "text": [
      "Adjusting learning rate of group 0 to 1.0000e-02.\n",
      "Epoch 87/200: lr=0.0100, mean batch time = 0.69s, mean data loading time = 0.48, Training loss = 1.0888,0.5038,0.0928,0.0599, Test accuracy = 62.36%,72.35%,75.83%,76.31%,\n"
     ]
    },
    {
     "name": "stderr",
     "output_type": "stream",
     "text": [
      "Training : 100%|██████████| 100/100 [01:11<00:00,  1.40it/s, Msg=Time 0.710s, Data 0.494s, Loss (1.083|0.494|0.087|0.056), Top1 (70.34%|86.70%|98.49%|98.83%|)]\n",
      "100%|██████████| 20/20 [00:03<00:00,  6.61it/s]\n",
      "Training :   0%|          | 0/100 [00:00<?, ?it/s]"
     ]
    },
    {
     "name": "stdout",
     "output_type": "stream",
     "text": [
      "Adjusting learning rate of group 0 to 1.0000e-02.\n",
      "Epoch 88/200: lr=0.0100, mean batch time = 0.71s, mean data loading time = 0.49, Training loss = 1.0825,0.4937,0.0866,0.0556, Test accuracy = 62.97%,71.74%,76.03%,76.13%,\n"
     ]
    },
    {
     "name": "stderr",
     "output_type": "stream",
     "text": [
      "Training : 100%|██████████| 100/100 [01:09<00:00,  1.45it/s, Msg=Time 0.686s, Data 0.479s, Loss (1.077|0.485|0.082|0.052), Top1 (70.29%|86.91%|98.62%|98.94%|)]\n",
      "100%|██████████| 20/20 [00:03<00:00,  6.49it/s]\n",
      "Training :   0%|          | 0/100 [00:00<?, ?it/s]"
     ]
    },
    {
     "name": "stdout",
     "output_type": "stream",
     "text": [
      "Adjusting learning rate of group 0 to 1.0000e-02.\n",
      "Epoch 89/200: lr=0.0100, mean batch time = 0.69s, mean data loading time = 0.48, Training loss = 1.0766,0.4848,0.0824,0.0517, Test accuracy = 62.99%,72.00%,75.81%,76.03%,\n"
     ]
    },
    {
     "name": "stderr",
     "output_type": "stream",
     "text": [
      "Training : 100%|██████████| 100/100 [01:11<00:00,  1.39it/s, Msg=Time 0.713s, Data 0.496s, Loss (1.074|0.478|0.077|0.047), Top1 (70.43%|87.17%|98.79%|99.06%|)]\n",
      "100%|██████████| 20/20 [00:03<00:00,  6.61it/s]\n",
      "Training :   0%|          | 0/100 [00:00<?, ?it/s]"
     ]
    },
    {
     "name": "stdout",
     "output_type": "stream",
     "text": [
      "Adjusting learning rate of group 0 to 1.0000e-02.\n",
      "Epoch 90/200: lr=0.0100, mean batch time = 0.71s, mean data loading time = 0.50, Training loss = 1.0744,0.4779,0.0767,0.0475, Test accuracy = 63.34%,72.16%,76.08%,75.95%,\n"
     ]
    },
    {
     "name": "stderr",
     "output_type": "stream",
     "text": [
      "Training : 100%|██████████| 100/100 [01:13<00:00,  1.36it/s, Msg=Time 0.728s, Data 0.507s, Loss (1.067|0.470|0.073|0.046), Top1 (70.55%|87.49%|98.84%|99.07%|)]\n",
      "100%|██████████| 20/20 [00:03<00:00,  6.32it/s]\n",
      "Training :   0%|          | 0/100 [00:00<?, ?it/s]"
     ]
    },
    {
     "name": "stdout",
     "output_type": "stream",
     "text": [
      "Adjusting learning rate of group 0 to 1.0000e-02.\n",
      "Epoch 91/200: lr=0.0100, mean batch time = 0.73s, mean data loading time = 0.51, Training loss = 1.0671,0.4701,0.0733,0.0457, Test accuracy = 62.66%,71.93%,75.43%,75.55%,\n"
     ]
    },
    {
     "name": "stderr",
     "output_type": "stream",
     "text": [
      "Training : 100%|██████████| 100/100 [01:10<00:00,  1.41it/s, Msg=Time 0.703s, Data 0.490s, Loss (1.064|0.463|0.070|0.042), Top1 (70.67%|87.77%|98.95%|99.22%|)]\n",
      "100%|██████████| 20/20 [00:03<00:00,  6.52it/s]\n",
      "Training :   0%|          | 0/100 [00:00<?, ?it/s]"
     ]
    },
    {
     "name": "stdout",
     "output_type": "stream",
     "text": [
      "Adjusting learning rate of group 0 to 1.0000e-02.\n",
      "Epoch 92/200: lr=0.0100, mean batch time = 0.70s, mean data loading time = 0.49, Training loss = 1.0636,0.4635,0.0704,0.0420, Test accuracy = 63.13%,71.97%,75.48%,75.73%,\n"
     ]
    },
    {
     "name": "stderr",
     "output_type": "stream",
     "text": [
      "Training : 100%|██████████| 100/100 [01:12<00:00,  1.37it/s, Msg=Time 0.723s, Data 0.504s, Loss (1.057|0.455|0.067|0.040), Top1 (70.97%|87.94%|99.07%|99.28%|)]\n",
      "100%|██████████| 20/20 [00:03<00:00,  6.44it/s]\n",
      "Training :   0%|          | 0/100 [00:00<?, ?it/s]"
     ]
    },
    {
     "name": "stdout",
     "output_type": "stream",
     "text": [
      "Adjusting learning rate of group 0 to 1.0000e-02.\n",
      "Epoch 93/200: lr=0.0100, mean batch time = 0.72s, mean data loading time = 0.50, Training loss = 1.0565,0.4554,0.0671,0.0405, Test accuracy = 63.33%,72.27%,75.89%,75.92%,\n"
     ]
    },
    {
     "name": "stderr",
     "output_type": "stream",
     "text": [
      "Training : 100%|██████████| 100/100 [01:11<00:00,  1.39it/s, Msg=Time 0.714s, Data 0.496s, Loss (1.053|0.448|0.063|0.037), Top1 (70.96%|88.14%|99.14%|99.38%|)]\n",
      "100%|██████████| 20/20 [00:03<00:00,  6.51it/s]\n",
      "Training :   0%|          | 0/100 [00:00<?, ?it/s]"
     ]
    },
    {
     "name": "stdout",
     "output_type": "stream",
     "text": [
      "Adjusting learning rate of group 0 to 1.0000e-02.\n",
      "Epoch 94/200: lr=0.0100, mean batch time = 0.71s, mean data loading time = 0.50, Training loss = 1.0535,0.4482,0.0632,0.0371, Test accuracy = 63.03%,72.16%,75.93%,76.00%,\n"
     ]
    },
    {
     "name": "stderr",
     "output_type": "stream",
     "text": [
      "Training : 100%|██████████| 100/100 [01:12<00:00,  1.38it/s, Msg=Time 0.719s, Data 0.501s, Loss (1.046|0.443|0.063|0.038), Top1 (71.16%|88.36%|99.10%|99.29%|)]\n",
      "100%|██████████| 20/20 [00:03<00:00,  6.39it/s]\n",
      "Training :   0%|          | 0/100 [00:00<?, ?it/s]"
     ]
    },
    {
     "name": "stdout",
     "output_type": "stream",
     "text": [
      "Adjusting learning rate of group 0 to 1.0000e-02.\n",
      "Epoch 95/200: lr=0.0100, mean batch time = 0.72s, mean data loading time = 0.50, Training loss = 1.0462,0.4431,0.0632,0.0380, Test accuracy = 62.76%,71.61%,75.71%,75.65%,\n"
     ]
    },
    {
     "name": "stderr",
     "output_type": "stream",
     "text": [
      "Training : 100%|██████████| 100/100 [01:12<00:00,  1.38it/s, Msg=Time 0.719s, Data 0.500s, Loss (1.042|0.436|0.059|0.034), Top1 (71.29%|88.47%|99.28%|99.42%|)]\n",
      "100%|██████████| 20/20 [00:03<00:00,  6.51it/s]\n",
      "Training :   0%|          | 0/100 [00:00<?, ?it/s]"
     ]
    },
    {
     "name": "stdout",
     "output_type": "stream",
     "text": [
      "Adjusting learning rate of group 0 to 1.0000e-02.\n",
      "Epoch 96/200: lr=0.0100, mean batch time = 0.72s, mean data loading time = 0.50, Training loss = 1.0418,0.4363,0.0589,0.0343, Test accuracy = 62.76%,71.66%,75.61%,75.73%,\n"
     ]
    },
    {
     "name": "stderr",
     "output_type": "stream",
     "text": [
      "Training : 100%|██████████| 100/100 [01:11<00:00,  1.39it/s, Msg=Time 0.711s, Data 0.494s, Loss (1.037|0.429|0.057|0.033), Top1 (71.60%|88.76%|99.34%|99.46%|)]\n",
      "100%|██████████| 20/20 [00:03<00:00,  6.64it/s]\n",
      "Training :   0%|          | 0/100 [00:00<?, ?it/s]"
     ]
    },
    {
     "name": "stdout",
     "output_type": "stream",
     "text": [
      "Adjusting learning rate of group 0 to 1.0000e-02.\n",
      "Epoch 97/200: lr=0.0100, mean batch time = 0.71s, mean data loading time = 0.49, Training loss = 1.0371,0.4292,0.0568,0.0329, Test accuracy = 62.61%,71.62%,75.88%,75.98%,\n"
     ]
    },
    {
     "name": "stderr",
     "output_type": "stream",
     "text": [
      "Training : 100%|██████████| 100/100 [01:13<00:00,  1.36it/s, Msg=Time 0.729s, Data 0.506s, Loss (1.032|0.420|0.054|0.032), Top1 (71.44%|89.17%|99.40%|99.51%|)]\n",
      "100%|██████████| 20/20 [00:03<00:00,  6.57it/s]\n",
      "Training :   0%|          | 0/100 [00:00<?, ?it/s]"
     ]
    },
    {
     "name": "stdout",
     "output_type": "stream",
     "text": [
      "Adjusting learning rate of group 0 to 1.0000e-02.\n",
      "Epoch 98/200: lr=0.0100, mean batch time = 0.73s, mean data loading time = 0.51, Training loss = 1.0319,0.4200,0.0539,0.0317, Test accuracy = 62.50%,71.67%,75.82%,75.88%,\n"
     ]
    },
    {
     "name": "stderr",
     "output_type": "stream",
     "text": [
      "Training : 100%|██████████| 100/100 [01:11<00:00,  1.41it/s, Msg=Time 0.705s, Data 0.492s, Loss (1.029|0.418|0.053|0.030), Top1 (71.53%|89.09%|99.45%|99.60%|)]\n",
      "100%|██████████| 20/20 [00:03<00:00,  6.43it/s]\n",
      "Training :   0%|          | 0/100 [00:00<?, ?it/s]"
     ]
    },
    {
     "name": "stdout",
     "output_type": "stream",
     "text": [
      "Adjusting learning rate of group 0 to 1.0000e-02.\n",
      "Epoch 99/200: lr=0.0100, mean batch time = 0.71s, mean data loading time = 0.49, Training loss = 1.0293,0.4177,0.0528,0.0300, Test accuracy = 63.12%,71.77%,75.88%,75.84%,\n"
     ]
    },
    {
     "name": "stderr",
     "output_type": "stream",
     "text": [
      "Training : 100%|██████████| 100/100 [01:13<00:00,  1.37it/s, Msg=Time 0.727s, Data 0.507s, Loss (1.028|0.414|0.052|0.031), Top1 (71.65%|89.35%|99.40%|99.53%|)]\n",
      "100%|██████████| 20/20 [00:03<00:00,  6.53it/s]\n",
      "Training :   0%|          | 0/100 [00:00<?, ?it/s]"
     ]
    },
    {
     "name": "stdout",
     "output_type": "stream",
     "text": [
      "Adjusting learning rate of group 0 to 1.0000e-02.\n",
      "Epoch 100/200: lr=0.0100, mean batch time = 0.73s, mean data loading time = 0.51, Training loss = 1.0276,0.4141,0.0523,0.0306, Test accuracy = 62.94%,71.56%,75.83%,75.90%,\n"
     ]
    },
    {
     "name": "stderr",
     "output_type": "stream",
     "text": [
      "Training : 100%|██████████| 100/100 [01:12<00:00,  1.37it/s, Msg=Time 0.722s, Data 0.506s, Loss (1.027|0.408|0.051|0.030), Top1 (71.62%|89.58%|99.44%|99.53%|)]\n",
      "100%|██████████| 20/20 [00:03<00:00,  6.09it/s]\n",
      "Training :   0%|          | 0/100 [00:00<?, ?it/s]"
     ]
    },
    {
     "name": "stdout",
     "output_type": "stream",
     "text": [
      "Adjusting learning rate of group 0 to 1.0000e-02.\n",
      "Epoch 101/200: lr=0.0100, mean batch time = 0.72s, mean data loading time = 0.51, Training loss = 1.0269,0.4081,0.0509,0.0299, Test accuracy = 63.19%,72.22%,75.88%,76.05%,\n"
     ]
    },
    {
     "name": "stderr",
     "output_type": "stream",
     "text": [
      "Training : 100%|██████████| 100/100 [01:14<00:00,  1.35it/s, Msg=Time 0.735s, Data 0.513s, Loss (1.020|0.403|0.049|0.027), Top1 (72.04%|89.84%|99.55%|99.62%|)]\n",
      "100%|██████████| 20/20 [00:03<00:00,  6.23it/s]\n",
      "Training :   0%|          | 0/100 [00:00<?, ?it/s]"
     ]
    },
    {
     "name": "stdout",
     "output_type": "stream",
     "text": [
      "Adjusting learning rate of group 0 to 1.0000e-02.\n",
      "Epoch 102/200: lr=0.0100, mean batch time = 0.74s, mean data loading time = 0.51, Training loss = 1.0204,0.4027,0.0485,0.0275, Test accuracy = 62.08%,71.31%,75.61%,75.58%,\n"
     ]
    },
    {
     "name": "stderr",
     "output_type": "stream",
     "text": [
      "Training : 100%|██████████| 100/100 [01:12<00:00,  1.37it/s, Msg=Time 0.722s, Data 0.505s, Loss (1.020|0.398|0.048|0.027), Top1 (71.64%|89.76%|99.52%|99.63%|)]\n",
      "100%|██████████| 20/20 [00:03<00:00,  5.85it/s]\n",
      "Training :   0%|          | 0/100 [00:00<?, ?it/s]"
     ]
    },
    {
     "name": "stdout",
     "output_type": "stream",
     "text": [
      "Adjusting learning rate of group 0 to 1.0000e-02.\n",
      "Epoch 103/200: lr=0.0100, mean batch time = 0.72s, mean data loading time = 0.51, Training loss = 1.0202,0.3982,0.0476,0.0273, Test accuracy = 63.27%,71.55%,75.55%,75.92%,\n"
     ]
    },
    {
     "name": "stderr",
     "output_type": "stream",
     "text": [
      "Training : 100%|██████████| 100/100 [01:13<00:00,  1.37it/s, Msg=Time 0.724s, Data 0.508s, Loss (1.011|0.388|0.046|0.026), Top1 (72.24%|90.13%|99.56%|99.62%|)]\n",
      "100%|██████████| 20/20 [00:03<00:00,  6.35it/s]\n",
      "Training :   0%|          | 0/100 [00:00<?, ?it/s]"
     ]
    },
    {
     "name": "stdout",
     "output_type": "stream",
     "text": [
      "Adjusting learning rate of group 0 to 1.0000e-02.\n",
      "Epoch 104/200: lr=0.0100, mean batch time = 0.72s, mean data loading time = 0.51, Training loss = 1.0109,0.3878,0.0462,0.0264, Test accuracy = 62.71%,71.27%,75.14%,75.26%,\n"
     ]
    },
    {
     "name": "stderr",
     "output_type": "stream",
     "text": [
      "Training : 100%|██████████| 100/100 [01:11<00:00,  1.39it/s, Msg=Time 0.714s, Data 0.496s, Loss (1.010|0.388|0.046|0.027), Top1 (72.24%|90.09%|99.52%|99.60%|)]\n",
      "100%|██████████| 20/20 [00:03<00:00,  6.61it/s]\n",
      "Training :   0%|          | 0/100 [00:00<?, ?it/s]"
     ]
    },
    {
     "name": "stdout",
     "output_type": "stream",
     "text": [
      "Adjusting learning rate of group 0 to 1.0000e-02.\n",
      "Epoch 105/200: lr=0.0100, mean batch time = 0.71s, mean data loading time = 0.50, Training loss = 1.0097,0.3875,0.0465,0.0271, Test accuracy = 62.95%,72.11%,75.30%,75.59%,\n"
     ]
    },
    {
     "name": "stderr",
     "output_type": "stream",
     "text": [
      "Training : 100%|██████████| 100/100 [01:11<00:00,  1.39it/s, Msg=Time 0.713s, Data 0.496s, Loss (1.009|0.384|0.046|0.028), Top1 (72.21%|90.39%|99.53%|99.58%|)]\n",
      "100%|██████████| 20/20 [00:03<00:00,  5.73it/s]\n",
      "Training :   0%|          | 0/100 [00:00<?, ?it/s]"
     ]
    },
    {
     "name": "stdout",
     "output_type": "stream",
     "text": [
      "Adjusting learning rate of group 0 to 1.0000e-02.\n",
      "Epoch 106/200: lr=0.0100, mean batch time = 0.71s, mean data loading time = 0.50, Training loss = 1.0088,0.3836,0.0463,0.0277, Test accuracy = 62.80%,71.34%,75.64%,75.80%,\n"
     ]
    },
    {
     "name": "stderr",
     "output_type": "stream",
     "text": [
      "Training : 100%|██████████| 100/100 [01:11<00:00,  1.40it/s, Msg=Time 0.711s, Data 0.497s, Loss (1.007|0.380|0.045|0.025), Top1 (72.18%|90.40%|99.59%|99.67%|)]\n",
      "100%|██████████| 20/20 [00:03<00:00,  5.93it/s]\n",
      "Training :   0%|          | 0/100 [00:00<?, ?it/s]"
     ]
    },
    {
     "name": "stdout",
     "output_type": "stream",
     "text": [
      "Adjusting learning rate of group 0 to 1.0000e-02.\n",
      "Epoch 107/200: lr=0.0100, mean batch time = 0.71s, mean data loading time = 0.50, Training loss = 1.0066,0.3796,0.0448,0.0255, Test accuracy = 63.27%,71.91%,76.14%,76.03%,\n"
     ]
    },
    {
     "name": "stderr",
     "output_type": "stream",
     "text": [
      "Training : 100%|██████████| 100/100 [01:11<00:00,  1.40it/s, Msg=Time 0.709s, Data 0.493s, Loss (1.000|0.372|0.044|0.025), Top1 (72.31%|90.62%|99.58%|99.65%|)]\n",
      "100%|██████████| 20/20 [00:03<00:00,  5.87it/s]\n",
      "Training :   0%|          | 0/100 [00:00<?, ?it/s]"
     ]
    },
    {
     "name": "stdout",
     "output_type": "stream",
     "text": [
      "Adjusting learning rate of group 0 to 1.0000e-02.\n",
      "Epoch 108/200: lr=0.0100, mean batch time = 0.71s, mean data loading time = 0.49, Training loss = 0.9996,0.3718,0.0436,0.0254, Test accuracy = 62.28%,70.89%,75.18%,75.18%,\n"
     ]
    },
    {
     "name": "stderr",
     "output_type": "stream",
     "text": [
      "Training : 100%|██████████| 100/100 [01:11<00:00,  1.39it/s, Msg=Time 0.713s, Data 0.497s, Loss (0.998|0.370|0.046|0.028), Top1 (72.25%|90.64%|99.56%|99.57%|)]\n",
      "100%|██████████| 20/20 [00:03<00:00,  6.30it/s]\n",
      "Training :   0%|          | 0/100 [00:00<?, ?it/s]"
     ]
    },
    {
     "name": "stdout",
     "output_type": "stream",
     "text": [
      "Adjusting learning rate of group 0 to 1.0000e-02.\n",
      "Epoch 109/200: lr=0.0100, mean batch time = 0.71s, mean data loading time = 0.50, Training loss = 0.9978,0.3700,0.0455,0.0278, Test accuracy = 62.07%,70.58%,75.09%,75.48%,\n"
     ]
    },
    {
     "name": "stderr",
     "output_type": "stream",
     "text": [
      "Training : 100%|██████████| 100/100 [01:14<00:00,  1.35it/s, Msg=Time 0.734s, Data 0.520s, Loss (0.997|0.366|0.042|0.024), Top1 (72.41%|90.85%|99.66%|99.71%|)]\n",
      "100%|██████████| 20/20 [00:03<00:00,  6.40it/s]\n",
      "Training :   0%|          | 0/100 [00:00<?, ?it/s]"
     ]
    },
    {
     "name": "stdout",
     "output_type": "stream",
     "text": [
      "Adjusting learning rate of group 0 to 1.0000e-02.\n",
      "Epoch 110/200: lr=0.0100, mean batch time = 0.73s, mean data loading time = 0.52, Training loss = 0.9973,0.3659,0.0415,0.0241, Test accuracy = 62.79%,71.55%,75.92%,75.89%,\n"
     ]
    },
    {
     "name": "stderr",
     "output_type": "stream",
     "text": [
      "Training : 100%|██████████| 100/100 [01:11<00:00,  1.39it/s, Msg=Time 0.713s, Data 0.497s, Loss (0.996|0.361|0.042|0.024), Top1 (72.62%|90.98%|99.64%|99.67%|)]\n",
      "100%|██████████| 20/20 [00:03<00:00,  6.54it/s]\n",
      "Training :   0%|          | 0/100 [00:00<?, ?it/s]"
     ]
    },
    {
     "name": "stdout",
     "output_type": "stream",
     "text": [
      "Adjusting learning rate of group 0 to 1.0000e-02.\n",
      "Epoch 111/200: lr=0.0100, mean batch time = 0.71s, mean data loading time = 0.50, Training loss = 0.9964,0.3606,0.0416,0.0243, Test accuracy = 63.35%,71.55%,75.21%,75.35%,\n"
     ]
    },
    {
     "name": "stderr",
     "output_type": "stream",
     "text": [
      "Training : 100%|██████████| 100/100 [01:13<00:00,  1.37it/s, Msg=Time 0.725s, Data 0.509s, Loss (0.994|0.359|0.044|0.026), Top1 (72.55%|91.06%|99.59%|99.63%|)]\n",
      "100%|██████████| 20/20 [00:02<00:00,  6.78it/s]\n",
      "Training :   0%|          | 0/100 [00:00<?, ?it/s]"
     ]
    },
    {
     "name": "stdout",
     "output_type": "stream",
     "text": [
      "Adjusting learning rate of group 0 to 1.0000e-02.\n",
      "Epoch 112/200: lr=0.0100, mean batch time = 0.73s, mean data loading time = 0.51, Training loss = 0.9939,0.3594,0.0436,0.0262, Test accuracy = 62.58%,70.98%,75.15%,75.48%,\n"
     ]
    },
    {
     "name": "stderr",
     "output_type": "stream",
     "text": [
      "Training : 100%|██████████| 100/100 [01:13<00:00,  1.36it/s, Msg=Time 0.732s, Data 0.516s, Loss (0.989|0.356|0.044|0.027), Top1 (72.68%|91.06%|99.53%|99.61%|)]\n",
      "100%|██████████| 20/20 [00:03<00:00,  6.47it/s]\n",
      "Training :   0%|          | 0/100 [00:00<?, ?it/s]"
     ]
    },
    {
     "name": "stdout",
     "output_type": "stream",
     "text": [
      "Adjusting learning rate of group 0 to 1.0000e-02.\n",
      "Epoch 113/200: lr=0.0100, mean batch time = 0.73s, mean data loading time = 0.52, Training loss = 0.9888,0.3561,0.0441,0.0267, Test accuracy = 62.50%,70.21%,74.83%,74.97%,\n"
     ]
    },
    {
     "name": "stderr",
     "output_type": "stream",
     "text": [
      "Training : 100%|██████████| 100/100 [01:13<00:00,  1.36it/s, Msg=Time 0.732s, Data 0.512s, Loss (0.987|0.349|0.042|0.025), Top1 (72.78%|91.42%|99.59%|99.66%|)]\n",
      "100%|██████████| 20/20 [00:03<00:00,  6.51it/s]\n",
      "Training :   0%|          | 0/100 [00:00<?, ?it/s]"
     ]
    },
    {
     "name": "stdout",
     "output_type": "stream",
     "text": [
      "Adjusting learning rate of group 0 to 1.0000e-02.\n",
      "Epoch 114/200: lr=0.0100, mean batch time = 0.73s, mean data loading time = 0.51, Training loss = 0.9870,0.3485,0.0421,0.0246, Test accuracy = 62.44%,71.12%,75.60%,75.63%,\n"
     ]
    },
    {
     "name": "stderr",
     "output_type": "stream",
     "text": [
      "Training : 100%|██████████| 100/100 [01:13<00:00,  1.35it/s, Msg=Time 0.733s, Data 0.511s, Loss (0.985|0.346|0.041|0.025), Top1 (72.95%|91.59%|99.63%|99.64%|)]\n",
      "100%|██████████| 20/20 [00:03<00:00,  6.52it/s]\n",
      "Training :   0%|          | 0/100 [00:00<?, ?it/s]"
     ]
    },
    {
     "name": "stdout",
     "output_type": "stream",
     "text": [
      "Adjusting learning rate of group 0 to 1.0000e-02.\n",
      "Epoch 115/200: lr=0.0100, mean batch time = 0.73s, mean data loading time = 0.51, Training loss = 0.9848,0.3458,0.0415,0.0251, Test accuracy = 62.63%,70.18%,74.30%,74.70%,\n"
     ]
    },
    {
     "name": "stderr",
     "output_type": "stream",
     "text": [
      "Training : 100%|██████████| 100/100 [01:13<00:00,  1.36it/s, Msg=Time 0.727s, Data 0.507s, Loss (0.981|0.343|0.040|0.024), Top1 (72.99%|91.67%|99.67%|99.74%|)]\n",
      "100%|██████████| 20/20 [00:03<00:00,  6.58it/s]\n",
      "Training :   0%|          | 0/100 [00:00<?, ?it/s]"
     ]
    },
    {
     "name": "stdout",
     "output_type": "stream",
     "text": [
      "Adjusting learning rate of group 0 to 1.0000e-02.\n",
      "Epoch 116/200: lr=0.0100, mean batch time = 0.73s, mean data loading time = 0.51, Training loss = 0.9814,0.3425,0.0401,0.0241, Test accuracy = 61.82%,70.56%,74.81%,75.21%,\n"
     ]
    },
    {
     "name": "stderr",
     "output_type": "stream",
     "text": [
      "Training : 100%|██████████| 100/100 [01:12<00:00,  1.37it/s, Msg=Time 0.723s, Data 0.504s, Loss (0.981|0.343|0.044|0.027), Top1 (73.05%|91.47%|99.54%|99.59%|)]\n",
      "100%|██████████| 20/20 [00:03<00:00,  6.35it/s]\n",
      "Training :   0%|          | 0/100 [00:00<?, ?it/s]"
     ]
    },
    {
     "name": "stdout",
     "output_type": "stream",
     "text": [
      "Adjusting learning rate of group 0 to 1.0000e-02.\n",
      "Epoch 117/200: lr=0.0100, mean batch time = 0.72s, mean data loading time = 0.50, Training loss = 0.9811,0.3431,0.0435,0.0270, Test accuracy = 62.37%,70.81%,75.16%,75.27%,\n"
     ]
    },
    {
     "name": "stderr",
     "output_type": "stream",
     "text": [
      "Training : 100%|██████████| 100/100 [01:13<00:00,  1.36it/s, Msg=Time 0.731s, Data 0.507s, Loss (0.977|0.338|0.042|0.026), Top1 (73.02%|91.68%|99.60%|99.63%|)]\n",
      "100%|██████████| 20/20 [00:03<00:00,  6.12it/s]\n",
      "Training :   0%|          | 0/100 [00:00<?, ?it/s]"
     ]
    },
    {
     "name": "stdout",
     "output_type": "stream",
     "text": [
      "Adjusting learning rate of group 0 to 1.0000e-02.\n",
      "Epoch 118/200: lr=0.0100, mean batch time = 0.73s, mean data loading time = 0.51, Training loss = 0.9773,0.3380,0.0420,0.0255, Test accuracy = 62.88%,70.51%,74.93%,75.41%,\n"
     ]
    },
    {
     "name": "stderr",
     "output_type": "stream",
     "text": [
      "Training : 100%|██████████| 100/100 [01:13<00:00,  1.36it/s, Msg=Time 0.727s, Data 0.506s, Loss (0.979|0.338|0.043|0.027), Top1 (73.05%|91.71%|99.59%|99.61%|)]\n",
      "100%|██████████| 20/20 [00:03<00:00,  5.95it/s]\n",
      "Training :   0%|          | 0/100 [00:00<?, ?it/s]"
     ]
    },
    {
     "name": "stdout",
     "output_type": "stream",
     "text": [
      "Adjusting learning rate of group 0 to 1.0000e-02.\n",
      "Epoch 119/200: lr=0.0100, mean batch time = 0.73s, mean data loading time = 0.51, Training loss = 0.9794,0.3378,0.0435,0.0268, Test accuracy = 62.23%,70.39%,74.99%,75.14%,\n"
     ]
    },
    {
     "name": "stderr",
     "output_type": "stream",
     "text": [
      "Training : 100%|██████████| 100/100 [01:15<00:00,  1.32it/s, Msg=Time 0.752s, Data 0.528s, Loss (0.976|0.331|0.042|0.026), Top1 (72.97%|91.96%|99.62%|99.62%|)]\n",
      "100%|██████████| 20/20 [00:03<00:00,  6.37it/s]\n",
      "Training :   0%|          | 0/100 [00:00<?, ?it/s]"
     ]
    },
    {
     "name": "stdout",
     "output_type": "stream",
     "text": [
      "Adjusting learning rate of group 0 to 1.0000e-02.\n",
      "Epoch 120/200: lr=0.0100, mean batch time = 0.75s, mean data loading time = 0.53, Training loss = 0.9757,0.3310,0.0420,0.0259, Test accuracy = 61.62%,70.52%,74.89%,75.32%,\n"
     ]
    },
    {
     "name": "stderr",
     "output_type": "stream",
     "text": [
      "Training : 100%|██████████| 100/100 [01:13<00:00,  1.35it/s, Msg=Time 0.732s, Data 0.511s, Loss (0.977|0.333|0.044|0.028), Top1 (72.89%|91.88%|99.53%|99.55%|)]\n",
      "100%|██████████| 20/20 [00:03<00:00,  6.33it/s]\n",
      "Training :   0%|          | 0/100 [00:00<?, ?it/s]"
     ]
    },
    {
     "name": "stdout",
     "output_type": "stream",
     "text": [
      "Adjusting learning rate of group 0 to 1.0000e-02.\n",
      "Epoch 121/200: lr=0.0100, mean batch time = 0.73s, mean data loading time = 0.51, Training loss = 0.9767,0.3330,0.0438,0.0279, Test accuracy = 61.76%,70.11%,74.70%,75.29%,\n"
     ]
    },
    {
     "name": "stderr",
     "output_type": "stream",
     "text": [
      "Training : 100%|██████████| 100/100 [01:16<00:00,  1.31it/s, Msg=Time 0.759s, Data 0.531s, Loss (0.974|0.332|0.045|0.029), Top1 (73.11%|91.98%|99.51%|99.52%|)]\n",
      "100%|██████████| 20/20 [00:02<00:00,  7.04it/s]\n",
      "Training :   0%|          | 0/100 [00:00<?, ?it/s]"
     ]
    },
    {
     "name": "stdout",
     "output_type": "stream",
     "text": [
      "Adjusting learning rate of group 0 to 1.0000e-02.\n",
      "Epoch 122/200: lr=0.0100, mean batch time = 0.76s, mean data loading time = 0.53, Training loss = 0.9743,0.3315,0.0451,0.0287, Test accuracy = 62.65%,70.62%,74.67%,75.10%,\n"
     ]
    },
    {
     "name": "stderr",
     "output_type": "stream",
     "text": [
      "Training : 100%|██████████| 100/100 [01:13<00:00,  1.37it/s, Msg=Time 0.726s, Data 0.507s, Loss (0.971|0.328|0.042|0.026), Top1 (73.38%|92.04%|99.63%|99.60%|)]\n",
      "100%|██████████| 20/20 [00:03<00:00,  6.14it/s]\n",
      "Training :   0%|          | 0/100 [00:00<?, ?it/s]"
     ]
    },
    {
     "name": "stdout",
     "output_type": "stream",
     "text": [
      "Adjusting learning rate of group 0 to 1.0000e-02.\n",
      "Epoch 123/200: lr=0.0100, mean batch time = 0.73s, mean data loading time = 0.51, Training loss = 0.9714,0.3277,0.0421,0.0260, Test accuracy = 62.64%,70.23%,75.11%,75.11%,\n"
     ]
    },
    {
     "name": "stderr",
     "output_type": "stream",
     "text": [
      "Training : 100%|██████████| 100/100 [01:16<00:00,  1.30it/s, Msg=Time 0.760s, Data 0.531s, Loss (0.968|0.325|0.045|0.029), Top1 (73.16%|92.10%|99.49%|99.53%|)]\n",
      "100%|██████████| 20/20 [00:02<00:00,  6.93it/s]\n",
      "Training :   0%|          | 0/100 [00:00<?, ?it/s]"
     ]
    },
    {
     "name": "stdout",
     "output_type": "stream",
     "text": [
      "Adjusting learning rate of group 0 to 1.0000e-02.\n",
      "Epoch 124/200: lr=0.0100, mean batch time = 0.76s, mean data loading time = 0.53, Training loss = 0.9682,0.3254,0.0453,0.0291, Test accuracy = 61.01%,69.97%,74.53%,74.87%,\n"
     ]
    },
    {
     "name": "stderr",
     "output_type": "stream",
     "text": [
      "Training : 100%|██████████| 100/100 [01:13<00:00,  1.36it/s, Msg=Time 0.731s, Data 0.511s, Loss (0.967|0.326|0.044|0.028), Top1 (73.20%|92.03%|99.60%|99.58%|)]\n",
      "100%|██████████| 20/20 [00:03<00:00,  6.39it/s]\n",
      "Training :   0%|          | 0/100 [00:00<?, ?it/s]"
     ]
    },
    {
     "name": "stdout",
     "output_type": "stream",
     "text": [
      "Adjusting learning rate of group 0 to 1.0000e-02.\n",
      "Epoch 125/200: lr=0.0100, mean batch time = 0.73s, mean data loading time = 0.51, Training loss = 0.9669,0.3255,0.0435,0.0276, Test accuracy = 62.07%,70.37%,74.92%,75.17%,\n"
     ]
    },
    {
     "name": "stderr",
     "output_type": "stream",
     "text": [
      "Training : 100%|██████████| 100/100 [01:14<00:00,  1.35it/s, Msg=Time 0.736s, Data 0.514s, Loss (0.968|0.321|0.044|0.029), Top1 (73.19%|92.31%|99.51%|99.54%|)]\n",
      "100%|██████████| 20/20 [00:03<00:00,  6.39it/s]\n",
      "Training :   0%|          | 0/100 [00:00<?, ?it/s]"
     ]
    },
    {
     "name": "stdout",
     "output_type": "stream",
     "text": [
      "Adjusting learning rate of group 0 to 1.0000e-02.\n",
      "Epoch 126/200: lr=0.0100, mean batch time = 0.74s, mean data loading time = 0.51, Training loss = 0.9681,0.3210,0.0441,0.0288, Test accuracy = 60.45%,68.97%,73.28%,73.72%,\n"
     ]
    },
    {
     "name": "stderr",
     "output_type": "stream",
     "text": [
      "Training : 100%|██████████| 100/100 [01:14<00:00,  1.35it/s, Msg=Time 0.737s, Data 0.512s, Loss (0.965|0.322|0.047|0.031), Top1 (73.36%|92.13%|99.40%|99.46%|)]\n",
      "100%|██████████| 20/20 [00:03<00:00,  6.53it/s]\n",
      "Training :   0%|          | 0/100 [00:00<?, ?it/s]"
     ]
    },
    {
     "name": "stdout",
     "output_type": "stream",
     "text": [
      "Adjusting learning rate of group 0 to 1.0000e-02.\n",
      "Epoch 127/200: lr=0.0100, mean batch time = 0.74s, mean data loading time = 0.51, Training loss = 0.9647,0.3216,0.0473,0.0307, Test accuracy = 62.33%,70.14%,74.59%,74.88%,\n"
     ]
    },
    {
     "name": "stderr",
     "output_type": "stream",
     "text": [
      "Training : 100%|██████████| 100/100 [01:14<00:00,  1.35it/s, Msg=Time 0.737s, Data 0.511s, Loss (0.964|0.318|0.044|0.028), Top1 (73.35%|92.46%|99.48%|99.57%|)]\n",
      "100%|██████████| 20/20 [00:03<00:00,  6.42it/s]\n",
      "Training :   0%|          | 0/100 [00:00<?, ?it/s]"
     ]
    },
    {
     "name": "stdout",
     "output_type": "stream",
     "text": [
      "Adjusting learning rate of group 0 to 1.0000e-02.\n",
      "Epoch 128/200: lr=0.0100, mean batch time = 0.74s, mean data loading time = 0.51, Training loss = 0.9638,0.3181,0.0443,0.0278, Test accuracy = 62.03%,69.62%,74.50%,74.61%,\n"
     ]
    },
    {
     "name": "stderr",
     "output_type": "stream",
     "text": [
      "Training : 100%|██████████| 100/100 [01:14<00:00,  1.34it/s, Msg=Time 0.742s, Data 0.519s, Loss (0.965|0.315|0.043|0.028), Top1 (73.46%|92.58%|99.54%|99.58%|)]\n",
      "100%|██████████| 20/20 [00:03<00:00,  6.36it/s]\n",
      "Training :   0%|          | 0/100 [00:00<?, ?it/s]"
     ]
    },
    {
     "name": "stdout",
     "output_type": "stream",
     "text": [
      "Adjusting learning rate of group 0 to 1.0000e-02.\n",
      "Epoch 129/200: lr=0.0100, mean batch time = 0.74s, mean data loading time = 0.52, Training loss = 0.9645,0.3149,0.0432,0.0276, Test accuracy = 62.21%,70.31%,74.22%,74.04%,\n"
     ]
    },
    {
     "name": "stderr",
     "output_type": "stream",
     "text": [
      "Training : 100%|██████████| 100/100 [01:14<00:00,  1.34it/s, Msg=Time 0.741s, Data 0.518s, Loss (0.966|0.317|0.046|0.030), Top1 (73.35%|92.26%|99.48%|99.50%|)]\n",
      "100%|██████████| 20/20 [00:03<00:00,  6.50it/s]\n",
      "Training :   0%|          | 0/100 [00:00<?, ?it/s]"
     ]
    },
    {
     "name": "stdout",
     "output_type": "stream",
     "text": [
      "Adjusting learning rate of group 0 to 1.0000e-03.\n",
      "Epoch 130/200: lr=0.0010, mean batch time = 0.74s, mean data loading time = 0.52, Training loss = 0.9661,0.3171,0.0462,0.0304, Test accuracy = 61.70%,69.55%,73.84%,74.28%,\n"
     ]
    },
    {
     "name": "stderr",
     "output_type": "stream",
     "text": [
      "Training : 100%|██████████| 100/100 [01:15<00:00,  1.32it/s, Msg=Time 0.750s, Data 0.527s, Loss (0.911|0.267|0.032|0.019), Top1 (75.03%|94.24%|99.80%|99.80%|)]\n",
      "100%|██████████| 20/20 [00:03<00:00,  6.34it/s]\n",
      "Training :   0%|          | 0/100 [00:00<?, ?it/s]"
     ]
    },
    {
     "name": "stdout",
     "output_type": "stream",
     "text": [
      "Adjusting learning rate of group 0 to 1.0000e-03.\n",
      "Epoch 131/200: lr=0.0010, mean batch time = 0.75s, mean data loading time = 0.53, Training loss = 0.9111,0.2668,0.0318,0.0192, Test accuracy = 64.76%,72.67%,76.53%,76.61%,\n"
     ]
    },
    {
     "name": "stderr",
     "output_type": "stream",
     "text": [
      "Training : 100%|██████████| 100/100 [01:14<00:00,  1.34it/s, Msg=Time 0.742s, Data 0.520s, Loss (0.891|0.244|0.025|0.015), Top1 (75.93%|95.11%|99.89%|99.91%|)]\n",
      "100%|██████████| 20/20 [00:03<00:00,  6.37it/s]\n",
      "Training :   0%|          | 0/100 [00:00<?, ?it/s]"
     ]
    },
    {
     "name": "stdout",
     "output_type": "stream",
     "text": [
      "Adjusting learning rate of group 0 to 1.0000e-03.\n",
      "Epoch 132/200: lr=0.0010, mean batch time = 0.74s, mean data loading time = 0.52, Training loss = 0.8912,0.2438,0.0254,0.0147, Test accuracy = 64.83%,72.44%,76.48%,76.76%,\n"
     ]
    },
    {
     "name": "stderr",
     "output_type": "stream",
     "text": [
      "Training : 100%|██████████| 100/100 [01:14<00:00,  1.34it/s, Msg=Time 0.737s, Data 0.516s, Loss (0.884|0.236|0.023|0.013), Top1 (75.98%|95.47%|99.92%|99.93%|)]\n",
      "100%|██████████| 20/20 [00:02<00:00,  6.70it/s]\n",
      "Training :   0%|          | 0/100 [00:00<?, ?it/s]"
     ]
    },
    {
     "name": "stdout",
     "output_type": "stream",
     "text": [
      "Adjusting learning rate of group 0 to 1.0000e-03.\n",
      "Epoch 133/200: lr=0.0010, mean batch time = 0.74s, mean data loading time = 0.52, Training loss = 0.8839,0.2357,0.0234,0.0133, Test accuracy = 64.91%,72.47%,76.57%,76.80%,\n"
     ]
    },
    {
     "name": "stderr",
     "output_type": "stream",
     "text": [
      "Training : 100%|██████████| 100/100 [01:14<00:00,  1.34it/s, Msg=Time 0.742s, Data 0.519s, Loss (0.878|0.232|0.022|0.013), Top1 (76.14%|95.50%|99.92%|99.92%|)]\n",
      "100%|██████████| 20/20 [00:03<00:00,  6.54it/s]\n",
      "Training :   0%|          | 0/100 [00:00<?, ?it/s]"
     ]
    },
    {
     "name": "stdout",
     "output_type": "stream",
     "text": [
      "Adjusting learning rate of group 0 to 1.0000e-03.\n",
      "Epoch 134/200: lr=0.0010, mean batch time = 0.74s, mean data loading time = 0.52, Training loss = 0.8777,0.2319,0.0223,0.0126, Test accuracy = 65.51%,72.42%,76.60%,76.61%,\n"
     ]
    },
    {
     "name": "stderr",
     "output_type": "stream",
     "text": [
      "Training : 100%|██████████| 100/100 [01:14<00:00,  1.35it/s, Msg=Time 0.737s, Data 0.517s, Loss (0.877|0.229|0.022|0.012), Top1 (76.25%|95.58%|99.94%|99.94%|)]\n",
      "100%|██████████| 20/20 [00:03<00:00,  6.06it/s]\n",
      "Training :   0%|          | 0/100 [00:00<?, ?it/s]"
     ]
    },
    {
     "name": "stdout",
     "output_type": "stream",
     "text": [
      "Adjusting learning rate of group 0 to 1.0000e-03.\n",
      "Epoch 135/200: lr=0.0010, mean batch time = 0.74s, mean data loading time = 0.52, Training loss = 0.8775,0.2289,0.0215,0.0123, Test accuracy = 65.06%,72.40%,76.46%,76.64%,\n"
     ]
    },
    {
     "name": "stderr",
     "output_type": "stream",
     "text": [
      "Training : 100%|██████████| 100/100 [01:13<00:00,  1.36it/s, Msg=Time 0.727s, Data 0.507s, Loss (0.873|0.226|0.021|0.012), Top1 (76.39%|95.72%|99.93%|99.93%|)]\n",
      "100%|██████████| 20/20 [00:03<00:00,  6.11it/s]\n",
      "Training :   0%|          | 0/100 [00:00<?, ?it/s]"
     ]
    },
    {
     "name": "stdout",
     "output_type": "stream",
     "text": [
      "Adjusting learning rate of group 0 to 1.0000e-03.\n",
      "Epoch 136/200: lr=0.0010, mean batch time = 0.73s, mean data loading time = 0.51, Training loss = 0.8731,0.2265,0.0207,0.0118, Test accuracy = 65.42%,72.49%,76.66%,76.74%,\n"
     ]
    },
    {
     "name": "stderr",
     "output_type": "stream",
     "text": [
      "Training : 100%|██████████| 100/100 [01:14<00:00,  1.34it/s, Msg=Time 0.740s, Data 0.516s, Loss (0.870|0.224|0.020|0.012), Top1 (76.59%|95.85%|99.95%|99.95%|)]\n",
      "100%|██████████| 20/20 [00:03<00:00,  5.91it/s]\n",
      "Training :   0%|          | 0/100 [00:00<?, ?it/s]"
     ]
    },
    {
     "name": "stdout",
     "output_type": "stream",
     "text": [
      "Adjusting learning rate of group 0 to 1.0000e-03.\n",
      "Epoch 137/200: lr=0.0010, mean batch time = 0.74s, mean data loading time = 0.52, Training loss = 0.8702,0.2241,0.0203,0.0115, Test accuracy = 65.08%,72.49%,76.47%,76.77%,\n"
     ]
    },
    {
     "name": "stderr",
     "output_type": "stream",
     "text": [
      "Training : 100%|██████████| 100/100 [01:15<00:00,  1.33it/s, Msg=Time 0.747s, Data 0.522s, Loss (0.872|0.224|0.020|0.012), Top1 (76.26%|95.76%|99.93%|99.94%|)]\n",
      "100%|██████████| 20/20 [00:03<00:00,  6.32it/s]\n",
      "Training :   0%|          | 0/100 [00:00<?, ?it/s]"
     ]
    },
    {
     "name": "stdout",
     "output_type": "stream",
     "text": [
      "Adjusting learning rate of group 0 to 1.0000e-03.\n",
      "Epoch 138/200: lr=0.0010, mean batch time = 0.75s, mean data loading time = 0.52, Training loss = 0.8723,0.2244,0.0203,0.0115, Test accuracy = 65.26%,72.53%,76.73%,76.78%,\n"
     ]
    },
    {
     "name": "stderr",
     "output_type": "stream",
     "text": [
      "Training : 100%|██████████| 100/100 [01:16<00:00,  1.31it/s, Msg=Time 0.756s, Data 0.529s, Loss (0.870|0.221|0.020|0.011), Top1 (76.42%|95.87%|99.95%|99.95%|)]\n",
      "100%|██████████| 20/20 [00:03<00:00,  6.42it/s]\n",
      "Training :   0%|          | 0/100 [00:00<?, ?it/s]"
     ]
    },
    {
     "name": "stdout",
     "output_type": "stream",
     "text": [
      "Adjusting learning rate of group 0 to 1.0000e-03.\n",
      "Epoch 139/200: lr=0.0010, mean batch time = 0.76s, mean data loading time = 0.53, Training loss = 0.8696,0.2207,0.0200,0.0114, Test accuracy = 64.95%,72.31%,76.56%,76.90%,\n"
     ]
    },
    {
     "name": "stderr",
     "output_type": "stream",
     "text": [
      "Training : 100%|██████████| 100/100 [01:15<00:00,  1.32it/s, Msg=Time 0.752s, Data 0.526s, Loss (0.866|0.220|0.020|0.011), Top1 (76.61%|95.95%|99.94%|99.94%|)]\n",
      "100%|██████████| 20/20 [00:03<00:00,  6.55it/s]\n",
      "Training :   0%|          | 0/100 [00:00<?, ?it/s]"
     ]
    },
    {
     "name": "stdout",
     "output_type": "stream",
     "text": [
      "Adjusting learning rate of group 0 to 1.0000e-03.\n",
      "Epoch 140/200: lr=0.0010, mean batch time = 0.75s, mean data loading time = 0.53, Training loss = 0.8663,0.2199,0.0198,0.0113, Test accuracy = 65.24%,72.50%,76.42%,76.59%,\n"
     ]
    },
    {
     "name": "stderr",
     "output_type": "stream",
     "text": [
      "Training : 100%|██████████| 100/100 [01:16<00:00,  1.31it/s, Msg=Time 0.755s, Data 0.530s, Loss (0.863|0.219|0.020|0.011), Top1 (76.77%|95.95%|99.94%|99.93%|)]\n",
      "100%|██████████| 20/20 [00:03<00:00,  6.32it/s]\n",
      "Training :   0%|          | 0/100 [00:00<?, ?it/s]"
     ]
    },
    {
     "name": "stdout",
     "output_type": "stream",
     "text": [
      "Adjusting learning rate of group 0 to 1.0000e-03.\n",
      "Epoch 141/200: lr=0.0010, mean batch time = 0.76s, mean data loading time = 0.53, Training loss = 0.8630,0.2195,0.0199,0.0113, Test accuracy = 65.27%,72.29%,76.48%,76.78%,\n"
     ]
    },
    {
     "name": "stderr",
     "output_type": "stream",
     "text": [
      "Training : 100%|██████████| 100/100 [01:13<00:00,  1.36it/s, Msg=Time 0.728s, Data 0.510s, Loss (0.859|0.216|0.020|0.011), Top1 (76.73%|96.09%|99.94%|99.94%|)]\n",
      "100%|██████████| 20/20 [00:03<00:00,  5.86it/s]\n",
      "Training :   0%|          | 0/100 [00:00<?, ?it/s]"
     ]
    },
    {
     "name": "stdout",
     "output_type": "stream",
     "text": [
      "Adjusting learning rate of group 0 to 1.0000e-03.\n",
      "Epoch 142/200: lr=0.0010, mean batch time = 0.73s, mean data loading time = 0.51, Training loss = 0.8594,0.2158,0.0199,0.0114, Test accuracy = 65.08%,72.30%,76.58%,76.66%,\n"
     ]
    },
    {
     "name": "stderr",
     "output_type": "stream",
     "text": [
      "Training : 100%|██████████| 100/100 [01:14<00:00,  1.34it/s, Msg=Time 0.741s, Data 0.517s, Loss (0.864|0.215|0.020|0.011), Top1 (76.47%|96.11%|99.95%|99.94%|)]\n",
      "100%|██████████| 20/20 [00:03<00:00,  6.18it/s]\n",
      "Training :   0%|          | 0/100 [00:00<?, ?it/s]"
     ]
    },
    {
     "name": "stdout",
     "output_type": "stream",
     "text": [
      "Adjusting learning rate of group 0 to 1.0000e-03.\n",
      "Epoch 143/200: lr=0.0010, mean batch time = 0.74s, mean data loading time = 0.52, Training loss = 0.8643,0.2155,0.0196,0.0112, Test accuracy = 65.29%,72.25%,76.49%,76.61%,\n"
     ]
    },
    {
     "name": "stderr",
     "output_type": "stream",
     "text": [
      "Training : 100%|██████████| 100/100 [01:15<00:00,  1.33it/s, Msg=Time 0.748s, Data 0.522s, Loss (0.857|0.213|0.019|0.011), Top1 (76.98%|96.22%|99.95%|99.95%|)]\n",
      "100%|██████████| 20/20 [00:03<00:00,  6.03it/s]\n",
      "Training :   0%|          | 0/100 [00:00<?, ?it/s]"
     ]
    },
    {
     "name": "stdout",
     "output_type": "stream",
     "text": [
      "Adjusting learning rate of group 0 to 1.0000e-03.\n",
      "Epoch 144/200: lr=0.0010, mean batch time = 0.75s, mean data loading time = 0.52, Training loss = 0.8573,0.2128,0.0190,0.0110, Test accuracy = 65.07%,72.34%,76.69%,76.81%,\n"
     ]
    },
    {
     "name": "stderr",
     "output_type": "stream",
     "text": [
      "Training : 100%|██████████| 100/100 [01:14<00:00,  1.35it/s, Msg=Time 0.737s, Data 0.516s, Loss (0.860|0.214|0.019|0.011), Top1 (76.79%|96.16%|99.96%|99.95%|)]\n",
      "100%|██████████| 20/20 [00:03<00:00,  6.40it/s]\n",
      "Training :   0%|          | 0/100 [00:00<?, ?it/s]"
     ]
    },
    {
     "name": "stdout",
     "output_type": "stream",
     "text": [
      "Adjusting learning rate of group 0 to 1.0000e-03.\n",
      "Epoch 145/200: lr=0.0010, mean batch time = 0.74s, mean data loading time = 0.52, Training loss = 0.8596,0.2139,0.0192,0.0111, Test accuracy = 65.17%,72.34%,76.66%,76.67%,\n"
     ]
    },
    {
     "name": "stderr",
     "output_type": "stream",
     "text": [
      "Training : 100%|██████████| 100/100 [01:13<00:00,  1.35it/s, Msg=Time 0.733s, Data 0.514s, Loss (0.859|0.214|0.019|0.011), Top1 (76.72%|96.20%|99.94%|99.95%|)]\n",
      "100%|██████████| 20/20 [00:03<00:00,  6.11it/s]\n",
      "Training :   0%|          | 0/100 [00:00<?, ?it/s]"
     ]
    },
    {
     "name": "stdout",
     "output_type": "stream",
     "text": [
      "Adjusting learning rate of group 0 to 1.0000e-03.\n",
      "Epoch 146/200: lr=0.0010, mean batch time = 0.73s, mean data loading time = 0.51, Training loss = 0.8592,0.2138,0.0194,0.0111, Test accuracy = 65.09%,72.12%,76.74%,76.93%,\n"
     ]
    },
    {
     "name": "stderr",
     "output_type": "stream",
     "text": [
      "Training : 100%|██████████| 100/100 [01:15<00:00,  1.33it/s, Msg=Time 0.745s, Data 0.521s, Loss (0.856|0.211|0.019|0.011), Top1 (76.89%|96.20%|99.95%|99.94%|)] \n",
      "100%|██████████| 20/20 [00:03<00:00,  6.13it/s]\n",
      "Training :   0%|          | 0/100 [00:00<?, ?it/s]"
     ]
    },
    {
     "name": "stdout",
     "output_type": "stream",
     "text": [
      "Adjusting learning rate of group 0 to 1.0000e-03.\n",
      "Epoch 147/200: lr=0.0010, mean batch time = 0.74s, mean data loading time = 0.52, Training loss = 0.8556,0.2112,0.0192,0.0110, Test accuracy = 65.15%,72.26%,76.63%,76.71%,\n"
     ]
    },
    {
     "name": "stderr",
     "output_type": "stream",
     "text": [
      "Training : 100%|██████████| 100/100 [01:14<00:00,  1.34it/s, Msg=Time 0.743s, Data 0.519s, Loss (0.856|0.209|0.019|0.011), Top1 (76.75%|96.28%|99.95%|99.95%|)]\n",
      "100%|██████████| 20/20 [00:03<00:00,  6.14it/s]\n",
      "Training :   0%|          | 0/100 [00:00<?, ?it/s]"
     ]
    },
    {
     "name": "stdout",
     "output_type": "stream",
     "text": [
      "Adjusting learning rate of group 0 to 1.0000e-03.\n",
      "Epoch 148/200: lr=0.0010, mean batch time = 0.74s, mean data loading time = 0.52, Training loss = 0.8564,0.2094,0.0188,0.0108, Test accuracy = 65.12%,72.18%,76.60%,76.72%,\n"
     ]
    },
    {
     "name": "stderr",
     "output_type": "stream",
     "text": [
      "Training : 100%|██████████| 100/100 [01:16<00:00,  1.31it/s, Msg=Time 0.759s, Data 0.530s, Loss (0.855|0.210|0.019|0.011), Top1 (76.98%|96.27%|99.96%|99.96%|)]\n",
      "100%|██████████| 20/20 [00:03<00:00,  6.20it/s]\n",
      "Training :   0%|          | 0/100 [00:00<?, ?it/s]"
     ]
    },
    {
     "name": "stdout",
     "output_type": "stream",
     "text": [
      "Adjusting learning rate of group 0 to 1.0000e-03.\n",
      "Epoch 149/200: lr=0.0010, mean batch time = 0.76s, mean data loading time = 0.53, Training loss = 0.8552,0.2102,0.0190,0.0108, Test accuracy = 65.23%,72.29%,76.68%,76.76%,\n"
     ]
    },
    {
     "name": "stderr",
     "output_type": "stream",
     "text": [
      "Training : 100%|██████████| 100/100 [01:15<00:00,  1.32it/s, Msg=Time 0.754s, Data 0.527s, Loss (0.855|0.208|0.019|0.011), Top1 (76.81%|96.32%|99.96%|99.97%|)] \n",
      "100%|██████████| 20/20 [00:03<00:00,  6.43it/s]\n",
      "Training :   0%|          | 0/100 [00:00<?, ?it/s]"
     ]
    },
    {
     "name": "stdout",
     "output_type": "stream",
     "text": [
      "Adjusting learning rate of group 0 to 1.0000e-03.\n",
      "Epoch 150/200: lr=0.0010, mean batch time = 0.75s, mean data loading time = 0.53, Training loss = 0.8546,0.2078,0.0186,0.0106, Test accuracy = 65.06%,72.21%,76.62%,76.76%,\n"
     ]
    },
    {
     "name": "stderr",
     "output_type": "stream",
     "text": [
      "Training : 100%|██████████| 100/100 [01:16<00:00,  1.31it/s, Msg=Time 0.755s, Data 0.530s, Loss (0.855|0.206|0.019|0.011), Top1 (76.85%|96.43%|99.95%|99.94%|)]\n",
      "100%|██████████| 20/20 [00:03<00:00,  6.38it/s]\n",
      "Training :   0%|          | 0/100 [00:00<?, ?it/s]"
     ]
    },
    {
     "name": "stdout",
     "output_type": "stream",
     "text": [
      "Adjusting learning rate of group 0 to 1.0000e-03.\n",
      "Epoch 151/200: lr=0.0010, mean batch time = 0.76s, mean data loading time = 0.53, Training loss = 0.8555,0.2063,0.0188,0.0108, Test accuracy = 65.29%,72.34%,76.76%,77.00%,\n"
     ]
    },
    {
     "name": "stderr",
     "output_type": "stream",
     "text": [
      "Training : 100%|██████████| 100/100 [01:14<00:00,  1.35it/s, Msg=Time 0.737s, Data 0.514s, Loss (0.853|0.206|0.018|0.010), Top1 (77.13%|96.42%|99.95%|99.96%|)]\n",
      "100%|██████████| 20/20 [00:03<00:00,  6.47it/s]\n",
      "Training :   0%|          | 0/100 [00:00<?, ?it/s]"
     ]
    },
    {
     "name": "stdout",
     "output_type": "stream",
     "text": [
      "Adjusting learning rate of group 0 to 1.0000e-03.\n",
      "Epoch 152/200: lr=0.0010, mean batch time = 0.74s, mean data loading time = 0.51, Training loss = 0.8529,0.2056,0.0184,0.0104, Test accuracy = 65.21%,72.23%,76.51%,76.63%,\n"
     ]
    },
    {
     "name": "stderr",
     "output_type": "stream",
     "text": [
      "Training : 100%|██████████| 100/100 [01:14<00:00,  1.34it/s, Msg=Time 0.741s, Data 0.518s, Loss (0.853|0.206|0.018|0.011), Top1 (76.83%|96.35%|99.94%|99.95%|)]\n",
      "100%|██████████| 20/20 [00:03<00:00,  6.34it/s]\n",
      "Training :   0%|          | 0/100 [00:00<?, ?it/s]"
     ]
    },
    {
     "name": "stdout",
     "output_type": "stream",
     "text": [
      "Adjusting learning rate of group 0 to 1.0000e-03.\n",
      "Epoch 153/200: lr=0.0010, mean batch time = 0.74s, mean data loading time = 0.52, Training loss = 0.8526,0.2062,0.0184,0.0106, Test accuracy = 65.36%,72.18%,76.80%,76.66%,\n"
     ]
    },
    {
     "name": "stderr",
     "output_type": "stream",
     "text": [
      "Training : 100%|██████████| 100/100 [01:16<00:00,  1.31it/s, Msg=Time 0.757s, Data 0.532s, Loss (0.854|0.204|0.018|0.010), Top1 (76.98%|96.53%|99.96%|99.96%|)]\n",
      "100%|██████████| 20/20 [00:03<00:00,  6.31it/s]\n",
      "Training :   0%|          | 0/100 [00:00<?, ?it/s]"
     ]
    },
    {
     "name": "stdout",
     "output_type": "stream",
     "text": [
      "Adjusting learning rate of group 0 to 1.0000e-03.\n",
      "Epoch 154/200: lr=0.0010, mean batch time = 0.76s, mean data loading time = 0.53, Training loss = 0.8540,0.2043,0.0182,0.0103, Test accuracy = 65.19%,72.61%,76.52%,76.75%,\n"
     ]
    },
    {
     "name": "stderr",
     "output_type": "stream",
     "text": [
      "Training : 100%|██████████| 100/100 [01:13<00:00,  1.36it/s, Msg=Time 0.726s, Data 0.509s, Loss (0.849|0.206|0.018|0.010), Top1 (77.07%|96.41%|99.96%|99.95%|)]\n",
      "100%|██████████| 20/20 [00:03<00:00,  6.09it/s]\n",
      "Training :   0%|          | 0/100 [00:00<?, ?it/s]"
     ]
    },
    {
     "name": "stdout",
     "output_type": "stream",
     "text": [
      "Adjusting learning rate of group 0 to 1.0000e-03.\n",
      "Epoch 155/200: lr=0.0010, mean batch time = 0.73s, mean data loading time = 0.51, Training loss = 0.8490,0.2061,0.0184,0.0105, Test accuracy = 65.08%,72.21%,76.74%,76.86%,\n"
     ]
    },
    {
     "name": "stderr",
     "output_type": "stream",
     "text": [
      "Training : 100%|██████████| 100/100 [01:14<00:00,  1.34it/s, Msg=Time 0.741s, Data 0.519s, Loss (0.852|0.204|0.019|0.011), Top1 (77.08%|96.47%|99.96%|99.95%|)]\n",
      "100%|██████████| 20/20 [00:03<00:00,  5.59it/s]\n",
      "Training :   0%|          | 0/100 [00:00<?, ?it/s]"
     ]
    },
    {
     "name": "stdout",
     "output_type": "stream",
     "text": [
      "Adjusting learning rate of group 0 to 1.0000e-03.\n",
      "Epoch 156/200: lr=0.0010, mean batch time = 0.74s, mean data loading time = 0.52, Training loss = 0.8517,0.2039,0.0187,0.0110, Test accuracy = 65.29%,72.20%,76.72%,76.74%,\n"
     ]
    },
    {
     "name": "stderr",
     "output_type": "stream",
     "text": [
      "Training : 100%|██████████| 100/100 [01:15<00:00,  1.33it/s, Msg=Time 0.746s, Data 0.524s, Loss (0.851|0.203|0.019|0.011), Top1 (77.01%|96.58%|99.95%|99.96%|)]\n",
      "100%|██████████| 20/20 [00:03<00:00,  6.26it/s]\n",
      "Training :   0%|          | 0/100 [00:00<?, ?it/s]"
     ]
    },
    {
     "name": "stdout",
     "output_type": "stream",
     "text": [
      "Adjusting learning rate of group 0 to 1.0000e-03.\n",
      "Epoch 157/200: lr=0.0010, mean batch time = 0.75s, mean data loading time = 0.52, Training loss = 0.8513,0.2028,0.0187,0.0108, Test accuracy = 65.17%,72.34%,76.61%,76.73%,\n"
     ]
    },
    {
     "name": "stderr",
     "output_type": "stream",
     "text": [
      "Training : 100%|██████████| 100/100 [01:16<00:00,  1.30it/s, Msg=Time 0.762s, Data 0.536s, Loss (0.849|0.200|0.018|0.011), Top1 (77.02%|96.58%|99.96%|99.95%|)]\n",
      "100%|██████████| 20/20 [00:03<00:00,  6.47it/s]\n",
      "Training :   0%|          | 0/100 [00:00<?, ?it/s]"
     ]
    },
    {
     "name": "stdout",
     "output_type": "stream",
     "text": [
      "Adjusting learning rate of group 0 to 1.0000e-03.\n",
      "Epoch 158/200: lr=0.0010, mean batch time = 0.76s, mean data loading time = 0.54, Training loss = 0.8488,0.2003,0.0184,0.0106, Test accuracy = 65.17%,72.23%,76.65%,76.73%,\n"
     ]
    },
    {
     "name": "stderr",
     "output_type": "stream",
     "text": [
      "Training : 100%|██████████| 100/100 [01:15<00:00,  1.33it/s, Msg=Time 0.748s, Data 0.524s, Loss (0.849|0.201|0.018|0.010), Top1 (77.32%|96.62%|99.96%|99.95%|)]\n",
      "100%|██████████| 20/20 [00:03<00:00,  6.29it/s]\n",
      "Training :   0%|          | 0/100 [00:00<?, ?it/s]"
     ]
    },
    {
     "name": "stdout",
     "output_type": "stream",
     "text": [
      "Adjusting learning rate of group 0 to 1.0000e-03.\n",
      "Epoch 159/200: lr=0.0010, mean batch time = 0.75s, mean data loading time = 0.52, Training loss = 0.8487,0.2007,0.0182,0.0104, Test accuracy = 65.15%,72.24%,76.58%,76.86%,\n"
     ]
    },
    {
     "name": "stderr",
     "output_type": "stream",
     "text": [
      "Training : 100%|██████████| 100/100 [01:14<00:00,  1.34it/s, Msg=Time 0.742s, Data 0.519s, Loss (0.848|0.200|0.018|0.011), Top1 (77.08%|96.63%|99.95%|99.95%|)]\n",
      "100%|██████████| 20/20 [00:03<00:00,  6.36it/s]\n",
      "Training :   0%|          | 0/100 [00:00<?, ?it/s]"
     ]
    },
    {
     "name": "stdout",
     "output_type": "stream",
     "text": [
      "Adjusting learning rate of group 0 to 1.0000e-03.\n",
      "Epoch 160/200: lr=0.0010, mean batch time = 0.74s, mean data loading time = 0.52, Training loss = 0.8484,0.1996,0.0184,0.0107, Test accuracy = 64.99%,72.14%,76.67%,76.76%,\n"
     ]
    },
    {
     "name": "stderr",
     "output_type": "stream",
     "text": [
      "Training : 100%|██████████| 100/100 [01:15<00:00,  1.32it/s, Msg=Time 0.749s, Data 0.525s, Loss (0.847|0.200|0.018|0.010), Top1 (77.14%|96.57%|99.97%|99.97%|)]\n",
      "100%|██████████| 20/20 [00:03<00:00,  6.17it/s]\n",
      "Training :   0%|          | 0/100 [00:00<?, ?it/s]"
     ]
    },
    {
     "name": "stdout",
     "output_type": "stream",
     "text": [
      "Adjusting learning rate of group 0 to 1.0000e-03.\n",
      "Epoch 161/200: lr=0.0010, mean batch time = 0.75s, mean data loading time = 0.53, Training loss = 0.8466,0.1996,0.0178,0.0102, Test accuracy = 65.26%,72.19%,76.63%,76.60%,\n"
     ]
    },
    {
     "name": "stderr",
     "output_type": "stream",
     "text": [
      "Training : 100%|██████████| 100/100 [01:14<00:00,  1.34it/s, Msg=Time 0.738s, Data 0.516s, Loss (0.845|0.198|0.018|0.011), Top1 (77.16%|96.68%|99.97%|99.95%|)]\n",
      "100%|██████████| 20/20 [00:03<00:00,  6.03it/s]\n",
      "Training :   0%|          | 0/100 [00:00<?, ?it/s]"
     ]
    },
    {
     "name": "stdout",
     "output_type": "stream",
     "text": [
      "Adjusting learning rate of group 0 to 1.0000e-03.\n",
      "Epoch 162/200: lr=0.0010, mean batch time = 0.74s, mean data loading time = 0.52, Training loss = 0.8452,0.1979,0.0180,0.0105, Test accuracy = 65.13%,72.21%,76.56%,76.71%,\n"
     ]
    },
    {
     "name": "stderr",
     "output_type": "stream",
     "text": [
      "Training : 100%|██████████| 100/100 [01:16<00:00,  1.31it/s, Msg=Time 0.760s, Data 0.532s, Loss (0.843|0.198|0.018|0.010), Top1 (77.24%|96.62%|99.96%|99.96%|)]\n",
      "100%|██████████| 20/20 [00:03<00:00,  6.61it/s]\n",
      "Training :   0%|          | 0/100 [00:00<?, ?it/s]"
     ]
    },
    {
     "name": "stdout",
     "output_type": "stream",
     "text": [
      "Adjusting learning rate of group 0 to 1.0000e-03.\n",
      "Epoch 163/200: lr=0.0010, mean batch time = 0.76s, mean data loading time = 0.53, Training loss = 0.8430,0.1984,0.0183,0.0105, Test accuracy = 65.23%,72.29%,76.63%,76.42%,\n"
     ]
    },
    {
     "name": "stderr",
     "output_type": "stream",
     "text": [
      "Training : 100%|██████████| 100/100 [01:15<00:00,  1.33it/s, Msg=Time 0.747s, Data 0.523s, Loss (0.846|0.199|0.018|0.011), Top1 (77.15%|96.72%|99.94%|99.97%|)]\n",
      "100%|██████████| 20/20 [00:03<00:00,  6.16it/s]\n",
      "Training :   0%|          | 0/100 [00:00<?, ?it/s]"
     ]
    },
    {
     "name": "stdout",
     "output_type": "stream",
     "text": [
      "Adjusting learning rate of group 0 to 1.0000e-03.\n",
      "Epoch 164/200: lr=0.0010, mean batch time = 0.75s, mean data loading time = 0.52, Training loss = 0.8458,0.1986,0.0184,0.0107, Test accuracy = 65.24%,72.18%,76.58%,76.67%,\n"
     ]
    },
    {
     "name": "stderr",
     "output_type": "stream",
     "text": [
      "Training : 100%|██████████| 100/100 [01:13<00:00,  1.35it/s, Msg=Time 0.732s, Data 0.512s, Loss (0.841|0.197|0.018|0.010), Top1 (77.56%|96.67%|99.96%|99.95%|)]\n",
      "100%|██████████| 20/20 [00:03<00:00,  5.86it/s]\n",
      "Training :   0%|          | 0/100 [00:00<?, ?it/s]"
     ]
    },
    {
     "name": "stdout",
     "output_type": "stream",
     "text": [
      "Adjusting learning rate of group 0 to 1.0000e-03.\n",
      "Epoch 165/200: lr=0.0010, mean batch time = 0.73s, mean data loading time = 0.51, Training loss = 0.8407,0.1969,0.0179,0.0103, Test accuracy = 65.21%,72.19%,76.66%,76.73%,\n"
     ]
    },
    {
     "name": "stderr",
     "output_type": "stream",
     "text": [
      "Training : 100%|██████████| 100/100 [01:16<00:00,  1.30it/s, Msg=Time 0.762s, Data 0.534s, Loss (0.842|0.198|0.018|0.011), Top1 (77.36%|96.65%|99.96%|99.95%|)]\n",
      "100%|██████████| 20/20 [00:03<00:00,  6.33it/s]\n",
      "Training :   0%|          | 0/100 [00:00<?, ?it/s]"
     ]
    },
    {
     "name": "stdout",
     "output_type": "stream",
     "text": [
      "Adjusting learning rate of group 0 to 1.0000e-03.\n",
      "Epoch 166/200: lr=0.0010, mean batch time = 0.76s, mean data loading time = 0.53, Training loss = 0.8416,0.1980,0.0183,0.0106, Test accuracy = 65.14%,72.22%,76.64%,76.75%,\n"
     ]
    },
    {
     "name": "stderr",
     "output_type": "stream",
     "text": [
      "Training : 100%|██████████| 100/100 [01:14<00:00,  1.34it/s, Msg=Time 0.742s, Data 0.518s, Loss (0.838|0.195|0.018|0.010), Top1 (77.56%|96.81%|99.94%|99.95%|)]\n",
      "100%|██████████| 20/20 [00:03<00:00,  5.96it/s]\n",
      "Training :   0%|          | 0/100 [00:00<?, ?it/s]"
     ]
    },
    {
     "name": "stdout",
     "output_type": "stream",
     "text": [
      "Adjusting learning rate of group 0 to 1.0000e-03.\n",
      "Epoch 167/200: lr=0.0010, mean batch time = 0.74s, mean data loading time = 0.52, Training loss = 0.8377,0.1955,0.0181,0.0104, Test accuracy = 65.02%,72.45%,76.60%,76.75%,\n"
     ]
    },
    {
     "name": "stderr",
     "output_type": "stream",
     "text": [
      "Training : 100%|██████████| 100/100 [01:17<00:00,  1.29it/s, Msg=Time 0.767s, Data 0.542s, Loss (0.839|0.195|0.018|0.011), Top1 (77.52%|96.80%|99.97%|99.95%|)]\n",
      "100%|██████████| 20/20 [00:03<00:00,  6.30it/s]\n",
      "Training :   0%|          | 0/100 [00:00<?, ?it/s]"
     ]
    },
    {
     "name": "stdout",
     "output_type": "stream",
     "text": [
      "Adjusting learning rate of group 0 to 1.0000e-03.\n",
      "Epoch 168/200: lr=0.0010, mean batch time = 0.77s, mean data loading time = 0.54, Training loss = 0.8392,0.1954,0.0182,0.0106, Test accuracy = 65.16%,72.48%,76.67%,76.85%,\n"
     ]
    },
    {
     "name": "stderr",
     "output_type": "stream",
     "text": [
      "Training : 100%|██████████| 100/100 [01:14<00:00,  1.34it/s, Msg=Time 0.739s, Data 0.518s, Loss (0.841|0.195|0.018|0.011), Top1 (77.44%|96.84%|99.96%|99.96%|)]\n",
      "100%|██████████| 20/20 [00:03<00:00,  6.40it/s]\n",
      "Training :   0%|          | 0/100 [00:00<?, ?it/s]"
     ]
    },
    {
     "name": "stdout",
     "output_type": "stream",
     "text": [
      "Adjusting learning rate of group 0 to 1.0000e-03.\n",
      "Epoch 169/200: lr=0.0010, mean batch time = 0.74s, mean data loading time = 0.52, Training loss = 0.8413,0.1949,0.0182,0.0106, Test accuracy = 65.35%,72.33%,76.71%,76.75%,\n"
     ]
    },
    {
     "name": "stderr",
     "output_type": "stream",
     "text": [
      "Training : 100%|██████████| 100/100 [01:15<00:00,  1.33it/s, Msg=Time 0.748s, Data 0.524s, Loss (0.837|0.193|0.018|0.010), Top1 (77.46%|96.87%|99.95%|99.97%|)]\n",
      "100%|██████████| 20/20 [00:03<00:00,  6.39it/s]\n",
      "Training :   0%|          | 0/100 [00:00<?, ?it/s]"
     ]
    },
    {
     "name": "stdout",
     "output_type": "stream",
     "text": [
      "Adjusting learning rate of group 0 to 1.0000e-03.\n",
      "Epoch 170/200: lr=0.0010, mean batch time = 0.75s, mean data loading time = 0.52, Training loss = 0.8375,0.1929,0.0179,0.0104, Test accuracy = 65.26%,72.33%,76.71%,76.75%,\n"
     ]
    },
    {
     "name": "stderr",
     "output_type": "stream",
     "text": [
      "Training : 100%|██████████| 100/100 [01:13<00:00,  1.36it/s, Msg=Time 0.729s, Data 0.510s, Loss (0.839|0.195|0.018|0.010), Top1 (77.46%|96.72%|99.96%|99.96%|)]\n",
      "100%|██████████| 20/20 [00:03<00:00,  6.04it/s]\n",
      "Training :   0%|          | 0/100 [00:00<?, ?it/s]"
     ]
    },
    {
     "name": "stdout",
     "output_type": "stream",
     "text": [
      "Adjusting learning rate of group 0 to 1.0000e-03.\n",
      "Epoch 171/200: lr=0.0010, mean batch time = 0.73s, mean data loading time = 0.51, Training loss = 0.8390,0.1949,0.0179,0.0104, Test accuracy = 65.04%,72.42%,76.58%,76.68%,\n"
     ]
    },
    {
     "name": "stderr",
     "output_type": "stream",
     "text": [
      "Training : 100%|██████████| 100/100 [01:14<00:00,  1.34it/s, Msg=Time 0.740s, Data 0.518s, Loss (0.840|0.191|0.018|0.011), Top1 (77.45%|97.03%|99.96%|99.96%|)]\n",
      "100%|██████████| 20/20 [00:03<00:00,  6.01it/s]\n",
      "Training :   0%|          | 0/100 [00:00<?, ?it/s]"
     ]
    },
    {
     "name": "stdout",
     "output_type": "stream",
     "text": [
      "Adjusting learning rate of group 0 to 1.0000e-03.\n",
      "Epoch 172/200: lr=0.0010, mean batch time = 0.74s, mean data loading time = 0.52, Training loss = 0.8396,0.1913,0.0181,0.0106, Test accuracy = 65.27%,72.29%,76.73%,76.77%,\n"
     ]
    },
    {
     "name": "stderr",
     "output_type": "stream",
     "text": [
      "Training : 100%|██████████| 100/100 [01:13<00:00,  1.36it/s, Msg=Time 0.731s, Data 0.511s, Loss (0.838|0.193|0.018|0.011), Top1 (77.38%|96.76%|99.94%|99.95%|)]\n",
      "100%|██████████| 20/20 [00:03<00:00,  5.53it/s]\n",
      "Training :   0%|          | 0/100 [00:00<?, ?it/s]"
     ]
    },
    {
     "name": "stdout",
     "output_type": "stream",
     "text": [
      "Adjusting learning rate of group 0 to 1.0000e-03.\n",
      "Epoch 173/200: lr=0.0010, mean batch time = 0.73s, mean data loading time = 0.51, Training loss = 0.8381,0.1925,0.0183,0.0106, Test accuracy = 65.10%,72.11%,76.63%,76.64%,\n"
     ]
    },
    {
     "name": "stderr",
     "output_type": "stream",
     "text": [
      "Training : 100%|██████████| 100/100 [01:14<00:00,  1.34it/s, Msg=Time 0.742s, Data 0.518s, Loss (0.837|0.191|0.018|0.011), Top1 (77.38%|96.91%|99.96%|99.94%|)]\n",
      "100%|██████████| 20/20 [00:03<00:00,  6.24it/s]\n",
      "Training :   0%|          | 0/100 [00:00<?, ?it/s]"
     ]
    },
    {
     "name": "stdout",
     "output_type": "stream",
     "text": [
      "Adjusting learning rate of group 0 to 1.0000e-03.\n",
      "Epoch 174/200: lr=0.0010, mean batch time = 0.74s, mean data loading time = 0.52, Training loss = 0.8372,0.1910,0.0182,0.0107, Test accuracy = 65.10%,72.32%,76.53%,76.83%,\n"
     ]
    },
    {
     "name": "stderr",
     "output_type": "stream",
     "text": [
      "Training : 100%|██████████| 100/100 [01:14<00:00,  1.34it/s, Msg=Time 0.740s, Data 0.515s, Loss (0.836|0.191|0.018|0.011), Top1 (77.37%|96.90%|99.95%|99.94%|)]\n",
      "100%|██████████| 20/20 [00:03<00:00,  5.99it/s]\n",
      "Training :   0%|          | 0/100 [00:00<?, ?it/s]"
     ]
    },
    {
     "name": "stdout",
     "output_type": "stream",
     "text": [
      "Adjusting learning rate of group 0 to 1.0000e-03.\n",
      "Epoch 175/200: lr=0.0010, mean batch time = 0.74s, mean data loading time = 0.51, Training loss = 0.8356,0.1910,0.0184,0.0109, Test accuracy = 64.90%,72.26%,76.61%,76.54%,\n"
     ]
    },
    {
     "name": "stderr",
     "output_type": "stream",
     "text": [
      "Training : 100%|██████████| 100/100 [01:17<00:00,  1.29it/s, Msg=Time 0.772s, Data 0.545s, Loss (0.833|0.190|0.018|0.011), Top1 (77.62%|97.00%|99.96%|99.95%|)] \n",
      "100%|██████████| 20/20 [00:02<00:00,  6.92it/s]\n",
      "Training :   0%|          | 0/100 [00:00<?, ?it/s]"
     ]
    },
    {
     "name": "stdout",
     "output_type": "stream",
     "text": [
      "Adjusting learning rate of group 0 to 1.0000e-03.\n",
      "Epoch 176/200: lr=0.0010, mean batch time = 0.77s, mean data loading time = 0.54, Training loss = 0.8335,0.1904,0.0182,0.0107, Test accuracy = 65.13%,72.02%,76.69%,76.51%,\n"
     ]
    },
    {
     "name": "stderr",
     "output_type": "stream",
     "text": [
      "Training : 100%|██████████| 100/100 [01:14<00:00,  1.35it/s, Msg=Time 0.736s, Data 0.515s, Loss (0.833|0.190|0.018|0.011), Top1 (77.64%|96.93%|99.95%|99.96%|)]\n",
      "100%|██████████| 20/20 [00:03<00:00,  6.08it/s]\n",
      "Training :   0%|          | 0/100 [00:00<?, ?it/s]"
     ]
    },
    {
     "name": "stdout",
     "output_type": "stream",
     "text": [
      "Adjusting learning rate of group 0 to 1.0000e-03.\n",
      "Epoch 177/200: lr=0.0010, mean batch time = 0.74s, mean data loading time = 0.52, Training loss = 0.8326,0.1899,0.0183,0.0106, Test accuracy = 65.34%,72.08%,76.64%,76.54%,\n"
     ]
    },
    {
     "name": "stderr",
     "output_type": "stream",
     "text": [
      "Training : 100%|██████████| 100/100 [01:14<00:00,  1.34it/s, Msg=Time 0.739s, Data 0.517s, Loss (0.834|0.189|0.018|0.010), Top1 (77.53%|96.96%|99.96%|99.95%|)]\n",
      "100%|██████████| 20/20 [00:03<00:00,  5.96it/s]\n",
      "Training :   0%|          | 0/100 [00:00<?, ?it/s]"
     ]
    },
    {
     "name": "stdout",
     "output_type": "stream",
     "text": [
      "Adjusting learning rate of group 0 to 1.0000e-03.\n",
      "Epoch 178/200: lr=0.0010, mean batch time = 0.74s, mean data loading time = 0.52, Training loss = 0.8344,0.1893,0.0179,0.0104, Test accuracy = 65.09%,72.22%,76.45%,76.49%,\n"
     ]
    },
    {
     "name": "stderr",
     "output_type": "stream",
     "text": [
      "Training : 100%|██████████| 100/100 [01:15<00:00,  1.33it/s, Msg=Time 0.746s, Data 0.520s, Loss (0.833|0.189|0.018|0.011), Top1 (77.54%|96.96%|99.97%|99.97%|)]\n",
      "100%|██████████| 20/20 [00:03<00:00,  6.13it/s]\n",
      "Training :   0%|          | 0/100 [00:00<?, ?it/s]"
     ]
    },
    {
     "name": "stdout",
     "output_type": "stream",
     "text": [
      "Adjusting learning rate of group 0 to 1.0000e-04.\n",
      "Epoch 180/200: lr=0.0001, mean batch time = 0.75s, mean data loading time = 0.52, Training loss = 0.8334,0.1886,0.0181,0.0108, Test accuracy = 65.04%,72.14%,76.63%,76.63%,\n"
     ]
    },
    {
     "name": "stderr",
     "output_type": "stream",
     "text": [
      "Training : 100%|██████████| 100/100 [01:15<00:00,  1.32it/s, Msg=Time 0.752s, Data 0.523s, Loss (0.821|0.185|0.018|0.010), Top1 (77.93%|97.18%|99.96%|99.95%|)]\n",
      "100%|██████████| 20/20 [00:03<00:00,  6.17it/s]\n",
      "Training :   0%|          | 0/100 [00:00<?, ?it/s]"
     ]
    },
    {
     "name": "stdout",
     "output_type": "stream",
     "text": [
      "Adjusting learning rate of group 0 to 1.0000e-04.\n",
      "Epoch 181/200: lr=0.0001, mean batch time = 0.75s, mean data loading time = 0.52, Training loss = 0.8215,0.1846,0.0176,0.0103, Test accuracy = 65.17%,72.23%,76.71%,76.68%,\n"
     ]
    },
    {
     "name": "stderr",
     "output_type": "stream",
     "text": [
      "Training : 100%|██████████| 100/100 [01:14<00:00,  1.34it/s, Msg=Time 0.743s, Data 0.519s, Loss (0.825|0.182|0.017|0.010), Top1 (77.89%|97.16%|99.97%|99.97%|)]\n",
      "100%|██████████| 20/20 [00:03<00:00,  6.14it/s]\n",
      "Training :   0%|          | 0/100 [00:00<?, ?it/s]"
     ]
    },
    {
     "name": "stdout",
     "output_type": "stream",
     "text": [
      "Adjusting learning rate of group 0 to 1.0000e-04.\n",
      "Epoch 182/200: lr=0.0001, mean batch time = 0.74s, mean data loading time = 0.52, Training loss = 0.8251,0.1820,0.0174,0.0101, Test accuracy = 65.11%,72.16%,76.59%,76.72%,\n"
     ]
    },
    {
     "name": "stderr",
     "output_type": "stream",
     "text": [
      "Training : 100%|██████████| 100/100 [01:16<00:00,  1.31it/s, Msg=Time 0.759s, Data 0.533s, Loss (0.824|0.183|0.018|0.010), Top1 (77.89%|97.15%|99.96%|99.96%|)]\n",
      "100%|██████████| 20/20 [00:03<00:00,  6.37it/s]\n",
      "Training :   0%|          | 0/100 [00:00<?, ?it/s]"
     ]
    },
    {
     "name": "stdout",
     "output_type": "stream",
     "text": [
      "Adjusting learning rate of group 0 to 1.0000e-04.\n",
      "Epoch 183/200: lr=0.0001, mean batch time = 0.76s, mean data loading time = 0.53, Training loss = 0.8236,0.1829,0.0177,0.0104, Test accuracy = 65.21%,72.17%,76.55%,76.63%,\n"
     ]
    },
    {
     "name": "stderr",
     "output_type": "stream",
     "text": [
      "Training : 100%|██████████| 100/100 [01:15<00:00,  1.32it/s, Msg=Time 0.753s, Data 0.525s, Loss (0.825|0.183|0.017|0.010), Top1 (77.89%|97.22%|99.97%|99.97%|)]\n",
      "100%|██████████| 20/20 [00:03<00:00,  6.11it/s]\n",
      "Training :   0%|          | 0/100 [00:00<?, ?it/s]"
     ]
    },
    {
     "name": "stdout",
     "output_type": "stream",
     "text": [
      "Adjusting learning rate of group 0 to 1.0000e-04.\n",
      "Epoch 184/200: lr=0.0001, mean batch time = 0.75s, mean data loading time = 0.52, Training loss = 0.8249,0.1825,0.0173,0.0103, Test accuracy = 65.22%,72.11%,76.60%,76.81%,\n"
     ]
    },
    {
     "name": "stderr",
     "output_type": "stream",
     "text": [
      "Training : 100%|██████████| 100/100 [01:16<00:00,  1.31it/s, Msg=Time 0.758s, Data 0.534s, Loss (0.823|0.181|0.017|0.010), Top1 (78.04%|97.28%|99.96%|99.97%|)]\n",
      "100%|██████████| 20/20 [00:03<00:00,  6.11it/s]\n",
      "Training :   0%|          | 0/100 [00:00<?, ?it/s]"
     ]
    },
    {
     "name": "stdout",
     "output_type": "stream",
     "text": [
      "Adjusting learning rate of group 0 to 1.0000e-04.\n",
      "Epoch 185/200: lr=0.0001, mean batch time = 0.76s, mean data loading time = 0.53, Training loss = 0.8226,0.1814,0.0173,0.0101, Test accuracy = 65.27%,72.07%,76.51%,76.65%,\n"
     ]
    },
    {
     "name": "stderr",
     "output_type": "stream",
     "text": [
      "Training : 100%|██████████| 100/100 [01:18<00:00,  1.27it/s, Msg=Time 0.783s, Data 0.554s, Loss (0.823|0.181|0.017|0.010), Top1 (77.87%|97.20%|99.96%|99.96%|)]\n",
      "100%|██████████| 20/20 [00:03<00:00,  6.25it/s]\n",
      "Training :   0%|          | 0/100 [00:00<?, ?it/s]"
     ]
    },
    {
     "name": "stdout",
     "output_type": "stream",
     "text": [
      "Adjusting learning rate of group 0 to 1.0000e-04.\n",
      "Epoch 186/200: lr=0.0001, mean batch time = 0.78s, mean data loading time = 0.55, Training loss = 0.8227,0.1813,0.0172,0.0101, Test accuracy = 65.20%,72.14%,76.61%,76.60%,\n"
     ]
    },
    {
     "name": "stderr",
     "output_type": "stream",
     "text": [
      "Training : 100%|██████████| 100/100 [01:16<00:00,  1.31it/s, Msg=Time 0.760s, Data 0.530s, Loss (0.821|0.182|0.018|0.010), Top1 (78.18%|97.29%|99.97%|99.97%|)] \n",
      "100%|██████████| 20/20 [00:03<00:00,  6.31it/s]\n",
      "Training :   0%|          | 0/100 [00:00<?, ?it/s]"
     ]
    },
    {
     "name": "stdout",
     "output_type": "stream",
     "text": [
      "Adjusting learning rate of group 0 to 1.0000e-04.\n",
      "Epoch 187/200: lr=0.0001, mean batch time = 0.76s, mean data loading time = 0.53, Training loss = 0.8211,0.1823,0.0176,0.0102, Test accuracy = 65.29%,72.19%,76.64%,76.60%,\n"
     ]
    },
    {
     "name": "stderr",
     "output_type": "stream",
     "text": [
      "Training : 100%|██████████| 100/100 [01:16<00:00,  1.31it/s, Msg=Time 0.756s, Data 0.529s, Loss (0.822|0.183|0.018|0.010), Top1 (77.96%|97.17%|99.97%|99.96%|)]\n",
      "100%|██████████| 20/20 [00:03<00:00,  5.83it/s]\n",
      "Training :   0%|          | 0/100 [00:00<?, ?it/s]"
     ]
    },
    {
     "name": "stdout",
     "output_type": "stream",
     "text": [
      "Adjusting learning rate of group 0 to 1.0000e-04.\n",
      "Epoch 188/200: lr=0.0001, mean batch time = 0.76s, mean data loading time = 0.53, Training loss = 0.8220,0.1827,0.0178,0.0104, Test accuracy = 65.24%,72.14%,76.58%,76.58%,\n"
     ]
    },
    {
     "name": "stderr",
     "output_type": "stream",
     "text": [
      "Training : 100%|██████████| 100/100 [01:14<00:00,  1.34it/s, Msg=Time 0.742s, Data 0.519s, Loss (0.822|0.181|0.017|0.010), Top1 (78.11%|97.21%|99.96%|99.95%|)]\n",
      "100%|██████████| 20/20 [00:03<00:00,  5.77it/s]\n",
      "Training :   0%|          | 0/100 [00:00<?, ?it/s]"
     ]
    },
    {
     "name": "stdout",
     "output_type": "stream",
     "text": [
      "Adjusting learning rate of group 0 to 1.0000e-04.\n",
      "Epoch 189/200: lr=0.0001, mean batch time = 0.74s, mean data loading time = 0.52, Training loss = 0.8216,0.1807,0.0175,0.0103, Test accuracy = 65.19%,72.07%,76.57%,76.60%,\n"
     ]
    },
    {
     "name": "stderr",
     "output_type": "stream",
     "text": [
      "Training : 100%|██████████| 100/100 [01:16<00:00,  1.31it/s, Msg=Time 0.755s, Data 0.530s, Loss (0.819|0.182|0.017|0.010), Top1 (78.10%|97.23%|99.97%|99.97%|)]\n",
      "100%|██████████| 20/20 [00:03<00:00,  6.11it/s]\n",
      "Training :   0%|          | 0/100 [00:00<?, ?it/s]"
     ]
    },
    {
     "name": "stdout",
     "output_type": "stream",
     "text": [
      "Adjusting learning rate of group 0 to 1.0000e-04.\n",
      "Epoch 190/200: lr=0.0001, mean batch time = 0.75s, mean data loading time = 0.53, Training loss = 0.8193,0.1818,0.0172,0.0100, Test accuracy = 65.23%,72.16%,76.45%,76.55%,\n"
     ]
    },
    {
     "name": "stderr",
     "output_type": "stream",
     "text": [
      "Training : 100%|██████████| 100/100 [01:17<00:00,  1.29it/s, Msg=Time 0.767s, Data 0.538s, Loss (0.819|0.181|0.017|0.010), Top1 (77.92%|97.26%|99.97%|99.96%|)]\n",
      "100%|██████████| 20/20 [00:03<00:00,  6.50it/s]\n",
      "Training :   0%|          | 0/100 [00:00<?, ?it/s]"
     ]
    },
    {
     "name": "stdout",
     "output_type": "stream",
     "text": [
      "Adjusting learning rate of group 0 to 1.0000e-04.\n",
      "Epoch 191/200: lr=0.0001, mean batch time = 0.77s, mean data loading time = 0.54, Training loss = 0.8194,0.1806,0.0173,0.0101, Test accuracy = 65.29%,72.16%,76.60%,76.65%,\n"
     ]
    },
    {
     "name": "stderr",
     "output_type": "stream",
     "text": [
      "Training : 100%|██████████| 100/100 [01:14<00:00,  1.34it/s, Msg=Time 0.741s, Data 0.519s, Loss (0.824|0.181|0.017|0.010), Top1 (77.68%|97.36%|99.98%|99.98%|)]\n",
      "100%|██████████| 20/20 [00:03<00:00,  6.29it/s]\n",
      "Training :   0%|          | 0/100 [00:00<?, ?it/s]"
     ]
    },
    {
     "name": "stdout",
     "output_type": "stream",
     "text": [
      "Adjusting learning rate of group 0 to 1.0000e-04.\n",
      "Epoch 192/200: lr=0.0001, mean batch time = 0.74s, mean data loading time = 0.52, Training loss = 0.8244,0.1809,0.0171,0.0098, Test accuracy = 65.33%,72.07%,76.60%,76.57%,\n"
     ]
    },
    {
     "name": "stderr",
     "output_type": "stream",
     "text": [
      "Training : 100%|██████████| 100/100 [01:17<00:00,  1.28it/s, Msg=Time 0.773s, Data 0.541s, Loss (0.822|0.180|0.017|0.010), Top1 (78.06%|97.12%|99.97%|99.97%|)]\n",
      "100%|██████████| 20/20 [00:03<00:00,  6.60it/s]\n",
      "Training :   0%|          | 0/100 [00:00<?, ?it/s]"
     ]
    },
    {
     "name": "stdout",
     "output_type": "stream",
     "text": [
      "Adjusting learning rate of group 0 to 1.0000e-04.\n",
      "Epoch 193/200: lr=0.0001, mean batch time = 0.77s, mean data loading time = 0.54, Training loss = 0.8217,0.1798,0.0172,0.0101, Test accuracy = 65.30%,72.26%,76.59%,76.59%,\n"
     ]
    },
    {
     "name": "stderr",
     "output_type": "stream",
     "text": [
      "Training : 100%|██████████| 100/100 [01:16<00:00,  1.31it/s, Msg=Time 0.755s, Data 0.531s, Loss (0.823|0.182|0.018|0.010), Top1 (77.94%|97.25%|99.97%|99.96%|)]\n",
      "100%|██████████| 20/20 [00:03<00:00,  6.22it/s]\n",
      "Training :   0%|          | 0/100 [00:00<?, ?it/s]"
     ]
    },
    {
     "name": "stdout",
     "output_type": "stream",
     "text": [
      "Adjusting learning rate of group 0 to 1.0000e-04.\n",
      "Epoch 194/200: lr=0.0001, mean batch time = 0.76s, mean data loading time = 0.53, Training loss = 0.8227,0.1819,0.0176,0.0102, Test accuracy = 65.36%,72.25%,76.53%,76.68%,\n"
     ]
    },
    {
     "name": "stderr",
     "output_type": "stream",
     "text": [
      "Training : 100%|██████████| 100/100 [01:17<00:00,  1.29it/s, Msg=Time 0.767s, Data 0.540s, Loss (0.819|0.180|0.017|0.010), Top1 (78.24%|97.17%|99.98%|99.97%|)]\n",
      "100%|██████████| 20/20 [00:03<00:00,  6.57it/s]\n",
      "Training :   0%|          | 0/100 [00:00<?, ?it/s]"
     ]
    },
    {
     "name": "stdout",
     "output_type": "stream",
     "text": [
      "Adjusting learning rate of group 0 to 1.0000e-04.\n",
      "Epoch 195/200: lr=0.0001, mean batch time = 0.77s, mean data loading time = 0.54, Training loss = 0.8189,0.1800,0.0170,0.0099, Test accuracy = 65.36%,72.05%,76.52%,76.64%,\n"
     ]
    },
    {
     "name": "stderr",
     "output_type": "stream",
     "text": [
      "Training : 100%|██████████| 100/100 [01:15<00:00,  1.32it/s, Msg=Time 0.752s, Data 0.525s, Loss (0.823|0.182|0.018|0.010), Top1 (77.90%|97.27%|99.97%|99.97%|)]\n",
      "100%|██████████| 20/20 [00:03<00:00,  6.36it/s]\n",
      "Training :   0%|          | 0/100 [00:00<?, ?it/s]"
     ]
    },
    {
     "name": "stdout",
     "output_type": "stream",
     "text": [
      "Adjusting learning rate of group 0 to 1.0000e-04.\n",
      "Epoch 196/200: lr=0.0001, mean batch time = 0.75s, mean data loading time = 0.53, Training loss = 0.8231,0.1824,0.0176,0.0102, Test accuracy = 65.24%,72.21%,76.68%,76.67%,\n"
     ]
    },
    {
     "name": "stderr",
     "output_type": "stream",
     "text": [
      "Training : 100%|██████████| 100/100 [01:17<00:00,  1.29it/s, Msg=Time 0.770s, Data 0.542s, Loss (0.821|0.181|0.017|0.010), Top1 (78.13%|97.34%|99.98%|99.97%|)]\n",
      "100%|██████████| 20/20 [00:03<00:00,  6.31it/s]\n",
      "Training :   0%|          | 0/100 [00:00<?, ?it/s]"
     ]
    },
    {
     "name": "stdout",
     "output_type": "stream",
     "text": [
      "Adjusting learning rate of group 0 to 1.0000e-04.\n",
      "Epoch 197/200: lr=0.0001, mean batch time = 0.77s, mean data loading time = 0.54, Training loss = 0.8206,0.1805,0.0172,0.0101, Test accuracy = 65.33%,72.18%,76.62%,76.79%,\n"
     ]
    },
    {
     "name": "stderr",
     "output_type": "stream",
     "text": [
      "Training : 100%|██████████| 100/100 [01:14<00:00,  1.34it/s, Msg=Time 0.738s, Data 0.515s, Loss (0.821|0.180|0.017|0.010), Top1 (77.84%|97.29%|99.97%|99.97%|)]\n",
      "100%|██████████| 20/20 [00:03<00:00,  5.86it/s]\n",
      "Training :   0%|          | 0/100 [00:00<?, ?it/s]"
     ]
    },
    {
     "name": "stdout",
     "output_type": "stream",
     "text": [
      "Adjusting learning rate of group 0 to 1.0000e-04.\n",
      "Epoch 198/200: lr=0.0001, mean batch time = 0.74s, mean data loading time = 0.51, Training loss = 0.8215,0.1795,0.0172,0.0099, Test accuracy = 65.24%,72.17%,76.62%,76.68%,\n"
     ]
    },
    {
     "name": "stderr",
     "output_type": "stream",
     "text": [
      "Training : 100%|██████████| 100/100 [01:17<00:00,  1.30it/s, Msg=Time 0.764s, Data 0.537s, Loss (0.821|0.180|0.017|0.010), Top1 (78.10%|97.20%|99.97%|99.96%|)] \n",
      "100%|██████████| 20/20 [00:03<00:00,  6.24it/s]\n",
      "Training :   0%|          | 0/100 [00:00<?, ?it/s]"
     ]
    },
    {
     "name": "stdout",
     "output_type": "stream",
     "text": [
      "Adjusting learning rate of group 0 to 1.0000e-04.\n",
      "Epoch 199/200: lr=0.0001, mean batch time = 0.76s, mean data loading time = 0.54, Training loss = 0.8215,0.1804,0.0172,0.0102, Test accuracy = 65.32%,72.33%,76.58%,76.70%,\n"
     ]
    },
    {
     "name": "stderr",
     "output_type": "stream",
     "text": [
      "Training : 100%|██████████| 100/100 [01:14<00:00,  1.35it/s, Msg=Time 0.736s, Data 0.515s, Loss (0.822|0.183|0.017|0.010), Top1 (77.96%|97.13%|99.97%|99.96%|)]\n",
      "100%|██████████| 20/20 [00:03<00:00,  6.39it/s]"
     ]
    },
    {
     "name": "stdout",
     "output_type": "stream",
     "text": [
      "Adjusting learning rate of group 0 to 1.0000e-04.\n",
      "Epoch 200/200: lr=0.0001, mean batch time = 0.74s, mean data loading time = 0.51, Training loss = 0.8224,0.1826,0.0174,0.0103, Test accuracy = 65.33%,72.11%,76.48%,76.66%,\n"
     ]
    },
    {
     "name": "stderr",
     "output_type": "stream",
     "text": [
      "\n"
     ]
    }
   ],
   "source": [
    "from train_utils import AverageMeter\n",
    "from train_utils import dsn_validate, dsn_train\n",
    "from tqdm import tqdm\n",
    "\n",
    "losses = []\n",
    "acces = []\n",
    "for epoch in range(start_epoch, num_epoch):\n",
    "    # training\n",
    "    batch_time,data_time,l1,l2,l3,l4 = dsn_train(model, train_loader,\n",
    "                                             optimizer, criterion, temperature)\n",
    "    # Validation\n",
    "    t1,t2,t3,t4 = dsn_validate(model,test_loader)\n",
    "    lr_schedule.step()\n",
    "    \n",
    "    losses.append([l1,l2,l3,l4])\n",
    "    acces.append([t1,t2,t3,t4])\n",
    "    start_epoch = epoch\n",
    "    \n",
    "    log_info = \"Epoch %d/%d: lr=%.4f, \"\\\n",
    "          \"mean batch time = %.2fs, mean data loading time = %.2f, \"\\\n",
    "          \"Training loss = %.4f,%.4f,%.4f,%.4f, \"\\\n",
    "          \"Test accuracy = %.2f%%,%.2f%%,%.2f%%,%.2f%%,\" % (\n",
    "        epoch+1,num_epoch, optimizer.state_dict()['param_groups'][0]['lr'], \n",
    "        batch_time,data_time,\n",
    "        l1,l2,l3,l4, \n",
    "        t1,t2,t3,t4)\n",
    "    with open(log_path,'a') as f:\n",
    "        f.write(log_info+\"\\r\\n\")\n",
    "    print(log_info)"
   ]
  },
  {
   "cell_type": "code",
   "execution_count": 7,
   "id": "39a68b9a",
   "metadata": {},
   "outputs": [],
   "source": [
    "# Save the trained parameters to disk\n",
    "torch.save(model.state_dict(), \"/workspace/notebooks/FSS/models/pretrained_resnet18-DSN-BK.pth\")"
   ]
  },
  {
   "cell_type": "markdown",
   "id": "789de391",
   "metadata": {},
   "source": [
    "# FSS on Cifar100 test"
   ]
  },
  {
   "cell_type": "code",
   "execution_count": 18,
   "id": "00b312fe",
   "metadata": {},
   "outputs": [],
   "source": [
    "# model\n",
    "from resnet import ResNetDSN,ResNetFSS,BasicBlock,Bottleneck,FeatureReroute\n",
    "model = ResNetFSS(BasicBlock,layers=[2,2,2,2], num_classes=100)\n",
    "# saved_state = torch.load(\"./FSS/models/pretrained_resnet18-FSS.pth\", map_location=torch.device(\"cpu\"))\n",
    "# model.load_state_dict(saved_state)"
   ]
  },
  {
   "cell_type": "code",
   "execution_count": 22,
   "id": "2b52fd9c",
   "metadata": {},
   "outputs": [
    {
     "name": "stdout",
     "output_type": "stream",
     "text": [
      "Adjusting learning rate of group 0 to 1.0000e-02.\n"
     ]
    }
   ],
   "source": [
    "# Training hyper-parameters\n",
    "import torch\n",
    "from torch import nn\n",
    "import time\n",
    "model = model.cuda()\n",
    "\n",
    "best_prec1 = 0\n",
    "criterion = nn.CrossEntropyLoss().cuda()\n",
    "optimizer = torch.optim.SGD(model.parameters(), \n",
    "                            lr=0.1, \n",
    "                            momentum=0.9, \n",
    "                            weight_decay = 1e-4)\n",
    "# lr_schedule = torch.optim.lr_scheduler.MultiStepLR(optimizer,[75,130,180])\n",
    "def warm_multi_step(epoch):\n",
    "    if (epoch < 1):\n",
    "        return 0.1\n",
    "    elif (1<=epoch<75):\n",
    "        return 1\n",
    "    elif 75 <= epoch < 130:\n",
    "        return 0.1\n",
    "    elif 130 <= epoch < 180:\n",
    "        return 0.01\n",
    "    elif epoch >=180:\n",
    "        return 0.001\n",
    "    else:\n",
    "        return 1\n",
    "\n",
    "lr_schedule = torch.optim.lr_scheduler.LambdaLR(optimizer,\n",
    "                                warm_multi_step,verbose=True)\n",
    "num_epoch=200\n",
    "start_epoch = 0\n",
    "temperature = 3\n",
    "alpha = 0.1\n",
    "beta = 1e-6"
   ]
  },
  {
   "cell_type": "code",
   "execution_count": 23,
   "id": "9a4f6146",
   "metadata": {
    "collapsed": true,
    "jupyter": {
     "outputs_hidden": true
    }
   },
   "outputs": [
    {
     "name": "stderr",
     "output_type": "stream",
     "text": [
      "Training : 100%|██████████| 50/50 [00:21<00:00,  2.38it/s, Msg=Time 0.413s, Data 0.276s, Loss (1.188|0.274|0.024|0.007), Top1 (65.75%|91.93%|99.68%|99.91%|)]\n",
      "100%|██████████| 10/10 [00:01<00:00,  5.01it/s]\n",
      "Training :   0%|          | 0/50 [00:00<?, ?it/s]"
     ]
    },
    {
     "name": "stdout",
     "output_type": "stream",
     "text": [
      "Adjusting learning rate of group 0 to 1.0000e-01.\n",
      "Epoch 1/200: lr=0.1000, mean batch time = 0.41s, mean data loading time = 0.28, Training loss = 1.1881,0.2737,0.0242,0.0072, Test accuracy = 55.40%,62.83%,67.61%,68.91%,\n"
     ]
    },
    {
     "name": "stderr",
     "output_type": "stream",
     "text": [
      "Training : 100%|██████████| 50/50 [00:21<00:00,  2.30it/s, Msg=Time 0.426s, Data 0.286s, Loss (1.481|0.756|0.252|0.130), Top1 (57.84%|76.87%|91.87%|95.69%|)]\n",
      "100%|██████████| 10/10 [00:02<00:00,  4.68it/s]\n",
      "Training :   0%|          | 0/50 [00:00<?, ?it/s]"
     ]
    },
    {
     "name": "stdout",
     "output_type": "stream",
     "text": [
      "Adjusting learning rate of group 0 to 1.0000e-01.\n",
      "Epoch 2/200: lr=0.1000, mean batch time = 0.43s, mean data loading time = 0.29, Training loss = 1.4808,0.7557,0.2520,0.1299, Test accuracy = 43.64%,47.64%,54.03%,54.65%,\n"
     ]
    },
    {
     "name": "stderr",
     "output_type": "stream",
     "text": [
      "Training : 100%|██████████| 50/50 [00:21<00:00,  2.28it/s, Msg=Time 0.432s, Data 0.292s, Loss (1.510|0.830|0.397|0.255), Top1 (57.08%|74.50%|87.10%|91.64%|)]\n",
      "100%|██████████| 10/10 [00:02<00:00,  4.75it/s]\n",
      "Training :   0%|          | 0/50 [00:00<?, ?it/s]"
     ]
    },
    {
     "name": "stdout",
     "output_type": "stream",
     "text": [
      "Adjusting learning rate of group 0 to 1.0000e-01.\n",
      "Epoch 3/200: lr=0.1000, mean batch time = 0.43s, mean data loading time = 0.29, Training loss = 1.5095,0.8299,0.3974,0.2548, Test accuracy = 41.39%,50.47%,54.81%,55.94%,\n"
     ]
    },
    {
     "name": "stderr",
     "output_type": "stream",
     "text": [
      "Training : 100%|██████████| 50/50 [00:22<00:00,  2.25it/s, Msg=Time 0.437s, Data 0.295s, Loss (1.490|0.750|0.320|0.195), Top1 (57.58%|76.48%|89.33%|93.60%|)]\n",
      "100%|██████████| 10/10 [00:02<00:00,  4.77it/s]\n",
      "Training :   0%|          | 0/50 [00:00<?, ?it/s]"
     ]
    },
    {
     "name": "stdout",
     "output_type": "stream",
     "text": [
      "Adjusting learning rate of group 0 to 1.0000e-01.\n",
      "Epoch 4/200: lr=0.1000, mean batch time = 0.44s, mean data loading time = 0.30, Training loss = 1.4897,0.7500,0.3202,0.1947, Test accuracy = 45.24%,54.76%,56.67%,58.57%,\n"
     ]
    },
    {
     "name": "stderr",
     "output_type": "stream",
     "text": [
      "Training : 100%|██████████| 50/50 [00:22<00:00,  2.27it/s, Msg=Time 0.433s, Data 0.290s, Loss (1.472|0.695|0.266|0.148), Top1 (58.14%|78.01%|91.07%|95.12%|)]\n",
      "100%|██████████| 10/10 [00:02<00:00,  4.79it/s]\n",
      "Training :   0%|          | 0/50 [00:00<?, ?it/s]"
     ]
    },
    {
     "name": "stdout",
     "output_type": "stream",
     "text": [
      "Adjusting learning rate of group 0 to 1.0000e-01.\n",
      "Epoch 5/200: lr=0.1000, mean batch time = 0.43s, mean data loading time = 0.29, Training loss = 1.4723,0.6948,0.2664,0.1482, Test accuracy = 47.60%,52.93%,59.40%,61.45%,\n"
     ]
    },
    {
     "name": "stderr",
     "output_type": "stream",
     "text": [
      "Training : 100%|██████████| 50/50 [00:22<00:00,  2.24it/s, Msg=Time 0.439s, Data 0.295s, Loss (1.460|0.671|0.241|0.134), Top1 (58.41%|78.65%|91.96%|95.68%|)]\n",
      "100%|██████████| 10/10 [00:02<00:00,  4.82it/s]\n",
      "Training :   0%|          | 0/50 [00:00<?, ?it/s]"
     ]
    },
    {
     "name": "stdout",
     "output_type": "stream",
     "text": [
      "Adjusting learning rate of group 0 to 1.0000e-01.\n",
      "Epoch 6/200: lr=0.1000, mean batch time = 0.44s, mean data loading time = 0.29, Training loss = 1.4596,0.6714,0.2413,0.1342, Test accuracy = 43.61%,50.91%,57.71%,58.10%,\n"
     ]
    },
    {
     "name": "stderr",
     "output_type": "stream",
     "text": [
      "Training : 100%|██████████| 50/50 [00:22<00:00,  2.26it/s, Msg=Time 0.436s, Data 0.294s, Loss (1.453|0.656|0.222|0.118), Top1 (58.33%|79.15%|92.67%|96.18%|)]\n",
      "100%|██████████| 10/10 [00:02<00:00,  4.77it/s]\n",
      "Training :   0%|          | 0/50 [00:00<?, ?it/s]"
     ]
    },
    {
     "name": "stdout",
     "output_type": "stream",
     "text": [
      "Adjusting learning rate of group 0 to 1.0000e-01.\n",
      "Epoch 7/200: lr=0.1000, mean batch time = 0.44s, mean data loading time = 0.29, Training loss = 1.4533,0.6556,0.2217,0.1175, Test accuracy = 46.78%,54.04%,60.05%,61.36%,\n"
     ]
    },
    {
     "name": "stderr",
     "output_type": "stream",
     "text": [
      "Training : 100%|██████████| 50/50 [00:22<00:00,  2.24it/s, Msg=Time 0.439s, Data 0.300s, Loss (1.449|0.627|0.206|0.106), Top1 (58.79%|80.03%|93.21%|96.64%|)]\n",
      "100%|██████████| 10/10 [00:02<00:00,  4.63it/s]\n",
      "Training :   0%|          | 0/50 [00:00<?, ?it/s]"
     ]
    },
    {
     "name": "stdout",
     "output_type": "stream",
     "text": [
      "Adjusting learning rate of group 0 to 1.0000e-01.\n",
      "Epoch 8/200: lr=0.1000, mean batch time = 0.44s, mean data loading time = 0.30, Training loss = 1.4490,0.6266,0.2056,0.1064, Test accuracy = 46.42%,54.35%,60.57%,62.02%,\n"
     ]
    },
    {
     "name": "stderr",
     "output_type": "stream",
     "text": [
      "Training : 100%|██████████| 50/50 [00:22<00:00,  2.25it/s, Msg=Time 0.436s, Data 0.292s, Loss (1.433|0.627|0.197|0.101), Top1 (59.19%|79.92%|93.49%|96.79%|)]\n",
      "100%|██████████| 10/10 [00:02<00:00,  4.54it/s]\n",
      "Training :   0%|          | 0/50 [00:00<?, ?it/s]"
     ]
    },
    {
     "name": "stdout",
     "output_type": "stream",
     "text": [
      "Adjusting learning rate of group 0 to 1.0000e-01.\n",
      "Epoch 9/200: lr=0.1000, mean batch time = 0.44s, mean data loading time = 0.29, Training loss = 1.4329,0.6266,0.1971,0.1005, Test accuracy = 44.97%,53.70%,60.99%,61.04%,\n"
     ]
    },
    {
     "name": "stderr",
     "output_type": "stream",
     "text": [
      "Training : 100%|██████████| 50/50 [00:22<00:00,  2.26it/s, Msg=Time 0.435s, Data 0.293s, Loss (1.433|0.610|0.184|0.096), Top1 (59.17%|80.34%|93.97%|96.94%|)]\n",
      "100%|██████████| 10/10 [00:02<00:00,  4.73it/s]\n",
      "Training :   0%|          | 0/50 [00:00<?, ?it/s]"
     ]
    },
    {
     "name": "stdout",
     "output_type": "stream",
     "text": [
      "Adjusting learning rate of group 0 to 1.0000e-01.\n",
      "Epoch 10/200: lr=0.1000, mean batch time = 0.43s, mean data loading time = 0.29, Training loss = 1.4331,0.6101,0.1840,0.0961, Test accuracy = 47.89%,57.52%,60.53%,62.31%,\n"
     ]
    },
    {
     "name": "stderr",
     "output_type": "stream",
     "text": [
      "Training : 100%|██████████| 50/50 [00:22<00:00,  2.25it/s, Msg=Time 0.437s, Data 0.297s, Loss (1.447|0.624|0.185|0.095), Top1 (58.83%|80.00%|93.89%|96.92%|)]\n",
      "100%|██████████| 10/10 [00:02<00:00,  4.74it/s]\n",
      "Training :   0%|          | 0/50 [00:00<?, ?it/s]"
     ]
    },
    {
     "name": "stdout",
     "output_type": "stream",
     "text": [
      "Adjusting learning rate of group 0 to 1.0000e-01.\n",
      "Epoch 11/200: lr=0.1000, mean batch time = 0.44s, mean data loading time = 0.30, Training loss = 1.4472,0.6236,0.1851,0.0953, Test accuracy = 46.95%,56.05%,60.87%,62.01%,\n"
     ]
    },
    {
     "name": "stderr",
     "output_type": "stream",
     "text": [
      "Training : 100%|██████████| 50/50 [00:22<00:00,  2.22it/s, Msg=Time 0.444s, Data 0.301s, Loss (1.422|0.599|0.186|0.099), Top1 (59.15%|80.83%|93.94%|96.80%|)]\n",
      "100%|██████████| 10/10 [00:02<00:00,  4.77it/s]\n",
      "Training :   0%|          | 0/50 [00:00<?, ?it/s]"
     ]
    },
    {
     "name": "stdout",
     "output_type": "stream",
     "text": [
      "Adjusting learning rate of group 0 to 1.0000e-01.\n",
      "Epoch 12/200: lr=0.1000, mean batch time = 0.44s, mean data loading time = 0.30, Training loss = 1.4215,0.5991,0.1857,0.0994, Test accuracy = 43.82%,51.87%,55.98%,59.13%,\n"
     ]
    },
    {
     "name": "stderr",
     "output_type": "stream",
     "text": [
      "Training : 100%|██████████| 50/50 [00:22<00:00,  2.24it/s, Msg=Time 0.439s, Data 0.295s, Loss (1.427|0.595|0.179|0.097), Top1 (59.11%|80.88%|94.02%|96.90%|)]\n",
      "100%|██████████| 10/10 [00:02<00:00,  4.92it/s]\n",
      "Training :   0%|          | 0/50 [00:00<?, ?it/s]"
     ]
    },
    {
     "name": "stdout",
     "output_type": "stream",
     "text": [
      "Adjusting learning rate of group 0 to 1.0000e-01.\n",
      "Epoch 13/200: lr=0.1000, mean batch time = 0.44s, mean data loading time = 0.29, Training loss = 1.4266,0.5952,0.1789,0.0970, Test accuracy = 47.83%,54.79%,58.87%,60.90%,\n"
     ]
    },
    {
     "name": "stderr",
     "output_type": "stream",
     "text": [
      "Training : 100%|██████████| 50/50 [00:22<00:00,  2.26it/s, Msg=Time 0.434s, Data 0.294s, Loss (1.427|0.592|0.176|0.088), Top1 (59.14%|81.05%|94.14%|97.15%|)]\n",
      "100%|██████████| 10/10 [00:02<00:00,  4.57it/s]\n",
      "Training :   0%|          | 0/50 [00:00<?, ?it/s]"
     ]
    },
    {
     "name": "stdout",
     "output_type": "stream",
     "text": [
      "Adjusting learning rate of group 0 to 1.0000e-01.\n",
      "Epoch 14/200: lr=0.1000, mean batch time = 0.43s, mean data loading time = 0.29, Training loss = 1.4269,0.5917,0.1757,0.0884, Test accuracy = 46.34%,53.55%,58.02%,59.70%,\n"
     ]
    },
    {
     "name": "stderr",
     "output_type": "stream",
     "text": [
      "Training : 100%|██████████| 50/50 [00:22<00:00,  2.22it/s, Msg=Time 0.442s, Data 0.299s, Loss (1.419|0.596|0.184|0.095), Top1 (59.58%|80.84%|93.90%|96.97%|)]\n",
      "100%|██████████| 10/10 [00:02<00:00,  4.70it/s]\n",
      "Training :   0%|          | 0/50 [00:00<?, ?it/s]"
     ]
    },
    {
     "name": "stdout",
     "output_type": "stream",
     "text": [
      "Adjusting learning rate of group 0 to 1.0000e-01.\n",
      "Epoch 15/200: lr=0.1000, mean batch time = 0.44s, mean data loading time = 0.30, Training loss = 1.4195,0.5963,0.1837,0.0953, Test accuracy = 50.01%,56.71%,61.03%,62.53%,\n"
     ]
    },
    {
     "name": "stderr",
     "output_type": "stream",
     "text": [
      "Training : 100%|██████████| 50/50 [00:22<00:00,  2.22it/s, Msg=Time 0.443s, Data 0.301s, Loss (1.421|0.571|0.173|0.090), Top1 (59.49%|81.72%|94.21%|97.17%|)]\n",
      "100%|██████████| 10/10 [00:02<00:00,  4.83it/s]\n",
      "Training :   0%|          | 0/50 [00:00<?, ?it/s]"
     ]
    },
    {
     "name": "stdout",
     "output_type": "stream",
     "text": [
      "Adjusting learning rate of group 0 to 1.0000e-01.\n",
      "Epoch 16/200: lr=0.1000, mean batch time = 0.44s, mean data loading time = 0.30, Training loss = 1.4205,0.5707,0.1726,0.0896, Test accuracy = 47.04%,53.43%,59.58%,61.34%,\n"
     ]
    },
    {
     "name": "stderr",
     "output_type": "stream",
     "text": [
      "Training : 100%|██████████| 50/50 [00:22<00:00,  2.25it/s, Msg=Time 0.437s, Data 0.296s, Loss (1.423|0.570|0.154|0.078), Top1 (59.06%|81.81%|94.97%|97.51%|)]\n",
      "100%|██████████| 10/10 [00:01<00:00,  5.03it/s]\n",
      "Training :   0%|          | 0/50 [00:00<?, ?it/s]"
     ]
    },
    {
     "name": "stdout",
     "output_type": "stream",
     "text": [
      "Adjusting learning rate of group 0 to 1.0000e-01.\n",
      "Epoch 17/200: lr=0.1000, mean batch time = 0.44s, mean data loading time = 0.30, Training loss = 1.4230,0.5698,0.1545,0.0783, Test accuracy = 47.95%,54.12%,59.06%,60.93%,\n"
     ]
    },
    {
     "name": "stderr",
     "output_type": "stream",
     "text": [
      "Training : 100%|██████████| 50/50 [00:22<00:00,  2.23it/s, Msg=Time 0.442s, Data 0.301s, Loss (1.407|0.559|0.158|0.082), Top1 (59.61%|82.07%|94.83%|97.38%|)]\n",
      "100%|██████████| 10/10 [00:02<00:00,  4.94it/s]\n",
      "Training :   0%|          | 0/50 [00:00<?, ?it/s]"
     ]
    },
    {
     "name": "stdout",
     "output_type": "stream",
     "text": [
      "Adjusting learning rate of group 0 to 1.0000e-01.\n",
      "Epoch 18/200: lr=0.1000, mean batch time = 0.44s, mean data loading time = 0.30, Training loss = 1.4073,0.5585,0.1581,0.0818, Test accuracy = 46.40%,53.28%,58.08%,60.73%,\n"
     ]
    },
    {
     "name": "stderr",
     "output_type": "stream",
     "text": [
      "Training : 100%|██████████| 50/50 [00:21<00:00,  2.28it/s, Msg=Time 0.432s, Data 0.293s, Loss (1.413|0.557|0.155|0.080), Top1 (59.65%|82.06%|95.00%|97.51%|)]\n",
      "100%|██████████| 10/10 [00:02<00:00,  4.88it/s]\n",
      "Training :   0%|          | 0/50 [00:00<?, ?it/s]"
     ]
    },
    {
     "name": "stdout",
     "output_type": "stream",
     "text": [
      "Adjusting learning rate of group 0 to 1.0000e-01.\n",
      "Epoch 19/200: lr=0.1000, mean batch time = 0.43s, mean data loading time = 0.29, Training loss = 1.4131,0.5566,0.1549,0.0805, Test accuracy = 45.71%,53.41%,61.06%,61.32%,\n"
     ]
    },
    {
     "name": "stderr",
     "output_type": "stream",
     "text": [
      "Training : 100%|██████████| 50/50 [00:22<00:00,  2.26it/s, Msg=Time 0.435s, Data 0.295s, Loss (1.397|0.548|0.153|0.077), Top1 (59.75%|82.55%|95.05%|97.56%|)]\n",
      "100%|██████████| 10/10 [00:02<00:00,  4.69it/s]\n",
      "Training :   0%|          | 0/50 [00:00<?, ?it/s]"
     ]
    },
    {
     "name": "stdout",
     "output_type": "stream",
     "text": [
      "Adjusting learning rate of group 0 to 1.0000e-01.\n",
      "Epoch 20/200: lr=0.1000, mean batch time = 0.43s, mean data loading time = 0.30, Training loss = 1.3972,0.5484,0.1525,0.0774, Test accuracy = 43.91%,54.42%,59.22%,61.11%,\n"
     ]
    },
    {
     "name": "stderr",
     "output_type": "stream",
     "text": [
      "Training : 100%|██████████| 50/50 [00:22<00:00,  2.27it/s, Msg=Time 0.434s, Data 0.294s, Loss (1.398|0.549|0.147|0.076), Top1 (60.07%|82.32%|95.12%|97.62%|)]\n",
      "100%|██████████| 10/10 [00:02<00:00,  4.86it/s]\n",
      "Training :   0%|          | 0/50 [00:00<?, ?it/s]"
     ]
    },
    {
     "name": "stdout",
     "output_type": "stream",
     "text": [
      "Adjusting learning rate of group 0 to 1.0000e-01.\n",
      "Epoch 21/200: lr=0.1000, mean batch time = 0.43s, mean data loading time = 0.29, Training loss = 1.3976,0.5489,0.1474,0.0761, Test accuracy = 46.60%,57.84%,62.59%,63.77%,\n"
     ]
    },
    {
     "name": "stderr",
     "output_type": "stream",
     "text": [
      "Training : 100%|██████████| 50/50 [00:22<00:00,  2.26it/s, Msg=Time 0.435s, Data 0.295s, Loss (1.398|0.552|0.152|0.079), Top1 (59.71%|82.11%|95.03%|97.47%|)]\n",
      "100%|██████████| 10/10 [00:02<00:00,  4.60it/s]\n",
      "Training :   0%|          | 0/50 [00:00<?, ?it/s]"
     ]
    },
    {
     "name": "stdout",
     "output_type": "stream",
     "text": [
      "Adjusting learning rate of group 0 to 1.0000e-01.\n",
      "Epoch 22/200: lr=0.1000, mean batch time = 0.44s, mean data loading time = 0.29, Training loss = 1.3983,0.5524,0.1523,0.0791, Test accuracy = 44.02%,55.09%,59.90%,61.59%,\n"
     ]
    },
    {
     "name": "stderr",
     "output_type": "stream",
     "text": [
      "Training : 100%|██████████| 50/50 [00:22<00:00,  2.26it/s, Msg=Time 0.436s, Data 0.297s, Loss (1.391|0.528|0.139|0.072), Top1 (60.15%|82.85%|95.39%|97.77%|)]\n",
      "100%|██████████| 10/10 [00:02<00:00,  4.84it/s]\n",
      "Training :   0%|          | 0/50 [00:00<?, ?it/s]"
     ]
    },
    {
     "name": "stdout",
     "output_type": "stream",
     "text": [
      "Adjusting learning rate of group 0 to 1.0000e-01.\n",
      "Epoch 23/200: lr=0.1000, mean batch time = 0.44s, mean data loading time = 0.30, Training loss = 1.3910,0.5284,0.1388,0.0715, Test accuracy = 46.65%,54.74%,59.99%,61.72%,\n"
     ]
    },
    {
     "name": "stderr",
     "output_type": "stream",
     "text": [
      "Training : 100%|██████████| 50/50 [00:22<00:00,  2.22it/s, Msg=Time 0.442s, Data 0.300s, Loss (1.399|0.527|0.146|0.075), Top1 (59.70%|82.83%|95.20%|97.69%|)]\n",
      "100%|██████████| 10/10 [00:02<00:00,  4.80it/s]\n",
      "Training :   0%|          | 0/50 [00:00<?, ?it/s]"
     ]
    },
    {
     "name": "stdout",
     "output_type": "stream",
     "text": [
      "Adjusting learning rate of group 0 to 1.0000e-01.\n",
      "Epoch 24/200: lr=0.1000, mean batch time = 0.44s, mean data loading time = 0.30, Training loss = 1.3992,0.5273,0.1462,0.0752, Test accuracy = 47.95%,56.02%,62.35%,62.99%,\n"
     ]
    },
    {
     "name": "stderr",
     "output_type": "stream",
     "text": [
      "Training : 100%|██████████| 50/50 [00:22<00:00,  2.22it/s, Msg=Time 0.442s, Data 0.301s, Loss (1.380|0.526|0.145|0.076), Top1 (60.15%|83.00%|95.11%|97.62%|)]\n",
      "100%|██████████| 10/10 [00:02<00:00,  4.48it/s]\n",
      "Training :   0%|          | 0/50 [00:00<?, ?it/s]"
     ]
    },
    {
     "name": "stdout",
     "output_type": "stream",
     "text": [
      "Adjusting learning rate of group 0 to 1.0000e-01.\n",
      "Epoch 25/200: lr=0.1000, mean batch time = 0.44s, mean data loading time = 0.30, Training loss = 1.3800,0.5264,0.1453,0.0763, Test accuracy = 46.45%,55.66%,59.49%,60.45%,\n"
     ]
    },
    {
     "name": "stderr",
     "output_type": "stream",
     "text": [
      "Training : 100%|██████████| 50/50 [00:22<00:00,  2.27it/s, Msg=Time 0.433s, Data 0.293s, Loss (1.393|0.529|0.145|0.078), Top1 (59.85%|82.79%|95.21%|97.58%|)]\n",
      "100%|██████████| 10/10 [00:02<00:00,  4.77it/s]\n",
      "Training :   0%|          | 0/50 [00:00<?, ?it/s]"
     ]
    },
    {
     "name": "stdout",
     "output_type": "stream",
     "text": [
      "Adjusting learning rate of group 0 to 1.0000e-01.\n",
      "Epoch 26/200: lr=0.1000, mean batch time = 0.43s, mean data loading time = 0.29, Training loss = 1.3932,0.5292,0.1449,0.0782, Test accuracy = 43.35%,53.53%,56.93%,60.51%,\n"
     ]
    },
    {
     "name": "stderr",
     "output_type": "stream",
     "text": [
      "Training : 100%|██████████| 50/50 [00:22<00:00,  2.24it/s, Msg=Time 0.440s, Data 0.299s, Loss (1.383|0.524|0.141|0.075), Top1 (60.31%|83.23%|95.40%|97.68%|)]\n",
      "100%|██████████| 10/10 [00:02<00:00,  4.75it/s]\n",
      "Training :   0%|          | 0/50 [00:00<?, ?it/s]"
     ]
    },
    {
     "name": "stdout",
     "output_type": "stream",
     "text": [
      "Adjusting learning rate of group 0 to 1.0000e-01.\n",
      "Epoch 27/200: lr=0.1000, mean batch time = 0.44s, mean data loading time = 0.30, Training loss = 1.3831,0.5241,0.1407,0.0745, Test accuracy = 47.30%,57.49%,61.38%,62.54%,\n"
     ]
    },
    {
     "name": "stderr",
     "output_type": "stream",
     "text": [
      "Training : 100%|██████████| 50/50 [00:22<00:00,  2.27it/s, Msg=Time 0.434s, Data 0.294s, Loss (1.375|0.514|0.135|0.074), Top1 (60.42%|83.27%|95.66%|97.73%|)]\n",
      "100%|██████████| 10/10 [00:02<00:00,  4.79it/s]\n",
      "Training :   0%|          | 0/50 [00:00<?, ?it/s]"
     ]
    },
    {
     "name": "stdout",
     "output_type": "stream",
     "text": [
      "Adjusting learning rate of group 0 to 1.0000e-01.\n",
      "Epoch 28/200: lr=0.1000, mean batch time = 0.43s, mean data loading time = 0.29, Training loss = 1.3748,0.5137,0.1350,0.0740, Test accuracy = 45.95%,55.48%,59.99%,61.23%,\n"
     ]
    },
    {
     "name": "stderr",
     "output_type": "stream",
     "text": [
      "Training : 100%|██████████| 50/50 [00:22<00:00,  2.25it/s, Msg=Time 0.436s, Data 0.295s, Loss (1.366|0.507|0.131|0.069), Top1 (60.74%|83.52%|95.67%|97.78%|)]\n",
      "100%|██████████| 10/10 [00:02<00:00,  4.64it/s]\n",
      "Training :   0%|          | 0/50 [00:00<?, ?it/s]"
     ]
    },
    {
     "name": "stdout",
     "output_type": "stream",
     "text": [
      "Adjusting learning rate of group 0 to 1.0000e-01.\n",
      "Epoch 29/200: lr=0.1000, mean batch time = 0.44s, mean data loading time = 0.29, Training loss = 1.3658,0.5070,0.1314,0.0691, Test accuracy = 48.36%,57.39%,61.54%,62.79%,\n"
     ]
    },
    {
     "name": "stderr",
     "output_type": "stream",
     "text": [
      "Training : 100%|██████████| 50/50 [00:21<00:00,  2.28it/s, Msg=Time 0.432s, Data 0.292s, Loss (1.368|0.508|0.140|0.072), Top1 (60.67%|83.33%|95.35%|97.69%|)]\n",
      "100%|██████████| 10/10 [00:02<00:00,  4.54it/s]\n",
      "Training :   0%|          | 0/50 [00:00<?, ?it/s]"
     ]
    },
    {
     "name": "stdout",
     "output_type": "stream",
     "text": [
      "Adjusting learning rate of group 0 to 1.0000e-01.\n",
      "Epoch 30/200: lr=0.1000, mean batch time = 0.43s, mean data loading time = 0.29, Training loss = 1.3682,0.5080,0.1402,0.0721, Test accuracy = 43.39%,55.12%,60.34%,62.56%,\n"
     ]
    },
    {
     "name": "stderr",
     "output_type": "stream",
     "text": [
      "Training : 100%|██████████| 50/50 [00:22<00:00,  2.25it/s, Msg=Time 0.437s, Data 0.296s, Loss (1.364|0.492|0.130|0.067), Top1 (60.70%|83.95%|95.72%|97.94%|)]\n",
      "100%|██████████| 10/10 [00:02<00:00,  4.99it/s]\n",
      "Training :   0%|          | 0/50 [00:00<?, ?it/s]"
     ]
    },
    {
     "name": "stdout",
     "output_type": "stream",
     "text": [
      "Adjusting learning rate of group 0 to 1.0000e-01.\n",
      "Epoch 31/200: lr=0.1000, mean batch time = 0.44s, mean data loading time = 0.30, Training loss = 1.3636,0.4923,0.1299,0.0669, Test accuracy = 40.72%,53.11%,60.27%,61.14%,\n"
     ]
    },
    {
     "name": "stderr",
     "output_type": "stream",
     "text": [
      "Training : 100%|██████████| 50/50 [00:22<00:00,  2.26it/s, Msg=Time 0.435s, Data 0.300s, Loss (1.359|0.482|0.123|0.064), Top1 (60.99%|84.47%|95.95%|98.00%|)]\n",
      "100%|██████████| 10/10 [00:02<00:00,  4.61it/s]\n",
      "Training :   0%|          | 0/50 [00:00<?, ?it/s]"
     ]
    },
    {
     "name": "stdout",
     "output_type": "stream",
     "text": [
      "Adjusting learning rate of group 0 to 1.0000e-01.\n",
      "Epoch 32/200: lr=0.1000, mean batch time = 0.43s, mean data loading time = 0.30, Training loss = 1.3586,0.4818,0.1229,0.0642, Test accuracy = 47.95%,57.46%,60.91%,63.11%,\n"
     ]
    },
    {
     "name": "stderr",
     "output_type": "stream",
     "text": [
      "Training : 100%|██████████| 50/50 [00:22<00:00,  2.25it/s, Msg=Time 0.438s, Data 0.296s, Loss (1.345|0.485|0.131|0.068), Top1 (61.28%|84.19%|95.58%|97.83%|)]\n",
      "100%|██████████| 10/10 [00:02<00:00,  4.76it/s]\n",
      "Training :   0%|          | 0/50 [00:00<?, ?it/s]"
     ]
    },
    {
     "name": "stdout",
     "output_type": "stream",
     "text": [
      "Adjusting learning rate of group 0 to 1.0000e-01.\n",
      "Epoch 33/200: lr=0.1000, mean batch time = 0.44s, mean data loading time = 0.30, Training loss = 1.3454,0.4849,0.1305,0.0681, Test accuracy = 48.24%,56.81%,60.41%,62.84%,\n"
     ]
    },
    {
     "name": "stderr",
     "output_type": "stream",
     "text": [
      "Training : 100%|██████████| 50/50 [00:22<00:00,  2.25it/s, Msg=Time 0.437s, Data 0.295s, Loss (1.355|0.496|0.136|0.074), Top1 (60.99%|83.83%|95.64%|97.65%|)]\n",
      "100%|██████████| 10/10 [00:02<00:00,  4.92it/s]\n",
      "Training :   0%|          | 0/50 [00:00<?, ?it/s]"
     ]
    },
    {
     "name": "stdout",
     "output_type": "stream",
     "text": [
      "Adjusting learning rate of group 0 to 1.0000e-01.\n",
      "Epoch 34/200: lr=0.1000, mean batch time = 0.44s, mean data loading time = 0.30, Training loss = 1.3547,0.4963,0.1357,0.0740, Test accuracy = 44.82%,52.27%,59.32%,60.74%,\n"
     ]
    },
    {
     "name": "stderr",
     "output_type": "stream",
     "text": [
      "Training : 100%|██████████| 50/50 [00:22<00:00,  2.27it/s, Msg=Time 0.433s, Data 0.293s, Loss (1.351|0.484|0.129|0.071), Top1 (61.09%|84.38%|95.79%|97.75%|)]\n",
      "100%|██████████| 10/10 [00:02<00:00,  4.84it/s]\n",
      "Training :   0%|          | 0/50 [00:00<?, ?it/s]"
     ]
    },
    {
     "name": "stdout",
     "output_type": "stream",
     "text": [
      "Adjusting learning rate of group 0 to 1.0000e-01.\n",
      "Epoch 35/200: lr=0.1000, mean batch time = 0.43s, mean data loading time = 0.29, Training loss = 1.3512,0.4839,0.1285,0.0705, Test accuracy = 49.86%,55.82%,61.02%,62.46%,\n"
     ]
    },
    {
     "name": "stderr",
     "output_type": "stream",
     "text": [
      "Training : 100%|██████████| 50/50 [00:22<00:00,  2.27it/s, Msg=Time 0.433s, Data 0.293s, Loss (1.355|0.479|0.125|0.067), Top1 (61.01%|84.55%|95.93%|97.91%|)]\n",
      "100%|██████████| 10/10 [00:02<00:00,  4.79it/s]\n",
      "Training :   0%|          | 0/50 [00:00<?, ?it/s]"
     ]
    },
    {
     "name": "stdout",
     "output_type": "stream",
     "text": [
      "Adjusting learning rate of group 0 to 1.0000e-01.\n",
      "Epoch 36/200: lr=0.1000, mean batch time = 0.43s, mean data loading time = 0.29, Training loss = 1.3552,0.4795,0.1248,0.0668, Test accuracy = 49.47%,58.32%,61.70%,61.95%,\n"
     ]
    },
    {
     "name": "stderr",
     "output_type": "stream",
     "text": [
      "Training : 100%|██████████| 50/50 [00:22<00:00,  2.26it/s, Msg=Time 0.435s, Data 0.294s, Loss (1.358|0.482|0.127|0.066), Top1 (60.72%|84.38%|95.79%|97.95%|)]\n",
      "100%|██████████| 10/10 [00:02<00:00,  4.78it/s]\n",
      "Training :   0%|          | 0/50 [00:00<?, ?it/s]"
     ]
    },
    {
     "name": "stdout",
     "output_type": "stream",
     "text": [
      "Adjusting learning rate of group 0 to 1.0000e-01.\n",
      "Epoch 37/200: lr=0.1000, mean batch time = 0.44s, mean data loading time = 0.29, Training loss = 1.3576,0.4818,0.1273,0.0657, Test accuracy = 47.91%,56.75%,61.86%,63.28%,\n"
     ]
    },
    {
     "name": "stderr",
     "output_type": "stream",
     "text": [
      "Training : 100%|██████████| 50/50 [00:22<00:00,  2.24it/s, Msg=Time 0.439s, Data 0.296s, Loss (1.350|0.463|0.115|0.061), Top1 (60.98%|84.92%|96.24%|98.05%|)]\n",
      "100%|██████████| 10/10 [00:02<00:00,  4.86it/s]\n",
      "Training :   0%|          | 0/50 [00:00<?, ?it/s]"
     ]
    },
    {
     "name": "stdout",
     "output_type": "stream",
     "text": [
      "Adjusting learning rate of group 0 to 1.0000e-01.\n",
      "Epoch 38/200: lr=0.1000, mean batch time = 0.44s, mean data loading time = 0.30, Training loss = 1.3502,0.4633,0.1149,0.0612, Test accuracy = 47.70%,55.69%,60.40%,61.53%,\n"
     ]
    },
    {
     "name": "stderr",
     "output_type": "stream",
     "text": [
      "Training : 100%|██████████| 50/50 [00:22<00:00,  2.27it/s, Msg=Time 0.433s, Data 0.292s, Loss (1.334|0.457|0.111|0.058), Top1 (61.34%|84.92%|96.29%|98.20%|)]\n",
      "100%|██████████| 10/10 [00:02<00:00,  4.95it/s]\n",
      "Training :   0%|          | 0/50 [00:00<?, ?it/s]"
     ]
    },
    {
     "name": "stdout",
     "output_type": "stream",
     "text": [
      "Adjusting learning rate of group 0 to 1.0000e-01.\n",
      "Epoch 39/200: lr=0.1000, mean batch time = 0.43s, mean data loading time = 0.29, Training loss = 1.3339,0.4575,0.1114,0.0579, Test accuracy = 47.40%,56.71%,61.46%,63.19%,\n"
     ]
    },
    {
     "name": "stderr",
     "output_type": "stream",
     "text": [
      "Training : 100%|██████████| 50/50 [00:22<00:00,  2.26it/s, Msg=Time 0.435s, Data 0.295s, Loss (1.349|0.457|0.116|0.060), Top1 (61.13%|84.86%|96.29%|98.20%|)]\n",
      "100%|██████████| 10/10 [00:02<00:00,  5.00it/s]\n",
      "Training :   0%|          | 0/50 [00:00<?, ?it/s]"
     ]
    },
    {
     "name": "stdout",
     "output_type": "stream",
     "text": [
      "Adjusting learning rate of group 0 to 1.0000e-01.\n",
      "Epoch 40/200: lr=0.1000, mean batch time = 0.44s, mean data loading time = 0.29, Training loss = 1.3490,0.4567,0.1156,0.0596, Test accuracy = 48.12%,53.70%,60.58%,62.40%,\n"
     ]
    },
    {
     "name": "stderr",
     "output_type": "stream",
     "text": [
      "Training : 100%|██████████| 50/50 [00:22<00:00,  2.26it/s, Msg=Time 0.436s, Data 0.295s, Loss (1.330|0.454|0.115|0.060), Top1 (61.68%|85.09%|96.14%|98.14%|)]\n",
      "100%|██████████| 10/10 [00:02<00:00,  4.68it/s]\n",
      "Training :   0%|          | 0/50 [00:00<?, ?it/s]"
     ]
    },
    {
     "name": "stdout",
     "output_type": "stream",
     "text": [
      "Adjusting learning rate of group 0 to 1.0000e-01.\n",
      "Epoch 41/200: lr=0.1000, mean batch time = 0.44s, mean data loading time = 0.30, Training loss = 1.3304,0.4537,0.1150,0.0603, Test accuracy = 49.00%,58.35%,61.91%,63.19%,\n"
     ]
    },
    {
     "name": "stderr",
     "output_type": "stream",
     "text": [
      "Training : 100%|██████████| 50/50 [00:22<00:00,  2.26it/s, Msg=Time 0.435s, Data 0.296s, Loss (1.337|0.464|0.119|0.065), Top1 (61.36%|84.73%|96.10%|97.90%|)]\n",
      "100%|██████████| 10/10 [00:01<00:00,  5.08it/s]\n",
      "Training :   0%|          | 0/50 [00:00<?, ?it/s]"
     ]
    },
    {
     "name": "stdout",
     "output_type": "stream",
     "text": [
      "Adjusting learning rate of group 0 to 1.0000e-01.\n",
      "Epoch 42/200: lr=0.1000, mean batch time = 0.44s, mean data loading time = 0.30, Training loss = 1.3371,0.4645,0.1191,0.0651, Test accuracy = 47.12%,55.15%,60.83%,62.26%,\n"
     ]
    },
    {
     "name": "stderr",
     "output_type": "stream",
     "text": [
      "Training : 100%|██████████| 50/50 [00:22<00:00,  2.26it/s, Msg=Time 0.435s, Data 0.295s, Loss (1.320|0.444|0.113|0.063), Top1 (61.89%|85.43%|96.38%|97.97%|)]\n",
      "100%|██████████| 10/10 [00:02<00:00,  4.93it/s]\n",
      "Training :   0%|          | 0/50 [00:00<?, ?it/s]"
     ]
    },
    {
     "name": "stdout",
     "output_type": "stream",
     "text": [
      "Adjusting learning rate of group 0 to 1.0000e-01.\n",
      "Epoch 43/200: lr=0.1000, mean batch time = 0.44s, mean data loading time = 0.29, Training loss = 1.3199,0.4442,0.1130,0.0627, Test accuracy = 43.02%,55.69%,60.60%,61.71%,\n"
     ]
    },
    {
     "name": "stderr",
     "output_type": "stream",
     "text": [
      "Training : 100%|██████████| 50/50 [00:21<00:00,  2.28it/s, Msg=Time 0.431s, Data 0.292s, Loss (1.332|0.453|0.111|0.062), Top1 (61.40%|85.24%|96.48%|98.05%|)]\n",
      "100%|██████████| 10/10 [00:02<00:00,  4.93it/s]\n",
      "Training :   0%|          | 0/50 [00:00<?, ?it/s]"
     ]
    },
    {
     "name": "stdout",
     "output_type": "stream",
     "text": [
      "Adjusting learning rate of group 0 to 1.0000e-01.\n",
      "Epoch 44/200: lr=0.1000, mean batch time = 0.43s, mean data loading time = 0.29, Training loss = 1.3317,0.4528,0.1111,0.0624, Test accuracy = 44.63%,55.21%,60.78%,61.74%,\n"
     ]
    },
    {
     "name": "stderr",
     "output_type": "stream",
     "text": [
      "Training : 100%|██████████| 50/50 [00:22<00:00,  2.21it/s, Msg=Time 0.445s, Data 0.301s, Loss (1.308|0.444|0.107|0.058), Top1 (62.18%|85.26%|96.54%|98.23%|)]\n",
      "100%|██████████| 10/10 [00:02<00:00,  4.72it/s]\n",
      "Training :   0%|          | 0/50 [00:00<?, ?it/s]"
     ]
    },
    {
     "name": "stdout",
     "output_type": "stream",
     "text": [
      "Adjusting learning rate of group 0 to 1.0000e-01.\n",
      "Epoch 45/200: lr=0.1000, mean batch time = 0.45s, mean data loading time = 0.30, Training loss = 1.3076,0.4441,0.1073,0.0578, Test accuracy = 42.31%,55.21%,60.57%,62.31%,\n"
     ]
    },
    {
     "name": "stderr",
     "output_type": "stream",
     "text": [
      "Training : 100%|██████████| 50/50 [00:22<00:00,  2.25it/s, Msg=Time 0.437s, Data 0.292s, Loss (1.318|0.448|0.109|0.059), Top1 (61.84%|85.36%|96.51%|98.22%|)]\n",
      "100%|██████████| 10/10 [00:02<00:00,  4.95it/s]\n",
      "Training :   0%|          | 0/50 [00:00<?, ?it/s]"
     ]
    },
    {
     "name": "stdout",
     "output_type": "stream",
     "text": [
      "Adjusting learning rate of group 0 to 1.0000e-01.\n",
      "Epoch 46/200: lr=0.1000, mean batch time = 0.44s, mean data loading time = 0.29, Training loss = 1.3178,0.4478,0.1088,0.0586, Test accuracy = 43.63%,53.63%,59.28%,60.32%,\n"
     ]
    },
    {
     "name": "stderr",
     "output_type": "stream",
     "text": [
      "Training : 100%|██████████| 50/50 [00:22<00:00,  2.27it/s, Msg=Time 0.433s, Data 0.290s, Loss (1.322|0.449|0.113|0.059), Top1 (61.54%|85.31%|96.32%|98.12%|)]\n",
      "100%|██████████| 10/10 [00:02<00:00,  4.90it/s]\n",
      "Training :   0%|          | 0/50 [00:00<?, ?it/s]"
     ]
    },
    {
     "name": "stdout",
     "output_type": "stream",
     "text": [
      "Adjusting learning rate of group 0 to 1.0000e-01.\n",
      "Epoch 47/200: lr=0.1000, mean batch time = 0.43s, mean data loading time = 0.29, Training loss = 1.3218,0.4492,0.1126,0.0595, Test accuracy = 45.59%,58.16%,61.36%,62.38%,\n"
     ]
    },
    {
     "name": "stderr",
     "output_type": "stream",
     "text": [
      "Training : 100%|██████████| 50/50 [00:22<00:00,  2.27it/s, Msg=Time 0.434s, Data 0.291s, Loss (1.312|0.428|0.109|0.060), Top1 (62.24%|86.02%|96.50%|98.19%|)]\n",
      "100%|██████████| 10/10 [00:02<00:00,  4.95it/s]\n",
      "Training :   0%|          | 0/50 [00:00<?, ?it/s]"
     ]
    },
    {
     "name": "stdout",
     "output_type": "stream",
     "text": [
      "Adjusting learning rate of group 0 to 1.0000e-01.\n",
      "Epoch 48/200: lr=0.1000, mean batch time = 0.43s, mean data loading time = 0.29, Training loss = 1.3119,0.4283,0.1087,0.0605, Test accuracy = 50.80%,56.79%,61.59%,63.09%,\n"
     ]
    },
    {
     "name": "stderr",
     "output_type": "stream",
     "text": [
      "Training : 100%|██████████| 50/50 [00:22<00:00,  2.23it/s, Msg=Time 0.441s, Data 0.298s, Loss (1.312|0.428|0.103|0.056), Top1 (62.04%|85.82%|96.63%|98.25%|)]\n",
      "100%|██████████| 10/10 [00:02<00:00,  4.93it/s]\n",
      "Training :   0%|          | 0/50 [00:00<?, ?it/s]"
     ]
    },
    {
     "name": "stdout",
     "output_type": "stream",
     "text": [
      "Adjusting learning rate of group 0 to 1.0000e-01.\n",
      "Epoch 49/200: lr=0.1000, mean batch time = 0.44s, mean data loading time = 0.30, Training loss = 1.3121,0.4275,0.1032,0.0555, Test accuracy = 43.41%,55.07%,60.09%,62.29%,\n"
     ]
    },
    {
     "name": "stderr",
     "output_type": "stream",
     "text": [
      "Training : 100%|██████████| 50/50 [00:22<00:00,  2.27it/s, Msg=Time 0.434s, Data 0.294s, Loss (1.326|0.430|0.107|0.057), Top1 (61.86%|85.77%|96.52%|98.17%|)]\n",
      "100%|██████████| 10/10 [00:02<00:00,  4.82it/s]\n",
      "Training :   0%|          | 0/50 [00:00<?, ?it/s]"
     ]
    },
    {
     "name": "stdout",
     "output_type": "stream",
     "text": [
      "Adjusting learning rate of group 0 to 1.0000e-01.\n",
      "Epoch 50/200: lr=0.1000, mean batch time = 0.43s, mean data loading time = 0.29, Training loss = 1.3261,0.4296,0.1071,0.0574, Test accuracy = 43.16%,54.25%,59.08%,60.88%,\n"
     ]
    },
    {
     "name": "stderr",
     "output_type": "stream",
     "text": [
      "Training : 100%|██████████| 50/50 [00:22<00:00,  2.24it/s, Msg=Time 0.439s, Data 0.296s, Loss (1.323|0.437|0.114|0.065), Top1 (61.69%|85.65%|96.23%|97.94%|)]\n",
      "100%|██████████| 10/10 [00:02<00:00,  4.96it/s]\n",
      "Training :   0%|          | 0/50 [00:00<?, ?it/s]"
     ]
    },
    {
     "name": "stdout",
     "output_type": "stream",
     "text": [
      "Adjusting learning rate of group 0 to 1.0000e-01.\n",
      "Epoch 51/200: lr=0.1000, mean batch time = 0.44s, mean data loading time = 0.30, Training loss = 1.3226,0.4367,0.1143,0.0647, Test accuracy = 48.57%,57.84%,62.38%,64.02%,\n"
     ]
    },
    {
     "name": "stderr",
     "output_type": "stream",
     "text": [
      "Training : 100%|██████████| 50/50 [00:21<00:00,  2.27it/s, Msg=Time 0.433s, Data 0.292s, Loss (1.325|0.436|0.118|0.065), Top1 (61.61%|85.62%|96.14%|97.98%|)]\n",
      "100%|██████████| 10/10 [00:02<00:00,  4.86it/s]\n",
      "Training :   0%|          | 0/50 [00:00<?, ?it/s]"
     ]
    },
    {
     "name": "stdout",
     "output_type": "stream",
     "text": [
      "Adjusting learning rate of group 0 to 1.0000e-01.\n",
      "Epoch 52/200: lr=0.1000, mean batch time = 0.43s, mean data loading time = 0.29, Training loss = 1.3251,0.4361,0.1180,0.0652, Test accuracy = 47.31%,57.53%,62.80%,64.03%,\n"
     ]
    },
    {
     "name": "stderr",
     "output_type": "stream",
     "text": [
      "Training : 100%|██████████| 50/50 [00:22<00:00,  2.24it/s, Msg=Time 0.437s, Data 0.295s, Loss (1.314|0.421|0.109|0.058), Top1 (61.91%|86.00%|96.42%|98.18%|)]\n",
      "100%|██████████| 10/10 [00:02<00:00,  4.93it/s]\n",
      "Training :   0%|          | 0/50 [00:00<?, ?it/s]"
     ]
    },
    {
     "name": "stdout",
     "output_type": "stream",
     "text": [
      "Adjusting learning rate of group 0 to 1.0000e-01.\n",
      "Epoch 53/200: lr=0.1000, mean batch time = 0.44s, mean data loading time = 0.29, Training loss = 1.3143,0.4209,0.1093,0.0577, Test accuracy = 46.21%,55.17%,59.92%,60.73%,\n"
     ]
    },
    {
     "name": "stderr",
     "output_type": "stream",
     "text": [
      "Training : 100%|██████████| 50/50 [00:21<00:00,  2.27it/s, Msg=Time 0.432s, Data 0.293s, Loss (1.303|0.417|0.107|0.058), Top1 (62.19%|86.18%|96.54%|98.22%|)]\n",
      "100%|██████████| 10/10 [00:02<00:00,  4.83it/s]\n",
      "Training :   0%|          | 0/50 [00:00<?, ?it/s]"
     ]
    },
    {
     "name": "stdout",
     "output_type": "stream",
     "text": [
      "Adjusting learning rate of group 0 to 1.0000e-01.\n",
      "Epoch 54/200: lr=0.1000, mean batch time = 0.43s, mean data loading time = 0.29, Training loss = 1.3032,0.4169,0.1066,0.0579, Test accuracy = 48.40%,56.23%,62.10%,63.70%,\n"
     ]
    },
    {
     "name": "stderr",
     "output_type": "stream",
     "text": [
      "Training : 100%|██████████| 50/50 [00:21<00:00,  2.28it/s, Msg=Time 0.432s, Data 0.298s, Loss (1.292|0.407|0.100|0.054), Top1 (62.45%|86.53%|96.75%|98.33%|)]\n",
      "100%|██████████| 10/10 [00:02<00:00,  4.47it/s]\n",
      "Training :   0%|          | 0/50 [00:00<?, ?it/s]"
     ]
    },
    {
     "name": "stdout",
     "output_type": "stream",
     "text": [
      "Adjusting learning rate of group 0 to 1.0000e-01.\n",
      "Epoch 55/200: lr=0.1000, mean batch time = 0.43s, mean data loading time = 0.30, Training loss = 1.2924,0.4066,0.1002,0.0540, Test accuracy = 51.59%,59.02%,63.40%,64.09%,\n"
     ]
    },
    {
     "name": "stderr",
     "output_type": "stream",
     "text": [
      "Training : 100%|██████████| 50/50 [00:22<00:00,  2.26it/s, Msg=Time 0.434s, Data 0.294s, Loss (1.289|0.392|0.090|0.050), Top1 (62.39%|86.97%|97.11%|98.45%|)]\n",
      "100%|██████████| 10/10 [00:02<00:00,  4.98it/s]\n",
      "Training :   0%|          | 0/50 [00:00<?, ?it/s]"
     ]
    },
    {
     "name": "stdout",
     "output_type": "stream",
     "text": [
      "Adjusting learning rate of group 0 to 1.0000e-01.\n",
      "Epoch 56/200: lr=0.1000, mean batch time = 0.43s, mean data loading time = 0.29, Training loss = 1.2892,0.3925,0.0901,0.0501, Test accuracy = 47.75%,57.04%,62.57%,63.54%,\n"
     ]
    },
    {
     "name": "stderr",
     "output_type": "stream",
     "text": [
      "Training : 100%|██████████| 50/50 [00:21<00:00,  2.27it/s, Msg=Time 0.432s, Data 0.293s, Loss (1.288|0.395|0.090|0.049), Top1 (62.53%|87.13%|97.15%|98.48%|)]\n",
      "100%|██████████| 10/10 [00:02<00:00,  4.99it/s]\n",
      "Training :   0%|          | 0/50 [00:00<?, ?it/s]"
     ]
    },
    {
     "name": "stdout",
     "output_type": "stream",
     "text": [
      "Adjusting learning rate of group 0 to 1.0000e-01.\n",
      "Epoch 57/200: lr=0.1000, mean batch time = 0.43s, mean data loading time = 0.29, Training loss = 1.2878,0.3955,0.0903,0.0494, Test accuracy = 47.43%,56.39%,60.12%,60.92%,\n"
     ]
    },
    {
     "name": "stderr",
     "output_type": "stream",
     "text": [
      "Training : 100%|██████████| 50/50 [00:22<00:00,  2.27it/s, Msg=Time 0.433s, Data 0.293s, Loss (1.288|0.394|0.093|0.048), Top1 (62.44%|87.01%|97.04%|98.53%|)]\n",
      "100%|██████████| 10/10 [00:02<00:00,  4.81it/s]\n",
      "Training :   0%|          | 0/50 [00:00<?, ?it/s]"
     ]
    },
    {
     "name": "stdout",
     "output_type": "stream",
     "text": [
      "Adjusting learning rate of group 0 to 1.0000e-01.\n",
      "Epoch 58/200: lr=0.1000, mean batch time = 0.43s, mean data loading time = 0.29, Training loss = 1.2878,0.3940,0.0933,0.0484, Test accuracy = 40.12%,51.50%,57.51%,59.87%,\n"
     ]
    },
    {
     "name": "stderr",
     "output_type": "stream",
     "text": [
      "Training : 100%|██████████| 50/50 [00:22<00:00,  2.26it/s, Msg=Time 0.434s, Data 0.295s, Loss (1.296|0.409|0.098|0.052), Top1 (62.82%|86.41%|96.86%|98.40%|)]\n",
      "100%|██████████| 10/10 [00:02<00:00,  4.94it/s]\n",
      "Training :   0%|          | 0/50 [00:00<?, ?it/s]"
     ]
    },
    {
     "name": "stdout",
     "output_type": "stream",
     "text": [
      "Adjusting learning rate of group 0 to 1.0000e-01.\n",
      "Epoch 59/200: lr=0.1000, mean batch time = 0.43s, mean data loading time = 0.29, Training loss = 1.2961,0.4087,0.0983,0.0524, Test accuracy = 46.22%,56.65%,61.67%,63.04%,\n"
     ]
    },
    {
     "name": "stderr",
     "output_type": "stream",
     "text": [
      "Training : 100%|██████████| 50/50 [00:21<00:00,  2.28it/s, Msg=Time 0.431s, Data 0.291s, Loss (1.289|0.407|0.098|0.053), Top1 (62.34%|86.49%|96.75%|98.36%|)]\n",
      "100%|██████████| 10/10 [00:02<00:00,  4.90it/s]\n",
      "Training :   0%|          | 0/50 [00:00<?, ?it/s]"
     ]
    },
    {
     "name": "stdout",
     "output_type": "stream",
     "text": [
      "Adjusting learning rate of group 0 to 1.0000e-01.\n",
      "Epoch 60/200: lr=0.1000, mean batch time = 0.43s, mean data loading time = 0.29, Training loss = 1.2891,0.4071,0.0978,0.0531, Test accuracy = 46.67%,52.87%,60.50%,61.27%,\n"
     ]
    },
    {
     "name": "stderr",
     "output_type": "stream",
     "text": [
      "Training : 100%|██████████| 50/50 [00:22<00:00,  2.25it/s, Msg=Time 0.437s, Data 0.296s, Loss (1.288|0.386|0.092|0.052), Top1 (62.55%|87.39%|97.04%|98.39%|)]\n",
      "100%|██████████| 10/10 [00:02<00:00,  4.89it/s]\n",
      "Training :   0%|          | 0/50 [00:00<?, ?it/s]"
     ]
    },
    {
     "name": "stdout",
     "output_type": "stream",
     "text": [
      "Adjusting learning rate of group 0 to 1.0000e-01.\n",
      "Epoch 61/200: lr=0.1000, mean batch time = 0.44s, mean data loading time = 0.30, Training loss = 1.2882,0.3857,0.0924,0.0520, Test accuracy = 46.71%,54.39%,59.87%,61.60%,\n"
     ]
    },
    {
     "name": "stderr",
     "output_type": "stream",
     "text": [
      "Training : 100%|██████████| 50/50 [00:22<00:00,  2.25it/s, Msg=Time 0.436s, Data 0.295s, Loss (1.297|0.403|0.093|0.052), Top1 (62.39%|86.87%|96.99%|98.37%|)]\n",
      "100%|██████████| 10/10 [00:02<00:00,  4.86it/s]\n",
      "Training :   0%|          | 0/50 [00:00<?, ?it/s]"
     ]
    },
    {
     "name": "stdout",
     "output_type": "stream",
     "text": [
      "Adjusting learning rate of group 0 to 1.0000e-01.\n",
      "Epoch 62/200: lr=0.1000, mean batch time = 0.44s, mean data loading time = 0.30, Training loss = 1.2973,0.4028,0.0930,0.0519, Test accuracy = 49.07%,56.31%,61.46%,63.01%,\n"
     ]
    },
    {
     "name": "stderr",
     "output_type": "stream",
     "text": [
      "Training : 100%|██████████| 50/50 [00:22<00:00,  2.25it/s, Msg=Time 0.437s, Data 0.297s, Loss (1.287|0.401|0.095|0.053), Top1 (62.65%|86.77%|96.98%|98.36%|)]\n",
      "100%|██████████| 10/10 [00:02<00:00,  4.74it/s]\n",
      "Training :   0%|          | 0/50 [00:00<?, ?it/s]"
     ]
    },
    {
     "name": "stdout",
     "output_type": "stream",
     "text": [
      "Adjusting learning rate of group 0 to 1.0000e-01.\n",
      "Epoch 63/200: lr=0.1000, mean batch time = 0.44s, mean data loading time = 0.30, Training loss = 1.2870,0.4013,0.0950,0.0532, Test accuracy = 47.19%,58.10%,62.03%,62.85%,\n"
     ]
    },
    {
     "name": "stderr",
     "output_type": "stream",
     "text": [
      "Training : 100%|██████████| 50/50 [00:22<00:00,  2.25it/s, Msg=Time 0.436s, Data 0.294s, Loss (1.291|0.407|0.106|0.060), Top1 (62.49%|86.62%|96.39%|98.13%|)]\n",
      "100%|██████████| 10/10 [00:02<00:00,  4.83it/s]\n",
      "Training :   0%|          | 0/50 [00:00<?, ?it/s]"
     ]
    },
    {
     "name": "stdout",
     "output_type": "stream",
     "text": [
      "Adjusting learning rate of group 0 to 1.0000e-01.\n",
      "Epoch 64/200: lr=0.1000, mean batch time = 0.44s, mean data loading time = 0.29, Training loss = 1.2913,0.4067,0.1059,0.0602, Test accuracy = 46.20%,57.33%,62.42%,63.29%,\n"
     ]
    },
    {
     "name": "stderr",
     "output_type": "stream",
     "text": [
      "Training : 100%|██████████| 50/50 [00:21<00:00,  2.28it/s, Msg=Time 0.432s, Data 0.292s, Loss (1.278|0.383|0.098|0.055), Top1 (62.96%|87.35%|96.79%|98.32%|)]\n",
      "100%|██████████| 10/10 [00:02<00:00,  4.87it/s]\n",
      "Training :   0%|          | 0/50 [00:00<?, ?it/s]"
     ]
    },
    {
     "name": "stdout",
     "output_type": "stream",
     "text": [
      "Adjusting learning rate of group 0 to 1.0000e-01.\n",
      "Epoch 65/200: lr=0.1000, mean batch time = 0.43s, mean data loading time = 0.29, Training loss = 1.2778,0.3828,0.0976,0.0550, Test accuracy = 46.32%,58.72%,62.43%,63.90%,\n"
     ]
    },
    {
     "name": "stderr",
     "output_type": "stream",
     "text": [
      "Training : 100%|██████████| 50/50 [00:22<00:00,  2.27it/s, Msg=Time 0.432s, Data 0.292s, Loss (1.282|0.377|0.094|0.054), Top1 (62.79%|87.44%|96.96%|98.30%|)]\n",
      "100%|██████████| 10/10 [00:02<00:00,  4.66it/s]\n",
      "Training :   0%|          | 0/50 [00:00<?, ?it/s]"
     ]
    },
    {
     "name": "stdout",
     "output_type": "stream",
     "text": [
      "Adjusting learning rate of group 0 to 1.0000e-01.\n",
      "Epoch 66/200: lr=0.1000, mean batch time = 0.43s, mean data loading time = 0.29, Training loss = 1.2817,0.3772,0.0939,0.0543, Test accuracy = 47.94%,56.03%,61.58%,62.59%,\n"
     ]
    },
    {
     "name": "stderr",
     "output_type": "stream",
     "text": [
      "Training : 100%|██████████| 50/50 [00:22<00:00,  2.24it/s, Msg=Time 0.440s, Data 0.294s, Loss (1.286|0.373|0.091|0.052), Top1 (62.54%|87.73%|96.98%|98.43%|)]\n",
      "100%|██████████| 10/10 [00:02<00:00,  4.84it/s]\n",
      "Training :   0%|          | 0/50 [00:00<?, ?it/s]"
     ]
    },
    {
     "name": "stdout",
     "output_type": "stream",
     "text": [
      "Adjusting learning rate of group 0 to 1.0000e-01.\n",
      "Epoch 67/200: lr=0.1000, mean batch time = 0.44s, mean data loading time = 0.29, Training loss = 1.2860,0.3731,0.0910,0.0520, Test accuracy = 48.29%,54.85%,60.72%,61.54%,\n"
     ]
    },
    {
     "name": "stderr",
     "output_type": "stream",
     "text": [
      "Training : 100%|██████████| 50/50 [00:22<00:00,  2.25it/s, Msg=Time 0.436s, Data 0.292s, Loss (1.275|0.389|0.098|0.059), Top1 (62.97%|86.94%|96.85%|98.12%|)]\n",
      "100%|██████████| 10/10 [00:02<00:00,  4.46it/s]\n",
      "Training :   0%|          | 0/50 [00:00<?, ?it/s]"
     ]
    },
    {
     "name": "stdout",
     "output_type": "stream",
     "text": [
      "Adjusting learning rate of group 0 to 1.0000e-01.\n",
      "Epoch 68/200: lr=0.1000, mean batch time = 0.44s, mean data loading time = 0.29, Training loss = 1.2751,0.3894,0.0985,0.0588, Test accuracy = 49.27%,57.47%,61.68%,63.25%,\n"
     ]
    },
    {
     "name": "stderr",
     "output_type": "stream",
     "text": [
      "Training : 100%|██████████| 50/50 [00:22<00:00,  2.21it/s, Msg=Time 0.444s, Data 0.303s, Loss (1.273|0.377|0.096|0.054), Top1 (62.73%|87.70%|96.88%|98.31%|)]\n",
      "100%|██████████| 10/10 [00:02<00:00,  4.83it/s]\n",
      "Training :   0%|          | 0/50 [00:00<?, ?it/s]"
     ]
    },
    {
     "name": "stdout",
     "output_type": "stream",
     "text": [
      "Adjusting learning rate of group 0 to 1.0000e-01.\n",
      "Epoch 69/200: lr=0.1000, mean batch time = 0.44s, mean data loading time = 0.30, Training loss = 1.2734,0.3771,0.0956,0.0539, Test accuracy = 47.56%,56.04%,61.75%,62.19%,\n"
     ]
    },
    {
     "name": "stderr",
     "output_type": "stream",
     "text": [
      "Training : 100%|██████████| 50/50 [00:22<00:00,  2.22it/s, Msg=Time 0.442s, Data 0.301s, Loss (1.263|0.372|0.091|0.052), Top1 (63.08%|87.72%|97.01%|98.35%|)]\n",
      "100%|██████████| 10/10 [00:02<00:00,  4.84it/s]\n",
      "Training :   0%|          | 0/50 [00:00<?, ?it/s]"
     ]
    },
    {
     "name": "stdout",
     "output_type": "stream",
     "text": [
      "Adjusting learning rate of group 0 to 1.0000e-01.\n",
      "Epoch 70/200: lr=0.1000, mean batch time = 0.44s, mean data loading time = 0.30, Training loss = 1.2634,0.3719,0.0914,0.0522, Test accuracy = 49.76%,55.73%,60.91%,62.75%,\n"
     ]
    },
    {
     "name": "stderr",
     "output_type": "stream",
     "text": [
      "Training : 100%|██████████| 50/50 [00:22<00:00,  2.23it/s, Msg=Time 0.442s, Data 0.300s, Loss (1.264|0.367|0.092|0.053), Top1 (63.05%|87.95%|96.99%|98.34%|)]\n",
      "100%|██████████| 10/10 [00:02<00:00,  4.45it/s]\n",
      "Training :   0%|          | 0/50 [00:00<?, ?it/s]"
     ]
    },
    {
     "name": "stdout",
     "output_type": "stream",
     "text": [
      "Adjusting learning rate of group 0 to 1.0000e-01.\n",
      "Epoch 71/200: lr=0.1000, mean batch time = 0.44s, mean data loading time = 0.30, Training loss = 1.2636,0.3668,0.0924,0.0533, Test accuracy = 44.90%,55.89%,61.21%,62.76%,\n"
     ]
    },
    {
     "name": "stderr",
     "output_type": "stream",
     "text": [
      "Training : 100%|██████████| 50/50 [00:22<00:00,  2.26it/s, Msg=Time 0.436s, Data 0.295s, Loss (1.266|0.368|0.086|0.051), Top1 (62.88%|87.93%|97.19%|98.40%|)]\n",
      "100%|██████████| 10/10 [00:02<00:00,  4.40it/s]\n",
      "Training :   0%|          | 0/50 [00:00<?, ?it/s]"
     ]
    },
    {
     "name": "stdout",
     "output_type": "stream",
     "text": [
      "Adjusting learning rate of group 0 to 1.0000e-01.\n",
      "Epoch 72/200: lr=0.1000, mean batch time = 0.44s, mean data loading time = 0.30, Training loss = 1.2661,0.3679,0.0864,0.0511, Test accuracy = 48.46%,56.99%,61.34%,63.18%,\n"
     ]
    },
    {
     "name": "stderr",
     "output_type": "stream",
     "text": [
      "Training : 100%|██████████| 50/50 [00:22<00:00,  2.24it/s, Msg=Time 0.438s, Data 0.297s, Loss (1.267|0.378|0.092|0.053), Top1 (63.05%|87.44%|97.05%|98.33%|)]\n",
      "100%|██████████| 10/10 [00:02<00:00,  4.91it/s]\n",
      "Training :   0%|          | 0/50 [00:00<?, ?it/s]"
     ]
    },
    {
     "name": "stdout",
     "output_type": "stream",
     "text": [
      "Adjusting learning rate of group 0 to 1.0000e-01.\n",
      "Epoch 73/200: lr=0.1000, mean batch time = 0.44s, mean data loading time = 0.30, Training loss = 1.2666,0.3779,0.0917,0.0532, Test accuracy = 49.47%,56.82%,61.29%,61.79%,\n"
     ]
    },
    {
     "name": "stderr",
     "output_type": "stream",
     "text": [
      "Training : 100%|██████████| 50/50 [00:21<00:00,  2.28it/s, Msg=Time 0.431s, Data 0.292s, Loss (1.275|0.374|0.087|0.050), Top1 (62.66%|87.70%|97.23%|98.40%|)]\n",
      "100%|██████████| 10/10 [00:02<00:00,  4.49it/s]\n",
      "Training :   0%|          | 0/50 [00:00<?, ?it/s]"
     ]
    },
    {
     "name": "stdout",
     "output_type": "stream",
     "text": [
      "Adjusting learning rate of group 0 to 1.0000e-01.\n",
      "Epoch 74/200: lr=0.1000, mean batch time = 0.43s, mean data loading time = 0.29, Training loss = 1.2749,0.3739,0.0870,0.0499, Test accuracy = 46.10%,56.51%,61.44%,61.75%,\n"
     ]
    },
    {
     "name": "stderr",
     "output_type": "stream",
     "text": [
      "Training : 100%|██████████| 50/50 [00:22<00:00,  2.24it/s, Msg=Time 0.439s, Data 0.299s, Loss (1.268|0.380|0.094|0.054), Top1 (62.89%|87.32%|97.06%|98.39%|)]\n",
      "100%|██████████| 10/10 [00:02<00:00,  4.77it/s]\n",
      "Training :   0%|          | 0/50 [00:00<?, ?it/s]"
     ]
    },
    {
     "name": "stdout",
     "output_type": "stream",
     "text": [
      "Adjusting learning rate of group 0 to 1.0000e-02.\n",
      "Epoch 75/200: lr=0.0100, mean batch time = 0.44s, mean data loading time = 0.30, Training loss = 1.2681,0.3798,0.0936,0.0538, Test accuracy = 46.55%,55.27%,61.86%,63.45%,\n"
     ]
    },
    {
     "name": "stderr",
     "output_type": "stream",
     "text": [
      "Training : 100%|██████████| 50/50 [00:22<00:00,  2.27it/s, Msg=Time 0.433s, Data 0.294s, Loss (1.103|0.222|0.039|0.022), Top1 (67.89%|93.20%|98.94%|99.41%|)]\n",
      "100%|██████████| 10/10 [00:02<00:00,  4.94it/s]\n",
      "Training :   0%|          | 0/50 [00:00<?, ?it/s]"
     ]
    },
    {
     "name": "stdout",
     "output_type": "stream",
     "text": [
      "Adjusting learning rate of group 0 to 1.0000e-02.\n",
      "Epoch 76/200: lr=0.0100, mean batch time = 0.43s, mean data loading time = 0.29, Training loss = 1.1028,0.2217,0.0395,0.0220, Test accuracy = 56.73%,64.60%,68.56%,69.22%,\n"
     ]
    },
    {
     "name": "stderr",
     "output_type": "stream",
     "text": [
      "Training : 100%|██████████| 50/50 [00:21<00:00,  2.28it/s, Msg=Time 0.431s, Data 0.290s, Loss (1.051|0.164|0.019|0.010), Top1 (69.37%|95.50%|99.64%|99.82%|)]\n",
      "100%|██████████| 10/10 [00:02<00:00,  4.80it/s]\n",
      "Training :   0%|          | 0/50 [00:00<?, ?it/s]"
     ]
    },
    {
     "name": "stdout",
     "output_type": "stream",
     "text": [
      "Adjusting learning rate of group 0 to 1.0000e-02.\n",
      "Epoch 77/200: lr=0.0100, mean batch time = 0.43s, mean data loading time = 0.29, Training loss = 1.0514,0.1641,0.0193,0.0095, Test accuracy = 57.23%,65.07%,68.49%,69.63%,\n"
     ]
    },
    {
     "name": "stderr",
     "output_type": "stream",
     "text": [
      "Training : 100%|██████████| 50/50 [00:22<00:00,  2.22it/s, Msg=Time 0.442s, Data 0.298s, Loss (1.045|0.153|0.017|0.007), Top1 (69.71%|95.89%|99.71%|99.88%|)]\n",
      "100%|██████████| 10/10 [00:02<00:00,  4.81it/s]\n",
      "Training :   0%|          | 0/50 [00:00<?, ?it/s]"
     ]
    },
    {
     "name": "stdout",
     "output_type": "stream",
     "text": [
      "Adjusting learning rate of group 0 to 1.0000e-02.\n",
      "Epoch 78/200: lr=0.0100, mean batch time = 0.44s, mean data loading time = 0.30, Training loss = 1.0449,0.1535,0.0167,0.0075, Test accuracy = 57.37%,64.86%,68.47%,69.77%,\n"
     ]
    },
    {
     "name": "stderr",
     "output_type": "stream",
     "text": [
      "Training : 100%|██████████| 50/50 [00:21<00:00,  2.28it/s, Msg=Time 0.432s, Data 0.292s, Loss (1.038|0.145|0.015|0.006), Top1 (69.84%|96.25%|99.75%|99.91%|)]\n",
      "100%|██████████| 10/10 [00:02<00:00,  4.76it/s]\n",
      "Training :   0%|          | 0/50 [00:00<?, ?it/s]"
     ]
    },
    {
     "name": "stdout",
     "output_type": "stream",
     "text": [
      "Adjusting learning rate of group 0 to 1.0000e-02.\n",
      "Epoch 79/200: lr=0.0100, mean batch time = 0.43s, mean data loading time = 0.29, Training loss = 1.0380,0.1445,0.0146,0.0062, Test accuracy = 57.08%,65.08%,68.55%,69.61%,\n"
     ]
    },
    {
     "name": "stderr",
     "output_type": "stream",
     "text": [
      "Training : 100%|██████████| 50/50 [00:21<00:00,  2.27it/s, Msg=Time 0.432s, Data 0.294s, Loss (1.036|0.142|0.013|0.006), Top1 (69.85%|96.38%|99.80%|99.90%|)]\n",
      "100%|██████████| 10/10 [00:02<00:00,  4.45it/s]\n",
      "Training :   0%|          | 0/50 [00:00<?, ?it/s]"
     ]
    },
    {
     "name": "stdout",
     "output_type": "stream",
     "text": [
      "Adjusting learning rate of group 0 to 1.0000e-02.\n",
      "Epoch 80/200: lr=0.0100, mean batch time = 0.43s, mean data loading time = 0.29, Training loss = 1.0356,0.1419,0.0133,0.0060, Test accuracy = 57.21%,65.00%,68.78%,69.67%,\n"
     ]
    },
    {
     "name": "stderr",
     "output_type": "stream",
     "text": [
      "Training : 100%|██████████| 50/50 [00:22<00:00,  2.24it/s, Msg=Time 0.440s, Data 0.298s, Loss (1.027|0.133|0.012|0.005), Top1 (70.00%|96.76%|99.84%|99.91%|)]\n",
      "100%|██████████| 10/10 [00:01<00:00,  5.00it/s]\n",
      "Training :   0%|          | 0/50 [00:00<?, ?it/s]"
     ]
    },
    {
     "name": "stdout",
     "output_type": "stream",
     "text": [
      "Adjusting learning rate of group 0 to 1.0000e-02.\n",
      "Epoch 81/200: lr=0.0100, mean batch time = 0.44s, mean data loading time = 0.30, Training loss = 1.0272,0.1334,0.0124,0.0052, Test accuracy = 56.92%,64.62%,68.66%,69.77%,\n"
     ]
    },
    {
     "name": "stderr",
     "output_type": "stream",
     "text": [
      "Training : 100%|██████████| 50/50 [00:21<00:00,  2.28it/s, Msg=Time 0.432s, Data 0.289s, Loss (1.023|0.130|0.012|0.005), Top1 (70.24%|96.72%|99.83%|99.95%|)]\n",
      "100%|██████████| 10/10 [00:02<00:00,  4.87it/s]\n",
      "Training :   0%|          | 0/50 [00:00<?, ?it/s]"
     ]
    },
    {
     "name": "stdout",
     "output_type": "stream",
     "text": [
      "Adjusting learning rate of group 0 to 1.0000e-02.\n",
      "Epoch 82/200: lr=0.0100, mean batch time = 0.43s, mean data loading time = 0.29, Training loss = 1.0228,0.1302,0.0116,0.0048, Test accuracy = 57.15%,64.84%,68.71%,69.44%,\n"
     ]
    },
    {
     "name": "stderr",
     "output_type": "stream",
     "text": [
      "Training : 100%|██████████| 50/50 [00:21<00:00,  2.28it/s, Msg=Time 0.431s, Data 0.292s, Loss (1.023|0.129|0.012|0.005), Top1 (70.21%|96.89%|99.81%|99.94%|)]\n",
      "100%|██████████| 10/10 [00:02<00:00,  4.64it/s]\n",
      "Training :   0%|          | 0/50 [00:00<?, ?it/s]"
     ]
    },
    {
     "name": "stdout",
     "output_type": "stream",
     "text": [
      "Adjusting learning rate of group 0 to 1.0000e-02.\n",
      "Epoch 83/200: lr=0.0100, mean batch time = 0.43s, mean data loading time = 0.29, Training loss = 1.0229,0.1295,0.0118,0.0048, Test accuracy = 57.31%,64.73%,68.67%,69.72%,\n"
     ]
    },
    {
     "name": "stderr",
     "output_type": "stream",
     "text": [
      "Training : 100%|██████████| 50/50 [00:21<00:00,  2.28it/s, Msg=Time 0.431s, Data 0.291s, Loss (1.018|0.127|0.010|0.004), Top1 (70.44%|96.86%|99.86%|99.94%|)] \n",
      "100%|██████████| 10/10 [00:02<00:00,  4.75it/s]\n",
      "Training :   0%|          | 0/50 [00:00<?, ?it/s]"
     ]
    },
    {
     "name": "stdout",
     "output_type": "stream",
     "text": [
      "Adjusting learning rate of group 0 to 1.0000e-02.\n",
      "Epoch 84/200: lr=0.0100, mean batch time = 0.43s, mean data loading time = 0.29, Training loss = 1.0184,0.1275,0.0105,0.0042, Test accuracy = 56.97%,64.80%,68.65%,69.97%,\n"
     ]
    },
    {
     "name": "stderr",
     "output_type": "stream",
     "text": [
      "Training : 100%|██████████| 50/50 [00:22<00:00,  2.23it/s, Msg=Time 0.441s, Data 0.299s, Loss (1.019|0.125|0.011|0.004), Top1 (70.13%|97.04%|99.85%|99.93%|)]\n",
      "100%|██████████| 10/10 [00:02<00:00,  4.99it/s]\n",
      "Training :   0%|          | 0/50 [00:00<?, ?it/s]"
     ]
    },
    {
     "name": "stdout",
     "output_type": "stream",
     "text": [
      "Adjusting learning rate of group 0 to 1.0000e-02.\n",
      "Epoch 85/200: lr=0.0100, mean batch time = 0.44s, mean data loading time = 0.30, Training loss = 1.0189,0.1250,0.0107,0.0044, Test accuracy = 57.00%,64.94%,68.92%,69.60%,\n"
     ]
    },
    {
     "name": "stderr",
     "output_type": "stream",
     "text": [
      "Training : 100%|██████████| 50/50 [00:21<00:00,  2.28it/s, Msg=Time 0.431s, Data 0.289s, Loss (1.017|0.122|0.010|0.004), Top1 (70.43%|97.08%|99.85%|99.93%|)]\n",
      "100%|██████████| 10/10 [00:02<00:00,  4.99it/s]\n",
      "Training :   0%|          | 0/50 [00:00<?, ?it/s]"
     ]
    },
    {
     "name": "stdout",
     "output_type": "stream",
     "text": [
      "Adjusting learning rate of group 0 to 1.0000e-02.\n",
      "Epoch 86/200: lr=0.0100, mean batch time = 0.43s, mean data loading time = 0.29, Training loss = 1.0173,0.1218,0.0102,0.0043, Test accuracy = 57.22%,64.77%,68.98%,70.06%,\n"
     ]
    },
    {
     "name": "stderr",
     "output_type": "stream",
     "text": [
      "Training : 100%|██████████| 50/50 [00:21<00:00,  2.27it/s, Msg=Time 0.433s, Data 0.292s, Loss (1.014|0.120|0.010|0.004), Top1 (70.50%|97.16%|99.86%|99.95%|)] \n",
      "100%|██████████| 10/10 [00:02<00:00,  4.82it/s]\n",
      "Training :   0%|          | 0/50 [00:00<?, ?it/s]"
     ]
    },
    {
     "name": "stdout",
     "output_type": "stream",
     "text": [
      "Adjusting learning rate of group 0 to 1.0000e-02.\n",
      "Epoch 87/200: lr=0.0100, mean batch time = 0.43s, mean data loading time = 0.29, Training loss = 1.0139,0.1198,0.0103,0.0039, Test accuracy = 57.20%,64.95%,68.95%,69.78%,\n"
     ]
    },
    {
     "name": "stderr",
     "output_type": "stream",
     "text": [
      "Training : 100%|██████████| 50/50 [00:22<00:00,  2.25it/s, Msg=Time 0.437s, Data 0.297s, Loss (1.007|0.116|0.010|0.004), Top1 (70.70%|97.35%|99.88%|99.94%|)] \n",
      "100%|██████████| 10/10 [00:02<00:00,  4.89it/s]\n",
      "Training :   0%|          | 0/50 [00:00<?, ?it/s]"
     ]
    },
    {
     "name": "stdout",
     "output_type": "stream",
     "text": [
      "Adjusting learning rate of group 0 to 1.0000e-02.\n",
      "Epoch 88/200: lr=0.0100, mean batch time = 0.44s, mean data loading time = 0.30, Training loss = 1.0069,0.1162,0.0095,0.0040, Test accuracy = 57.14%,64.64%,68.43%,69.75%,\n"
     ]
    },
    {
     "name": "stderr",
     "output_type": "stream",
     "text": [
      "Training : 100%|██████████| 50/50 [00:22<00:00,  2.27it/s, Msg=Time 0.433s, Data 0.292s, Loss (1.006|0.118|0.010|0.004), Top1 (70.48%|97.23%|99.86%|99.95%|)]\n",
      "100%|██████████| 10/10 [00:02<00:00,  4.85it/s]\n",
      "Training :   0%|          | 0/50 [00:00<?, ?it/s]"
     ]
    },
    {
     "name": "stdout",
     "output_type": "stream",
     "text": [
      "Adjusting learning rate of group 0 to 1.0000e-02.\n",
      "Epoch 89/200: lr=0.0100, mean batch time = 0.43s, mean data loading time = 0.29, Training loss = 1.0056,0.1176,0.0099,0.0040, Test accuracy = 56.71%,64.51%,68.64%,69.95%,\n"
     ]
    },
    {
     "name": "stderr",
     "output_type": "stream",
     "text": [
      "Training : 100%|██████████| 50/50 [00:21<00:00,  2.27it/s, Msg=Time 0.432s, Data 0.291s, Loss (1.005|0.115|0.010|0.004), Top1 (70.62%|97.36%|99.85%|99.94%|)]\n",
      "100%|██████████| 10/10 [00:02<00:00,  4.84it/s]\n",
      "Training :   0%|          | 0/50 [00:00<?, ?it/s]"
     ]
    },
    {
     "name": "stdout",
     "output_type": "stream",
     "text": [
      "Adjusting learning rate of group 0 to 1.0000e-02.\n",
      "Epoch 90/200: lr=0.0100, mean batch time = 0.43s, mean data loading time = 0.29, Training loss = 1.0049,0.1145,0.0097,0.0038, Test accuracy = 56.54%,64.77%,68.88%,69.83%,\n"
     ]
    },
    {
     "name": "stderr",
     "output_type": "stream",
     "text": [
      "Training : 100%|██████████| 50/50 [00:22<00:00,  2.26it/s, Msg=Time 0.434s, Data 0.294s, Loss (1.005|0.114|0.009|0.003), Top1 (70.61%|97.32%|99.89%|99.96%|)]\n",
      "100%|██████████| 10/10 [00:02<00:00,  4.89it/s]\n",
      "Training :   0%|          | 0/50 [00:00<?, ?it/s]"
     ]
    },
    {
     "name": "stdout",
     "output_type": "stream",
     "text": [
      "Adjusting learning rate of group 0 to 1.0000e-02.\n",
      "Epoch 91/200: lr=0.0100, mean batch time = 0.43s, mean data loading time = 0.29, Training loss = 1.0045,0.1138,0.0090,0.0034, Test accuracy = 56.73%,64.77%,68.77%,69.87%,\n"
     ]
    },
    {
     "name": "stderr",
     "output_type": "stream",
     "text": [
      "Training : 100%|██████████| 50/50 [00:21<00:00,  2.28it/s, Msg=Time 0.432s, Data 0.293s, Loss (1.004|0.116|0.009|0.004), Top1 (70.72%|97.19%|99.88%|99.93%|)] \n",
      "100%|██████████| 10/10 [00:02<00:00,  4.93it/s]\n",
      "Training :   0%|          | 0/50 [00:00<?, ?it/s]"
     ]
    },
    {
     "name": "stdout",
     "output_type": "stream",
     "text": [
      "Adjusting learning rate of group 0 to 1.0000e-02.\n",
      "Epoch 92/200: lr=0.0100, mean batch time = 0.43s, mean data loading time = 0.29, Training loss = 1.0042,0.1161,0.0094,0.0038, Test accuracy = 56.98%,64.78%,68.88%,69.90%,\n"
     ]
    },
    {
     "name": "stderr",
     "output_type": "stream",
     "text": [
      "Training : 100%|██████████| 50/50 [00:22<00:00,  2.26it/s, Msg=Time 0.435s, Data 0.294s, Loss (1.001|0.113|0.009|0.004), Top1 (70.69%|97.45%|99.87%|99.93%|)]\n",
      "100%|██████████| 10/10 [00:02<00:00,  4.99it/s]\n",
      "Training :   0%|          | 0/50 [00:00<?, ?it/s]"
     ]
    },
    {
     "name": "stdout",
     "output_type": "stream",
     "text": [
      "Adjusting learning rate of group 0 to 1.0000e-02.\n",
      "Epoch 93/200: lr=0.0100, mean batch time = 0.43s, mean data loading time = 0.29, Training loss = 1.0005,0.1129,0.0090,0.0036, Test accuracy = 56.32%,64.76%,68.74%,69.88%,\n"
     ]
    },
    {
     "name": "stderr",
     "output_type": "stream",
     "text": [
      "Training : 100%|██████████| 50/50 [00:22<00:00,  2.25it/s, Msg=Time 0.437s, Data 0.296s, Loss (1.000|0.111|0.008|0.003), Top1 (70.63%|97.44%|99.91%|99.95%|)]\n",
      "100%|██████████| 10/10 [00:02<00:00,  4.69it/s]\n",
      "Training :   0%|          | 0/50 [00:00<?, ?it/s]"
     ]
    },
    {
     "name": "stdout",
     "output_type": "stream",
     "text": [
      "Adjusting learning rate of group 0 to 1.0000e-02.\n",
      "Epoch 94/200: lr=0.0100, mean batch time = 0.44s, mean data loading time = 0.30, Training loss = 0.9997,0.1105,0.0084,0.0032, Test accuracy = 56.70%,64.57%,68.75%,69.84%,\n"
     ]
    },
    {
     "name": "stderr",
     "output_type": "stream",
     "text": [
      "Training : 100%|██████████| 50/50 [00:22<00:00,  2.27it/s, Msg=Time 0.434s, Data 0.293s, Loss (0.997|0.110|0.009|0.003), Top1 (70.86%|97.43%|99.90%|99.93%|)]\n",
      "100%|██████████| 10/10 [00:02<00:00,  4.86it/s]\n",
      "Training :   0%|          | 0/50 [00:00<?, ?it/s]"
     ]
    },
    {
     "name": "stdout",
     "output_type": "stream",
     "text": [
      "Adjusting learning rate of group 0 to 1.0000e-02.\n",
      "Epoch 95/200: lr=0.0100, mean batch time = 0.43s, mean data loading time = 0.29, Training loss = 0.9970,0.1105,0.0086,0.0034, Test accuracy = 56.79%,64.77%,68.82%,69.91%,\n"
     ]
    },
    {
     "name": "stderr",
     "output_type": "stream",
     "text": [
      "Training : 100%|██████████| 50/50 [00:22<00:00,  2.26it/s, Msg=Time 0.435s, Data 0.295s, Loss (0.994|0.108|0.009|0.003), Top1 (70.73%|97.53%|99.88%|99.95%|)]\n",
      "100%|██████████| 10/10 [00:02<00:00,  4.90it/s]\n",
      "Training :   0%|          | 0/50 [00:00<?, ?it/s]"
     ]
    },
    {
     "name": "stdout",
     "output_type": "stream",
     "text": [
      "Adjusting learning rate of group 0 to 1.0000e-02.\n",
      "Epoch 96/200: lr=0.0100, mean batch time = 0.43s, mean data loading time = 0.29, Training loss = 0.9944,0.1084,0.0086,0.0030, Test accuracy = 56.73%,64.65%,68.46%,69.66%,\n"
     ]
    },
    {
     "name": "stderr",
     "output_type": "stream",
     "text": [
      "Training : 100%|██████████| 50/50 [00:22<00:00,  2.27it/s, Msg=Time 0.433s, Data 0.294s, Loss (0.994|0.109|0.008|0.003), Top1 (70.76%|97.55%|99.90%|99.96%|)] \n",
      "100%|██████████| 10/10 [00:02<00:00,  4.92it/s]\n",
      "Training :   0%|          | 0/50 [00:00<?, ?it/s]"
     ]
    },
    {
     "name": "stdout",
     "output_type": "stream",
     "text": [
      "Adjusting learning rate of group 0 to 1.0000e-02.\n",
      "Epoch 97/200: lr=0.0100, mean batch time = 0.43s, mean data loading time = 0.29, Training loss = 0.9941,0.1085,0.0085,0.0032, Test accuracy = 57.02%,64.55%,68.37%,69.59%,\n"
     ]
    },
    {
     "name": "stderr",
     "output_type": "stream",
     "text": [
      "Training : 100%|██████████| 50/50 [00:22<00:00,  2.23it/s, Msg=Time 0.440s, Data 0.298s, Loss (0.991|0.109|0.008|0.003), Top1 (70.98%|97.43%|99.94%|99.96%|)] \n",
      "100%|██████████| 10/10 [00:02<00:00,  4.71it/s]\n",
      "Training :   0%|          | 0/50 [00:00<?, ?it/s]"
     ]
    },
    {
     "name": "stdout",
     "output_type": "stream",
     "text": [
      "Adjusting learning rate of group 0 to 1.0000e-02.\n",
      "Epoch 98/200: lr=0.0100, mean batch time = 0.44s, mean data loading time = 0.30, Training loss = 0.9914,0.1087,0.0083,0.0033, Test accuracy = 57.03%,64.46%,68.58%,69.77%,\n"
     ]
    },
    {
     "name": "stderr",
     "output_type": "stream",
     "text": [
      "Training : 100%|██████████| 50/50 [00:22<00:00,  2.27it/s, Msg=Time 0.434s, Data 0.294s, Loss (0.992|0.105|0.008|0.003), Top1 (70.79%|97.68%|99.90%|99.97%|)] \n",
      "100%|██████████| 10/10 [00:02<00:00,  4.81it/s]\n",
      "Training :   0%|          | 0/50 [00:00<?, ?it/s]"
     ]
    },
    {
     "name": "stdout",
     "output_type": "stream",
     "text": [
      "Adjusting learning rate of group 0 to 1.0000e-02.\n",
      "Epoch 99/200: lr=0.0100, mean batch time = 0.43s, mean data loading time = 0.29, Training loss = 0.9921,0.1050,0.0084,0.0031, Test accuracy = 56.80%,64.72%,68.50%,69.49%,\n"
     ]
    },
    {
     "name": "stderr",
     "output_type": "stream",
     "text": [
      "Training : 100%|██████████| 50/50 [00:22<00:00,  2.22it/s, Msg=Time 0.443s, Data 0.300s, Loss (0.990|0.105|0.008|0.003), Top1 (71.06%|97.67%|99.90%|99.96%|)]\n",
      "100%|██████████| 10/10 [00:02<00:00,  4.89it/s]\n",
      "Training :   0%|          | 0/50 [00:00<?, ?it/s]"
     ]
    },
    {
     "name": "stdout",
     "output_type": "stream",
     "text": [
      "Adjusting learning rate of group 0 to 1.0000e-02.\n",
      "Epoch 100/200: lr=0.0100, mean batch time = 0.44s, mean data loading time = 0.30, Training loss = 0.9897,0.1047,0.0084,0.0031, Test accuracy = 57.21%,64.47%,68.61%,69.80%,\n"
     ]
    },
    {
     "name": "stderr",
     "output_type": "stream",
     "text": [
      "Training : 100%|██████████| 50/50 [00:22<00:00,  2.27it/s, Msg=Time 0.433s, Data 0.292s, Loss (0.990|0.104|0.008|0.003), Top1 (71.03%|97.63%|99.91%|99.97%|)]\n",
      "100%|██████████| 10/10 [00:02<00:00,  4.74it/s]\n",
      "Training :   0%|          | 0/50 [00:00<?, ?it/s]"
     ]
    },
    {
     "name": "stdout",
     "output_type": "stream",
     "text": [
      "Adjusting learning rate of group 0 to 1.0000e-02.\n",
      "Epoch 101/200: lr=0.0100, mean batch time = 0.43s, mean data loading time = 0.29, Training loss = 0.9895,0.1035,0.0080,0.0028, Test accuracy = 56.86%,64.53%,68.52%,69.86%,\n"
     ]
    },
    {
     "name": "stderr",
     "output_type": "stream",
     "text": [
      "Training : 100%|██████████| 50/50 [00:22<00:00,  2.27it/s, Msg=Time 0.434s, Data 0.292s, Loss (0.984|0.103|0.008|0.003), Top1 (71.06%|97.66%|99.92%|99.95%|)] \n",
      "100%|██████████| 10/10 [00:02<00:00,  4.87it/s]\n",
      "Training :   0%|          | 0/50 [00:00<?, ?it/s]"
     ]
    },
    {
     "name": "stdout",
     "output_type": "stream",
     "text": [
      "Adjusting learning rate of group 0 to 1.0000e-02.\n",
      "Epoch 102/200: lr=0.0100, mean batch time = 0.43s, mean data loading time = 0.29, Training loss = 0.9844,0.1030,0.0082,0.0032, Test accuracy = 56.71%,64.23%,68.65%,69.64%,\n"
     ]
    },
    {
     "name": "stderr",
     "output_type": "stream",
     "text": [
      "Training : 100%|██████████| 50/50 [00:22<00:00,  2.26it/s, Msg=Time 0.435s, Data 0.295s, Loss (0.987|0.103|0.008|0.003), Top1 (71.18%|97.76%|99.92%|99.96%|)] \n",
      "100%|██████████| 10/10 [00:02<00:00,  4.85it/s]\n",
      "Training :   0%|          | 0/50 [00:00<?, ?it/s]"
     ]
    },
    {
     "name": "stdout",
     "output_type": "stream",
     "text": [
      "Adjusting learning rate of group 0 to 1.0000e-02.\n",
      "Epoch 103/200: lr=0.0100, mean batch time = 0.44s, mean data loading time = 0.30, Training loss = 0.9869,0.1028,0.0075,0.0029, Test accuracy = 57.21%,64.20%,68.69%,69.75%,\n"
     ]
    },
    {
     "name": "stderr",
     "output_type": "stream",
     "text": [
      "Training : 100%|██████████| 50/50 [00:22<00:00,  2.26it/s, Msg=Time 0.436s, Data 0.293s, Loss (0.983|0.103|0.008|0.003), Top1 (71.09%|97.64%|99.90%|99.94%|)]\n",
      "100%|██████████| 10/10 [00:02<00:00,  4.91it/s]\n",
      "Training :   0%|          | 0/50 [00:00<?, ?it/s]"
     ]
    },
    {
     "name": "stdout",
     "output_type": "stream",
     "text": [
      "Adjusting learning rate of group 0 to 1.0000e-02.\n",
      "Epoch 104/200: lr=0.0100, mean batch time = 0.44s, mean data loading time = 0.29, Training loss = 0.9828,0.1029,0.0082,0.0032, Test accuracy = 56.64%,64.40%,68.29%,69.74%,\n"
     ]
    },
    {
     "name": "stderr",
     "output_type": "stream",
     "text": [
      "Training : 100%|██████████| 50/50 [00:22<00:00,  2.27it/s, Msg=Time 0.434s, Data 0.291s, Loss (0.978|0.101|0.008|0.003), Top1 (71.21%|97.69%|99.92%|99.96%|)]\n",
      "100%|██████████| 10/10 [00:01<00:00,  5.01it/s]\n",
      "Training :   0%|          | 0/50 [00:00<?, ?it/s]"
     ]
    },
    {
     "name": "stdout",
     "output_type": "stream",
     "text": [
      "Adjusting learning rate of group 0 to 1.0000e-02.\n",
      "Epoch 105/200: lr=0.0100, mean batch time = 0.43s, mean data loading time = 0.29, Training loss = 0.9782,0.1012,0.0077,0.0028, Test accuracy = 56.36%,64.54%,68.69%,69.64%,\n"
     ]
    },
    {
     "name": "stderr",
     "output_type": "stream",
     "text": [
      "Training : 100%|██████████| 50/50 [00:22<00:00,  2.26it/s, Msg=Time 0.435s, Data 0.295s, Loss (0.983|0.101|0.008|0.003), Top1 (71.10%|97.73%|99.93%|99.96%|)] \n",
      "100%|██████████| 10/10 [00:02<00:00,  4.90it/s]\n",
      "Training :   0%|          | 0/50 [00:00<?, ?it/s]"
     ]
    },
    {
     "name": "stdout",
     "output_type": "stream",
     "text": [
      "Adjusting learning rate of group 0 to 1.0000e-02.\n",
      "Epoch 106/200: lr=0.0100, mean batch time = 0.44s, mean data loading time = 0.29, Training loss = 0.9833,0.1006,0.0081,0.0029, Test accuracy = 56.87%,64.48%,68.49%,69.69%,\n"
     ]
    },
    {
     "name": "stderr",
     "output_type": "stream",
     "text": [
      "Training : 100%|██████████| 50/50 [00:21<00:00,  2.28it/s, Msg=Time 0.432s, Data 0.292s, Loss (0.982|0.101|0.008|0.003), Top1 (71.11%|97.71%|99.91%|99.97%|)]\n",
      "100%|██████████| 10/10 [00:02<00:00,  4.99it/s]\n",
      "Training :   0%|          | 0/50 [00:00<?, ?it/s]"
     ]
    },
    {
     "name": "stdout",
     "output_type": "stream",
     "text": [
      "Adjusting learning rate of group 0 to 1.0000e-02.\n",
      "Epoch 107/200: lr=0.0100, mean batch time = 0.43s, mean data loading time = 0.29, Training loss = 0.9823,0.1015,0.0080,0.0028, Test accuracy = 56.76%,64.30%,68.55%,69.83%,\n"
     ]
    },
    {
     "name": "stderr",
     "output_type": "stream",
     "text": [
      "Training : 100%|██████████| 50/50 [00:22<00:00,  2.26it/s, Msg=Time 0.434s, Data 0.294s, Loss (0.979|0.098|0.008|0.003), Top1 (71.21%|97.79%|99.91%|99.96%|)]\n",
      "100%|██████████| 10/10 [00:02<00:00,  4.93it/s]\n",
      "Training :   0%|          | 0/50 [00:00<?, ?it/s]"
     ]
    },
    {
     "name": "stdout",
     "output_type": "stream",
     "text": [
      "Adjusting learning rate of group 0 to 1.0000e-02.\n",
      "Epoch 108/200: lr=0.0100, mean batch time = 0.43s, mean data loading time = 0.29, Training loss = 0.9791,0.0979,0.0077,0.0028, Test accuracy = 56.25%,64.60%,68.63%,69.61%,\n"
     ]
    },
    {
     "name": "stderr",
     "output_type": "stream",
     "text": [
      "Training : 100%|██████████| 50/50 [00:21<00:00,  2.28it/s, Msg=Time 0.431s, Data 0.299s, Loss (0.980|0.098|0.008|0.003), Top1 (71.10%|97.77%|99.92%|99.97%|)] \n",
      "100%|██████████| 10/10 [00:02<00:00,  4.92it/s]\n",
      "Training :   0%|          | 0/50 [00:00<?, ?it/s]"
     ]
    },
    {
     "name": "stdout",
     "output_type": "stream",
     "text": [
      "Adjusting learning rate of group 0 to 1.0000e-02.\n",
      "Epoch 109/200: lr=0.0100, mean batch time = 0.43s, mean data loading time = 0.30, Training loss = 0.9799,0.0983,0.0077,0.0028, Test accuracy = 56.64%,64.27%,68.66%,69.66%,\n"
     ]
    },
    {
     "name": "stderr",
     "output_type": "stream",
     "text": [
      "Training : 100%|██████████| 50/50 [00:22<00:00,  2.24it/s, Msg=Time 0.440s, Data 0.299s, Loss (0.977|0.099|0.007|0.003), Top1 (71.14%|97.76%|99.93%|99.96%|)]\n",
      "100%|██████████| 10/10 [00:02<00:00,  4.94it/s]\n",
      "Training :   0%|          | 0/50 [00:00<?, ?it/s]"
     ]
    },
    {
     "name": "stdout",
     "output_type": "stream",
     "text": [
      "Adjusting learning rate of group 0 to 1.0000e-02.\n",
      "Epoch 110/200: lr=0.0100, mean batch time = 0.44s, mean data loading time = 0.30, Training loss = 0.9766,0.0985,0.0073,0.0027, Test accuracy = 56.37%,64.40%,68.55%,69.63%,\n"
     ]
    },
    {
     "name": "stderr",
     "output_type": "stream",
     "text": [
      "Training : 100%|██████████| 50/50 [00:22<00:00,  2.25it/s, Msg=Time 0.436s, Data 0.296s, Loss (0.982|0.098|0.008|0.003), Top1 (71.21%|97.81%|99.91%|99.96%|)]\n",
      "100%|██████████| 10/10 [00:02<00:00,  4.83it/s]\n",
      "Training :   0%|          | 0/50 [00:00<?, ?it/s]"
     ]
    },
    {
     "name": "stdout",
     "output_type": "stream",
     "text": [
      "Adjusting learning rate of group 0 to 1.0000e-02.\n",
      "Epoch 111/200: lr=0.0100, mean batch time = 0.44s, mean data loading time = 0.30, Training loss = 0.9821,0.0982,0.0078,0.0028, Test accuracy = 56.22%,64.14%,68.61%,69.60%,\n"
     ]
    },
    {
     "name": "stderr",
     "output_type": "stream",
     "text": [
      "Training : 100%|██████████| 50/50 [00:22<00:00,  2.27it/s, Msg=Time 0.433s, Data 0.293s, Loss (0.977|0.097|0.007|0.003), Top1 (71.34%|97.85%|99.93%|99.96%|)]\n",
      "100%|██████████| 10/10 [00:02<00:00,  4.77it/s]\n",
      "Training :   0%|          | 0/50 [00:00<?, ?it/s]"
     ]
    },
    {
     "name": "stdout",
     "output_type": "stream",
     "text": [
      "Adjusting learning rate of group 0 to 1.0000e-02.\n",
      "Epoch 112/200: lr=0.0100, mean batch time = 0.43s, mean data loading time = 0.29, Training loss = 0.9774,0.0966,0.0075,0.0028, Test accuracy = 56.49%,64.05%,68.42%,69.53%,\n"
     ]
    },
    {
     "name": "stderr",
     "output_type": "stream",
     "text": [
      "Training : 100%|██████████| 50/50 [00:21<00:00,  2.28it/s, Msg=Time 0.431s, Data 0.292s, Loss (0.972|0.095|0.007|0.003), Top1 (71.31%|97.89%|99.93%|99.96%|)] \n",
      "100%|██████████| 10/10 [00:02<00:00,  4.74it/s]\n",
      "Training :   0%|          | 0/50 [00:00<?, ?it/s]"
     ]
    },
    {
     "name": "stdout",
     "output_type": "stream",
     "text": [
      "Adjusting learning rate of group 0 to 1.0000e-02.\n",
      "Epoch 113/200: lr=0.0100, mean batch time = 0.43s, mean data loading time = 0.29, Training loss = 0.9716,0.0951,0.0074,0.0027, Test accuracy = 56.97%,64.57%,68.64%,69.84%,\n"
     ]
    },
    {
     "name": "stderr",
     "output_type": "stream",
     "text": [
      "Training : 100%|██████████| 50/50 [00:22<00:00,  2.27it/s, Msg=Time 0.433s, Data 0.298s, Loss (0.973|0.096|0.007|0.003), Top1 (71.23%|97.83%|99.93%|99.97%|)]\n",
      "100%|██████████| 10/10 [00:02<00:00,  4.97it/s]\n",
      "Training :   0%|          | 0/50 [00:00<?, ?it/s]"
     ]
    },
    {
     "name": "stdout",
     "output_type": "stream",
     "text": [
      "Adjusting learning rate of group 0 to 1.0000e-02.\n",
      "Epoch 114/200: lr=0.0100, mean batch time = 0.43s, mean data loading time = 0.30, Training loss = 0.9727,0.0957,0.0074,0.0025, Test accuracy = 56.71%,64.90%,68.57%,69.66%,\n"
     ]
    },
    {
     "name": "stderr",
     "output_type": "stream",
     "text": [
      "Training : 100%|██████████| 50/50 [00:22<00:00,  2.26it/s, Msg=Time 0.436s, Data 0.296s, Loss (0.976|0.096|0.007|0.003), Top1 (71.18%|97.90%|99.93%|99.97%|)] \n",
      "100%|██████████| 10/10 [00:02<00:00,  4.84it/s]\n",
      "Training :   0%|          | 0/50 [00:00<?, ?it/s]"
     ]
    },
    {
     "name": "stdout",
     "output_type": "stream",
     "text": [
      "Adjusting learning rate of group 0 to 1.0000e-02.\n",
      "Epoch 115/200: lr=0.0100, mean batch time = 0.44s, mean data loading time = 0.30, Training loss = 0.9764,0.0956,0.0074,0.0027, Test accuracy = 56.90%,64.16%,68.37%,69.50%,\n"
     ]
    },
    {
     "name": "stderr",
     "output_type": "stream",
     "text": [
      "Training : 100%|██████████| 50/50 [00:21<00:00,  2.28it/s, Msg=Time 0.432s, Data 0.292s, Loss (0.971|0.093|0.007|0.003), Top1 (71.46%|98.00%|99.94%|99.97%|)]\n",
      "100%|██████████| 10/10 [00:02<00:00,  4.87it/s]\n",
      "Training :   0%|          | 0/50 [00:00<?, ?it/s]"
     ]
    },
    {
     "name": "stdout",
     "output_type": "stream",
     "text": [
      "Adjusting learning rate of group 0 to 1.0000e-02.\n",
      "Epoch 116/200: lr=0.0100, mean batch time = 0.43s, mean data loading time = 0.29, Training loss = 0.9715,0.0931,0.0072,0.0026, Test accuracy = 56.28%,64.32%,68.34%,69.72%,\n"
     ]
    },
    {
     "name": "stderr",
     "output_type": "stream",
     "text": [
      "Training : 100%|██████████| 50/50 [00:22<00:00,  2.27it/s, Msg=Time 0.433s, Data 0.293s, Loss (0.974|0.095|0.008|0.003), Top1 (71.01%|97.85%|99.92%|99.97%|)]\n",
      "100%|██████████| 10/10 [00:02<00:00,  4.91it/s]\n",
      "Training :   0%|          | 0/50 [00:00<?, ?it/s]"
     ]
    },
    {
     "name": "stdout",
     "output_type": "stream",
     "text": [
      "Adjusting learning rate of group 0 to 1.0000e-02.\n",
      "Epoch 117/200: lr=0.0100, mean batch time = 0.43s, mean data loading time = 0.29, Training loss = 0.9743,0.0953,0.0077,0.0026, Test accuracy = 56.72%,64.28%,68.67%,69.61%,\n"
     ]
    },
    {
     "name": "stderr",
     "output_type": "stream",
     "text": [
      "Training : 100%|██████████| 50/50 [00:21<00:00,  2.28it/s, Msg=Time 0.432s, Data 0.292s, Loss (0.971|0.093|0.007|0.003), Top1 (71.49%|97.95%|99.91%|99.97%|)] \n",
      "100%|██████████| 10/10 [00:02<00:00,  4.82it/s]\n",
      "Training :   0%|          | 0/50 [00:00<?, ?it/s]"
     ]
    },
    {
     "name": "stdout",
     "output_type": "stream",
     "text": [
      "Adjusting learning rate of group 0 to 1.0000e-02.\n",
      "Epoch 118/200: lr=0.0100, mean batch time = 0.43s, mean data loading time = 0.29, Training loss = 0.9709,0.0931,0.0073,0.0025, Test accuracy = 56.92%,64.28%,68.18%,69.50%,\n"
     ]
    },
    {
     "name": "stderr",
     "output_type": "stream",
     "text": [
      "Training : 100%|██████████| 50/50 [00:22<00:00,  2.25it/s, Msg=Time 0.436s, Data 0.295s, Loss (0.968|0.094|0.008|0.003), Top1 (71.31%|97.79%|99.92%|99.96%|)] \n",
      "100%|██████████| 10/10 [00:02<00:00,  4.94it/s]\n",
      "Training :   0%|          | 0/50 [00:00<?, ?it/s]"
     ]
    },
    {
     "name": "stdout",
     "output_type": "stream",
     "text": [
      "Adjusting learning rate of group 0 to 1.0000e-02.\n",
      "Epoch 119/200: lr=0.0100, mean batch time = 0.44s, mean data loading time = 0.29, Training loss = 0.9676,0.0940,0.0076,0.0025, Test accuracy = 56.34%,64.31%,68.46%,69.52%,\n"
     ]
    },
    {
     "name": "stderr",
     "output_type": "stream",
     "text": [
      "Training : 100%|██████████| 50/50 [00:22<00:00,  2.26it/s, Msg=Time 0.435s, Data 0.292s, Loss (0.964|0.091|0.007|0.003), Top1 (71.47%|97.98%|99.93%|99.96%|)]\n",
      "100%|██████████| 10/10 [00:02<00:00,  4.90it/s]\n",
      "Training :   0%|          | 0/50 [00:00<?, ?it/s]"
     ]
    },
    {
     "name": "stdout",
     "output_type": "stream",
     "text": [
      "Adjusting learning rate of group 0 to 1.0000e-02.\n",
      "Epoch 120/200: lr=0.0100, mean batch time = 0.43s, mean data loading time = 0.29, Training loss = 0.9640,0.0914,0.0073,0.0027, Test accuracy = 56.46%,64.17%,68.41%,69.46%,\n"
     ]
    },
    {
     "name": "stderr",
     "output_type": "stream",
     "text": [
      "Training : 100%|██████████| 50/50 [00:22<00:00,  2.24it/s, Msg=Time 0.439s, Data 0.299s, Loss (0.962|0.091|0.007|0.003), Top1 (71.48%|98.01%|99.93%|99.96%|)]\n",
      "100%|██████████| 10/10 [00:02<00:00,  4.66it/s]\n",
      "Training :   0%|          | 0/50 [00:00<?, ?it/s]"
     ]
    },
    {
     "name": "stdout",
     "output_type": "stream",
     "text": [
      "Adjusting learning rate of group 0 to 1.0000e-02.\n",
      "Epoch 121/200: lr=0.0100, mean batch time = 0.44s, mean data loading time = 0.30, Training loss = 0.9617,0.0911,0.0073,0.0026, Test accuracy = 56.82%,64.36%,68.55%,69.57%,\n"
     ]
    },
    {
     "name": "stderr",
     "output_type": "stream",
     "text": [
      "Training : 100%|██████████| 50/50 [00:22<00:00,  2.23it/s, Msg=Time 0.440s, Data 0.294s, Loss (0.969|0.092|0.008|0.003), Top1 (71.41%|97.98%|99.91%|99.97%|)] \n",
      "100%|██████████| 10/10 [00:02<00:00,  4.92it/s]\n",
      "Training :   0%|          | 0/50 [00:00<?, ?it/s]"
     ]
    },
    {
     "name": "stdout",
     "output_type": "stream",
     "text": [
      "Adjusting learning rate of group 0 to 1.0000e-02.\n",
      "Epoch 122/200: lr=0.0100, mean batch time = 0.44s, mean data loading time = 0.29, Training loss = 0.9693,0.0922,0.0075,0.0026, Test accuracy = 56.55%,64.16%,68.47%,69.66%,\n"
     ]
    },
    {
     "name": "stderr",
     "output_type": "stream",
     "text": [
      "Training : 100%|██████████| 50/50 [00:22<00:00,  2.27it/s, Msg=Time 0.433s, Data 0.294s, Loss (0.962|0.090|0.007|0.003), Top1 (71.57%|98.02%|99.93%|99.96%|)]\n",
      "100%|██████████| 10/10 [00:02<00:00,  4.96it/s]\n",
      "Training :   0%|          | 0/50 [00:00<?, ?it/s]"
     ]
    },
    {
     "name": "stdout",
     "output_type": "stream",
     "text": [
      "Adjusting learning rate of group 0 to 1.0000e-02.\n",
      "Epoch 123/200: lr=0.0100, mean batch time = 0.43s, mean data loading time = 0.29, Training loss = 0.9616,0.0900,0.0071,0.0026, Test accuracy = 56.34%,64.36%,68.49%,69.62%,\n"
     ]
    },
    {
     "name": "stderr",
     "output_type": "stream",
     "text": [
      "Training : 100%|██████████| 50/50 [00:22<00:00,  2.27it/s, Msg=Time 0.434s, Data 0.294s, Loss (0.960|0.089|0.007|0.003), Top1 (71.67%|97.96%|99.92%|99.96%|)] \n",
      "100%|██████████| 10/10 [00:02<00:00,  4.57it/s]\n",
      "Training :   0%|          | 0/50 [00:00<?, ?it/s]"
     ]
    },
    {
     "name": "stdout",
     "output_type": "stream",
     "text": [
      "Adjusting learning rate of group 0 to 1.0000e-02.\n",
      "Epoch 124/200: lr=0.0100, mean batch time = 0.43s, mean data loading time = 0.29, Training loss = 0.9596,0.0893,0.0072,0.0026, Test accuracy = 56.63%,64.39%,68.67%,69.71%,\n"
     ]
    },
    {
     "name": "stderr",
     "output_type": "stream",
     "text": [
      "Training : 100%|██████████| 50/50 [00:22<00:00,  2.27it/s, Msg=Time 0.433s, Data 0.292s, Loss (0.959|0.091|0.007|0.003), Top1 (71.66%|98.05%|99.93%|99.96%|)]\n",
      "100%|██████████| 10/10 [00:01<00:00,  5.00it/s]\n",
      "Training :   0%|          | 0/50 [00:00<?, ?it/s]"
     ]
    },
    {
     "name": "stdout",
     "output_type": "stream",
     "text": [
      "Adjusting learning rate of group 0 to 1.0000e-02.\n",
      "Epoch 125/200: lr=0.0100, mean batch time = 0.43s, mean data loading time = 0.29, Training loss = 0.9590,0.0907,0.0072,0.0025, Test accuracy = 56.28%,64.20%,68.55%,69.70%,\n"
     ]
    },
    {
     "name": "stderr",
     "output_type": "stream",
     "text": [
      "Training : 100%|██████████| 50/50 [00:22<00:00,  2.27it/s, Msg=Time 0.433s, Data 0.291s, Loss (0.955|0.090|0.007|0.003), Top1 (71.75%|98.04%|99.92%|99.97%|)] \n",
      "100%|██████████| 10/10 [00:02<00:00,  4.82it/s]\n",
      "Training :   0%|          | 0/50 [00:00<?, ?it/s]"
     ]
    },
    {
     "name": "stdout",
     "output_type": "stream",
     "text": [
      "Adjusting learning rate of group 0 to 1.0000e-02.\n",
      "Epoch 126/200: lr=0.0100, mean batch time = 0.43s, mean data loading time = 0.29, Training loss = 0.9552,0.0899,0.0072,0.0025, Test accuracy = 56.60%,64.39%,68.59%,69.71%,\n"
     ]
    },
    {
     "name": "stderr",
     "output_type": "stream",
     "text": [
      "Training : 100%|██████████| 50/50 [00:21<00:00,  2.27it/s, Msg=Time 0.432s, Data 0.292s, Loss (0.957|0.089|0.007|0.003), Top1 (71.66%|98.08%|99.94%|99.97%|)]\n",
      "100%|██████████| 10/10 [00:02<00:00,  4.91it/s]\n",
      "Training :   0%|          | 0/50 [00:00<?, ?it/s]"
     ]
    },
    {
     "name": "stdout",
     "output_type": "stream",
     "text": [
      "Adjusting learning rate of group 0 to 1.0000e-02.\n",
      "Epoch 127/200: lr=0.0100, mean batch time = 0.43s, mean data loading time = 0.29, Training loss = 0.9574,0.0887,0.0071,0.0026, Test accuracy = 56.62%,64.18%,68.44%,69.52%,\n"
     ]
    },
    {
     "name": "stderr",
     "output_type": "stream",
     "text": [
      "Training : 100%|██████████| 50/50 [00:22<00:00,  2.25it/s, Msg=Time 0.437s, Data 0.295s, Loss (0.959|0.088|0.007|0.002), Top1 (71.45%|98.02%|99.92%|99.97%|)] \n",
      "100%|██████████| 10/10 [00:02<00:00,  4.92it/s]\n",
      "Training :   0%|          | 0/50 [00:00<?, ?it/s]"
     ]
    },
    {
     "name": "stdout",
     "output_type": "stream",
     "text": [
      "Adjusting learning rate of group 0 to 1.0000e-02.\n",
      "Epoch 128/200: lr=0.0100, mean batch time = 0.44s, mean data loading time = 0.30, Training loss = 0.9588,0.0879,0.0074,0.0025, Test accuracy = 56.35%,64.11%,68.43%,69.57%,\n"
     ]
    },
    {
     "name": "stderr",
     "output_type": "stream",
     "text": [
      "Training : 100%|██████████| 50/50 [00:22<00:00,  2.20it/s, Msg=Time 0.445s, Data 0.301s, Loss (0.957|0.088|0.007|0.003), Top1 (71.71%|98.06%|99.92%|99.97%|)]\n",
      "100%|██████████| 10/10 [00:02<00:00,  4.84it/s]\n",
      "Training :   0%|          | 0/50 [00:00<?, ?it/s]"
     ]
    },
    {
     "name": "stdout",
     "output_type": "stream",
     "text": [
      "Adjusting learning rate of group 0 to 1.0000e-02.\n",
      "Epoch 129/200: lr=0.0100, mean batch time = 0.45s, mean data loading time = 0.30, Training loss = 0.9569,0.0883,0.0073,0.0026, Test accuracy = 56.35%,64.35%,68.33%,69.69%,\n"
     ]
    },
    {
     "name": "stderr",
     "output_type": "stream",
     "text": [
      "Training : 100%|██████████| 50/50 [00:21<00:00,  2.28it/s, Msg=Time 0.431s, Data 0.291s, Loss (0.955|0.089|0.007|0.003), Top1 (71.83%|98.05%|99.93%|99.97%|)] \n",
      "100%|██████████| 10/10 [00:02<00:00,  4.98it/s]\n",
      "Training :   0%|          | 0/50 [00:00<?, ?it/s]"
     ]
    },
    {
     "name": "stdout",
     "output_type": "stream",
     "text": [
      "Adjusting learning rate of group 0 to 1.0000e-03.\n",
      "Epoch 130/200: lr=0.0010, mean batch time = 0.43s, mean data loading time = 0.29, Training loss = 0.9548,0.0885,0.0071,0.0025, Test accuracy = 56.39%,64.13%,68.48%,69.71%,\n"
     ]
    },
    {
     "name": "stderr",
     "output_type": "stream",
     "text": [
      "Training : 100%|██████████| 50/50 [00:21<00:00,  2.28it/s, Msg=Time 0.431s, Data 0.291s, Loss (0.938|0.085|0.007|0.002), Top1 (72.33%|98.16%|99.94%|99.96%|)]\n",
      "100%|██████████| 10/10 [00:02<00:00,  4.87it/s]\n",
      "Training :   0%|          | 0/50 [00:00<?, ?it/s]"
     ]
    },
    {
     "name": "stdout",
     "output_type": "stream",
     "text": [
      "Adjusting learning rate of group 0 to 1.0000e-03.\n",
      "Epoch 131/200: lr=0.0010, mean batch time = 0.43s, mean data loading time = 0.29, Training loss = 0.9380,0.0846,0.0068,0.0025, Test accuracy = 56.90%,64.48%,68.45%,69.69%,\n"
     ]
    },
    {
     "name": "stderr",
     "output_type": "stream",
     "text": [
      "Training : 100%|██████████| 50/50 [00:22<00:00,  2.23it/s, Msg=Time 0.442s, Data 0.300s, Loss (0.937|0.081|0.007|0.002), Top1 (72.40%|98.43%|99.94%|99.97%|)]\n",
      "100%|██████████| 10/10 [00:02<00:00,  4.94it/s]\n",
      "Training :   0%|          | 0/50 [00:00<?, ?it/s]"
     ]
    },
    {
     "name": "stdout",
     "output_type": "stream",
     "text": [
      "Adjusting learning rate of group 0 to 1.0000e-03.\n",
      "Epoch 132/200: lr=0.0010, mean batch time = 0.44s, mean data loading time = 0.30, Training loss = 0.9367,0.0809,0.0066,0.0024, Test accuracy = 57.11%,64.51%,68.58%,69.76%,\n"
     ]
    },
    {
     "name": "stderr",
     "output_type": "stream",
     "text": [
      "Training : 100%|██████████| 50/50 [00:21<00:00,  2.28it/s, Msg=Time 0.430s, Data 0.291s, Loss (0.934|0.080|0.006|0.002), Top1 (72.30%|98.38%|99.93%|99.97%|)]\n",
      "100%|██████████| 10/10 [00:02<00:00,  4.84it/s]\n",
      "Training :   0%|          | 0/50 [00:00<?, ?it/s]"
     ]
    },
    {
     "name": "stdout",
     "output_type": "stream",
     "text": [
      "Adjusting learning rate of group 0 to 1.0000e-03.\n",
      "Epoch 133/200: lr=0.0010, mean batch time = 0.43s, mean data loading time = 0.29, Training loss = 0.9340,0.0804,0.0065,0.0024, Test accuracy = 57.02%,64.38%,68.50%,69.67%,\n"
     ]
    },
    {
     "name": "stderr",
     "output_type": "stream",
     "text": [
      "Training : 100%|██████████| 50/50 [00:22<00:00,  2.27it/s, Msg=Time 0.433s, Data 0.292s, Loss (0.931|0.081|0.006|0.002), Top1 (72.44%|98.40%|99.94%|99.97%|)] \n",
      "100%|██████████| 10/10 [00:02<00:00,  4.98it/s]\n",
      "Training :   0%|          | 0/50 [00:00<?, ?it/s]"
     ]
    },
    {
     "name": "stdout",
     "output_type": "stream",
     "text": [
      "Adjusting learning rate of group 0 to 1.0000e-03.\n",
      "Epoch 134/200: lr=0.0010, mean batch time = 0.43s, mean data loading time = 0.29, Training loss = 0.9310,0.0814,0.0064,0.0022, Test accuracy = 57.06%,64.36%,68.47%,69.72%,\n"
     ]
    },
    {
     "name": "stderr",
     "output_type": "stream",
     "text": [
      "Training : 100%|██████████| 50/50 [00:21<00:00,  2.27it/s, Msg=Time 0.432s, Data 0.292s, Loss (0.932|0.080|0.006|0.002), Top1 (72.47%|98.37%|99.94%|99.97%|)]\n",
      "100%|██████████| 10/10 [00:02<00:00,  4.83it/s]\n",
      "Training :   0%|          | 0/50 [00:00<?, ?it/s]"
     ]
    },
    {
     "name": "stdout",
     "output_type": "stream",
     "text": [
      "Adjusting learning rate of group 0 to 1.0000e-03.\n",
      "Epoch 135/200: lr=0.0010, mean batch time = 0.43s, mean data loading time = 0.29, Training loss = 0.9318,0.0802,0.0065,0.0023, Test accuracy = 56.99%,64.38%,68.54%,69.62%,\n"
     ]
    },
    {
     "name": "stderr",
     "output_type": "stream",
     "text": [
      "Training : 100%|██████████| 50/50 [00:22<00:00,  2.25it/s, Msg=Time 0.437s, Data 0.295s, Loss (0.931|0.079|0.006|0.002), Top1 (72.41%|98.53%|99.95%|99.97%|)] \n",
      "100%|██████████| 10/10 [00:02<00:00,  4.82it/s]\n",
      "Training :   0%|          | 0/50 [00:00<?, ?it/s]"
     ]
    },
    {
     "name": "stdout",
     "output_type": "stream",
     "text": [
      "Adjusting learning rate of group 0 to 1.0000e-03.\n",
      "Epoch 136/200: lr=0.0010, mean batch time = 0.44s, mean data loading time = 0.30, Training loss = 0.9311,0.0786,0.0062,0.0022, Test accuracy = 57.06%,64.42%,68.47%,69.68%,\n"
     ]
    },
    {
     "name": "stderr",
     "output_type": "stream",
     "text": [
      "Training : 100%|██████████| 50/50 [00:22<00:00,  2.26it/s, Msg=Time 0.436s, Data 0.295s, Loss (0.934|0.079|0.006|0.002), Top1 (72.53%|98.47%|99.93%|99.96%|)] \n",
      "100%|██████████| 10/10 [00:02<00:00,  4.90it/s]\n",
      "Training :   0%|          | 0/50 [00:00<?, ?it/s]"
     ]
    },
    {
     "name": "stdout",
     "output_type": "stream",
     "text": [
      "Adjusting learning rate of group 0 to 1.0000e-03.\n",
      "Epoch 137/200: lr=0.0010, mean batch time = 0.44s, mean data loading time = 0.29, Training loss = 0.9344,0.0790,0.0064,0.0023, Test accuracy = 56.94%,64.31%,68.48%,69.72%,\n"
     ]
    },
    {
     "name": "stderr",
     "output_type": "stream",
     "text": [
      "Training : 100%|██████████| 50/50 [00:22<00:00,  2.25it/s, Msg=Time 0.438s, Data 0.297s, Loss (0.929|0.080|0.006|0.002), Top1 (72.65%|98.40%|99.96%|99.98%|)] \n",
      "100%|██████████| 10/10 [00:02<00:00,  4.87it/s]\n",
      "Training :   0%|          | 0/50 [00:00<?, ?it/s]"
     ]
    },
    {
     "name": "stdout",
     "output_type": "stream",
     "text": [
      "Adjusting learning rate of group 0 to 1.0000e-03.\n",
      "Epoch 138/200: lr=0.0010, mean batch time = 0.44s, mean data loading time = 0.30, Training loss = 0.9289,0.0799,0.0062,0.0021, Test accuracy = 56.91%,64.50%,68.49%,69.76%,\n"
     ]
    },
    {
     "name": "stderr",
     "output_type": "stream",
     "text": [
      "Training : 100%|██████████| 50/50 [00:21<00:00,  2.28it/s, Msg=Time 0.430s, Data 0.292s, Loss (0.931|0.080|0.006|0.002), Top1 (72.45%|98.39%|99.94%|99.97%|)] \n",
      "100%|██████████| 10/10 [00:02<00:00,  4.96it/s]\n",
      "Training :   0%|          | 0/50 [00:00<?, ?it/s]"
     ]
    },
    {
     "name": "stdout",
     "output_type": "stream",
     "text": [
      "Adjusting learning rate of group 0 to 1.0000e-03.\n",
      "Epoch 139/200: lr=0.0010, mean batch time = 0.43s, mean data loading time = 0.29, Training loss = 0.9315,0.0799,0.0065,0.0023, Test accuracy = 57.05%,64.52%,68.40%,69.74%,\n"
     ]
    },
    {
     "name": "stderr",
     "output_type": "stream",
     "text": [
      "Training : 100%|██████████| 50/50 [00:22<00:00,  2.25it/s, Msg=Time 0.437s, Data 0.296s, Loss (0.934|0.079|0.006|0.002), Top1 (72.32%|98.46%|99.96%|99.98%|)]\n",
      "100%|██████████| 10/10 [00:02<00:00,  4.85it/s]\n",
      "Training :   0%|          | 0/50 [00:00<?, ?it/s]"
     ]
    },
    {
     "name": "stdout",
     "output_type": "stream",
     "text": [
      "Adjusting learning rate of group 0 to 1.0000e-03.\n",
      "Epoch 140/200: lr=0.0010, mean batch time = 0.44s, mean data loading time = 0.30, Training loss = 0.9338,0.0788,0.0062,0.0022, Test accuracy = 57.06%,64.34%,68.37%,69.61%,\n"
     ]
    },
    {
     "name": "stderr",
     "output_type": "stream",
     "text": [
      "Training : 100%|██████████| 50/50 [00:22<00:00,  2.25it/s, Msg=Time 0.437s, Data 0.295s, Loss (0.929|0.079|0.006|0.002), Top1 (72.60%|98.44%|99.95%|99.98%|)] \n",
      "100%|██████████| 10/10 [00:02<00:00,  4.79it/s]\n",
      "Training :   0%|          | 0/50 [00:00<?, ?it/s]"
     ]
    },
    {
     "name": "stdout",
     "output_type": "stream",
     "text": [
      "Adjusting learning rate of group 0 to 1.0000e-03.\n",
      "Epoch 141/200: lr=0.0010, mean batch time = 0.44s, mean data loading time = 0.30, Training loss = 0.9292,0.0793,0.0063,0.0022, Test accuracy = 57.18%,64.37%,68.46%,69.68%,\n"
     ]
    },
    {
     "name": "stderr",
     "output_type": "stream",
     "text": [
      "Training : 100%|██████████| 50/50 [00:22<00:00,  2.27it/s, Msg=Time 0.434s, Data 0.292s, Loss (0.934|0.080|0.006|0.002), Top1 (72.42%|98.38%|99.94%|99.98%|)]\n",
      "100%|██████████| 10/10 [00:02<00:00,  4.89it/s]\n",
      "Training :   0%|          | 0/50 [00:00<?, ?it/s]"
     ]
    },
    {
     "name": "stdout",
     "output_type": "stream",
     "text": [
      "Adjusting learning rate of group 0 to 1.0000e-03.\n",
      "Epoch 142/200: lr=0.0010, mean batch time = 0.43s, mean data loading time = 0.29, Training loss = 0.9343,0.0803,0.0064,0.0022, Test accuracy = 56.95%,64.47%,68.43%,69.64%,\n"
     ]
    },
    {
     "name": "stderr",
     "output_type": "stream",
     "text": [
      "Training : 100%|██████████| 50/50 [00:22<00:00,  2.26it/s, Msg=Time 0.436s, Data 0.294s, Loss (0.933|0.080|0.006|0.002), Top1 (72.25%|98.44%|99.95%|99.97%|)] \n",
      "100%|██████████| 10/10 [00:02<00:00,  4.84it/s]\n",
      "Training :   0%|          | 0/50 [00:00<?, ?it/s]"
     ]
    },
    {
     "name": "stdout",
     "output_type": "stream",
     "text": [
      "Adjusting learning rate of group 0 to 1.0000e-03.\n",
      "Epoch 143/200: lr=0.0010, mean batch time = 0.44s, mean data loading time = 0.29, Training loss = 0.9327,0.0796,0.0063,0.0023, Test accuracy = 57.00%,64.44%,68.47%,69.67%,\n"
     ]
    },
    {
     "name": "stderr",
     "output_type": "stream",
     "text": [
      "Training : 100%|██████████| 50/50 [00:22<00:00,  2.27it/s, Msg=Time 0.432s, Data 0.292s, Loss (0.930|0.079|0.007|0.002), Top1 (72.60%|98.46%|99.93%|99.96%|)]\n",
      "100%|██████████| 10/10 [00:02<00:00,  4.85it/s]\n",
      "Training :   0%|          | 0/50 [00:00<?, ?it/s]"
     ]
    },
    {
     "name": "stdout",
     "output_type": "stream",
     "text": [
      "Adjusting learning rate of group 0 to 1.0000e-03.\n",
      "Epoch 144/200: lr=0.0010, mean batch time = 0.43s, mean data loading time = 0.29, Training loss = 0.9299,0.0792,0.0066,0.0024, Test accuracy = 57.13%,64.37%,68.41%,69.75%,\n"
     ]
    },
    {
     "name": "stderr",
     "output_type": "stream",
     "text": [
      "Training : 100%|██████████| 50/50 [00:22<00:00,  2.27it/s, Msg=Time 0.433s, Data 0.301s, Loss (0.931|0.080|0.006|0.002), Top1 (72.59%|98.39%|99.94%|99.98%|)]\n",
      "100%|██████████| 10/10 [00:02<00:00,  4.87it/s]\n",
      "Training :   0%|          | 0/50 [00:00<?, ?it/s]"
     ]
    },
    {
     "name": "stdout",
     "output_type": "stream",
     "text": [
      "Adjusting learning rate of group 0 to 1.0000e-03.\n",
      "Epoch 145/200: lr=0.0010, mean batch time = 0.43s, mean data loading time = 0.30, Training loss = 0.9314,0.0799,0.0063,0.0021, Test accuracy = 56.91%,64.49%,68.44%,69.71%,\n"
     ]
    },
    {
     "name": "stderr",
     "output_type": "stream",
     "text": [
      "Training : 100%|██████████| 50/50 [00:22<00:00,  2.27it/s, Msg=Time 0.433s, Data 0.301s, Loss (0.929|0.080|0.006|0.002), Top1 (72.77%|98.38%|99.94%|99.97%|)] \n",
      "100%|██████████| 10/10 [00:02<00:00,  4.80it/s]\n",
      "Training :   0%|          | 0/50 [00:00<?, ?it/s]"
     ]
    },
    {
     "name": "stdout",
     "output_type": "stream",
     "text": [
      "Adjusting learning rate of group 0 to 1.0000e-03.\n",
      "Epoch 146/200: lr=0.0010, mean batch time = 0.43s, mean data loading time = 0.30, Training loss = 0.9290,0.0803,0.0064,0.0023, Test accuracy = 57.04%,64.45%,68.44%,69.72%,\n"
     ]
    },
    {
     "name": "stderr",
     "output_type": "stream",
     "text": [
      "Training : 100%|██████████| 50/50 [00:21<00:00,  2.28it/s, Msg=Time 0.432s, Data 0.291s, Loss (0.930|0.080|0.006|0.002), Top1 (72.56%|98.42%|99.95%|99.97%|)] \n",
      "100%|██████████| 10/10 [00:02<00:00,  4.83it/s]\n",
      "Training :   0%|          | 0/50 [00:00<?, ?it/s]"
     ]
    },
    {
     "name": "stdout",
     "output_type": "stream",
     "text": [
      "Adjusting learning rate of group 0 to 1.0000e-03.\n",
      "Epoch 147/200: lr=0.0010, mean batch time = 0.43s, mean data loading time = 0.29, Training loss = 0.9302,0.0804,0.0063,0.0022, Test accuracy = 57.04%,64.36%,68.43%,69.56%,\n"
     ]
    },
    {
     "name": "stderr",
     "output_type": "stream",
     "text": [
      "Training : 100%|██████████| 50/50 [00:22<00:00,  2.22it/s, Msg=Time 0.443s, Data 0.303s, Loss (0.933|0.080|0.006|0.002), Top1 (72.38%|98.47%|99.94%|99.98%|)]\n",
      "100%|██████████| 10/10 [00:02<00:00,  4.83it/s]\n",
      "Training :   0%|          | 0/50 [00:00<?, ?it/s]"
     ]
    },
    {
     "name": "stdout",
     "output_type": "stream",
     "text": [
      "Adjusting learning rate of group 0 to 1.0000e-03.\n",
      "Epoch 148/200: lr=0.0010, mean batch time = 0.44s, mean data loading time = 0.30, Training loss = 0.9327,0.0801,0.0063,0.0022, Test accuracy = 57.01%,64.57%,68.47%,69.78%,\n"
     ]
    },
    {
     "name": "stderr",
     "output_type": "stream",
     "text": [
      "Training : 100%|██████████| 50/50 [00:21<00:00,  2.27it/s, Msg=Time 0.432s, Data 0.289s, Loss (0.928|0.078|0.006|0.002), Top1 (72.63%|98.52%|99.95%|99.99%|)] \n",
      "100%|██████████| 10/10 [00:02<00:00,  4.73it/s]\n",
      "Training :   0%|          | 0/50 [00:00<?, ?it/s]"
     ]
    },
    {
     "name": "stdout",
     "output_type": "stream",
     "text": [
      "Adjusting learning rate of group 0 to 1.0000e-03.\n",
      "Epoch 149/200: lr=0.0010, mean batch time = 0.43s, mean data loading time = 0.29, Training loss = 0.9283,0.0776,0.0061,0.0021, Test accuracy = 56.99%,64.28%,68.45%,69.79%,\n"
     ]
    },
    {
     "name": "stderr",
     "output_type": "stream",
     "text": [
      "Training : 100%|██████████| 50/50 [00:22<00:00,  2.27it/s, Msg=Time 0.434s, Data 0.294s, Loss (0.926|0.080|0.006|0.002), Top1 (72.69%|98.45%|99.97%|99.98%|)]\n",
      "100%|██████████| 10/10 [00:02<00:00,  4.42it/s]\n",
      "Training :   0%|          | 0/50 [00:00<?, ?it/s]"
     ]
    },
    {
     "name": "stdout",
     "output_type": "stream",
     "text": [
      "Adjusting learning rate of group 0 to 1.0000e-03.\n",
      "Epoch 150/200: lr=0.0010, mean batch time = 0.43s, mean data loading time = 0.29, Training loss = 0.9259,0.0795,0.0062,0.0021, Test accuracy = 57.00%,64.51%,68.48%,69.71%,\n"
     ]
    },
    {
     "name": "stderr",
     "output_type": "stream",
     "text": [
      "Training : 100%|██████████| 50/50 [00:22<00:00,  2.26it/s, Msg=Time 0.435s, Data 0.295s, Loss (0.930|0.079|0.006|0.002), Top1 (72.56%|98.44%|99.96%|99.98%|)] \n",
      "100%|██████████| 10/10 [00:02<00:00,  4.94it/s]\n",
      "Training :   0%|          | 0/50 [00:00<?, ?it/s]"
     ]
    },
    {
     "name": "stdout",
     "output_type": "stream",
     "text": [
      "Adjusting learning rate of group 0 to 1.0000e-03.\n",
      "Epoch 151/200: lr=0.0010, mean batch time = 0.43s, mean data loading time = 0.29, Training loss = 0.9305,0.0787,0.0061,0.0022, Test accuracy = 56.99%,64.48%,68.43%,69.74%,\n"
     ]
    },
    {
     "name": "stderr",
     "output_type": "stream",
     "text": [
      "Training : 100%|██████████| 50/50 [00:21<00:00,  2.29it/s, Msg=Time 0.430s, Data 0.291s, Loss (0.926|0.079|0.006|0.002), Top1 (72.75%|98.41%|99.95%|99.97%|)]\n",
      "100%|██████████| 10/10 [00:02<00:00,  4.86it/s]\n",
      "Training :   0%|          | 0/50 [00:00<?, ?it/s]"
     ]
    },
    {
     "name": "stdout",
     "output_type": "stream",
     "text": [
      "Adjusting learning rate of group 0 to 1.0000e-03.\n",
      "Epoch 152/200: lr=0.0010, mean batch time = 0.43s, mean data loading time = 0.29, Training loss = 0.9255,0.0786,0.0061,0.0021, Test accuracy = 56.79%,64.37%,68.50%,69.73%,\n"
     ]
    },
    {
     "name": "stderr",
     "output_type": "stream",
     "text": [
      "Training : 100%|██████████| 50/50 [00:21<00:00,  2.27it/s, Msg=Time 0.432s, Data 0.289s, Loss (0.927|0.077|0.006|0.002), Top1 (72.60%|98.55%|99.95%|99.98%|)] \n",
      "100%|██████████| 10/10 [00:02<00:00,  4.88it/s]\n",
      "Training :   0%|          | 0/50 [00:00<?, ?it/s]"
     ]
    },
    {
     "name": "stdout",
     "output_type": "stream",
     "text": [
      "Adjusting learning rate of group 0 to 1.0000e-03.\n",
      "Epoch 153/200: lr=0.0010, mean batch time = 0.43s, mean data loading time = 0.29, Training loss = 0.9274,0.0771,0.0063,0.0022, Test accuracy = 56.96%,64.44%,68.39%,69.64%,\n"
     ]
    },
    {
     "name": "stderr",
     "output_type": "stream",
     "text": [
      "Training : 100%|██████████| 50/50 [00:21<00:00,  2.28it/s, Msg=Time 0.431s, Data 0.291s, Loss (0.928|0.077|0.006|0.002), Top1 (72.71%|98.56%|99.95%|99.97%|)] \n",
      "100%|██████████| 10/10 [00:02<00:00,  4.96it/s]\n",
      "Training :   0%|          | 0/50 [00:00<?, ?it/s]"
     ]
    },
    {
     "name": "stdout",
     "output_type": "stream",
     "text": [
      "Adjusting learning rate of group 0 to 1.0000e-03.\n",
      "Epoch 154/200: lr=0.0010, mean batch time = 0.43s, mean data loading time = 0.29, Training loss = 0.9279,0.0767,0.0062,0.0021, Test accuracy = 56.99%,64.47%,68.40%,69.65%,\n"
     ]
    },
    {
     "name": "stderr",
     "output_type": "stream",
     "text": [
      "Training : 100%|██████████| 50/50 [00:22<00:00,  2.25it/s, Msg=Time 0.437s, Data 0.297s, Loss (0.929|0.079|0.006|0.002), Top1 (72.53%|98.43%|99.95%|99.97%|)] \n",
      "100%|██████████| 10/10 [00:01<00:00,  5.11it/s]\n",
      "Training :   0%|          | 0/50 [00:00<?, ?it/s]"
     ]
    },
    {
     "name": "stdout",
     "output_type": "stream",
     "text": [
      "Adjusting learning rate of group 0 to 1.0000e-03.\n",
      "Epoch 155/200: lr=0.0010, mean batch time = 0.44s, mean data loading time = 0.30, Training loss = 0.9290,0.0790,0.0063,0.0022, Test accuracy = 56.85%,64.41%,68.43%,69.57%,\n"
     ]
    },
    {
     "name": "stderr",
     "output_type": "stream",
     "text": [
      "Training : 100%|██████████| 50/50 [00:21<00:00,  2.27it/s, Msg=Time 0.432s, Data 0.294s, Loss (0.926|0.076|0.006|0.002), Top1 (72.64%|98.60%|99.96%|99.97%|)] \n",
      "100%|██████████| 10/10 [00:02<00:00,  4.37it/s]\n",
      "Training :   0%|          | 0/50 [00:00<?, ?it/s]"
     ]
    },
    {
     "name": "stdout",
     "output_type": "stream",
     "text": [
      "Adjusting learning rate of group 0 to 1.0000e-03.\n",
      "Epoch 156/200: lr=0.0010, mean batch time = 0.43s, mean data loading time = 0.29, Training loss = 0.9265,0.0763,0.0060,0.0021, Test accuracy = 57.10%,64.41%,68.37%,69.60%,\n"
     ]
    },
    {
     "name": "stderr",
     "output_type": "stream",
     "text": [
      "Training : 100%|██████████| 50/50 [00:21<00:00,  2.28it/s, Msg=Time 0.431s, Data 0.293s, Loss (0.929|0.079|0.006|0.002), Top1 (72.53%|98.43%|99.93%|99.97%|)] \n",
      "100%|██████████| 10/10 [00:02<00:00,  4.91it/s]\n",
      "Training :   0%|          | 0/50 [00:00<?, ?it/s]"
     ]
    },
    {
     "name": "stdout",
     "output_type": "stream",
     "text": [
      "Adjusting learning rate of group 0 to 1.0000e-03.\n",
      "Epoch 157/200: lr=0.0010, mean batch time = 0.43s, mean data loading time = 0.29, Training loss = 0.9293,0.0790,0.0064,0.0023, Test accuracy = 57.09%,64.48%,68.45%,69.55%,\n"
     ]
    },
    {
     "name": "stderr",
     "output_type": "stream",
     "text": [
      "Training : 100%|██████████| 50/50 [00:22<00:00,  2.27it/s, Msg=Time 0.432s, Data 0.291s, Loss (0.927|0.079|0.007|0.002), Top1 (72.56%|98.41%|99.94%|99.97%|)] \n",
      "100%|██████████| 10/10 [00:02<00:00,  4.96it/s]\n",
      "Training :   0%|          | 0/50 [00:00<?, ?it/s]"
     ]
    },
    {
     "name": "stdout",
     "output_type": "stream",
     "text": [
      "Adjusting learning rate of group 0 to 1.0000e-03.\n",
      "Epoch 158/200: lr=0.0010, mean batch time = 0.43s, mean data loading time = 0.29, Training loss = 0.9273,0.0791,0.0067,0.0023, Test accuracy = 57.00%,64.45%,68.38%,69.64%,\n"
     ]
    },
    {
     "name": "stderr",
     "output_type": "stream",
     "text": [
      "Training : 100%|██████████| 50/50 [00:22<00:00,  2.27it/s, Msg=Time 0.432s, Data 0.291s, Loss (0.931|0.080|0.007|0.002), Top1 (72.58%|98.39%|99.93%|99.97%|)] \n",
      "100%|██████████| 10/10 [00:02<00:00,  4.87it/s]\n",
      "Training :   0%|          | 0/50 [00:00<?, ?it/s]"
     ]
    },
    {
     "name": "stdout",
     "output_type": "stream",
     "text": [
      "Adjusting learning rate of group 0 to 1.0000e-03.\n",
      "Epoch 159/200: lr=0.0010, mean batch time = 0.43s, mean data loading time = 0.29, Training loss = 0.9307,0.0801,0.0067,0.0023, Test accuracy = 56.83%,64.37%,68.41%,69.64%,\n"
     ]
    },
    {
     "name": "stderr",
     "output_type": "stream",
     "text": [
      "Training : 100%|██████████| 50/50 [00:22<00:00,  2.27it/s, Msg=Time 0.433s, Data 0.292s, Loss (0.931|0.079|0.006|0.002), Top1 (72.58%|98.41%|99.96%|99.97%|)]\n",
      "100%|██████████| 10/10 [00:02<00:00,  4.95it/s]\n",
      "Training :   0%|          | 0/50 [00:00<?, ?it/s]"
     ]
    },
    {
     "name": "stdout",
     "output_type": "stream",
     "text": [
      "Adjusting learning rate of group 0 to 1.0000e-03.\n",
      "Epoch 160/200: lr=0.0010, mean batch time = 0.43s, mean data loading time = 0.29, Training loss = 0.9311,0.0790,0.0063,0.0022, Test accuracy = 56.88%,64.48%,68.33%,69.67%,\n"
     ]
    },
    {
     "name": "stderr",
     "output_type": "stream",
     "text": [
      "Training : 100%|██████████| 50/50 [00:22<00:00,  2.25it/s, Msg=Time 0.436s, Data 0.296s, Loss (0.928|0.080|0.006|0.002), Top1 (72.58%|98.40%|99.96%|99.98%|)] \n",
      "100%|██████████| 10/10 [00:02<00:00,  4.83it/s]\n",
      "Training :   0%|          | 0/50 [00:00<?, ?it/s]"
     ]
    },
    {
     "name": "stdout",
     "output_type": "stream",
     "text": [
      "Adjusting learning rate of group 0 to 1.0000e-03.\n",
      "Epoch 161/200: lr=0.0010, mean batch time = 0.44s, mean data loading time = 0.30, Training loss = 0.9282,0.0796,0.0064,0.0022, Test accuracy = 57.04%,64.44%,68.41%,69.69%,\n"
     ]
    },
    {
     "name": "stderr",
     "output_type": "stream",
     "text": [
      "Training : 100%|██████████| 50/50 [00:22<00:00,  2.27it/s, Msg=Time 0.434s, Data 0.294s, Loss (0.927|0.079|0.006|0.002), Top1 (72.76%|98.41%|99.96%|99.98%|)]\n",
      "100%|██████████| 10/10 [00:02<00:00,  4.68it/s]\n",
      "Training :   0%|          | 0/50 [00:00<?, ?it/s]"
     ]
    },
    {
     "name": "stdout",
     "output_type": "stream",
     "text": [
      "Adjusting learning rate of group 0 to 1.0000e-03.\n",
      "Epoch 162/200: lr=0.0010, mean batch time = 0.43s, mean data loading time = 0.29, Training loss = 0.9268,0.0792,0.0063,0.0022, Test accuracy = 56.94%,64.41%,68.47%,69.63%,\n"
     ]
    },
    {
     "name": "stderr",
     "output_type": "stream",
     "text": [
      "Training : 100%|██████████| 50/50 [00:22<00:00,  2.27it/s, Msg=Time 0.434s, Data 0.295s, Loss (0.927|0.078|0.006|0.002), Top1 (72.65%|98.47%|99.96%|99.97%|)] \n",
      "100%|██████████| 10/10 [00:02<00:00,  5.00it/s]\n",
      "Training :   0%|          | 0/50 [00:00<?, ?it/s]"
     ]
    },
    {
     "name": "stdout",
     "output_type": "stream",
     "text": [
      "Adjusting learning rate of group 0 to 1.0000e-03.\n",
      "Epoch 163/200: lr=0.0010, mean batch time = 0.43s, mean data loading time = 0.29, Training loss = 0.9269,0.0777,0.0061,0.0021, Test accuracy = 56.93%,64.44%,68.43%,69.66%,\n"
     ]
    },
    {
     "name": "stderr",
     "output_type": "stream",
     "text": [
      "Training : 100%|██████████| 50/50 [00:22<00:00,  2.26it/s, Msg=Time 0.434s, Data 0.294s, Loss (0.927|0.078|0.006|0.002), Top1 (72.54%|98.45%|99.95%|99.97%|)] \n",
      "100%|██████████| 10/10 [00:02<00:00,  4.88it/s]\n",
      "Training :   0%|          | 0/50 [00:00<?, ?it/s]"
     ]
    },
    {
     "name": "stdout",
     "output_type": "stream",
     "text": [
      "Adjusting learning rate of group 0 to 1.0000e-03.\n",
      "Epoch 164/200: lr=0.0010, mean batch time = 0.43s, mean data loading time = 0.29, Training loss = 0.9274,0.0784,0.0061,0.0023, Test accuracy = 57.04%,64.41%,68.42%,69.65%,\n"
     ]
    },
    {
     "name": "stderr",
     "output_type": "stream",
     "text": [
      "Training : 100%|██████████| 50/50 [00:22<00:00,  2.27it/s, Msg=Time 0.433s, Data 0.294s, Loss (0.927|0.077|0.006|0.002), Top1 (72.35%|98.55%|99.95%|99.99%|)] \n",
      "100%|██████████| 10/10 [00:02<00:00,  4.90it/s]\n",
      "Training :   0%|          | 0/50 [00:00<?, ?it/s]"
     ]
    },
    {
     "name": "stdout",
     "output_type": "stream",
     "text": [
      "Adjusting learning rate of group 0 to 1.0000e-03.\n",
      "Epoch 165/200: lr=0.0010, mean batch time = 0.43s, mean data loading time = 0.29, Training loss = 0.9267,0.0770,0.0062,0.0020, Test accuracy = 56.83%,64.48%,68.60%,69.66%,\n"
     ]
    },
    {
     "name": "stderr",
     "output_type": "stream",
     "text": [
      "Training : 100%|██████████| 50/50 [00:21<00:00,  2.27it/s, Msg=Time 0.432s, Data 0.293s, Loss (0.925|0.079|0.006|0.002), Top1 (72.84%|98.47%|99.95%|99.98%|)] \n",
      "100%|██████████| 10/10 [00:02<00:00,  4.92it/s]\n",
      "Training :   0%|          | 0/50 [00:00<?, ?it/s]"
     ]
    },
    {
     "name": "stdout",
     "output_type": "stream",
     "text": [
      "Adjusting learning rate of group 0 to 1.0000e-03.\n",
      "Epoch 166/200: lr=0.0010, mean batch time = 0.43s, mean data loading time = 0.29, Training loss = 0.9249,0.0794,0.0062,0.0020, Test accuracy = 56.99%,64.30%,68.48%,69.64%,\n"
     ]
    },
    {
     "name": "stderr",
     "output_type": "stream",
     "text": [
      "Training : 100%|██████████| 50/50 [00:21<00:00,  2.28it/s, Msg=Time 0.432s, Data 0.293s, Loss (0.924|0.077|0.006|0.002), Top1 (72.70%|98.47%|99.95%|99.97%|)]\n",
      "100%|██████████| 10/10 [00:02<00:00,  4.82it/s]\n",
      "Training :   0%|          | 0/50 [00:00<?, ?it/s]"
     ]
    },
    {
     "name": "stdout",
     "output_type": "stream",
     "text": [
      "Adjusting learning rate of group 0 to 1.0000e-03.\n",
      "Epoch 167/200: lr=0.0010, mean batch time = 0.43s, mean data loading time = 0.29, Training loss = 0.9244,0.0771,0.0064,0.0023, Test accuracy = 56.90%,64.46%,68.57%,69.62%,\n"
     ]
    },
    {
     "name": "stderr",
     "output_type": "stream",
     "text": [
      "Training : 100%|██████████| 50/50 [00:22<00:00,  2.27it/s, Msg=Time 0.433s, Data 0.297s, Loss (0.928|0.079|0.006|0.002), Top1 (72.58%|98.44%|99.96%|99.98%|)]\n",
      "100%|██████████| 10/10 [00:02<00:00,  4.93it/s]\n",
      "Training :   0%|          | 0/50 [00:00<?, ?it/s]"
     ]
    },
    {
     "name": "stdout",
     "output_type": "stream",
     "text": [
      "Adjusting learning rate of group 0 to 1.0000e-03.\n",
      "Epoch 168/200: lr=0.0010, mean batch time = 0.43s, mean data loading time = 0.30, Training loss = 0.9281,0.0786,0.0063,0.0021, Test accuracy = 56.86%,64.31%,68.47%,69.67%,\n"
     ]
    },
    {
     "name": "stderr",
     "output_type": "stream",
     "text": [
      "Training : 100%|██████████| 50/50 [00:22<00:00,  2.27it/s, Msg=Time 0.433s, Data 0.301s, Loss (0.926|0.078|0.006|0.002), Top1 (72.47%|98.45%|99.96%|99.97%|)]\n",
      "100%|██████████| 10/10 [00:02<00:00,  4.86it/s]\n",
      "Training :   0%|          | 0/50 [00:00<?, ?it/s]"
     ]
    },
    {
     "name": "stdout",
     "output_type": "stream",
     "text": [
      "Adjusting learning rate of group 0 to 1.0000e-03.\n",
      "Epoch 169/200: lr=0.0010, mean batch time = 0.43s, mean data loading time = 0.30, Training loss = 0.9264,0.0777,0.0062,0.0021, Test accuracy = 57.02%,64.46%,68.40%,69.68%,\n"
     ]
    },
    {
     "name": "stderr",
     "output_type": "stream",
     "text": [
      "Training : 100%|██████████| 50/50 [00:21<00:00,  2.28it/s, Msg=Time 0.430s, Data 0.291s, Loss (0.929|0.079|0.006|0.002), Top1 (72.79%|98.40%|99.94%|99.98%|)]\n",
      "100%|██████████| 10/10 [00:01<00:00,  5.07it/s]\n",
      "Training :   0%|          | 0/50 [00:00<?, ?it/s]"
     ]
    },
    {
     "name": "stdout",
     "output_type": "stream",
     "text": [
      "Adjusting learning rate of group 0 to 1.0000e-03.\n",
      "Epoch 170/200: lr=0.0010, mean batch time = 0.43s, mean data loading time = 0.29, Training loss = 0.9287,0.0793,0.0064,0.0022, Test accuracy = 56.77%,64.40%,68.43%,69.65%,\n"
     ]
    },
    {
     "name": "stderr",
     "output_type": "stream",
     "text": [
      "Training : 100%|██████████| 50/50 [00:22<00:00,  2.27it/s, Msg=Time 0.433s, Data 0.295s, Loss (0.926|0.078|0.006|0.002), Top1 (72.70%|98.46%|99.95%|99.98%|)]\n",
      "100%|██████████| 10/10 [00:02<00:00,  4.85it/s]\n",
      "Training :   0%|          | 0/50 [00:00<?, ?it/s]"
     ]
    },
    {
     "name": "stdout",
     "output_type": "stream",
     "text": [
      "Adjusting learning rate of group 0 to 1.0000e-03.\n",
      "Epoch 171/200: lr=0.0010, mean batch time = 0.43s, mean data loading time = 0.30, Training loss = 0.9262,0.0780,0.0061,0.0021, Test accuracy = 57.00%,64.33%,68.45%,69.66%,\n"
     ]
    },
    {
     "name": "stderr",
     "output_type": "stream",
     "text": [
      "Training : 100%|██████████| 50/50 [00:21<00:00,  2.28it/s, Msg=Time 0.432s, Data 0.294s, Loss (0.921|0.078|0.006|0.002), Top1 (72.51%|98.47%|99.96%|99.98%|)]\n",
      "100%|██████████| 10/10 [00:02<00:00,  4.92it/s]\n",
      "Training :   0%|          | 0/50 [00:00<?, ?it/s]"
     ]
    },
    {
     "name": "stdout",
     "output_type": "stream",
     "text": [
      "Adjusting learning rate of group 0 to 1.0000e-03.\n",
      "Epoch 172/200: lr=0.0010, mean batch time = 0.43s, mean data loading time = 0.29, Training loss = 0.9207,0.0776,0.0061,0.0021, Test accuracy = 56.97%,64.41%,68.32%,69.67%,\n"
     ]
    },
    {
     "name": "stderr",
     "output_type": "stream",
     "text": [
      "Training : 100%|██████████| 50/50 [00:21<00:00,  2.28it/s, Msg=Time 0.431s, Data 0.291s, Loss (0.927|0.079|0.006|0.002), Top1 (72.60%|98.43%|99.95%|99.98%|)] \n",
      "100%|██████████| 10/10 [00:02<00:00,  4.91it/s]\n",
      "Training :   0%|          | 0/50 [00:00<?, ?it/s]"
     ]
    },
    {
     "name": "stdout",
     "output_type": "stream",
     "text": [
      "Adjusting learning rate of group 0 to 1.0000e-03.\n",
      "Epoch 173/200: lr=0.0010, mean batch time = 0.43s, mean data loading time = 0.29, Training loss = 0.9273,0.0791,0.0063,0.0022, Test accuracy = 57.03%,64.44%,68.46%,69.66%,\n"
     ]
    },
    {
     "name": "stderr",
     "output_type": "stream",
     "text": [
      "Training : 100%|██████████| 50/50 [00:22<00:00,  2.23it/s, Msg=Time 0.442s, Data 0.300s, Loss (0.924|0.077|0.006|0.002), Top1 (72.76%|98.54%|99.96%|99.96%|)] \n",
      "100%|██████████| 10/10 [00:02<00:00,  4.66it/s]\n",
      "Training :   0%|          | 0/50 [00:00<?, ?it/s]"
     ]
    },
    {
     "name": "stdout",
     "output_type": "stream",
     "text": [
      "Adjusting learning rate of group 0 to 1.0000e-03.\n",
      "Epoch 174/200: lr=0.0010, mean batch time = 0.44s, mean data loading time = 0.30, Training loss = 0.9238,0.0771,0.0063,0.0023, Test accuracy = 56.92%,64.36%,68.44%,69.55%,\n"
     ]
    },
    {
     "name": "stderr",
     "output_type": "stream",
     "text": [
      "Training : 100%|██████████| 50/50 [00:21<00:00,  2.28it/s, Msg=Time 0.432s, Data 0.293s, Loss (0.924|0.078|0.006|0.002), Top1 (72.85%|98.48%|99.96%|99.98%|)]\n",
      "100%|██████████| 10/10 [00:02<00:00,  4.76it/s]\n",
      "Training :   0%|          | 0/50 [00:00<?, ?it/s]"
     ]
    },
    {
     "name": "stdout",
     "output_type": "stream",
     "text": [
      "Adjusting learning rate of group 0 to 1.0000e-03.\n",
      "Epoch 175/200: lr=0.0010, mean batch time = 0.43s, mean data loading time = 0.29, Training loss = 0.9237,0.0780,0.0063,0.0021, Test accuracy = 57.12%,64.53%,68.58%,69.80%,\n"
     ]
    },
    {
     "name": "stderr",
     "output_type": "stream",
     "text": [
      "Training : 100%|██████████| 50/50 [00:22<00:00,  2.27it/s, Msg=Time 0.433s, Data 0.294s, Loss (0.923|0.077|0.006|0.002), Top1 (72.74%|98.49%|99.95%|99.97%|)] \n",
      "100%|██████████| 10/10 [00:02<00:00,  4.82it/s]\n",
      "Training :   0%|          | 0/50 [00:00<?, ?it/s]"
     ]
    },
    {
     "name": "stdout",
     "output_type": "stream",
     "text": [
      "Adjusting learning rate of group 0 to 1.0000e-03.\n",
      "Epoch 176/200: lr=0.0010, mean batch time = 0.43s, mean data loading time = 0.29, Training loss = 0.9228,0.0770,0.0062,0.0021, Test accuracy = 57.19%,64.47%,68.54%,69.64%,\n"
     ]
    },
    {
     "name": "stderr",
     "output_type": "stream",
     "text": [
      "Training : 100%|██████████| 50/50 [00:22<00:00,  2.24it/s, Msg=Time 0.439s, Data 0.294s, Loss (0.926|0.076|0.006|0.002), Top1 (72.65%|98.56%|99.96%|99.98%|)]\n",
      "100%|██████████| 10/10 [00:02<00:00,  4.76it/s]\n",
      "Training :   0%|          | 0/50 [00:00<?, ?it/s]"
     ]
    },
    {
     "name": "stdout",
     "output_type": "stream",
     "text": [
      "Adjusting learning rate of group 0 to 1.0000e-03.\n",
      "Epoch 177/200: lr=0.0010, mean batch time = 0.44s, mean data loading time = 0.29, Training loss = 0.9260,0.0763,0.0061,0.0021, Test accuracy = 56.94%,64.41%,68.52%,69.68%,\n"
     ]
    },
    {
     "name": "stderr",
     "output_type": "stream",
     "text": [
      "Training : 100%|██████████| 50/50 [00:21<00:00,  2.28it/s, Msg=Time 0.432s, Data 0.292s, Loss (0.920|0.079|0.007|0.002), Top1 (72.80%|98.42%|99.93%|99.97%|)] \n",
      "100%|██████████| 10/10 [00:02<00:00,  4.74it/s]\n",
      "Training :   0%|          | 0/50 [00:00<?, ?it/s]"
     ]
    },
    {
     "name": "stdout",
     "output_type": "stream",
     "text": [
      "Adjusting learning rate of group 0 to 1.0000e-03.\n",
      "Epoch 178/200: lr=0.0010, mean batch time = 0.43s, mean data loading time = 0.29, Training loss = 0.9201,0.0790,0.0067,0.0024, Test accuracy = 56.97%,64.33%,68.47%,69.69%,\n"
     ]
    },
    {
     "name": "stderr",
     "output_type": "stream",
     "text": [
      "Training : 100%|██████████| 50/50 [00:21<00:00,  2.28it/s, Msg=Time 0.430s, Data 0.292s, Loss (0.925|0.078|0.006|0.002), Top1 (72.78%|98.45%|99.94%|99.98%|)]\n",
      "100%|██████████| 10/10 [00:02<00:00,  4.79it/s]\n",
      "Training :   0%|          | 0/50 [00:00<?, ?it/s]"
     ]
    },
    {
     "name": "stdout",
     "output_type": "stream",
     "text": [
      "Adjusting learning rate of group 0 to 1.0000e-03.\n",
      "Epoch 179/200: lr=0.0010, mean batch time = 0.43s, mean data loading time = 0.29, Training loss = 0.9249,0.0778,0.0065,0.0021, Test accuracy = 56.98%,64.31%,68.57%,69.77%,\n"
     ]
    },
    {
     "name": "stderr",
     "output_type": "stream",
     "text": [
      "Training : 100%|██████████| 50/50 [00:22<00:00,  2.27it/s, Msg=Time 0.433s, Data 0.293s, Loss (0.925|0.077|0.006|0.002), Top1 (72.72%|98.50%|99.96%|99.97%|)]\n",
      "100%|██████████| 10/10 [00:02<00:00,  4.91it/s]\n",
      "Training :   0%|          | 0/50 [00:00<?, ?it/s]"
     ]
    },
    {
     "name": "stdout",
     "output_type": "stream",
     "text": [
      "Adjusting learning rate of group 0 to 1.0000e-04.\n",
      "Epoch 180/200: lr=0.0001, mean batch time = 0.43s, mean data loading time = 0.29, Training loss = 0.9248,0.0773,0.0061,0.0022, Test accuracy = 56.85%,64.30%,68.46%,69.69%,\n"
     ]
    },
    {
     "name": "stderr",
     "output_type": "stream",
     "text": [
      "Training : 100%|██████████| 50/50 [00:22<00:00,  2.26it/s, Msg=Time 0.435s, Data 0.295s, Loss (0.922|0.076|0.006|0.002), Top1 (72.80%|98.56%|99.95%|99.97%|)] \n",
      "100%|██████████| 10/10 [00:02<00:00,  4.67it/s]\n",
      "Training :   0%|          | 0/50 [00:00<?, ?it/s]"
     ]
    },
    {
     "name": "stdout",
     "output_type": "stream",
     "text": [
      "Adjusting learning rate of group 0 to 1.0000e-04.\n",
      "Epoch 181/200: lr=0.0001, mean batch time = 0.44s, mean data loading time = 0.29, Training loss = 0.9216,0.0765,0.0062,0.0021, Test accuracy = 56.95%,64.36%,68.60%,69.63%,\n"
     ]
    },
    {
     "name": "stderr",
     "output_type": "stream",
     "text": [
      "Training : 100%|██████████| 50/50 [00:22<00:00,  2.27it/s, Msg=Time 0.434s, Data 0.291s, Loss (0.921|0.078|0.006|0.002), Top1 (72.93%|98.52%|99.94%|99.98%|)] \n",
      "100%|██████████| 10/10 [00:01<00:00,  5.03it/s]\n",
      "Training :   0%|          | 0/50 [00:00<?, ?it/s]"
     ]
    },
    {
     "name": "stdout",
     "output_type": "stream",
     "text": [
      "Adjusting learning rate of group 0 to 1.0000e-04.\n",
      "Epoch 182/200: lr=0.0001, mean batch time = 0.43s, mean data loading time = 0.29, Training loss = 0.9212,0.0775,0.0065,0.0022, Test accuracy = 56.98%,64.40%,68.47%,69.63%,\n"
     ]
    },
    {
     "name": "stderr",
     "output_type": "stream",
     "text": [
      "Training : 100%|██████████| 50/50 [00:21<00:00,  2.28it/s, Msg=Time 0.430s, Data 0.293s, Loss (0.919|0.076|0.006|0.002), Top1 (72.76%|98.53%|99.97%|99.97%|)] \n",
      "100%|██████████| 10/10 [00:02<00:00,  4.87it/s]\n",
      "Training :   0%|          | 0/50 [00:00<?, ?it/s]"
     ]
    },
    {
     "name": "stdout",
     "output_type": "stream",
     "text": [
      "Adjusting learning rate of group 0 to 1.0000e-04.\n",
      "Epoch 183/200: lr=0.0001, mean batch time = 0.43s, mean data loading time = 0.29, Training loss = 0.9194,0.0759,0.0059,0.0021, Test accuracy = 57.08%,64.32%,68.45%,69.70%,\n"
     ]
    },
    {
     "name": "stderr",
     "output_type": "stream",
     "text": [
      "Training : 100%|██████████| 50/50 [00:21<00:00,  2.28it/s, Msg=Time 0.431s, Data 0.293s, Loss (0.920|0.077|0.006|0.002), Top1 (72.83%|98.53%|99.96%|99.97%|)] \n",
      "100%|██████████| 10/10 [00:01<00:00,  5.00it/s]\n",
      "Training :   0%|          | 0/50 [00:00<?, ?it/s]"
     ]
    },
    {
     "name": "stdout",
     "output_type": "stream",
     "text": [
      "Adjusting learning rate of group 0 to 1.0000e-04.\n",
      "Epoch 184/200: lr=0.0001, mean batch time = 0.43s, mean data loading time = 0.29, Training loss = 0.9199,0.0775,0.0062,0.0022, Test accuracy = 57.08%,64.33%,68.49%,69.68%,\n"
     ]
    },
    {
     "name": "stderr",
     "output_type": "stream",
     "text": [
      "Training : 100%|██████████| 50/50 [00:21<00:00,  2.28it/s, Msg=Time 0.432s, Data 0.291s, Loss (0.924|0.076|0.006|0.002), Top1 (72.67%|98.48%|99.96%|99.98%|)] \n",
      "100%|██████████| 10/10 [00:02<00:00,  4.83it/s]\n",
      "Training :   0%|          | 0/50 [00:00<?, ?it/s]"
     ]
    },
    {
     "name": "stdout",
     "output_type": "stream",
     "text": [
      "Adjusting learning rate of group 0 to 1.0000e-04.\n",
      "Epoch 185/200: lr=0.0001, mean batch time = 0.43s, mean data loading time = 0.29, Training loss = 0.9241,0.0765,0.0060,0.0020, Test accuracy = 57.04%,64.38%,68.55%,69.61%,\n"
     ]
    },
    {
     "name": "stderr",
     "output_type": "stream",
     "text": [
      "Training : 100%|██████████| 50/50 [00:22<00:00,  2.27it/s, Msg=Time 0.434s, Data 0.295s, Loss (0.925|0.078|0.006|0.002), Top1 (72.67%|98.49%|99.95%|99.98%|)]\n",
      "100%|██████████| 10/10 [00:02<00:00,  4.97it/s]\n",
      "Training :   0%|          | 0/50 [00:00<?, ?it/s]"
     ]
    },
    {
     "name": "stdout",
     "output_type": "stream",
     "text": [
      "Adjusting learning rate of group 0 to 1.0000e-04.\n",
      "Epoch 186/200: lr=0.0001, mean batch time = 0.43s, mean data loading time = 0.29, Training loss = 0.9252,0.0782,0.0065,0.0022, Test accuracy = 57.00%,64.38%,68.44%,69.58%,\n"
     ]
    },
    {
     "name": "stderr",
     "output_type": "stream",
     "text": [
      "Training : 100%|██████████| 50/50 [00:22<00:00,  2.26it/s, Msg=Time 0.436s, Data 0.296s, Loss (0.922|0.077|0.006|0.002), Top1 (72.77%|98.56%|99.95%|99.96%|)] \n",
      "100%|██████████| 10/10 [00:02<00:00,  4.89it/s]\n",
      "Training :   0%|          | 0/50 [00:00<?, ?it/s]"
     ]
    },
    {
     "name": "stdout",
     "output_type": "stream",
     "text": [
      "Adjusting learning rate of group 0 to 1.0000e-04.\n",
      "Epoch 187/200: lr=0.0001, mean batch time = 0.44s, mean data loading time = 0.30, Training loss = 0.9221,0.0771,0.0062,0.0023, Test accuracy = 56.96%,64.49%,68.64%,69.64%,\n"
     ]
    },
    {
     "name": "stderr",
     "output_type": "stream",
     "text": [
      "Training : 100%|██████████| 50/50 [00:21<00:00,  2.29it/s, Msg=Time 0.430s, Data 0.290s, Loss (0.921|0.077|0.006|0.002), Top1 (72.77%|98.52%|99.96%|99.97%|)] \n",
      "100%|██████████| 10/10 [00:02<00:00,  4.95it/s]\n",
      "Training :   0%|          | 0/50 [00:00<?, ?it/s]"
     ]
    },
    {
     "name": "stdout",
     "output_type": "stream",
     "text": [
      "Adjusting learning rate of group 0 to 1.0000e-04.\n",
      "Epoch 188/200: lr=0.0001, mean batch time = 0.43s, mean data loading time = 0.29, Training loss = 0.9210,0.0773,0.0063,0.0022, Test accuracy = 56.98%,64.33%,68.54%,69.66%,\n"
     ]
    },
    {
     "name": "stderr",
     "output_type": "stream",
     "text": [
      "Training : 100%|██████████| 50/50 [00:22<00:00,  2.24it/s, Msg=Time 0.439s, Data 0.298s, Loss (0.922|0.077|0.006|0.002), Top1 (72.87%|98.44%|99.96%|99.97%|)] \n",
      "100%|██████████| 10/10 [00:02<00:00,  4.60it/s]\n",
      "Training :   0%|          | 0/50 [00:00<?, ?it/s]"
     ]
    },
    {
     "name": "stdout",
     "output_type": "stream",
     "text": [
      "Adjusting learning rate of group 0 to 1.0000e-04.\n",
      "Epoch 189/200: lr=0.0001, mean batch time = 0.44s, mean data loading time = 0.30, Training loss = 0.9216,0.0769,0.0062,0.0022, Test accuracy = 56.84%,64.35%,68.49%,69.67%,\n"
     ]
    },
    {
     "name": "stderr",
     "output_type": "stream",
     "text": [
      "Training : 100%|██████████| 50/50 [00:22<00:00,  2.24it/s, Msg=Time 0.438s, Data 0.296s, Loss (0.921|0.078|0.006|0.002), Top1 (72.81%|98.46%|99.95%|99.98%|)]\n",
      "100%|██████████| 10/10 [00:02<00:00,  4.85it/s]\n",
      "Training :   0%|          | 0/50 [00:00<?, ?it/s]"
     ]
    },
    {
     "name": "stdout",
     "output_type": "stream",
     "text": [
      "Adjusting learning rate of group 0 to 1.0000e-04.\n",
      "Epoch 190/200: lr=0.0001, mean batch time = 0.44s, mean data loading time = 0.30, Training loss = 0.9214,0.0780,0.0062,0.0021, Test accuracy = 56.92%,64.40%,68.55%,69.67%,\n"
     ]
    },
    {
     "name": "stderr",
     "output_type": "stream",
     "text": [
      "Training : 100%|██████████| 50/50 [00:22<00:00,  2.27it/s, Msg=Time 0.433s, Data 0.291s, Loss (0.922|0.077|0.006|0.002), Top1 (72.68%|98.44%|99.97%|99.98%|)] \n",
      "100%|██████████| 10/10 [00:02<00:00,  4.81it/s]\n",
      "Training :   0%|          | 0/50 [00:00<?, ?it/s]"
     ]
    },
    {
     "name": "stdout",
     "output_type": "stream",
     "text": [
      "Adjusting learning rate of group 0 to 1.0000e-04.\n",
      "Epoch 191/200: lr=0.0001, mean batch time = 0.43s, mean data loading time = 0.29, Training loss = 0.9216,0.0772,0.0060,0.0021, Test accuracy = 56.98%,64.40%,68.44%,69.60%,\n"
     ]
    },
    {
     "name": "stderr",
     "output_type": "stream",
     "text": [
      "Training : 100%|██████████| 50/50 [00:21<00:00,  2.28it/s, Msg=Time 0.432s, Data 0.293s, Loss (0.922|0.076|0.006|0.002), Top1 (72.85%|98.55%|99.96%|99.98%|)] \n",
      "100%|██████████| 10/10 [00:02<00:00,  4.84it/s]\n",
      "Training :   0%|          | 0/50 [00:00<?, ?it/s]"
     ]
    },
    {
     "name": "stdout",
     "output_type": "stream",
     "text": [
      "Adjusting learning rate of group 0 to 1.0000e-04.\n",
      "Epoch 192/200: lr=0.0001, mean batch time = 0.43s, mean data loading time = 0.29, Training loss = 0.9217,0.0762,0.0060,0.0021, Test accuracy = 56.93%,64.47%,68.54%,69.66%,\n"
     ]
    },
    {
     "name": "stderr",
     "output_type": "stream",
     "text": [
      "Training : 100%|██████████| 50/50 [00:22<00:00,  2.22it/s, Msg=Time 0.443s, Data 0.302s, Loss (0.921|0.076|0.006|0.002), Top1 (72.79%|98.50%|99.95%|99.97%|)] \n",
      "100%|██████████| 10/10 [00:02<00:00,  4.84it/s]\n",
      "Training :   0%|          | 0/50 [00:00<?, ?it/s]"
     ]
    },
    {
     "name": "stdout",
     "output_type": "stream",
     "text": [
      "Adjusting learning rate of group 0 to 1.0000e-04.\n",
      "Epoch 193/200: lr=0.0001, mean batch time = 0.44s, mean data loading time = 0.30, Training loss = 0.9206,0.0763,0.0064,0.0023, Test accuracy = 57.03%,64.46%,68.55%,69.65%,\n"
     ]
    },
    {
     "name": "stderr",
     "output_type": "stream",
     "text": [
      "Training : 100%|██████████| 50/50 [00:22<00:00,  2.23it/s, Msg=Time 0.440s, Data 0.299s, Loss (0.925|0.076|0.006|0.002), Top1 (72.57%|98.52%|99.96%|99.98%|)]\n",
      "100%|██████████| 10/10 [00:02<00:00,  4.97it/s]\n",
      "Training :   0%|          | 0/50 [00:00<?, ?it/s]"
     ]
    },
    {
     "name": "stdout",
     "output_type": "stream",
     "text": [
      "Adjusting learning rate of group 0 to 1.0000e-04.\n",
      "Epoch 194/200: lr=0.0001, mean batch time = 0.44s, mean data loading time = 0.30, Training loss = 0.9253,0.0760,0.0061,0.0021, Test accuracy = 56.91%,64.45%,68.59%,69.74%,\n"
     ]
    },
    {
     "name": "stderr",
     "output_type": "stream",
     "text": [
      "Training : 100%|██████████| 50/50 [00:21<00:00,  2.29it/s, Msg=Time 0.429s, Data 0.291s, Loss (0.922|0.077|0.006|0.002), Top1 (72.66%|98.46%|99.95%|99.97%|)]\n",
      "100%|██████████| 10/10 [00:02<00:00,  4.86it/s]\n",
      "Training :   0%|          | 0/50 [00:00<?, ?it/s]"
     ]
    },
    {
     "name": "stdout",
     "output_type": "stream",
     "text": [
      "Adjusting learning rate of group 0 to 1.0000e-04.\n",
      "Epoch 195/200: lr=0.0001, mean batch time = 0.43s, mean data loading time = 0.29, Training loss = 0.9221,0.0772,0.0060,0.0021, Test accuracy = 56.95%,64.39%,68.52%,69.58%,\n"
     ]
    },
    {
     "name": "stderr",
     "output_type": "stream",
     "text": [
      "Training : 100%|██████████| 50/50 [00:22<00:00,  2.26it/s, Msg=Time 0.435s, Data 0.295s, Loss (0.923|0.078|0.006|0.002), Top1 (72.86%|98.46%|99.95%|99.98%|)]\n",
      "100%|██████████| 10/10 [00:02<00:00,  4.83it/s]\n",
      "Training :   0%|          | 0/50 [00:00<?, ?it/s]"
     ]
    },
    {
     "name": "stdout",
     "output_type": "stream",
     "text": [
      "Adjusting learning rate of group 0 to 1.0000e-04.\n",
      "Epoch 196/200: lr=0.0001, mean batch time = 0.44s, mean data loading time = 0.30, Training loss = 0.9234,0.0776,0.0060,0.0021, Test accuracy = 56.94%,64.44%,68.51%,69.68%,\n"
     ]
    },
    {
     "name": "stderr",
     "output_type": "stream",
     "text": [
      "Training : 100%|██████████| 50/50 [00:22<00:00,  2.26it/s, Msg=Time 0.435s, Data 0.295s, Loss (0.925|0.077|0.006|0.002), Top1 (72.59%|98.53%|99.96%|99.98%|)] \n",
      "100%|██████████| 10/10 [00:02<00:00,  4.94it/s]\n",
      "Training :   0%|          | 0/50 [00:00<?, ?it/s]"
     ]
    },
    {
     "name": "stdout",
     "output_type": "stream",
     "text": [
      "Adjusting learning rate of group 0 to 1.0000e-04.\n",
      "Epoch 197/200: lr=0.0001, mean batch time = 0.44s, mean data loading time = 0.29, Training loss = 0.9255,0.0771,0.0061,0.0022, Test accuracy = 57.02%,64.36%,68.55%,69.70%,\n"
     ]
    },
    {
     "name": "stderr",
     "output_type": "stream",
     "text": [
      "Training : 100%|██████████| 50/50 [00:21<00:00,  2.28it/s, Msg=Time 0.432s, Data 0.290s, Loss (0.925|0.075|0.006|0.002), Top1 (72.77%|98.57%|99.96%|99.98%|)] \n",
      "100%|██████████| 10/10 [00:02<00:00,  4.92it/s]\n",
      "Training :   0%|          | 0/50 [00:00<?, ?it/s]"
     ]
    },
    {
     "name": "stdout",
     "output_type": "stream",
     "text": [
      "Adjusting learning rate of group 0 to 1.0000e-04.\n",
      "Epoch 198/200: lr=0.0001, mean batch time = 0.43s, mean data loading time = 0.29, Training loss = 0.9246,0.0749,0.0061,0.0021, Test accuracy = 56.96%,64.39%,68.46%,69.67%,\n"
     ]
    },
    {
     "name": "stderr",
     "output_type": "stream",
     "text": [
      "Training : 100%|██████████| 50/50 [00:22<00:00,  2.25it/s, Msg=Time 0.437s, Data 0.294s, Loss (0.920|0.075|0.006|0.002), Top1 (72.81%|98.57%|99.93%|99.97%|)]\n",
      "100%|██████████| 10/10 [00:02<00:00,  4.52it/s]\n",
      "Training :   0%|          | 0/50 [00:00<?, ?it/s]"
     ]
    },
    {
     "name": "stdout",
     "output_type": "stream",
     "text": [
      "Adjusting learning rate of group 0 to 1.0000e-04.\n",
      "Epoch 199/200: lr=0.0001, mean batch time = 0.44s, mean data loading time = 0.29, Training loss = 0.9199,0.0747,0.0063,0.0023, Test accuracy = 56.94%,64.51%,68.51%,69.63%,\n"
     ]
    },
    {
     "name": "stderr",
     "output_type": "stream",
     "text": [
      "Training : 100%|██████████| 50/50 [00:22<00:00,  2.27it/s, Msg=Time 0.434s, Data 0.294s, Loss (0.924|0.077|0.007|0.002), Top1 (72.62%|98.51%|99.93%|99.97%|)] \n",
      "100%|██████████| 10/10 [00:02<00:00,  4.65it/s]"
     ]
    },
    {
     "name": "stdout",
     "output_type": "stream",
     "text": [
      "Adjusting learning rate of group 0 to 1.0000e-04.\n",
      "Epoch 200/200: lr=0.0001, mean batch time = 0.43s, mean data loading time = 0.29, Training loss = 0.9239,0.0769,0.0066,0.0022, Test accuracy = 56.99%,64.43%,68.43%,69.75%,\n"
     ]
    },
    {
     "name": "stderr",
     "output_type": "stream",
     "text": [
      "\n"
     ]
    }
   ],
   "source": [
    "from train_utils import AverageMeter\n",
    "from train_utils import dsn_validate, dsn_train\n",
    "from tqdm import tqdm\n",
    "\n",
    "losses = []\n",
    "acces = []\n",
    "for epoch in range(start_epoch, num_epoch):\n",
    "    # training\n",
    "    batch_time,data_time,l1,l2,l3,l4 = dsn_train(model, train_loader,\n",
    "                                             optimizer, criterion, temperature)\n",
    "    # Validation\n",
    "    t1,t2,t3,t4 = dsn_validate(model,test_loader)\n",
    "    lr_schedule.step()\n",
    "    \n",
    "    losses.append([l1,l2,l3,l4])\n",
    "    acces.append([t1,t2,t3,t4])\n",
    "    start_epoch = epoch\n",
    "    \n",
    "    print(\"Epoch %d/%d: lr=%.4f, \"\\\n",
    "          \"mean batch time = %.2fs, mean data loading time = %.2f, \"\\\n",
    "          \"Training loss = %.4f,%.4f,%.4f,%.4f, \"\\\n",
    "          \"Test accuracy = %.2f%%,%.2f%%,%.2f%%,%.2f%%,\" % (\n",
    "        epoch+1,num_epoch, optimizer.state_dict()['param_groups'][0]['lr'], \n",
    "        batch_time,data_time,\n",
    "        l1,l2,l3,l4, \n",
    "        t1,t2,t3,t4))"
   ]
  },
  {
   "cell_type": "code",
   "execution_count": 29,
   "id": "77d73a56",
   "metadata": {},
   "outputs": [],
   "source": [
    "# Save the trained parameters to disk\n",
    "torch.save(model.state_dict(), \"./FSS/models/pretrained_resnet18-FSS.pth\")"
   ]
  },
  {
   "cell_type": "markdown",
   "id": "f2f1c499",
   "metadata": {},
   "source": [
    "# FSS-BK on Cifar100 test"
   ]
  },
  {
   "cell_type": "code",
   "execution_count": 2,
   "id": "c88a9c0a",
   "metadata": {},
   "outputs": [],
   "source": [
    "# model\n",
    "from resnet import ResNetDSN,ResNetFSSBK,BasicBlock,Bottleneck,FeatureReroute\n",
    "model = ResNetFSSBK(BasicBlock,layers=[2,2,2,2], num_classes=100,ratio=0.5)\n",
    "# saved_state = torch.load(\"./FSS/models/pretrained_resnet18-FSS.pth\", map_location=torch.device(\"cpu\"))\n",
    "# model.load_state_dict(saved_state)"
   ]
  },
  {
   "cell_type": "code",
   "execution_count": 3,
   "id": "0a8092d2",
   "metadata": {},
   "outputs": [
    {
     "name": "stdout",
     "output_type": "stream",
     "text": [
      "Files already downloaded and verified\n",
      "Files already downloaded and verified\n"
     ]
    }
   ],
   "source": [
    "# dataset\n",
    "from cifar100 import prepare_cifar100_train_dataset,prepare_cifar100_test_dataset\n",
    "\n",
    "cifar100_dir=\"/workspace/dataset/cifar100\"\n",
    "batch_size = 500\n",
    "train_loader = prepare_cifar100_train_dataset(data_dir=cifar100_dir, batch_size=batch_size, \n",
    "                                                        num_workers=2)\n",
    "test_loader = prepare_cifar100_test_dataset(data_dir=cifar100_dir, batch_size=batch_size, \n",
    "                                                        num_workers=2)"
   ]
  },
  {
   "cell_type": "code",
   "execution_count": 4,
   "id": "249b502a",
   "metadata": {},
   "outputs": [
    {
     "name": "stdout",
     "output_type": "stream",
     "text": [
      "Adjusting learning rate of group 0 to 1.0000e-02.\n"
     ]
    }
   ],
   "source": [
    "# Training hyper-parameters\n",
    "import torch\n",
    "from torch import nn\n",
    "import time\n",
    "# model = torch.nn.DataParallel(model).cuda()\n",
    "model=model.cuda()\n",
    "best_prec1 = 0\n",
    "criterion = nn.CrossEntropyLoss().cuda()\n",
    "optimizer = torch.optim.SGD(model.parameters(), \n",
    "                            lr=0.1, \n",
    "                            momentum=0.9, \n",
    "                            weight_decay = 1e-3)\n",
    "def warm_multi_step(epoch):\n",
    "    if (epoch < 1):\n",
    "        return 0.1\n",
    "    elif (1<=epoch<75):\n",
    "        return 1\n",
    "    elif 75 <= epoch < 130:\n",
    "        return 0.1\n",
    "    elif 130 <= epoch < 180:\n",
    "        return 0.01\n",
    "    elif epoch >=180:\n",
    "        return 0.001\n",
    "    else:\n",
    "        return 1\n",
    "\n",
    "lr_schedule = torch.optim.lr_scheduler.LambdaLR(optimizer,\n",
    "                                warm_multi_step,verbose=True)\n",
    "# lr_schedule = torch.optim.lr_scheduler.MultiStepLR(optimizer,[75,90,95])\n",
    "num_epoch=200\n",
    "start_epoch = 0\n",
    "temperature = 3\n",
    "alpha = 0.1\n",
    "beta = 1e-6\n",
    "\n",
    "log_path = \"./logs/log-resnetfssbkboost-cifar100-ratio0.5-wd0.001-epoch200.log\"\n",
    "with open(log_path,'w') as f:\n",
    "    f.write(\"Training ResNetFSS-Boost-BK-Boost-Ratio0.5 wd0.001 Epoch200\\r\\n\")"
   ]
  },
  {
   "cell_type": "code",
   "execution_count": null,
   "id": "5eb42303",
   "metadata": {
    "collapsed": true,
    "jupyter": {
     "outputs_hidden": true
    }
   },
   "outputs": [
    {
     "name": "stderr",
     "output_type": "stream",
     "text": [
      "Training : 100%|██████████| 100/100 [00:51<00:00,  1.93it/s, Msg=Time 0.516s, Data 0.232s, Loss (4.090|4.093|4.111|4.178), Top1 (8.21%|8.23%|8.24%|7.04%|)]\n",
      "100%|██████████| 20/20 [00:02<00:00,  9.63it/s]\n",
      "Training :   0%|          | 0/100 [00:00<?, ?it/s]"
     ]
    },
    {
     "name": "stdout",
     "output_type": "stream",
     "text": [
      "Adjusting learning rate of group 0 to 1.0000e-01.\n",
      "Epoch 1/200: lr=0.1000, mean batch time = 0.52s, mean data loading time = 0.23, Training loss = 4.0901,4.0927,4.1106,4.1779, Test accuracy = 11.31%,11.62%,11.48%,11.70%,\n"
     ]
    },
    {
     "name": "stderr",
     "output_type": "stream",
     "text": [
      "Training : 100%|██████████| 100/100 [00:38<00:00,  2.62it/s, Msg=Time 0.379s, Data 0.253s, Loss (3.874|3.788|3.795|3.790), Top1 (12.20%|12.22%|12.17%|12.18%|)]\n",
      "100%|██████████| 20/20 [00:02<00:00,  9.45it/s]\n",
      "Training :   0%|          | 0/100 [00:00<?, ?it/s]"
     ]
    },
    {
     "name": "stdout",
     "output_type": "stream",
     "text": [
      "Adjusting learning rate of group 0 to 1.0000e-01.\n",
      "Epoch 2/200: lr=0.1000, mean batch time = 0.38s, mean data loading time = 0.25, Training loss = 3.8739,3.7879,3.7950,3.7898, Test accuracy = 15.93%,15.97%,16.01%,15.92%,\n"
     ]
    },
    {
     "name": "stderr",
     "output_type": "stream",
     "text": [
      "Training : 100%|██████████| 100/100 [00:52<00:00,  1.89it/s, Msg=Time 0.525s, Data 0.360s, Loss (3.306|3.300|3.303|3.297), Top1 (19.99%|20.05%|20.00%|20.03%|)]\n",
      "100%|██████████| 20/20 [00:02<00:00,  7.53it/s]\n",
      "Training :   0%|          | 0/100 [00:00<?, ?it/s]"
     ]
    },
    {
     "name": "stdout",
     "output_type": "stream",
     "text": [
      "Adjusting learning rate of group 0 to 1.0000e-01.\n",
      "Epoch 3/200: lr=0.1000, mean batch time = 0.52s, mean data loading time = 0.36, Training loss = 3.3055,3.2999,3.3033,3.2969, Test accuracy = 22.06%,22.25%,22.18%,22.68%,\n"
     ]
    },
    {
     "name": "stderr",
     "output_type": "stream",
     "text": [
      "Training : 100%|██████████| 100/100 [00:59<00:00,  1.69it/s, Msg=Time 0.588s, Data 0.407s, Loss (3.028|3.006|3.006|2.987), Top1 (25.43%|25.48%|25.50%|25.67%|)]\n",
      "100%|██████████| 20/20 [00:02<00:00,  7.67it/s]\n",
      "Training :   0%|          | 0/100 [00:00<?, ?it/s]"
     ]
    },
    {
     "name": "stdout",
     "output_type": "stream",
     "text": [
      "Adjusting learning rate of group 0 to 1.0000e-01.\n",
      "Epoch 4/200: lr=0.1000, mean batch time = 0.59s, mean data loading time = 0.41, Training loss = 3.0284,3.0064,3.0058,2.9870, Test accuracy = 24.39%,24.46%,24.80%,25.32%,\n"
     ]
    },
    {
     "name": "stderr",
     "output_type": "stream",
     "text": [
      "Training : 100%|██████████| 100/100 [01:04<00:00,  1.56it/s, Msg=Time 0.637s, Data 0.441s, Loss (2.806|2.769|2.749|2.736), Top1 (29.69%|29.87%|30.27%|30.49%|)]\n",
      "100%|██████████| 20/20 [00:03<00:00,  6.51it/s]\n",
      "Training :   0%|          | 0/100 [00:00<?, ?it/s]"
     ]
    },
    {
     "name": "stdout",
     "output_type": "stream",
     "text": [
      "Adjusting learning rate of group 0 to 1.0000e-01.\n",
      "Epoch 5/200: lr=0.1000, mean batch time = 0.64s, mean data loading time = 0.44, Training loss = 2.8061,2.7693,2.7491,2.7364, Test accuracy = 28.37%,28.52%,28.75%,29.08%,\n"
     ]
    },
    {
     "name": "stderr",
     "output_type": "stream",
     "text": [
      "Training : 100%|██████████| 100/100 [01:05<00:00,  1.54it/s, Msg=Time 0.645s, Data 0.446s, Loss (2.629|2.578|2.544|2.529), Top1 (33.20%|33.66%|34.42%|34.47%|)]\n",
      "100%|██████████| 20/20 [00:02<00:00,  6.81it/s]\n",
      "Training :   0%|          | 0/100 [00:00<?, ?it/s]"
     ]
    },
    {
     "name": "stdout",
     "output_type": "stream",
     "text": [
      "Adjusting learning rate of group 0 to 1.0000e-01.\n",
      "Epoch 6/200: lr=0.1000, mean batch time = 0.64s, mean data loading time = 0.45, Training loss = 2.6291,2.5778,2.5440,2.5289, Test accuracy = 25.22%,25.95%,27.22%,27.39%,\n"
     ]
    },
    {
     "name": "stderr",
     "output_type": "stream",
     "text": [
      "Training : 100%|██████████| 100/100 [01:05<00:00,  1.52it/s, Msg=Time 0.653s, Data 0.450s, Loss (2.471|2.400|2.352|2.336), Top1 (36.31%|37.12%|38.23%|38.38%|)]\n",
      "100%|██████████| 20/20 [00:02<00:00,  6.80it/s]\n",
      "Training :   0%|          | 0/100 [00:00<?, ?it/s]"
     ]
    },
    {
     "name": "stdout",
     "output_type": "stream",
     "text": [
      "Adjusting learning rate of group 0 to 1.0000e-01.\n",
      "Epoch 7/200: lr=0.1000, mean batch time = 0.65s, mean data loading time = 0.45, Training loss = 2.4712,2.3997,2.3519,2.3365, Test accuracy = 32.06%,31.83%,33.52%,34.10%,\n"
     ]
    },
    {
     "name": "stderr",
     "output_type": "stream",
     "text": [
      "Training : 100%|██████████| 100/100 [01:05<00:00,  1.52it/s, Msg=Time 0.655s, Data 0.453s, Loss (2.337|2.247|2.184|2.172), Top1 (39.23%|40.64%|41.95%|42.22%|)]\n",
      "100%|██████████| 20/20 [00:02<00:00,  6.93it/s]\n",
      "Training :   0%|          | 0/100 [00:00<?, ?it/s]"
     ]
    },
    {
     "name": "stdout",
     "output_type": "stream",
     "text": [
      "Adjusting learning rate of group 0 to 1.0000e-01.\n",
      "Epoch 8/200: lr=0.1000, mean batch time = 0.65s, mean data loading time = 0.45, Training loss = 2.3374,2.2473,2.1845,2.1715, Test accuracy = 25.74%,27.96%,29.28%,30.24%,\n"
     ]
    },
    {
     "name": "stderr",
     "output_type": "stream",
     "text": [
      "Training : 100%|██████████| 100/100 [01:04<00:00,  1.54it/s, Msg=Time 0.645s, Data 0.445s, Loss (2.247|2.140|2.058|2.046), Top1 (41.22%|42.60%|44.78%|45.07%|)]\n",
      "100%|██████████| 20/20 [00:02<00:00,  6.72it/s]\n",
      "Training :   0%|          | 0/100 [00:00<?, ?it/s]"
     ]
    },
    {
     "name": "stdout",
     "output_type": "stream",
     "text": [
      "Adjusting learning rate of group 0 to 1.0000e-01.\n",
      "Epoch 9/200: lr=0.1000, mean batch time = 0.64s, mean data loading time = 0.45, Training loss = 2.2473,2.1403,2.0581,2.0455, Test accuracy = 29.82%,31.82%,35.13%,35.74%,\n"
     ]
    },
    {
     "name": "stderr",
     "output_type": "stream",
     "text": [
      "Training : 100%|██████████| 100/100 [01:03<00:00,  1.57it/s, Msg=Time 0.632s, Data 0.439s, Loss (2.162|2.027|1.924|1.911), Top1 (43.01%|45.34%|47.67%|47.99%|)]\n",
      "100%|██████████| 20/20 [00:02<00:00,  7.27it/s]\n",
      "Training :   0%|          | 0/100 [00:00<?, ?it/s]"
     ]
    },
    {
     "name": "stdout",
     "output_type": "stream",
     "text": [
      "Adjusting learning rate of group 0 to 1.0000e-01.\n",
      "Epoch 10/200: lr=0.1000, mean batch time = 0.63s, mean data loading time = 0.44, Training loss = 2.1622,2.0275,1.9241,1.9110, Test accuracy = 35.58%,37.67%,41.53%,42.22%,\n"
     ]
    },
    {
     "name": "stderr",
     "output_type": "stream",
     "text": [
      "Training : 100%|██████████| 100/100 [01:04<00:00,  1.55it/s, Msg=Time 0.641s, Data 0.444s, Loss (2.099|1.937|1.814|1.797), Top1 (44.14%|47.30%|50.25%|50.56%|)]\n",
      "100%|██████████| 20/20 [00:02<00:00,  6.88it/s]\n",
      "Training :   0%|          | 0/100 [00:00<?, ?it/s]"
     ]
    },
    {
     "name": "stdout",
     "output_type": "stream",
     "text": [
      "Adjusting learning rate of group 0 to 1.0000e-01.\n",
      "Epoch 11/200: lr=0.1000, mean batch time = 0.64s, mean data loading time = 0.44, Training loss = 2.0986,1.9375,1.8139,1.7973, Test accuracy = 32.40%,34.72%,39.86%,39.88%,\n"
     ]
    },
    {
     "name": "stderr",
     "output_type": "stream",
     "text": [
      "Training : 100%|██████████| 100/100 [01:04<00:00,  1.54it/s, Msg=Time 0.643s, Data 0.445s, Loss (2.058|1.870|1.723|1.710), Top1 (45.33%|49.05%|52.34%|52.73%|)]\n",
      "100%|██████████| 20/20 [00:03<00:00,  6.53it/s]\n",
      "Training :   0%|          | 0/100 [00:00<?, ?it/s]"
     ]
    },
    {
     "name": "stdout",
     "output_type": "stream",
     "text": [
      "Adjusting learning rate of group 0 to 1.0000e-01.\n",
      "Epoch 12/200: lr=0.1000, mean batch time = 0.64s, mean data loading time = 0.44, Training loss = 2.0582,1.8696,1.7229,1.7096, Test accuracy = 37.64%,39.68%,42.96%,44.19%,\n"
     ]
    },
    {
     "name": "stderr",
     "output_type": "stream",
     "text": [
      "Training : 100%|██████████| 100/100 [01:02<00:00,  1.60it/s, Msg=Time 0.621s, Data 0.431s, Loss (2.002|1.776|1.613|1.598), Top1 (46.45%|51.07%|55.05%|55.36%|)]\n",
      "100%|██████████| 20/20 [00:03<00:00,  6.57it/s]\n",
      "Training :   0%|          | 0/100 [00:00<?, ?it/s]"
     ]
    },
    {
     "name": "stdout",
     "output_type": "stream",
     "text": [
      "Adjusting learning rate of group 0 to 1.0000e-01.\n",
      "Epoch 13/200: lr=0.1000, mean batch time = 0.62s, mean data loading time = 0.43, Training loss = 2.0015,1.7755,1.6133,1.5984, Test accuracy = 32.92%,35.37%,40.71%,40.92%,\n"
     ]
    },
    {
     "name": "stderr",
     "output_type": "stream",
     "text": [
      "Training : 100%|██████████| 100/100 [01:05<00:00,  1.54it/s, Msg=Time 0.645s, Data 0.447s, Loss (1.984|1.730|1.555|1.537), Top1 (46.83%|52.01%|56.42%|56.79%|)]\n",
      "100%|██████████| 20/20 [00:02<00:00,  7.18it/s]\n",
      "Training :   0%|          | 0/100 [00:00<?, ?it/s]"
     ]
    },
    {
     "name": "stdout",
     "output_type": "stream",
     "text": [
      "Adjusting learning rate of group 0 to 1.0000e-01.\n",
      "Epoch 14/200: lr=0.1000, mean batch time = 0.64s, mean data loading time = 0.45, Training loss = 1.9838,1.7300,1.5546,1.5375, Test accuracy = 35.24%,38.24%,43.21%,44.35%,\n"
     ]
    },
    {
     "name": "stderr",
     "output_type": "stream",
     "text": [
      "Training : 100%|██████████| 100/100 [01:02<00:00,  1.61it/s, Msg=Time 0.617s, Data 0.429s, Loss (1.942|1.669|1.483|1.461), Top1 (48.12%|53.90%|58.27%|58.66%|)]\n",
      "100%|██████████| 20/20 [00:03<00:00,  6.54it/s]\n",
      "Training :   0%|          | 0/100 [00:00<?, ?it/s]"
     ]
    },
    {
     "name": "stdout",
     "output_type": "stream",
     "text": [
      "Adjusting learning rate of group 0 to 1.0000e-01.\n",
      "Epoch 15/200: lr=0.1000, mean batch time = 0.62s, mean data loading time = 0.43, Training loss = 1.9419,1.6690,1.4828,1.4615, Test accuracy = 36.18%,41.86%,46.84%,46.92%,\n"
     ]
    },
    {
     "name": "stderr",
     "output_type": "stream",
     "text": [
      "Training : 100%|██████████| 100/100 [01:03<00:00,  1.57it/s, Msg=Time 0.633s, Data 0.440s, Loss (1.918|1.623|1.432|1.421), Top1 (48.53%|54.73%|59.37%|60.01%|)]\n",
      "100%|██████████| 20/20 [00:03<00:00,  6.51it/s]\n",
      "Training :   0%|          | 0/100 [00:00<?, ?it/s]"
     ]
    },
    {
     "name": "stdout",
     "output_type": "stream",
     "text": [
      "Adjusting learning rate of group 0 to 1.0000e-01.\n",
      "Epoch 16/200: lr=0.1000, mean batch time = 0.63s, mean data loading time = 0.44, Training loss = 1.9182,1.6234,1.4323,1.4208, Test accuracy = 41.31%,44.63%,47.62%,48.13%,\n"
     ]
    },
    {
     "name": "stderr",
     "output_type": "stream",
     "text": [
      "Training : 100%|██████████| 100/100 [01:03<00:00,  1.57it/s, Msg=Time 0.633s, Data 0.439s, Loss (1.899|1.582|1.384|1.367), Top1 (48.86%|55.88%|60.83%|61.41%|)]\n",
      "100%|██████████| 20/20 [00:02<00:00,  7.20it/s]\n",
      "Training :   0%|          | 0/100 [00:00<?, ?it/s]"
     ]
    },
    {
     "name": "stdout",
     "output_type": "stream",
     "text": [
      "Adjusting learning rate of group 0 to 1.0000e-01.\n",
      "Epoch 17/200: lr=0.1000, mean batch time = 0.63s, mean data loading time = 0.44, Training loss = 1.8993,1.5824,1.3842,1.3675, Test accuracy = 39.83%,45.75%,51.29%,52.26%,\n"
     ]
    },
    {
     "name": "stderr",
     "output_type": "stream",
     "text": [
      "Training : 100%|██████████| 100/100 [01:03<00:00,  1.58it/s, Msg=Time 0.627s, Data 0.433s, Loss (1.887|1.554|1.347|1.328), Top1 (49.47%|56.50%|61.70%|62.31%|)]\n",
      "100%|██████████| 20/20 [00:02<00:00,  6.75it/s]\n",
      "Training :   0%|          | 0/100 [00:00<?, ?it/s]"
     ]
    },
    {
     "name": "stdout",
     "output_type": "stream",
     "text": [
      "Adjusting learning rate of group 0 to 1.0000e-01.\n",
      "Epoch 18/200: lr=0.1000, mean batch time = 0.63s, mean data loading time = 0.43, Training loss = 1.8867,1.5540,1.3471,1.3279, Test accuracy = 36.40%,39.12%,45.72%,45.07%,\n"
     ]
    },
    {
     "name": "stderr",
     "output_type": "stream",
     "text": [
      "Training : 100%|██████████| 100/100 [01:03<00:00,  1.58it/s, Msg=Time 0.630s, Data 0.434s, Loss (1.867|1.519|1.310|1.286), Top1 (50.10%|57.28%|62.50%|63.13%|)]\n",
      "100%|██████████| 20/20 [00:03<00:00,  6.15it/s]\n",
      "Training :   0%|          | 0/100 [00:00<?, ?it/s]"
     ]
    },
    {
     "name": "stdout",
     "output_type": "stream",
     "text": [
      "Adjusting learning rate of group 0 to 1.0000e-01.\n",
      "Epoch 19/200: lr=0.1000, mean batch time = 0.63s, mean data loading time = 0.43, Training loss = 1.8666,1.5189,1.3103,1.2856, Test accuracy = 39.87%,45.47%,50.65%,51.47%,\n"
     ]
    },
    {
     "name": "stderr",
     "output_type": "stream",
     "text": [
      "Training : 100%|██████████| 100/100 [01:03<00:00,  1.58it/s, Msg=Time 0.627s, Data 0.434s, Loss (1.857|1.495|1.275|1.249), Top1 (50.04%|57.72%|63.30%|63.93%|)]\n",
      "100%|██████████| 20/20 [00:02<00:00,  7.31it/s]\n",
      "Training :   0%|          | 0/100 [00:00<?, ?it/s]"
     ]
    },
    {
     "name": "stdout",
     "output_type": "stream",
     "text": [
      "Adjusting learning rate of group 0 to 1.0000e-01.\n",
      "Epoch 20/200: lr=0.1000, mean batch time = 0.63s, mean data loading time = 0.43, Training loss = 1.8566,1.4948,1.2753,1.2490, Test accuracy = 40.77%,46.55%,50.82%,52.05%,\n"
     ]
    },
    {
     "name": "stderr",
     "output_type": "stream",
     "text": [
      "Training : 100%|██████████| 100/100 [01:04<00:00,  1.56it/s, Msg=Time 0.636s, Data 0.440s, Loss (1.838|1.461|1.241|1.211), Top1 (50.57%|58.76%|64.41%|65.25%|)]\n",
      "100%|██████████| 20/20 [00:02<00:00,  6.72it/s]\n",
      "Training :   0%|          | 0/100 [00:00<?, ?it/s]"
     ]
    },
    {
     "name": "stdout",
     "output_type": "stream",
     "text": [
      "Adjusting learning rate of group 0 to 1.0000e-01.\n",
      "Epoch 21/200: lr=0.1000, mean batch time = 0.64s, mean data loading time = 0.44, Training loss = 1.8383,1.4614,1.2407,1.2111, Test accuracy = 39.93%,47.22%,53.77%,55.09%,\n"
     ]
    },
    {
     "name": "stderr",
     "output_type": "stream",
     "text": [
      "Training : 100%|██████████| 100/100 [01:02<00:00,  1.60it/s, Msg=Time 0.620s, Data 0.426s, Loss (1.831|1.443|1.218|1.188), Top1 (50.56%|59.27%|64.85%|65.62%|)]\n",
      "100%|██████████| 20/20 [00:02<00:00,  6.75it/s]\n",
      "Training :   0%|          | 0/100 [00:00<?, ?it/s]"
     ]
    },
    {
     "name": "stdout",
     "output_type": "stream",
     "text": [
      "Adjusting learning rate of group 0 to 1.0000e-01.\n",
      "Epoch 22/200: lr=0.1000, mean batch time = 0.62s, mean data loading time = 0.43, Training loss = 1.8309,1.4430,1.2179,1.1878, Test accuracy = 37.55%,43.73%,47.53%,48.49%,\n"
     ]
    },
    {
     "name": "stderr",
     "output_type": "stream",
     "text": [
      "Training : 100%|██████████| 100/100 [01:03<00:00,  1.57it/s, Msg=Time 0.632s, Data 0.438s, Loss (1.822|1.423|1.202|1.172), Top1 (50.87%|59.88%|65.35%|66.00%|)]\n",
      "100%|██████████| 20/20 [00:02<00:00,  7.38it/s]\n",
      "Training :   0%|          | 0/100 [00:00<?, ?it/s]"
     ]
    },
    {
     "name": "stdout",
     "output_type": "stream",
     "text": [
      "Adjusting learning rate of group 0 to 1.0000e-01.\n",
      "Epoch 23/200: lr=0.1000, mean batch time = 0.63s, mean data loading time = 0.44, Training loss = 1.8222,1.4227,1.2024,1.1718, Test accuracy = 39.25%,47.47%,52.68%,53.39%,\n"
     ]
    },
    {
     "name": "stderr",
     "output_type": "stream",
     "text": [
      "Training : 100%|██████████| 100/100 [01:01<00:00,  1.63it/s, Msg=Time 0.610s, Data 0.425s, Loss (1.805|1.395|1.173|1.140), Top1 (51.39%|60.32%|66.18%|66.98%|)]\n",
      "100%|██████████| 20/20 [00:02<00:00,  7.05it/s]\n",
      "Training :   0%|          | 0/100 [00:00<?, ?it/s]"
     ]
    },
    {
     "name": "stdout",
     "output_type": "stream",
     "text": [
      "Adjusting learning rate of group 0 to 1.0000e-01.\n",
      "Epoch 24/200: lr=0.1000, mean batch time = 0.61s, mean data loading time = 0.42, Training loss = 1.8052,1.3951,1.1728,1.1404, Test accuracy = 39.74%,46.43%,50.06%,51.29%,\n"
     ]
    },
    {
     "name": "stderr",
     "output_type": "stream",
     "text": [
      "Training : 100%|██████████| 100/100 [01:04<00:00,  1.56it/s, Msg=Time 0.637s, Data 0.442s, Loss (1.802|1.384|1.158|1.127), Top1 (51.19%|60.77%|66.37%|67.29%|)]\n",
      "100%|██████████| 20/20 [00:02<00:00,  7.73it/s]\n",
      "Training :   0%|          | 0/100 [00:00<?, ?it/s]"
     ]
    },
    {
     "name": "stdout",
     "output_type": "stream",
     "text": [
      "Adjusting learning rate of group 0 to 1.0000e-01.\n",
      "Epoch 25/200: lr=0.1000, mean batch time = 0.64s, mean data loading time = 0.44, Training loss = 1.8019,1.3844,1.1578,1.1268, Test accuracy = 39.33%,48.70%,54.78%,55.39%,\n"
     ]
    },
    {
     "name": "stderr",
     "output_type": "stream",
     "text": [
      "Training : 100%|██████████| 100/100 [01:02<00:00,  1.61it/s, Msg=Time 0.618s, Data 0.428s, Loss (1.790|1.360|1.135|1.101), Top1 (51.60%|61.40%|67.10%|67.91%|)]\n",
      "100%|██████████| 20/20 [00:02<00:00,  6.88it/s]\n",
      "Training :   0%|          | 0/100 [00:00<?, ?it/s]"
     ]
    },
    {
     "name": "stdout",
     "output_type": "stream",
     "text": [
      "Adjusting learning rate of group 0 to 1.0000e-01.\n",
      "Epoch 26/200: lr=0.1000, mean batch time = 0.62s, mean data loading time = 0.43, Training loss = 1.7904,1.3598,1.1349,1.1013, Test accuracy = 43.29%,47.63%,53.97%,55.17%,\n"
     ]
    },
    {
     "name": "stderr",
     "output_type": "stream",
     "text": [
      "Training : 100%|██████████| 100/100 [01:03<00:00,  1.57it/s, Msg=Time 0.632s, Data 0.438s, Loss (1.792|1.356|1.128|1.095), Top1 (51.56%|61.50%|67.18%|68.15%|)]\n",
      "100%|██████████| 20/20 [00:02<00:00,  7.19it/s]\n",
      "Training :   0%|          | 0/100 [00:00<?, ?it/s]"
     ]
    },
    {
     "name": "stdout",
     "output_type": "stream",
     "text": [
      "Adjusting learning rate of group 0 to 1.0000e-01.\n",
      "Epoch 27/200: lr=0.1000, mean batch time = 0.63s, mean data loading time = 0.44, Training loss = 1.7925,1.3564,1.1284,1.0946, Test accuracy = 41.28%,44.94%,51.56%,52.79%,\n"
     ]
    },
    {
     "name": "stderr",
     "output_type": "stream",
     "text": [
      "Training : 100%|██████████| 100/100 [01:02<00:00,  1.59it/s, Msg=Time 0.623s, Data 0.431s, Loss (1.783|1.336|1.109|1.076), Top1 (51.67%|61.82%|67.75%|68.48%|)]\n",
      "100%|██████████| 20/20 [00:02<00:00,  6.96it/s]\n",
      "Training :   0%|          | 0/100 [00:00<?, ?it/s]"
     ]
    },
    {
     "name": "stdout",
     "output_type": "stream",
     "text": [
      "Adjusting learning rate of group 0 to 1.0000e-01.\n",
      "Epoch 28/200: lr=0.1000, mean batch time = 0.62s, mean data loading time = 0.43, Training loss = 1.7826,1.3357,1.1093,1.0761, Test accuracy = 42.55%,50.98%,54.50%,55.09%,\n"
     ]
    },
    {
     "name": "stderr",
     "output_type": "stream",
     "text": [
      "Training : 100%|██████████| 100/100 [01:03<00:00,  1.57it/s, Msg=Time 0.630s, Data 0.436s, Loss (1.764|1.317|1.088|1.051), Top1 (52.44%|62.20%|67.99%|68.94%|)]\n",
      "100%|██████████| 20/20 [00:02<00:00,  6.97it/s]\n",
      "Training :   0%|          | 0/100 [00:00<?, ?it/s]"
     ]
    },
    {
     "name": "stdout",
     "output_type": "stream",
     "text": [
      "Adjusting learning rate of group 0 to 1.0000e-01.\n",
      "Epoch 29/200: lr=0.1000, mean batch time = 0.63s, mean data loading time = 0.44, Training loss = 1.7645,1.3170,1.0884,1.0506, Test accuracy = 41.97%,50.29%,55.45%,56.46%,\n"
     ]
    },
    {
     "name": "stderr",
     "output_type": "stream",
     "text": [
      "Training : 100%|██████████| 100/100 [01:04<00:00,  1.55it/s, Msg=Time 0.639s, Data 0.442s, Loss (1.766|1.310|1.080|1.046), Top1 (52.08%|62.55%|68.51%|69.44%|)]\n",
      "100%|██████████| 20/20 [00:02<00:00,  7.08it/s]\n",
      "Training :   0%|          | 0/100 [00:00<?, ?it/s]"
     ]
    },
    {
     "name": "stdout",
     "output_type": "stream",
     "text": [
      "Adjusting learning rate of group 0 to 1.0000e-01.\n",
      "Epoch 30/200: lr=0.1000, mean batch time = 0.64s, mean data loading time = 0.44, Training loss = 1.7656,1.3101,1.0804,1.0456, Test accuracy = 42.11%,51.03%,54.93%,56.62%,\n"
     ]
    },
    {
     "name": "stderr",
     "output_type": "stream",
     "text": [
      "Training : 100%|██████████| 100/100 [01:02<00:00,  1.59it/s, Msg=Time 0.624s, Data 0.431s, Loss (1.772|1.302|1.067|1.028), Top1 (52.03%|62.57%|68.64%|69.55%|)]\n",
      "100%|██████████| 20/20 [00:03<00:00,  6.54it/s]\n",
      "Training :   0%|          | 0/100 [00:00<?, ?it/s]"
     ]
    },
    {
     "name": "stdout",
     "output_type": "stream",
     "text": [
      "Adjusting learning rate of group 0 to 1.0000e-01.\n",
      "Epoch 31/200: lr=0.1000, mean batch time = 0.62s, mean data loading time = 0.43, Training loss = 1.7717,1.3017,1.0673,1.0281, Test accuracy = 36.78%,47.90%,50.13%,51.83%,\n"
     ]
    },
    {
     "name": "stderr",
     "output_type": "stream",
     "text": [
      "Training : 100%|██████████| 100/100 [01:02<00:00,  1.59it/s, Msg=Time 0.624s, Data 0.432s, Loss (1.752|1.278|1.045|1.007), Top1 (52.62%|63.26%|69.35%|70.44%|)]\n",
      "100%|██████████| 20/20 [00:02<00:00,  7.26it/s]\n",
      "Training :   0%|          | 0/100 [00:00<?, ?it/s]"
     ]
    },
    {
     "name": "stdout",
     "output_type": "stream",
     "text": [
      "Adjusting learning rate of group 0 to 1.0000e-01.\n",
      "Epoch 32/200: lr=0.1000, mean batch time = 0.62s, mean data loading time = 0.43, Training loss = 1.7523,1.2776,1.0455,1.0071, Test accuracy = 43.12%,51.89%,56.38%,57.13%,\n"
     ]
    },
    {
     "name": "stderr",
     "output_type": "stream",
     "text": [
      "Training : 100%|██████████| 100/100 [01:02<00:00,  1.61it/s, Msg=Time 0.617s, Data 0.428s, Loss (1.754|1.277|1.046|1.007), Top1 (52.51%|63.29%|69.16%|70.30%|)]\n",
      "100%|██████████| 20/20 [00:02<00:00,  7.30it/s]\n",
      "Training :   0%|          | 0/100 [00:00<?, ?it/s]"
     ]
    },
    {
     "name": "stdout",
     "output_type": "stream",
     "text": [
      "Adjusting learning rate of group 0 to 1.0000e-01.\n",
      "Epoch 33/200: lr=0.1000, mean batch time = 0.62s, mean data loading time = 0.43, Training loss = 1.7539,1.2768,1.0457,1.0075, Test accuracy = 41.96%,52.32%,58.17%,58.89%,\n"
     ]
    },
    {
     "name": "stderr",
     "output_type": "stream",
     "text": [
      "Training : 100%|██████████| 100/100 [01:03<00:00,  1.57it/s, Msg=Time 0.630s, Data 0.438s, Loss (1.740|1.258|1.022|0.982), Top1 (52.73%|63.84%|69.90%|71.00%|)]\n",
      "100%|██████████| 20/20 [00:03<00:00,  6.63it/s]\n",
      "Training :   0%|          | 0/100 [00:00<?, ?it/s]"
     ]
    },
    {
     "name": "stdout",
     "output_type": "stream",
     "text": [
      "Adjusting learning rate of group 0 to 1.0000e-01.\n",
      "Epoch 34/200: lr=0.1000, mean batch time = 0.63s, mean data loading time = 0.44, Training loss = 1.7402,1.2579,1.0220,0.9824, Test accuracy = 44.19%,51.22%,55.34%,54.97%,\n"
     ]
    },
    {
     "name": "stderr",
     "output_type": "stream",
     "text": [
      "Training : 100%|██████████| 100/100 [01:02<00:00,  1.60it/s, Msg=Time 0.619s, Data 0.429s, Loss (1.737|1.253|1.017|0.978), Top1 (52.94%|63.94%|69.92%|71.00%|)]\n",
      "100%|██████████| 20/20 [00:02<00:00,  7.02it/s]\n",
      "Training :   0%|          | 0/100 [00:00<?, ?it/s]"
     ]
    },
    {
     "name": "stdout",
     "output_type": "stream",
     "text": [
      "Adjusting learning rate of group 0 to 1.0000e-01.\n",
      "Epoch 35/200: lr=0.1000, mean batch time = 0.62s, mean data loading time = 0.43, Training loss = 1.7374,1.2530,1.0168,0.9785, Test accuracy = 38.21%,45.31%,51.51%,52.86%,\n"
     ]
    },
    {
     "name": "stderr",
     "output_type": "stream",
     "text": [
      "Training : 100%|██████████| 100/100 [01:03<00:00,  1.57it/s, Msg=Time 0.630s, Data 0.434s, Loss (1.728|1.242|1.006|0.964), Top1 (53.05%|64.15%|70.24%|71.37%|)]\n",
      "100%|██████████| 20/20 [00:02<00:00,  6.80it/s]\n",
      "Training :   0%|          | 0/100 [00:00<?, ?it/s]"
     ]
    },
    {
     "name": "stdout",
     "output_type": "stream",
     "text": [
      "Adjusting learning rate of group 0 to 1.0000e-01.\n",
      "Epoch 36/200: lr=0.1000, mean batch time = 0.63s, mean data loading time = 0.43, Training loss = 1.7281,1.2422,1.0056,0.9636, Test accuracy = 35.59%,46.88%,52.90%,53.54%,\n"
     ]
    },
    {
     "name": "stderr",
     "output_type": "stream",
     "text": [
      "Training : 100%|██████████| 100/100 [01:03<00:00,  1.57it/s, Msg=Time 0.631s, Data 0.436s, Loss (1.730|1.239|1.001|0.963), Top1 (52.99%|64.24%|70.26%|71.23%|)]\n",
      "100%|██████████| 20/20 [00:02<00:00,  6.81it/s]\n",
      "Training :   0%|          | 0/100 [00:00<?, ?it/s]"
     ]
    },
    {
     "name": "stdout",
     "output_type": "stream",
     "text": [
      "Adjusting learning rate of group 0 to 1.0000e-01.\n",
      "Epoch 37/200: lr=0.1000, mean batch time = 0.63s, mean data loading time = 0.44, Training loss = 1.7304,1.2393,1.0010,0.9632, Test accuracy = 43.55%,52.82%,56.00%,57.06%,\n"
     ]
    },
    {
     "name": "stderr",
     "output_type": "stream",
     "text": [
      "Training : 100%|██████████| 100/100 [01:03<00:00,  1.59it/s, Msg=Time 0.625s, Data 0.434s, Loss (1.729|1.236|0.993|0.956), Top1 (53.05%|64.50%|70.51%|71.72%|)]\n",
      "100%|██████████| 20/20 [00:03<00:00,  6.66it/s]\n",
      "Training :   0%|          | 0/100 [00:00<?, ?it/s]"
     ]
    },
    {
     "name": "stdout",
     "output_type": "stream",
     "text": [
      "Adjusting learning rate of group 0 to 1.0000e-01.\n",
      "Epoch 38/200: lr=0.1000, mean batch time = 0.62s, mean data loading time = 0.43, Training loss = 1.7293,1.2359,0.9935,0.9557, Test accuracy = 40.34%,46.77%,52.20%,53.26%,\n"
     ]
    },
    {
     "name": "stderr",
     "output_type": "stream",
     "text": [
      "Training : 100%|██████████| 100/100 [01:02<00:00,  1.61it/s, Msg=Time 0.615s, Data 0.426s, Loss (1.722|1.222|0.988|0.943), Top1 (53.11%|64.56%|70.72%|71.94%|)]\n",
      "100%|██████████| 20/20 [00:03<00:00,  6.41it/s]\n",
      "Training :   0%|          | 0/100 [00:00<?, ?it/s]"
     ]
    },
    {
     "name": "stdout",
     "output_type": "stream",
     "text": [
      "Adjusting learning rate of group 0 to 1.0000e-01.\n",
      "Epoch 39/200: lr=0.1000, mean batch time = 0.62s, mean data loading time = 0.43, Training loss = 1.7218,1.2223,0.9878,0.9433, Test accuracy = 43.35%,51.62%,56.48%,57.36%,\n"
     ]
    },
    {
     "name": "stderr",
     "output_type": "stream",
     "text": [
      "Training : 100%|██████████| 100/100 [01:01<00:00,  1.63it/s, Msg=Time 0.608s, Data 0.417s, Loss (1.717|1.208|0.969|0.927), Top1 (53.56%|65.01%|71.36%|72.49%|)]\n",
      "100%|██████████| 20/20 [00:02<00:00,  6.72it/s]\n",
      "Training :   0%|          | 0/100 [00:00<?, ?it/s]"
     ]
    },
    {
     "name": "stdout",
     "output_type": "stream",
     "text": [
      "Adjusting learning rate of group 0 to 1.0000e-01.\n",
      "Epoch 41/200: lr=0.1000, mean batch time = 0.61s, mean data loading time = 0.42, Training loss = 1.7168,1.2082,0.9693,0.9268, Test accuracy = 44.88%,54.35%,57.03%,58.44%,\n"
     ]
    },
    {
     "name": "stderr",
     "output_type": "stream",
     "text": [
      "Training : 100%|██████████| 100/100 [01:02<00:00,  1.59it/s, Msg=Time 0.622s, Data 0.431s, Loss (1.712|1.197|0.958|0.917), Top1 (53.38%|65.26%|71.65%|72.81%|)]\n",
      "100%|██████████| 20/20 [00:02<00:00,  6.99it/s]\n",
      "Training :   0%|          | 0/100 [00:00<?, ?it/s]"
     ]
    },
    {
     "name": "stdout",
     "output_type": "stream",
     "text": [
      "Adjusting learning rate of group 0 to 1.0000e-01.\n",
      "Epoch 42/200: lr=0.1000, mean batch time = 0.62s, mean data loading time = 0.43, Training loss = 1.7125,1.1974,0.9582,0.9173, Test accuracy = 43.44%,51.69%,54.36%,55.41%,\n"
     ]
    },
    {
     "name": "stderr",
     "output_type": "stream",
     "text": [
      "Training : 100%|██████████| 100/100 [01:03<00:00,  1.56it/s, Msg=Time 0.635s, Data 0.440s, Loss (1.715|1.191|0.951|0.908), Top1 (53.35%|65.48%|71.91%|72.93%|)]\n",
      "100%|██████████| 20/20 [00:02<00:00,  7.21it/s]\n",
      "Training :   0%|          | 0/100 [00:00<?, ?it/s]"
     ]
    },
    {
     "name": "stdout",
     "output_type": "stream",
     "text": [
      "Adjusting learning rate of group 0 to 1.0000e-01.\n",
      "Epoch 43/200: lr=0.1000, mean batch time = 0.63s, mean data loading time = 0.44, Training loss = 1.7150,1.1913,0.9511,0.9078, Test accuracy = 39.25%,45.96%,52.90%,53.11%,\n"
     ]
    },
    {
     "name": "stderr",
     "output_type": "stream",
     "text": [
      "Training : 100%|██████████| 100/100 [01:01<00:00,  1.64it/s, Msg=Time 0.606s, Data 0.420s, Loss (1.706|1.182|0.938|0.897), Top1 (53.75%|65.76%|72.32%|73.48%|)]\n",
      "100%|██████████| 20/20 [00:02<00:00,  6.76it/s]\n",
      "Training :   0%|          | 0/100 [00:00<?, ?it/s]"
     ]
    },
    {
     "name": "stdout",
     "output_type": "stream",
     "text": [
      "Adjusting learning rate of group 0 to 1.0000e-01.\n",
      "Epoch 44/200: lr=0.1000, mean batch time = 0.61s, mean data loading time = 0.42, Training loss = 1.7059,1.1817,0.9380,0.8973, Test accuracy = 38.20%,45.51%,51.68%,52.42%,\n"
     ]
    },
    {
     "name": "stderr",
     "output_type": "stream",
     "text": [
      "Training : 100%|██████████| 100/100 [01:03<00:00,  1.59it/s, Msg=Time 0.625s, Data 0.433s, Loss (1.707|1.187|0.940|0.895), Top1 (53.48%|65.64%|71.94%|73.11%|)]\n",
      "100%|██████████| 20/20 [00:02<00:00,  6.98it/s]\n",
      "Training :   0%|          | 0/100 [00:00<?, ?it/s]"
     ]
    },
    {
     "name": "stdout",
     "output_type": "stream",
     "text": [
      "Adjusting learning rate of group 0 to 1.0000e-01.\n",
      "Epoch 45/200: lr=0.1000, mean batch time = 0.63s, mean data loading time = 0.43, Training loss = 1.7068,1.1869,0.9401,0.8954, Test accuracy = 42.13%,49.40%,54.16%,56.14%,\n"
     ]
    },
    {
     "name": "stderr",
     "output_type": "stream",
     "text": [
      "Training : 100%|██████████| 100/100 [01:03<00:00,  1.58it/s, Msg=Time 0.627s, Data 0.435s, Loss (1.703|1.169|0.927|0.885), Top1 (53.70%|65.84%|72.43%|73.54%|)]\n",
      "100%|██████████| 20/20 [00:02<00:00,  6.83it/s]\n",
      "Training :   0%|          | 0/100 [00:00<?, ?it/s]"
     ]
    },
    {
     "name": "stdout",
     "output_type": "stream",
     "text": [
      "Adjusting learning rate of group 0 to 1.0000e-01.\n",
      "Epoch 46/200: lr=0.1000, mean batch time = 0.63s, mean data loading time = 0.44, Training loss = 1.7032,1.1693,0.9271,0.8850, Test accuracy = 43.40%,52.09%,56.80%,57.16%,\n"
     ]
    },
    {
     "name": "stderr",
     "output_type": "stream",
     "text": [
      "Training : 100%|██████████| 100/100 [01:03<00:00,  1.57it/s, Msg=Time 0.632s, Data 0.437s, Loss (1.697|1.164|0.921|0.880), Top1 (53.66%|65.99%|72.60%|73.84%|)]\n",
      "100%|██████████| 20/20 [00:02<00:00,  6.72it/s]\n",
      "Training :   0%|          | 0/100 [00:00<?, ?it/s]"
     ]
    },
    {
     "name": "stdout",
     "output_type": "stream",
     "text": [
      "Adjusting learning rate of group 0 to 1.0000e-01.\n",
      "Epoch 47/200: lr=0.1000, mean batch time = 0.63s, mean data loading time = 0.44, Training loss = 1.6970,1.1640,0.9209,0.8798, Test accuracy = 32.33%,40.84%,50.21%,51.35%,\n"
     ]
    },
    {
     "name": "stderr",
     "output_type": "stream",
     "text": [
      "Training : 100%|██████████| 100/100 [01:03<00:00,  1.58it/s, Msg=Time 0.627s, Data 0.435s, Loss (1.689|1.158|0.913|0.872), Top1 (54.04%|66.22%|72.70%|73.89%|)]\n",
      "100%|██████████| 20/20 [00:02<00:00,  7.19it/s]\n",
      "Training :   0%|          | 0/100 [00:00<?, ?it/s]"
     ]
    },
    {
     "name": "stdout",
     "output_type": "stream",
     "text": [
      "Adjusting learning rate of group 0 to 1.0000e-01.\n",
      "Epoch 48/200: lr=0.1000, mean batch time = 0.63s, mean data loading time = 0.43, Training loss = 1.6893,1.1578,0.9125,0.8719, Test accuracy = 38.42%,47.81%,52.37%,52.72%,\n"
     ]
    },
    {
     "name": "stderr",
     "output_type": "stream",
     "text": [
      "Training : 100%|██████████| 100/100 [01:01<00:00,  1.62it/s, Msg=Time 0.611s, Data 0.419s, Loss (1.696|1.153|0.910|0.868), Top1 (53.67%|66.30%|72.77%|73.93%|)]\n",
      "100%|██████████| 20/20 [00:02<00:00,  7.56it/s]\n",
      "Training :   0%|          | 0/100 [00:00<?, ?it/s]"
     ]
    },
    {
     "name": "stdout",
     "output_type": "stream",
     "text": [
      "Adjusting learning rate of group 0 to 1.0000e-01.\n",
      "Epoch 49/200: lr=0.1000, mean batch time = 0.61s, mean data loading time = 0.42, Training loss = 1.6962,1.1526,0.9103,0.8684, Test accuracy = 40.27%,50.54%,58.06%,58.58%,\n"
     ]
    },
    {
     "name": "stderr",
     "output_type": "stream",
     "text": [
      "Training : 100%|██████████| 100/100 [01:03<00:00,  1.58it/s, Msg=Time 0.627s, Data 0.434s, Loss (1.684|1.146|0.907|0.863), Top1 (53.97%|66.60%|73.09%|74.30%|)]\n",
      "100%|██████████| 20/20 [00:02<00:00,  6.89it/s]\n",
      "Training :   0%|          | 0/100 [00:00<?, ?it/s]"
     ]
    },
    {
     "name": "stdout",
     "output_type": "stream",
     "text": [
      "Adjusting learning rate of group 0 to 1.0000e-01.\n",
      "Epoch 50/200: lr=0.1000, mean batch time = 0.63s, mean data loading time = 0.43, Training loss = 1.6841,1.1462,0.9069,0.8628, Test accuracy = 43.11%,46.18%,51.74%,52.80%,\n"
     ]
    },
    {
     "name": "stderr",
     "output_type": "stream",
     "text": [
      "Training : 100%|██████████| 100/100 [01:02<00:00,  1.61it/s, Msg=Time 0.617s, Data 0.428s, Loss (1.690|1.149|0.901|0.857), Top1 (54.13%|66.32%|73.13%|74.35%|)]\n",
      "100%|██████████| 20/20 [00:02<00:00,  6.86it/s]\n",
      "Training :   0%|          | 0/100 [00:00<?, ?it/s]"
     ]
    },
    {
     "name": "stdout",
     "output_type": "stream",
     "text": [
      "Adjusting learning rate of group 0 to 1.0000e-01.\n",
      "Epoch 51/200: lr=0.1000, mean batch time = 0.62s, mean data loading time = 0.43, Training loss = 1.6897,1.1492,0.9006,0.8571, Test accuracy = 43.06%,50.57%,55.18%,55.98%,\n"
     ]
    },
    {
     "name": "stderr",
     "output_type": "stream",
     "text": [
      "Training : 100%|██████████| 100/100 [01:03<00:00,  1.59it/s, Msg=Time 0.625s, Data 0.434s, Loss (1.684|1.139|0.896|0.852), Top1 (54.11%|66.60%|73.10%|74.26%|)]\n",
      "100%|██████████| 20/20 [00:02<00:00,  6.73it/s]\n",
      "Training :   0%|          | 0/100 [00:00<?, ?it/s]"
     ]
    },
    {
     "name": "stdout",
     "output_type": "stream",
     "text": [
      "Adjusting learning rate of group 0 to 1.0000e-01.\n",
      "Epoch 52/200: lr=0.1000, mean batch time = 0.63s, mean data loading time = 0.43, Training loss = 1.6843,1.1389,0.8960,0.8524, Test accuracy = 42.72%,52.28%,58.42%,59.36%,\n"
     ]
    },
    {
     "name": "stderr",
     "output_type": "stream",
     "text": [
      "Training : 100%|██████████| 100/100 [01:01<00:00,  1.62it/s, Msg=Time 0.613s, Data 0.425s, Loss (1.673|1.125|0.882|0.836), Top1 (54.39%|67.21%|73.66%|74.94%|)]\n",
      "100%|██████████| 20/20 [00:02<00:00,  6.71it/s]\n",
      "Training :   0%|          | 0/100 [00:00<?, ?it/s]"
     ]
    },
    {
     "name": "stdout",
     "output_type": "stream",
     "text": [
      "Adjusting learning rate of group 0 to 1.0000e-01.\n",
      "Epoch 53/200: lr=0.1000, mean batch time = 0.61s, mean data loading time = 0.42, Training loss = 1.6729,1.1249,0.8825,0.8364, Test accuracy = 38.27%,48.68%,55.69%,56.83%,\n"
     ]
    },
    {
     "name": "stderr",
     "output_type": "stream",
     "text": [
      "Training : 100%|██████████| 100/100 [01:01<00:00,  1.61it/s, Msg=Time 0.614s, Data 0.428s, Loss (1.680|1.130|0.891|0.847), Top1 (54.25%|67.04%|73.35%|74.53%|)]\n",
      "100%|██████████| 20/20 [00:02<00:00,  6.98it/s]\n",
      "Training :   0%|          | 0/100 [00:00<?, ?it/s]"
     ]
    },
    {
     "name": "stdout",
     "output_type": "stream",
     "text": [
      "Adjusting learning rate of group 0 to 1.0000e-01.\n",
      "Epoch 54/200: lr=0.1000, mean batch time = 0.61s, mean data loading time = 0.43, Training loss = 1.6800,1.1301,0.8912,0.8472, Test accuracy = 43.34%,49.91%,54.51%,56.27%,\n"
     ]
    },
    {
     "name": "stderr",
     "output_type": "stream",
     "text": [
      "Training : 100%|██████████| 100/100 [01:03<00:00,  1.58it/s, Msg=Time 0.629s, Data 0.437s, Loss (1.676|1.128|0.884|0.837), Top1 (54.38%|66.87%|73.49%|74.75%|)]\n",
      "100%|██████████| 20/20 [00:02<00:00,  7.33it/s]\n",
      "Training :   0%|          | 0/100 [00:00<?, ?it/s]"
     ]
    },
    {
     "name": "stdout",
     "output_type": "stream",
     "text": [
      "Adjusting learning rate of group 0 to 1.0000e-01.\n",
      "Epoch 55/200: lr=0.1000, mean batch time = 0.63s, mean data loading time = 0.44, Training loss = 1.6759,1.1275,0.8837,0.8372, Test accuracy = 42.62%,51.95%,56.91%,58.33%,\n"
     ]
    },
    {
     "name": "stderr",
     "output_type": "stream",
     "text": [
      "Training : 100%|██████████| 100/100 [01:01<00:00,  1.63it/s, Msg=Time 0.610s, Data 0.424s, Loss (1.677|1.120|0.876|0.829), Top1 (54.58%|67.30%|73.80%|75.02%|)]\n",
      "100%|██████████| 20/20 [00:02<00:00,  6.77it/s]\n",
      "Training :   0%|          | 0/100 [00:00<?, ?it/s]"
     ]
    },
    {
     "name": "stdout",
     "output_type": "stream",
     "text": [
      "Adjusting learning rate of group 0 to 1.0000e-01.\n",
      "Epoch 56/200: lr=0.1000, mean batch time = 0.61s, mean data loading time = 0.42, Training loss = 1.6767,1.1197,0.8757,0.8290, Test accuracy = 46.54%,54.69%,58.15%,59.79%,\n"
     ]
    },
    {
     "name": "stderr",
     "output_type": "stream",
     "text": [
      "Training : 100%|██████████| 100/100 [01:03<00:00,  1.57it/s, Msg=Time 0.631s, Data 0.437s, Loss (1.664|1.112|0.870|0.827), Top1 (54.47%|67.46%|73.99%|75.28%|)]\n",
      "100%|██████████| 20/20 [00:02<00:00,  6.91it/s]\n",
      "Training :   0%|          | 0/100 [00:00<?, ?it/s]"
     ]
    },
    {
     "name": "stdout",
     "output_type": "stream",
     "text": [
      "Adjusting learning rate of group 0 to 1.0000e-01.\n",
      "Epoch 57/200: lr=0.1000, mean batch time = 0.63s, mean data loading time = 0.44, Training loss = 1.6637,1.1116,0.8701,0.8269, Test accuracy = 39.45%,49.25%,54.14%,54.92%,\n"
     ]
    },
    {
     "name": "stderr",
     "output_type": "stream",
     "text": [
      "Training : 100%|██████████| 100/100 [01:02<00:00,  1.59it/s, Msg=Time 0.625s, Data 0.434s, Loss (1.676|1.122|0.880|0.835), Top1 (54.27%|67.11%|73.50%|74.80%|)]\n",
      "100%|██████████| 20/20 [00:02<00:00,  7.25it/s]\n",
      "Training :   0%|          | 0/100 [00:00<?, ?it/s]"
     ]
    },
    {
     "name": "stdout",
     "output_type": "stream",
     "text": [
      "Adjusting learning rate of group 0 to 1.0000e-01.\n",
      "Epoch 58/200: lr=0.1000, mean batch time = 0.62s, mean data loading time = 0.43, Training loss = 1.6758,1.1223,0.8802,0.8352, Test accuracy = 41.11%,50.85%,57.40%,58.03%,\n"
     ]
    },
    {
     "name": "stderr",
     "output_type": "stream",
     "text": [
      "Training : 100%|██████████| 100/100 [01:02<00:00,  1.59it/s, Msg=Time 0.624s, Data 0.433s, Loss (1.670|1.113|0.866|0.817), Top1 (54.53%|67.48%|73.90%|75.14%|)]\n",
      "100%|██████████| 20/20 [00:02<00:00,  7.39it/s]\n",
      "Training :   0%|          | 0/100 [00:00<?, ?it/s]"
     ]
    },
    {
     "name": "stdout",
     "output_type": "stream",
     "text": [
      "Adjusting learning rate of group 0 to 1.0000e-01.\n",
      "Epoch 59/200: lr=0.1000, mean batch time = 0.62s, mean data loading time = 0.43, Training loss = 1.6699,1.1129,0.8660,0.8170, Test accuracy = 39.35%,47.68%,55.18%,56.72%,\n"
     ]
    },
    {
     "name": "stderr",
     "output_type": "stream",
     "text": [
      "Training : 100%|██████████| 100/100 [01:02<00:00,  1.59it/s, Msg=Time 0.623s, Data 0.432s, Loss (1.666|1.107|0.865|0.820), Top1 (54.18%|67.44%|73.91%|75.34%|)]\n",
      "100%|██████████| 20/20 [00:02<00:00,  7.41it/s]\n",
      "Training :   0%|          | 0/100 [00:00<?, ?it/s]"
     ]
    },
    {
     "name": "stdout",
     "output_type": "stream",
     "text": [
      "Adjusting learning rate of group 0 to 1.0000e-01.\n",
      "Epoch 60/200: lr=0.1000, mean batch time = 0.62s, mean data loading time = 0.43, Training loss = 1.6663,1.1066,0.8651,0.8202, Test accuracy = 41.04%,51.30%,59.07%,60.14%,\n"
     ]
    },
    {
     "name": "stderr",
     "output_type": "stream",
     "text": [
      "Training : 100%|██████████| 100/100 [01:02<00:00,  1.60it/s, Msg=Time 0.621s, Data 0.430s, Loss (1.679|1.111|0.864|0.816), Top1 (54.28%|67.61%|74.11%|75.50%|)]\n",
      "100%|██████████| 20/20 [00:02<00:00,  6.76it/s]\n",
      "Training :   0%|          | 0/100 [00:00<?, ?it/s]"
     ]
    },
    {
     "name": "stdout",
     "output_type": "stream",
     "text": [
      "Adjusting learning rate of group 0 to 1.0000e-01.\n",
      "Epoch 61/200: lr=0.1000, mean batch time = 0.62s, mean data loading time = 0.43, Training loss = 1.6788,1.1106,0.8641,0.8158, Test accuracy = 42.84%,52.68%,59.45%,59.98%,\n"
     ]
    },
    {
     "name": "stderr",
     "output_type": "stream",
     "text": [
      "Training : 100%|██████████| 100/100 [01:01<00:00,  1.62it/s, Msg=Time 0.613s, Data 0.425s, Loss (1.678|1.111|0.862|0.815), Top1 (54.16%|67.56%|74.27%|75.46%|)]\n",
      "100%|██████████| 20/20 [00:03<00:00,  6.66it/s]\n",
      "Training :   0%|          | 0/100 [00:00<?, ?it/s]"
     ]
    },
    {
     "name": "stdout",
     "output_type": "stream",
     "text": [
      "Adjusting learning rate of group 0 to 1.0000e-01.\n",
      "Epoch 62/200: lr=0.1000, mean batch time = 0.61s, mean data loading time = 0.42, Training loss = 1.6778,1.1113,0.8625,0.8152, Test accuracy = 42.02%,50.83%,55.36%,56.73%,\n"
     ]
    },
    {
     "name": "stderr",
     "output_type": "stream",
     "text": [
      "Training : 100%|██████████| 100/100 [01:04<00:00,  1.56it/s, Msg=Time 0.638s, Data 0.439s, Loss (1.649|1.085|0.843|0.795), Top1 (54.97%|68.27%|74.76%|76.01%|)]\n",
      "100%|██████████| 20/20 [00:02<00:00,  7.28it/s]\n",
      "Training :   0%|          | 0/100 [00:00<?, ?it/s]"
     ]
    },
    {
     "name": "stdout",
     "output_type": "stream",
     "text": [
      "Adjusting learning rate of group 0 to 1.0000e-01.\n",
      "Epoch 63/200: lr=0.1000, mean batch time = 0.64s, mean data loading time = 0.44, Training loss = 1.6495,1.0854,0.8428,0.7952, Test accuracy = 45.68%,51.67%,57.24%,57.76%,\n"
     ]
    },
    {
     "name": "stderr",
     "output_type": "stream",
     "text": [
      "Training : 100%|██████████| 100/100 [01:02<00:00,  1.61it/s, Msg=Time 0.617s, Data 0.427s, Loss (1.656|1.085|0.842|0.793), Top1 (54.83%|68.27%|74.67%|76.02%|)]\n",
      "100%|██████████| 20/20 [00:02<00:00,  7.33it/s]\n",
      "Training :   0%|          | 0/100 [00:00<?, ?it/s]"
     ]
    },
    {
     "name": "stdout",
     "output_type": "stream",
     "text": [
      "Adjusting learning rate of group 0 to 1.0000e-01.\n",
      "Epoch 64/200: lr=0.1000, mean batch time = 0.62s, mean data loading time = 0.43, Training loss = 1.6558,1.0852,0.8421,0.7928, Test accuracy = 28.18%,37.39%,44.45%,45.97%,\n"
     ]
    },
    {
     "name": "stderr",
     "output_type": "stream",
     "text": [
      "Training : 100%|██████████| 100/100 [01:01<00:00,  1.63it/s, Msg=Time 0.609s, Data 0.423s, Loss (1.651|1.079|0.837|0.789), Top1 (55.00%|68.38%|74.63%|76.04%|)]\n",
      "100%|██████████| 20/20 [00:02<00:00,  7.21it/s]\n",
      "Training :   0%|          | 0/100 [00:00<?, ?it/s]"
     ]
    },
    {
     "name": "stdout",
     "output_type": "stream",
     "text": [
      "Adjusting learning rate of group 0 to 1.0000e-01.\n",
      "Epoch 65/200: lr=0.1000, mean batch time = 0.61s, mean data loading time = 0.42, Training loss = 1.6508,1.0793,0.8370,0.7893, Test accuracy = 42.95%,48.62%,54.70%,56.10%,\n"
     ]
    },
    {
     "name": "stderr",
     "output_type": "stream",
     "text": [
      "Training : 100%|██████████| 100/100 [01:01<00:00,  1.62it/s, Msg=Time 0.613s, Data 0.426s, Loss (1.659|1.095|0.849|0.803), Top1 (54.72%|67.93%|74.72%|75.79%|)]\n",
      "100%|██████████| 20/20 [00:02<00:00,  6.87it/s]\n",
      "Training :   0%|          | 0/100 [00:00<?, ?it/s]"
     ]
    },
    {
     "name": "stdout",
     "output_type": "stream",
     "text": [
      "Adjusting learning rate of group 0 to 1.0000e-01.\n",
      "Epoch 66/200: lr=0.1000, mean batch time = 0.61s, mean data loading time = 0.43, Training loss = 1.6588,1.0952,0.8494,0.8031, Test accuracy = 44.48%,54.09%,57.79%,58.62%,\n"
     ]
    },
    {
     "name": "stderr",
     "output_type": "stream",
     "text": [
      "Training : 100%|██████████| 100/100 [01:01<00:00,  1.62it/s, Msg=Time 0.614s, Data 0.427s, Loss (1.656|1.085|0.843|0.796), Top1 (54.42%|67.81%|74.55%|75.83%|)]\n",
      "100%|██████████| 20/20 [00:02<00:00,  6.68it/s]\n",
      "Training :   0%|          | 0/100 [00:00<?, ?it/s]"
     ]
    },
    {
     "name": "stdout",
     "output_type": "stream",
     "text": [
      "Adjusting learning rate of group 0 to 1.0000e-01.\n",
      "Epoch 67/200: lr=0.1000, mean batch time = 0.61s, mean data loading time = 0.43, Training loss = 1.6562,1.0847,0.8427,0.7961, Test accuracy = 45.28%,50.51%,55.40%,56.75%,\n"
     ]
    },
    {
     "name": "stderr",
     "output_type": "stream",
     "text": [
      "Training : 100%|██████████| 100/100 [01:02<00:00,  1.61it/s, Msg=Time 0.616s, Data 0.428s, Loss (1.652|1.080|0.837|0.788), Top1 (55.09%|68.51%|75.05%|76.24%|)]\n",
      "100%|██████████| 20/20 [00:02<00:00,  6.74it/s]\n",
      "Training :   0%|          | 0/100 [00:00<?, ?it/s]"
     ]
    },
    {
     "name": "stdout",
     "output_type": "stream",
     "text": [
      "Adjusting learning rate of group 0 to 1.0000e-01.\n",
      "Epoch 68/200: lr=0.1000, mean batch time = 0.62s, mean data loading time = 0.43, Training loss = 1.6518,1.0798,0.8368,0.7884, Test accuracy = 39.58%,51.40%,56.32%,56.94%,\n"
     ]
    },
    {
     "name": "stderr",
     "output_type": "stream",
     "text": [
      "Training : 100%|██████████| 100/100 [01:00<00:00,  1.65it/s, Msg=Time 0.603s, Data 0.419s, Loss (1.651|1.076|0.831|0.783), Top1 (54.89%|68.07%|74.87%|76.21%|)]\n",
      "100%|██████████| 20/20 [00:02<00:00,  6.86it/s]\n",
      "Training :   0%|          | 0/100 [00:00<?, ?it/s]"
     ]
    },
    {
     "name": "stdout",
     "output_type": "stream",
     "text": [
      "Adjusting learning rate of group 0 to 1.0000e-01.\n",
      "Epoch 69/200: lr=0.1000, mean batch time = 0.60s, mean data loading time = 0.42, Training loss = 1.6513,1.0764,0.8311,0.7830, Test accuracy = 40.93%,39.69%,49.42%,49.64%,\n"
     ]
    },
    {
     "name": "stderr",
     "output_type": "stream",
     "text": [
      "Training : 100%|██████████| 100/100 [01:02<00:00,  1.60it/s, Msg=Time 0.622s, Data 0.432s, Loss (1.653|1.088|0.844|0.797), Top1 (54.64%|67.95%|74.56%|75.93%|)]\n",
      "100%|██████████| 20/20 [00:02<00:00,  7.34it/s]\n",
      "Training :   0%|          | 0/100 [00:00<?, ?it/s]"
     ]
    },
    {
     "name": "stdout",
     "output_type": "stream",
     "text": [
      "Adjusting learning rate of group 0 to 1.0000e-01.\n",
      "Epoch 70/200: lr=0.1000, mean batch time = 0.62s, mean data loading time = 0.43, Training loss = 1.6532,1.0883,0.8440,0.7967, Test accuracy = 36.79%,47.41%,53.84%,54.85%,\n"
     ]
    },
    {
     "name": "stderr",
     "output_type": "stream",
     "text": [
      "Training : 100%|██████████| 100/100 [01:02<00:00,  1.61it/s, Msg=Time 0.617s, Data 0.428s, Loss (1.651|1.076|0.837|0.789), Top1 (54.81%|68.36%|74.61%|76.10%|)]\n",
      "100%|██████████| 20/20 [00:02<00:00,  6.79it/s]\n",
      "Training :   0%|          | 0/100 [00:00<?, ?it/s]"
     ]
    },
    {
     "name": "stdout",
     "output_type": "stream",
     "text": [
      "Adjusting learning rate of group 0 to 1.0000e-01.\n",
      "Epoch 71/200: lr=0.1000, mean batch time = 0.62s, mean data loading time = 0.43, Training loss = 1.6510,1.0761,0.8368,0.7885, Test accuracy = 45.18%,49.04%,58.49%,59.15%,\n"
     ]
    },
    {
     "name": "stderr",
     "output_type": "stream",
     "text": [
      "Training : 100%|██████████| 100/100 [01:03<00:00,  1.58it/s, Msg=Time 0.628s, Data 0.435s, Loss (1.642|1.070|0.828|0.780), Top1 (55.22%|68.61%|74.93%|76.49%|)]\n",
      "100%|██████████| 20/20 [00:02<00:00,  7.26it/s]\n",
      "Training :   0%|          | 0/100 [00:00<?, ?it/s]"
     ]
    },
    {
     "name": "stdout",
     "output_type": "stream",
     "text": [
      "Adjusting learning rate of group 0 to 1.0000e-01.\n",
      "Epoch 72/200: lr=0.1000, mean batch time = 0.63s, mean data loading time = 0.44, Training loss = 1.6418,1.0703,0.8278,0.7797, Test accuracy = 43.36%,52.69%,59.28%,61.00%,\n"
     ]
    },
    {
     "name": "stderr",
     "output_type": "stream",
     "text": [
      "Training : 100%|██████████| 100/100 [01:02<00:00,  1.60it/s, Msg=Time 0.618s, Data 0.427s, Loss (1.641|1.064|0.820|0.769), Top1 (55.44%|69.03%|75.16%|76.67%|)]\n",
      "100%|██████████| 20/20 [00:02<00:00,  7.32it/s]\n",
      "Training :   0%|          | 0/100 [00:00<?, ?it/s]"
     ]
    },
    {
     "name": "stdout",
     "output_type": "stream",
     "text": [
      "Adjusting learning rate of group 0 to 1.0000e-01.\n",
      "Epoch 73/200: lr=0.1000, mean batch time = 0.62s, mean data loading time = 0.43, Training loss = 1.6406,1.0638,0.8196,0.7693, Test accuracy = 40.26%,51.45%,55.62%,56.68%,\n"
     ]
    },
    {
     "name": "stderr",
     "output_type": "stream",
     "text": [
      "Training : 100%|██████████| 100/100 [01:02<00:00,  1.60it/s, Msg=Time 0.622s, Data 0.429s, Loss (1.633|1.061|0.814|0.766), Top1 (55.32%|68.69%|75.33%|76.64%|)]\n",
      "100%|██████████| 20/20 [00:02<00:00,  7.45it/s]\n",
      "Training :   0%|          | 0/100 [00:00<?, ?it/s]"
     ]
    },
    {
     "name": "stdout",
     "output_type": "stream",
     "text": [
      "Adjusting learning rate of group 0 to 1.0000e-01.\n",
      "Epoch 74/200: lr=0.1000, mean batch time = 0.62s, mean data loading time = 0.43, Training loss = 1.6330,1.0606,0.8143,0.7662, Test accuracy = 35.51%,41.11%,48.97%,50.12%,\n"
     ]
    },
    {
     "name": "stderr",
     "output_type": "stream",
     "text": [
      "Training : 100%|██████████| 100/100 [01:02<00:00,  1.60it/s, Msg=Time 0.621s, Data 0.431s, Loss (1.649|1.065|0.824|0.777), Top1 (54.89%|68.62%|75.01%|76.45%|)]\n",
      "100%|██████████| 20/20 [00:02<00:00,  7.37it/s]\n",
      "Training :   0%|          | 0/100 [00:00<?, ?it/s]"
     ]
    },
    {
     "name": "stdout",
     "output_type": "stream",
     "text": [
      "Adjusting learning rate of group 0 to 1.0000e-02.\n",
      "Epoch 75/200: lr=0.0100, mean batch time = 0.62s, mean data loading time = 0.43, Training loss = 1.6485,1.0645,0.8240,0.7772, Test accuracy = 41.13%,48.32%,53.09%,54.54%,\n"
     ]
    },
    {
     "name": "stderr",
     "output_type": "stream",
     "text": [
      "Training : 100%|██████████| 100/100 [01:01<00:00,  1.63it/s, Msg=Time 0.611s, Data 0.423s, Loss (1.409|0.758|0.517|0.461), Top1 (62.00%|77.36%|84.28%|85.88%|)]\n",
      "100%|██████████| 20/20 [00:02<00:00,  7.06it/s]\n",
      "Training :   0%|          | 0/100 [00:00<?, ?it/s]"
     ]
    },
    {
     "name": "stdout",
     "output_type": "stream",
     "text": [
      "Adjusting learning rate of group 0 to 1.0000e-02.\n",
      "Epoch 76/200: lr=0.0100, mean batch time = 0.61s, mean data loading time = 0.42, Training loss = 1.4095,0.7577,0.5173,0.4608, Test accuracy = 56.93%,68.91%,73.46%,74.58%,\n"
     ]
    },
    {
     "name": "stderr",
     "output_type": "stream",
     "text": [
      "Training : 100%|██████████| 100/100 [01:01<00:00,  1.62it/s, Msg=Time 0.612s, Data 0.426s, Loss (1.322|0.631|0.382|0.320), Top1 (64.58%|80.87%|88.15%|89.85%|)]\n",
      "100%|██████████| 20/20 [00:02<00:00,  6.73it/s]\n",
      "Training :   0%|          | 0/100 [00:00<?, ?it/s]"
     ]
    },
    {
     "name": "stdout",
     "output_type": "stream",
     "text": [
      "Adjusting learning rate of group 0 to 1.0000e-02.\n",
      "Epoch 77/200: lr=0.0100, mean batch time = 0.61s, mean data loading time = 0.43, Training loss = 1.3222,0.6311,0.3817,0.3201, Test accuracy = 57.93%,70.00%,74.27%,75.13%,\n"
     ]
    },
    {
     "name": "stderr",
     "output_type": "stream",
     "text": [
      "Training : 100%|██████████| 100/100 [01:01<00:00,  1.63it/s, Msg=Time 0.610s, Data 0.423s, Loss (1.292|0.583|0.330|0.269), Top1 (65.25%|82.25%|89.78%|91.59%|)]\n",
      "100%|██████████| 20/20 [00:02<00:00,  7.60it/s]\n",
      "Training :   0%|          | 0/100 [00:00<?, ?it/s]"
     ]
    },
    {
     "name": "stdout",
     "output_type": "stream",
     "text": [
      "Adjusting learning rate of group 0 to 1.0000e-02.\n",
      "Epoch 78/200: lr=0.0100, mean batch time = 0.61s, mean data loading time = 0.42, Training loss = 1.2919,0.5829,0.3305,0.2687, Test accuracy = 57.98%,70.16%,73.93%,74.50%,\n"
     ]
    },
    {
     "name": "stderr",
     "output_type": "stream",
     "text": [
      "Training : 100%|██████████| 100/100 [01:03<00:00,  1.59it/s, Msg=Time 0.625s, Data 0.433s, Loss (1.270|0.551|0.295|0.233), Top1 (65.92%|83.06%|90.64%|92.50%|)]\n",
      "100%|██████████| 20/20 [00:02<00:00,  7.36it/s]\n",
      "Training :   0%|          | 0/100 [00:00<?, ?it/s]"
     ]
    },
    {
     "name": "stdout",
     "output_type": "stream",
     "text": [
      "Adjusting learning rate of group 0 to 1.0000e-02.\n",
      "Epoch 79/200: lr=0.0100, mean batch time = 0.63s, mean data loading time = 0.43, Training loss = 1.2697,0.5508,0.2949,0.2333, Test accuracy = 58.58%,70.52%,74.26%,75.32%,\n"
     ]
    },
    {
     "name": "stderr",
     "output_type": "stream",
     "text": [
      "Training : 100%|██████████| 100/100 [01:01<00:00,  1.62it/s, Msg=Time 0.612s, Data 0.422s, Loss (1.256|0.530|0.269|0.209), Top1 (66.14%|83.71%|91.51%|93.23%|)]\n",
      "100%|██████████| 20/20 [00:02<00:00,  6.73it/s]\n",
      "Training :   0%|          | 0/100 [00:00<?, ?it/s]"
     ]
    },
    {
     "name": "stdout",
     "output_type": "stream",
     "text": [
      "Adjusting learning rate of group 0 to 1.0000e-02.\n",
      "Epoch 80/200: lr=0.0100, mean batch time = 0.61s, mean data loading time = 0.42, Training loss = 1.2560,0.5304,0.2692,0.2090, Test accuracy = 58.94%,70.25%,74.34%,75.18%,\n"
     ]
    },
    {
     "name": "stderr",
     "output_type": "stream",
     "text": [
      "Training : 100%|██████████| 100/100 [01:02<00:00,  1.60it/s, Msg=Time 0.619s, Data 0.430s, Loss (1.238|0.506|0.243|0.184), Top1 (67.07%|84.31%|92.19%|94.03%|)]\n",
      "100%|██████████| 20/20 [00:02<00:00,  6.84it/s]\n",
      "Training :   0%|          | 0/100 [00:00<?, ?it/s]"
     ]
    },
    {
     "name": "stdout",
     "output_type": "stream",
     "text": [
      "Adjusting learning rate of group 0 to 1.0000e-02.\n",
      "Epoch 81/200: lr=0.0100, mean batch time = 0.62s, mean data loading time = 0.43, Training loss = 1.2383,0.5058,0.2433,0.1844, Test accuracy = 59.18%,70.50%,74.44%,75.09%,\n"
     ]
    },
    {
     "name": "stderr",
     "output_type": "stream",
     "text": [
      "Training : 100%|██████████| 100/100 [01:02<00:00,  1.60it/s, Msg=Time 0.618s, Data 0.430s, Loss (1.231|0.491|0.224|0.166), Top1 (67.07%|84.79%|92.90%|94.59%|)]\n",
      "100%|██████████| 20/20 [00:02<00:00,  7.02it/s]\n",
      "Training :   0%|          | 0/100 [00:00<?, ?it/s]"
     ]
    },
    {
     "name": "stdout",
     "output_type": "stream",
     "text": [
      "Adjusting learning rate of group 0 to 1.0000e-02.\n",
      "Epoch 82/200: lr=0.0100, mean batch time = 0.62s, mean data loading time = 0.43, Training loss = 1.2308,0.4906,0.2236,0.1657, Test accuracy = 59.39%,70.61%,74.32%,74.68%,\n"
     ]
    },
    {
     "name": "stderr",
     "output_type": "stream",
     "text": [
      "Training : 100%|██████████| 100/100 [01:02<00:00,  1.60it/s, Msg=Time 0.621s, Data 0.432s, Loss (1.217|0.470|0.204|0.149), Top1 (67.45%|85.39%|93.59%|95.12%|)]\n",
      "100%|██████████| 20/20 [00:02<00:00,  7.23it/s]\n",
      "Training :   0%|          | 0/100 [00:00<?, ?it/s]"
     ]
    },
    {
     "name": "stdout",
     "output_type": "stream",
     "text": [
      "Adjusting learning rate of group 0 to 1.0000e-02.\n",
      "Epoch 83/200: lr=0.0100, mean batch time = 0.62s, mean data loading time = 0.43, Training loss = 1.2167,0.4704,0.2044,0.1493, Test accuracy = 58.68%,70.61%,74.37%,74.66%,\n"
     ]
    },
    {
     "name": "stderr",
     "output_type": "stream",
     "text": [
      "Training : 100%|██████████| 100/100 [01:01<00:00,  1.63it/s, Msg=Time 0.609s, Data 0.423s, Loss (1.210|0.457|0.189|0.134), Top1 (67.38%|85.59%|94.02%|95.63%|)]\n",
      "100%|██████████| 20/20 [00:02<00:00,  7.22it/s]\n",
      "Training :   0%|          | 0/100 [00:00<?, ?it/s]"
     ]
    },
    {
     "name": "stdout",
     "output_type": "stream",
     "text": [
      "Adjusting learning rate of group 0 to 1.0000e-02.\n",
      "Epoch 84/200: lr=0.0100, mean batch time = 0.61s, mean data loading time = 0.42, Training loss = 1.2096,0.4566,0.1893,0.1342, Test accuracy = 59.11%,70.32%,73.91%,74.53%,\n"
     ]
    },
    {
     "name": "stderr",
     "output_type": "stream",
     "text": [
      "Training : 100%|██████████| 100/100 [01:02<00:00,  1.61it/s, Msg=Time 0.616s, Data 0.426s, Loss (1.200|0.444|0.175|0.122), Top1 (67.80%|86.09%|94.41%|96.02%|)]\n",
      "100%|██████████| 20/20 [00:02<00:00,  6.83it/s]\n",
      "Training :   0%|          | 0/100 [00:00<?, ?it/s]"
     ]
    },
    {
     "name": "stdout",
     "output_type": "stream",
     "text": [
      "Adjusting learning rate of group 0 to 1.0000e-02.\n",
      "Epoch 85/200: lr=0.0100, mean batch time = 0.62s, mean data loading time = 0.43, Training loss = 1.1995,0.4442,0.1745,0.1217, Test accuracy = 59.24%,70.55%,74.26%,74.80%,\n"
     ]
    },
    {
     "name": "stderr",
     "output_type": "stream",
     "text": [
      "Training : 100%|██████████| 100/100 [01:03<00:00,  1.58it/s, Msg=Time 0.627s, Data 0.434s, Loss (1.191|0.434|0.164|0.112), Top1 (68.04%|86.32%|94.78%|96.33%|)]\n",
      "100%|██████████| 20/20 [00:03<00:00,  6.64it/s]\n",
      "Training :   0%|          | 0/100 [00:00<?, ?it/s]"
     ]
    },
    {
     "name": "stdout",
     "output_type": "stream",
     "text": [
      "Adjusting learning rate of group 0 to 1.0000e-02.\n",
      "Epoch 86/200: lr=0.0100, mean batch time = 0.63s, mean data loading time = 0.43, Training loss = 1.1913,0.4336,0.1635,0.1121, Test accuracy = 59.68%,70.61%,74.08%,74.63%,\n"
     ]
    },
    {
     "name": "stderr",
     "output_type": "stream",
     "text": [
      "Training : 100%|██████████| 100/100 [01:02<00:00,  1.59it/s, Msg=Time 0.624s, Data 0.433s, Loss (1.180|0.422|0.149|0.100), Top1 (68.14%|86.73%|95.29%|96.69%|)]\n",
      "100%|██████████| 20/20 [00:02<00:00,  7.29it/s]\n",
      "Training :   0%|          | 0/100 [00:00<?, ?it/s]"
     ]
    },
    {
     "name": "stdout",
     "output_type": "stream",
     "text": [
      "Adjusting learning rate of group 0 to 1.0000e-02.\n",
      "Epoch 87/200: lr=0.0100, mean batch time = 0.62s, mean data loading time = 0.43, Training loss = 1.1799,0.4221,0.1491,0.1001, Test accuracy = 59.62%,70.32%,73.81%,74.08%,\n"
     ]
    },
    {
     "name": "stderr",
     "output_type": "stream",
     "text": [
      "Training : 100%|██████████| 100/100 [01:01<00:00,  1.61it/s, Msg=Time 0.615s, Data 0.426s, Loss (1.173|0.406|0.138|0.091), Top1 (68.36%|87.11%|95.55%|96.97%|)]\n",
      "100%|██████████| 20/20 [00:02<00:00,  6.79it/s]\n",
      "Training :   0%|          | 0/100 [00:00<?, ?it/s]"
     ]
    },
    {
     "name": "stdout",
     "output_type": "stream",
     "text": [
      "Adjusting learning rate of group 0 to 1.0000e-02.\n",
      "Epoch 88/200: lr=0.0100, mean batch time = 0.61s, mean data loading time = 0.43, Training loss = 1.1732,0.4058,0.1380,0.0908, Test accuracy = 59.37%,70.46%,74.11%,74.34%,\n"
     ]
    },
    {
     "name": "stderr",
     "output_type": "stream",
     "text": [
      "Training : 100%|██████████| 100/100 [01:01<00:00,  1.62it/s, Msg=Time 0.612s, Data 0.424s, Loss (1.167|0.398|0.130|0.083), Top1 (68.54%|87.28%|95.75%|97.14%|)]\n",
      "100%|██████████| 20/20 [00:03<00:00,  6.47it/s]\n",
      "Training :   0%|          | 0/100 [00:00<?, ?it/s]"
     ]
    },
    {
     "name": "stdout",
     "output_type": "stream",
     "text": [
      "Adjusting learning rate of group 0 to 1.0000e-02.\n",
      "Epoch 89/200: lr=0.0100, mean batch time = 0.61s, mean data loading time = 0.42, Training loss = 1.1665,0.3982,0.1296,0.0834, Test accuracy = 59.37%,70.39%,73.55%,73.73%,\n"
     ]
    },
    {
     "name": "stderr",
     "output_type": "stream",
     "text": [
      "Training : 100%|██████████| 100/100 [01:01<00:00,  1.63it/s, Msg=Time 0.608s, Data 0.422s, Loss (1.162|0.389|0.123|0.079), Top1 (68.80%|87.54%|96.05%|97.40%|)]\n",
      "100%|██████████| 20/20 [00:02<00:00,  6.92it/s]\n",
      "Training :   0%|          | 0/100 [00:00<?, ?it/s]"
     ]
    },
    {
     "name": "stdout",
     "output_type": "stream",
     "text": [
      "Adjusting learning rate of group 0 to 1.0000e-02.\n",
      "Epoch 90/200: lr=0.0100, mean batch time = 0.61s, mean data loading time = 0.42, Training loss = 1.1617,0.3893,0.1233,0.0789, Test accuracy = 59.85%,70.44%,73.46%,73.82%,\n"
     ]
    },
    {
     "name": "stderr",
     "output_type": "stream",
     "text": [
      "Training : 100%|██████████| 100/100 [01:03<00:00,  1.59it/s, Msg=Time 0.626s, Data 0.434s, Loss (1.156|0.379|0.117|0.074), Top1 (68.84%|87.98%|96.21%|97.48%|)]\n",
      "100%|██████████| 20/20 [00:02<00:00,  7.48it/s]\n",
      "Training :   0%|          | 0/100 [00:00<?, ?it/s]"
     ]
    },
    {
     "name": "stdout",
     "output_type": "stream",
     "text": [
      "Adjusting learning rate of group 0 to 1.0000e-02.\n",
      "Epoch 91/200: lr=0.0100, mean batch time = 0.63s, mean data loading time = 0.43, Training loss = 1.1562,0.3787,0.1166,0.0744, Test accuracy = 59.16%,69.74%,73.45%,73.83%,\n"
     ]
    },
    {
     "name": "stderr",
     "output_type": "stream",
     "text": [
      "Training : 100%|██████████| 100/100 [01:01<00:00,  1.63it/s, Msg=Time 0.610s, Data 0.422s, Loss (1.147|0.367|0.108|0.068), Top1 (68.93%|88.17%|96.44%|97.69%|)]\n",
      "100%|██████████| 20/20 [00:02<00:00,  7.16it/s]\n",
      "Training :   0%|          | 0/100 [00:00<?, ?it/s]"
     ]
    },
    {
     "name": "stdout",
     "output_type": "stream",
     "text": [
      "Adjusting learning rate of group 0 to 1.0000e-02.\n",
      "Epoch 92/200: lr=0.0100, mean batch time = 0.61s, mean data loading time = 0.42, Training loss = 1.1470,0.3671,0.1075,0.0685, Test accuracy = 59.55%,70.18%,73.63%,73.99%,\n"
     ]
    },
    {
     "name": "stderr",
     "output_type": "stream",
     "text": [
      "Training : 100%|██████████| 100/100 [01:04<00:00,  1.56it/s, Msg=Time 0.637s, Data 0.443s, Loss (1.144|0.366|0.105|0.065), Top1 (69.04%|88.25%|96.60%|97.83%|)]\n",
      "100%|██████████| 20/20 [00:02<00:00,  7.68it/s]\n",
      "Training :   0%|          | 0/100 [00:00<?, ?it/s]"
     ]
    },
    {
     "name": "stdout",
     "output_type": "stream",
     "text": [
      "Adjusting learning rate of group 0 to 1.0000e-02.\n",
      "Epoch 93/200: lr=0.0100, mean batch time = 0.64s, mean data loading time = 0.44, Training loss = 1.1440,0.3658,0.1046,0.0653, Test accuracy = 59.00%,69.79%,73.22%,73.64%,\n"
     ]
    },
    {
     "name": "stderr",
     "output_type": "stream",
     "text": [
      "Training : 100%|██████████| 100/100 [01:01<00:00,  1.62it/s, Msg=Time 0.612s, Data 0.425s, Loss (1.138|0.357|0.101|0.063), Top1 (69.15%|88.51%|96.77%|97.90%|)]\n",
      "100%|██████████| 20/20 [00:02<00:00,  7.34it/s]\n",
      "Training :   0%|          | 0/100 [00:00<?, ?it/s]"
     ]
    },
    {
     "name": "stdout",
     "output_type": "stream",
     "text": [
      "Adjusting learning rate of group 0 to 1.0000e-02.\n",
      "Epoch 94/200: lr=0.0100, mean batch time = 0.61s, mean data loading time = 0.43, Training loss = 1.1385,0.3572,0.1005,0.0631, Test accuracy = 59.80%,69.99%,73.65%,74.10%,\n"
     ]
    },
    {
     "name": "stderr",
     "output_type": "stream",
     "text": [
      "Training : 100%|██████████| 100/100 [01:01<00:00,  1.61it/s, Msg=Time 0.615s, Data 0.427s, Loss (1.132|0.350|0.095|0.058), Top1 (69.44%|88.72%|96.91%|98.05%|)]\n",
      "100%|██████████| 20/20 [00:02<00:00,  6.73it/s]\n",
      "Training :   0%|          | 0/100 [00:00<?, ?it/s]"
     ]
    },
    {
     "name": "stdout",
     "output_type": "stream",
     "text": [
      "Adjusting learning rate of group 0 to 1.0000e-02.\n",
      "Epoch 95/200: lr=0.0100, mean batch time = 0.61s, mean data loading time = 0.43, Training loss = 1.1316,0.3502,0.0948,0.0581, Test accuracy = 60.40%,70.05%,72.89%,73.35%,\n"
     ]
    },
    {
     "name": "stderr",
     "output_type": "stream",
     "text": [
      "Training : 100%|██████████| 100/100 [01:02<00:00,  1.60it/s, Msg=Time 0.620s, Data 0.431s, Loss (1.128|0.343|0.093|0.058), Top1 (69.45%|88.91%|97.06%|98.12%|)]\n",
      "100%|██████████| 20/20 [00:02<00:00,  6.67it/s]\n",
      "Training :   0%|          | 0/100 [00:00<?, ?it/s]"
     ]
    },
    {
     "name": "stdout",
     "output_type": "stream",
     "text": [
      "Adjusting learning rate of group 0 to 1.0000e-02.\n",
      "Epoch 96/200: lr=0.0100, mean batch time = 0.62s, mean data loading time = 0.43, Training loss = 1.1285,0.3427,0.0929,0.0577, Test accuracy = 59.91%,69.87%,73.29%,74.06%,\n"
     ]
    },
    {
     "name": "stderr",
     "output_type": "stream",
     "text": [
      "Training : 100%|██████████| 100/100 [01:01<00:00,  1.64it/s, Msg=Time 0.606s, Data 0.419s, Loss (1.121|0.334|0.088|0.055), Top1 (69.79%|89.13%|97.17%|98.17%|)]\n",
      "100%|██████████| 20/20 [00:02<00:00,  7.01it/s]\n",
      "Training :   0%|          | 0/100 [00:00<?, ?it/s]"
     ]
    },
    {
     "name": "stdout",
     "output_type": "stream",
     "text": [
      "Adjusting learning rate of group 0 to 1.0000e-02.\n",
      "Epoch 97/200: lr=0.0100, mean batch time = 0.61s, mean data loading time = 0.42, Training loss = 1.1208,0.3341,0.0877,0.0550, Test accuracy = 60.02%,69.87%,72.93%,73.50%,\n"
     ]
    },
    {
     "name": "stderr",
     "output_type": "stream",
     "text": [
      "Training : 100%|██████████| 100/100 [01:02<00:00,  1.59it/s, Msg=Time 0.624s, Data 0.433s, Loss (1.114|0.326|0.081|0.050), Top1 (69.97%|89.48%|97.40%|98.32%|)]\n",
      "100%|██████████| 20/20 [00:02<00:00,  7.32it/s]\n",
      "Training :   0%|          | 0/100 [00:00<?, ?it/s]"
     ]
    },
    {
     "name": "stdout",
     "output_type": "stream",
     "text": [
      "Adjusting learning rate of group 0 to 1.0000e-02.\n",
      "Epoch 98/200: lr=0.0100, mean batch time = 0.62s, mean data loading time = 0.43, Training loss = 1.1140,0.3264,0.0808,0.0496, Test accuracy = 59.83%,70.03%,73.13%,73.76%,\n"
     ]
    },
    {
     "name": "stderr",
     "output_type": "stream",
     "text": [
      "Training : 100%|██████████| 100/100 [01:02<00:00,  1.61it/s, Msg=Time 0.618s, Data 0.427s, Loss (1.113|0.321|0.077|0.047), Top1 (69.90%|89.61%|97.51%|98.40%|)]\n",
      "100%|██████████| 20/20 [00:02<00:00,  7.40it/s]\n",
      "Training :   0%|          | 0/100 [00:00<?, ?it/s]"
     ]
    },
    {
     "name": "stdout",
     "output_type": "stream",
     "text": [
      "Adjusting learning rate of group 0 to 1.0000e-02.\n",
      "Epoch 99/200: lr=0.0100, mean batch time = 0.62s, mean data loading time = 0.43, Training loss = 1.1133,0.3214,0.0775,0.0474, Test accuracy = 60.06%,69.98%,73.06%,73.63%,\n"
     ]
    },
    {
     "name": "stderr",
     "output_type": "stream",
     "text": [
      "Training : 100%|██████████| 100/100 [01:02<00:00,  1.61it/s, Msg=Time 0.617s, Data 0.429s, Loss (1.108|0.318|0.080|0.050), Top1 (69.96%|89.62%|97.26%|98.33%|)]\n",
      "100%|██████████| 20/20 [00:02<00:00,  6.85it/s]\n",
      "Training :   0%|          | 0/100 [00:00<?, ?it/s]"
     ]
    },
    {
     "name": "stdout",
     "output_type": "stream",
     "text": [
      "Adjusting learning rate of group 0 to 1.0000e-02.\n",
      "Epoch 100/200: lr=0.0100, mean batch time = 0.62s, mean data loading time = 0.43, Training loss = 1.1084,0.3183,0.0804,0.0504, Test accuracy = 58.96%,69.21%,72.81%,73.41%,\n"
     ]
    },
    {
     "name": "stderr",
     "output_type": "stream",
     "text": [
      "Training : 100%|██████████| 100/100 [01:02<00:00,  1.59it/s, Msg=Time 0.624s, Data 0.432s, Loss (1.105|0.310|0.077|0.049), Top1 (70.26%|90.08%|97.63%|98.37%|)]\n",
      "100%|██████████| 20/20 [00:02<00:00,  7.37it/s]\n",
      "Training :   0%|          | 0/100 [00:00<?, ?it/s]"
     ]
    },
    {
     "name": "stdout",
     "output_type": "stream",
     "text": [
      "Adjusting learning rate of group 0 to 1.0000e-02.\n",
      "Epoch 101/200: lr=0.0100, mean batch time = 0.62s, mean data loading time = 0.43, Training loss = 1.1048,0.3104,0.0772,0.0494, Test accuracy = 59.20%,69.10%,72.73%,73.01%,\n"
     ]
    },
    {
     "name": "stderr",
     "output_type": "stream",
     "text": [
      "Training : 100%|██████████| 100/100 [01:02<00:00,  1.61it/s, Msg=Time 0.617s, Data 0.427s, Loss (1.104|0.310|0.077|0.049), Top1 (69.95%|90.07%|97.56%|98.39%|)]\n",
      "100%|██████████| 20/20 [00:02<00:00,  7.48it/s]\n",
      "Training :   0%|          | 0/100 [00:00<?, ?it/s]"
     ]
    },
    {
     "name": "stdout",
     "output_type": "stream",
     "text": [
      "Adjusting learning rate of group 0 to 1.0000e-02.\n",
      "Epoch 102/200: lr=0.0100, mean batch time = 0.62s, mean data loading time = 0.43, Training loss = 1.1044,0.3103,0.0774,0.0489, Test accuracy = 60.45%,69.95%,73.04%,73.43%,\n"
     ]
    },
    {
     "name": "stderr",
     "output_type": "stream",
     "text": [
      "Training : 100%|██████████| 100/100 [01:03<00:00,  1.59it/s, Msg=Time 0.626s, Data 0.433s, Loss (1.092|0.298|0.069|0.043), Top1 (70.27%|90.39%|97.76%|98.56%|)]\n",
      "100%|██████████| 20/20 [00:02<00:00,  7.47it/s]\n",
      "Training :   0%|          | 0/100 [00:00<?, ?it/s]"
     ]
    },
    {
     "name": "stdout",
     "output_type": "stream",
     "text": [
      "Adjusting learning rate of group 0 to 1.0000e-02.\n",
      "Epoch 103/200: lr=0.0100, mean batch time = 0.63s, mean data loading time = 0.43, Training loss = 1.0920,0.2977,0.0691,0.0427, Test accuracy = 60.21%,69.45%,72.22%,72.94%,\n"
     ]
    },
    {
     "name": "stderr",
     "output_type": "stream",
     "text": [
      "Training : 100%|██████████| 100/100 [01:02<00:00,  1.59it/s, Msg=Time 0.624s, Data 0.432s, Loss (1.091|0.295|0.070|0.043), Top1 (70.33%|90.50%|97.76%|98.53%|)]\n",
      "100%|██████████| 20/20 [00:02<00:00,  7.41it/s]\n",
      "Training :   0%|          | 0/100 [00:00<?, ?it/s]"
     ]
    },
    {
     "name": "stdout",
     "output_type": "stream",
     "text": [
      "Adjusting learning rate of group 0 to 1.0000e-02.\n",
      "Epoch 104/200: lr=0.0100, mean batch time = 0.62s, mean data loading time = 0.43, Training loss = 1.0908,0.2946,0.0696,0.0434, Test accuracy = 60.66%,69.79%,72.96%,73.47%,\n"
     ]
    },
    {
     "name": "stderr",
     "output_type": "stream",
     "text": [
      "Training : 100%|██████████| 100/100 [01:03<00:00,  1.59it/s, Msg=Time 0.626s, Data 0.433s, Loss (1.089|0.295|0.071|0.046), Top1 (70.46%|90.42%|97.67%|98.47%|)]\n",
      "100%|██████████| 20/20 [00:02<00:00,  7.60it/s]\n",
      "Training :   0%|          | 0/100 [00:00<?, ?it/s]"
     ]
    },
    {
     "name": "stdout",
     "output_type": "stream",
     "text": [
      "Adjusting learning rate of group 0 to 1.0000e-02.\n",
      "Epoch 105/200: lr=0.0100, mean batch time = 0.63s, mean data loading time = 0.43, Training loss = 1.0888,0.2946,0.0715,0.0457, Test accuracy = 58.16%,68.82%,72.47%,73.05%,\n"
     ]
    },
    {
     "name": "stderr",
     "output_type": "stream",
     "text": [
      "Training : 100%|██████████| 100/100 [01:03<00:00,  1.58it/s, Msg=Time 0.626s, Data 0.432s, Loss (1.086|0.292|0.071|0.046), Top1 (70.52%|90.48%|97.64%|98.44%|)]\n",
      "100%|██████████| 20/20 [00:03<00:00,  6.64it/s]\n",
      "Training :   0%|          | 0/100 [00:00<?, ?it/s]"
     ]
    },
    {
     "name": "stdout",
     "output_type": "stream",
     "text": [
      "Adjusting learning rate of group 0 to 1.0000e-02.\n",
      "Epoch 106/200: lr=0.0100, mean batch time = 0.63s, mean data loading time = 0.43, Training loss = 1.0865,0.2920,0.0709,0.0460, Test accuracy = 59.12%,68.46%,71.72%,72.34%,\n"
     ]
    },
    {
     "name": "stderr",
     "output_type": "stream",
     "text": [
      "Training : 100%|██████████| 100/100 [01:03<00:00,  1.58it/s, Msg=Time 0.629s, Data 0.435s, Loss (1.088|0.295|0.073|0.047), Top1 (70.24%|90.45%|97.67%|98.45%|)]\n",
      "100%|██████████| 20/20 [00:02<00:00,  7.18it/s]\n",
      "Training :   0%|          | 0/100 [00:00<?, ?it/s]"
     ]
    },
    {
     "name": "stdout",
     "output_type": "stream",
     "text": [
      "Adjusting learning rate of group 0 to 1.0000e-02.\n",
      "Epoch 107/200: lr=0.0100, mean batch time = 0.63s, mean data loading time = 0.44, Training loss = 1.0879,0.2946,0.0727,0.0474, Test accuracy = 59.65%,68.22%,71.53%,71.72%,\n"
     ]
    },
    {
     "name": "stderr",
     "output_type": "stream",
     "text": [
      "Training : 100%|██████████| 100/100 [01:01<00:00,  1.62it/s, Msg=Time 0.614s, Data 0.425s, Loss (1.087|0.290|0.072|0.048), Top1 (70.46%|90.63%|97.73%|98.45%|)]\n",
      "100%|██████████| 20/20 [00:02<00:00,  6.87it/s]\n",
      "Training :   0%|          | 0/100 [00:00<?, ?it/s]"
     ]
    },
    {
     "name": "stdout",
     "output_type": "stream",
     "text": [
      "Adjusting learning rate of group 0 to 1.0000e-02.\n",
      "Epoch 108/200: lr=0.0100, mean batch time = 0.61s, mean data loading time = 0.43, Training loss = 1.0871,0.2901,0.0722,0.0476, Test accuracy = 59.82%,69.44%,72.85%,73.22%,\n"
     ]
    },
    {
     "name": "stderr",
     "output_type": "stream",
     "text": [
      "Training : 100%|██████████| 100/100 [01:02<00:00,  1.60it/s, Msg=Time 0.621s, Data 0.430s, Loss (1.080|0.281|0.067|0.043), Top1 (70.62%|90.94%|97.86%|98.54%|)]\n",
      "100%|██████████| 20/20 [00:03<00:00,  6.58it/s]\n",
      "Training :   0%|          | 0/100 [00:00<?, ?it/s]"
     ]
    },
    {
     "name": "stdout",
     "output_type": "stream",
     "text": [
      "Adjusting learning rate of group 0 to 1.0000e-02.\n",
      "Epoch 109/200: lr=0.0100, mean batch time = 0.62s, mean data loading time = 0.43, Training loss = 1.0800,0.2806,0.0668,0.0430, Test accuracy = 60.24%,69.17%,72.50%,73.03%,\n"
     ]
    },
    {
     "name": "stderr",
     "output_type": "stream",
     "text": [
      "Training : 100%|██████████| 100/100 [01:01<00:00,  1.62it/s, Msg=Time 0.612s, Data 0.422s, Loss (1.079|0.281|0.065|0.042), Top1 (70.66%|90.89%|97.97%|98.59%|)]\n",
      "100%|██████████| 20/20 [00:02<00:00,  6.73it/s]\n",
      "Training :   0%|          | 0/100 [00:00<?, ?it/s]"
     ]
    },
    {
     "name": "stdout",
     "output_type": "stream",
     "text": [
      "Adjusting learning rate of group 0 to 1.0000e-02.\n",
      "Epoch 110/200: lr=0.0100, mean batch time = 0.61s, mean data loading time = 0.42, Training loss = 1.0791,0.2813,0.0654,0.0423, Test accuracy = 59.00%,68.81%,72.34%,72.76%,\n"
     ]
    },
    {
     "name": "stderr",
     "output_type": "stream",
     "text": [
      "Training : 100%|██████████| 100/100 [01:02<00:00,  1.60it/s, Msg=Time 0.618s, Data 0.428s, Loss (1.081|0.281|0.070|0.047), Top1 (70.57%|90.92%|97.75%|98.44%|)]\n",
      "100%|██████████| 20/20 [00:02<00:00,  6.95it/s]\n",
      "Training :   0%|          | 0/100 [00:00<?, ?it/s]"
     ]
    },
    {
     "name": "stdout",
     "output_type": "stream",
     "text": [
      "Adjusting learning rate of group 0 to 1.0000e-02.\n",
      "Epoch 111/200: lr=0.0100, mean batch time = 0.62s, mean data loading time = 0.43, Training loss = 1.0811,0.2808,0.0699,0.0466, Test accuracy = 58.94%,68.69%,72.67%,73.02%,\n"
     ]
    },
    {
     "name": "stderr",
     "output_type": "stream",
     "text": [
      "Training : 100%|██████████| 100/100 [01:03<00:00,  1.57it/s, Msg=Time 0.631s, Data 0.438s, Loss (1.079|0.278|0.069|0.046), Top1 (70.93%|91.06%|97.77%|98.51%|)]\n",
      "100%|██████████| 20/20 [00:02<00:00,  7.30it/s]\n",
      "Training :   0%|          | 0/100 [00:00<?, ?it/s]"
     ]
    },
    {
     "name": "stdout",
     "output_type": "stream",
     "text": [
      "Adjusting learning rate of group 0 to 1.0000e-02.\n",
      "Epoch 112/200: lr=0.0100, mean batch time = 0.63s, mean data loading time = 0.44, Training loss = 1.0788,0.2784,0.0690,0.0460, Test accuracy = 58.52%,68.81%,72.09%,72.54%,\n"
     ]
    },
    {
     "name": "stderr",
     "output_type": "stream",
     "text": [
      "Training : 100%|██████████| 100/100 [01:02<00:00,  1.59it/s, Msg=Time 0.623s, Data 0.431s, Loss (1.075|0.279|0.069|0.045), Top1 (70.66%|90.71%|97.86%|98.57%|)]\n",
      "100%|██████████| 20/20 [00:02<00:00,  7.16it/s]\n",
      "Training :   0%|          | 0/100 [00:00<?, ?it/s]"
     ]
    },
    {
     "name": "stdout",
     "output_type": "stream",
     "text": [
      "Adjusting learning rate of group 0 to 1.0000e-02.\n",
      "Epoch 113/200: lr=0.0100, mean batch time = 0.62s, mean data loading time = 0.43, Training loss = 1.0747,0.2795,0.0685,0.0450, Test accuracy = 59.05%,67.68%,71.66%,72.21%,\n"
     ]
    },
    {
     "name": "stderr",
     "output_type": "stream",
     "text": [
      "Training : 100%|██████████| 100/100 [01:02<00:00,  1.60it/s, Msg=Time 0.619s, Data 0.428s, Loss (1.071|0.274|0.067|0.045), Top1 (70.93%|91.01%|97.83%|98.51%|)]\n",
      "100%|██████████| 20/20 [00:03<00:00,  6.39it/s]\n",
      "Training :   0%|          | 0/100 [00:00<?, ?it/s]"
     ]
    },
    {
     "name": "stdout",
     "output_type": "stream",
     "text": [
      "Adjusting learning rate of group 0 to 1.0000e-02.\n",
      "Epoch 114/200: lr=0.0100, mean batch time = 0.62s, mean data loading time = 0.43, Training loss = 1.0713,0.2736,0.0674,0.0446, Test accuracy = 59.36%,68.43%,71.70%,72.30%,\n"
     ]
    },
    {
     "name": "stderr",
     "output_type": "stream",
     "text": [
      "Training : 100%|██████████| 100/100 [01:02<00:00,  1.60it/s, Msg=Time 0.621s, Data 0.430s, Loss (1.070|0.274|0.067|0.045), Top1 (70.67%|91.23%|97.87%|98.46%|)]\n",
      "100%|██████████| 20/20 [00:02<00:00,  6.89it/s]\n",
      "Training :   0%|          | 0/100 [00:00<?, ?it/s]"
     ]
    },
    {
     "name": "stdout",
     "output_type": "stream",
     "text": [
      "Adjusting learning rate of group 0 to 1.0000e-02.\n",
      "Epoch 115/200: lr=0.0100, mean batch time = 0.62s, mean data loading time = 0.43, Training loss = 1.0704,0.2742,0.0667,0.0448, Test accuracy = 59.78%,68.53%,71.89%,72.51%,\n"
     ]
    },
    {
     "name": "stderr",
     "output_type": "stream",
     "text": [
      "Training : 100%|██████████| 100/100 [01:02<00:00,  1.60it/s, Msg=Time 0.621s, Data 0.430s, Loss (1.065|0.268|0.066|0.046), Top1 (71.19%|91.27%|97.85%|98.48%|)]\n",
      "100%|██████████| 20/20 [00:03<00:00,  6.51it/s]\n",
      "Training :   0%|          | 0/100 [00:00<?, ?it/s]"
     ]
    },
    {
     "name": "stdout",
     "output_type": "stream",
     "text": [
      "Adjusting learning rate of group 0 to 1.0000e-02.\n",
      "Epoch 116/200: lr=0.0100, mean batch time = 0.62s, mean data loading time = 0.43, Training loss = 1.0648,0.2675,0.0662,0.0456, Test accuracy = 60.29%,68.93%,72.21%,72.45%,\n"
     ]
    },
    {
     "name": "stderr",
     "output_type": "stream",
     "text": [
      "Training : 100%|██████████| 100/100 [01:01<00:00,  1.62it/s, Msg=Time 0.611s, Data 0.425s, Loss (1.071|0.274|0.072|0.050), Top1 (70.86%|91.14%|97.69%|98.35%|)]\n",
      "100%|██████████| 20/20 [00:02<00:00,  6.85it/s]\n",
      "Training :   0%|          | 0/100 [00:00<?, ?it/s]"
     ]
    },
    {
     "name": "stdout",
     "output_type": "stream",
     "text": [
      "Adjusting learning rate of group 0 to 1.0000e-02.\n",
      "Epoch 117/200: lr=0.0100, mean batch time = 0.61s, mean data loading time = 0.42, Training loss = 1.0707,0.2745,0.0724,0.0499, Test accuracy = 59.61%,67.85%,71.09%,71.65%,\n"
     ]
    },
    {
     "name": "stderr",
     "output_type": "stream",
     "text": [
      "Training : 100%|██████████| 100/100 [01:03<00:00,  1.56it/s, Msg=Time 0.635s, Data 0.441s, Loss (1.068|0.276|0.071|0.047), Top1 (70.83%|91.00%|97.73%|98.43%|)]\n",
      "100%|██████████| 20/20 [00:02<00:00,  7.33it/s]\n",
      "Training :   0%|          | 0/100 [00:00<?, ?it/s]"
     ]
    },
    {
     "name": "stdout",
     "output_type": "stream",
     "text": [
      "Adjusting learning rate of group 0 to 1.0000e-02.\n",
      "Epoch 118/200: lr=0.0100, mean batch time = 0.64s, mean data loading time = 0.44, Training loss = 1.0684,0.2763,0.0710,0.0474, Test accuracy = 58.66%,68.00%,71.23%,71.71%,\n"
     ]
    },
    {
     "name": "stderr",
     "output_type": "stream",
     "text": [
      "Training : 100%|██████████| 100/100 [01:02<00:00,  1.61it/s, Msg=Time 0.616s, Data 0.427s, Loss (1.070|0.274|0.072|0.050), Top1 (70.65%|91.03%|97.58%|98.32%|)]\n",
      "100%|██████████| 20/20 [00:02<00:00,  6.90it/s]\n",
      "Training :   0%|          | 0/100 [00:00<?, ?it/s]"
     ]
    },
    {
     "name": "stdout",
     "output_type": "stream",
     "text": [
      "Adjusting learning rate of group 0 to 1.0000e-02.\n",
      "Epoch 119/200: lr=0.0100, mean batch time = 0.62s, mean data loading time = 0.43, Training loss = 1.0703,0.2742,0.0722,0.0498, Test accuracy = 59.17%,67.67%,71.09%,71.75%,\n"
     ]
    },
    {
     "name": "stderr",
     "output_type": "stream",
     "text": [
      "Training : 100%|██████████| 100/100 [01:02<00:00,  1.59it/s, Msg=Time 0.624s, Data 0.433s, Loss (1.064|0.269|0.069|0.048), Top1 (71.06%|91.27%|97.81%|98.44%|)]\n",
      "100%|██████████| 20/20 [00:02<00:00,  7.24it/s]\n",
      "Training :   0%|          | 0/100 [00:00<?, ?it/s]"
     ]
    },
    {
     "name": "stdout",
     "output_type": "stream",
     "text": [
      "Adjusting learning rate of group 0 to 1.0000e-02.\n",
      "Epoch 120/200: lr=0.0100, mean batch time = 0.62s, mean data loading time = 0.43, Training loss = 1.0639,0.2694,0.0688,0.0476, Test accuracy = 60.33%,68.42%,71.91%,72.49%,\n"
     ]
    },
    {
     "name": "stderr",
     "output_type": "stream",
     "text": [
      "Training : 100%|██████████| 100/100 [01:01<00:00,  1.62it/s, Msg=Time 0.614s, Data 0.426s, Loss (1.062|0.269|0.069|0.047), Top1 (71.15%|91.26%|97.76%|98.42%|)]\n",
      "100%|██████████| 20/20 [00:02<00:00,  7.29it/s]\n",
      "Training :   0%|          | 0/100 [00:00<?, ?it/s]"
     ]
    },
    {
     "name": "stdout",
     "output_type": "stream",
     "text": [
      "Adjusting learning rate of group 0 to 1.0000e-02.\n",
      "Epoch 121/200: lr=0.0100, mean batch time = 0.61s, mean data loading time = 0.43, Training loss = 1.0617,0.2687,0.0692,0.0471, Test accuracy = 58.65%,68.24%,71.68%,72.07%,\n"
     ]
    },
    {
     "name": "stderr",
     "output_type": "stream",
     "text": [
      "Training : 100%|██████████| 100/100 [01:01<00:00,  1.62it/s, Msg=Time 0.613s, Data 0.423s, Loss (1.059|0.267|0.068|0.047), Top1 (71.33%|91.36%|97.84%|98.44%|)]\n",
      "100%|██████████| 20/20 [00:02<00:00,  7.24it/s]\n",
      "Training :   0%|          | 0/100 [00:00<?, ?it/s]"
     ]
    },
    {
     "name": "stdout",
     "output_type": "stream",
     "text": [
      "Adjusting learning rate of group 0 to 1.0000e-02.\n",
      "Epoch 122/200: lr=0.0100, mean batch time = 0.61s, mean data loading time = 0.42, Training loss = 1.0592,0.2671,0.0683,0.0468, Test accuracy = 59.50%,68.23%,71.94%,72.46%,\n"
     ]
    },
    {
     "name": "stderr",
     "output_type": "stream",
     "text": [
      "Training : 100%|██████████| 100/100 [01:02<00:00,  1.61it/s, Msg=Time 0.616s, Data 0.427s, Loss (1.062|0.273|0.073|0.051), Top1 (70.97%|91.18%|97.53%|98.27%|)]\n",
      "100%|██████████| 20/20 [00:02<00:00,  7.60it/s]\n",
      "Training :   0%|          | 0/100 [00:00<?, ?it/s]"
     ]
    },
    {
     "name": "stdout",
     "output_type": "stream",
     "text": [
      "Adjusting learning rate of group 0 to 1.0000e-02.\n",
      "Epoch 123/200: lr=0.0100, mean batch time = 0.62s, mean data loading time = 0.43, Training loss = 1.0623,0.2730,0.0731,0.0513, Test accuracy = 58.51%,67.17%,70.57%,70.91%,\n"
     ]
    },
    {
     "name": "stderr",
     "output_type": "stream",
     "text": [
      "Training : 100%|██████████| 100/100 [01:01<00:00,  1.61it/s, Msg=Time 0.615s, Data 0.427s, Loss (1.063|0.270|0.072|0.050), Top1 (71.00%|91.20%|97.70%|98.38%|)]\n",
      "100%|██████████| 20/20 [00:02<00:00,  7.28it/s]\n",
      "Training :   0%|          | 0/100 [00:00<?, ?it/s]"
     ]
    },
    {
     "name": "stdout",
     "output_type": "stream",
     "text": [
      "Adjusting learning rate of group 0 to 1.0000e-02.\n",
      "Epoch 124/200: lr=0.0100, mean batch time = 0.62s, mean data loading time = 0.43, Training loss = 1.0630,0.2699,0.0722,0.0499, Test accuracy = 58.66%,67.00%,70.94%,71.53%,\n"
     ]
    },
    {
     "name": "stderr",
     "output_type": "stream",
     "text": [
      "Training : 100%|██████████| 100/100 [01:01<00:00,  1.63it/s, Msg=Time 0.608s, Data 0.422s, Loss (1.061|0.274|0.074|0.051), Top1 (71.00%|90.98%|97.66%|98.33%|)]\n",
      "100%|██████████| 20/20 [00:02<00:00,  7.49it/s]\n",
      "Training :   0%|          | 0/100 [00:00<?, ?it/s]"
     ]
    },
    {
     "name": "stdout",
     "output_type": "stream",
     "text": [
      "Adjusting learning rate of group 0 to 1.0000e-02.\n",
      "Epoch 125/200: lr=0.0100, mean batch time = 0.61s, mean data loading time = 0.42, Training loss = 1.0610,0.2741,0.0738,0.0512, Test accuracy = 58.58%,67.74%,71.33%,71.92%,\n"
     ]
    },
    {
     "name": "stderr",
     "output_type": "stream",
     "text": [
      "Training : 100%|██████████| 100/100 [01:01<00:00,  1.61it/s, Msg=Time 0.615s, Data 0.427s, Loss (1.055|0.262|0.070|0.049), Top1 (71.29%|91.44%|97.77%|98.40%|)]\n",
      "100%|██████████| 20/20 [00:02<00:00,  7.30it/s]\n",
      "Training :   0%|          | 0/100 [00:00<?, ?it/s]"
     ]
    },
    {
     "name": "stdout",
     "output_type": "stream",
     "text": [
      "Adjusting learning rate of group 0 to 1.0000e-02.\n",
      "Epoch 126/200: lr=0.0100, mean batch time = 0.62s, mean data loading time = 0.43, Training loss = 1.0550,0.2616,0.0700,0.0493, Test accuracy = 57.65%,67.47%,70.79%,71.26%,\n"
     ]
    },
    {
     "name": "stderr",
     "output_type": "stream",
     "text": [
      "Training : 100%|██████████| 100/100 [01:01<00:00,  1.62it/s, Msg=Time 0.613s, Data 0.425s, Loss (1.059|0.265|0.072|0.051), Top1 (71.17%|91.31%|97.63%|98.27%|)]\n",
      "100%|██████████| 20/20 [00:02<00:00,  7.17it/s]\n",
      "Training :   0%|          | 0/100 [00:00<?, ?it/s]"
     ]
    },
    {
     "name": "stdout",
     "output_type": "stream",
     "text": [
      "Adjusting learning rate of group 0 to 1.0000e-02.\n",
      "Epoch 127/200: lr=0.0100, mean batch time = 0.61s, mean data loading time = 0.42, Training loss = 1.0588,0.2655,0.0723,0.0510, Test accuracy = 58.81%,67.17%,71.15%,71.65%,\n"
     ]
    },
    {
     "name": "stderr",
     "output_type": "stream",
     "text": [
      "Training : 100%|██████████| 100/100 [01:01<00:00,  1.64it/s, Msg=Time 0.606s, Data 0.421s, Loss (1.061|0.270|0.073|0.051), Top1 (70.89%|91.21%|97.65%|98.32%|)]\n",
      "100%|██████████| 20/20 [00:02<00:00,  6.73it/s]\n",
      "Training :   0%|          | 0/100 [00:00<?, ?it/s]"
     ]
    },
    {
     "name": "stdout",
     "output_type": "stream",
     "text": [
      "Adjusting learning rate of group 0 to 1.0000e-02.\n",
      "Epoch 128/200: lr=0.0100, mean batch time = 0.61s, mean data loading time = 0.42, Training loss = 1.0605,0.2700,0.0734,0.0511, Test accuracy = 57.29%,67.07%,70.52%,71.47%,\n"
     ]
    },
    {
     "name": "stderr",
     "output_type": "stream",
     "text": [
      "Training : 100%|██████████| 100/100 [01:02<00:00,  1.59it/s, Msg=Time 0.624s, Data 0.429s, Loss (1.059|0.271|0.075|0.053), Top1 (71.05%|91.02%|97.48%|98.18%|)]\n",
      "100%|██████████| 20/20 [00:02<00:00,  7.37it/s]\n",
      "Training :   0%|          | 0/100 [00:00<?, ?it/s]"
     ]
    },
    {
     "name": "stdout",
     "output_type": "stream",
     "text": [
      "Adjusting learning rate of group 0 to 1.0000e-02.\n",
      "Epoch 129/200: lr=0.0100, mean batch time = 0.62s, mean data loading time = 0.43, Training loss = 1.0585,0.2706,0.0750,0.0534, Test accuracy = 58.83%,67.26%,71.00%,71.60%,\n"
     ]
    },
    {
     "name": "stderr",
     "output_type": "stream",
     "text": [
      "Training : 100%|██████████| 100/100 [01:02<00:00,  1.59it/s, Msg=Time 0.623s, Data 0.431s, Loss (1.054|0.263|0.071|0.049), Top1 (71.24%|91.46%|97.73%|98.37%|)]\n",
      "100%|██████████| 20/20 [00:02<00:00,  7.75it/s]\n",
      "Training :   0%|          | 0/100 [00:00<?, ?it/s]"
     ]
    },
    {
     "name": "stdout",
     "output_type": "stream",
     "text": [
      "Adjusting learning rate of group 0 to 1.0000e-03.\n",
      "Epoch 130/200: lr=0.0010, mean batch time = 0.62s, mean data loading time = 0.43, Training loss = 1.0539,0.2631,0.0705,0.0489, Test accuracy = 58.98%,66.09%,70.36%,70.95%,\n"
     ]
    },
    {
     "name": "stderr",
     "output_type": "stream",
     "text": [
      "Training : 100%|██████████| 100/100 [01:01<00:00,  1.62it/s, Msg=Time 0.612s, Data 0.425s, Loss (1.001|0.195|0.041|0.026), Top1 (73.18%|94.04%|98.88%|99.24%|)]\n",
      "100%|██████████| 20/20 [00:02<00:00,  7.03it/s]\n",
      "Training :   0%|          | 0/100 [00:00<?, ?it/s]"
     ]
    },
    {
     "name": "stdout",
     "output_type": "stream",
     "text": [
      "Adjusting learning rate of group 0 to 1.0000e-03.\n",
      "Epoch 131/200: lr=0.0010, mean batch time = 0.61s, mean data loading time = 0.42, Training loss = 1.0008,0.1950,0.0407,0.0261, Test accuracy = 61.92%,71.28%,74.16%,74.58%,\n"
     ]
    },
    {
     "name": "stderr",
     "output_type": "stream",
     "text": [
      "Training : 100%|██████████| 100/100 [01:02<00:00,  1.59it/s, Msg=Time 0.623s, Data 0.431s, Loss (0.976|0.159|0.025|0.014), Top1 (73.97%|95.36%|99.39%|99.60%|)]\n",
      "100%|██████████| 20/20 [00:02<00:00,  7.30it/s]\n",
      "Training :   0%|          | 0/100 [00:00<?, ?it/s]"
     ]
    },
    {
     "name": "stdout",
     "output_type": "stream",
     "text": [
      "Adjusting learning rate of group 0 to 1.0000e-03.\n",
      "Epoch 132/200: lr=0.0010, mean batch time = 0.62s, mean data loading time = 0.43, Training loss = 0.9759,0.1588,0.0249,0.0145, Test accuracy = 62.12%,71.15%,74.36%,74.69%,\n"
     ]
    },
    {
     "name": "stderr",
     "output_type": "stream",
     "text": [
      "Training : 100%|██████████| 100/100 [01:01<00:00,  1.64it/s, Msg=Time 0.607s, Data 0.421s, Loss (0.969|0.147|0.020|0.011), Top1 (74.08%|95.88%|99.51%|99.69%|)]\n",
      "100%|██████████| 20/20 [00:02<00:00,  6.81it/s]\n",
      "Training :   0%|          | 0/100 [00:00<?, ?it/s]"
     ]
    },
    {
     "name": "stdout",
     "output_type": "stream",
     "text": [
      "Adjusting learning rate of group 0 to 1.0000e-03.\n",
      "Epoch 133/200: lr=0.0010, mean batch time = 0.61s, mean data loading time = 0.42, Training loss = 0.9686,0.1472,0.0202,0.0112, Test accuracy = 62.31%,71.31%,74.53%,74.84%,\n"
     ]
    },
    {
     "name": "stderr",
     "output_type": "stream",
     "text": [
      "Training : 100%|██████████| 100/100 [01:02<00:00,  1.59it/s, Msg=Time 0.624s, Data 0.432s, Loss (0.965|0.143|0.018|0.009), Top1 (74.44%|95.98%|99.62%|99.77%|)]\n",
      "100%|██████████| 20/20 [00:02<00:00,  7.21it/s]\n",
      "Training :   0%|          | 0/100 [00:00<?, ?it/s]"
     ]
    },
    {
     "name": "stdout",
     "output_type": "stream",
     "text": [
      "Adjusting learning rate of group 0 to 1.0000e-03.\n",
      "Epoch 134/200: lr=0.0010, mean batch time = 0.62s, mean data loading time = 0.43, Training loss = 0.9650,0.1428,0.0176,0.0091, Test accuracy = 62.45%,71.62%,74.50%,74.94%,\n"
     ]
    },
    {
     "name": "stderr",
     "output_type": "stream",
     "text": [
      "Training : 100%|██████████| 100/100 [01:02<00:00,  1.60it/s, Msg=Time 0.618s, Data 0.430s, Loss (0.959|0.137|0.016|0.008), Top1 (74.42%|96.18%|99.70%|99.82%|)]\n",
      "100%|██████████| 20/20 [00:02<00:00,  7.33it/s]\n",
      "Training :   0%|          | 0/100 [00:00<?, ?it/s]"
     ]
    },
    {
     "name": "stdout",
     "output_type": "stream",
     "text": [
      "Adjusting learning rate of group 0 to 1.0000e-03.\n",
      "Epoch 135/200: lr=0.0010, mean batch time = 0.62s, mean data loading time = 0.43, Training loss = 0.9591,0.1369,0.0162,0.0080, Test accuracy = 62.50%,71.55%,74.44%,74.86%,\n"
     ]
    },
    {
     "name": "stderr",
     "output_type": "stream",
     "text": [
      "Training : 100%|██████████| 100/100 [01:03<00:00,  1.58it/s, Msg=Time 0.627s, Data 0.435s, Loss (0.958|0.132|0.016|0.008), Top1 (74.71%|96.40%|99.65%|99.80%|)]\n",
      "100%|██████████| 20/20 [00:02<00:00,  7.30it/s]\n",
      "Training :   0%|          | 0/100 [00:00<?, ?it/s]"
     ]
    },
    {
     "name": "stdout",
     "output_type": "stream",
     "text": [
      "Adjusting learning rate of group 0 to 1.0000e-03.\n",
      "Epoch 136/200: lr=0.0010, mean batch time = 0.63s, mean data loading time = 0.43, Training loss = 0.9580,0.1319,0.0158,0.0084, Test accuracy = 62.68%,71.40%,74.51%,74.70%,\n"
     ]
    },
    {
     "name": "stderr",
     "output_type": "stream",
     "text": [
      "Training : 100%|██████████| 100/100 [01:01<00:00,  1.63it/s, Msg=Time 0.609s, Data 0.422s, Loss (0.954|0.130|0.014|0.007), Top1 (74.70%|96.41%|99.73%|99.84%|)]\n",
      "100%|██████████| 20/20 [00:02<00:00,  6.84it/s]\n",
      "Training :   0%|          | 0/100 [00:00<?, ?it/s]"
     ]
    },
    {
     "name": "stdout",
     "output_type": "stream",
     "text": [
      "Adjusting learning rate of group 0 to 1.0000e-03.\n",
      "Epoch 137/200: lr=0.0010, mean batch time = 0.61s, mean data loading time = 0.42, Training loss = 0.9542,0.1298,0.0137,0.0065, Test accuracy = 62.33%,71.37%,74.41%,74.71%,\n"
     ]
    },
    {
     "name": "stderr",
     "output_type": "stream",
     "text": [
      "Training : 100%|██████████| 100/100 [01:02<00:00,  1.60it/s, Msg=Time 0.621s, Data 0.430s, Loss (0.951|0.127|0.013|0.007), Top1 (74.57%|96.51%|99.73%|99.84%|)]\n",
      "100%|██████████| 20/20 [00:02<00:00,  7.43it/s]\n",
      "Training :   0%|          | 0/100 [00:00<?, ?it/s]"
     ]
    },
    {
     "name": "stdout",
     "output_type": "stream",
     "text": [
      "Adjusting learning rate of group 0 to 1.0000e-03.\n",
      "Epoch 138/200: lr=0.0010, mean batch time = 0.62s, mean data loading time = 0.43, Training loss = 0.9511,0.1266,0.0134,0.0067, Test accuracy = 62.50%,71.37%,74.47%,74.93%,\n"
     ]
    },
    {
     "name": "stderr",
     "output_type": "stream",
     "text": [
      "Training : 100%|██████████| 100/100 [01:02<00:00,  1.60it/s, Msg=Time 0.619s, Data 0.430s, Loss (0.953|0.124|0.013|0.007), Top1 (74.68%|96.67%|99.72%|99.82%|)]\n",
      "100%|██████████| 20/20 [00:02<00:00,  7.34it/s]\n",
      "Training :   0%|          | 0/100 [00:00<?, ?it/s]"
     ]
    },
    {
     "name": "stdout",
     "output_type": "stream",
     "text": [
      "Adjusting learning rate of group 0 to 1.0000e-03.\n",
      "Epoch 139/200: lr=0.0010, mean batch time = 0.62s, mean data loading time = 0.43, Training loss = 0.9532,0.1237,0.0131,0.0066, Test accuracy = 62.49%,71.37%,74.40%,74.92%,\n"
     ]
    },
    {
     "name": "stderr",
     "output_type": "stream",
     "text": [
      "Training : 100%|██████████| 100/100 [01:03<00:00,  1.58it/s, Msg=Time 0.627s, Data 0.436s, Loss (0.948|0.121|0.012|0.006), Top1 (74.75%|96.75%|99.79%|99.87%|)]\n",
      "100%|██████████| 20/20 [00:02<00:00,  7.24it/s]\n",
      "Training :   0%|          | 0/100 [00:00<?, ?it/s]"
     ]
    },
    {
     "name": "stdout",
     "output_type": "stream",
     "text": [
      "Adjusting learning rate of group 0 to 1.0000e-03.\n",
      "Epoch 140/200: lr=0.0010, mean batch time = 0.63s, mean data loading time = 0.44, Training loss = 0.9484,0.1206,0.0117,0.0056, Test accuracy = 62.21%,71.50%,74.42%,74.84%,\n"
     ]
    },
    {
     "name": "stderr",
     "output_type": "stream",
     "text": [
      "Training : 100%|██████████| 100/100 [01:01<00:00,  1.62it/s, Msg=Time 0.614s, Data 0.426s, Loss (0.945|0.117|0.012|0.006), Top1 (75.08%|96.91%|99.78%|99.86%|)]\n",
      "100%|██████████| 20/20 [00:02<00:00,  6.74it/s]\n",
      "Training :   0%|          | 0/100 [00:00<?, ?it/s]"
     ]
    },
    {
     "name": "stdout",
     "output_type": "stream",
     "text": [
      "Adjusting learning rate of group 0 to 1.0000e-03.\n",
      "Epoch 141/200: lr=0.0010, mean batch time = 0.61s, mean data loading time = 0.43, Training loss = 0.9454,0.1173,0.0117,0.0057, Test accuracy = 62.30%,71.45%,74.54%,74.92%,\n"
     ]
    },
    {
     "name": "stderr",
     "output_type": "stream",
     "text": [
      "Training : 100%|██████████| 100/100 [01:02<00:00,  1.60it/s, Msg=Time 0.622s, Data 0.431s, Loss (0.943|0.117|0.011|0.006), Top1 (75.07%|96.82%|99.78%|99.87%|)]\n",
      "100%|██████████| 20/20 [00:02<00:00,  6.73it/s]\n",
      "Training :   0%|          | 0/100 [00:00<?, ?it/s]"
     ]
    },
    {
     "name": "stdout",
     "output_type": "stream",
     "text": [
      "Adjusting learning rate of group 0 to 1.0000e-03.\n",
      "Epoch 142/200: lr=0.0010, mean batch time = 0.62s, mean data loading time = 0.43, Training loss = 0.9431,0.1165,0.0114,0.0057, Test accuracy = 62.48%,71.36%,74.30%,74.91%,\n"
     ]
    },
    {
     "name": "stderr",
     "output_type": "stream",
     "text": [
      "Training : 100%|██████████| 100/100 [01:02<00:00,  1.59it/s, Msg=Time 0.624s, Data 0.432s, Loss (0.944|0.114|0.011|0.005), Top1 (74.95%|96.99%|99.80%|99.88%|)]\n",
      "100%|██████████| 20/20 [00:02<00:00,  7.25it/s]\n",
      "Training :   0%|          | 0/100 [00:00<?, ?it/s]"
     ]
    },
    {
     "name": "stdout",
     "output_type": "stream",
     "text": [
      "Adjusting learning rate of group 0 to 1.0000e-03.\n",
      "Epoch 143/200: lr=0.0010, mean batch time = 0.62s, mean data loading time = 0.43, Training loss = 0.9440,0.1143,0.0108,0.0051, Test accuracy = 62.67%,71.47%,74.60%,74.74%,\n"
     ]
    },
    {
     "name": "stderr",
     "output_type": "stream",
     "text": [
      "Training : 100%|██████████| 100/100 [01:01<00:00,  1.62it/s, Msg=Time 0.614s, Data 0.426s, Loss (0.941|0.112|0.011|0.005), Top1 (75.00%|97.11%|99.80%|99.88%|)]\n",
      "100%|██████████| 20/20 [00:02<00:00,  7.76it/s]\n",
      "Training :   0%|          | 0/100 [00:00<?, ?it/s]"
     ]
    },
    {
     "name": "stdout",
     "output_type": "stream",
     "text": [
      "Adjusting learning rate of group 0 to 1.0000e-03.\n",
      "Epoch 144/200: lr=0.0010, mean batch time = 0.61s, mean data loading time = 0.43, Training loss = 0.9410,0.1122,0.0106,0.0051, Test accuracy = 62.69%,71.57%,74.45%,75.03%,\n"
     ]
    },
    {
     "name": "stderr",
     "output_type": "stream",
     "text": [
      "Training : 100%|██████████| 100/100 [01:01<00:00,  1.63it/s, Msg=Time 0.609s, Data 0.422s, Loss (0.940|0.112|0.010|0.005), Top1 (75.20%|97.05%|99.80%|99.87%|)]\n",
      "100%|██████████| 20/20 [00:02<00:00,  6.88it/s]\n",
      "Training :   0%|          | 0/100 [00:00<?, ?it/s]"
     ]
    },
    {
     "name": "stdout",
     "output_type": "stream",
     "text": [
      "Adjusting learning rate of group 0 to 1.0000e-03.\n",
      "Epoch 145/200: lr=0.0010, mean batch time = 0.61s, mean data loading time = 0.42, Training loss = 0.9404,0.1117,0.0103,0.0050, Test accuracy = 62.61%,71.38%,74.60%,75.05%,\n"
     ]
    },
    {
     "name": "stderr",
     "output_type": "stream",
     "text": [
      "Training : 100%|██████████| 100/100 [01:01<00:00,  1.62it/s, Msg=Time 0.614s, Data 0.424s, Loss (0.936|0.109|0.010|0.005), Top1 (75.31%|97.19%|99.80%|99.88%|)]\n",
      "100%|██████████| 20/20 [00:02<00:00,  7.05it/s]\n",
      "Training :   0%|          | 0/100 [00:00<?, ?it/s]"
     ]
    },
    {
     "name": "stdout",
     "output_type": "stream",
     "text": [
      "Adjusting learning rate of group 0 to 1.0000e-03.\n",
      "Epoch 146/200: lr=0.0010, mean batch time = 0.61s, mean data loading time = 0.42, Training loss = 0.9357,0.1088,0.0099,0.0048, Test accuracy = 62.51%,71.48%,74.57%,74.88%,\n"
     ]
    },
    {
     "name": "stderr",
     "output_type": "stream",
     "text": [
      "Training : 100%|██████████| 100/100 [01:02<00:00,  1.59it/s, Msg=Time 0.623s, Data 0.430s, Loss (0.938|0.110|0.010|0.005), Top1 (74.96%|97.06%|99.80%|99.88%|)]\n",
      "100%|██████████| 20/20 [00:02<00:00,  7.50it/s]\n",
      "Training :   0%|          | 0/100 [00:00<?, ?it/s]"
     ]
    },
    {
     "name": "stdout",
     "output_type": "stream",
     "text": [
      "Adjusting learning rate of group 0 to 1.0000e-03.\n",
      "Epoch 147/200: lr=0.0010, mean batch time = 0.62s, mean data loading time = 0.43, Training loss = 0.9380,0.1101,0.0102,0.0049, Test accuracy = 62.46%,71.43%,74.60%,74.92%,\n"
     ]
    },
    {
     "name": "stderr",
     "output_type": "stream",
     "text": [
      "Training : 100%|██████████| 100/100 [01:01<00:00,  1.62it/s, Msg=Time 0.613s, Data 0.421s, Loss (0.937|0.108|0.010|0.004), Top1 (75.13%|97.18%|99.82%|99.90%|)]\n",
      "100%|██████████| 20/20 [00:02<00:00,  7.07it/s]\n",
      "Training :   0%|          | 0/100 [00:00<?, ?it/s]"
     ]
    },
    {
     "name": "stdout",
     "output_type": "stream",
     "text": [
      "Adjusting learning rate of group 0 to 1.0000e-03.\n",
      "Epoch 148/200: lr=0.0010, mean batch time = 0.61s, mean data loading time = 0.42, Training loss = 0.9368,0.1077,0.0098,0.0043, Test accuracy = 62.37%,71.51%,74.52%,74.81%,\n"
     ]
    },
    {
     "name": "stderr",
     "output_type": "stream",
     "text": [
      "Training : 100%|██████████| 100/100 [01:02<00:00,  1.61it/s, Msg=Time 0.617s, Data 0.422s, Loss (0.933|0.105|0.009|0.004), Top1 (75.28%|97.29%|99.81%|99.89%|)]\n",
      "100%|██████████| 20/20 [00:03<00:00,  6.36it/s]\n",
      "Training :   0%|          | 0/100 [00:00<?, ?it/s]"
     ]
    },
    {
     "name": "stdout",
     "output_type": "stream",
     "text": [
      "Adjusting learning rate of group 0 to 1.0000e-03.\n",
      "Epoch 149/200: lr=0.0010, mean batch time = 0.62s, mean data loading time = 0.42, Training loss = 0.9334,0.1048,0.0094,0.0044, Test accuracy = 62.66%,71.32%,74.06%,74.53%,\n"
     ]
    },
    {
     "name": "stderr",
     "output_type": "stream",
     "text": [
      "Training : 100%|██████████| 100/100 [01:02<00:00,  1.60it/s, Msg=Time 0.622s, Data 0.426s, Loss (0.932|0.106|0.009|0.004), Top1 (75.32%|97.18%|99.84%|99.89%|)]\n",
      "100%|██████████| 20/20 [00:02<00:00,  6.75it/s]\n",
      "Training :   0%|          | 0/100 [00:00<?, ?it/s]"
     ]
    },
    {
     "name": "stdout",
     "output_type": "stream",
     "text": [
      "Adjusting learning rate of group 0 to 1.0000e-03.\n",
      "Epoch 150/200: lr=0.0010, mean batch time = 0.62s, mean data loading time = 0.43, Training loss = 0.9319,0.1057,0.0092,0.0043, Test accuracy = 62.44%,71.24%,74.57%,74.77%,\n"
     ]
    },
    {
     "name": "stderr",
     "output_type": "stream",
     "text": [
      "Training : 100%|██████████| 100/100 [01:04<00:00,  1.56it/s, Msg=Time 0.636s, Data 0.441s, Loss (0.933|0.103|0.009|0.004), Top1 (75.31%|97.38%|99.84%|99.90%|)]\n",
      "100%|██████████| 20/20 [00:02<00:00,  7.55it/s]\n",
      "Training :   0%|          | 0/100 [00:00<?, ?it/s]"
     ]
    },
    {
     "name": "stdout",
     "output_type": "stream",
     "text": [
      "Adjusting learning rate of group 0 to 1.0000e-03.\n",
      "Epoch 151/200: lr=0.0010, mean batch time = 0.64s, mean data loading time = 0.44, Training loss = 0.9325,0.1031,0.0090,0.0042, Test accuracy = 62.48%,71.48%,74.59%,74.96%,\n"
     ]
    },
    {
     "name": "stderr",
     "output_type": "stream",
     "text": [
      "Training : 100%|██████████| 100/100 [01:01<00:00,  1.62it/s, Msg=Time 0.613s, Data 0.425s, Loss (0.926|0.102|0.008|0.004), Top1 (75.54%|97.43%|99.87%|99.90%|)]\n",
      "100%|██████████| 20/20 [00:02<00:00,  6.80it/s]\n",
      "Training :   0%|          | 0/100 [00:00<?, ?it/s]"
     ]
    },
    {
     "name": "stdout",
     "output_type": "stream",
     "text": [
      "Adjusting learning rate of group 0 to 1.0000e-03.\n",
      "Epoch 152/200: lr=0.0010, mean batch time = 0.61s, mean data loading time = 0.42, Training loss = 0.9264,0.1015,0.0083,0.0038, Test accuracy = 62.65%,71.33%,74.37%,74.69%,\n"
     ]
    },
    {
     "name": "stderr",
     "output_type": "stream",
     "text": [
      "Training : 100%|██████████| 100/100 [01:02<00:00,  1.60it/s, Msg=Time 0.621s, Data 0.431s, Loss (0.930|0.100|0.009|0.004), Top1 (75.41%|97.43%|99.82%|99.88%|)]\n",
      "100%|██████████| 20/20 [00:02<00:00,  7.39it/s]\n",
      "Training :   0%|          | 0/100 [00:00<?, ?it/s]"
     ]
    },
    {
     "name": "stdout",
     "output_type": "stream",
     "text": [
      "Adjusting learning rate of group 0 to 1.0000e-03.\n",
      "Epoch 153/200: lr=0.0010, mean batch time = 0.62s, mean data loading time = 0.43, Training loss = 0.9298,0.1002,0.0087,0.0044, Test accuracy = 62.81%,71.32%,74.34%,74.76%,\n"
     ]
    },
    {
     "name": "stderr",
     "output_type": "stream",
     "text": [
      "Training : 100%|██████████| 100/100 [01:01<00:00,  1.62it/s, Msg=Time 0.613s, Data 0.426s, Loss (0.930|0.099|0.008|0.004), Top1 (75.40%|97.53%|99.83%|99.89%|)]\n",
      "100%|██████████| 20/20 [00:02<00:00,  6.68it/s]\n",
      "Training :   0%|          | 0/100 [00:00<?, ?it/s]"
     ]
    },
    {
     "name": "stdout",
     "output_type": "stream",
     "text": [
      "Adjusting learning rate of group 0 to 1.0000e-03.\n",
      "Epoch 154/200: lr=0.0010, mean batch time = 0.61s, mean data loading time = 0.43, Training loss = 0.9297,0.0994,0.0084,0.0038, Test accuracy = 62.75%,71.45%,74.35%,74.84%,\n"
     ]
    },
    {
     "name": "stderr",
     "output_type": "stream",
     "text": [
      "Training : 100%|██████████| 100/100 [01:01<00:00,  1.63it/s, Msg=Time 0.610s, Data 0.424s, Loss (0.927|0.099|0.008|0.004), Top1 (75.49%|97.44%|99.86%|99.89%|)]\n",
      "100%|██████████| 20/20 [00:02<00:00,  6.72it/s]\n",
      "Training :   0%|          | 0/100 [00:00<?, ?it/s]"
     ]
    },
    {
     "name": "stdout",
     "output_type": "stream",
     "text": [
      "Adjusting learning rate of group 0 to 1.0000e-03.\n",
      "Epoch 155/200: lr=0.0010, mean batch time = 0.61s, mean data loading time = 0.42, Training loss = 0.9270,0.0990,0.0081,0.0038, Test accuracy = 62.58%,71.13%,74.18%,74.79%,\n"
     ]
    },
    {
     "name": "stderr",
     "output_type": "stream",
     "text": [
      "Training : 100%|██████████| 100/100 [01:02<00:00,  1.60it/s, Msg=Time 0.618s, Data 0.428s, Loss (0.926|0.097|0.007|0.003), Top1 (75.51%|97.60%|99.86%|99.91%|)]\n",
      "100%|██████████| 20/20 [00:02<00:00,  6.89it/s]\n",
      "Training :   0%|          | 0/100 [00:00<?, ?it/s]"
     ]
    },
    {
     "name": "stdout",
     "output_type": "stream",
     "text": [
      "Adjusting learning rate of group 0 to 1.0000e-03.\n",
      "Epoch 156/200: lr=0.0010, mean batch time = 0.62s, mean data loading time = 0.43, Training loss = 0.9257,0.0968,0.0075,0.0033, Test accuracy = 62.72%,71.23%,74.24%,74.66%,\n"
     ]
    },
    {
     "name": "stderr",
     "output_type": "stream",
     "text": [
      "Training : 100%|██████████| 100/100 [01:01<00:00,  1.62it/s, Msg=Time 0.613s, Data 0.425s, Loss (0.923|0.095|0.008|0.004), Top1 (75.52%|97.66%|99.87%|99.93%|)]\n",
      "100%|██████████| 20/20 [00:02<00:00,  6.78it/s]\n",
      "Training :   0%|          | 0/100 [00:00<?, ?it/s]"
     ]
    },
    {
     "name": "stdout",
     "output_type": "stream",
     "text": [
      "Adjusting learning rate of group 0 to 1.0000e-03.\n",
      "Epoch 157/200: lr=0.0010, mean batch time = 0.61s, mean data loading time = 0.43, Training loss = 0.9235,0.0952,0.0077,0.0035, Test accuracy = 63.06%,71.22%,74.32%,74.88%,\n"
     ]
    },
    {
     "name": "stderr",
     "output_type": "stream",
     "text": [
      "Training : 100%|██████████| 100/100 [01:01<00:00,  1.62it/s, Msg=Time 0.614s, Data 0.424s, Loss (0.926|0.096|0.008|0.003), Top1 (75.26%|97.63%|99.85%|99.90%|)]\n",
      "100%|██████████| 20/20 [00:03<00:00,  6.65it/s]\n",
      "Training :   0%|          | 0/100 [00:00<?, ?it/s]"
     ]
    },
    {
     "name": "stdout",
     "output_type": "stream",
     "text": [
      "Adjusting learning rate of group 0 to 1.0000e-03.\n",
      "Epoch 158/200: lr=0.0010, mean batch time = 0.61s, mean data loading time = 0.42, Training loss = 0.9258,0.0959,0.0076,0.0034, Test accuracy = 62.69%,71.32%,74.27%,74.57%,\n"
     ]
    },
    {
     "name": "stderr",
     "output_type": "stream",
     "text": [
      "Training : 100%|██████████| 100/100 [01:03<00:00,  1.58it/s, Msg=Time 0.628s, Data 0.435s, Loss (0.927|0.095|0.008|0.004), Top1 (75.37%|97.58%|99.86%|99.91%|)]\n",
      "100%|██████████| 20/20 [00:02<00:00,  6.84it/s]\n",
      "Training :   0%|          | 0/100 [00:00<?, ?it/s]"
     ]
    },
    {
     "name": "stdout",
     "output_type": "stream",
     "text": [
      "Adjusting learning rate of group 0 to 1.0000e-03.\n",
      "Epoch 159/200: lr=0.0010, mean batch time = 0.63s, mean data loading time = 0.44, Training loss = 0.9266,0.0953,0.0076,0.0036, Test accuracy = 62.64%,71.27%,74.37%,74.83%,\n"
     ]
    },
    {
     "name": "stderr",
     "output_type": "stream",
     "text": [
      "Training : 100%|██████████| 100/100 [01:01<00:00,  1.62it/s, Msg=Time 0.613s, Data 0.424s, Loss (0.923|0.094|0.007|0.003), Top1 (75.47%|97.69%|99.89%|99.93%|)]\n",
      "100%|██████████| 20/20 [00:02<00:00,  6.70it/s]\n",
      "Training :   0%|          | 0/100 [00:00<?, ?it/s]"
     ]
    },
    {
     "name": "stdout",
     "output_type": "stream",
     "text": [
      "Adjusting learning rate of group 0 to 1.0000e-03.\n",
      "Epoch 160/200: lr=0.0010, mean batch time = 0.61s, mean data loading time = 0.42, Training loss = 0.9231,0.0936,0.0071,0.0031, Test accuracy = 62.78%,71.41%,74.22%,74.70%,\n"
     ]
    },
    {
     "name": "stderr",
     "output_type": "stream",
     "text": [
      "Training : 100%|██████████| 100/100 [01:03<00:00,  1.58it/s, Msg=Time 0.630s, Data 0.436s, Loss (0.919|0.094|0.008|0.004), Top1 (75.66%|97.58%|99.84%|99.89%|)]\n",
      "100%|██████████| 20/20 [00:02<00:00,  7.27it/s]\n",
      "Training :   0%|          | 0/100 [00:00<?, ?it/s]"
     ]
    },
    {
     "name": "stdout",
     "output_type": "stream",
     "text": [
      "Adjusting learning rate of group 0 to 1.0000e-03.\n",
      "Epoch 161/200: lr=0.0010, mean batch time = 0.63s, mean data loading time = 0.44, Training loss = 0.9188,0.0944,0.0081,0.0040, Test accuracy = 62.80%,71.40%,74.21%,74.75%,\n"
     ]
    },
    {
     "name": "stderr",
     "output_type": "stream",
     "text": [
      "Training : 100%|██████████| 100/100 [01:01<00:00,  1.62it/s, Msg=Time 0.611s, Data 0.424s, Loss (0.918|0.091|0.007|0.003), Top1 (75.46%|97.81%|99.86%|99.91%|)]\n",
      "100%|██████████| 20/20 [00:02<00:00,  6.77it/s]\n",
      "Training :   0%|          | 0/100 [00:00<?, ?it/s]"
     ]
    },
    {
     "name": "stdout",
     "output_type": "stream",
     "text": [
      "Adjusting learning rate of group 0 to 1.0000e-03.\n",
      "Epoch 162/200: lr=0.0010, mean batch time = 0.61s, mean data loading time = 0.42, Training loss = 0.9176,0.0908,0.0071,0.0034, Test accuracy = 62.73%,71.26%,74.29%,74.76%,\n"
     ]
    },
    {
     "name": "stderr",
     "output_type": "stream",
     "text": [
      "Training : 100%|██████████| 100/100 [01:02<00:00,  1.60it/s, Msg=Time 0.621s, Data 0.430s, Loss (0.920|0.093|0.008|0.004), Top1 (75.58%|97.57%|99.83%|99.90%|)]\n",
      "100%|██████████| 20/20 [00:02<00:00,  6.81it/s]\n",
      "Training :   0%|          | 0/100 [00:00<?, ?it/s]"
     ]
    },
    {
     "name": "stdout",
     "output_type": "stream",
     "text": [
      "Adjusting learning rate of group 0 to 1.0000e-03.\n",
      "Epoch 163/200: lr=0.0010, mean batch time = 0.62s, mean data loading time = 0.43, Training loss = 0.9204,0.0930,0.0075,0.0036, Test accuracy = 62.77%,71.32%,74.21%,74.58%,\n"
     ]
    },
    {
     "name": "stderr",
     "output_type": "stream",
     "text": [
      "Training : 100%|██████████| 100/100 [01:01<00:00,  1.61it/s, Msg=Time 0.614s, Data 0.427s, Loss (0.918|0.090|0.007|0.003), Top1 (75.76%|97.76%|99.89%|99.93%|)]\n",
      "100%|██████████| 20/20 [00:02<00:00,  7.38it/s]\n",
      "Training :   0%|          | 0/100 [00:00<?, ?it/s]"
     ]
    },
    {
     "name": "stdout",
     "output_type": "stream",
     "text": [
      "Adjusting learning rate of group 0 to 1.0000e-03.\n",
      "Epoch 164/200: lr=0.0010, mean batch time = 0.61s, mean data loading time = 0.43, Training loss = 0.9179,0.0903,0.0071,0.0033, Test accuracy = 62.61%,71.30%,74.12%,74.64%,\n"
     ]
    },
    {
     "name": "stderr",
     "output_type": "stream",
     "text": [
      "Training : 100%|██████████| 100/100 [01:01<00:00,  1.62it/s, Msg=Time 0.611s, Data 0.425s, Loss (0.918|0.091|0.007|0.003), Top1 (75.72%|97.76%|99.86%|99.91%|)]\n",
      "100%|██████████| 20/20 [00:03<00:00,  6.66it/s]\n",
      "Training :   0%|          | 0/100 [00:00<?, ?it/s]"
     ]
    },
    {
     "name": "stdout",
     "output_type": "stream",
     "text": [
      "Adjusting learning rate of group 0 to 1.0000e-03.\n",
      "Epoch 165/200: lr=0.0010, mean batch time = 0.61s, mean data loading time = 0.43, Training loss = 0.9181,0.0909,0.0070,0.0033, Test accuracy = 62.76%,71.28%,74.22%,74.53%,\n"
     ]
    },
    {
     "name": "stderr",
     "output_type": "stream",
     "text": [
      "Training : 100%|██████████| 100/100 [01:02<00:00,  1.61it/s, Msg=Time 0.616s, Data 0.426s, Loss (0.915|0.088|0.007|0.003), Top1 (75.73%|97.88%|99.85%|99.90%|)]\n",
      "100%|██████████| 20/20 [00:02<00:00,  7.33it/s]\n",
      "Training :   0%|          | 0/100 [00:00<?, ?it/s]"
     ]
    },
    {
     "name": "stdout",
     "output_type": "stream",
     "text": [
      "Adjusting learning rate of group 0 to 1.0000e-03.\n",
      "Epoch 167/200: lr=0.0010, mean batch time = 0.62s, mean data loading time = 0.43, Training loss = 0.9146,0.0883,0.0072,0.0033, Test accuracy = 62.81%,71.39%,74.10%,74.65%,\n"
     ]
    },
    {
     "name": "stderr",
     "output_type": "stream",
     "text": [
      "Training : 100%|██████████| 100/100 [01:00<00:00,  1.65it/s, Msg=Time 0.603s, Data 0.419s, Loss (0.914|0.087|0.007|0.003), Top1 (75.77%|97.88%|99.88%|99.92%|)]\n",
      "100%|██████████| 20/20 [00:02<00:00,  6.87it/s]\n",
      "Training :   0%|          | 0/100 [00:00<?, ?it/s]"
     ]
    },
    {
     "name": "stdout",
     "output_type": "stream",
     "text": [
      "Adjusting learning rate of group 0 to 1.0000e-03.\n",
      "Epoch 168/200: lr=0.0010, mean batch time = 0.60s, mean data loading time = 0.42, Training loss = 0.9136,0.0866,0.0067,0.0031, Test accuracy = 62.82%,71.14%,74.00%,74.53%,\n"
     ]
    },
    {
     "name": "stderr",
     "output_type": "stream",
     "text": [
      "Training : 100%|██████████| 100/100 [01:02<00:00,  1.59it/s, Msg=Time 0.622s, Data 0.432s, Loss (0.913|0.086|0.006|0.003), Top1 (75.83%|98.00%|99.91%|99.94%|)]\n",
      "100%|██████████| 20/20 [00:02<00:00,  7.30it/s]\n",
      "Training :   0%|          | 0/100 [00:00<?, ?it/s]"
     ]
    },
    {
     "name": "stdout",
     "output_type": "stream",
     "text": [
      "Adjusting learning rate of group 0 to 1.0000e-03.\n",
      "Epoch 169/200: lr=0.0010, mean batch time = 0.62s, mean data loading time = 0.43, Training loss = 0.9126,0.0862,0.0062,0.0027, Test accuracy = 62.66%,71.30%,74.10%,74.68%,\n"
     ]
    },
    {
     "name": "stderr",
     "output_type": "stream",
     "text": [
      "Training : 100%|██████████| 100/100 [01:01<00:00,  1.62it/s, Msg=Time 0.612s, Data 0.424s, Loss (0.912|0.086|0.007|0.003), Top1 (75.76%|97.85%|99.87%|99.93%|)]\n",
      "100%|██████████| 20/20 [00:02<00:00,  7.26it/s]\n",
      "Training :   0%|          | 0/100 [00:00<?, ?it/s]"
     ]
    },
    {
     "name": "stdout",
     "output_type": "stream",
     "text": [
      "Adjusting learning rate of group 0 to 1.0000e-03.\n",
      "Epoch 170/200: lr=0.0010, mean batch time = 0.61s, mean data loading time = 0.42, Training loss = 0.9123,0.0864,0.0067,0.0032, Test accuracy = 62.74%,71.41%,74.32%,74.81%,\n"
     ]
    },
    {
     "name": "stderr",
     "output_type": "stream",
     "text": [
      "Training : 100%|██████████| 100/100 [01:03<00:00,  1.58it/s, Msg=Time 0.627s, Data 0.435s, Loss (0.913|0.085|0.007|0.003), Top1 (75.83%|97.91%|99.86%|99.91%|)]\n",
      "100%|██████████| 20/20 [00:02<00:00,  7.82it/s]\n",
      "Training :   0%|          | 0/100 [00:00<?, ?it/s]"
     ]
    },
    {
     "name": "stdout",
     "output_type": "stream",
     "text": [
      "Adjusting learning rate of group 0 to 1.0000e-03.\n",
      "Epoch 171/200: lr=0.0010, mean batch time = 0.63s, mean data loading time = 0.43, Training loss = 0.9132,0.0848,0.0068,0.0035, Test accuracy = 62.92%,71.30%,74.19%,74.57%,\n"
     ]
    },
    {
     "name": "stderr",
     "output_type": "stream",
     "text": [
      "Training : 100%|██████████| 100/100 [01:01<00:00,  1.61it/s, Msg=Time 0.614s, Data 0.427s, Loss (0.911|0.085|0.007|0.003), Top1 (75.86%|97.93%|99.87%|99.91%|)]\n",
      "100%|██████████| 20/20 [00:02<00:00,  7.09it/s]\n",
      "Training :   0%|          | 0/100 [00:00<?, ?it/s]"
     ]
    },
    {
     "name": "stdout",
     "output_type": "stream",
     "text": [
      "Adjusting learning rate of group 0 to 1.0000e-03.\n",
      "Epoch 172/200: lr=0.0010, mean batch time = 0.61s, mean data loading time = 0.43, Training loss = 0.9114,0.0847,0.0067,0.0033, Test accuracy = 62.92%,71.40%,74.11%,74.58%,\n"
     ]
    },
    {
     "name": "stderr",
     "output_type": "stream",
     "text": [
      "Training : 100%|██████████| 100/100 [01:02<00:00,  1.59it/s, Msg=Time 0.622s, Data 0.431s, Loss (0.908|0.084|0.006|0.003), Top1 (76.10%|97.92%|99.90%|99.93%|)]\n",
      "100%|██████████| 20/20 [00:02<00:00,  7.08it/s]\n",
      "Training :   0%|          | 0/100 [00:00<?, ?it/s]"
     ]
    },
    {
     "name": "stdout",
     "output_type": "stream",
     "text": [
      "Adjusting learning rate of group 0 to 1.0000e-03.\n",
      "Epoch 173/200: lr=0.0010, mean batch time = 0.62s, mean data loading time = 0.43, Training loss = 0.9082,0.0845,0.0063,0.0030, Test accuracy = 62.95%,71.40%,74.10%,74.60%,\n"
     ]
    },
    {
     "name": "stderr",
     "output_type": "stream",
     "text": [
      "Training : 100%|██████████| 100/100 [01:00<00:00,  1.65it/s, Msg=Time 0.603s, Data 0.418s, Loss (0.912|0.085|0.006|0.003), Top1 (75.84%|97.92%|99.88%|99.94%|)]\n",
      "100%|██████████| 20/20 [00:02<00:00,  7.37it/s]\n",
      "Training :   0%|          | 0/100 [00:00<?, ?it/s]"
     ]
    },
    {
     "name": "stdout",
     "output_type": "stream",
     "text": [
      "Adjusting learning rate of group 0 to 1.0000e-03.\n",
      "Epoch 174/200: lr=0.0010, mean batch time = 0.60s, mean data loading time = 0.42, Training loss = 0.9122,0.0852,0.0064,0.0027, Test accuracy = 62.80%,71.27%,74.36%,74.82%,\n"
     ]
    },
    {
     "name": "stderr",
     "output_type": "stream",
     "text": [
      "Training : 100%|██████████| 100/100 [01:01<00:00,  1.62it/s, Msg=Time 0.614s, Data 0.426s, Loss (0.909|0.083|0.006|0.003), Top1 (76.00%|97.95%|99.89%|99.92%|)]\n",
      "100%|██████████| 20/20 [00:02<00:00,  7.35it/s]\n",
      "Training :   0%|          | 0/100 [00:00<?, ?it/s]"
     ]
    },
    {
     "name": "stdout",
     "output_type": "stream",
     "text": [
      "Adjusting learning rate of group 0 to 1.0000e-03.\n",
      "Epoch 175/200: lr=0.0010, mean batch time = 0.61s, mean data loading time = 0.43, Training loss = 0.9085,0.0831,0.0060,0.0027, Test accuracy = 62.84%,71.18%,74.31%,74.54%,\n"
     ]
    },
    {
     "name": "stderr",
     "output_type": "stream",
     "text": [
      "Training : 100%|██████████| 100/100 [01:02<00:00,  1.61it/s, Msg=Time 0.617s, Data 0.424s, Loss (0.907|0.083|0.006|0.003), Top1 (75.98%|98.00%|99.88%|99.92%|)]\n",
      "100%|██████████| 20/20 [00:02<00:00,  7.37it/s]\n",
      "Training :   0%|          | 0/100 [00:00<?, ?it/s]"
     ]
    },
    {
     "name": "stdout",
     "output_type": "stream",
     "text": [
      "Adjusting learning rate of group 0 to 1.0000e-03.\n",
      "Epoch 176/200: lr=0.0010, mean batch time = 0.62s, mean data loading time = 0.42, Training loss = 0.9066,0.0833,0.0065,0.0031, Test accuracy = 62.87%,71.58%,74.28%,74.61%,\n"
     ]
    },
    {
     "name": "stderr",
     "output_type": "stream",
     "text": [
      "Training : 100%|██████████| 100/100 [01:01<00:00,  1.63it/s, Msg=Time 0.607s, Data 0.422s, Loss (0.909|0.083|0.006|0.003), Top1 (75.93%|98.00%|99.90%|99.93%|)]\n",
      "100%|██████████| 20/20 [00:02<00:00,  6.72it/s]\n",
      "Training :   0%|          | 0/100 [00:00<?, ?it/s]"
     ]
    },
    {
     "name": "stdout",
     "output_type": "stream",
     "text": [
      "Adjusting learning rate of group 0 to 1.0000e-03.\n",
      "Epoch 177/200: lr=0.0010, mean batch time = 0.61s, mean data loading time = 0.42, Training loss = 0.9092,0.0834,0.0064,0.0031, Test accuracy = 62.88%,71.37%,74.15%,74.58%,\n"
     ]
    },
    {
     "name": "stderr",
     "output_type": "stream",
     "text": [
      "Training : 100%|██████████| 100/100 [01:02<00:00,  1.61it/s, Msg=Time 0.616s, Data 0.428s, Loss (0.906|0.082|0.006|0.003), Top1 (75.86%|98.13%|99.88%|99.92%|)]\n",
      "100%|██████████| 20/20 [00:02<00:00,  7.42it/s]\n",
      "Training :   0%|          | 0/100 [00:00<?, ?it/s]"
     ]
    },
    {
     "name": "stdout",
     "output_type": "stream",
     "text": [
      "Adjusting learning rate of group 0 to 1.0000e-03.\n",
      "Epoch 178/200: lr=0.0010, mean batch time = 0.62s, mean data loading time = 0.43, Training loss = 0.9062,0.0817,0.0063,0.0031, Test accuracy = 63.00%,71.34%,74.17%,74.48%,\n"
     ]
    },
    {
     "name": "stderr",
     "output_type": "stream",
     "text": [
      "Training : 100%|██████████| 100/100 [01:01<00:00,  1.63it/s, Msg=Time 0.610s, Data 0.423s, Loss (0.907|0.081|0.006|0.003), Top1 (76.02%|98.12%|99.88%|99.93%|)]\n",
      "100%|██████████| 20/20 [00:02<00:00,  7.31it/s]\n",
      "Training :   0%|          | 0/100 [00:00<?, ?it/s]"
     ]
    },
    {
     "name": "stdout",
     "output_type": "stream",
     "text": [
      "Adjusting learning rate of group 0 to 1.0000e-03.\n",
      "Epoch 179/200: lr=0.0010, mean batch time = 0.61s, mean data loading time = 0.42, Training loss = 0.9071,0.0810,0.0059,0.0025, Test accuracy = 62.92%,71.36%,74.09%,74.47%,\n"
     ]
    },
    {
     "name": "stderr",
     "output_type": "stream",
     "text": [
      "Training : 100%|██████████| 100/100 [01:01<00:00,  1.63it/s, Msg=Time 0.610s, Data 0.423s, Loss (0.905|0.080|0.006|0.003), Top1 (76.01%|98.08%|99.90%|99.93%|)]\n",
      "100%|██████████| 20/20 [00:03<00:00,  6.66it/s]\n",
      "Training :   0%|          | 0/100 [00:00<?, ?it/s]"
     ]
    },
    {
     "name": "stdout",
     "output_type": "stream",
     "text": [
      "Adjusting learning rate of group 0 to 1.0000e-04.\n",
      "Epoch 180/200: lr=0.0001, mean batch time = 0.61s, mean data loading time = 0.42, Training loss = 0.9048,0.0804,0.0061,0.0028, Test accuracy = 62.65%,71.21%,74.04%,74.48%,\n"
     ]
    },
    {
     "name": "stderr",
     "output_type": "stream",
     "text": [
      "Training :  88%|████████▊ | 88/100 [00:54<00:07,  1.60it/s, Msg=Time 0.619s, Data 0.426s, Loss (0.900|0.078|0.006|0.003), Top1 (75.97%|98.14%|99.89%|99.93%|)]"
     ]
    }
   ],
   "source": [
    "from train_utils import AverageMeter\n",
    "from train_utils import dsn_validate, dsn_train\n",
    "from tqdm import tqdm\n",
    "\n",
    "losses = []\n",
    "acces = []\n",
    "for epoch in range(start_epoch, num_epoch):\n",
    "    # training\n",
    "    batch_time,data_time,l1,l2,l3,l4 = dsn_train(model, train_loader,\n",
    "                                             optimizer, criterion, temperature)\n",
    "    # Validation\n",
    "    t1,t2,t3,t4 = dsn_validate(model,test_loader)\n",
    "    lr_schedule.step()\n",
    "    \n",
    "    losses.append([l1,l2,l3,l4])\n",
    "    acces.append([t1,t2,t3,t4])\n",
    "    start_epoch = epoch\n",
    "    log_info = \"Epoch %d/%d: lr=%.4f, \"\\\n",
    "          \"mean batch time = %.2fs, mean data loading time = %.2f, \"\\\n",
    "          \"Training loss = %.4f,%.4f,%.4f,%.4f, \"\\\n",
    "          \"Test accuracy = %.2f%%,%.2f%%,%.2f%%,%.2f%%,\" % (\n",
    "        epoch+1,num_epoch, optimizer.state_dict()['param_groups'][0]['lr'], \n",
    "        batch_time,data_time,\n",
    "        l1,l2,l3,l4, \n",
    "        t1,t2,t3,t4)\n",
    "    with open(log_path,'a') as f:\n",
    "        f.write(log_info+\"\\r\\n\")\n",
    "    print(log_info)"
   ]
  },
  {
   "cell_type": "code",
   "execution_count": 8,
   "id": "0d09c8d6",
   "metadata": {},
   "outputs": [],
   "source": [
    "torch.save(model.state_dict(),\"./models/ResNetFSS-BK-Ratio0.5-Epoch200-66.42%-71.46%-75.03%-75.43%.pth\")"
   ]
  },
  {
   "cell_type": "code",
   "execution_count": 24,
   "id": "23e3474b",
   "metadata": {},
   "outputs": [
    {
     "name": "stderr",
     "output_type": "stream",
     "text": [
      "100%|██████████| 10/10 [00:02<00:00,  4.63it/s]\n"
     ]
    },
    {
     "data": {
      "text/plain": [
       "(tensor(56.9900, device='cuda:0'),\n",
       " tensor(64.4300, device='cuda:0'),\n",
       " tensor(68.4300, device='cuda:0'),\n",
       " tensor(69.7500, device='cuda:0'))"
      ]
     },
     "execution_count": 24,
     "metadata": {},
     "output_type": "execute_result"
    }
   ],
   "source": [
    "# model.module\n",
    "dsn_validate(model,test_loader)"
   ]
  },
  {
   "cell_type": "code",
   "execution_count": 11,
   "id": "348cf44d",
   "metadata": {},
   "outputs": [],
   "source": [
    "x=[torch.randn(10,100).unsqueeze_(1),torch.randn(10,100).unsqueeze_(1),torch.randn(10,100).unsqueeze_(1)]\n",
    "y = torch.cat(x,1)\n",
    "# y=wp(x)"
   ]
  },
  {
   "cell_type": "code",
   "execution_count": 15,
   "id": "e590501f",
   "metadata": {},
   "outputs": [
    {
     "data": {
      "text/plain": [
       "torch.Size([10, 100])"
      ]
     },
     "execution_count": 15,
     "metadata": {},
     "output_type": "execute_result"
    }
   ],
   "source": [
    "# y.shape\n",
    "conv=torch.nn.Conv1d(3,1,1)\n",
    "conv(y).squeeze_(1).shape"
   ]
  },
  {
   "cell_type": "code",
   "execution_count": 38,
   "id": "21f63771",
   "metadata": {
    "collapsed": true,
    "jupyter": {
     "outputs_hidden": true
    }
   },
   "outputs": [
    {
     "data": {
      "text/plain": [
       "array([[32.52    , 46.41    , 48.149998, 48.329998],\n",
       "       [22.72    , 32.3     , 39.26    , 39.399998],\n",
       "       [35.69    , 45.78    , 53.17    , 54.09    ],\n",
       "       [34.64    , 47.21    , 52.18    , 54.14    ],\n",
       "       [36.219997, 52.309998, 58.32    , 58.67    ],\n",
       "       [38.39    , 53.14    , 58.559998, 60.      ],\n",
       "       [39.629997, 53.39    , 59.42    , 61.269997],\n",
       "       [37.67    , 53.42    , 58.579998, 60.35    ],\n",
       "       [40.829998, 55.579998, 62.39    , 63.309998],\n",
       "       [41.649998, 55.57    , 62.89    , 64.4     ],\n",
       "       [39.96    , 54.78    , 62.16    , 62.649998],\n",
       "       [39.739998, 54.309998, 61.239998, 63.019997],\n",
       "       [40.18    , 58.05    , 64.68    , 65.979996],\n",
       "       [43.68    , 56.949997, 61.219997, 62.5     ],\n",
       "       [45.21    , 57.09    , 63.579998, 63.85    ],\n",
       "       [41.66    , 54.53    , 61.8     , 63.579998],\n",
       "       [46.78    , 58.09    , 63.64    , 65.03    ],\n",
       "       [43.03    , 55.93    , 62.829998, 63.44    ],\n",
       "       [42.28    , 56.8     , 62.03    , 62.89    ],\n",
       "       [41.16    , 54.219997, 59.51    , 60.989998],\n",
       "       [41.09    , 57.379997, 62.07    , 63.379997],\n",
       "       [43.35    , 57.059998, 61.53    , 63.44    ],\n",
       "       [40.21    , 53.609997, 61.699997, 62.5     ],\n",
       "       [41.829998, 54.21    , 60.769997, 61.879997],\n",
       "       [43.92    , 57.359997, 64.38    , 65.14    ],\n",
       "       [39.649998, 54.37    , 62.3     , 62.739998],\n",
       "       [44.079998, 57.129997, 63.539997, 64.71    ],\n",
       "       [42.53    , 59.05    , 63.6     , 64.84    ],\n",
       "       [38.969997, 54.699997, 60.76    , 61.93    ],\n",
       "       [41.      , 55.51    , 62.78    , 63.559998],\n",
       "       [43.71    , 57.719997, 60.859997, 62.379997],\n",
       "       [41.96    , 58.59    , 63.94    , 64.95    ],\n",
       "       [46.21    , 61.28    , 63.769997, 65.25    ],\n",
       "       [43.57    , 57.68    , 64.32    , 64.45    ],\n",
       "       [45.53    , 58.6     , 65.51    , 66.479996],\n",
       "       [42.42    , 58.39    , 64.96    , 65.59    ],\n",
       "       [43.68    , 57.01    , 63.879997, 65.189995],\n",
       "       [42.78    , 54.539997, 62.75    , 63.8     ],\n",
       "       [41.91    , 56.149998, 63.76    , 64.939995],\n",
       "       [37.27    , 52.12    , 60.      , 61.09    ],\n",
       "       [44.789997, 58.67    , 63.079998, 63.699997],\n",
       "       [41.5     , 55.539997, 60.84    , 62.359997],\n",
       "       [45.899998, 57.57    , 65.18    , 66.439995],\n",
       "       [38.7     , 56.949997, 62.129997, 64.11    ],\n",
       "       [45.84    , 59.399998, 65.619995, 65.79    ],\n",
       "       [46.36    , 56.59    , 63.289997, 64.31    ],\n",
       "       [43.59    , 54.57    , 62.489998, 63.489998],\n",
       "       [42.92    , 55.19    , 61.129997, 62.199997],\n",
       "       [42.78    , 57.039997, 62.449997, 63.929996],\n",
       "       [43.43    , 59.03    , 65.049995, 66.02    ],\n",
       "       [41.989998, 57.57    , 62.739998, 64.689995],\n",
       "       [43.34    , 58.809998, 63.98    , 65.31    ],\n",
       "       [43.96    , 60.6     , 65.189995, 66.299995],\n",
       "       [44.95    , 57.43    , 63.62    , 65.33    ],\n",
       "       [41.69    , 54.26    , 62.129997, 63.429996],\n",
       "       [45.989998, 58.59    , 64.49    , 65.52    ],\n",
       "       [41.82    , 60.53    , 64.729996, 66.2     ],\n",
       "       [45.289997, 58.46    , 64.79    , 66.119995],\n",
       "       [46.27    , 57.03    , 64.67    , 65.33    ],\n",
       "       [44.23    , 56.09    , 61.629997, 63.219997],\n",
       "       [47.12    , 56.91    , 63.489998, 64.04    ],\n",
       "       [44.34    , 53.84    , 63.629997, 64.939995],\n",
       "       [42.39    , 57.379997, 62.469997, 64.11    ],\n",
       "       [43.39    , 53.949997, 62.649998, 63.14    ],\n",
       "       [45.93    , 58.      , 64.11    , 65.36    ],\n",
       "       [45.2     , 57.789997, 63.059998, 64.11    ],\n",
       "       [48.36    , 59.12    , 64.46    , 65.549995],\n",
       "       [44.34    , 57.48    , 63.82    , 64.299995],\n",
       "       [43.3     , 59.68    , 64.78    , 65.92    ],\n",
       "       [44.2     , 59.12    , 63.769997, 64.84    ],\n",
       "       [41.969997, 56.89    , 60.39    , 62.53    ],\n",
       "       [44.21    , 57.85    , 64.6     , 65.4     ],\n",
       "       [42.84    , 54.67    , 62.55    , 63.469997],\n",
       "       [41.969997, 58.87    , 62.78    , 64.04    ],\n",
       "       [40.02    , 60.309998, 63.78    , 65.26    ],\n",
       "       [57.719997, 68.58    , 72.67    , 73.17    ],\n",
       "       [58.09    , 69.08    , 73.409996, 73.97    ],\n",
       "       [57.75    , 69.14    , 73.369995, 73.77    ],\n",
       "       [58.559998, 69.32    , 73.509995, 74.08    ],\n",
       "       [58.41    , 68.79    , 73.1     , 73.689995],\n",
       "       [58.289997, 68.78    , 73.14    , 73.939995],\n",
       "       [58.379997, 68.78    , 73.31    , 73.88    ],\n",
       "       [58.59    , 68.86    , 73.11    , 73.659996],\n",
       "       [58.42    , 68.99    , 73.229996, 73.53    ],\n",
       "       [58.079998, 68.979996, 73.08    , 73.53    ],\n",
       "       [58.199997, 68.75    , 73.04    , 73.4     ],\n",
       "       [57.809998, 68.83    , 73.07    , 73.36    ],\n",
       "       [58.23    , 68.75    , 72.75    , 73.35    ],\n",
       "       [58.449997, 68.72    , 72.7     , 73.25    ],\n",
       "       [58.44    , 68.409996, 72.65    , 73.15    ],\n",
       "       [58.55    , 68.15    , 72.58    , 73.24    ],\n",
       "       [58.      , 68.49    , 72.78    , 73.54    ],\n",
       "       [58.28    , 68.71    , 72.659996, 73.24    ],\n",
       "       [58.579998, 68.299995, 72.56    , 72.93    ],\n",
       "       [57.989998, 67.97    , 72.619995, 73.189995],\n",
       "       [58.09    , 67.9     , 72.54    , 73.22    ],\n",
       "       [57.629997, 68.159996, 72.729996, 73.31    ],\n",
       "       [57.93    , 67.95    , 72.64    , 72.95    ],\n",
       "       [57.53    , 67.74    , 72.65    , 73.03    ],\n",
       "       [58.199997, 67.88    , 72.549995, 73.07    ],\n",
       "       [58.85    , 68.119995, 72.65    , 72.85    ],\n",
       "       [57.82    , 67.729996, 72.33    , 73.1     ],\n",
       "       [58.05    , 67.84    , 72.54    , 72.93    ],\n",
       "       [58.57    , 67.54    , 72.38    , 73.24    ],\n",
       "       [57.829998, 67.27    , 72.45    , 73.02    ],\n",
       "       [58.239998, 67.49    , 72.47    , 72.93    ],\n",
       "       [57.67    , 67.27    , 72.21    , 72.689995],\n",
       "       [58.09    , 67.799995, 72.33    , 73.13    ],\n",
       "       [58.19    , 67.28    , 72.159996, 72.79    ],\n",
       "       [57.8     , 67.759995, 72.33    , 73.119995],\n",
       "       [57.75    , 67.7     , 72.2     , 72.619995],\n",
       "       [58.05    , 67.2     , 72.46    , 72.9     ],\n",
       "       [58.26    , 67.549995, 72.29    , 72.759995],\n",
       "       [57.89    , 67.549995, 72.17    , 72.99    ],\n",
       "       [57.329998, 67.28    , 71.78    , 72.38    ],\n",
       "       [57.879997, 66.95    , 71.799995, 72.4     ],\n",
       "       [57.609997, 67.15    , 72.18    , 72.88    ],\n",
       "       [57.469997, 66.99    , 71.81    , 72.43    ],\n",
       "       [58.03    , 66.77    , 72.29    , 72.92    ],\n",
       "       [57.92    , 66.759995, 72.42    , 72.79    ],\n",
       "       [57.579998, 66.78    , 72.      , 72.67    ],\n",
       "       [57.41    , 67.2     , 72.479996, 72.86    ],\n",
       "       [57.78    , 66.86    , 72.27    , 72.82    ],\n",
       "       [57.859997, 66.729996, 71.83    , 72.65    ],\n",
       "       [57.739998, 66.93    , 71.93    , 72.82    ]], dtype=float32)"
      ]
     },
     "execution_count": 38,
     "metadata": {},
     "output_type": "execute_result"
    }
   ],
   "source": [
    "# def ten2np(tensor_list):\n",
    "#     return np.array([[item.cpu().numpy()[0] for item in l] for l in tensor_list])\n",
    "# acces=ten2np(acces)\n",
    "acces = np.array(acces)\n",
    "acces"
   ]
  },
  {
   "cell_type": "code",
   "execution_count": 41,
   "id": "e4536d02",
   "metadata": {},
   "outputs": [
    {
     "data": {
      "image/png": "[encoded data removed]",
      "text/plain": [
       "<Figure size 864x360 with 2 Axes>"
      ]
     },
     "metadata": {},
     "output_type": "display_data"
    }
   ],
   "source": [
    "from train_utils import display_loss_plot\n",
    "plt.style.use(\"ggplot\")\n",
    "plt.figure(figsize=(12,5))\n",
    "numpy_losses= np.array(losses)\n",
    "lose1 = numpy_losses[:,0]\n",
    "lose2 = numpy_losses[:,1]\n",
    "lose3 = numpy_losses[:,2]\n",
    "lose4 = numpy_losses[:,3]\n",
    "# Plot training loss over epochs\n",
    "# loss_per_epoch = [np.mean(loss_per_epoch) for loss_per_epoch in running_loss]\n",
    "plt.subplot(1,2,1)\n",
    "display_loss_plot(lose1)\n",
    "display_loss_plot(lose2)\n",
    "display_loss_plot(lose3)\n",
    "display_loss_plot(lose4)\n",
    "# Plot test accuracy over epochs\n",
    "numpy_acces=np.array(acces)\n",
    "acc1 = numpy_acces[:,0]\n",
    "acc2 = numpy_acces[:,1]\n",
    "acc3 = numpy_acces[:,2]\n",
    "acc4 = numpy_acces[:,3]\n",
    "plt.subplot(1,2,2)\n",
    "display_loss_plot(acc1, title=\"Test accuracy\", ylabel=\"Accuracy [%]\")\n",
    "display_loss_plot(acc2, title=\"Test accuracy\", ylabel=\"Accuracy [%]\")\n",
    "display_loss_plot(acc3, title=\"Test accuracy\", ylabel=\"Accuracy [%]\")\n",
    "display_loss_plot(acc4, title=\"Test accuracy\", ylabel=\"Accuracy [%]\")\n",
    "plt.show()"
   ]
  },
  {
   "cell_type": "markdown",
   "id": "db1dde53",
   "metadata": {},
   "source": [
    "# ResNet18 on ImageNet"
   ]
  },
  {
   "cell_type": "code",
   "execution_count": 2,
   "id": "91458942",
   "metadata": {},
   "outputs": [],
   "source": [
    "import torch \n",
    "from torch import nn\n",
    "import torchvision as tv\n",
    "from torchvision.models import ResNet"
   ]
  },
  {
   "cell_type": "code",
   "execution_count": 3,
   "id": "fc3f77df",
   "metadata": {},
   "outputs": [],
   "source": [
    "from resnet import branchBottleNeck\n",
    "class Flatten(nn.Module):\n",
    "    def forward(self,x):\n",
    "        return torch.flatten(x,1)\n",
    "    \n",
    "class FeatureReroute(nn.Module):\n",
    "    '''\n",
    "    Split the feature into two parts with the ratio along channel dimension,\n",
    "    \n",
    "    '''\n",
    "    def __init__(self, num_channel, ratio=0.5):\n",
    "        super().__init__()\n",
    "        self.ratio = ratio\n",
    "        self.num_channel = num_channel\n",
    "        self.feature_num1 = int(num_channel*ratio)\n",
    "        self.feature_num2 = num_channel - self.feature_num1\n",
    "        \n",
    "    def forward(self,x):\n",
    "        tmp1, tmp2 = torch.split(x,[self.feature_num1,self.feature_num2],dim=1)\n",
    "        x1 = torch.cat([tmp1,tmp2.detach()],1)\n",
    "        x2 = torch.cat([tmp1.detach(),tmp2],1)\n",
    "\n",
    "        return x1,x2   \n",
    "    \n",
    "class ResNetFSS(ResNet):\n",
    "    def __init__(self,*args,**kwargs):\n",
    "        super().__init__(*args,**kwargs)\n",
    "        num_classes = 1000\n",
    "        self.fsslayer1=FeatureReroute(64)\n",
    "        self.classifier1 = nn.Sequential(\n",
    "                branchBottleNeck(64,512,kernel_size=8),\n",
    "#                 nn.Conv2d(64,512 * block.expansion,1),\n",
    "                nn.AdaptiveAvgPool2d((1, 1)),\n",
    "                Flatten(),\n",
    "                nn.Linear(512, num_classes)\n",
    "            )\n",
    "        self.fsslayer2=FeatureReroute(128)\n",
    "        self.classifier2 = nn.Sequential(\n",
    "                branchBottleNeck(128,512,kernel_size=4),\n",
    "#                 nn.Conv2d(64,512 * block.expansion,1),\n",
    "                nn.AdaptiveAvgPool2d((1, 1)),\n",
    "                Flatten(),\n",
    "                nn.Linear(512, num_classes)\n",
    "            )\n",
    "        self.fsslayer3=FeatureReroute(256)\n",
    "        self.classifier3 = nn.Sequential(\n",
    "                branchBottleNeck(256,512,kernel_size=2),\n",
    "#                 nn.Conv2d(64,512 * block.expansion,1),\n",
    "                nn.AdaptiveAvgPool2d((1, 1)),\n",
    "                Flatten(),\n",
    "                nn.Linear(512, num_classes)\n",
    "            )\n",
    "    def forward(self,x):\n",
    "        x = self.conv1(x)\n",
    "        x = self.bn1(x)\n",
    "        x = self.relu(x)\n",
    "        x = self.maxpool(x)\n",
    "\n",
    "        x = self.layer1(x)\n",
    "        x,y1 = self.fsslayer1(x)\n",
    "        c1 = self.classifier1(y1)\n",
    "        x = self.layer2(x)\n",
    "        x,y2 = self.fsslayer2(x)\n",
    "        c2 = self.classifier2(y2)\n",
    "        x = self.layer3(x)\n",
    "        x,y3 = self.fsslayer3(x)\n",
    "        c3 = self.classifier3(y3)\n",
    "        x = self.layer4(x)\n",
    "\n",
    "        x = self.avgpool(x)\n",
    "        x = torch.flatten(x, 1)\n",
    "        c4 = self.fc(x)\n",
    "\n",
    "        return c1,c2,c3,c4\n",
    "    \n",
    "class ResNetSDN(ResNetFSS):   \n",
    "    def __init__(self,*args,**kwargs):\n",
    "        super().__init__(*args,**kwargs)\n",
    "        num_classes = 1000\n",
    "        self.middlefea1=nn.Sequential(\n",
    "                branchBottleNeck(64,512,kernel_size=8),\n",
    "#                 nn.Conv2d(64,512 * block.expansion,1),\n",
    "                nn.AdaptiveAvgPool2d((1, 1))\n",
    "        )\n",
    "        self.classifier1 = nn.Sequential(\n",
    "                Flatten(),\n",
    "                nn.Linear(512, num_classes)\n",
    "            )\n",
    "        self.middlefea2=nn.Sequential(\n",
    "                branchBottleNeck(128,512,kernel_size=4),\n",
    "#                 nn.Conv2d(64,512 * block.expansion,1),\n",
    "                nn.AdaptiveAvgPool2d((1, 1))\n",
    "        )\n",
    "        self.classifier2 = nn.Sequential(\n",
    "                Flatten(),\n",
    "                nn.Linear(512, num_classes)\n",
    "            )\n",
    "        self.middlefea3=nn.Sequential(\n",
    "                branchBottleNeck(256,512,kernel_size=2),\n",
    "#                 nn.Conv2d(64,512 * block.expansion,1),\n",
    "                nn.AdaptiveAvgPool2d((1, 1))\n",
    "        )\n",
    "        self.classifier3 = nn.Sequential(\n",
    "                Flatten(),\n",
    "                nn.Linear(512, num_classes)\n",
    "            )\n",
    "        \n",
    "    def forward(self,x):\n",
    "        x = self.conv1(x)\n",
    "        x = self.bn1(x)\n",
    "        x = self.relu(x)\n",
    "        x = self.maxpool(x)\n",
    "\n",
    "        x = self.layer1(x)\n",
    "        y1 = self.middlefea1(x)\n",
    "        c1 = self.classifier1(y1)\n",
    "        x = self.layer2(x)\n",
    "        y2 = self.middlefea2(x)\n",
    "        c2 = self.classifier2(y2)\n",
    "        x = self.layer3(x)\n",
    "        y3 = self.middlefea3(x)\n",
    "        c3 = self.classifier3(y3)\n",
    "        x = self.layer4(x)\n",
    "\n",
    "        y4 = self.avgpool(x)\n",
    "        x = torch.flatten(y4, 1)\n",
    "        c4 = self.fc(x)\n",
    "\n",
    "        return c4,c1,c2,c3,y4,y1,y2,y3\n",
    "    \n",
    "from torchvision.models.resnet import BasicBlock\n",
    "resnetfss18 = ResNetFSS(BasicBlock,[2,2,2,2])\n",
    "resnetsdn18 = ResNetSDN(BasicBlock,[2,2,2,2])"
   ]
  },
  {
   "cell_type": "code",
   "execution_count": 4,
   "id": "1cd8dc32",
   "metadata": {},
   "outputs": [],
   "source": [
    "import sys\n",
    "sys.path.append(\"/workspace/packages/autoqnn\")\n",
    "import autoqnn"
   ]
  },
  {
   "cell_type": "code",
   "execution_count": 5,
   "id": "a106f5a4",
   "metadata": {},
   "outputs": [
    {
     "name": "stdout",
     "output_type": "stream",
     "text": [
      "Flops, Params and Mems of resnetfss18 is [1.96GFLOPs,15.10M, 96.80M]\n",
      "resnetfss18 is Compute-bound model on 2080ti\n",
      "Flops, Params and Mems of resnetsdn18 is [1.96GFLOPs,15.10M, 96.81M]\n",
      "resnetsdn18 is Compute-bound model on 2080ti\n"
     ]
    },
    {
     "data": {
      "text/plain": [
       "11750000000000.0"
      ]
     },
     "execution_count": 5,
     "metadata": {},
     "output_type": "execute_result"
    }
   ],
   "source": [
    "autoqnn.utils.get_attainable_FLOPS(resnetfss18,(2,3,224,224),\"2080ti\",model_name=\"resnetfss18\")\n",
    "autoqnn.utils.get_attainable_FLOPS(resnetsdn18,(2,3,224,224),\"2080ti\",model_name=\"resnetsdn18\")"
   ]
  },
  {
   "cell_type": "code",
   "execution_count": 6,
   "id": "13885689",
   "metadata": {},
   "outputs": [],
   "source": [
    "# ImageNet\n",
    "from autoqnn.datasets import imagenet\n",
    "train_loader, test_loader=imagenet.get_dataset(data_path=\"/workspace/dataset/imagenet/\",\n",
    "                                              batch_size=128,workers=8,parse_type=\"torch\")"
   ]
  },
  {
   "cell_type": "markdown",
   "id": "4b921538",
   "metadata": {},
   "source": [
    "### ResNetSDN18 training"
   ]
  },
  {
   "cell_type": "code",
   "execution_count": 15,
   "id": "f7c813f4",
   "metadata": {},
   "outputs": [
    {
     "name": "stdout",
     "output_type": "stream",
     "text": [
      "Adjusting learning rate of group 0 to 1.0000e-02.\n"
     ]
    }
   ],
   "source": [
    "# training progress\n",
    "# Training hyper-parameters\n",
    "import torch\n",
    "from torch import nn\n",
    "import time\n",
    "model = resnetsdn18.cuda()\n",
    "best_prec1 = 0\n",
    "criterion = nn.CrossEntropyLoss().cuda()\n",
    "optimizer = torch.optim.SGD(model.parameters(), \n",
    "                            lr=0.1, \n",
    "                            momentum=0.9, \n",
    "                            weight_decay = 1e-4)\n",
    "def warm_multi_step(epoch):\n",
    "    if (epoch < 1):\n",
    "        return 0.1\n",
    "    elif (1<=epoch<75):\n",
    "        return 1\n",
    "    elif 75 <= epoch < 130:\n",
    "        return 0.1\n",
    "    elif 130 <= epoch < 180:\n",
    "        return 0.01\n",
    "    elif epoch >=180:\n",
    "        return 0.001\n",
    "    else:\n",
    "        return 1\n",
    "\n",
    "lr_schedule = torch.optim.lr_scheduler.LambdaLR(optimizer,\n",
    "                                warm_multi_step,verbose=True)\n",
    "# lr_schedule = torch.optim.lr_scheduler.MultiStepLR(optimizer,[75,90,95])\n",
    "num_epoch=1\n",
    "start_epoch = 0\n",
    "temperature = 3\n",
    "alpha = 0.1\n",
    "beta = 1e-6"
   ]
  },
  {
   "cell_type": "code",
   "execution_count": 16,
   "id": "aa50fb0c",
   "metadata": {
    "collapsed": true,
    "jupyter": {
     "outputs_hidden": true
    }
   },
   "outputs": [
    {
     "name": "stderr",
     "output_type": "stream",
     "text": [
      "Training : 100%|██████████| 10010/10010 [58:56<00:00,  2.83it/s, Msg=Time 0.310 (0.353), Data 0.229 (0.213), Loss 38.074 (36.817), Prec@1 0.00% (9.82%),] \n",
      "  0%|          | 0/391 [00:00<?, ?it/s]"
     ]
    },
    {
     "name": "stdout",
     "output_type": "stream",
     "text": [
      "Adjusting learning rate of group 0 to 1.0000e-01.\n"
     ]
    },
    {
     "name": "stderr",
     "output_type": "stream",
     "text": [
      "  0%|          | 1/391 [00:04<30:35,  4.71s/it]\n"
     ]
    },
    {
     "ename": "RuntimeError",
     "evalue": "CUDA out of memory. Tried to allocate 98.00 MiB (GPU 0; 10.76 GiB total capacity; 9.49 GiB already allocated; 51.44 MiB free; 9.71 GiB reserved in total by PyTorch)",
     "output_type": "error",
     "traceback": [
      "\u001b[0;31m---------------------------------------------------------------------------\u001b[0m",
      "\u001b[0;31mRuntimeError\u001b[0m                              Traceback (most recent call last)",
      "\u001b[0;32m<ipython-input-16-a049149f2c7e>\u001b[0m in \u001b[0;36m<module>\u001b[0;34m\u001b[0m\n\u001b[1;32m     11\u001b[0m     \u001b[0mlr_schedule\u001b[0m\u001b[0;34m.\u001b[0m\u001b[0mstep\u001b[0m\u001b[0;34m(\u001b[0m\u001b[0;34m)\u001b[0m\u001b[0;34m\u001b[0m\u001b[0;34m\u001b[0m\u001b[0m\n\u001b[1;32m     12\u001b[0m     \u001b[0;31m# Validation\u001b[0m\u001b[0;34m\u001b[0m\u001b[0;34m\u001b[0m\u001b[0;34m\u001b[0m\u001b[0m\n\u001b[0;32m---> 13\u001b[0;31m     \u001b[0mt1\u001b[0m\u001b[0;34m,\u001b[0m\u001b[0mt2\u001b[0m\u001b[0;34m,\u001b[0m\u001b[0mt3\u001b[0m\u001b[0;34m,\u001b[0m\u001b[0mt4\u001b[0m \u001b[0;34m=\u001b[0m \u001b[0msdn_validate\u001b[0m\u001b[0;34m(\u001b[0m\u001b[0mresnetsdn18\u001b[0m\u001b[0;34m,\u001b[0m\u001b[0mtest_loader\u001b[0m\u001b[0;34m)\u001b[0m\u001b[0;34m\u001b[0m\u001b[0;34m\u001b[0m\u001b[0m\n\u001b[0m\u001b[1;32m     14\u001b[0m \u001b[0;34m\u001b[0m\u001b[0m\n\u001b[1;32m     15\u001b[0m     \u001b[0mlosses\u001b[0m\u001b[0;34m.\u001b[0m\u001b[0mappend\u001b[0m\u001b[0;34m(\u001b[0m\u001b[0;34m[\u001b[0m\u001b[0ml1\u001b[0m\u001b[0;34m,\u001b[0m\u001b[0ml2\u001b[0m\u001b[0;34m,\u001b[0m\u001b[0ml3\u001b[0m\u001b[0;34m,\u001b[0m\u001b[0ml4\u001b[0m\u001b[0;34m]\u001b[0m\u001b[0;34m)\u001b[0m\u001b[0;34m\u001b[0m\u001b[0;34m\u001b[0m\u001b[0m\n",
      "\u001b[0;32m/workspace/notebooks/train_utils.py\u001b[0m in \u001b[0;36msdn_validate\u001b[0;34m(model, test_loader)\u001b[0m\n\u001b[1;32m    215\u001b[0m \u001b[0;34m\u001b[0m\u001b[0m\n\u001b[1;32m    216\u001b[0m         \u001b[0moutput\u001b[0m\u001b[0;34m,\u001b[0m \u001b[0mmiddle_output1\u001b[0m\u001b[0;34m,\u001b[0m \u001b[0mmiddle_output2\u001b[0m\u001b[0;34m,\u001b[0m \u001b[0mmiddle_output3\u001b[0m\u001b[0;34m,\u001b[0m\u001b[0;31m \u001b[0m\u001b[0;31m\\\u001b[0m\u001b[0;34m\u001b[0m\u001b[0;34m\u001b[0m\u001b[0m\n\u001b[0;32m--> 217\u001b[0;31m         \u001b[0mfinal_fea\u001b[0m\u001b[0;34m,\u001b[0m \u001b[0mmiddle1_fea\u001b[0m\u001b[0;34m,\u001b[0m \u001b[0mmiddle2_fea\u001b[0m\u001b[0;34m,\u001b[0m \u001b[0mmiddle3_fea\u001b[0m \u001b[0;34m=\u001b[0m \u001b[0mmodel\u001b[0m\u001b[0;34m(\u001b[0m\u001b[0minput\u001b[0m\u001b[0;34m)\u001b[0m\u001b[0;34m\u001b[0m\u001b[0;34m\u001b[0m\u001b[0m\n\u001b[0m\u001b[1;32m    218\u001b[0m \u001b[0;34m\u001b[0m\u001b[0m\n\u001b[1;32m    219\u001b[0m         \u001b[0mprec1\u001b[0m \u001b[0;34m=\u001b[0m \u001b[0maccuracy\u001b[0m\u001b[0;34m(\u001b[0m\u001b[0moutput\u001b[0m\u001b[0;34m.\u001b[0m\u001b[0mdata\u001b[0m\u001b[0;34m,\u001b[0m \u001b[0mtarget\u001b[0m\u001b[0;34m,\u001b[0m \u001b[0mtopk\u001b[0m\u001b[0;34m=\u001b[0m\u001b[0;34m(\u001b[0m\u001b[0;36m1\u001b[0m\u001b[0;34m,\u001b[0m\u001b[0;34m)\u001b[0m\u001b[0;34m)\u001b[0m\u001b[0;34m\u001b[0m\u001b[0;34m\u001b[0m\u001b[0m\n",
      "\u001b[0;32m/opt/conda/lib/python3.8/site-packages/torch/nn/modules/module.py\u001b[0m in \u001b[0;36m_call_impl\u001b[0;34m(self, *input, **kwargs)\u001b[0m\n\u001b[1;32m    725\u001b[0m             \u001b[0mresult\u001b[0m \u001b[0;34m=\u001b[0m \u001b[0mself\u001b[0m\u001b[0;34m.\u001b[0m\u001b[0m_slow_forward\u001b[0m\u001b[0;34m(\u001b[0m\u001b[0;34m*\u001b[0m\u001b[0minput\u001b[0m\u001b[0;34m,\u001b[0m \u001b[0;34m**\u001b[0m\u001b[0mkwargs\u001b[0m\u001b[0;34m)\u001b[0m\u001b[0;34m\u001b[0m\u001b[0;34m\u001b[0m\u001b[0m\n\u001b[1;32m    726\u001b[0m         \u001b[0;32melse\u001b[0m\u001b[0;34m:\u001b[0m\u001b[0;34m\u001b[0m\u001b[0;34m\u001b[0m\u001b[0m\n\u001b[0;32m--> 727\u001b[0;31m             \u001b[0mresult\u001b[0m \u001b[0;34m=\u001b[0m \u001b[0mself\u001b[0m\u001b[0;34m.\u001b[0m\u001b[0mforward\u001b[0m\u001b[0;34m(\u001b[0m\u001b[0;34m*\u001b[0m\u001b[0minput\u001b[0m\u001b[0;34m,\u001b[0m \u001b[0;34m**\u001b[0m\u001b[0mkwargs\u001b[0m\u001b[0;34m)\u001b[0m\u001b[0;34m\u001b[0m\u001b[0;34m\u001b[0m\u001b[0m\n\u001b[0m\u001b[1;32m    728\u001b[0m         for hook in itertools.chain(\n\u001b[1;32m    729\u001b[0m                 \u001b[0m_global_forward_hooks\u001b[0m\u001b[0;34m.\u001b[0m\u001b[0mvalues\u001b[0m\u001b[0;34m(\u001b[0m\u001b[0;34m)\u001b[0m\u001b[0;34m,\u001b[0m\u001b[0;34m\u001b[0m\u001b[0;34m\u001b[0m\u001b[0m\n",
      "\u001b[0;32m<ipython-input-13-5d726cf05539>\u001b[0m in \u001b[0;36mforward\u001b[0;34m(self, x)\u001b[0m\n\u001b[1;32m    112\u001b[0m         \u001b[0mx\u001b[0m \u001b[0;34m=\u001b[0m \u001b[0mself\u001b[0m\u001b[0;34m.\u001b[0m\u001b[0mmaxpool\u001b[0m\u001b[0;34m(\u001b[0m\u001b[0mx\u001b[0m\u001b[0;34m)\u001b[0m\u001b[0;34m\u001b[0m\u001b[0;34m\u001b[0m\u001b[0m\n\u001b[1;32m    113\u001b[0m \u001b[0;34m\u001b[0m\u001b[0m\n\u001b[0;32m--> 114\u001b[0;31m         \u001b[0mx\u001b[0m \u001b[0;34m=\u001b[0m \u001b[0mself\u001b[0m\u001b[0;34m.\u001b[0m\u001b[0mlayer1\u001b[0m\u001b[0;34m(\u001b[0m\u001b[0mx\u001b[0m\u001b[0;34m)\u001b[0m\u001b[0;34m\u001b[0m\u001b[0;34m\u001b[0m\u001b[0m\n\u001b[0m\u001b[1;32m    115\u001b[0m         \u001b[0my1\u001b[0m \u001b[0;34m=\u001b[0m \u001b[0mself\u001b[0m\u001b[0;34m.\u001b[0m\u001b[0mmiddlefea1\u001b[0m\u001b[0;34m(\u001b[0m\u001b[0mx\u001b[0m\u001b[0;34m)\u001b[0m\u001b[0;34m\u001b[0m\u001b[0;34m\u001b[0m\u001b[0m\n\u001b[1;32m    116\u001b[0m         \u001b[0mc1\u001b[0m \u001b[0;34m=\u001b[0m \u001b[0mself\u001b[0m\u001b[0;34m.\u001b[0m\u001b[0mclassifier1\u001b[0m\u001b[0;34m(\u001b[0m\u001b[0my1\u001b[0m\u001b[0;34m)\u001b[0m\u001b[0;34m\u001b[0m\u001b[0;34m\u001b[0m\u001b[0m\n",
      "\u001b[0;32m/opt/conda/lib/python3.8/site-packages/torch/nn/modules/module.py\u001b[0m in \u001b[0;36m_call_impl\u001b[0;34m(self, *input, **kwargs)\u001b[0m\n\u001b[1;32m    725\u001b[0m             \u001b[0mresult\u001b[0m \u001b[0;34m=\u001b[0m \u001b[0mself\u001b[0m\u001b[0;34m.\u001b[0m\u001b[0m_slow_forward\u001b[0m\u001b[0;34m(\u001b[0m\u001b[0;34m*\u001b[0m\u001b[0minput\u001b[0m\u001b[0;34m,\u001b[0m \u001b[0;34m**\u001b[0m\u001b[0mkwargs\u001b[0m\u001b[0;34m)\u001b[0m\u001b[0;34m\u001b[0m\u001b[0;34m\u001b[0m\u001b[0m\n\u001b[1;32m    726\u001b[0m         \u001b[0;32melse\u001b[0m\u001b[0;34m:\u001b[0m\u001b[0;34m\u001b[0m\u001b[0;34m\u001b[0m\u001b[0m\n\u001b[0;32m--> 727\u001b[0;31m             \u001b[0mresult\u001b[0m \u001b[0;34m=\u001b[0m \u001b[0mself\u001b[0m\u001b[0;34m.\u001b[0m\u001b[0mforward\u001b[0m\u001b[0;34m(\u001b[0m\u001b[0;34m*\u001b[0m\u001b[0minput\u001b[0m\u001b[0;34m,\u001b[0m \u001b[0;34m**\u001b[0m\u001b[0mkwargs\u001b[0m\u001b[0;34m)\u001b[0m\u001b[0;34m\u001b[0m\u001b[0;34m\u001b[0m\u001b[0m\n\u001b[0m\u001b[1;32m    728\u001b[0m         for hook in itertools.chain(\n\u001b[1;32m    729\u001b[0m                 \u001b[0m_global_forward_hooks\u001b[0m\u001b[0;34m.\u001b[0m\u001b[0mvalues\u001b[0m\u001b[0;34m(\u001b[0m\u001b[0;34m)\u001b[0m\u001b[0;34m,\u001b[0m\u001b[0;34m\u001b[0m\u001b[0;34m\u001b[0m\u001b[0m\n",
      "\u001b[0;32m/opt/conda/lib/python3.8/site-packages/torch/nn/modules/container.py\u001b[0m in \u001b[0;36mforward\u001b[0;34m(self, input)\u001b[0m\n\u001b[1;32m    115\u001b[0m     \u001b[0;32mdef\u001b[0m \u001b[0mforward\u001b[0m\u001b[0;34m(\u001b[0m\u001b[0mself\u001b[0m\u001b[0;34m,\u001b[0m \u001b[0minput\u001b[0m\u001b[0;34m)\u001b[0m\u001b[0;34m:\u001b[0m\u001b[0;34m\u001b[0m\u001b[0;34m\u001b[0m\u001b[0m\n\u001b[1;32m    116\u001b[0m         \u001b[0;32mfor\u001b[0m \u001b[0mmodule\u001b[0m \u001b[0;32min\u001b[0m \u001b[0mself\u001b[0m\u001b[0;34m:\u001b[0m\u001b[0;34m\u001b[0m\u001b[0;34m\u001b[0m\u001b[0m\n\u001b[0;32m--> 117\u001b[0;31m             \u001b[0minput\u001b[0m \u001b[0;34m=\u001b[0m \u001b[0mmodule\u001b[0m\u001b[0;34m(\u001b[0m\u001b[0minput\u001b[0m\u001b[0;34m)\u001b[0m\u001b[0;34m\u001b[0m\u001b[0;34m\u001b[0m\u001b[0m\n\u001b[0m\u001b[1;32m    118\u001b[0m         \u001b[0;32mreturn\u001b[0m \u001b[0minput\u001b[0m\u001b[0;34m\u001b[0m\u001b[0;34m\u001b[0m\u001b[0m\n\u001b[1;32m    119\u001b[0m \u001b[0;34m\u001b[0m\u001b[0m\n",
      "\u001b[0;32m/opt/conda/lib/python3.8/site-packages/torch/nn/modules/module.py\u001b[0m in \u001b[0;36m_call_impl\u001b[0;34m(self, *input, **kwargs)\u001b[0m\n\u001b[1;32m    725\u001b[0m             \u001b[0mresult\u001b[0m \u001b[0;34m=\u001b[0m \u001b[0mself\u001b[0m\u001b[0;34m.\u001b[0m\u001b[0m_slow_forward\u001b[0m\u001b[0;34m(\u001b[0m\u001b[0;34m*\u001b[0m\u001b[0minput\u001b[0m\u001b[0;34m,\u001b[0m \u001b[0;34m**\u001b[0m\u001b[0mkwargs\u001b[0m\u001b[0;34m)\u001b[0m\u001b[0;34m\u001b[0m\u001b[0;34m\u001b[0m\u001b[0m\n\u001b[1;32m    726\u001b[0m         \u001b[0;32melse\u001b[0m\u001b[0;34m:\u001b[0m\u001b[0;34m\u001b[0m\u001b[0;34m\u001b[0m\u001b[0m\n\u001b[0;32m--> 727\u001b[0;31m             \u001b[0mresult\u001b[0m \u001b[0;34m=\u001b[0m \u001b[0mself\u001b[0m\u001b[0;34m.\u001b[0m\u001b[0mforward\u001b[0m\u001b[0;34m(\u001b[0m\u001b[0;34m*\u001b[0m\u001b[0minput\u001b[0m\u001b[0;34m,\u001b[0m \u001b[0;34m**\u001b[0m\u001b[0mkwargs\u001b[0m\u001b[0;34m)\u001b[0m\u001b[0;34m\u001b[0m\u001b[0;34m\u001b[0m\u001b[0m\n\u001b[0m\u001b[1;32m    728\u001b[0m         for hook in itertools.chain(\n\u001b[1;32m    729\u001b[0m                 \u001b[0m_global_forward_hooks\u001b[0m\u001b[0;34m.\u001b[0m\u001b[0mvalues\u001b[0m\u001b[0;34m(\u001b[0m\u001b[0;34m)\u001b[0m\u001b[0;34m,\u001b[0m\u001b[0;34m\u001b[0m\u001b[0;34m\u001b[0m\u001b[0m\n",
      "\u001b[0;32m/opt/conda/lib/python3.8/site-packages/torchvision/models/resnet.py\u001b[0m in \u001b[0;36mforward\u001b[0;34m(self, x)\u001b[0m\n\u001b[1;32m     62\u001b[0m \u001b[0;34m\u001b[0m\u001b[0m\n\u001b[1;32m     63\u001b[0m         \u001b[0mout\u001b[0m \u001b[0;34m=\u001b[0m \u001b[0mself\u001b[0m\u001b[0;34m.\u001b[0m\u001b[0mconv2\u001b[0m\u001b[0;34m(\u001b[0m\u001b[0mout\u001b[0m\u001b[0;34m)\u001b[0m\u001b[0;34m\u001b[0m\u001b[0;34m\u001b[0m\u001b[0m\n\u001b[0;32m---> 64\u001b[0;31m         \u001b[0mout\u001b[0m \u001b[0;34m=\u001b[0m \u001b[0mself\u001b[0m\u001b[0;34m.\u001b[0m\u001b[0mbn2\u001b[0m\u001b[0;34m(\u001b[0m\u001b[0mout\u001b[0m\u001b[0;34m)\u001b[0m\u001b[0;34m\u001b[0m\u001b[0;34m\u001b[0m\u001b[0m\n\u001b[0m\u001b[1;32m     65\u001b[0m \u001b[0;34m\u001b[0m\u001b[0m\n\u001b[1;32m     66\u001b[0m         \u001b[0;32mif\u001b[0m \u001b[0mself\u001b[0m\u001b[0;34m.\u001b[0m\u001b[0mdownsample\u001b[0m \u001b[0;32mis\u001b[0m \u001b[0;32mnot\u001b[0m \u001b[0;32mNone\u001b[0m\u001b[0;34m:\u001b[0m\u001b[0;34m\u001b[0m\u001b[0;34m\u001b[0m\u001b[0m\n",
      "\u001b[0;32m/opt/conda/lib/python3.8/site-packages/torch/nn/modules/module.py\u001b[0m in \u001b[0;36m_call_impl\u001b[0;34m(self, *input, **kwargs)\u001b[0m\n\u001b[1;32m    725\u001b[0m             \u001b[0mresult\u001b[0m \u001b[0;34m=\u001b[0m \u001b[0mself\u001b[0m\u001b[0;34m.\u001b[0m\u001b[0m_slow_forward\u001b[0m\u001b[0;34m(\u001b[0m\u001b[0;34m*\u001b[0m\u001b[0minput\u001b[0m\u001b[0;34m,\u001b[0m \u001b[0;34m**\u001b[0m\u001b[0mkwargs\u001b[0m\u001b[0;34m)\u001b[0m\u001b[0;34m\u001b[0m\u001b[0;34m\u001b[0m\u001b[0m\n\u001b[1;32m    726\u001b[0m         \u001b[0;32melse\u001b[0m\u001b[0;34m:\u001b[0m\u001b[0;34m\u001b[0m\u001b[0;34m\u001b[0m\u001b[0m\n\u001b[0;32m--> 727\u001b[0;31m             \u001b[0mresult\u001b[0m \u001b[0;34m=\u001b[0m \u001b[0mself\u001b[0m\u001b[0;34m.\u001b[0m\u001b[0mforward\u001b[0m\u001b[0;34m(\u001b[0m\u001b[0;34m*\u001b[0m\u001b[0minput\u001b[0m\u001b[0;34m,\u001b[0m \u001b[0;34m**\u001b[0m\u001b[0mkwargs\u001b[0m\u001b[0;34m)\u001b[0m\u001b[0;34m\u001b[0m\u001b[0;34m\u001b[0m\u001b[0m\n\u001b[0m\u001b[1;32m    728\u001b[0m         for hook in itertools.chain(\n\u001b[1;32m    729\u001b[0m                 \u001b[0m_global_forward_hooks\u001b[0m\u001b[0;34m.\u001b[0m\u001b[0mvalues\u001b[0m\u001b[0;34m(\u001b[0m\u001b[0;34m)\u001b[0m\u001b[0;34m,\u001b[0m\u001b[0;34m\u001b[0m\u001b[0;34m\u001b[0m\u001b[0m\n",
      "\u001b[0;32m/opt/conda/lib/python3.8/site-packages/torch/nn/modules/batchnorm.py\u001b[0m in \u001b[0;36mforward\u001b[0;34m(self, input)\u001b[0m\n\u001b[1;32m    129\u001b[0m         \u001b[0mused\u001b[0m \u001b[0;32mfor\u001b[0m \u001b[0mnormalization\u001b[0m \u001b[0;34m(\u001b[0m\u001b[0mi\u001b[0m\u001b[0;34m.\u001b[0m\u001b[0me\u001b[0m\u001b[0;34m.\u001b[0m \u001b[0;32min\u001b[0m \u001b[0meval\u001b[0m \u001b[0mmode\u001b[0m \u001b[0mwhen\u001b[0m \u001b[0mbuffers\u001b[0m \u001b[0mare\u001b[0m \u001b[0;32mnot\u001b[0m \u001b[0;32mNone\u001b[0m\u001b[0;34m)\u001b[0m\u001b[0;34m.\u001b[0m\u001b[0;34m\u001b[0m\u001b[0;34m\u001b[0m\u001b[0m\n\u001b[1;32m    130\u001b[0m         \"\"\"\n\u001b[0;32m--> 131\u001b[0;31m         return F.batch_norm(\n\u001b[0m\u001b[1;32m    132\u001b[0m             \u001b[0minput\u001b[0m\u001b[0;34m,\u001b[0m\u001b[0;34m\u001b[0m\u001b[0;34m\u001b[0m\u001b[0m\n\u001b[1;32m    133\u001b[0m             \u001b[0;31m# If buffers are not to be tracked, ensure that they won't be updated\u001b[0m\u001b[0;34m\u001b[0m\u001b[0;34m\u001b[0m\u001b[0;34m\u001b[0m\u001b[0m\n",
      "\u001b[0;32m/opt/conda/lib/python3.8/site-packages/torch/nn/functional.py\u001b[0m in \u001b[0;36mbatch_norm\u001b[0;34m(input, running_mean, running_var, weight, bias, training, momentum, eps)\u001b[0m\n\u001b[1;32m   2054\u001b[0m         \u001b[0m_verify_batch_size\u001b[0m\u001b[0;34m(\u001b[0m\u001b[0minput\u001b[0m\u001b[0;34m.\u001b[0m\u001b[0msize\u001b[0m\u001b[0;34m(\u001b[0m\u001b[0;34m)\u001b[0m\u001b[0;34m)\u001b[0m\u001b[0;34m\u001b[0m\u001b[0;34m\u001b[0m\u001b[0m\n\u001b[1;32m   2055\u001b[0m \u001b[0;34m\u001b[0m\u001b[0m\n\u001b[0;32m-> 2056\u001b[0;31m     return torch.batch_norm(\n\u001b[0m\u001b[1;32m   2057\u001b[0m         \u001b[0minput\u001b[0m\u001b[0;34m,\u001b[0m \u001b[0mweight\u001b[0m\u001b[0;34m,\u001b[0m \u001b[0mbias\u001b[0m\u001b[0;34m,\u001b[0m \u001b[0mrunning_mean\u001b[0m\u001b[0;34m,\u001b[0m \u001b[0mrunning_var\u001b[0m\u001b[0;34m,\u001b[0m\u001b[0;34m\u001b[0m\u001b[0;34m\u001b[0m\u001b[0m\n\u001b[1;32m   2058\u001b[0m         \u001b[0mtraining\u001b[0m\u001b[0;34m,\u001b[0m \u001b[0mmomentum\u001b[0m\u001b[0;34m,\u001b[0m \u001b[0meps\u001b[0m\u001b[0;34m,\u001b[0m \u001b[0mtorch\u001b[0m\u001b[0;34m.\u001b[0m\u001b[0mbackends\u001b[0m\u001b[0;34m.\u001b[0m\u001b[0mcudnn\u001b[0m\u001b[0;34m.\u001b[0m\u001b[0menabled\u001b[0m\u001b[0;34m\u001b[0m\u001b[0;34m\u001b[0m\u001b[0m\n",
      "\u001b[0;31mRuntimeError\u001b[0m: CUDA out of memory. Tried to allocate 98.00 MiB (GPU 0; 10.76 GiB total capacity; 9.49 GiB already allocated; 51.44 MiB free; 9.71 GiB reserved in total by PyTorch)"
     ]
    }
   ],
   "source": [
    "from train_utils import AverageMeter\n",
    "from train_utils import sdn_validate, sdn_train\n",
    "from tqdm import tqdm\n",
    "\n",
    "losses = []\n",
    "acces = []\n",
    "for epoch in range(start_epoch, num_epoch):\n",
    "    # training\n",
    "    batch_time,data_time,l1,l2,l3,l4 = sdn_train(resnetsdn18, train_loader,\n",
    "                                             optimizer, criterion, temperature)\n",
    "    lr_schedule.step()\n",
    "    # Validation\n",
    "    t1,t2,t3,t4 = sdn_validate(resnetsdn18,test_loader)\n",
    "    \n",
    "    losses.append([l1,l2,l3,l4])\n",
    "    acces.append([t1,t2,t3,t4])\n",
    "    start_epoch = epoch\n",
    "    \n",
    "    print(\"Epoch %d/%d: lr=%.4f, \"\\\n",
    "          \"mean batch time = %.2fs, mean data loading time = %.2f, \"\\\n",
    "          \"Training loss = %.4f,%.4f,%.4f,%.4f, \"\\\n",
    "          \"Test accuracy = %.2f%%,%.2f%%,%.2f%%,%.2f%%,\" % (\n",
    "        epoch+1,num_epoch, optimizer.state_dict()['param_groups'][0]['lr'], \n",
    "        batch_time,data_time,\n",
    "        l1,l2,l3,l4, \n",
    "        t1,t2,t3,t4))"
   ]
  },
  {
   "cell_type": "markdown",
   "id": "66625167",
   "metadata": {},
   "source": [
    "### ResNetFSS18 training"
   ]
  },
  {
   "cell_type": "code",
   "execution_count": 7,
   "id": "1488042d",
   "metadata": {},
   "outputs": [
    {
     "name": "stdout",
     "output_type": "stream",
     "text": [
      "Adjusting learning rate of group 0 to 1.0000e-02.\n"
     ]
    }
   ],
   "source": [
    "# training progress\n",
    "# Training hyper-parameters\n",
    "import torch\n",
    "from torch import nn\n",
    "import time\n",
    "model = resnetfss18.cuda()\n",
    "best_prec1 = 0\n",
    "criterion = nn.CrossEntropyLoss().cuda()\n",
    "optimizer = torch.optim.SGD(model.parameters(), \n",
    "                            lr=0.1, \n",
    "                            momentum=0.9, \n",
    "                            weight_decay = 1e-4)\n",
    "def warm_multi_step(epoch):\n",
    "    if (epoch < 1):\n",
    "        return 0.1\n",
    "    elif (1<=epoch<75):\n",
    "        return 1\n",
    "    elif 75 <= epoch < 130:\n",
    "        return 0.1\n",
    "    elif 130 <= epoch < 180:\n",
    "        return 0.01\n",
    "    elif epoch >=180:\n",
    "        return 0.001\n",
    "    else:\n",
    "        return 1\n",
    "\n",
    "lr_schedule = torch.optim.lr_scheduler.LambdaLR(optimizer,\n",
    "                                warm_multi_step,verbose=True)\n",
    "# lr_schedule = torch.optim.lr_scheduler.MultiStepLR(optimizer,[75,90,95])\n",
    "num_epoch=1\n",
    "start_epoch = 0\n",
    "temperature = 3\n",
    "alpha = 0.1\n",
    "beta = 1e-6"
   ]
  },
  {
   "cell_type": "code",
   "execution_count": 9,
   "id": "6a00e8da",
   "metadata": {},
   "outputs": [
    {
     "name": "stderr",
     "output_type": "stream",
     "text": [
      "Training : 100%|██████████| 10010/10010 [1:00:41<00:00,  2.75it/s, Msg=Time 0.364s, Data 0.225s, Loss (5.417|5.272|5.154|5.155), Top1 (7.13%|8.14%|9.03%|8.89%|)]\n",
      "  0%|          | 0/391 [00:00<?, ?it/s]"
     ]
    },
    {
     "name": "stdout",
     "output_type": "stream",
     "text": [
      "Adjusting learning rate of group 0 to 1.0000e-01.\n"
     ]
    },
    {
     "name": "stderr",
     "output_type": "stream",
     "text": [
      "100%|██████████| 391/391 [01:19<00:00,  4.91it/s]"
     ]
    },
    {
     "name": "stdout",
     "output_type": "stream",
     "text": [
      "Epoch 1/1: lr=0.1000, mean batch time = 0.36s, mean data loading time = 0.23, Training loss = 5.4166,5.2725,5.1541,5.1548, Test accuracy = 11.40%,13.79%,15.93%,16.61%,\n"
     ]
    },
    {
     "name": "stderr",
     "output_type": "stream",
     "text": [
      "\n"
     ]
    }
   ],
   "source": [
    "from train_utils import AverageMeter\n",
    "from train_utils import dsn_validate, dsn_train\n",
    "from tqdm import tqdm\n",
    "\n",
    "losses = []\n",
    "acces = []\n",
    "for epoch in range(start_epoch, num_epoch):\n",
    "    # training\n",
    "    batch_time,data_time,l1,l2,l3,l4 = dsn_train(model, train_loader,\n",
    "                                             optimizer, criterion, temperature)\n",
    "    lr_schedule.step()\n",
    "    # Validation\n",
    "    t1,t2,t3,t4 = dsn_validate(model,test_loader)\n",
    "    \n",
    "    losses.append([l1,l2,l3,l4])\n",
    "    acces.append([t1,t2,t3,t4])\n",
    "    start_epoch = epoch\n",
    "    \n",
    "    print(\"Epoch %d/%d: lr=%.4f, \"\\\n",
    "          \"mean batch time = %.2fs, mean data loading time = %.2f, \"\\\n",
    "          \"Training loss = %.4f,%.4f,%.4f,%.4f, \"\\\n",
    "          \"Test accuracy = %.2f%%,%.2f%%,%.2f%%,%.2f%%,\" % (\n",
    "        epoch+1,num_epoch, optimizer.state_dict()['param_groups'][0]['lr'], \n",
    "        batch_time,data_time,\n",
    "        l1,l2,l3,l4, \n",
    "        t1,t2,t3,t4))"
   ]
  },
  {
   "cell_type": "code",
   "execution_count": 17,
   "id": "0179d77d",
   "metadata": {},
   "outputs": [
    {
     "data": {
      "text/plain": [
       "'1.7.1'"
      ]
     },
     "execution_count": 17,
     "metadata": {},
     "output_type": "execute_result"
    }
   ],
   "source": [
    "torch.__version__"
   ]
  }
 ],
 "metadata": {
  "kernelspec": {
   "display_name": "Python 3",
   "language": "python",
   "name": "python3"
  },
  "language_info": {
   "codemirror_mode": {
    "name": "ipython",
    "version": 3
   },
   "file_extension": ".py",
   "mimetype": "text/x-python",
   "name": "python",
   "nbconvert_exporter": "python",
   "pygments_lexer": "ipython3",
   "version": "3.8.5"
  }
 },
 "nbformat": 4,
 "nbformat_minor": 5
}
