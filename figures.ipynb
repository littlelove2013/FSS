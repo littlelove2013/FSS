{
 "cells": [
  {
   "cell_type": "code",
   "execution_count": 1,
   "id": "4362c0f1-ee17-455b-9592-e5827a90768d",
   "metadata": {},
   "outputs": [],
   "source": [
    "import numpy as np\n",
    "import matplotlib.pyplot as plt"
   ]
  },
  {
   "cell_type": "code",
   "execution_count": 3,
   "id": "b3b1dd1c-5e52-4551-bc47-0ac9e389eefa",
   "metadata": {},
   "outputs": [],
   "source": [
    "# 专门用这个脚本来获取日志画图就好了，用vscode写脚本会更好"
   ]
  },
  {
   "cell_type": "code",
   "execution_count": 3,
   "id": "b99a86f2-65a6-4b88-9631-342117c37056",
   "metadata": {},
   "outputs": [
    {
     "data": {
      "text/plain": [
       "3"
      ]
     },
     "execution_count": 3,
     "metadata": {},
     "output_type": "execute_result"
    }
   ],
   "source": [
    "int(3.1)"
   ]
  }
 ],
 "metadata": {
  "kernelspec": {
   "display_name": "Python 3 (ipykernel)",
   "language": "python",
   "name": "python3"
  },
  "language_info": {
   "codemirror_mode": {
    "name": "ipython",
    "version": 3
   },
   "file_extension": ".py",
   "mimetype": "text/x-python",
   "name": "python",
   "nbconvert_exporter": "python",
   "pygments_lexer": "ipython3",
   "version": "3.10.11"
  }
 },
 "nbformat": 4,
 "nbformat_minor": 5
}
