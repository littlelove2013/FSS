{
 "cells": [
  {
   "cell_type": "code",
   "execution_count": 1,
   "id": "e95b1196",
   "metadata": {},
   "outputs": [
    {
     "name": "stdout",
     "output_type": "stream",
     "text": [
      "GPU 可用\n",
      "共有1个 GPU 设备\n",
      "设备0: _CudaDeviceProperties(name='NVIDIA GeForce RTX 2080 Ti', major=7, minor=5, total_memory=11011MB, multi_processor_count=68)\n"
     ]
    }
   ],
   "source": [
    "import os\n",
    "os.environ[\"CUDA_VISIBLE_DEVICES\"]=\"4\"\n",
    "# 检查 GPU 是否可用  \n",
    "import torch\n",
    "if torch.cuda.is_available():  \n",
    "   print(\"GPU 可用\")  \n",
    "   # 获取 GPU 设备数量  \n",
    "   num_gpus = torch.cuda.device_count()  \n",
    "   print(f\"共有{num_gpus}个 GPU 设备\")\n",
    "   # 获取 GPU 设备信息  \n",
    "   for i in range(num_gpus):  \n",
    "       print(f\"设备{i}: {torch.cuda.get_device_properties(i)}\")  \n",
    "else:  \n",
    "   print(\"GPU 不可用\")  \n",
    "import sys\n",
    "# sys.path.append(\"/workspace/notebooks/\")\n",
    "# sys.path.append(\"/workspace/notebooks/FSS/\")\n",
    "import numpy as np\n",
    "import matplotlib.pyplot as plt"
   ]
  },
  {
   "cell_type": "code",
   "execution_count": 2,
   "id": "aaf6735f-7164-4177-a829-98033ecfee08",
   "metadata": {},
   "outputs": [],
   "source": [
    "import sys\n",
    "sys.path.append(\"../packages/autoqnn/\")\n",
    "import autoqnn"
   ]
  },
  {
   "cell_type": "code",
   "execution_count": 3,
   "id": "af6943ce-fb60-4bbe-af84-6e270e260f5c",
   "metadata": {},
   "outputs": [],
   "source": [
    "# sys.path.append(\"../packages/BeYourOwnTeacher/models\")\n",
    "sys.path.append(\"../packages\")\n",
    "# from BeYourOwnTeacher.models.resnet import multi_resnet18_kd\n",
    "from sdn_resnet import resnet18 as sdn_mtl_resnet18"
   ]
  },
  {
   "cell_type": "markdown",
   "id": "ad671a21",
   "metadata": {},
   "source": [
    "# DSN ResNet18 on Cifar100\n",
    "\n",
    "DSN的意思就是，使用和SDN完全一样的模型，但是训练呢不加KD进行知识蒸馏，所以DSN本身是没有额外的知识蒸馏的监督部分，只有损失部分，正好可以用于写train和test函数"
   ]
  },
  {
   "cell_type": "code",
   "execution_count": 4,
   "id": "dfd6639e",
   "metadata": {},
   "outputs": [],
   "source": [
    "model = sdn_mtl_resnet18(num_classes=100)\n",
    "model = model.cuda()\n",
    "model_name = \"dsn_mtl_resnet18\""
   ]
  },
  {
   "cell_type": "code",
   "execution_count": 5,
   "id": "34d186d3",
   "metadata": {},
   "outputs": [
    {
     "name": "stdout",
     "output_type": "stream",
     "text": [
      "Files already downloaded and verified\n",
      "Files already downloaded and verified\n"
     ]
    }
   ],
   "source": [
    "from autoqnn import datasets\n",
    "torch_weights_path=f\"{os.environ['HOME']}/models/torch/weights\"\n",
    "data_root=\"~/datasets/cifar100\"\n",
    "dataset_name = 'cifar100'\n",
    "trainloader,testloader,classes = datasets.cifar.get_cifar_dataloader(\n",
    "    root=data_root,dataset=dataset_name,autoaugment=True)"
   ]
  },
  {
   "cell_type": "code",
   "execution_count": 6,
   "id": "4cf10d69-ec07-450d-83fc-a70ab1a80a21",
   "metadata": {},
   "outputs": [],
   "source": [
    "from torch import nn,optim\n",
    "import torch.nn.functional as F\n",
    "\n",
    "device = torch.device(\"cuda\" if torch.cuda.is_available() else \"cpu\")\n",
    "model.to(device)\n",
    "epochs=200\n",
    "loss_coefficient=0.3\n",
    "feature_loss_coefficient=0.03\n",
    "autoaugment=True\n",
    "temperature=3.0\n",
    "batchsize=500\n",
    "init_lr=0.1\n",
    "weight_decay=5e-4\n",
    "criterion = nn.CrossEntropyLoss()\n",
    "optimizer = optim.SGD(model.parameters(), lr=init_lr, weight_decay=weight_decay, momentum=0.9)\n",
    "init = False\n",
    "\n",
    "# Define KD Loss\n",
    "def CrossEntropy(outputs, targets):\n",
    "    log_softmax_outputs = F.log_softmax(outputs/temperature, dim=1)\n",
    "    softmax_targets = F.softmax(targets/temperature, dim=1)\n",
    "    return -(log_softmax_outputs * softmax_targets).sum(dim=1).mean()"
   ]
  },
  {
   "cell_type": "code",
   "execution_count": 7,
   "id": "efde3075-b38c-42be-88fa-2dcf1a83d4e1",
   "metadata": {},
   "outputs": [],
   "source": [
    "class AverageMeter(object):\n",
    "    \"\"\"Computes and stores the average and current value\"\"\"\n",
    "\n",
    "    def __init__(self):\n",
    "        self.reset()\n",
    "\n",
    "    def reset(self):\n",
    "        self.val = 0\n",
    "        self.avg = 0\n",
    "        self.sum = 0\n",
    "        self.count = 0\n",
    "\n",
    "    def update(self, val, n=1):\n",
    "        self.val = val\n",
    "        self.sum += val * n\n",
    "        self.count += n\n",
    "        self.avg = self.sum / self.count"
   ]
  },
  {
   "cell_type": "code",
   "execution_count": null,
   "id": "06587ee7-3399-4e26-b7aa-52b7eb30f919",
   "metadata": {},
   "outputs": [],
   "source": [
    "# Training and Testing\n",
    "import sys\n",
    "import time\n",
    "# 将程序的输出重定向到文件  \n",
    "file_path = f'./training_logs/{model_name}-on-cifar100-lr-{init_lr}-wd-{weight_decay}-epoch-{epochs}.txt'  \n",
    "sys.stdout = open(file_path, 'w')\n",
    "\n",
    "best_acc = 0\n",
    "batch_time = AverageMeter()\n",
    "data_time = AverageMeter()\n",
    "for epoch in range(epochs):\n",
    "    correct = [0 for _ in range(5)]\n",
    "    predicted = [0 for _ in range(5)]\n",
    "    if epoch in [epochs // 3, epochs * 2 // 3, epochs - 10]:\n",
    "        for param_group in optimizer.param_groups:\n",
    "            param_group['lr'] /= 10\n",
    "    model.train()\n",
    "    sum_loss, total = 0.0, 0.0\n",
    "    end_time = time.time()\n",
    "    for i, data in enumerate(trainloader, 0):\n",
    "        data_time.update(time.time() - end_time)\n",
    "        length = len(trainloader)\n",
    "        inputs, labels = data\n",
    "        inputs, labels = inputs.to(device), labels.to(device)\n",
    "        outputs, outputs_feature = model(inputs)\n",
    "        ensemble = sum(outputs[:-1])/len(outputs)\n",
    "        ensemble.detach_()\n",
    "\n",
    "        #   compute loss\n",
    "        loss = torch.FloatTensor([0.]).to(device)\n",
    "\n",
    "        #   for deepest classifier\n",
    "        loss += criterion(outputs[0], labels)\n",
    "\n",
    "        #   for shallow classifiers\n",
    "        for index in range(1, len(outputs)):\n",
    "            loss += criterion(outputs[index], labels)\n",
    "\n",
    "        sum_loss += loss.item()\n",
    "        optimizer.zero_grad()\n",
    "        loss.backward()\n",
    "        optimizer.step()\n",
    "        batch_time.update(time.time() - end_time)\n",
    "        end_time = time.time()\n",
    "        \n",
    "        total += float(labels.size(0))\n",
    "        outputs.append(ensemble)\n",
    "\n",
    "        for classifier_index in range(len(outputs)):\n",
    "            _, predicted[classifier_index] = torch.max(outputs[classifier_index].data, 1)\n",
    "            correct[classifier_index] += float(predicted[classifier_index].eq(labels.data).cpu().sum())\n",
    "        print('[epoch:%d, iter:%d] Loss: %.03f | Acc: 4/4: %.2f%% 3/4: %.2f%% 2/4: %.2f%%  1/4: %.2f%%'\n",
    "              ' Ensemble: %.2f%% | DataTime: %.4f(%.4f)s BatchTime: %.4f(%.4f)s' % (epoch + 1, (i + 1 + epoch * length), sum_loss / (i + 1),\n",
    "                                      100 * correct[0] / total, 100 * correct[1] / total,\n",
    "                                      100 * correct[2] / total, 100 * correct[3] / total,\n",
    "                                      100 * correct[4] / total, \n",
    "                                      data_time.val,data_time.avg,batch_time.val,batch_time.avg))\n",
    "\n",
    "    print(\"Waiting Test!\")\n",
    "    with torch.no_grad():\n",
    "        correct = [0 for _ in range(5)]\n",
    "        predicted = [0 for _ in range(5)]\n",
    "        total = 0.0\n",
    "        for data in testloader:\n",
    "            model.eval()\n",
    "            images, labels = data\n",
    "            images, labels = images.to(device), labels.to(device)\n",
    "            outputs, outputs_feature = model(images)\n",
    "            ensemble = sum(outputs) / len(outputs)\n",
    "            outputs.append(ensemble)\n",
    "            for classifier_index in range(len(outputs)):\n",
    "                _, predicted[classifier_index] = torch.max(outputs[classifier_index].data, 1)\n",
    "                correct[classifier_index] += float(predicted[classifier_index].eq(labels.data).cpu().sum())\n",
    "            total += float(labels.size(0))\n",
    "\n",
    "        print('Test Set AccuracyAcc: 4/4: %.4f%% 3/4: %.4f%% 2/4: %.4f%%  1/4: %.4f%%'\n",
    "              ' Ensemble: %.4f%%' % (100 * correct[0] / total, 100 * correct[1] / total,\n",
    "                                     100 * correct[2] / total, 100 * correct[3] / total,\n",
    "                                     100 * correct[4] / total))\n",
    "        if correct[4] / total > best_acc:\n",
    "            best_acc = correct[4]/total\n",
    "            print(\"Best Accuracy Updated: \", best_acc * 100)\n",
    "            save_file_name = f\"./models/{model_name}-cifar100-top1.pth\"\n",
    "            torch.save(model.state_dict(), save_file_name)\n",
    "\n",
    "print(\"Training Finished, Total EPOCH=%d, Best Accuracy=%.3f\" % (epochs, best_acc))\n",
    "\n",
    "# Save the trained parameters to disk\n",
    "# best_loss = np.min(val_loss)\n",
    "# best_metric = np.max(val_metrics）\n",
    "save_file_name = f\"./models/{model_name}-cifar100-top1-{best_acc}.pth\"\n",
    "torch.save(model.state_dict(),save_file_name)\n",
    "print(f\"save model weight to {save_file_name}\")\n",
    "# 关闭文件  \n",
    "sys.stdout.close()  "
   ]
  },
  {
   "cell_type": "code",
   "execution_count": null,
   "id": "66f30af6-5ac4-404f-9267-e76e9cae9eef",
   "metadata": {},
   "outputs": [],
   "source": [
    "import sys\n",
    "# 将程序的输出重定向到文件  \n",
    "file_path = f'./training_logs/{model_name}-on-cifar100-lr-{lr}-wd-{weight_decay}-epoch-{epochs}.txt'  \n",
    "sys.stdout = open(file_path, 'w')\n",
    "\n",
    "# 要输出的内容  \n",
    "for epoch in range(epochs):\n",
    "    # adjust_learning_rate(optim,epoch,steps=[30,60])\n",
    "    print(f\"#################epoch {epoch+1}#################\")\n",
    "    print(\"lr=%.6f \\n\"%(optim.param_groups[0]['lr']))\n",
    "    batch_time[epoch],data_time[epoch],loss[epoch],metric=autoqnn.core.train(trainloader,model,criterion,optim,\n",
    "                       metric_meds=[autoqnn.core.top1],epoch=epoch)\n",
    "    metrics[epoch]=metric[0].item()\n",
    "    \n",
    "    print()\n",
    "    val_loss[epoch],metric = autoqnn.core.validate(testloader,model,criterion,\n",
    "                      metric_meds=[autoqnn.core.top1],\n",
    "                      print_freq=100)\n",
    "    val_metrics[epoch] = metric[0].item()\n",
    "    lr_scheduler.step()\n",
    "\n",
    "# Save the trained parameters to disk\n",
    "best_loss = np.min(val_loss)\n",
    "best_metric = np.max(val_metrics）\n",
    "save_file_name = f\"./models/resnet18-cifar100-loss-{best_loss}-top1-{best_metric}.pth\"\n",
    "torch.save(model.state_dict(),save_file_name)\n",
    "print(f\"save model weight to {save_file_name}\")\n",
    "# 关闭文件  \n",
    "sys.stdout.close()  "
   ]
  },
  {
   "cell_type": "code",
   "execution_count": 16,
   "id": "4b4c1f86",
   "metadata": {},
   "outputs": [
    {
     "data": {
      "image/png": "[encoded data removed]",
      "text/plain": [
       "<Figure size 720x360 with 2 Axes>"
      ]
     },
     "metadata": {},
     "output_type": "display_data"
    }
   ],
   "source": [
    "# draw the training curve\n",
    "from train_utils import display_loss_plot\n",
    "plt.style.use(\"ggplot\")\n",
    "plt.figure(figsize=(10,5))\n",
    "# Plot training loss over epochs\n",
    "loss_per_epoch = [np.mean(loss_per_epoch) for loss_per_epoch in running_loss]\n",
    "plt.subplot(1,2,1)\n",
    "display_loss_plot(loss_per_epoch)\n",
    "# Plot test accuracy over epochs\n",
    "acc_per_epoch = [np.mean(acc_per_epoch) for acc_per_epoch in running_test_acc]\n",
    "plt.subplot(1,2,2)\n",
    "display_loss_plot(acc_per_epoch, title=\"Test accuracy\", ylabel=\"Accuracy [%]\")\n",
    "plt.show()"
   ]
  },
  {
   "cell_type": "code",
   "execution_count": 8,
   "id": "a00e6e4f",
   "metadata": {},
   "outputs": [],
   "source": [
    "# Save the trained parameters to disk\n",
    "torch.save(model.state_dict(), \n",
    "    \"/workspace/notebooks/FSS/models/resnet18-cifar100-SDN-66.14-71.95-76.54-76.82.pth\")"
   ]
  }
 ],
 "metadata": {
  "kernelspec": {
   "display_name": "Python 3 (ipykernel)",
   "language": "python",
   "name": "python3"
  },
  "language_info": {
   "codemirror_mode": {
    "name": "ipython",
    "version": 3
   },
   "file_extension": ".py",
   "mimetype": "text/x-python",
   "name": "python",
   "nbconvert_exporter": "python",
   "pygments_lexer": "ipython3",
   "version": "3.10.11"
  }
 },
 "nbformat": 4,
 "nbformat_minor": 5
}
